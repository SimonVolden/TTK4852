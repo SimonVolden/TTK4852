{
  "cells": [
    {
      "attachments": {},
      "cell_type": "markdown",
      "metadata": {
        "id": "EY4RNVlVmV5b"
      },
      "source": [
        "### Prisma Data Analysis\n",
        "\n",
        "Table of contents: \n",
        "\n",
        "  1. Importing librairies\n",
        "  2. Defining functions\n",
        "  3. Collecting data from file\n",
        "  4. Plotting RGB\n",
        "  5. Creating Pandas Geodataframe\n",
        "  6. Importing Tare data\n"
      ]
    },
    {
      "attachments": {},
      "cell_type": "markdown",
      "metadata": {
        "id": "r4GoTFEvmzKp"
      },
      "source": [
        "**1. Importing librairies**"
      ]
    },
    {
      "cell_type": "code",
      "execution_count": 38,
      "metadata": {
        "id": "adZcDUZEQyBa"
      },
      "outputs": [],
      "source": [
        "import numpy as np\n",
        "import matplotlib.pyplot as plt\n",
        "import pandas as pd\n",
        "import geopandas as gpd\n",
        "from shapely.ops import unary_union\n",
        "from shapely.geometry import box"
      ]
    },
    {
      "attachments": {},
      "cell_type": "markdown",
      "metadata": {
        "id": "qpCrKapvm45M"
      },
      "source": [
        "**2. Defining functions**"
      ]
    },
    {
      "cell_type": "code",
      "execution_count": 39,
      "metadata": {
        "id": "sUr6kLSZWfkw"
      },
      "outputs": [],
      "source": [
        "def normalise(pic):\n",
        "    '''\n",
        "    Input:\n",
        "    pic: array of values we want to normalise\n",
        "    \n",
        "    Output: \n",
        "    new: normalised array\n",
        "    '''\n",
        "    max = pic.max()\n",
        "    min = pic.min()\n",
        "    new = (pic - min)/(max-min)\n",
        "    return new\n",
        "\n",
        "def create_geopandas(data):\n",
        "    '''\n",
        "    Input:\n",
        "    data: Pandas with corrected bands and lat and lon coord per row\n",
        "\n",
        "    Output:\n",
        "    Geodataframe, where each row represents a pixel. band values and geometry.\n",
        "    '''\n",
        "    df_all = gpd.GeoDataFrame(data, geometry=gpd.points_from_xy(data.lon, data.lat))\n",
        "    df_all[\"label\"] = np.zeros(len(data))\n",
        "    return df_all\n",
        "\n",
        "def label(number_of_slices, df_all, seaweed_mask): \n",
        "    '''\n",
        "    Input: \n",
        "        number_of_slices: How many slices do we want. \n",
        "        df_all: Band data from prisma \n",
        "        seaweed_mask: Naturdirektoratet data\n",
        "\n",
        "    Output:\n",
        "\n",
        "    None \n",
        "\n",
        "    '''\n",
        "    lon_min, lat_min, lon_max, lat_max = df_all.total_bounds\n",
        "    dlon = (lon_max-lon_min)/number_of_slices\n",
        "    dlat = (lat_max-lat_min)/number_of_slices\n",
        "    \n",
        "    count = 0 \n",
        "    print(\"count will go up to \" + str(number_of_slices**2))\n",
        "    for i in range(number_of_slices-1):\n",
        "        lat_lower = lat_min + i*dlat\n",
        "        lat_upper = lat_min + (i+1)*dlat\n",
        "        for j in range(number_of_slices-1):\n",
        "            lon_left = lon_min + j*dlon\n",
        "            lon_right = lon_min + (j+1)*dlon\n",
        "            seaweed_current = gpd.clip(seaweed_mask, box(*(lon_left, lat_lower, lon_right, lat_upper)))\n",
        "            print(count)\n",
        "            count+=1\n",
        "            if not seaweed_current.empty:\n",
        "                polygons = unary_union(seaweed_current.geometry)\n",
        "                df_all_current = gpd.clip(df_all, box(*(lon_left, lat_lower, lon_right, lat_upper)))\n",
        "                df_all.loc[df_all_current.index, \"label\"] = df_all_current.geometry.within(polygons).astype(int)\n"
      ]
    },
    {
      "attachments": {},
      "cell_type": "markdown",
      "metadata": {
        "id": "_YVsHz3mnAkM"
      },
      "source": [
        "**3. Collecting data from file**"
      ]
    },
    {
      "cell_type": "code",
      "execution_count": 40,
      "metadata": {
        "id": "1lSbNLHRFEYk"
      },
      "outputs": [],
      "source": [
        "filename = \"..\\data\\df_for_malan3.pickle\"\n",
        "data = pd.read_pickle(filename)"
      ]
    },
    {
      "attachments": {},
      "cell_type": "markdown",
      "metadata": {},
      "source": [
        "**4. Importing Tare data**"
      ]
    },
    {
      "cell_type": "code",
      "execution_count": 5,
      "metadata": {},
      "outputs": [],
      "source": [
        "#Denne cellen tar 1 min 25 sek\n",
        "data_naturdirektoratet = gpd.read_file(\"../data/naturdirektoratet.json\")\n",
        "seaweed = data_naturdirektoratet.copy()\n",
        "seaweed= seaweed.loc[seaweed[\"naturtype\"] == \"størreTareskogforekomster\"]"
      ]
    },
    {
      "attachments": {},
      "cell_type": "markdown",
      "metadata": {
        "id": "5e-FUQJZnRS6"
      },
      "source": [
        "**5. Creating Geopandas**"
      ]
    },
    {
      "cell_type": "code",
      "execution_count": 41,
      "metadata": {
        "id": "BU26vLaTpvzW"
      },
      "outputs": [],
      "source": [
        "#Denne tar 45 sekund å kjøre\n",
        "df_all = create_geopandas(data)"
      ]
    },
    {
      "attachments": {},
      "cell_type": "markdown",
      "metadata": {},
      "source": [
        "**6. Preparing data from Naturdirektoratet** "
      ]
    },
    {
      "cell_type": "code",
      "execution_count": 42,
      "metadata": {},
      "outputs": [
        {
          "data": {
            "text/plain": [
              "<AxesSubplot:>"
            ]
          },
          "execution_count": 42,
          "metadata": {},
          "output_type": "execute_result"
        },
        {
          "data": {
            "image/png": "[encoded data removed]",
            "text/plain": [
              "<Figure size 640x480 with 1 Axes>"
            ]
          },
          "metadata": {},
          "output_type": "display_data"
        }
      ],
      "source": [
        "seaweed_mask= gpd.clip(seaweed, box(*df_all.total_bounds))\n",
        "ax = df_all.plot()\n",
        "seaweed_mask.plot(ax = ax, color = \"red\")"
      ]
    },
    {
      "attachments": {},
      "cell_type": "markdown",
      "metadata": {
        "id": "b1K7NMi2vPPp"
      },
      "source": [
        "**7. Labelling the data**"
      ]
    },
    {
      "cell_type": "code",
      "execution_count": 43,
      "metadata": {},
      "outputs": [
        {
          "name": "stdout",
          "output_type": "stream",
          "text": [
            "count will go up to 100\n",
            "0\n",
            "1\n",
            "2\n",
            "3\n",
            "4\n",
            "5\n",
            "6\n",
            "7\n",
            "8\n",
            "9\n",
            "10\n",
            "11\n",
            "12\n",
            "13\n",
            "14\n",
            "15\n",
            "16\n",
            "17\n",
            "18\n",
            "19\n",
            "20\n",
            "21\n",
            "22\n",
            "23\n",
            "24\n",
            "25\n",
            "26\n",
            "27\n",
            "28\n",
            "29\n",
            "30\n",
            "31\n",
            "32\n",
            "33\n",
            "34\n",
            "35\n",
            "36\n",
            "37\n",
            "38\n",
            "39\n",
            "40\n",
            "41\n",
            "42\n",
            "43\n",
            "44\n",
            "45\n",
            "46\n",
            "47\n",
            "48\n",
            "49\n",
            "50\n",
            "51\n",
            "52\n",
            "53\n",
            "54\n",
            "55\n",
            "56\n",
            "57\n",
            "58\n",
            "59\n",
            "60\n",
            "61\n",
            "62\n",
            "63\n",
            "64\n",
            "65\n",
            "66\n",
            "67\n",
            "68\n",
            "69\n",
            "70\n",
            "71\n",
            "72\n",
            "73\n",
            "74\n",
            "75\n",
            "76\n",
            "77\n",
            "78\n",
            "79\n",
            "80\n"
          ]
        }
      ],
      "source": [
        "#Denne tar sånn 10 min å kjøre\n",
        "number_of_slice = 10\n",
        "label(number_of_slice, df_all, seaweed)"
      ]
    },
    {
      "attachments": {},
      "cell_type": "markdown",
      "metadata": {},
      "source": [
        "**8.Checking wether everything is correct**"
      ]
    },
    {
      "cell_type": "code",
      "execution_count": 44,
      "metadata": {
        "colab": {
          "base_uri": "https://localhost:8080/",
          "height": 131
        },
        "id": "leOViT1zgWdI",
        "outputId": "7669944b-e3b4-498e-fd53-4b924abd1e26"
      },
      "outputs": [
        {
          "data": {
            "text/plain": [
              "Text(88.36066711210601, 0.5, 'lat')"
            ]
          },
          "execution_count": 44,
          "metadata": {},
          "output_type": "execute_result"
        },
        {
          "data": {
            "image/png": "[encoded data removed]",
            "text/plain": [
              "<Figure size 640x480 with 1 Axes>"
            ]
          },
          "metadata": {},
          "output_type": "display_data"
        }
      ],
      "source": [
        "df_all_true = df_all[df_all[\"label\"] == True].copy()\n",
        "fig, ax = plt.subplots()\n",
        "df_all_true.plot(ax = ax, color = \"blue\")\n",
        "seaweed_mask.plot(ax = ax, color = \"red\")\n",
        "ax.set_title(\"Labelling Prisma data\")\n",
        "ax.set_xlabel(\"lon\")\n",
        "ax.set_ylabel(\"lat\")\n"
      ]
    },
    {
      "attachments": {},
      "cell_type": "markdown",
      "metadata": {},
      "source": [
        "**9.Creating csv files**"
      ]
    },
    {
      "cell_type": "code",
      "execution_count": 45,
      "metadata": {},
      "outputs": [],
      "source": [
        "df_all.to_csv(\"..\\data\\df_all.csv\")"
      ]
    },
    {
      "cell_type": "code",
      "execution_count": null,
      "metadata": {},
      "outputs": [],
      "source": []
    }
  ],
  "metadata": {
    "colab": {
      "provenance": []
    },
    "kernelspec": {
      "display_name": "Python 3",
      "language": "python",
      "name": "python3"
    },
    "language_info": {
      "codemirror_mode": {
        "name": "ipython",
        "version": 3
      },
      "file_extension": ".py",
      "mimetype": "text/x-python",
      "name": "python",
      "nbconvert_exporter": "python",
      "pygments_lexer": "ipython3",
      "version": "3.10.6"
    },
    "vscode": {
      "interpreter": {
        "hash": "26de051ba29f2982a8de78e945f0abaf191376122a1563185a90213a26c5da77"
      }
    }
  },
  "nbformat": 4,
  "nbformat_minor": 0
}
