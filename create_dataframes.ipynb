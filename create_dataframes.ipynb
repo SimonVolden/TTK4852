{
 "cells": [
  {
   "cell_type": "code",
   "execution_count": 4,
   "metadata": {},
   "outputs": [],
   "source": [
    "import os\n",
    "import matplotlib as mpl\n",
    "import matplotlib.pyplot as plt\n",
    "#from mpl_toolkits.basemap import Basemap\n",
    "import numpy as np\n",
    "import h5py\n",
    "import pandas as pd\n",
    "import cartopy.crs as ccrs\n",
    "import geopandas as gpd\n",
    "from shapely.geometry import Point\n",
    "\n",
    "import rasterio\n",
    "import tables as tab\n",
    "import tqdm.notebook as tqdm\n",
    "from skimage.transform import  AffineTransform\n",
    "from rasterio.transform import Affine\n",
    "from skimage.measure import ransac\n",
    "from skimage.color import rgb2gray\n",
    "from skimage.feature import match_descriptors, SIFT\n",
    "from PIL import Image\n",
    "import re\n",
    "import math, requests\n",
    "import io\n",
    "import tqdm\n",
    "import sys\n",
    "\n",
    "\n",
    "\n",
    "from PRISMA_georeference import GoogleMapDownloader, GoogleMapsLayers, pixel_to_latlon, latlon_to_pix, prisma_2_tiff, match_subblocks"
   ]
  },
  {
   "cell_type": "code",
   "execution_count": 5,
   "metadata": {},
   "outputs": [],
   "source": [
    "MATCHING_CUTOFF = 0.7\n",
    "SEP_CUTOFF = 0.01\n",
    "\n",
    "def adjust_lat_lon(path_to_PRISMA_file, outpath=\"\", band_for_rgb = 20):\n",
    "    '''\n",
    "    path_to_PRISMA_file - should be the full path so that re works\n",
    "    '''\n",
    "    zoom_level = 11\n",
    "    tile_width = 7\n",
    "    tile_height = 7\n",
    "    \n",
    "    \n",
    "    metrics = {}\n",
    "    print(\"# 1 create .tif file\")\n",
    "    tiff_output = outpath + '.tif'\n",
    "    mean_lat, mean_lon = prisma_2_tiff(path_to_PRISMA_file, tiff_output, band_for_rgb)\n",
    "    \n",
    "    print(\"# 2 Download gmaps for the same location\")\n",
    "    gmd = GoogleMapDownloader(mean_lat, mean_lon, zoom_level,\n",
    "                              GoogleMapsLayers.SATELLITE)\n",
    "    img, tile_coords_corner = gmd.generateImage(tile_width=tile_width,\n",
    "                                                tile_height=tile_height)\n",
    "    \n",
    "    print(\" 3 Determine matched features in PRISMA image to gMaps image with SIFT\")\n",
    "    tif_coords, gmaps_coords, nmatches = \\\n",
    "        match_subblocks(tiff_output, tile_coords_corner, img, cutoff=MATCHING_CUTOFF)\n",
    "    metrics['n_matches'] = nmatches\n",
    "    del img\n",
    "    \n",
    "    orig_errs = np.sqrt(np.sum((tif_coords-gmaps_coords)**2, axis=1))\n",
    "    metrics['orig_mean_error'] = orig_errs.mean()\n",
    "    \n",
    "    keep = orig_errs < SEP_CUTOFF\n",
    "    src = np.array(tif_coords[keep])\n",
    "    dst = np.array(gmaps_coords[keep])\n",
    "    \n",
    "    \n",
    "    print(\" 4 Define mapping between PRISMA LatLon and gMaps latlon\")\n",
    "    mapping, inliers = ransac((src, dst), AffineTransform, min_samples=4,\n",
    "                               residual_threshold=0.002, max_trials=100)\n",
    "    new_errs = np.sqrt(np.sum((mapping(src)-dst)**2, axis=1))\n",
    "    metrics['new_mean_error'] = new_errs.mean()\n",
    "    \n",
    "    n_outliers = np.sum(~inliers)\n",
    "    metrics['n_outliers'] = n_outliers\n",
    "    \n",
    "    print(\" 5 Map PRISMA Latlons to gMaps latlons (ransac affine) and save for reference\")\n",
    "    orig = rasterio.open(tiff_output)\n",
    "    adjusted_latlon = mapping(np.vstack([orig.read(2).flatten(),\n",
    "                                        orig.read(3).flatten()]).transpose())\n",
    "    orig.close()\n",
    "    adjusted_latlon = adjusted_latlon.reshape((1000,1000,2))\n",
    "    #np.savez(outpath + \"_adjll.npz\", adjusted_latlon = adjusted_latlon)\n",
    "    np.save(outpath + \".npy\", adjusted_latlon)\n",
    "    return adjusted_latlon, metrics"
   ]
  },
  {
   "cell_type": "code",
   "execution_count": 6,
   "metadata": {},
   "outputs": [
    {
     "name": "stdout",
     "output_type": "stream",
     "text": [
      "# 1 create .tif file\n",
      "# 2 Download gmaps for the same location\n",
      "Image size (pix):  (1792, 1792)\n",
      "Tile coordinate top left (north-west) corner: 1048,568\n",
      " 3 Determine matched features in PRISMA image to gMaps image with SIFT\n"
     ]
    },
    {
     "name": "stderr",
     "output_type": "stream",
     "text": [
      "100%|██████████| 81/81 [00:20<00:00,  4.03it/s]\n"
     ]
    },
    {
     "name": "stdout",
     "output_type": "stream",
     "text": [
      " 4 Define mapping between PRISMA LatLon and gMaps latlon\n",
      " 5 Map PRISMA Latlons to gMaps latlons (ransac affine) and save for reference\n"
     ]
    }
   ],
   "source": [
    "dir_path = r\"C:\\Users\\simon\\Documents\\Skole\\EIT\\Tare_Naturbase\"\n",
    "prisma_path = \"HyperSpectral4.he5\"\n",
    "prisma_path = dir_path + \"/\" + prisma_path\n",
    "outpath = \"out/band_550\"\n",
    "\n",
    "adjusted = adjust_lat_lon(prisma_path, outpath, band_for_rgb=15)"
   ]
  },
  {
   "cell_type": "code",
   "execution_count": 7,
   "metadata": {},
   "outputs": [
    {
     "name": "stdout",
     "output_type": "stream",
     "text": [
      "(1000, 66, 1000)\n",
      "(1000, 1000)\n",
      "(1000, 1000)\n"
     ]
    }
   ],
   "source": [
    "file1 = tab.open_file(prisma_path)\n",
    "d2 = file1.get_node(\"/HDFEOS/SWATHS/PRS_L1_HRC/\")\n",
    "latv = np.array(d2['Geolocation Fields']['Latitude_VNIR'])\n",
    "lonv = np.array(d2['Geolocation Fields']['Longitude_VNIR'])\n",
    "vnir = np.array(d2['Data Fields']['VNIR_Cube'])\n",
    "print(vnir.shape)\n",
    "print(latv.shape)\n",
    "print(lonv.shape)\n",
    "file1.close()"
   ]
  },
  {
   "cell_type": "code",
   "execution_count": 8,
   "metadata": {},
   "outputs": [],
   "source": [
    "adjusted_lats = adjusted[0][:, :, 0]\n",
    "adjusted_lons = adjusted[0][:, :, 1]"
   ]
  },
  {
   "cell_type": "code",
   "execution_count": 9,
   "metadata": {},
   "outputs": [],
   "source": [
    "columns = []\n",
    "for i in range(66):\n",
    "    columns.append(f\"band_{i}\")\n",
    "columns.append(\"lat\")\n",
    "columns.append(\"lon\")"
   ]
  },
  {
   "cell_type": "code",
   "execution_count": 10,
   "metadata": {},
   "outputs": [],
   "source": [
    "df = pd.DataFrame()"
   ]
  },
  {
   "cell_type": "code",
   "execution_count": 11,
   "metadata": {},
   "outputs": [
    {
     "name": "stdout",
     "output_type": "stream",
     "text": [
      "0\n",
      "1\n",
      "2\n",
      "3\n",
      "4\n",
      "5\n",
      "6\n",
      "7\n",
      "8\n",
      "9\n",
      "10\n",
      "11\n",
      "12\n",
      "13\n",
      "14\n",
      "15\n",
      "16\n",
      "17\n",
      "18\n",
      "19\n",
      "20\n",
      "21\n",
      "22\n",
      "23\n",
      "24\n",
      "25\n",
      "26\n",
      "27\n",
      "28\n",
      "29\n",
      "30\n",
      "31\n",
      "32\n",
      "33\n",
      "34\n",
      "35\n",
      "36\n",
      "37\n",
      "38\n",
      "39\n",
      "40\n",
      "41\n",
      "42\n",
      "43\n",
      "44\n",
      "45\n",
      "46\n",
      "47\n",
      "48\n",
      "49\n",
      "50\n",
      "51\n",
      "52\n",
      "53\n",
      "54\n",
      "55\n",
      "56\n",
      "57\n",
      "58\n",
      "59\n",
      "60\n",
      "61\n",
      "62\n",
      "63\n",
      "64\n",
      "65\n"
     ]
    }
   ],
   "source": [
    "for i, band in enumerate(columns[:-2]):\n",
    "    print(i)\n",
    "    df[band] = vnir[:, i, :].flatten()"
   ]
  },
  {
   "cell_type": "code",
   "execution_count": 12,
   "metadata": {},
   "outputs": [
    {
     "name": "stderr",
     "output_type": "stream",
     "text": [
      "C:\\Users\\simon\\AppData\\Local\\Temp\\ipykernel_18044\\2717399918.py:1: UserWarning: Pandas doesn't allow columns to be created via a new attribute name - see https://pandas.pydata.org/pandas-docs/stable/indexing.html#attribute-access\n",
      "  df.lat = adjusted_lats\n",
      "C:\\Users\\simon\\AppData\\Local\\Temp\\ipykernel_18044\\2717399918.py:2: UserWarning: Pandas doesn't allow columns to be created via a new attribute name - see https://pandas.pydata.org/pandas-docs/stable/indexing.html#attribute-access\n",
      "  df.lon = adjusted_lons\n"
     ]
    }
   ],
   "source": [
    "df.lat = adjusted_lats\n",
    "df.lon = adjusted_lons"
   ]
  },
  {
   "cell_type": "code",
   "execution_count": 13,
   "metadata": {},
   "outputs": [],
   "source": [
    "df.to_pickle(\"df_for_malan.pickle\")"
   ]
  },
  {
   "cell_type": "code",
   "execution_count": null,
   "metadata": {},
   "outputs": [],
   "source": []
  }
 ],
 "metadata": {
  "kernelspec": {
   "display_name": "base",
   "language": "python",
   "name": "python3"
  },
  "language_info": {
   "codemirror_mode": {
    "name": "ipython",
    "version": 3
   },
   "file_extension": ".py",
   "mimetype": "text/x-python",
   "name": "python",
   "nbconvert_exporter": "python",
   "pygments_lexer": "ipython3",
   "version": "3.9.13"
  },
  "orig_nbformat": 4
 },
 "nbformat": 4,
 "nbformat_minor": 2
}
