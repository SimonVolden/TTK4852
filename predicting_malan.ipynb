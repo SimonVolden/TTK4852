{
 "cells": [
  {
   "cell_type": "markdown",
   "metadata": {},
   "source": [
    "## Predicting"
   ]
  },
  {
   "attachments": {},
   "cell_type": "markdown",
   "metadata": {},
   "source": [
    "**Importing librairies**\n"
   ]
  },
  {
   "cell_type": "code",
   "execution_count": 1,
   "metadata": {},
   "outputs": [],
   "source": [
    "from sklearn.linear_model import SGDClassifier\n",
    "from sklearn.preprocessing import StandardScaler\n",
    "import pandas as pd\n",
    "from sklearn.model_selection import train_test_split\n",
    "from sklearn.metrics import accuracy_score\n",
    "import numpy as np\n",
    "import matplotlib.pyplot as plt\n",
    "\n",
    "\n",
    "from sklearn.utils.class_weight import compute_class_weight\n",
    "from sklearn.metrics import confusion_matrix\n",
    "from sklearn.model_selection import StratifiedShuffleSplit\n",
    "from imblearn.keras import BalancedBatchGenerator\n",
    "from imblearn.under_sampling import NearMiss\n",
    "\n",
    "import warnings\n",
    "warnings.filterwarnings('ignore')\n",
    "from sklearn.utils import shuffle\n",
    "import geopandas as gpd\n"
   ]
  },
  {
   "attachments": {},
   "cell_type": "markdown",
   "metadata": {},
   "source": [
    "https://medium.com/digital-catapult/dealing-with-imbalanced-data-8b21e6deb6cd"
   ]
  },
  {
   "attachments": {},
   "cell_type": "markdown",
   "metadata": {},
   "source": [
    "**Importing data**"
   ]
  },
  {
   "cell_type": "code",
   "execution_count": 2,
   "metadata": {},
   "outputs": [],
   "source": [
    "filename_1 = \"..\\data\\_tarefelt1.csv\"\n",
    "filename_2 = \"..\\data\\_tarefelt2.csv\"\n",
    "filename_3 = \"..\\data\\_tarefelt3.csv\""
   ]
  },
  {
   "cell_type": "code",
   "execution_count": 3,
   "metadata": {},
   "outputs": [
    {
     "data": {
      "text/plain": [
       "'\\nX_train, X_test ,y_train, y_test = train_test_split( X, y, test_size=0.10, random_state = 42)\\n\\nlat, lon = X.drop(columns = \"lat\"), X.drop(columns =  \"lon\") \\ny = X.label\\n\\n'"
      ]
     },
     "execution_count": 3,
     "metadata": {},
     "output_type": "execute_result"
    }
   ],
   "source": [
    "data_1 = pd.read_csv(filename_1)\n",
    "data_2 = pd.read_csv(filename_2)\n",
    "data_3 = pd.read_csv(filename_3)\n",
    "\n",
    "X =  pd.concat([data_1, data_2, data_3])"
   ]
  },
  {
   "attachments": {},
   "cell_type": "markdown",
   "metadata": {},
   "source": [
    "**Splitting data**\n",
    "\n",
    "Creating balanced datasets using stratified shuffle split"
   ]
  },
  {
   "cell_type": "code",
   "execution_count": 17,
   "metadata": {},
   "outputs": [
    {
     "name": "stdout",
     "output_type": "stream",
     "text": [
      "Fold 0:\n",
      "  Train: index=[2572691 1311439 1299395 ... 2998718  570150  512059]\n",
      "  Test:  index=[ 461387 2301546  469403 ... 2798718 2431466  634462]\n"
     ]
    }
   ],
   "source": [
    "sss = StratifiedShuffleSplit(n_splits=1, test_size=0.1, random_state=0)\n",
    "\n",
    "for i, (train_index, test_index) in enumerate(sss.split(X, X.label)):\n",
    "    print(f\"Fold {i}:\")\n",
    "    print(f\"  Train: index={train_index}\")\n",
    "    print(f\"  Test:  index={test_index}\")\n",
    "    \n",
    "    X_train = X.iloc[train_index]\n",
    "    X_test = X.iloc[test_index]\n"
   ]
  },
  {
   "attachments": {},
   "cell_type": "markdown",
   "metadata": {},
   "source": [
    "**Feature extracting**"
   ]
  },
  {
   "cell_type": "code",
   "execution_count": 18,
   "metadata": {},
   "outputs": [],
   "source": [
    "y_train = X_train.label\n",
    "X_train.drop(columns = ['lat','lon', 'geometry', 'label'], inplace = True)"
   ]
  },
  {
   "cell_type": "code",
   "execution_count": 19,
   "metadata": {},
   "outputs": [],
   "source": [
    "lat = X_test.lat\n",
    "lon = X_test.lon\n",
    "y_test = X_test.label\n",
    "X_test.drop(columns = ['lat','lon', 'geometry', 'label'], inplace = True)"
   ]
  },
  {
   "attachments": {},
   "cell_type": "markdown",
   "metadata": {},
   "source": [
    "**Standarscaling**\n"
   ]
  },
  {
   "cell_type": "code",
   "execution_count": 20,
   "metadata": {},
   "outputs": [],
   "source": [
    "scaler = StandardScaler()\n",
    "scaler.fit(X_train) \n",
    "scaled_X_train = scaler.transform(X_train)\n",
    "X_train = pd.DataFrame(scaled_X_train, index= X_train.index, columns=X_train.columns)\n",
    "scaled_X_test = scaler.transform(X_test)\n",
    "X_test  = pd.DataFrame(scaled_X_test, index= X_test.index, columns=X_test.columns)"
   ]
  },
  {
   "attachments": {},
   "cell_type": "markdown",
   "metadata": {},
   "source": [
    "**Training the model**  \n"
   ]
  },
  {
   "cell_type": "code",
   "execution_count": 21,
   "metadata": {},
   "outputs": [],
   "source": [
    "def batch(iterable_X, iterable_y, n=1):\n",
    "    '''\n",
    "    n: batchsize\n",
    "    \n",
    "    '''\n",
    "    l = len(iterable_X)\n",
    "    for ndx in range(0, l, n):\n",
    "        yield iterable_X[ndx:min(ndx + n, l)], iterable_y[ndx:min(ndx + n, l)]\n"
   ]
  },
  {
   "cell_type": "code",
   "execution_count": 23,
   "metadata": {},
   "outputs": [
    {
     "name": "stdout",
     "output_type": "stream",
     "text": [
      "Fold 0:\n",
      "  Train: index=[ 793660  590401   12166 ...  924143 1365328 1426408]\n",
      "  Test:  index=[ 490848 2116977 1604013 ... 1752762 2006707 1064506]\n",
      "0\n",
      "-- Epoch 1\n",
      "Norm: 260.32, NNZs: 64, Bias: -189.805838, T: 10000, Avg. loss: 242.976882\n",
      "Total training time: 0.01 seconds.\n",
      "1\n",
      "-- Epoch 1\n",
      "Norm: 161.60, NNZs: 64, Bias: -138.089422, T: 10000, Avg. loss: 64.859205\n",
      "Total training time: 0.00 seconds.\n",
      "2\n",
      "-- Epoch 1\n",
      "Norm: 111.33, NNZs: 64, Bias: -67.520030, T: 10000, Avg. loss: 34.142311\n",
      "Total training time: 0.01 seconds.\n",
      "3\n",
      "-- Epoch 1\n",
      "Norm: 94.07, NNZs: 64, Bias: -61.861249, T: 10000, Avg. loss: 24.146712\n",
      "Total training time: 0.01 seconds.\n",
      "4\n",
      "-- Epoch 1\n",
      "Norm: 87.56, NNZs: 64, Bias: -63.109485, T: 10000, Avg. loss: 18.415926\n",
      "Total training time: 0.01 seconds.\n",
      "5\n",
      "-- Epoch 1\n",
      "Norm: 84.09, NNZs: 63, Bias: -75.978930, T: 10000, Avg. loss: 13.506381\n",
      "Total training time: 0.01 seconds.\n",
      "6\n",
      "-- Epoch 1\n",
      "Norm: 77.38, NNZs: 64, Bias: -55.611331, T: 10000, Avg. loss: 9.726519\n",
      "Total training time: 0.01 seconds.\n",
      "7\n",
      "-- Epoch 1\n",
      "Norm: 68.28, NNZs: 64, Bias: -51.423084, T: 10000, Avg. loss: 8.457996\n",
      "Total training time: 0.01 seconds.\n",
      "8\n",
      "-- Epoch 1\n",
      "Norm: 55.15, NNZs: 64, Bias: -41.727315, T: 10000, Avg. loss: 7.238394\n",
      "Total training time: 0.01 seconds.\n",
      "9\n",
      "-- Epoch 1\n",
      "Norm: 50.18, NNZs: 63, Bias: -35.348754, T: 10000, Avg. loss: 7.465896\n",
      "Total training time: 0.01 seconds.\n",
      "10\n",
      "-- Epoch 1\n",
      "Norm: 48.64, NNZs: 64, Bias: -36.118164, T: 10000, Avg. loss: 5.988902\n",
      "Total training time: 0.01 seconds.\n",
      "11\n",
      "-- Epoch 1\n",
      "Norm: 52.05, NNZs: 64, Bias: -25.985098, T: 10000, Avg. loss: 6.425058\n",
      "Total training time: 0.01 seconds.\n",
      "12\n",
      "-- Epoch 1\n",
      "Norm: 43.79, NNZs: 64, Bias: -31.078364, T: 10000, Avg. loss: 5.551649\n",
      "Total training time: 0.01 seconds.\n",
      "13\n",
      "-- Epoch 1\n",
      "Norm: 41.43, NNZs: 63, Bias: -27.525482, T: 10000, Avg. loss: 4.979333\n",
      "Total training time: 0.01 seconds.\n",
      "14\n",
      "-- Epoch 1\n",
      "Norm: 38.70, NNZs: 64, Bias: -26.236866, T: 10000, Avg. loss: 3.736709\n",
      "Total training time: 0.01 seconds.\n",
      "15\n",
      "-- Epoch 1\n",
      "Norm: 36.58, NNZs: 64, Bias: -24.282814, T: 10000, Avg. loss: 4.297306\n",
      "Total training time: 0.01 seconds.\n",
      "16\n",
      "-- Epoch 1\n",
      "Norm: 30.41, NNZs: 64, Bias: -11.308230, T: 10000, Avg. loss: 4.579480\n",
      "Total training time: 0.00 seconds.\n",
      "17\n",
      "-- Epoch 1\n",
      "Norm: 27.14, NNZs: 64, Bias: -13.062610, T: 10000, Avg. loss: 4.556165\n",
      "Total training time: 0.01 seconds.\n",
      "18\n",
      "-- Epoch 1\n",
      "Norm: 24.97, NNZs: 64, Bias: -13.072657, T: 10000, Avg. loss: 3.427891\n",
      "Total training time: 0.01 seconds.\n",
      "19\n",
      "-- Epoch 1\n",
      "Norm: 25.40, NNZs: 64, Bias: -11.628557, T: 10000, Avg. loss: 3.008592\n",
      "Total training time: 0.01 seconds.\n",
      "20\n",
      "-- Epoch 1\n",
      "Norm: 26.76, NNZs: 64, Bias: -12.588994, T: 10000, Avg. loss: 3.284964\n",
      "Total training time: 0.00 seconds.\n",
      "21\n",
      "-- Epoch 1\n",
      "Norm: 25.66, NNZs: 64, Bias: -11.836380, T: 10000, Avg. loss: 2.861127\n",
      "Total training time: 0.01 seconds.\n",
      "22\n",
      "-- Epoch 1\n",
      "Norm: 24.19, NNZs: 63, Bias: -9.521253, T: 10000, Avg. loss: 2.522363\n",
      "Total training time: 0.01 seconds.\n",
      "23\n",
      "-- Epoch 1\n",
      "Norm: 24.03, NNZs: 63, Bias: -12.424412, T: 10000, Avg. loss: 2.850072\n",
      "Total training time: 0.01 seconds.\n",
      "24\n",
      "-- Epoch 1\n",
      "Norm: 25.11, NNZs: 64, Bias: -11.422838, T: 10000, Avg. loss: 2.306060\n",
      "Total training time: 0.01 seconds.\n",
      "25\n",
      "-- Epoch 1\n",
      "Norm: 24.70, NNZs: 63, Bias: -13.651431, T: 10000, Avg. loss: 2.226564\n",
      "Total training time: 0.01 seconds.\n",
      "26\n",
      "-- Epoch 1\n",
      "Norm: 23.95, NNZs: 64, Bias: -11.813740, T: 10000, Avg. loss: 2.102142\n",
      "Total training time: 0.00 seconds.\n",
      "27\n",
      "-- Epoch 1\n",
      "Norm: 21.14, NNZs: 64, Bias: -9.407564, T: 10000, Avg. loss: 3.831892\n",
      "Total training time: 0.00 seconds.\n",
      "28\n",
      "-- Epoch 1\n",
      "Norm: 20.45, NNZs: 64, Bias: -10.668043, T: 10000, Avg. loss: 1.814647\n",
      "Total training time: 0.01 seconds.\n",
      "29\n",
      "-- Epoch 1\n",
      "Norm: 22.03, NNZs: 64, Bias: -9.187853, T: 10000, Avg. loss: 1.938969\n",
      "Total training time: 0.01 seconds.\n",
      "30\n",
      "-- Epoch 1\n",
      "Norm: 20.70, NNZs: 64, Bias: -8.590263, T: 10000, Avg. loss: 1.988959\n",
      "Total training time: 0.01 seconds.\n",
      "31\n",
      "-- Epoch 1\n",
      "Norm: 21.22, NNZs: 64, Bias: -6.986478, T: 10000, Avg. loss: 1.911602\n",
      "Total training time: 0.01 seconds.\n",
      "32\n",
      "-- Epoch 1\n",
      "Norm: 20.19, NNZs: 64, Bias: -9.279564, T: 10000, Avg. loss: 1.389137\n",
      "Total training time: 0.00 seconds.\n",
      "33\n",
      "-- Epoch 1\n",
      "Norm: 19.91, NNZs: 64, Bias: -9.028167, T: 10000, Avg. loss: 1.659835\n",
      "Total training time: 0.00 seconds.\n",
      "34\n",
      "-- Epoch 1\n",
      "Norm: 20.13, NNZs: 64, Bias: -6.439062, T: 10000, Avg. loss: 1.705796\n",
      "Total training time: 0.01 seconds.\n",
      "35\n",
      "-- Epoch 1\n",
      "Norm: 19.16, NNZs: 64, Bias: -5.048283, T: 10000, Avg. loss: 2.626800\n",
      "Total training time: 0.01 seconds.\n",
      "36\n",
      "-- Epoch 1\n",
      "Norm: 18.87, NNZs: 64, Bias: -7.510512, T: 10000, Avg. loss: 1.438861\n",
      "Total training time: 0.01 seconds.\n",
      "37\n",
      "-- Epoch 1\n",
      "Norm: 19.49, NNZs: 64, Bias: -6.749972, T: 10000, Avg. loss: 1.474827\n",
      "Total training time: 0.01 seconds.\n",
      "38\n",
      "-- Epoch 1\n",
      "Norm: 18.27, NNZs: 64, Bias: -5.957394, T: 10000, Avg. loss: 2.354164\n",
      "Total training time: 0.00 seconds.\n",
      "39\n",
      "-- Epoch 1\n",
      "Norm: 18.20, NNZs: 64, Bias: -5.529215, T: 10000, Avg. loss: 1.327331\n",
      "Total training time: 0.01 seconds.\n",
      "40\n",
      "-- Epoch 1\n",
      "Norm: 18.54, NNZs: 64, Bias: -6.416325, T: 10000, Avg. loss: 1.396502\n",
      "Total training time: 0.01 seconds.\n",
      "41\n",
      "-- Epoch 1\n",
      "Norm: 17.75, NNZs: 64, Bias: -5.982403, T: 10000, Avg. loss: 1.569544\n",
      "Total training time: 0.01 seconds.\n",
      "42\n",
      "-- Epoch 1\n",
      "Norm: 17.35, NNZs: 64, Bias: -5.803695, T: 10000, Avg. loss: 1.998893\n",
      "Total training time: 0.01 seconds.\n",
      "43\n",
      "-- Epoch 1\n",
      "Norm: 17.58, NNZs: 64, Bias: -6.512226, T: 10000, Avg. loss: 1.780879\n",
      "Total training time: 0.00 seconds.\n",
      "44\n",
      "-- Epoch 1\n",
      "Norm: 17.73, NNZs: 64, Bias: -5.423140, T: 10000, Avg. loss: 1.543568\n",
      "Total training time: 0.01 seconds.\n",
      "45\n",
      "-- Epoch 1\n",
      "Norm: 17.91, NNZs: 64, Bias: -4.772116, T: 10000, Avg. loss: 2.168933\n",
      "Total training time: 0.01 seconds.\n",
      "46\n",
      "-- Epoch 1\n",
      "Norm: 17.31, NNZs: 64, Bias: -5.675003, T: 10000, Avg. loss: 1.620265\n",
      "Total training time: 0.01 seconds.\n",
      "47\n",
      "-- Epoch 1\n",
      "Norm: 17.62, NNZs: 64, Bias: -5.496271, T: 10000, Avg. loss: 1.023410\n",
      "Total training time: 0.01 seconds.\n",
      "48\n",
      "-- Epoch 1\n",
      "Norm: 17.53, NNZs: 64, Bias: -4.406172, T: 10000, Avg. loss: 1.240953\n",
      "Total training time: 0.01 seconds.\n",
      "49\n",
      "-- Epoch 1\n",
      "Norm: 17.15, NNZs: 64, Bias: -5.180466, T: 10000, Avg. loss: 1.029741\n",
      "Total training time: 0.01 seconds.\n",
      "50\n",
      "-- Epoch 1\n",
      "Norm: 16.71, NNZs: 64, Bias: -4.676224, T: 10000, Avg. loss: 1.020759\n",
      "Total training time: 0.01 seconds.\n",
      "51\n",
      "-- Epoch 1\n",
      "Norm: 16.30, NNZs: 64, Bias: -5.293193, T: 10000, Avg. loss: 1.338577\n",
      "Total training time: 0.01 seconds.\n",
      "52\n",
      "-- Epoch 1\n",
      "Norm: 16.58, NNZs: 64, Bias: -4.974953, T: 10000, Avg. loss: 1.006945\n",
      "Total training time: 0.00 seconds.\n",
      "53\n",
      "-- Epoch 1\n",
      "Norm: 16.67, NNZs: 64, Bias: -6.689141, T: 10000, Avg. loss: 0.947023\n",
      "Total training time: 0.01 seconds.\n",
      "54\n",
      "-- Epoch 1\n",
      "Norm: 16.72, NNZs: 64, Bias: -5.383434, T: 10000, Avg. loss: 0.902228\n",
      "Total training time: 0.01 seconds.\n",
      "55\n",
      "-- Epoch 1\n",
      "Norm: 16.36, NNZs: 63, Bias: -5.003000, T: 10000, Avg. loss: 1.174955\n",
      "Total training time: 0.01 seconds.\n",
      "56\n",
      "-- Epoch 1\n",
      "Norm: 16.73, NNZs: 64, Bias: -5.159129, T: 10000, Avg. loss: 1.044125\n",
      "Total training time: 0.01 seconds.\n",
      "57\n",
      "-- Epoch 1\n",
      "Norm: 16.27, NNZs: 64, Bias: -4.439599, T: 10000, Avg. loss: 1.854002\n",
      "Total training time: 0.01 seconds.\n",
      "58\n",
      "-- Epoch 1\n",
      "Norm: 16.19, NNZs: 64, Bias: -4.587163, T: 10000, Avg. loss: 0.886764\n",
      "Total training time: 0.01 seconds.\n",
      "59\n",
      "-- Epoch 1\n",
      "Norm: 16.33, NNZs: 64, Bias: -4.103225, T: 10000, Avg. loss: 1.582532\n",
      "Total training time: 0.01 seconds.\n",
      "60\n",
      "-- Epoch 1\n",
      "Norm: 16.75, NNZs: 64, Bias: -4.618639, T: 10000, Avg. loss: 0.911715\n",
      "Total training time: 0.00 seconds.\n",
      "61\n",
      "-- Epoch 1\n",
      "Norm: 16.22, NNZs: 64, Bias: -4.325144, T: 10000, Avg. loss: 1.009785\n",
      "Total training time: 0.00 seconds.\n",
      "62\n",
      "-- Epoch 1\n",
      "Norm: 16.18, NNZs: 64, Bias: -5.406487, T: 10000, Avg. loss: 0.702357\n",
      "Total training time: 0.01 seconds.\n",
      "63\n",
      "-- Epoch 1\n",
      "Norm: 15.72, NNZs: 64, Bias: -4.429084, T: 10000, Avg. loss: 1.305540\n",
      "Total training time: 0.01 seconds.\n",
      "64\n",
      "-- Epoch 1\n",
      "Norm: 15.52, NNZs: 64, Bias: -4.350899, T: 10000, Avg. loss: 1.342122\n",
      "Total training time: 0.01 seconds.\n",
      "65\n",
      "-- Epoch 1\n",
      "Norm: 15.78, NNZs: 64, Bias: -4.154272, T: 10000, Avg. loss: 0.865659\n",
      "Total training time: 0.01 seconds.\n",
      "66\n",
      "-- Epoch 1\n",
      "Norm: 15.71, NNZs: 64, Bias: -3.810498, T: 10000, Avg. loss: 0.813233\n",
      "Total training time: 0.01 seconds.\n",
      "67\n",
      "-- Epoch 1\n",
      "Norm: 15.59, NNZs: 64, Bias: -2.760233, T: 10000, Avg. loss: 0.811375\n",
      "Total training time: 0.01 seconds.\n",
      "68\n",
      "-- Epoch 1\n",
      "Norm: 15.49, NNZs: 64, Bias: -3.355236, T: 10000, Avg. loss: 0.846457\n",
      "Total training time: 0.01 seconds.\n",
      "69\n",
      "-- Epoch 1\n",
      "Norm: 15.60, NNZs: 64, Bias: -4.237072, T: 10000, Avg. loss: 0.890206\n",
      "Total training time: 0.01 seconds.\n",
      "70\n",
      "-- Epoch 1\n",
      "Norm: 15.71, NNZs: 64, Bias: -4.382027, T: 10000, Avg. loss: 0.744685\n",
      "Total training time: 0.01 seconds.\n",
      "71\n",
      "-- Epoch 1\n",
      "Norm: 15.49, NNZs: 64, Bias: -3.774806, T: 10000, Avg. loss: 0.764755\n",
      "Total training time: 0.01 seconds.\n",
      "72\n",
      "-- Epoch 1\n",
      "Norm: 15.27, NNZs: 64, Bias: -4.391282, T: 10000, Avg. loss: 0.679817\n",
      "Total training time: 0.01 seconds.\n",
      "73\n",
      "-- Epoch 1\n",
      "Norm: 15.56, NNZs: 64, Bias: -4.285026, T: 10000, Avg. loss: 0.748020\n",
      "Total training time: 0.01 seconds.\n",
      "74\n",
      "-- Epoch 1\n",
      "Norm: 15.53, NNZs: 64, Bias: -4.599044, T: 10000, Avg. loss: 0.729183\n",
      "Total training time: 0.01 seconds.\n",
      "75\n",
      "-- Epoch 1\n",
      "Norm: 15.47, NNZs: 64, Bias: -4.774707, T: 10000, Avg. loss: 1.547757\n",
      "Total training time: 0.01 seconds.\n",
      "76\n",
      "-- Epoch 1\n",
      "Norm: 15.17, NNZs: 64, Bias: -3.757151, T: 10000, Avg. loss: 0.756206\n",
      "Total training time: 0.01 seconds.\n",
      "77\n",
      "-- Epoch 1\n",
      "Norm: 15.12, NNZs: 64, Bias: -4.392308, T: 10000, Avg. loss: 0.970687\n",
      "Total training time: 0.01 seconds.\n",
      "78\n",
      "-- Epoch 1\n",
      "Norm: 15.06, NNZs: 64, Bias: -4.515528, T: 10000, Avg. loss: 0.615891\n",
      "Total training time: 0.01 seconds.\n",
      "79\n",
      "-- Epoch 1\n",
      "Norm: 15.16, NNZs: 64, Bias: -4.218896, T: 10000, Avg. loss: 0.679754\n",
      "Total training time: 0.01 seconds.\n",
      "80\n",
      "-- Epoch 1\n",
      "Norm: 14.88, NNZs: 64, Bias: -3.651510, T: 10000, Avg. loss: 0.732319\n",
      "Total training time: 0.01 seconds.\n",
      "81\n",
      "-- Epoch 1\n",
      "Norm: 14.79, NNZs: 64, Bias: -3.532732, T: 10000, Avg. loss: 0.749317\n",
      "Total training time: 0.01 seconds.\n",
      "82\n",
      "-- Epoch 1\n",
      "Norm: 14.76, NNZs: 64, Bias: -3.226564, T: 10000, Avg. loss: 0.811968\n",
      "Total training time: 0.01 seconds.\n",
      "83\n",
      "-- Epoch 1\n",
      "Norm: 14.94, NNZs: 64, Bias: -4.400146, T: 10000, Avg. loss: 0.632597\n",
      "Total training time: 0.01 seconds.\n",
      "84\n",
      "-- Epoch 1\n",
      "Norm: 14.82, NNZs: 64, Bias: -3.750511, T: 10000, Avg. loss: 0.696630\n",
      "Total training time: 0.01 seconds.\n",
      "85\n",
      "-- Epoch 1\n",
      "Norm: 14.89, NNZs: 64, Bias: -4.107569, T: 10000, Avg. loss: 0.567621\n",
      "Total training time: 0.01 seconds.\n",
      "86\n",
      "-- Epoch 1\n",
      "Norm: 14.98, NNZs: 64, Bias: -3.784143, T: 10000, Avg. loss: 0.687254\n",
      "Total training time: 0.01 seconds.\n",
      "87\n",
      "-- Epoch 1\n",
      "Norm: 14.93, NNZs: 64, Bias: -3.335773, T: 10000, Avg. loss: 0.613105\n",
      "Total training time: 0.01 seconds.\n",
      "88\n",
      "-- Epoch 1\n",
      "Norm: 14.65, NNZs: 64, Bias: -3.234773, T: 10000, Avg. loss: 0.893324\n",
      "Total training time: 0.01 seconds.\n",
      "89\n",
      "-- Epoch 1\n",
      "Norm: 14.73, NNZs: 64, Bias: -3.812931, T: 10000, Avg. loss: 0.640819\n",
      "Total training time: 0.01 seconds.\n",
      "90\n",
      "-- Epoch 1\n",
      "Norm: 14.60, NNZs: 64, Bias: -3.523787, T: 10000, Avg. loss: 0.725414\n",
      "Total training time: 0.01 seconds.\n",
      "91\n",
      "-- Epoch 1\n",
      "Norm: 14.66, NNZs: 64, Bias: -3.604407, T: 10000, Avg. loss: 0.708390\n",
      "Total training time: 0.01 seconds.\n",
      "92\n",
      "-- Epoch 1\n",
      "Norm: 14.66, NNZs: 64, Bias: -3.638055, T: 10000, Avg. loss: 0.668412\n",
      "Total training time: 0.01 seconds.\n",
      "93\n",
      "-- Epoch 1\n",
      "Norm: 14.55, NNZs: 64, Bias: -3.218071, T: 10000, Avg. loss: 0.700840\n",
      "Total training time: 0.01 seconds.\n",
      "94\n",
      "-- Epoch 1\n",
      "Norm: 14.55, NNZs: 63, Bias: -4.187452, T: 10000, Avg. loss: 0.592855\n",
      "Total training time: 0.01 seconds.\n",
      "95\n",
      "-- Epoch 1\n",
      "Norm: 14.50, NNZs: 64, Bias: -3.879539, T: 10000, Avg. loss: 0.612497\n",
      "Total training time: 0.01 seconds.\n",
      "96\n",
      "-- Epoch 1\n",
      "Norm: 14.52, NNZs: 64, Bias: -2.927263, T: 10000, Avg. loss: 0.629821\n",
      "Total training time: 0.01 seconds.\n",
      "97\n",
      "-- Epoch 1\n",
      "Norm: 14.39, NNZs: 64, Bias: -3.742013, T: 10000, Avg. loss: 0.623650\n",
      "Total training time: 0.01 seconds.\n",
      "98\n",
      "-- Epoch 1\n",
      "Norm: 14.30, NNZs: 64, Bias: -3.190822, T: 10000, Avg. loss: 0.691023\n",
      "Total training time: 0.01 seconds.\n",
      "99\n",
      "-- Epoch 1\n",
      "Norm: 14.27, NNZs: 64, Bias: -3.595794, T: 10000, Avg. loss: 0.692911\n",
      "Total training time: 0.01 seconds.\n",
      "100\n",
      "-- Epoch 1\n",
      "Norm: 14.06, NNZs: 64, Bias: -3.915912, T: 10000, Avg. loss: 0.612108\n",
      "Total training time: 0.01 seconds.\n",
      "101\n",
      "-- Epoch 1\n",
      "Norm: 14.23, NNZs: 64, Bias: -2.694931, T: 10000, Avg. loss: 0.619298\n",
      "Total training time: 0.01 seconds.\n",
      "102\n",
      "-- Epoch 1\n",
      "Norm: 13.98, NNZs: 64, Bias: -3.508586, T: 10000, Avg. loss: 0.640446\n",
      "Total training time: 0.01 seconds.\n",
      "103\n",
      "-- Epoch 1\n",
      "Norm: 14.09, NNZs: 64, Bias: -2.548309, T: 10000, Avg. loss: 0.637939\n",
      "Total training time: 0.01 seconds.\n",
      "104\n",
      "-- Epoch 1\n",
      "Norm: 14.08, NNZs: 64, Bias: -2.479375, T: 10000, Avg. loss: 0.706425\n",
      "Total training time: 0.01 seconds.\n",
      "105\n",
      "-- Epoch 1\n",
      "Norm: 14.02, NNZs: 64, Bias: -2.974089, T: 10000, Avg. loss: 0.636728\n",
      "Total training time: 0.01 seconds.\n",
      "106\n",
      "-- Epoch 1\n",
      "Norm: 13.94, NNZs: 64, Bias: -3.488969, T: 10000, Avg. loss: 0.909753\n",
      "Total training time: 0.01 seconds.\n",
      "107\n",
      "-- Epoch 1\n",
      "Norm: 14.00, NNZs: 64, Bias: -3.306831, T: 10000, Avg. loss: 0.719236\n",
      "Total training time: 0.01 seconds.\n",
      "108\n",
      "-- Epoch 1\n",
      "Norm: 14.04, NNZs: 64, Bias: -3.480410, T: 10000, Avg. loss: 0.555612\n",
      "Total training time: 0.01 seconds.\n",
      "109\n",
      "-- Epoch 1\n",
      "Norm: 13.78, NNZs: 64, Bias: -3.333959, T: 10000, Avg. loss: 0.841025\n",
      "Total training time: 0.01 seconds.\n",
      "110\n",
      "-- Epoch 1\n",
      "Norm: 13.98, NNZs: 64, Bias: -3.159656, T: 10000, Avg. loss: 0.554434\n",
      "Total training time: 0.01 seconds.\n",
      "111\n",
      "-- Epoch 1\n",
      "Norm: 13.86, NNZs: 64, Bias: -3.205602, T: 10000, Avg. loss: 0.639641\n",
      "Total training time: 0.01 seconds.\n",
      "112\n",
      "-- Epoch 1\n",
      "Norm: 13.91, NNZs: 64, Bias: -3.826940, T: 10000, Avg. loss: 0.514412\n",
      "Total training time: 0.01 seconds.\n",
      "113\n",
      "-- Epoch 1\n",
      "Norm: 13.94, NNZs: 64, Bias: -4.261316, T: 10000, Avg. loss: 0.469487\n",
      "Total training time: 0.01 seconds.\n",
      "114\n",
      "-- Epoch 1\n",
      "Norm: 13.99, NNZs: 63, Bias: -3.681297, T: 10000, Avg. loss: 0.609653\n",
      "Total training time: 0.01 seconds.\n",
      "115\n",
      "-- Epoch 1\n",
      "Norm: 13.96, NNZs: 64, Bias: -3.851384, T: 10000, Avg. loss: 0.534955\n",
      "Total training time: 0.01 seconds.\n",
      "116\n",
      "-- Epoch 1\n",
      "Norm: 13.71, NNZs: 64, Bias: -3.074490, T: 10000, Avg. loss: 0.768784\n",
      "Total training time: 0.01 seconds.\n",
      "117\n",
      "-- Epoch 1\n",
      "Norm: 13.69, NNZs: 64, Bias: -2.932199, T: 10000, Avg. loss: 0.627429\n",
      "Total training time: 0.01 seconds.\n",
      "118\n",
      "-- Epoch 1\n",
      "Norm: 13.65, NNZs: 64, Bias: -3.478295, T: 10000, Avg. loss: 0.523819\n",
      "Total training time: 0.01 seconds.\n",
      "119\n",
      "-- Epoch 1\n",
      "Norm: 13.58, NNZs: 64, Bias: -3.580273, T: 10000, Avg. loss: 0.500480\n",
      "Total training time: 0.01 seconds.\n",
      "120\n",
      "-- Epoch 1\n",
      "Norm: 13.91, NNZs: 64, Bias: -2.978677, T: 10000, Avg. loss: 0.594398\n",
      "Total training time: 0.01 seconds.\n",
      "121\n",
      "-- Epoch 1\n",
      "Norm: 13.60, NNZs: 64, Bias: -2.812483, T: 10000, Avg. loss: 0.544058\n",
      "Total training time: 0.01 seconds.\n",
      "122\n",
      "-- Epoch 1\n",
      "Norm: 13.45, NNZs: 64, Bias: -2.180274, T: 10000, Avg. loss: 0.742529\n",
      "Total training time: 0.01 seconds.\n",
      "123\n",
      "-- Epoch 1\n",
      "Norm: 13.57, NNZs: 64, Bias: -2.579498, T: 10000, Avg. loss: 0.642677\n",
      "Total training time: 0.01 seconds.\n",
      "124\n",
      "-- Epoch 1\n",
      "Norm: 13.60, NNZs: 64, Bias: -3.659403, T: 10000, Avg. loss: 0.499970\n",
      "Total training time: 0.01 seconds.\n",
      "125\n",
      "-- Epoch 1\n",
      "Norm: 13.68, NNZs: 64, Bias: -3.050069, T: 10000, Avg. loss: 0.517165\n",
      "Total training time: 0.01 seconds.\n",
      "126\n",
      "-- Epoch 1\n",
      "Norm: 13.73, NNZs: 64, Bias: -2.580098, T: 10000, Avg. loss: 0.849534\n",
      "Total training time: 0.01 seconds.\n",
      "127\n",
      "-- Epoch 1\n",
      "Norm: 13.62, NNZs: 63, Bias: -2.985314, T: 10000, Avg. loss: 0.543532\n",
      "Total training time: 0.00 seconds.\n",
      "128\n",
      "-- Epoch 1\n",
      "Norm: 13.61, NNZs: 64, Bias: -3.673570, T: 10000, Avg. loss: 0.513705\n",
      "Total training time: 0.01 seconds.\n",
      "129\n",
      "-- Epoch 1\n",
      "Norm: 13.63, NNZs: 64, Bias: -3.685281, T: 10000, Avg. loss: 0.696148\n",
      "Total training time: 0.01 seconds.\n",
      "130\n",
      "-- Epoch 1\n",
      "Norm: 13.51, NNZs: 64, Bias: -3.264648, T: 10000, Avg. loss: 0.465869\n",
      "Total training time: 0.00 seconds.\n",
      "131\n",
      "-- Epoch 1\n",
      "Norm: 13.59, NNZs: 64, Bias: -3.349894, T: 10000, Avg. loss: 0.694147\n",
      "Total training time: 0.01 seconds.\n",
      "132\n",
      "-- Epoch 1\n",
      "Norm: 13.59, NNZs: 64, Bias: -2.916787, T: 10000, Avg. loss: 0.627458\n",
      "Total training time: 0.01 seconds.\n",
      "133\n",
      "-- Epoch 1\n",
      "Norm: 13.57, NNZs: 64, Bias: -2.818172, T: 10000, Avg. loss: 0.542799\n",
      "Total training time: 0.00 seconds.\n",
      "134\n",
      "-- Epoch 1\n",
      "Norm: 13.45, NNZs: 64, Bias: -2.740566, T: 10000, Avg. loss: 0.638142\n",
      "Total training time: 0.01 seconds.\n"
     ]
    }
   ],
   "source": [
    "class_weights = compute_class_weight(class_weight = \"balanced\", classes= np.unique(y_train), y= y_train)\n",
    "clf = SGDClassifier(loss = \"log_loss\",  verbose = 50, warm_start = True, penalty = \"elasticnet\", max_iter=1000, tol=1e-3, class_weight= dict(zip(np.unique(y_train), class_weights)))\n",
    "\n",
    "classes = np.unique(y_train)\n",
    "accuracy =[]\n",
    "ROUNDS = 1\n",
    "count = 0 \n",
    "batchsize = 10000\n",
    "\n",
    "sss = StratifiedShuffleSplit(n_splits=ROUNDS, test_size=0.5, random_state=0)\n",
    "for i, (train_index, test_index) in enumerate(sss.split(X_train, y_train)):\n",
    "    print(f\"Fold {i}:\")\n",
    "    print(f\"  Train: index={train_index}\")\n",
    "    print(f\"  Test:  index={test_index}\")\n",
    "    \n",
    "    X_sgd = X_train.iloc[train_index]\n",
    "    y_sgd = y_train.iloc[train_index]\n",
    "    batcherator= batch(X_sgd, y_sgd, batchsize)\n",
    "\n",
    "    for index, (x_batch, y_batch) in enumerate(batcherator):\n",
    "        print(count)\n",
    "        count+= 1\n",
    "        clf.partial_fit(x_batch, y_batch, classes)\n",
    "        y_predicted = clf.predict(X_test)\n",
    "        accuracy.append(accuracy_score(y_test, y_predicted))"
   ]
  },
  {
   "attachments": {},
   "cell_type": "markdown",
   "metadata": {},
   "source": [
    "**Plotting accuracy**"
   ]
  },
  {
   "cell_type": "code",
   "execution_count": 24,
   "metadata": {},
   "outputs": [
    {
     "data": {
      "text/plain": [
       "[<matplotlib.lines.Line2D at 0x196d6ae51b0>]"
      ]
     },
     "execution_count": 24,
     "metadata": {},
     "output_type": "execute_result"
    },
    {
     "data": {
      "image/png": "[encoded data removed]",
      "text/plain": [
       "<Figure size 640x480 with 1 Axes>"
      ]
     },
     "metadata": {},
     "output_type": "display_data"
    }
   ],
   "source": [
    "plt.plot(accuracy)"
   ]
  },
  {
   "attachments": {},
   "cell_type": "markdown",
   "metadata": {},
   "source": [
    "**Evaluating Model**\n"
   ]
  },
  {
   "cell_type": "code",
   "execution_count": 25,
   "metadata": {},
   "outputs": [
    {
     "data": {
      "image/png": "[encoded data removed]",
      "text/plain": [
       "<Figure size 480x480 with 2 Axes>"
      ]
     },
     "metadata": {},
     "output_type": "display_data"
    }
   ],
   "source": [
    "conf_mat = confusion_matrix(y_true=y_test, y_pred=y_predicted)\n",
    "# Plot matrix\n",
    "plt.matshow(conf_mat)\n",
    "plt.colorbar()\n",
    "plt.ylabel(\"True label\")\n",
    "plt.xlabel(\"predicted label\")\n",
    "plt.show()"
   ]
  },
  {
   "attachments": {},
   "cell_type": "markdown",
   "metadata": {},
   "source": [
    "**Checking over the test set**"
   ]
  },
  {
   "cell_type": "code",
   "execution_count": 26,
   "metadata": {},
   "outputs": [
    {
     "name": "stdout",
     "output_type": "stream",
     "text": [
      "The accuracy of the model was 0.66\n"
     ]
    }
   ],
   "source": [
    "y_predicted = clf.predict(X_test)\n",
    "accuracy = accuracy_score(y_test, y_predicted)\n",
    "print(f\"The accuracy of the model was {np.round(accuracy,2)}\")"
   ]
  },
  {
   "cell_type": "code",
   "execution_count": 27,
   "metadata": {},
   "outputs": [
    {
     "data": {
      "text/plain": [
       "array([0., 1.])"
      ]
     },
     "execution_count": 27,
     "metadata": {},
     "output_type": "execute_result"
    }
   ],
   "source": [
    "np.unique(y_predicted)"
   ]
  },
  {
   "cell_type": "code",
   "execution_count": 28,
   "metadata": {},
   "outputs": [
    {
     "data": {
      "text/plain": [
       "0.0    294347\n",
       "1.0      5653\n",
       "Name: label, dtype: int64"
      ]
     },
     "execution_count": 28,
     "metadata": {},
     "output_type": "execute_result"
    }
   ],
   "source": [
    "y_test.value_counts()\n"
   ]
  },
  {
   "cell_type": "code",
   "execution_count": 29,
   "metadata": {},
   "outputs": [
    {
     "data": {
      "text/plain": [
       "<AxesSubplot:>"
      ]
     },
     "execution_count": 29,
     "metadata": {},
     "output_type": "execute_result"
    },
    {
     "data": {
      "image/png": "[encoded data removed]",
      "text/plain": [
       "<Figure size 640x480 with 1 Axes>"
      ]
     },
     "metadata": {},
     "output_type": "display_data"
    }
   ],
   "source": [
    "y_test.hist()"
   ]
  },
  {
   "attachments": {},
   "cell_type": "markdown",
   "metadata": {},
   "source": [
    "**Plotting the predicted seaweed and comparing with naturdirektoratet**"
   ]
  },
  {
   "cell_type": "code",
   "execution_count": 32,
   "metadata": {},
   "outputs": [],
   "source": [
    "X_final = X_test.copy()\n",
    "X_final[\"label\"] = y_test\n",
    "X_final[\"y_predicted\"] = y_predicted\n",
    "X_final = gpd.GeoDataFrame(X_final, geometry=gpd.points_from_xy(lon, lat))\n",
    "\n",
    "df_no_seaweed = X_final[X_final[\"y_predicted\"] == 0].copy()\n",
    "df_seaweed = X_final[X_final[\"y_predicted\"] == 1].copy()\n",
    "df_true_seaweed = X_final[X_final[\"label\"] == True].copy()"
   ]
  },
  {
   "cell_type": "code",
   "execution_count": 35,
   "metadata": {},
   "outputs": [
    {
     "data": {
      "text/plain": [
       "<matplotlib.legend.Legend at 0x196eaa90820>"
      ]
     },
     "execution_count": 35,
     "metadata": {},
     "output_type": "execute_result"
    },
    {
     "data": {
      "image/png": "[encoded data removed]",
      "text/plain": [
       "<Figure size 640x480 with 1 Axes>"
      ]
     },
     "metadata": {},
     "output_type": "display_data"
    }
   ],
   "source": [
    "fig, ax = plt.subplots()\n",
    "df_no_seaweed.plot(ax = ax, color = \"blue\", label = \"no seaweed\")\n",
    "df_true_seaweed.plot(ax = ax, color = \"green\", label = \"True seaweed\", markersize = 2)\n",
    "df_seaweed.plot(ax = ax, color = \"red\", label = \"Seaweed\", markersize = 1)\n",
    "\n",
    "ax.set_title(\"Labelling Prisma data\")\n",
    "ax.set_xlabel(\"lon\")\n",
    "ax.set_ylabel(\"lat\")\n",
    "ax.set_ylim(61.8, 62.3)\n",
    "ax.set_xlim(4,5.2)\n",
    "ax.legend()"
   ]
  }
 ],
 "metadata": {
  "kernelspec": {
   "display_name": "Python 3",
   "language": "python",
   "name": "python3"
  },
  "language_info": {
   "codemirror_mode": {
    "name": "ipython",
    "version": 3
   },
   "file_extension": ".py",
   "mimetype": "text/x-python",
   "name": "python",
   "nbconvert_exporter": "python",
   "pygments_lexer": "ipython3",
   "version": "3.10.6"
  },
  "orig_nbformat": 4,
  "vscode": {
   "interpreter": {
    "hash": "26de051ba29f2982a8de78e945f0abaf191376122a1563185a90213a26c5da77"
   }
  }
 },
 "nbformat": 4,
 "nbformat_minor": 2
}
