{
 "cells": [
  {
   "cell_type": "markdown",
   "metadata": {},
   "source": [
    "## Predicting"
   ]
  },
  {
   "attachments": {},
   "cell_type": "markdown",
   "metadata": {},
   "source": [
    "**Importing librairies**\n"
   ]
  },
  {
   "cell_type": "code",
   "execution_count": 48,
   "metadata": {},
   "outputs": [],
   "source": [
    "from sklearn.linear_model import SGDClassifier\n",
    "from sklearn.preprocessing import StandardScaler\n",
    "import pandas as pd\n",
    "from sklearn.model_selection import train_test_split\n",
    "from sklearn.metrics import accuracy_score\n",
    "import numpy as np\n",
    "import matplotlib.pyplot as plt\n",
    "\n",
    "\n",
    "from sklearn.utils.class_weight import compute_class_weight\n",
    "from sklearn.metrics import confusion_matrix\n",
    "from sklearn.model_selection import StratifiedShuffleSplit\n",
    "from imblearn.under_sampling import RandomUnderSampler\n",
    "\n",
    "import warnings\n",
    "warnings.filterwarnings('ignore')\n",
    "from sklearn.utils import shuffle\n",
    "import geopandas as gpd\n"
   ]
  },
  {
   "attachments": {},
   "cell_type": "markdown",
   "metadata": {},
   "source": [
    "https://medium.com/digital-catapult/dealing-with-imbalanced-data-8b21e6deb6cd"
   ]
  },
  {
   "attachments": {},
   "cell_type": "markdown",
   "metadata": {},
   "source": [
    "**Importing data**"
   ]
  },
  {
   "cell_type": "code",
   "execution_count": 49,
   "metadata": {},
   "outputs": [],
   "source": [
    "filename_1 = \"..\\data\\_tarefelt1.csv\"\n",
    "filename_2 = \"..\\data\\_tarefelt2.csv\"\n",
    "filename_3 = \"..\\data\\_tarefelt3.csv\""
   ]
  },
  {
   "cell_type": "code",
   "execution_count": 50,
   "metadata": {},
   "outputs": [],
   "source": [
    "data_1 = pd.read_csv(filename_1)\n",
    "data_2 = pd.read_csv(filename_2)\n",
    "data_3 = pd.read_csv(filename_3)\n",
    "\n",
    "X =  pd.concat([data_1, data_2, data_3])\n"
   ]
  },
  {
   "attachments": {},
   "cell_type": "markdown",
   "metadata": {},
   "source": [
    "**Removing the water**"
   ]
  },
  {
   "cell_type": "code",
   "execution_count": 70,
   "metadata": {},
   "outputs": [],
   "source": [
    "X = X.drop(X[X['label'] == 0].sample(frac=.95).index)"
   ]
  },
  {
   "cell_type": "code",
   "execution_count": 90,
   "metadata": {},
   "outputs": [
    {
     "data": {
      "text/plain": [
       "Index(['Unnamed: 0', 'band_0', 'band_1', 'band_2', 'band_3', 'band_4',\n",
       "       'band_5', 'band_6', 'band_7', 'band_8', 'band_9', 'band_10', 'band_11',\n",
       "       'band_12', 'band_13', 'band_14', 'band_15', 'band_16', 'band_17',\n",
       "       'band_18', 'band_19', 'band_20', 'band_21', 'band_22', 'band_23',\n",
       "       'band_24', 'band_25', 'band_26', 'band_27', 'band_28', 'band_29',\n",
       "       'band_30', 'band_31', 'band_32', 'band_33', 'band_34', 'band_35',\n",
       "       'band_36', 'band_37', 'band_38', 'band_39', 'band_40', 'band_41',\n",
       "       'band_42', 'band_43', 'band_44', 'band_45', 'band_46', 'band_47',\n",
       "       'band_48', 'band_49', 'band_50', 'band_51', 'band_52', 'band_53',\n",
       "       'band_54', 'band_55', 'band_56', 'band_57', 'band_58', 'band_59',\n",
       "       'band_60', 'band_61', 'band_62', 'band_63', 'band_64', 'band_65', 'lat',\n",
       "       'lon', 'geometry', 'label'],\n",
       "      dtype='object')"
      ]
     },
     "execution_count": 90,
     "metadata": {},
     "output_type": "execute_result"
    }
   ],
   "source": [
    "X.columns"
   ]
  },
  {
   "cell_type": "code",
   "execution_count": 92,
   "metadata": {},
   "outputs": [],
   "source": [
    "X.drop(columns = \"Unnamed: 0\", inplace = True)"
   ]
  },
  {
   "attachments": {},
   "cell_type": "markdown",
   "metadata": {},
   "source": [
    "**Splitting data**\n",
    "\n",
    "Creating balanced datasets using stratified shuffle split"
   ]
  },
  {
   "cell_type": "code",
   "execution_count": 93,
   "metadata": {},
   "outputs": [],
   "source": [
    "sss = StratifiedShuffleSplit(n_splits=1, test_size=0.1, random_state=0)\n",
    "\n",
    "for i, (train_index, test_index) in enumerate(sss.split(X, X.label)):\n",
    "    X_train = X.iloc[train_index]\n",
    "    X_test = X.iloc[test_index]\n"
   ]
  },
  {
   "attachments": {},
   "cell_type": "markdown",
   "metadata": {},
   "source": [
    "**Feature extracting**"
   ]
  },
  {
   "cell_type": "code",
   "execution_count": 94,
   "metadata": {},
   "outputs": [],
   "source": [
    "y_train = X_train.label\n",
    "X_train.drop(columns = ['lat','lon', 'geometry', 'label'], inplace = True)"
   ]
  },
  {
   "cell_type": "code",
   "execution_count": 95,
   "metadata": {},
   "outputs": [],
   "source": [
    "lat = X_test.lat\n",
    "lon = X_test.lon\n",
    "y_test = X_test.label\n",
    "X_test.drop(columns = ['lat','lon', 'geometry', 'label'], inplace = True)"
   ]
  },
  {
   "cell_type": "code",
   "execution_count": 96,
   "metadata": {},
   "outputs": [
    {
     "data": {
      "text/plain": [
       "\" \\noversample = RandomUnderSampler(sampling_strategy='majority')\\nX_train, y_train = oversample.fit_resample(X_train, y_train)\\n\""
      ]
     },
     "execution_count": 96,
     "metadata": {},
     "output_type": "execute_result"
    }
   ],
   "source": [
    "''' \n",
    "oversample = RandomUnderSampler(sampling_strategy='majority')\n",
    "X_train, y_train = oversample.fit_resample(X_train, y_train)\n",
    "'''\n"
   ]
  },
  {
   "attachments": {},
   "cell_type": "markdown",
   "metadata": {},
   "source": [
    "**Standarscaling**\n"
   ]
  },
  {
   "cell_type": "code",
   "execution_count": 97,
   "metadata": {},
   "outputs": [],
   "source": [
    "scaler = StandardScaler()\n",
    "scaler.fit(X_train) \n",
    "scaled_X_train = scaler.transform(X_train)\n",
    "X_train = pd.DataFrame(scaled_X_train, index= X_train.index, columns=X_train.columns)\n",
    "scaled_X_test = scaler.transform(X_test)\n",
    "X_test  = pd.DataFrame(scaled_X_test, index= X_test.index, columns=X_test.columns)"
   ]
  },
  {
   "attachments": {},
   "cell_type": "markdown",
   "metadata": {},
   "source": [
    "**Training the model**  \n"
   ]
  },
  {
   "cell_type": "code",
   "execution_count": 98,
   "metadata": {},
   "outputs": [],
   "source": [
    "def batch(iterable_X, iterable_y, n=1):\n",
    "    '''\n",
    "    n: batchsize\n",
    "    \n",
    "    '''\n",
    "    l = len(iterable_X)\n",
    "    for ndx in range(0, l, n):\n",
    "        yield iterable_X[ndx:min(ndx + n, l)], iterable_y[ndx:min(ndx + n, l)]\n"
   ]
  },
  {
   "cell_type": "code",
   "execution_count": 99,
   "metadata": {},
   "outputs": [
    {
     "ename": "ValueError",
     "evalue": "The test_size = 1 should be greater or equal to the number of classes = 2",
     "output_type": "error",
     "traceback": [
      "\u001b[1;31m---------------------------------------------------------------------------\u001b[0m",
      "\u001b[1;31mValueError\u001b[0m                                Traceback (most recent call last)",
      "\u001b[1;32mc:\\Users\\malan\\OneDrive\\Dokumenter\\8. Semester\\EIT\\EIT projekt\\TTK4852\\predicting_malan.ipynb Cell 22\u001b[0m in \u001b[0;36m1\n\u001b[0;32m     <a href='vscode-notebook-cell:/c%3A/Users/malan/OneDrive/Dokumenter/8.%20Semester/EIT/EIT%20projekt/TTK4852/predicting_malan.ipynb#X15sZmlsZQ%3D%3D?line=15'>16</a>\u001b[0m \u001b[39m#Velger testsize så liten som mulig. Fordi den brukes ikke til noe.\u001b[39;00m\n\u001b[0;32m     <a href='vscode-notebook-cell:/c%3A/Users/malan/OneDrive/Dokumenter/8.%20Semester/EIT/EIT%20projekt/TTK4852/predicting_malan.ipynb#X15sZmlsZQ%3D%3D?line=16'>17</a>\u001b[0m sss \u001b[39m=\u001b[39m StratifiedShuffleSplit(n_splits\u001b[39m=\u001b[39mROUNDS, test_size\u001b[39m=\u001b[39m\u001b[39m0.0001\u001b[39m, random_state\u001b[39m=\u001b[39m\u001b[39m0\u001b[39m)\n\u001b[1;32m---> <a href='vscode-notebook-cell:/c%3A/Users/malan/OneDrive/Dokumenter/8.%20Semester/EIT/EIT%20projekt/TTK4852/predicting_malan.ipynb#X15sZmlsZQ%3D%3D?line=17'>18</a>\u001b[0m \u001b[39mfor\u001b[39;00m i, (train_index, test_index) \u001b[39min\u001b[39;00m \u001b[39menumerate\u001b[39m(sss\u001b[39m.\u001b[39msplit(X_train, y_train)):\n\u001b[0;32m     <a href='vscode-notebook-cell:/c%3A/Users/malan/OneDrive/Dokumenter/8.%20Semester/EIT/EIT%20projekt/TTK4852/predicting_malan.ipynb#X15sZmlsZQ%3D%3D?line=18'>19</a>\u001b[0m     \u001b[39mprint\u001b[39m(\u001b[39mf\u001b[39m\u001b[39m\"\u001b[39m\u001b[39mFold \u001b[39m\u001b[39m{\u001b[39;00mi\u001b[39m}\u001b[39;00m\u001b[39m:\u001b[39m\u001b[39m\"\u001b[39m)\n\u001b[0;32m     <a href='vscode-notebook-cell:/c%3A/Users/malan/OneDrive/Dokumenter/8.%20Semester/EIT/EIT%20projekt/TTK4852/predicting_malan.ipynb#X15sZmlsZQ%3D%3D?line=19'>20</a>\u001b[0m     \u001b[39mprint\u001b[39m(\u001b[39mf\u001b[39m\u001b[39m\"\u001b[39m\u001b[39m  Train: index=\u001b[39m\u001b[39m{\u001b[39;00mtrain_index\u001b[39m}\u001b[39;00m\u001b[39m\"\u001b[39m)\n",
      "File \u001b[1;32m~\\AppData\\Roaming\\Python\\Python310\\site-packages\\sklearn\\model_selection\\_split.py:1622\u001b[0m, in \u001b[0;36mBaseShuffleSplit.split\u001b[1;34m(self, X, y, groups)\u001b[0m\n\u001b[0;32m   1592\u001b[0m \u001b[39m\u001b[39m\u001b[39m\"\"\"Generate indices to split data into training and test set.\u001b[39;00m\n\u001b[0;32m   1593\u001b[0m \n\u001b[0;32m   1594\u001b[0m \u001b[39mParameters\u001b[39;00m\n\u001b[1;32m   (...)\u001b[0m\n\u001b[0;32m   1619\u001b[0m \u001b[39mto an integer.\u001b[39;00m\n\u001b[0;32m   1620\u001b[0m \u001b[39m\"\"\"\u001b[39;00m\n\u001b[0;32m   1621\u001b[0m X, y, groups \u001b[39m=\u001b[39m indexable(X, y, groups)\n\u001b[1;32m-> 1622\u001b[0m \u001b[39mfor\u001b[39;00m train, test \u001b[39min\u001b[39;00m \u001b[39mself\u001b[39m\u001b[39m.\u001b[39m_iter_indices(X, y, groups):\n\u001b[0;32m   1623\u001b[0m     \u001b[39myield\u001b[39;00m train, test\n",
      "File \u001b[1;32m~\\AppData\\Roaming\\Python\\Python310\\site-packages\\sklearn\\model_selection\\_split.py:1981\u001b[0m, in \u001b[0;36mStratifiedShuffleSplit._iter_indices\u001b[1;34m(self, X, y, groups)\u001b[0m\n\u001b[0;32m   1976\u001b[0m     \u001b[39mraise\u001b[39;00m \u001b[39mValueError\u001b[39;00m(\n\u001b[0;32m   1977\u001b[0m         \u001b[39m\"\u001b[39m\u001b[39mThe train_size = \u001b[39m\u001b[39m%d\u001b[39;00m\u001b[39m should be greater or \u001b[39m\u001b[39m\"\u001b[39m\n\u001b[0;32m   1978\u001b[0m         \u001b[39m\"\u001b[39m\u001b[39mequal to the number of classes = \u001b[39m\u001b[39m%d\u001b[39;00m\u001b[39m\"\u001b[39m \u001b[39m%\u001b[39m (n_train, n_classes)\n\u001b[0;32m   1979\u001b[0m     )\n\u001b[0;32m   1980\u001b[0m \u001b[39mif\u001b[39;00m n_test \u001b[39m<\u001b[39m n_classes:\n\u001b[1;32m-> 1981\u001b[0m     \u001b[39mraise\u001b[39;00m \u001b[39mValueError\u001b[39;00m(\n\u001b[0;32m   1982\u001b[0m         \u001b[39m\"\u001b[39m\u001b[39mThe test_size = \u001b[39m\u001b[39m%d\u001b[39;00m\u001b[39m should be greater or \u001b[39m\u001b[39m\"\u001b[39m\n\u001b[0;32m   1983\u001b[0m         \u001b[39m\"\u001b[39m\u001b[39mequal to the number of classes = \u001b[39m\u001b[39m%d\u001b[39;00m\u001b[39m\"\u001b[39m \u001b[39m%\u001b[39m (n_test, n_classes)\n\u001b[0;32m   1984\u001b[0m     )\n\u001b[0;32m   1986\u001b[0m \u001b[39m# Find the sorted list of instances for each class:\u001b[39;00m\n\u001b[0;32m   1987\u001b[0m \u001b[39m# (np.unique above performs a sort, so code is O(n logn) already)\u001b[39;00m\n\u001b[0;32m   1988\u001b[0m class_indices \u001b[39m=\u001b[39m np\u001b[39m.\u001b[39msplit(\n\u001b[0;32m   1989\u001b[0m     np\u001b[39m.\u001b[39margsort(y_indices, kind\u001b[39m=\u001b[39m\u001b[39m\"\u001b[39m\u001b[39mmergesort\u001b[39m\u001b[39m\"\u001b[39m), np\u001b[39m.\u001b[39mcumsum(class_counts)[:\u001b[39m-\u001b[39m\u001b[39m1\u001b[39m]\n\u001b[0;32m   1990\u001b[0m )\n",
      "\u001b[1;31mValueError\u001b[0m: The test_size = 1 should be greater or equal to the number of classes = 2"
     ]
    }
   ],
   "source": [
    "class_weights = compute_class_weight(class_weight = \"balanced\", classes= np.unique(y_train), y= y_train)\n",
    "clf = SGDClassifier(loss = \"log_loss\",  \n",
    "                    verbose = 50, \n",
    "                    warm_start = True, \n",
    "                    penalty = \"elasticnet\", \n",
    "                    class_weight= dict(zip(np.unique(y_train), class_weights)))\n",
    "\n",
    "classes = np.unique(y_train)\n",
    "accuracy =[]\n",
    "\n",
    "\n",
    "ROUNDS = 3\n",
    "count = 0 \n",
    "batchsize = 1000\n",
    "\n",
    "#Velger testsize så liten som mulig. Fordi den brukes ikke til noe.\n",
    "sss = StratifiedShuffleSplit(n_splits=ROUNDS, test_size=0.0001, random_state=0)\n",
    "for i, (train_index, test_index) in enumerate(sss.split(X_train, y_train)):\n",
    "    print(f\"Fold {i}:\")\n",
    "    print(f\"  Train: index={train_index}\")\n",
    "    X_sgd = X_train.iloc[train_index]\n",
    "    y_sgd = y_train.iloc[train_index]\n",
    "    \n",
    "    batcherator= batch(X_sgd, y_sgd, batchsize)\n",
    "\n",
    "    for index, (x_batch, y_batch) in enumerate(batcherator):\n",
    "        print(count)\n",
    "        count+= 1\n",
    "        clf.partial_fit(x_batch, y_batch, classes)\n",
    "        y_predicted = clf.predict(X_test)\n",
    "        accuracy.append(accuracy_score(y_test, y_predicted))"
   ]
  },
  {
   "attachments": {},
   "cell_type": "markdown",
   "metadata": {},
   "source": [
    "**Plotting accuracy**"
   ]
  },
  {
   "cell_type": "code",
   "execution_count": 63,
   "metadata": {},
   "outputs": [
    {
     "data": {
      "text/plain": [
       "[<matplotlib.lines.Line2D at 0x1969905d450>]"
      ]
     },
     "execution_count": 63,
     "metadata": {},
     "output_type": "execute_result"
    },
    {
     "data": {
      "image/png": "[encoded data removed]",
      "text/plain": [
       "<Figure size 640x480 with 1 Axes>"
      ]
     },
     "metadata": {},
     "output_type": "display_data"
    }
   ],
   "source": [
    "plt.plot(accuracy)"
   ]
  },
  {
   "attachments": {},
   "cell_type": "markdown",
   "metadata": {},
   "source": [
    "**Evaluating Model**\n"
   ]
  },
  {
   "cell_type": "code",
   "execution_count": 64,
   "metadata": {},
   "outputs": [
    {
     "data": {
      "image/png": "[encoded data removed]",
      "text/plain": [
       "<Figure size 480x480 with 2 Axes>"
      ]
     },
     "metadata": {},
     "output_type": "display_data"
    }
   ],
   "source": [
    "conf_mat = confusion_matrix(y_true=y_test, y_pred=y_predicted)\n",
    "# Plot matrix\n",
    "plt.matshow(conf_mat)\n",
    "plt.colorbar()\n",
    "plt.ylabel(\"True label\")\n",
    "plt.xlabel(\"predicted label\")\n",
    "plt.show()"
   ]
  },
  {
   "attachments": {},
   "cell_type": "markdown",
   "metadata": {},
   "source": [
    "**Checking over the test set**"
   ]
  },
  {
   "cell_type": "code",
   "execution_count": 65,
   "metadata": {},
   "outputs": [
    {
     "name": "stdout",
     "output_type": "stream",
     "text": [
      "The accuracy of the model was 0.78\n"
     ]
    }
   ],
   "source": [
    "y_predicted = clf.predict(X_test)\n",
    "accuracy = accuracy_score(y_test, y_predicted)\n",
    "print(f\"The accuracy of the model was {np.round(accuracy,2)}\")"
   ]
  },
  {
   "attachments": {},
   "cell_type": "markdown",
   "metadata": {},
   "source": [
    "**Plotting the predicted seaweed and comparing with naturdirektoratet**"
   ]
  },
  {
   "cell_type": "code",
   "execution_count": 66,
   "metadata": {},
   "outputs": [],
   "source": [
    "X_final = X_test.copy()\n",
    "X_final[\"label\"] = y_test\n",
    "X_final[\"y_predicted\"] = y_predicted\n",
    "X_final = gpd.GeoDataFrame(X_final, geometry=gpd.points_from_xy(lon, lat))\n",
    "\n",
    "df_no_seaweed = X_final[X_final[\"y_predicted\"] == 0].copy()\n",
    "df_seaweed = X_final[X_final[\"y_predicted\"] == 1].copy()\n",
    "df_true_seaweed = X_final[X_final[\"label\"] == True].copy()"
   ]
  },
  {
   "cell_type": "code",
   "execution_count": 69,
   "metadata": {},
   "outputs": [
    {
     "data": {
      "text/plain": [
       "<matplotlib.legend.Legend at 0x196c9978c70>"
      ]
     },
     "execution_count": 69,
     "metadata": {},
     "output_type": "execute_result"
    },
    {
     "data": {
      "image/png": "[encoded data removed]",
      "text/plain": [
       "<Figure size 640x480 with 1 Axes>"
      ]
     },
     "metadata": {},
     "output_type": "display_data"
    }
   ],
   "source": [
    "fig, ax = plt.subplots()\n",
    "df_no_seaweed.plot(ax = ax, color = \"blue\", label = \"no seaweed\")\n",
    "df_true_seaweed.plot(ax = ax, color = \"green\", label = \"True seaweed\", markersize = 2)\n",
    "df_seaweed.plot(ax = ax, color = \"red\", label = \"Seaweed\", markersize = 1)\n",
    "\n",
    "ax.set_title(\"Labelling Prisma data\")\n",
    "ax.set_xlabel(\"lon\")\n",
    "ax.set_ylabel(\"lat\")\n",
    "ax.set_ylim(62.6, 63.3)\n",
    "ax.set_xlim(8,9)\n",
    "ax.legend()"
   ]
  },
  {
   "cell_type": "code",
   "execution_count": null,
   "metadata": {},
   "outputs": [],
   "source": []
  }
 ],
 "metadata": {
  "kernelspec": {
   "display_name": "Python 3",
   "language": "python",
   "name": "python3"
  },
  "language_info": {
   "codemirror_mode": {
    "name": "ipython",
    "version": 3
   },
   "file_extension": ".py",
   "mimetype": "text/x-python",
   "name": "python",
   "nbconvert_exporter": "python",
   "pygments_lexer": "ipython3",
   "version": "3.10.6"
  },
  "orig_nbformat": 4,
  "vscode": {
   "interpreter": {
    "hash": "26de051ba29f2982a8de78e945f0abaf191376122a1563185a90213a26c5da77"
   }
  }
 },
 "nbformat": 4,
 "nbformat_minor": 2
}
