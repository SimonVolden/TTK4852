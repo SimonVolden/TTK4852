{
 "cells": [
  {
   "cell_type": "code",
   "execution_count": 3,
   "metadata": {},
   "outputs": [],
   "source": [
    "import os\n",
    "import matplotlib as mpl\n",
    "import matplotlib.pyplot as plt\n",
    "#from mpl_toolkits.basemap import Basemap\n",
    "import numpy as np\n",
    "import h5py\n",
    "import pandas as pd\n",
    "import cartopy.crs as ccrs\n",
    "import geopandas as gpd\n",
    "from shapely.geometry import Point\n",
    "\n",
    "import rasterio\n",
    "import tables as tab\n",
    "import tqdm.notebook as tqdm\n",
    "from skimage.transform import  AffineTransform\n",
    "from rasterio.transform import Affine\n",
    "from skimage.measure import ransac\n",
    "from skimage.color import rgb2gray\n",
    "from skimage.feature import match_descriptors, SIFT\n",
    "from PIL import Image\n",
    "import re\n",
    "import math, requests\n",
    "import io\n",
    "import tqdm\n",
    "import sys\n",
    "\n",
    "\n",
    "\n",
    "from PRISMA_georeference import adjust_lat_lon, GoogleMapDownloader, GoogleMapsLayers, pixel_to_latlon, latlon_to_pix, prisma_2_tiff, match_subblocks"
   ]
  },
  {
   "cell_type": "code",
   "execution_count": 4,
   "metadata": {},
   "outputs": [],
   "source": [
    "dir_path = r\"C:\\Users\\simon\\Documents\\Skole\\EIT\\Tare_Naturbase\""
   ]
  },
  {
   "cell_type": "code",
   "execution_count": 5,
   "metadata": {},
   "outputs": [
    {
     "name": "stdout",
     "output_type": "stream",
     "text": [
      "<KeysViewHDF5 ['HDFEOS', 'HDFEOS INFORMATION', 'Info', 'KDP_AUX']>\n",
      "<class 'h5py._hl.group.Group'>\n",
      "<KeysViewHDF5 ['ADDITIONAL', 'SWATHS']>\n",
      "<KeysViewHDF5 ['GyroData', 'PVSdata', 'StarTracker1', 'StarTracker2']>\n",
      "<KeysViewHDF5 ['PRS_L1_HCO', 'PRS_L1_HRC', 'PRS_L1_PCO', 'PRS_L1_PRC']>\n",
      "<KeysViewHDF5 ['Latitude_SWIR', 'Latitude_VNIR', 'Longitude_SWIR', 'Longitude_VNIR', 'Time']>\n",
      "[[62.057938 62.057682 62.05743  ... 61.805214 61.80496  61.804707]\n",
      " [62.058025 62.057774 62.057518 ... 61.8053   61.805046 61.804794]\n",
      " [62.058117 62.05786  62.05761  ... 61.80539  61.805138 61.804882]\n",
      " ...\n",
      " [62.05856  62.058308 62.058052 ... 61.805832 61.80558  61.805325]\n",
      " [62.05865  62.058395 62.058144 ... 61.80592  61.805668 61.805412]\n",
      " [62.05874  62.058483 62.05823  ... 61.806007 61.805756 61.805504]]\n"
     ]
    }
   ],
   "source": [
    "filename = \"HyperSpectral4.he5\"\n",
    "\n",
    "filename = dir_path + \"/\" + filename\n",
    "\n",
    "\n",
    "with h5py.File(filename, mode='r') as f:\n",
    "    # List available datasets.\n",
    "    print(f.keys())\n",
    "    print(type(f[\"HDFEOS INFORMATION\"]))\n",
    "    dset = f[\"HDFEOS\"]\n",
    "    print(dset.keys())\n",
    "\n",
    "    info = f[\"Info\"][\"Ancillary\"]\n",
    "    print(info.keys())\n",
    "    \n",
    "    dataset = dset[\"SWATHS\"]\n",
    "    #dataset_L1 = dataset[\"PRS_L1_HCO\"][\"Geolocation Fields\"][\"Latitude_SWIR\"]\n",
    "    dataset_L1 = dataset[\"PRS_L1_HCO\"][\"Geolocation Fields\"]\n",
    "\n",
    "    print(dataset.keys())\n",
    "    print(dataset_L1.keys())\n",
    "    print(dataset_L1[\"Latitude_SWIR\"][0:10])"
   ]
  },
  {
   "cell_type": "code",
   "execution_count": 6,
   "metadata": {},
   "outputs": [
    {
     "name": "stdout",
     "output_type": "stream",
     "text": [
      "Keys: <KeysViewHDF5 ['HDFEOS', 'HDFEOS INFORMATION', 'Info', 'KDP_AUX']>\n",
      "HDFEOS\n",
      "<KeysViewHDF5 ['ADDITIONAL', 'SWATHS']>\n",
      "HDFEOS INFORMATION\n",
      "<KeysViewHDF5 ['StructMetadata.0']>\n",
      "Info\n",
      "<KeysViewHDF5 ['Ancillary', 'Header', 'Housekeeping']>\n",
      "KDP_AUX\n",
      "<KeysViewHDF5 ['Cw_Swir_Matrix', 'Cw_Vnir_Matrix', 'Fwhm_Swir_Matrix', 'Fwhm_Vnir_Matrix', 'LOS_Pan', 'LOS_Swir', 'LOS_Vnir']>\n",
      "[ 0.337853   -0.03228952  0.9406448 ]\n",
      "<KeysViewHDF5 ['FrameNumber', 'SWIR_Cube', 'SWIR_PIXEL_SAT_ERR_MATRIX', 'VNIR_Cube', 'VNIR_PIXEL_SAT_ERR_MATRIX']>\n",
      "<KeysViewHDF5 ['Latitude_SWIR', 'Latitude_VNIR', 'Longitude_SWIR', 'Longitude_VNIR', 'Time']>\n"
     ]
    }
   ],
   "source": [
    "\n",
    "with h5py.File(filename, mode='r') as f:\n",
    "    print(f\"Keys: {f.keys()}\")\n",
    "    for key in f.keys():\n",
    "        print(key)\n",
    "        print(f[key].keys())\n",
    "    print(f[\"KDP_AUX\"][\"LOS_Pan\"][0])\n",
    "\n",
    "    print(f[\"HDFEOS\"][\"SWATHS\"][\"PRS_L1_HRC\"][\"Data Fields\"].keys())\n",
    "    print(f[\"HDFEOS\"][\"SWATHS\"][\"PRS_L1_HRC\"][\"Geolocation Fields\"].keys())"
   ]
  },
  {
   "cell_type": "code",
   "execution_count": 7,
   "metadata": {},
   "outputs": [],
   "source": [
    "with h5py.File(filename, mode='r') as f:\n",
    "    data = np.array(f[\"HDFEOS\"][\"SWATHS\"][\"PRS_L1_HRC\"][\"Data Fields\"]['VNIR_Cube'])\n",
    "    lat = np.array(f[\"HDFEOS\"][\"SWATHS\"][\"PRS_L1_HRC\"]['Geolocation Fields']['Latitude_VNIR'])\n",
    "    lon = np.array(f[\"HDFEOS\"][\"SWATHS\"][\"PRS_L1_HRC\"]['Geolocation Fields']['Longitude_VNIR'])"
   ]
  },
  {
   "cell_type": "code",
   "execution_count": 8,
   "metadata": {},
   "outputs": [
    {
     "data": {
      "text/plain": [
       "(1000, 1000, 2)"
      ]
     },
     "execution_count": 8,
     "metadata": {},
     "output_type": "execute_result"
    }
   ],
   "source": [
    "coord = np.array([lat,lon]).T\n",
    "coord.shape\n",
    "\n",
    "adjusted = np.load('out/out4.npy')\n",
    "adjusted.shape\n",
    "\n"
   ]
  },
  {
   "cell_type": "code",
   "execution_count": 9,
   "metadata": {},
   "outputs": [],
   "source": [
    "data_with_coord = np.zeros((1000,1000,66+2))"
   ]
  },
  {
   "cell_type": "code",
   "execution_count": 10,
   "metadata": {},
   "outputs": [],
   "source": [
    "data_with_coord[:,:,:66] = np.transpose(data,[0,2,1])\n",
    "data_with_coord[:,:,66:] = adjusted"
   ]
  },
  {
   "cell_type": "code",
   "execution_count": 11,
   "metadata": {},
   "outputs": [
    {
     "data": {
      "text/plain": [
       "(1000, 1000, 68)"
      ]
     },
     "execution_count": 11,
     "metadata": {},
     "output_type": "execute_result"
    }
   ],
   "source": [
    "data_with_coord.shape\n"
   ]
  },
  {
   "cell_type": "code",
   "execution_count": 12,
   "metadata": {},
   "outputs": [],
   "source": [
    "RGB = np.dstack((data_with_coord[:,:,33] , data_with_coord[:,:,45] , data_with_coord[:,:,56]))"
   ]
  },
  {
   "cell_type": "code",
   "execution_count": 13,
   "metadata": {},
   "outputs": [],
   "source": [
    "def normalise(pic):\n",
    "  max = pic.max()\n",
    "  min = pic.min()\n",
    "  new = (pic - min)/(max-min)\n",
    "  return new"
   ]
  },
  {
   "cell_type": "code",
   "execution_count": 14,
   "metadata": {},
   "outputs": [],
   "source": [
    "RGB = normalise(RGB)"
   ]
  },
  {
   "cell_type": "code",
   "execution_count": 34,
   "metadata": {},
   "outputs": [
    {
     "data": {
      "text/plain": [
       "['band_1',\n",
       " 'band_2',\n",
       " 'band_3',\n",
       " 'band_4',\n",
       " 'band_5',\n",
       " 'band_6',\n",
       " 'band_7',\n",
       " 'band_8',\n",
       " 'band_9',\n",
       " 'band_10',\n",
       " 'band_11',\n",
       " 'band_12',\n",
       " 'band_13',\n",
       " 'band_14',\n",
       " 'band_15',\n",
       " 'band_16',\n",
       " 'band_17',\n",
       " 'band_18',\n",
       " 'band_19',\n",
       " 'band_20',\n",
       " 'band_21',\n",
       " 'band_22',\n",
       " 'band_23',\n",
       " 'band_24',\n",
       " 'band_25',\n",
       " 'band_26',\n",
       " 'band_27',\n",
       " 'band_28',\n",
       " 'band_29',\n",
       " 'band_30',\n",
       " 'band_31',\n",
       " 'band_32',\n",
       " 'band_33',\n",
       " 'band_34',\n",
       " 'band_35',\n",
       " 'band_36',\n",
       " 'band_37',\n",
       " 'band_38',\n",
       " 'band_39',\n",
       " 'band_40',\n",
       " 'band_41',\n",
       " 'band_42',\n",
       " 'band_43',\n",
       " 'band_44',\n",
       " 'band_45',\n",
       " 'band_46',\n",
       " 'band_47',\n",
       " 'band_48',\n",
       " 'band_49',\n",
       " 'band_50',\n",
       " 'band_51',\n",
       " 'band_52',\n",
       " 'band_53',\n",
       " 'band_54',\n",
       " 'band_55',\n",
       " 'band_56',\n",
       " 'band_57',\n",
       " 'band_58',\n",
       " 'band_59',\n",
       " 'band_60',\n",
       " 'band_61',\n",
       " 'band_62',\n",
       " 'band_63',\n",
       " 'band_64',\n",
       " 'band_65',\n",
       " 'band_66',\n",
       " 'lon',\n",
       " 'lat']"
      ]
     },
     "execution_count": 34,
     "metadata": {},
     "output_type": "execute_result"
    }
   ],
   "source": [
    "columns = [f\"band_{i+1}\" for i in range(66)]\n",
    "columns.append(\"lon\")\n",
    "columns.append(\"lat\")\n",
    "columns"
   ]
  },
  {
   "cell_type": "code",
   "execution_count": 35,
   "metadata": {},
   "outputs": [
    {
     "data": {
      "text/plain": [
       "array([[0.00000000e+00, 0.00000000e+00, 0.00000000e+00, ...,\n",
       "        6.68900000e+03, 6.20583289e+01, 5.13438581e+00],\n",
       "       [0.00000000e+00, 0.00000000e+00, 0.00000000e+00, ...,\n",
       "        6.68900000e+03, 6.20580741e+01, 5.13419709e+00],\n",
       "       [0.00000000e+00, 0.00000000e+00, 0.00000000e+00, ...,\n",
       "        6.95600000e+03, 6.20578232e+01, 5.13400887e+00],\n",
       "       ...,\n",
       "       [0.00000000e+00, 0.00000000e+00, 0.00000000e+00, ...,\n",
       "        6.37200000e+03, 6.18055434e+01, 4.94641705e+00],\n",
       "       [0.00000000e+00, 0.00000000e+00, 0.00000000e+00, ...,\n",
       "        6.54400000e+03, 6.18052887e+01, 4.94622881e+00],\n",
       "       [0.00000000e+00, 0.00000000e+00, 0.00000000e+00, ...,\n",
       "        6.67800000e+03, 6.18050377e+01, 4.94604011e+00]])"
      ]
     },
     "execution_count": 35,
     "metadata": {},
     "output_type": "execute_result"
    }
   ],
   "source": [
    "data_with_coord[0]"
   ]
  },
  {
   "cell_type": "code",
   "execution_count": 36,
   "metadata": {},
   "outputs": [
    {
     "data": {
      "text/plain": [
       "<matplotlib.image.AxesImage at 0x1fb07b18d90>"
      ]
     },
     "execution_count": 36,
     "metadata": {},
     "output_type": "execute_result"
    },
    {
     "data": {
      "image/png": "[encoded data removed]",
      "text/plain": [
       "<Figure size 640x480 with 1 Axes>"
      ]
     },
     "metadata": {},
     "output_type": "display_data"
    }
   ],
   "source": [
    "plt.imshow(RGB)"
   ]
  },
  {
   "cell_type": "code",
   "execution_count": 37,
   "metadata": {},
   "outputs": [
    {
     "data": {
      "text/plain": [
       "(1000, 1000, 68)"
      ]
     },
     "execution_count": 37,
     "metadata": {},
     "output_type": "execute_result"
    }
   ],
   "source": [
    "data_with_coord.shape"
   ]
  },
  {
   "cell_type": "code",
   "execution_count": 38,
   "metadata": {},
   "outputs": [],
   "source": [
    "data_for_dataframe = data_with_coord.reshape(1000000, 68)"
   ]
  },
  {
   "cell_type": "code",
   "execution_count": 39,
   "metadata": {},
   "outputs": [],
   "source": [
    "df = pd.DataFrame(data_for_dataframe, columns=columns)"
   ]
  },
  {
   "cell_type": "code",
   "execution_count": 40,
   "metadata": {},
   "outputs": [
    {
     "data": {
      "text/html": [
       "<div>\n",
       "<style scoped>\n",
       "    .dataframe tbody tr th:only-of-type {\n",
       "        vertical-align: middle;\n",
       "    }\n",
       "\n",
       "    .dataframe tbody tr th {\n",
       "        vertical-align: top;\n",
       "    }\n",
       "\n",
       "    .dataframe thead th {\n",
       "        text-align: right;\n",
       "    }\n",
       "</style>\n",
       "<table border=\"1\" class=\"dataframe\">\n",
       "  <thead>\n",
       "    <tr style=\"text-align: right;\">\n",
       "      <th></th>\n",
       "      <th>band_5</th>\n",
       "      <th>lon</th>\n",
       "      <th>lat</th>\n",
       "    </tr>\n",
       "  </thead>\n",
       "  <tbody>\n",
       "    <tr>\n",
       "      <th>0</th>\n",
       "      <td>181.0</td>\n",
       "      <td>62.058329</td>\n",
       "      <td>5.134386</td>\n",
       "    </tr>\n",
       "    <tr>\n",
       "      <th>1</th>\n",
       "      <td>181.0</td>\n",
       "      <td>62.058074</td>\n",
       "      <td>5.134197</td>\n",
       "    </tr>\n",
       "    <tr>\n",
       "      <th>2</th>\n",
       "      <td>200.0</td>\n",
       "      <td>62.057823</td>\n",
       "      <td>5.134009</td>\n",
       "    </tr>\n",
       "    <tr>\n",
       "      <th>3</th>\n",
       "      <td>162.0</td>\n",
       "      <td>62.057568</td>\n",
       "      <td>5.133820</td>\n",
       "    </tr>\n",
       "    <tr>\n",
       "      <th>4</th>\n",
       "      <td>239.0</td>\n",
       "      <td>62.057314</td>\n",
       "      <td>5.133631</td>\n",
       "    </tr>\n",
       "    <tr>\n",
       "      <th>...</th>\n",
       "      <td>...</td>\n",
       "      <td>...</td>\n",
       "      <td>...</td>\n",
       "    </tr>\n",
       "    <tr>\n",
       "      <th>999995</th>\n",
       "      <td>154.0</td>\n",
       "      <td>61.892944</td>\n",
       "      <td>4.403368</td>\n",
       "    </tr>\n",
       "    <tr>\n",
       "      <th>999996</th>\n",
       "      <td>67.0</td>\n",
       "      <td>61.892693</td>\n",
       "      <td>4.403179</td>\n",
       "    </tr>\n",
       "    <tr>\n",
       "      <th>999997</th>\n",
       "      <td>111.0</td>\n",
       "      <td>61.892439</td>\n",
       "      <td>4.402991</td>\n",
       "    </tr>\n",
       "    <tr>\n",
       "      <th>999998</th>\n",
       "      <td>62.0</td>\n",
       "      <td>61.892184</td>\n",
       "      <td>4.402802</td>\n",
       "    </tr>\n",
       "    <tr>\n",
       "      <th>999999</th>\n",
       "      <td>19.0</td>\n",
       "      <td>61.891933</td>\n",
       "      <td>4.402614</td>\n",
       "    </tr>\n",
       "  </tbody>\n",
       "</table>\n",
       "<p>1000000 rows × 3 columns</p>\n",
       "</div>"
      ],
      "text/plain": [
       "        band_5        lon       lat\n",
       "0        181.0  62.058329  5.134386\n",
       "1        181.0  62.058074  5.134197\n",
       "2        200.0  62.057823  5.134009\n",
       "3        162.0  62.057568  5.133820\n",
       "4        239.0  62.057314  5.133631\n",
       "...        ...        ...       ...\n",
       "999995   154.0  61.892944  4.403368\n",
       "999996    67.0  61.892693  4.403179\n",
       "999997   111.0  61.892439  4.402991\n",
       "999998    62.0  61.892184  4.402802\n",
       "999999    19.0  61.891933  4.402614\n",
       "\n",
       "[1000000 rows x 3 columns]"
      ]
     },
     "execution_count": 40,
     "metadata": {},
     "output_type": "execute_result"
    }
   ],
   "source": [
    "df[[\"band_5\", \"lon\", \"lat\"]]"
   ]
  },
  {
   "cell_type": "code",
   "execution_count": 41,
   "metadata": {},
   "outputs": [
    {
     "data": {
      "text/plain": [
       "Index(['band_1', 'band_2', 'band_3', 'band_4', 'band_5', 'band_6', 'band_7',\n",
       "       'band_8', 'band_9', 'band_10', 'band_11', 'band_12', 'band_13',\n",
       "       'band_14', 'band_15', 'band_16', 'band_17', 'band_18', 'band_19',\n",
       "       'band_20', 'band_21', 'band_22', 'band_23', 'band_24', 'band_25',\n",
       "       'band_26', 'band_27', 'band_28', 'band_29', 'band_30', 'band_31',\n",
       "       'band_32', 'band_33', 'band_34', 'band_35', 'band_36', 'band_37',\n",
       "       'band_38', 'band_39', 'band_40', 'band_41', 'band_42', 'band_43',\n",
       "       'band_44', 'band_45', 'band_46', 'band_47', 'band_48', 'band_49',\n",
       "       'band_50', 'band_51', 'band_52', 'band_53', 'band_54', 'band_55',\n",
       "       'band_56', 'band_57', 'band_58', 'band_59', 'band_60', 'band_61',\n",
       "       'band_62', 'band_63', 'band_64', 'band_65', 'band_66'],\n",
       "      dtype='object')"
      ]
     },
     "execution_count": 41,
     "metadata": {},
     "output_type": "execute_result"
    }
   ],
   "source": [
    "lat = df.lon.array\n",
    "lon = df.lat.array\n",
    "value = df.band_4.array\n",
    "value\n",
    "bands = df.columns[:-2]\n",
    "bands"
   ]
  },
  {
   "cell_type": "code",
   "execution_count": 42,
   "metadata": {},
   "outputs": [
    {
     "ename": "KeyboardInterrupt",
     "evalue": "",
     "output_type": "error",
     "traceback": [
      "\u001b[1;31m---------------------------------------------------------------------------\u001b[0m",
      "\u001b[1;31mKeyboardInterrupt\u001b[0m                         Traceback (most recent call last)",
      "\u001b[1;32m~\\AppData\\Local\\Temp\\ipykernel_13076\\3001510383.py\u001b[0m in \u001b[0;36m<module>\u001b[1;34m\u001b[0m\n\u001b[0;32m     28\u001b[0m \u001b[1;33m\u001b[0m\u001b[0m\n\u001b[0;32m     29\u001b[0m     \u001b[1;31m# Show the plot\u001b[0m\u001b[1;33m\u001b[0m\u001b[1;33m\u001b[0m\u001b[0m\n\u001b[1;32m---> 30\u001b[1;33m     \u001b[0mplt\u001b[0m\u001b[1;33m.\u001b[0m\u001b[0msavefig\u001b[0m\u001b[1;33m(\u001b[0m\u001b[1;34mf\"out/{band}_he4.png\"\u001b[0m\u001b[1;33m)\u001b[0m\u001b[1;33m\u001b[0m\u001b[1;33m\u001b[0m\u001b[0m\n\u001b[0m\u001b[0;32m     31\u001b[0m     \u001b[1;31m#plt.show()\u001b[0m\u001b[1;33m\u001b[0m\u001b[1;33m\u001b[0m\u001b[0m\n",
      "\u001b[1;32mc:\\Users\\simon\\anaconda3\\lib\\site-packages\\matplotlib\\pyplot.py\u001b[0m in \u001b[0;36msavefig\u001b[1;34m(*args, **kwargs)\u001b[0m\n\u001b[0;32m    977\u001b[0m \u001b[1;32mdef\u001b[0m \u001b[0msavefig\u001b[0m\u001b[1;33m(\u001b[0m\u001b[1;33m*\u001b[0m\u001b[0margs\u001b[0m\u001b[1;33m,\u001b[0m \u001b[1;33m**\u001b[0m\u001b[0mkwargs\u001b[0m\u001b[1;33m)\u001b[0m\u001b[1;33m:\u001b[0m\u001b[1;33m\u001b[0m\u001b[1;33m\u001b[0m\u001b[0m\n\u001b[0;32m    978\u001b[0m     \u001b[0mfig\u001b[0m \u001b[1;33m=\u001b[0m \u001b[0mgcf\u001b[0m\u001b[1;33m(\u001b[0m\u001b[1;33m)\u001b[0m\u001b[1;33m\u001b[0m\u001b[1;33m\u001b[0m\u001b[0m\n\u001b[1;32m--> 979\u001b[1;33m     \u001b[0mres\u001b[0m \u001b[1;33m=\u001b[0m \u001b[0mfig\u001b[0m\u001b[1;33m.\u001b[0m\u001b[0msavefig\u001b[0m\u001b[1;33m(\u001b[0m\u001b[1;33m*\u001b[0m\u001b[0margs\u001b[0m\u001b[1;33m,\u001b[0m \u001b[1;33m**\u001b[0m\u001b[0mkwargs\u001b[0m\u001b[1;33m)\u001b[0m\u001b[1;33m\u001b[0m\u001b[1;33m\u001b[0m\u001b[0m\n\u001b[0m\u001b[0;32m    980\u001b[0m     \u001b[0mfig\u001b[0m\u001b[1;33m.\u001b[0m\u001b[0mcanvas\u001b[0m\u001b[1;33m.\u001b[0m\u001b[0mdraw_idle\u001b[0m\u001b[1;33m(\u001b[0m\u001b[1;33m)\u001b[0m   \u001b[1;31m# need this if 'transparent=True' to reset colors\u001b[0m\u001b[1;33m\u001b[0m\u001b[1;33m\u001b[0m\u001b[0m\n\u001b[0;32m    981\u001b[0m     \u001b[1;32mreturn\u001b[0m \u001b[0mres\u001b[0m\u001b[1;33m\u001b[0m\u001b[1;33m\u001b[0m\u001b[0m\n",
      "\u001b[1;32mc:\\Users\\simon\\anaconda3\\lib\\site-packages\\matplotlib\\figure.py\u001b[0m in \u001b[0;36msavefig\u001b[1;34m(self, fname, transparent, **kwargs)\u001b[0m\n\u001b[0;32m   3044\u001b[0m                         ax.patch._cm_set(facecolor='none', edgecolor='none'))\n\u001b[0;32m   3045\u001b[0m \u001b[1;33m\u001b[0m\u001b[0m\n\u001b[1;32m-> 3046\u001b[1;33m             \u001b[0mself\u001b[0m\u001b[1;33m.\u001b[0m\u001b[0mcanvas\u001b[0m\u001b[1;33m.\u001b[0m\u001b[0mprint_figure\u001b[0m\u001b[1;33m(\u001b[0m\u001b[0mfname\u001b[0m\u001b[1;33m,\u001b[0m \u001b[1;33m**\u001b[0m\u001b[0mkwargs\u001b[0m\u001b[1;33m)\u001b[0m\u001b[1;33m\u001b[0m\u001b[1;33m\u001b[0m\u001b[0m\n\u001b[0m\u001b[0;32m   3047\u001b[0m \u001b[1;33m\u001b[0m\u001b[0m\n\u001b[0;32m   3048\u001b[0m     def ginput(self, n=1, timeout=30, show_clicks=True,\n",
      "\u001b[1;32mc:\\Users\\simon\\anaconda3\\lib\\site-packages\\matplotlib\\backend_bases.py\u001b[0m in \u001b[0;36mprint_figure\u001b[1;34m(self, filename, dpi, facecolor, edgecolor, orientation, format, bbox_inches, pad_inches, bbox_extra_artists, backend, **kwargs)\u001b[0m\n\u001b[0;32m   2317\u001b[0m                 \u001b[1;31m# force the figure dpi to 72), so we need to set it again here.\u001b[0m\u001b[1;33m\u001b[0m\u001b[1;33m\u001b[0m\u001b[0m\n\u001b[0;32m   2318\u001b[0m                 \u001b[1;32mwith\u001b[0m \u001b[0mcbook\u001b[0m\u001b[1;33m.\u001b[0m\u001b[0m_setattr_cm\u001b[0m\u001b[1;33m(\u001b[0m\u001b[0mself\u001b[0m\u001b[1;33m.\u001b[0m\u001b[0mfigure\u001b[0m\u001b[1;33m,\u001b[0m \u001b[0mdpi\u001b[0m\u001b[1;33m=\u001b[0m\u001b[0mdpi\u001b[0m\u001b[1;33m)\u001b[0m\u001b[1;33m:\u001b[0m\u001b[1;33m\u001b[0m\u001b[1;33m\u001b[0m\u001b[0m\n\u001b[1;32m-> 2319\u001b[1;33m                     result = print_method(\n\u001b[0m\u001b[0;32m   2320\u001b[0m                         \u001b[0mfilename\u001b[0m\u001b[1;33m,\u001b[0m\u001b[1;33m\u001b[0m\u001b[1;33m\u001b[0m\u001b[0m\n\u001b[0;32m   2321\u001b[0m                         \u001b[0mfacecolor\u001b[0m\u001b[1;33m=\u001b[0m\u001b[0mfacecolor\u001b[0m\u001b[1;33m,\u001b[0m\u001b[1;33m\u001b[0m\u001b[1;33m\u001b[0m\u001b[0m\n",
      "\u001b[1;32mc:\\Users\\simon\\anaconda3\\lib\\site-packages\\matplotlib\\backend_bases.py\u001b[0m in \u001b[0;36mwrapper\u001b[1;34m(*args, **kwargs)\u001b[0m\n\u001b[0;32m   1646\u001b[0m             \u001b[0mkwargs\u001b[0m\u001b[1;33m.\u001b[0m\u001b[0mpop\u001b[0m\u001b[1;33m(\u001b[0m\u001b[0marg\u001b[0m\u001b[1;33m)\u001b[0m\u001b[1;33m\u001b[0m\u001b[1;33m\u001b[0m\u001b[0m\n\u001b[0;32m   1647\u001b[0m \u001b[1;33m\u001b[0m\u001b[0m\n\u001b[1;32m-> 1648\u001b[1;33m         \u001b[1;32mreturn\u001b[0m \u001b[0mfunc\u001b[0m\u001b[1;33m(\u001b[0m\u001b[1;33m*\u001b[0m\u001b[0margs\u001b[0m\u001b[1;33m,\u001b[0m \u001b[1;33m**\u001b[0m\u001b[0mkwargs\u001b[0m\u001b[1;33m)\u001b[0m\u001b[1;33m\u001b[0m\u001b[1;33m\u001b[0m\u001b[0m\n\u001b[0m\u001b[0;32m   1649\u001b[0m \u001b[1;33m\u001b[0m\u001b[0m\n\u001b[0;32m   1650\u001b[0m     \u001b[1;32mreturn\u001b[0m \u001b[0mwrapper\u001b[0m\u001b[1;33m\u001b[0m\u001b[1;33m\u001b[0m\u001b[0m\n",
      "\u001b[1;32mc:\\Users\\simon\\anaconda3\\lib\\site-packages\\matplotlib\\_api\\deprecation.py\u001b[0m in \u001b[0;36mwrapper\u001b[1;34m(*inner_args, **inner_kwargs)\u001b[0m\n\u001b[0;32m    413\u001b[0m                          \u001b[1;32melse\u001b[0m \u001b[0mdeprecation_addendum\u001b[0m\u001b[1;33m,\u001b[0m\u001b[1;33m\u001b[0m\u001b[1;33m\u001b[0m\u001b[0m\n\u001b[0;32m    414\u001b[0m                 **kwargs)\n\u001b[1;32m--> 415\u001b[1;33m         \u001b[1;32mreturn\u001b[0m \u001b[0mfunc\u001b[0m\u001b[1;33m(\u001b[0m\u001b[1;33m*\u001b[0m\u001b[0minner_args\u001b[0m\u001b[1;33m,\u001b[0m \u001b[1;33m**\u001b[0m\u001b[0minner_kwargs\u001b[0m\u001b[1;33m)\u001b[0m\u001b[1;33m\u001b[0m\u001b[1;33m\u001b[0m\u001b[0m\n\u001b[0m\u001b[0;32m    416\u001b[0m \u001b[1;33m\u001b[0m\u001b[0m\n\u001b[0;32m    417\u001b[0m     \u001b[0mDECORATORS\u001b[0m\u001b[1;33m[\u001b[0m\u001b[0mwrapper\u001b[0m\u001b[1;33m]\u001b[0m \u001b[1;33m=\u001b[0m \u001b[0mdecorator\u001b[0m\u001b[1;33m\u001b[0m\u001b[1;33m\u001b[0m\u001b[0m\n",
      "\u001b[1;32mc:\\Users\\simon\\anaconda3\\lib\\site-packages\\matplotlib\\backends\\backend_agg.py\u001b[0m in \u001b[0;36mprint_png\u001b[1;34m(self, filename_or_obj, metadata, pil_kwargs, *args)\u001b[0m\n\u001b[0;32m    538\u001b[0m             \u001b[1;33m*\u001b[0m\u001b[0mmetadata\u001b[0m\u001b[1;33m*\u001b[0m\u001b[1;33m,\u001b[0m \u001b[0mincluding\u001b[0m \u001b[0mthe\u001b[0m \u001b[0mdefault\u001b[0m \u001b[1;34m'Software'\u001b[0m \u001b[0mkey\u001b[0m\u001b[1;33m.\u001b[0m\u001b[1;33m\u001b[0m\u001b[1;33m\u001b[0m\u001b[0m\n\u001b[0;32m    539\u001b[0m         \"\"\"\n\u001b[1;32m--> 540\u001b[1;33m         \u001b[0mFigureCanvasAgg\u001b[0m\u001b[1;33m.\u001b[0m\u001b[0mdraw\u001b[0m\u001b[1;33m(\u001b[0m\u001b[0mself\u001b[0m\u001b[1;33m)\u001b[0m\u001b[1;33m\u001b[0m\u001b[1;33m\u001b[0m\u001b[0m\n\u001b[0m\u001b[0;32m    541\u001b[0m         mpl.image.imsave(\n\u001b[0;32m    542\u001b[0m             \u001b[0mfilename_or_obj\u001b[0m\u001b[1;33m,\u001b[0m \u001b[0mself\u001b[0m\u001b[1;33m.\u001b[0m\u001b[0mbuffer_rgba\u001b[0m\u001b[1;33m(\u001b[0m\u001b[1;33m)\u001b[0m\u001b[1;33m,\u001b[0m \u001b[0mformat\u001b[0m\u001b[1;33m=\u001b[0m\u001b[1;34m\"png\"\u001b[0m\u001b[1;33m,\u001b[0m \u001b[0morigin\u001b[0m\u001b[1;33m=\u001b[0m\u001b[1;34m\"upper\"\u001b[0m\u001b[1;33m,\u001b[0m\u001b[1;33m\u001b[0m\u001b[1;33m\u001b[0m\u001b[0m\n",
      "\u001b[1;32mc:\\Users\\simon\\anaconda3\\lib\\site-packages\\matplotlib\\backends\\backend_agg.py\u001b[0m in \u001b[0;36mdraw\u001b[1;34m(self)\u001b[0m\n\u001b[0;32m    434\u001b[0m              (self.toolbar._wait_cursor_for_draw_cm() if self.toolbar\n\u001b[0;32m    435\u001b[0m               else nullcontext()):\n\u001b[1;32m--> 436\u001b[1;33m             \u001b[0mself\u001b[0m\u001b[1;33m.\u001b[0m\u001b[0mfigure\u001b[0m\u001b[1;33m.\u001b[0m\u001b[0mdraw\u001b[0m\u001b[1;33m(\u001b[0m\u001b[0mself\u001b[0m\u001b[1;33m.\u001b[0m\u001b[0mrenderer\u001b[0m\u001b[1;33m)\u001b[0m\u001b[1;33m\u001b[0m\u001b[1;33m\u001b[0m\u001b[0m\n\u001b[0m\u001b[0;32m    437\u001b[0m             \u001b[1;31m# A GUI class may be need to update a window using this draw, so\u001b[0m\u001b[1;33m\u001b[0m\u001b[1;33m\u001b[0m\u001b[0m\n\u001b[0;32m    438\u001b[0m             \u001b[1;31m# don't forget to call the superclass.\u001b[0m\u001b[1;33m\u001b[0m\u001b[1;33m\u001b[0m\u001b[0m\n",
      "\u001b[1;32mc:\\Users\\simon\\anaconda3\\lib\\site-packages\\matplotlib\\artist.py\u001b[0m in \u001b[0;36mdraw_wrapper\u001b[1;34m(artist, renderer, *args, **kwargs)\u001b[0m\n\u001b[0;32m     71\u001b[0m     \u001b[1;33m@\u001b[0m\u001b[0mwraps\u001b[0m\u001b[1;33m(\u001b[0m\u001b[0mdraw\u001b[0m\u001b[1;33m)\u001b[0m\u001b[1;33m\u001b[0m\u001b[1;33m\u001b[0m\u001b[0m\n\u001b[0;32m     72\u001b[0m     \u001b[1;32mdef\u001b[0m \u001b[0mdraw_wrapper\u001b[0m\u001b[1;33m(\u001b[0m\u001b[0martist\u001b[0m\u001b[1;33m,\u001b[0m \u001b[0mrenderer\u001b[0m\u001b[1;33m,\u001b[0m \u001b[1;33m*\u001b[0m\u001b[0margs\u001b[0m\u001b[1;33m,\u001b[0m \u001b[1;33m**\u001b[0m\u001b[0mkwargs\u001b[0m\u001b[1;33m)\u001b[0m\u001b[1;33m:\u001b[0m\u001b[1;33m\u001b[0m\u001b[1;33m\u001b[0m\u001b[0m\n\u001b[1;32m---> 73\u001b[1;33m         \u001b[0mresult\u001b[0m \u001b[1;33m=\u001b[0m \u001b[0mdraw\u001b[0m\u001b[1;33m(\u001b[0m\u001b[0martist\u001b[0m\u001b[1;33m,\u001b[0m \u001b[0mrenderer\u001b[0m\u001b[1;33m,\u001b[0m \u001b[1;33m*\u001b[0m\u001b[0margs\u001b[0m\u001b[1;33m,\u001b[0m \u001b[1;33m**\u001b[0m\u001b[0mkwargs\u001b[0m\u001b[1;33m)\u001b[0m\u001b[1;33m\u001b[0m\u001b[1;33m\u001b[0m\u001b[0m\n\u001b[0m\u001b[0;32m     74\u001b[0m         \u001b[1;32mif\u001b[0m \u001b[0mrenderer\u001b[0m\u001b[1;33m.\u001b[0m\u001b[0m_rasterizing\u001b[0m\u001b[1;33m:\u001b[0m\u001b[1;33m\u001b[0m\u001b[1;33m\u001b[0m\u001b[0m\n\u001b[0;32m     75\u001b[0m             \u001b[0mrenderer\u001b[0m\u001b[1;33m.\u001b[0m\u001b[0mstop_rasterizing\u001b[0m\u001b[1;33m(\u001b[0m\u001b[1;33m)\u001b[0m\u001b[1;33m\u001b[0m\u001b[1;33m\u001b[0m\u001b[0m\n",
      "\u001b[1;32mc:\\Users\\simon\\anaconda3\\lib\\site-packages\\matplotlib\\artist.py\u001b[0m in \u001b[0;36mdraw_wrapper\u001b[1;34m(artist, renderer)\u001b[0m\n\u001b[0;32m     48\u001b[0m                 \u001b[0mrenderer\u001b[0m\u001b[1;33m.\u001b[0m\u001b[0mstart_filter\u001b[0m\u001b[1;33m(\u001b[0m\u001b[1;33m)\u001b[0m\u001b[1;33m\u001b[0m\u001b[1;33m\u001b[0m\u001b[0m\n\u001b[0;32m     49\u001b[0m \u001b[1;33m\u001b[0m\u001b[0m\n\u001b[1;32m---> 50\u001b[1;33m             \u001b[1;32mreturn\u001b[0m \u001b[0mdraw\u001b[0m\u001b[1;33m(\u001b[0m\u001b[0martist\u001b[0m\u001b[1;33m,\u001b[0m \u001b[0mrenderer\u001b[0m\u001b[1;33m)\u001b[0m\u001b[1;33m\u001b[0m\u001b[1;33m\u001b[0m\u001b[0m\n\u001b[0m\u001b[0;32m     51\u001b[0m         \u001b[1;32mfinally\u001b[0m\u001b[1;33m:\u001b[0m\u001b[1;33m\u001b[0m\u001b[1;33m\u001b[0m\u001b[0m\n\u001b[0;32m     52\u001b[0m             \u001b[1;32mif\u001b[0m \u001b[0martist\u001b[0m\u001b[1;33m.\u001b[0m\u001b[0mget_agg_filter\u001b[0m\u001b[1;33m(\u001b[0m\u001b[1;33m)\u001b[0m \u001b[1;32mis\u001b[0m \u001b[1;32mnot\u001b[0m \u001b[1;32mNone\u001b[0m\u001b[1;33m:\u001b[0m\u001b[1;33m\u001b[0m\u001b[1;33m\u001b[0m\u001b[0m\n",
      "\u001b[1;32mc:\\Users\\simon\\anaconda3\\lib\\site-packages\\matplotlib\\figure.py\u001b[0m in \u001b[0;36mdraw\u001b[1;34m(self, renderer)\u001b[0m\n\u001b[0;32m   2835\u001b[0m \u001b[1;33m\u001b[0m\u001b[0m\n\u001b[0;32m   2836\u001b[0m             \u001b[0mself\u001b[0m\u001b[1;33m.\u001b[0m\u001b[0mpatch\u001b[0m\u001b[1;33m.\u001b[0m\u001b[0mdraw\u001b[0m\u001b[1;33m(\u001b[0m\u001b[0mrenderer\u001b[0m\u001b[1;33m)\u001b[0m\u001b[1;33m\u001b[0m\u001b[1;33m\u001b[0m\u001b[0m\n\u001b[1;32m-> 2837\u001b[1;33m             mimage._draw_list_compositing_images(\n\u001b[0m\u001b[0;32m   2838\u001b[0m                 renderer, self, artists, self.suppressComposite)\n\u001b[0;32m   2839\u001b[0m \u001b[1;33m\u001b[0m\u001b[0m\n",
      "\u001b[1;32mc:\\Users\\simon\\anaconda3\\lib\\site-packages\\matplotlib\\image.py\u001b[0m in \u001b[0;36m_draw_list_compositing_images\u001b[1;34m(renderer, parent, artists, suppress_composite)\u001b[0m\n\u001b[0;32m    130\u001b[0m     \u001b[1;32mif\u001b[0m \u001b[0mnot_composite\u001b[0m \u001b[1;32mor\u001b[0m \u001b[1;32mnot\u001b[0m \u001b[0mhas_images\u001b[0m\u001b[1;33m:\u001b[0m\u001b[1;33m\u001b[0m\u001b[1;33m\u001b[0m\u001b[0m\n\u001b[0;32m    131\u001b[0m         \u001b[1;32mfor\u001b[0m \u001b[0ma\u001b[0m \u001b[1;32min\u001b[0m \u001b[0martists\u001b[0m\u001b[1;33m:\u001b[0m\u001b[1;33m\u001b[0m\u001b[1;33m\u001b[0m\u001b[0m\n\u001b[1;32m--> 132\u001b[1;33m             \u001b[0ma\u001b[0m\u001b[1;33m.\u001b[0m\u001b[0mdraw\u001b[0m\u001b[1;33m(\u001b[0m\u001b[0mrenderer\u001b[0m\u001b[1;33m)\u001b[0m\u001b[1;33m\u001b[0m\u001b[1;33m\u001b[0m\u001b[0m\n\u001b[0m\u001b[0;32m    133\u001b[0m     \u001b[1;32melse\u001b[0m\u001b[1;33m:\u001b[0m\u001b[1;33m\u001b[0m\u001b[1;33m\u001b[0m\u001b[0m\n\u001b[0;32m    134\u001b[0m         \u001b[1;31m# Composite any adjacent images together\u001b[0m\u001b[1;33m\u001b[0m\u001b[1;33m\u001b[0m\u001b[0m\n",
      "\u001b[1;32mc:\\Users\\simon\\anaconda3\\lib\\site-packages\\matplotlib\\artist.py\u001b[0m in \u001b[0;36mdraw_wrapper\u001b[1;34m(artist, renderer)\u001b[0m\n\u001b[0;32m     48\u001b[0m                 \u001b[0mrenderer\u001b[0m\u001b[1;33m.\u001b[0m\u001b[0mstart_filter\u001b[0m\u001b[1;33m(\u001b[0m\u001b[1;33m)\u001b[0m\u001b[1;33m\u001b[0m\u001b[1;33m\u001b[0m\u001b[0m\n\u001b[0;32m     49\u001b[0m \u001b[1;33m\u001b[0m\u001b[0m\n\u001b[1;32m---> 50\u001b[1;33m             \u001b[1;32mreturn\u001b[0m \u001b[0mdraw\u001b[0m\u001b[1;33m(\u001b[0m\u001b[0martist\u001b[0m\u001b[1;33m,\u001b[0m \u001b[0mrenderer\u001b[0m\u001b[1;33m)\u001b[0m\u001b[1;33m\u001b[0m\u001b[1;33m\u001b[0m\u001b[0m\n\u001b[0m\u001b[0;32m     51\u001b[0m         \u001b[1;32mfinally\u001b[0m\u001b[1;33m:\u001b[0m\u001b[1;33m\u001b[0m\u001b[1;33m\u001b[0m\u001b[0m\n\u001b[0;32m     52\u001b[0m             \u001b[1;32mif\u001b[0m \u001b[0martist\u001b[0m\u001b[1;33m.\u001b[0m\u001b[0mget_agg_filter\u001b[0m\u001b[1;33m(\u001b[0m\u001b[1;33m)\u001b[0m \u001b[1;32mis\u001b[0m \u001b[1;32mnot\u001b[0m \u001b[1;32mNone\u001b[0m\u001b[1;33m:\u001b[0m\u001b[1;33m\u001b[0m\u001b[1;33m\u001b[0m\u001b[0m\n",
      "\u001b[1;32mc:\\Users\\simon\\anaconda3\\lib\\site-packages\\cartopy\\mpl\\geoaxes.py\u001b[0m in \u001b[0;36mdraw\u001b[1;34m(self, renderer, **kwargs)\u001b[0m\n\u001b[0;32m    477\u001b[0m         \u001b[0mself\u001b[0m\u001b[1;33m.\u001b[0m\u001b[0m_done_img_factory\u001b[0m \u001b[1;33m=\u001b[0m \u001b[1;32mTrue\u001b[0m\u001b[1;33m\u001b[0m\u001b[1;33m\u001b[0m\u001b[0m\n\u001b[0;32m    478\u001b[0m \u001b[1;33m\u001b[0m\u001b[0m\n\u001b[1;32m--> 479\u001b[1;33m         \u001b[1;32mreturn\u001b[0m \u001b[0mmatplotlib\u001b[0m\u001b[1;33m.\u001b[0m\u001b[0maxes\u001b[0m\u001b[1;33m.\u001b[0m\u001b[0mAxes\u001b[0m\u001b[1;33m.\u001b[0m\u001b[0mdraw\u001b[0m\u001b[1;33m(\u001b[0m\u001b[0mself\u001b[0m\u001b[1;33m,\u001b[0m \u001b[0mrenderer\u001b[0m\u001b[1;33m=\u001b[0m\u001b[0mrenderer\u001b[0m\u001b[1;33m,\u001b[0m \u001b[1;33m**\u001b[0m\u001b[0mkwargs\u001b[0m\u001b[1;33m)\u001b[0m\u001b[1;33m\u001b[0m\u001b[1;33m\u001b[0m\u001b[0m\n\u001b[0m\u001b[0;32m    480\u001b[0m \u001b[1;33m\u001b[0m\u001b[0m\n\u001b[0;32m    481\u001b[0m     \u001b[1;32mdef\u001b[0m \u001b[0m_update_title_position\u001b[0m\u001b[1;33m(\u001b[0m\u001b[0mself\u001b[0m\u001b[1;33m,\u001b[0m \u001b[0mrenderer\u001b[0m\u001b[1;33m)\u001b[0m\u001b[1;33m:\u001b[0m\u001b[1;33m\u001b[0m\u001b[1;33m\u001b[0m\u001b[0m\n",
      "\u001b[1;32mc:\\Users\\simon\\anaconda3\\lib\\site-packages\\matplotlib\\artist.py\u001b[0m in \u001b[0;36mdraw_wrapper\u001b[1;34m(artist, renderer)\u001b[0m\n\u001b[0;32m     48\u001b[0m                 \u001b[0mrenderer\u001b[0m\u001b[1;33m.\u001b[0m\u001b[0mstart_filter\u001b[0m\u001b[1;33m(\u001b[0m\u001b[1;33m)\u001b[0m\u001b[1;33m\u001b[0m\u001b[1;33m\u001b[0m\u001b[0m\n\u001b[0;32m     49\u001b[0m \u001b[1;33m\u001b[0m\u001b[0m\n\u001b[1;32m---> 50\u001b[1;33m             \u001b[1;32mreturn\u001b[0m \u001b[0mdraw\u001b[0m\u001b[1;33m(\u001b[0m\u001b[0martist\u001b[0m\u001b[1;33m,\u001b[0m \u001b[0mrenderer\u001b[0m\u001b[1;33m)\u001b[0m\u001b[1;33m\u001b[0m\u001b[1;33m\u001b[0m\u001b[0m\n\u001b[0m\u001b[0;32m     51\u001b[0m         \u001b[1;32mfinally\u001b[0m\u001b[1;33m:\u001b[0m\u001b[1;33m\u001b[0m\u001b[1;33m\u001b[0m\u001b[0m\n\u001b[0;32m     52\u001b[0m             \u001b[1;32mif\u001b[0m \u001b[0martist\u001b[0m\u001b[1;33m.\u001b[0m\u001b[0mget_agg_filter\u001b[0m\u001b[1;33m(\u001b[0m\u001b[1;33m)\u001b[0m \u001b[1;32mis\u001b[0m \u001b[1;32mnot\u001b[0m \u001b[1;32mNone\u001b[0m\u001b[1;33m:\u001b[0m\u001b[1;33m\u001b[0m\u001b[1;33m\u001b[0m\u001b[0m\n",
      "\u001b[1;32mc:\\Users\\simon\\anaconda3\\lib\\site-packages\\matplotlib\\axes\\_base.py\u001b[0m in \u001b[0;36mdraw\u001b[1;34m(self, renderer)\u001b[0m\n\u001b[0;32m   3089\u001b[0m             \u001b[0mrenderer\u001b[0m\u001b[1;33m.\u001b[0m\u001b[0mstop_rasterizing\u001b[0m\u001b[1;33m(\u001b[0m\u001b[1;33m)\u001b[0m\u001b[1;33m\u001b[0m\u001b[1;33m\u001b[0m\u001b[0m\n\u001b[0;32m   3090\u001b[0m \u001b[1;33m\u001b[0m\u001b[0m\n\u001b[1;32m-> 3091\u001b[1;33m         mimage._draw_list_compositing_images(\n\u001b[0m\u001b[0;32m   3092\u001b[0m             renderer, self, artists, self.figure.suppressComposite)\n\u001b[0;32m   3093\u001b[0m \u001b[1;33m\u001b[0m\u001b[0m\n",
      "\u001b[1;32mc:\\Users\\simon\\anaconda3\\lib\\site-packages\\matplotlib\\image.py\u001b[0m in \u001b[0;36m_draw_list_compositing_images\u001b[1;34m(renderer, parent, artists, suppress_composite)\u001b[0m\n\u001b[0;32m    130\u001b[0m     \u001b[1;32mif\u001b[0m \u001b[0mnot_composite\u001b[0m \u001b[1;32mor\u001b[0m \u001b[1;32mnot\u001b[0m \u001b[0mhas_images\u001b[0m\u001b[1;33m:\u001b[0m\u001b[1;33m\u001b[0m\u001b[1;33m\u001b[0m\u001b[0m\n\u001b[0;32m    131\u001b[0m         \u001b[1;32mfor\u001b[0m \u001b[0ma\u001b[0m \u001b[1;32min\u001b[0m \u001b[0martists\u001b[0m\u001b[1;33m:\u001b[0m\u001b[1;33m\u001b[0m\u001b[1;33m\u001b[0m\u001b[0m\n\u001b[1;32m--> 132\u001b[1;33m             \u001b[0ma\u001b[0m\u001b[1;33m.\u001b[0m\u001b[0mdraw\u001b[0m\u001b[1;33m(\u001b[0m\u001b[0mrenderer\u001b[0m\u001b[1;33m)\u001b[0m\u001b[1;33m\u001b[0m\u001b[1;33m\u001b[0m\u001b[0m\n\u001b[0m\u001b[0;32m    133\u001b[0m     \u001b[1;32melse\u001b[0m\u001b[1;33m:\u001b[0m\u001b[1;33m\u001b[0m\u001b[1;33m\u001b[0m\u001b[0m\n\u001b[0;32m    134\u001b[0m         \u001b[1;31m# Composite any adjacent images together\u001b[0m\u001b[1;33m\u001b[0m\u001b[1;33m\u001b[0m\u001b[0m\n",
      "\u001b[1;32mc:\\Users\\simon\\anaconda3\\lib\\site-packages\\matplotlib\\artist.py\u001b[0m in \u001b[0;36mdraw_wrapper\u001b[1;34m(artist, renderer)\u001b[0m\n\u001b[0;32m     48\u001b[0m                 \u001b[0mrenderer\u001b[0m\u001b[1;33m.\u001b[0m\u001b[0mstart_filter\u001b[0m\u001b[1;33m(\u001b[0m\u001b[1;33m)\u001b[0m\u001b[1;33m\u001b[0m\u001b[1;33m\u001b[0m\u001b[0m\n\u001b[0;32m     49\u001b[0m \u001b[1;33m\u001b[0m\u001b[0m\n\u001b[1;32m---> 50\u001b[1;33m             \u001b[1;32mreturn\u001b[0m \u001b[0mdraw\u001b[0m\u001b[1;33m(\u001b[0m\u001b[0martist\u001b[0m\u001b[1;33m,\u001b[0m \u001b[0mrenderer\u001b[0m\u001b[1;33m)\u001b[0m\u001b[1;33m\u001b[0m\u001b[1;33m\u001b[0m\u001b[0m\n\u001b[0m\u001b[0;32m     51\u001b[0m         \u001b[1;32mfinally\u001b[0m\u001b[1;33m:\u001b[0m\u001b[1;33m\u001b[0m\u001b[1;33m\u001b[0m\u001b[0m\n\u001b[0;32m     52\u001b[0m             \u001b[1;32mif\u001b[0m \u001b[0martist\u001b[0m\u001b[1;33m.\u001b[0m\u001b[0mget_agg_filter\u001b[0m\u001b[1;33m(\u001b[0m\u001b[1;33m)\u001b[0m \u001b[1;32mis\u001b[0m \u001b[1;32mnot\u001b[0m \u001b[1;32mNone\u001b[0m\u001b[1;33m:\u001b[0m\u001b[1;33m\u001b[0m\u001b[1;33m\u001b[0m\u001b[0m\n",
      "\u001b[1;32mc:\\Users\\simon\\anaconda3\\lib\\site-packages\\matplotlib\\collections.py\u001b[0m in \u001b[0;36mdraw\u001b[1;34m(self, renderer)\u001b[0m\n\u001b[0;32m    988\u001b[0m     \u001b[1;32mdef\u001b[0m \u001b[0mdraw\u001b[0m\u001b[1;33m(\u001b[0m\u001b[0mself\u001b[0m\u001b[1;33m,\u001b[0m \u001b[0mrenderer\u001b[0m\u001b[1;33m)\u001b[0m\u001b[1;33m:\u001b[0m\u001b[1;33m\u001b[0m\u001b[1;33m\u001b[0m\u001b[0m\n\u001b[0;32m    989\u001b[0m         \u001b[0mself\u001b[0m\u001b[1;33m.\u001b[0m\u001b[0mset_sizes\u001b[0m\u001b[1;33m(\u001b[0m\u001b[0mself\u001b[0m\u001b[1;33m.\u001b[0m\u001b[0m_sizes\u001b[0m\u001b[1;33m,\u001b[0m \u001b[0mself\u001b[0m\u001b[1;33m.\u001b[0m\u001b[0mfigure\u001b[0m\u001b[1;33m.\u001b[0m\u001b[0mdpi\u001b[0m\u001b[1;33m)\u001b[0m\u001b[1;33m\u001b[0m\u001b[1;33m\u001b[0m\u001b[0m\n\u001b[1;32m--> 990\u001b[1;33m         \u001b[0msuper\u001b[0m\u001b[1;33m(\u001b[0m\u001b[1;33m)\u001b[0m\u001b[1;33m.\u001b[0m\u001b[0mdraw\u001b[0m\u001b[1;33m(\u001b[0m\u001b[0mrenderer\u001b[0m\u001b[1;33m)\u001b[0m\u001b[1;33m\u001b[0m\u001b[1;33m\u001b[0m\u001b[0m\n\u001b[0m\u001b[0;32m    991\u001b[0m \u001b[1;33m\u001b[0m\u001b[0m\n\u001b[0;32m    992\u001b[0m \u001b[1;33m\u001b[0m\u001b[0m\n",
      "\u001b[1;32mc:\\Users\\simon\\anaconda3\\lib\\site-packages\\matplotlib\\artist.py\u001b[0m in \u001b[0;36mdraw_wrapper\u001b[1;34m(artist, renderer)\u001b[0m\n\u001b[0;32m     48\u001b[0m                 \u001b[0mrenderer\u001b[0m\u001b[1;33m.\u001b[0m\u001b[0mstart_filter\u001b[0m\u001b[1;33m(\u001b[0m\u001b[1;33m)\u001b[0m\u001b[1;33m\u001b[0m\u001b[1;33m\u001b[0m\u001b[0m\n\u001b[0;32m     49\u001b[0m \u001b[1;33m\u001b[0m\u001b[0m\n\u001b[1;32m---> 50\u001b[1;33m             \u001b[1;32mreturn\u001b[0m \u001b[0mdraw\u001b[0m\u001b[1;33m(\u001b[0m\u001b[0martist\u001b[0m\u001b[1;33m,\u001b[0m \u001b[0mrenderer\u001b[0m\u001b[1;33m)\u001b[0m\u001b[1;33m\u001b[0m\u001b[1;33m\u001b[0m\u001b[0m\n\u001b[0m\u001b[0;32m     51\u001b[0m         \u001b[1;32mfinally\u001b[0m\u001b[1;33m:\u001b[0m\u001b[1;33m\u001b[0m\u001b[1;33m\u001b[0m\u001b[0m\n\u001b[0;32m     52\u001b[0m             \u001b[1;32mif\u001b[0m \u001b[0martist\u001b[0m\u001b[1;33m.\u001b[0m\u001b[0mget_agg_filter\u001b[0m\u001b[1;33m(\u001b[0m\u001b[1;33m)\u001b[0m \u001b[1;32mis\u001b[0m \u001b[1;32mnot\u001b[0m \u001b[1;32mNone\u001b[0m\u001b[1;33m:\u001b[0m\u001b[1;33m\u001b[0m\u001b[1;33m\u001b[0m\u001b[0m\n",
      "\u001b[1;32mc:\\Users\\simon\\anaconda3\\lib\\site-packages\\matplotlib\\collections.py\u001b[0m in \u001b[0;36mdraw\u001b[1;34m(self, renderer)\u001b[0m\n\u001b[0;32m    422\u001b[0m                 mpath.Path(offsets), transOffset, tuple(facecolors[0]))\n\u001b[0;32m    423\u001b[0m         \u001b[1;32melse\u001b[0m\u001b[1;33m:\u001b[0m\u001b[1;33m\u001b[0m\u001b[1;33m\u001b[0m\u001b[0m\n\u001b[1;32m--> 424\u001b[1;33m             renderer.draw_path_collection(\n\u001b[0m\u001b[0;32m    425\u001b[0m                 \u001b[0mgc\u001b[0m\u001b[1;33m,\u001b[0m \u001b[0mtransform\u001b[0m\u001b[1;33m.\u001b[0m\u001b[0mfrozen\u001b[0m\u001b[1;33m(\u001b[0m\u001b[1;33m)\u001b[0m\u001b[1;33m,\u001b[0m \u001b[0mpaths\u001b[0m\u001b[1;33m,\u001b[0m\u001b[1;33m\u001b[0m\u001b[1;33m\u001b[0m\u001b[0m\n\u001b[0;32m    426\u001b[0m                 \u001b[0mself\u001b[0m\u001b[1;33m.\u001b[0m\u001b[0mget_transforms\u001b[0m\u001b[1;33m(\u001b[0m\u001b[1;33m)\u001b[0m\u001b[1;33m,\u001b[0m \u001b[0moffsets\u001b[0m\u001b[1;33m,\u001b[0m \u001b[0mtransOffset\u001b[0m\u001b[1;33m,\u001b[0m\u001b[1;33m\u001b[0m\u001b[1;33m\u001b[0m\u001b[0m\n",
      "\u001b[1;32mc:\\Users\\simon\\anaconda3\\lib\\site-packages\\matplotlib\\path.py\u001b[0m in \u001b[0;36mvertices\u001b[1;34m(self)\u001b[0m\n\u001b[0;32m    198\u001b[0m         )\n\u001b[0;32m    199\u001b[0m \u001b[1;33m\u001b[0m\u001b[0m\n\u001b[1;32m--> 200\u001b[1;33m     \u001b[1;33m@\u001b[0m\u001b[0mproperty\u001b[0m\u001b[1;33m\u001b[0m\u001b[1;33m\u001b[0m\u001b[0m\n\u001b[0m\u001b[0;32m    201\u001b[0m     \u001b[1;32mdef\u001b[0m \u001b[0mvertices\u001b[0m\u001b[1;33m(\u001b[0m\u001b[0mself\u001b[0m\u001b[1;33m)\u001b[0m\u001b[1;33m:\u001b[0m\u001b[1;33m\u001b[0m\u001b[1;33m\u001b[0m\u001b[0m\n\u001b[0;32m    202\u001b[0m         \"\"\"\n",
      "\u001b[1;31mKeyboardInterrupt\u001b[0m: "
     ]
    }
   ],
   "source": [
    "for band in bands:\n",
    "    value = df[band].array\n",
    "\n",
    "    fig = plt.figure(figsize=(10, 10))\n",
    "    ax = fig.add_subplot(1, 1, 1, projection=ccrs.Mercator())\n",
    "    # Plot the map projection\n",
    "    ax.set_extent([min(lon), max(lon), min(lat), max(lat)], crs=ccrs.Mercator())\n",
    "\n",
    "    # Plot the latitude and longitude values, with the color of the marker indicating the data value\n",
    "    scatter = ax.scatter(lon, lat, c=value, cmap='viridis', transform=ccrs.Mercator())\n",
    "\n",
    "    # Add a colorbar to the plot\n",
    "    plt.colorbar(scatter)\n",
    "\n",
    "    ax.set_xlabel('Longitude')\n",
    "    ax.set_ylabel('Latitude')\n",
    "\n",
    "    \"\"\" ax.set_xticks(np.arange(int(min(lon)), int(max(lon)) + 1, 1))\n",
    "    ax.set_yticks(np.arange(int(min(lat)), int(max(lat)) + 1, 1))\n",
    "    ax.set_xticklabels(np.arange(int(min(lon)), int(max(lon)) + 1, 1))\n",
    "    ax.set_yticklabels(np.arange(int(min(lat)), int(max(lat)) + 1, 1)) \"\"\"\n",
    "    \"\"\" ax.set_xticks(np.arange(np.min(lon), np.max(lon)+1, 0.1))\n",
    "    ax.set_yticks(np.arange(np.min(lat), np.max(lat)+1, 0.1))\n",
    "    ax.set_xticklabels(np.arange(np.min(lon), np.max(lon)+1, 0.1))\n",
    "    ax.set_yticklabels(np.arange(np.min(lat), np.max(lat)+1, 0.1)) \"\"\"\n",
    "\n",
    "    #ax.invert_yaxis()\n",
    "\n",
    "    # Show the plot\n",
    "    plt.savefig(f\"out/{band}_he4.png\")\n",
    "    #plt.show()"
   ]
  },
  {
   "cell_type": "code",
   "execution_count": 15,
   "metadata": {},
   "outputs": [],
   "source": [
    "### Function for converting the PRISMA file to a .tiff\n",
    "\n",
    "def prisma_2_tiff( prisma_path, tiff_output, bandforRGB = 20 ):\n",
    "    # this function converts a PRISMA image to a geotiff file\n",
    "    # note that it also fixes a bug in the orientation of the PRISMA image\n",
    "    file1 = tab.open_file(prisma_path)\n",
    "    d2 = file1.get_node(\"/HDFEOS/SWATHS/PRS_L1_HRC/\")\n",
    "    latv = np.array(d2['Geolocation Fields']['Latitude_VNIR'])\n",
    "    lonv = np.array(d2['Geolocation Fields']['Longitude_VNIR'])\n",
    "    vnir = d2['Data Fields']['VNIR_Cube'][:,bandforRGB,:]\n",
    "    file1.close()\n",
    "    \n",
    "    lat_centered= latv - latv.mean()\n",
    "    lat_rescaled = lat_centered / lat_centered.max()\n",
    "    \n",
    "    lon_centered= lonv - lonv.mean()\n",
    "    lon_rescaled = lon_centered / -lon_centered.min()\n",
    "    \n",
    "    angle = np.arctan2(lat_rescaled, lon_rescaled, dtype=np.float32)\n",
    "    \n",
    "    x = np.linspace(-1, 1, 1000)\n",
    "    y = np.linspace(-1, 1, 1000)\n",
    "    coords = np.array(np.meshgrid(x, y), dtype=np.float32).transpose((1, 2, 0))\n",
    "    \n",
    "    theta = -angle[500,0] + np.pi/2\n",
    "    r = np.array([[np.cos(theta), -np.sin(theta)], [np.sin(theta), np.cos(theta)]])\n",
    "    c2 = coords @ r\n",
    "    \n",
    "    base_factor = np.array([lat_centered.max(), lon_centered.max()])\n",
    "    fudge_factor = np.array([c2[:,:,0].max(), -c2[:,:,1].max()]) # this is done because the input lat/lon are transposed\n",
    "    rescale_factor = base_factor/fudge_factor\n",
    "    \n",
    "    means = np.array([latv.mean(), lonv.mean()])\n",
    "    \n",
    "    x = np.arange(1000, dtype=np.float32)\n",
    "    y = np.arange(1000, dtype=np.float32)\n",
    "    coords = np.array(np.meshgrid(x, y), dtype=np.float32).transpose((1, 2, 0))\n",
    "    \n",
    "    to_normalized = Affine.scale(1/500, 1/500)*Affine.translation(-500, -500)\n",
    "    rot = Affine.rotation(-angle[0,500]*180/np.pi )\n",
    "    from_normalized = Affine.translation(*(means[::-1]))*Affine.scale(*(rescale_factor[::-1]))#*\n",
    "    transform = from_normalized*rot*to_normalized\n",
    "    \n",
    "    lon, lat = transform * coords.transpose(2, 0, 1)\n",
    "    \n",
    "    with rasterio.open(\n",
    "        tiff_output,\n",
    "        mode=\"w\",\n",
    "        driver=\"GTiff\",\n",
    "        height=lat.shape[0],\n",
    "        width=lat.shape[1],\n",
    "        count=3,\n",
    "        dtype=lat.dtype,\n",
    "        crs=\"+proj=latlong\",\n",
    "        transform=transform,\n",
    "    ) as new_dataset:\n",
    "        new_dataset.write(vnir, 1)\n",
    "        new_dataset.write(lat, 2)\n",
    "        new_dataset.write(lon, 3)\n",
    "        \n",
    "    return latv.mean(), lonv.mean()"
   ]
  },
  {
   "cell_type": "code",
   "execution_count": 16,
   "metadata": {},
   "outputs": [],
   "source": [
    "latv, lonv = prisma_2_tiff(filename, \"prisma.tif\")"
   ]
  },
  {
   "cell_type": "code",
   "execution_count": 17,
   "metadata": {},
   "outputs": [],
   "source": [
    "\n",
    "MATCHING_CUTOFF = 0.7\n",
    "SEP_CUTOFF = 0.01"
   ]
  },
  {
   "cell_type": "code",
   "execution_count": 18,
   "metadata": {},
   "outputs": [],
   "source": [
    "def adjust_lat_lon(path_to_PRISMA_file, bandforRGB, outpath=\"\"):\n",
    "    '''\n",
    "    path_to_PRISMA_file - should be the full path so that re works\n",
    "    '''\n",
    "    zoom_level = 11\n",
    "    tile_width = 7\n",
    "    tile_height = 7\n",
    "    \n",
    "    \n",
    "    metrics = {}\n",
    "    print(\"# 1 create .tif file\")\n",
    "    tiff_output = outpath + '.tif'\n",
    "    mean_lat, mean_lon = prisma_2_tiff(path_to_PRISMA_file, tiff_output, bandforRGB=bandforRGB)\n",
    "    \n",
    "    print(\"# 2 Download gmaps for the same location\")\n",
    "    gmd = GoogleMapDownloader(mean_lat, mean_lon, zoom_level,\n",
    "                              GoogleMapsLayers.SATELLITE)\n",
    "    img, tile_coords_corner = gmd.generateImage(tile_width=tile_width,\n",
    "                                                tile_height=tile_height)\n",
    "    \n",
    "    print(\" 3 Determine matched features in PRISMA image to gMaps image with SIFT\")\n",
    "    tif_coords, gmaps_coords, nmatches = \\\n",
    "        match_subblocks(tiff_output, tile_coords_corner, img, cutoff=MATCHING_CUTOFF)\n",
    "    metrics['n_matches'] = nmatches\n",
    "    del img\n",
    "    \n",
    "    orig_errs = np.sqrt(np.sum((tif_coords-gmaps_coords)**2, axis=1))\n",
    "    metrics['orig_mean_error'] = orig_errs.mean()\n",
    "    \n",
    "    keep = orig_errs < SEP_CUTOFF\n",
    "    src = np.array(tif_coords[keep])\n",
    "    dst = np.array(gmaps_coords[keep])\n",
    "    \n",
    "    \n",
    "    print(\" 4 Define mapping between PRISMA LatLon and gMaps latlon\")\n",
    "    mapping, inliers = ransac((src, dst), AffineTransform, min_samples=4,\n",
    "                               residual_threshold=0.002, max_trials=100)\n",
    "    new_errs = np.sqrt(np.sum((mapping(src)-dst)**2, axis=1))\n",
    "    metrics['new_mean_error'] = new_errs.mean()\n",
    "    \n",
    "    n_outliers = np.sum(~inliers)\n",
    "    metrics['n_outliers'] = n_outliers\n",
    "    \n",
    "    print(\" 5 Map PRISMA Latlons to gMaps latlons (ransac affine) and save for reference\")\n",
    "    orig = rasterio.open(tiff_output)\n",
    "    adjusted_latlon = mapping(np.vstack([orig.read(2).flatten(),\n",
    "                                        orig.read(3).flatten()]).transpose())\n",
    "    orig.close()\n",
    "    adjusted_latlon = adjusted_latlon.reshape((1000,1000,2))\n",
    "    #np.savez(outpath + \"_adjll.npz\", adjusted_latlon = adjusted_latlon)\n",
    "    np.save(outpath + \".npy\", adjusted_latlon)\n",
    "    return adjusted_latlon, metrics\n",
    "  "
   ]
  },
  {
   "cell_type": "code",
   "execution_count": 19,
   "metadata": {},
   "outputs": [],
   "source": [
    "class GoogleMapsLayers:\n",
    "    ROADMAP = \"v\"\n",
    "    TERRAIN = \"p\"\n",
    "    ALTERED_ROADMAP = \"r\"\n",
    "    SATELLITE = \"s\"\n",
    "    TERRAIN_ONLY = \"t\"\n",
    "    HYBRID = \"y\""
   ]
  },
  {
   "cell_type": "code",
   "execution_count": 20,
   "metadata": {},
   "outputs": [],
   "source": [
    "def pixel_to_latlon(px_x, px_y, tl_x, tl_y, zoom_level):\n",
    "        \"\"\"\n",
    "            px_x, px_y: Pixel indices of google maps image\n",
    "            tl_x, tl_y: tile indices of top left (noth-western) corner\n",
    "            zoom_level: zoom level of the image\n",
    "\n",
    "            returns: lat,lon\n",
    "        \"\"\"\n",
    "        # background:\n",
    "        # https://developers.google.com/maps/documentation/javascript/coordinates\n",
    "        # https://en.wikipedia.org/wiki/Web_Mercator_projection\n",
    "\n",
    "        tile_size = 256\n",
    "\n",
    "        world_coord_x = (tile_size*tl_x + px_x) / 2**zoom_level\n",
    "        world_coord_y = (tile_size*tl_y + px_y) / 2**zoom_level\n",
    "        \n",
    "        print(world_coord_x, world_coord_y)\n",
    "\n",
    "        lon = (2.0*math.pi*world_coord_x / 256.0 - math.pi) * 180.0 / math.pi\n",
    "        lat = (2.0*math.atan(math.e**math.pi * math.e**(- 2.0*math.pi*world_coord_y / 256.0)) - math.pi/2.0) * 180.0 / math.pi\n",
    "\n",
    "        return lat,lon"
   ]
  },
  {
   "cell_type": "code",
   "execution_count": 21,
   "metadata": {},
   "outputs": [],
   "source": [
    "class GoogleMapDownloader:\n",
    "    \"\"\"\n",
    "        A class which generates high resolution google maps images given\n",
    "        a longitude, latitude and zoom level\n",
    "    \"\"\"\n",
    "\n",
    "    def __init__(self, lat, lng, zoom=12, layer=GoogleMapsLayers.ROADMAP):\n",
    "        \"\"\"\n",
    "            GoogleMapDownloader Constructor\n",
    "            Args:\n",
    "                lat:    The latitude of the location required\n",
    "                lng:    The longitude of the location required\n",
    "                zoom:   The zoom level of the location required, ranges from 0 - 23\n",
    "                        defaults to 12\n",
    "        \"\"\"\n",
    "        self._lat = lat\n",
    "        self._lng = lng\n",
    "        self._zoom = zoom\n",
    "        self._layer = layer\n",
    "\n",
    "    def getXY(self):\n",
    "        \"\"\"\n",
    "            Generates an X,Y tile coordinate based on the latitude, longitude\n",
    "            and zoom level\n",
    "            Returns:    An X,Y tile coordinate\n",
    "        \"\"\"\n",
    "\n",
    "        tile_size = 256\n",
    "\n",
    "        # Use a left shift to get the power of 2\n",
    "        # i.e. a zoom level of 2 will have 2^2 = 4 tiles\n",
    "        numTiles = 1 << self._zoom\n",
    "\n",
    "        # Find the x_point given the longitude\n",
    "        point_x = (tile_size / 2 + self._lng * tile_size / 360.0) * numTiles // tile_size\n",
    "\n",
    "        # Convert the latitude to radians and take the sine\n",
    "        sin_y = math.sin(self._lat * (math.pi / 180.0))\n",
    "\n",
    "        # Calulate the y coorindate\n",
    "        point_y = ((tile_size / 2) + 0.5 * math.log((1 + sin_y) / (1 - sin_y)) * -(\n",
    "        tile_size / (2 * math.pi))) * numTiles // tile_size\n",
    "\n",
    "        return int(point_x), int(point_y)\n",
    "\n",
    "\n",
    "    def generateImage(self, **kwargs):\n",
    "        \"\"\"\n",
    "            Generates an image by stitching a number of google map tiles together.\n",
    "            Args:\n",
    "                start_x:        The top-left x-tile coordinate\n",
    "                start_y:        The top-left y-tile coordinate\n",
    "                tile_width:     The number of tiles wide the image should be -\n",
    "                                defaults to 5\n",
    "                tile_height:    The number of tiles high the image should be -\n",
    "                                defaults to 5\n",
    "            Returns:\n",
    "                A high-resolution Goole Map image.\n",
    "        \"\"\"\n",
    "\n",
    "        start_x = kwargs.get('start_x', None)\n",
    "        start_y = kwargs.get('start_y', None)\n",
    "        tile_width = kwargs.get('tile_width', 16)\n",
    "        tile_height = kwargs.get('tile_height', 16)\n",
    "\n",
    "        # Check that we have x and y tile coordinates\n",
    "        if start_x == None or start_y == None:\n",
    "            start_x, start_y = self.getXY()\n",
    "        # Determine the size of the image\n",
    "        width, height = 256 * tile_width, 256 * tile_height\n",
    "        # Create a new image of the size require\n",
    "        j = 1\n",
    "        map_img = Image.new('RGB', (width, height))\n",
    "        for x in range(-tile_width//2, tile_width//2 + 1):\n",
    "            for y in range(-tile_height//2, tile_height//2 +1):\n",
    "                url = f'https://mt0.google.com/vt?lyrs={self._layer}&x=' + str(start_x + x) + \\\n",
    "                       '&y=' + str(start_y + y) + '&z=' + str(self._zoom)\n",
    "                current_tile = str(x) + '-' + str(y)\n",
    "                response = requests.get(url, stream=True)\n",
    "                current_tile_pseudofile = io.BytesIO(response.raw.read())\n",
    "                im = Image.open(current_tile_pseudofile)\n",
    "                map_img.paste(im, ((x+tile_width//2) * 256, (y+tile_height//2) * 256))\n",
    "        print('Image size (pix): ', map_img.size)\n",
    "        tile_coords_corner = start_x-tile_width//2, start_y-tile_height//2\n",
    "        print(f'Tile coordinate top left (north-west) corner: {tile_coords_corner[0]},{tile_coords_corner[1]}')\n",
    "        return map_img, (tile_coords_corner)\n"
   ]
  },
  {
   "cell_type": "code",
   "execution_count": 28,
   "metadata": {},
   "outputs": [],
   "source": [
    "def latlon_to_pix(lat, lon, tl_x, tl_y, zoom_level):\n",
    "    \"\"\"\n",
    "        lat, lon: you know\n",
    "        tl_x, tl_y: tile indices of top left (noth-western) corner\n",
    "        zoom_level: zoom level of the image\n",
    "\n",
    "        returns: pixelx pixely\n",
    "    \"\"\"\n",
    "    # background:\n",
    "    # https://developers.google.com/maps/documentation/javascript/coordinates\n",
    "    # https://en.wikipedia.org/wiki/Web_Mercator_projection\n",
    "\n",
    "    tile_size = 256\n",
    "\n",
    "    world_coord_x = 128*(lon/180+1)\n",
    "    world_coord_y = (math.pi-np.log(np.tan(math.pi/360*lat+math.pi/4)))*128/(math.pi)\n",
    "    \n",
    "    px = 2**zoom_level*world_coord_x - tile_size*tl_x\n",
    "    py = 2**zoom_level*world_coord_y - tile_size*tl_y\n",
    "    #print(world_coord_x, world_coord_y)\n",
    "\n",
    "    #lon = (2.0*math.pi*world_coord_x / 256.0 - math.pi) * 180.0 / math.pi\n",
    "    #lat = (2.0*math.atan(math.e**math.pi * math.e**(- 2.0*math.pi*world_coord_y / 256.0)) - math.pi/2.0) * 180.0 / math.pi\n",
    "\n",
    "    return px, py\n"
   ]
  },
  {
   "cell_type": "code",
   "execution_count": 29,
   "metadata": {},
   "outputs": [],
   "source": [
    "def match_subblocks(tiff_file, tile_coords_corner, gmap_img, cutoff=MATCHING_CUTOFF):\n",
    "    blocks = [[[100*i,100*(i+2)-1],[100*j,100*(j+2)-1]] for i in range(9) for j in range(9)]\n",
    "    \n",
    "    # get the gmaps image\n",
    "    gm0 = rgb2gray(gmap_img)\n",
    "    gm0 = gm0 - gm0.min()\n",
    "    gm0 /= gm0.max()\n",
    "    \n",
    "    # open the tiff file\n",
    "    orig = rasterio.open(tiff_file)\n",
    "    pim = np.log(orig.read(1)) - np.log(orig.read(1)).min()\n",
    "    pim /= pim.max()\n",
    "    \n",
    "    nmatches = []\n",
    "    lla = []\n",
    "    llb = []\n",
    "    \n",
    "    for i in tqdm.tqdm(blocks):\n",
    "    # determine bounds for PRISMA sub-image\n",
    "        bounds = [\n",
    "            [i[0][0],i[1][0]],\n",
    "            [i[0][1],i[1][0]],\n",
    "            [i[0][1],i[1][1]],\n",
    "            [i[0][0],i[1][1]]\n",
    "        ]\n",
    "\n",
    "        # determine relevant portion of Gmaps to compare\n",
    "        def k1_ll(px, py):\n",
    "            return orig.read(2)[px, py], orig.read(3)[px, py]\n",
    "\n",
    "        def k2_ll(px, py):\n",
    "            latlon = pixel_to_latlon(px,py, *tile_coords_corner ,11)\n",
    "            return latlon\n",
    "\n",
    "        pbounds = []\n",
    "        for bound in bounds:\n",
    "            pbounds.append(latlon_to_pix(*k1_ll(*bound), *tile_coords_corner,11))\n",
    "        pbounds = np.array(pbounds)\n",
    "        \n",
    "        xstart, xend = int(np.floor(pbounds[:,0].min())), int(np.ceil(pbounds[:,0].max()))\n",
    "        ystart, yend = int(np.floor(pbounds[:,1].min())), int(np.ceil(pbounds[:,1].max()))\n",
    "\n",
    "        # plot the two maps side by side (and rotated!)\n",
    "        #fig, ax = plt.subplots(1, 2, figsize=(10, 10))\n",
    "        #ax[0].imshow(pim[i[0][0]:i[0][1],i[1][0]:i[1][1]])\n",
    "        #ax[1].imshow(np.rot90(gm0[ystart:yend,xstart:xend]))\n",
    "        #plt.show()\n",
    "\n",
    "        # extract descriptors for matching images\n",
    "        descriptor_extractor = SIFT()\n",
    "        try: #to deal with runtime errors which can be generated by SIFT\n",
    "            descriptor_extractor.detect_and_extract(pim[i[0][0]:i[0][1],i[1][0]:i[1][1]])\n",
    "            keypoints1 = descriptor_extractor.keypoints\n",
    "            descriptors1 = descriptor_extractor.descriptors\n",
    "            descriptor_extractor.detect_and_extract((gm0[ystart:yend,xstart:xend]))\n",
    "            keypoints2 = descriptor_extractor.keypoints\n",
    "            descriptors2 = descriptor_extractor.descriptors\n",
    "\n",
    "            matches12 = match_descriptors(descriptors1, descriptors2, max_ratio=cutoff,\n",
    "                                  cross_check=True)\n",
    "            \n",
    "            \n",
    "            #print(\"{} matches!\".format(len(matches12)))\n",
    "\n",
    "            # define local distance metrics\n",
    "            def k2_ll(px, py):\n",
    "                # not sure why the x and y coordinates switch here\n",
    "                latlon = pixel_to_latlon(py + xstart ,px + ystart,\n",
    "                                         *tile_coords_corner ,11)\n",
    "                return latlon\n",
    "\n",
    "            def k1_ll(px, py):\n",
    "                px = px + i[0][0]\n",
    "                py = py + i[1][0]\n",
    "                return orig.read(2)[px, py], orig.read(3)[px, py]\n",
    "\n",
    "            # check to see how close the points are in lat/lon, should usually have .00x accuracy\n",
    "\n",
    "            for pair in matches12:\n",
    "                ll1 = k1_ll(*keypoints1[pair[0]])\n",
    "                lla.append(ll1)\n",
    "                ll2 = k2_ll(*keypoints2[pair[1]])\n",
    "                llb.append(ll2)\n",
    "\n",
    "            nmatches.append(len(matches12))\n",
    "        except RuntimeError:\n",
    "            pass\n",
    "        \n",
    "    lla = np.array(lla)\n",
    "    llb = np.array(llb)\n",
    "    return lla, llb, nmatches    "
   ]
  },
  {
   "cell_type": "code",
   "execution_count": 38,
   "metadata": {},
   "outputs": [
    {
     "name": "stdout",
     "output_type": "stream",
     "text": [
      "Band 0 did not work\n",
      "Band 1 did not work\n",
      "Band 2 did not work\n",
      "Band 3 did not work\n",
      "Band 4 did not work\n",
      "Band 5 did not work\n",
      "Band 6 did not work\n",
      "Band 7 did not work\n",
      "Band 8 did not work\n",
      "Band 9 did not work\n",
      "Band 10 did not work\n",
      "Band 11 did not work\n",
      "Band 12 did not work\n",
      "Band 13 did not work\n",
      "Band 14 did not work\n",
      "Band 15 did not work\n",
      "Band 16 did not work\n",
      "Band 17 did not work\n",
      "Band 18 did not work\n",
      "Band 19 did not work\n",
      "Band 20 did not work\n",
      "Band 21 did not work\n",
      "Band 22 did not work\n",
      "Band 23 did not work\n",
      "Band 24 did not work\n",
      "Band 25 did not work\n",
      "Band 26 did not work\n",
      "Band 27 did not work\n",
      "Band 28 did not work\n",
      "Band 29 did not work\n",
      "Band 30 did not work\n",
      "Band 31 did not work\n",
      "Band 32 did not work\n",
      "Band 33 did not work\n",
      "Band 34 did not work\n",
      "Band 35 did not work\n",
      "Band 36 did not work\n",
      "Band 37 did not work\n",
      "Band 38 did not work\n",
      "Band 39 did not work\n",
      "Band 40 did not work\n",
      "Band 41 did not work\n",
      "Band 42 did not work\n",
      "Band 43 did not work\n",
      "Band 44 did not work\n",
      "Band 45 did not work\n",
      "Band 46 did not work\n",
      "Band 47 did not work\n",
      "Band 48 did not work\n",
      "Band 49 did not work\n",
      "Band 50 did not work\n",
      "Band 51 did not work\n",
      "Band 52 did not work\n",
      "Band 53 did not work\n",
      "Band 54 did not work\n",
      "Band 55 did not work\n",
      "Band 56 did not work\n",
      "Band 57 did not work\n",
      "Band 58 did not work\n",
      "Band 59 did not work\n",
      "Band 60 did not work\n",
      "Band 61 did not work\n",
      "Band 62 did not work\n",
      "Band 63 did not work\n",
      "Band 64 did not work\n",
      "Band 65 did not work\n"
     ]
    }
   ],
   "source": [
    "prisma_path = \"HyperSpectral4.he5\"\n",
    "prisma_path = dir_path + \"/\" + prisma_path\n",
    "outpath = \"out/out3\"\n",
    "outpath = \"data_for_malan/HyperSpectral4_band_550\"\n",
    "\n",
    "for i in range(66):\n",
    "\n",
    "    outpath = f\"data_for_malan/HyperSpectral4_band_{400 + 10*i}\"\n",
    "\n",
    "    try:\n",
    "        adjusted = adjust_lat_lon(prisma_path, outpath, 30)\n",
    "        np.save(f\"data_for_malan/Hyperspectral4_band_{400 + 10*i}.npy\")\n",
    "        \n",
    "    except:\n",
    "        print(f\"Band {i} did not work\")\n",
    "\n",
    "\n"
   ]
  },
  {
   "cell_type": "code",
   "execution_count": 26,
   "metadata": {},
   "outputs": [
    {
     "data": {
      "text/plain": [
       "(1000, 1000, 2)"
      ]
     },
     "execution_count": 26,
     "metadata": {},
     "output_type": "execute_result"
    }
   ],
   "source": [
    "adjusted[0].shape"
   ]
  },
  {
   "cell_type": "code",
   "execution_count": null,
   "metadata": {},
   "outputs": [],
   "source": [
    "np.save(\"out/out4.npy\", adjusted[0])"
   ]
  },
  {
   "cell_type": "code",
   "execution_count": null,
   "metadata": {},
   "outputs": [],
   "source": [
    "#adjusted = np.load(\"out_adjll.npz\")\n",
    "adjusted = np.load('out/out4.npy')\n",
    "adjusted.shape\n"
   ]
  },
  {
   "cell_type": "code",
   "execution_count": null,
   "metadata": {},
   "outputs": [],
   "source": [
    "from rasterio.plot import show\n",
    "with rasterio.open(\"out/out4.tif\") as src:\n",
    "    fig, ax = plt.subplots()\n",
    "\n",
    "    # transform rasterio plot to real world coords\n",
    "    extent=[src.bounds[0], src.bounds[2], src.bounds[1], src.bounds[3]]\n",
    "    ax = rasterio.plot.show(src, extent=extent, ax=ax, cmap='pink')\n",
    "    src.close()"
   ]
  },
  {
   "cell_type": "code",
   "execution_count": null,
   "metadata": {},
   "outputs": [],
   "source": []
  },
  {
   "cell_type": "code",
   "execution_count": null,
   "metadata": {},
   "outputs": [],
   "source": [
    "data_with_coord[:,:,66:] = adjusted"
   ]
  }
 ],
 "metadata": {
  "kernelspec": {
   "display_name": "Python 3",
   "language": "python",
   "name": "python3"
  },
  "language_info": {
   "codemirror_mode": {
    "name": "ipython",
    "version": 3
   },
   "file_extension": ".py",
   "mimetype": "text/x-python",
   "name": "python",
   "nbconvert_exporter": "python",
   "pygments_lexer": "ipython3",
   "version": "3.10.6"
  },
  "orig_nbformat": 4,
  "vscode": {
   "interpreter": {
    "hash": "26de051ba29f2982a8de78e945f0abaf191376122a1563185a90213a26c5da77"
   }
  }
 },
 "nbformat": 4,
 "nbformat_minor": 2
}
