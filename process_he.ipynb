{
 "cells": [
  {
   "cell_type": "code",
   "execution_count": 1,
   "metadata": {},
   "outputs": [],
   "source": [
    "import os\n",
    "import matplotlib as mpl\n",
    "import matplotlib.pyplot as plt\n",
    "#from mpl_toolkits.basemap import Basemap\n",
    "import numpy as np\n",
    "import h5py\n",
    "import pandas as pd\n",
    "import cartopy.crs as ccrs\n",
    "import geopandas as gpd\n",
    "from shapely.geometry import Point\n",
    "\n",
    "import rasterio\n",
    "import tables as tab\n",
    "import tqdm.notebook as tqdm\n",
    "from skimage.transform import  AffineTransform\n",
    "from rasterio.transform import Affine\n",
    "from skimage.measure import ransac\n",
    "from skimage.color import rgb2gray\n",
    "from skimage.feature import match_descriptors, SIFT\n",
    "from PIL import Image\n",
    "import re\n",
    "import math, requests\n",
    "import io\n",
    "import tqdm\n",
    "import sys\n",
    "\n",
    "\n",
    "\n",
    "from PRISMA_georeference import adjust_lat_lon, GoogleMapDownloader, GoogleMapsLayers, pixel_to_latlon, latlon_to_pix, prisma_2_tiff, match_subblocks"
   ]
  },
  {
   "cell_type": "code",
   "execution_count": 5,
   "metadata": {},
   "outputs": [],
   "source": [
    "dir_path = r\"C:\\Users\\simon\\Documents\\Skole\\EIT\\Tare_Naturbase\""
   ]
  },
  {
   "cell_type": "code",
   "execution_count": 6,
   "metadata": {},
   "outputs": [],
   "source": [
    "### Function for converting the PRISMA file to a .tiff\n",
    "\n",
    "def prisma_2_tiff( prisma_path, tiff_output, bandforRGB = 20 ):\n",
    "    # this function converts a PRISMA image to a geotiff file\n",
    "    # note that it also fixes a bug in the orientation of the PRISMA image\n",
    "    file1 = tab.open_file(prisma_path)\n",
    "    d2 = file1.get_node(\"/HDFEOS/SWATHS/PRS_L1_HRC/\")\n",
    "    latv = np.array(d2['Geolocation Fields']['Latitude_VNIR'])\n",
    "    lonv = np.array(d2['Geolocation Fields']['Longitude_VNIR'])\n",
    "    vnir = d2['Data Fields']['VNIR_Cube'][:,bandforRGB,:]\n",
    "    file1.close()\n",
    "    \n",
    "    lat_centered= latv - latv.mean()\n",
    "    lat_rescaled = lat_centered / lat_centered.max()\n",
    "    \n",
    "    lon_centered= lonv - lonv.mean()\n",
    "    lon_rescaled = lon_centered / -lon_centered.min()\n",
    "    \n",
    "    angle = np.arctan2(lat_rescaled, lon_rescaled, dtype=np.float32)\n",
    "    \n",
    "    x = np.linspace(-1, 1, 1000)\n",
    "    y = np.linspace(-1, 1, 1000)\n",
    "    coords = np.array(np.meshgrid(x, y), dtype=np.float32).transpose((1, 2, 0))\n",
    "    \n",
    "    theta = -angle[500,0] + np.pi/2\n",
    "    r = np.array([[np.cos(theta), -np.sin(theta)], [np.sin(theta), np.cos(theta)]])\n",
    "    c2 = coords @ r\n",
    "    \n",
    "    base_factor = np.array([lat_centered.max(), lon_centered.max()])\n",
    "    fudge_factor = np.array([c2[:,:,0].max(), -c2[:,:,1].max()]) # this is done because the input lat/lon are transposed\n",
    "    rescale_factor = base_factor/fudge_factor\n",
    "    \n",
    "    means = np.array([latv.mean(), lonv.mean()])\n",
    "    \n",
    "    x = np.arange(1000, dtype=np.float32)\n",
    "    y = np.arange(1000, dtype=np.float32)\n",
    "    coords = np.array(np.meshgrid(x, y), dtype=np.float32).transpose((1, 2, 0))\n",
    "    \n",
    "    to_normalized = Affine.scale(1/500, 1/500)*Affine.translation(-500, -500)\n",
    "    rot = Affine.rotation(-angle[0,500]*180/np.pi )\n",
    "    from_normalized = Affine.translation(*(means[::-1]))*Affine.scale(*(rescale_factor[::-1]))#*\n",
    "    transform = from_normalized*rot*to_normalized\n",
    "    \n",
    "    lon, lat = transform * coords.transpose(2, 0, 1)\n",
    "    \n",
    "    with rasterio.open(\n",
    "        tiff_output,\n",
    "        mode=\"w\",\n",
    "        driver=\"GTiff\",\n",
    "        height=lat.shape[0],\n",
    "        width=lat.shape[1],\n",
    "        count=3,\n",
    "        dtype=lat.dtype,\n",
    "        crs=\"+proj=latlong\",\n",
    "        transform=transform,\n",
    "    ) as new_dataset:\n",
    "        new_dataset.write(vnir, 1)\n",
    "        new_dataset.write(lat, 2)\n",
    "        new_dataset.write(lon, 3)\n",
    "        \n",
    "    return latv.mean(), lonv.mean()"
   ]
  },
  {
   "cell_type": "code",
   "execution_count": 7,
   "metadata": {},
   "outputs": [],
   "source": [
    "\n",
    "MATCHING_CUTOFF = 0.7\n",
    "SEP_CUTOFF = 0.01"
   ]
  },
  {
   "cell_type": "code",
   "execution_count": 8,
   "metadata": {},
   "outputs": [],
   "source": [
    "def adjust_lat_lon(path_to_PRISMA_file, bandforRGB, outpath=\"\"):\n",
    "    '''\n",
    "    path_to_PRISMA_file - should be the full path so that re works\n",
    "    '''\n",
    "    zoom_level = 11\n",
    "    tile_width = 7\n",
    "    tile_height = 7\n",
    "    \n",
    "    \n",
    "    metrics = {}\n",
    "    print(\"# 1 create .tif file\")\n",
    "    tiff_output = outpath + '.tif'\n",
    "    mean_lat, mean_lon = prisma_2_tiff(path_to_PRISMA_file, tiff_output, bandforRGB=bandforRGB)\n",
    "    \n",
    "    print(\"# 2 Download gmaps for the same location\")\n",
    "    gmd = GoogleMapDownloader(mean_lat, mean_lon, zoom_level,\n",
    "                              GoogleMapsLayers.SATELLITE)\n",
    "    img, tile_coords_corner = gmd.generateImage(tile_width=tile_width,\n",
    "                                                tile_height=tile_height)\n",
    "    \n",
    "    print(\" 3 Determine matched features in PRISMA image to gMaps image with SIFT\")\n",
    "    tif_coords, gmaps_coords, nmatches = \\\n",
    "        match_subblocks(tiff_output, tile_coords_corner, img, cutoff=MATCHING_CUTOFF)\n",
    "    metrics['n_matches'] = nmatches\n",
    "    del img\n",
    "    \n",
    "    orig_errs = np.sqrt(np.sum((tif_coords-gmaps_coords)**2, axis=1))\n",
    "    metrics['orig_mean_error'] = orig_errs.mean()\n",
    "    \n",
    "    keep = orig_errs < SEP_CUTOFF\n",
    "    src = np.array(tif_coords[keep])\n",
    "    dst = np.array(gmaps_coords[keep])\n",
    "    \n",
    "    \n",
    "    print(\" 4 Define mapping between PRISMA LatLon and gMaps latlon\")\n",
    "    mapping, inliers = ransac((src, dst), AffineTransform, min_samples=4,\n",
    "                               residual_threshold=0.002, max_trials=100)\n",
    "    new_errs = np.sqrt(np.sum((mapping(src)-dst)**2, axis=1))\n",
    "    metrics['new_mean_error'] = new_errs.mean()\n",
    "    \n",
    "    n_outliers = np.sum(~inliers)\n",
    "    metrics['n_outliers'] = n_outliers\n",
    "    \n",
    "    print(\" 5 Map PRISMA Latlons to gMaps latlons (ransac affine) and save for reference\")\n",
    "    orig = rasterio.open(tiff_output)\n",
    "    adjusted_latlon = mapping(np.vstack([orig.read(2).flatten(),\n",
    "                                        orig.read(3).flatten()]).transpose())\n",
    "    orig.close()\n",
    "    adjusted_latlon = adjusted_latlon.reshape((1000,1000,2))\n",
    "    #np.savez(outpath + \"_adjll.npz\", adjusted_latlon = adjusted_latlon)\n",
    "    np.save(outpath + \".npy\", adjusted_latlon)\n",
    "    return adjusted_latlon, metrics\n",
    "  "
   ]
  },
  {
   "cell_type": "code",
   "execution_count": 9,
   "metadata": {},
   "outputs": [],
   "source": [
    "class GoogleMapsLayers:\n",
    "    ROADMAP = \"v\"\n",
    "    TERRAIN = \"p\"\n",
    "    ALTERED_ROADMAP = \"r\"\n",
    "    SATELLITE = \"s\"\n",
    "    TERRAIN_ONLY = \"t\"\n",
    "    HYBRID = \"y\""
   ]
  },
  {
   "cell_type": "code",
   "execution_count": 10,
   "metadata": {},
   "outputs": [],
   "source": [
    "def pixel_to_latlon(px_x, px_y, tl_x, tl_y, zoom_level):\n",
    "        \"\"\"\n",
    "            px_x, px_y: Pixel indices of google maps image\n",
    "            tl_x, tl_y: tile indices of top left (noth-western) corner\n",
    "            zoom_level: zoom level of the image\n",
    "\n",
    "            returns: lat,lon\n",
    "        \"\"\"\n",
    "        # background:\n",
    "        # https://developers.google.com/maps/documentation/javascript/coordinates\n",
    "        # https://en.wikipedia.org/wiki/Web_Mercator_projection\n",
    "\n",
    "        tile_size = 256\n",
    "\n",
    "        world_coord_x = (tile_size*tl_x + px_x) / 2**zoom_level\n",
    "        world_coord_y = (tile_size*tl_y + px_y) / 2**zoom_level\n",
    "        \n",
    "        print(world_coord_x, world_coord_y)\n",
    "\n",
    "        lon = (2.0*math.pi*world_coord_x / 256.0 - math.pi) * 180.0 / math.pi\n",
    "        lat = (2.0*math.atan(math.e**math.pi * math.e**(- 2.0*math.pi*world_coord_y / 256.0)) - math.pi/2.0) * 180.0 / math.pi\n",
    "\n",
    "        return lat,lon"
   ]
  },
  {
   "cell_type": "code",
   "execution_count": 11,
   "metadata": {},
   "outputs": [],
   "source": [
    "class GoogleMapDownloader:\n",
    "    \"\"\"\n",
    "        A class which generates high resolution google maps images given\n",
    "        a longitude, latitude and zoom level\n",
    "    \"\"\"\n",
    "\n",
    "    def __init__(self, lat, lng, zoom=12, layer=GoogleMapsLayers.ROADMAP):\n",
    "        \"\"\"\n",
    "            GoogleMapDownloader Constructor\n",
    "            Args:\n",
    "                lat:    The latitude of the location required\n",
    "                lng:    The longitude of the location required\n",
    "                zoom:   The zoom level of the location required, ranges from 0 - 23\n",
    "                        defaults to 12\n",
    "        \"\"\"\n",
    "        self._lat = lat\n",
    "        self._lng = lng\n",
    "        self._zoom = zoom\n",
    "        self._layer = layer\n",
    "\n",
    "    def getXY(self):\n",
    "        \"\"\"\n",
    "            Generates an X,Y tile coordinate based on the latitude, longitude\n",
    "            and zoom level\n",
    "            Returns:    An X,Y tile coordinate\n",
    "        \"\"\"\n",
    "\n",
    "        tile_size = 256\n",
    "\n",
    "        # Use a left shift to get the power of 2\n",
    "        # i.e. a zoom level of 2 will have 2^2 = 4 tiles\n",
    "        numTiles = 1 << self._zoom\n",
    "\n",
    "        # Find the x_point given the longitude\n",
    "        point_x = (tile_size / 2 + self._lng * tile_size / 360.0) * numTiles // tile_size\n",
    "\n",
    "        # Convert the latitude to radians and take the sine\n",
    "        sin_y = math.sin(self._lat * (math.pi / 180.0))\n",
    "\n",
    "        # Calulate the y coorindate\n",
    "        point_y = ((tile_size / 2) + 0.5 * math.log((1 + sin_y) / (1 - sin_y)) * -(\n",
    "        tile_size / (2 * math.pi))) * numTiles // tile_size\n",
    "\n",
    "        return int(point_x), int(point_y)\n",
    "\n",
    "\n",
    "    def generateImage(self, **kwargs):\n",
    "        \"\"\"\n",
    "            Generates an image by stitching a number of google map tiles together.\n",
    "            Args:\n",
    "                start_x:        The top-left x-tile coordinate\n",
    "                start_y:        The top-left y-tile coordinate\n",
    "                tile_width:     The number of tiles wide the image should be -\n",
    "                                defaults to 5\n",
    "                tile_height:    The number of tiles high the image should be -\n",
    "                                defaults to 5\n",
    "            Returns:\n",
    "                A high-resolution Goole Map image.\n",
    "        \"\"\"\n",
    "\n",
    "        start_x = kwargs.get('start_x', None)\n",
    "        start_y = kwargs.get('start_y', None)\n",
    "        tile_width = kwargs.get('tile_width', 16)\n",
    "        tile_height = kwargs.get('tile_height', 16)\n",
    "\n",
    "        # Check that we have x and y tile coordinates\n",
    "        if start_x == None or start_y == None:\n",
    "            start_x, start_y = self.getXY()\n",
    "        # Determine the size of the image\n",
    "        width, height = 256 * tile_width, 256 * tile_height\n",
    "        # Create a new image of the size require\n",
    "        j = 1\n",
    "        map_img = Image.new('RGB', (width, height))\n",
    "        for x in range(-tile_width//2, tile_width//2 + 1):\n",
    "            for y in range(-tile_height//2, tile_height//2 +1):\n",
    "                url = f'https://mt0.google.com/vt?lyrs={self._layer}&x=' + str(start_x + x) + \\\n",
    "                       '&y=' + str(start_y + y) + '&z=' + str(self._zoom)\n",
    "                current_tile = str(x) + '-' + str(y)\n",
    "                response = requests.get(url, stream=True)\n",
    "                current_tile_pseudofile = io.BytesIO(response.raw.read())\n",
    "                im = Image.open(current_tile_pseudofile)\n",
    "                map_img.paste(im, ((x+tile_width//2) * 256, (y+tile_height//2) * 256))\n",
    "        print('Image size (pix): ', map_img.size)\n",
    "        tile_coords_corner = start_x-tile_width//2, start_y-tile_height//2\n",
    "        print(f'Tile coordinate top left (north-west) corner: {tile_coords_corner[0]},{tile_coords_corner[1]}')\n",
    "        return map_img, (tile_coords_corner)\n"
   ]
  },
  {
   "cell_type": "code",
   "execution_count": 12,
   "metadata": {},
   "outputs": [],
   "source": [
    "def latlon_to_pix(lat, lon, tl_x, tl_y, zoom_level):\n",
    "    \"\"\"\n",
    "        lat, lon: you know\n",
    "        tl_x, tl_y: tile indices of top left (noth-western) corner\n",
    "        zoom_level: zoom level of the image\n",
    "\n",
    "        returns: pixelx pixely\n",
    "    \"\"\"\n",
    "    # background:\n",
    "    # https://developers.google.com/maps/documentation/javascript/coordinates\n",
    "    # https://en.wikipedia.org/wiki/Web_Mercator_projection\n",
    "\n",
    "    tile_size = 256\n",
    "\n",
    "    world_coord_x = 128*(lon/180+1)\n",
    "    world_coord_y = (math.pi-np.log(np.tan(math.pi/360*lat+math.pi/4)))*128/(math.pi)\n",
    "    \n",
    "    px = 2**zoom_level*world_coord_x - tile_size*tl_x\n",
    "    py = 2**zoom_level*world_coord_y - tile_size*tl_y\n",
    "    #print(world_coord_x, world_coord_y)\n",
    "\n",
    "    #lon = (2.0*math.pi*world_coord_x / 256.0 - math.pi) * 180.0 / math.pi\n",
    "    #lat = (2.0*math.atan(math.e**math.pi * math.e**(- 2.0*math.pi*world_coord_y / 256.0)) - math.pi/2.0) * 180.0 / math.pi\n",
    "\n",
    "    return px, py\n"
   ]
  },
  {
   "cell_type": "code",
   "execution_count": 13,
   "metadata": {},
   "outputs": [],
   "source": [
    "def match_subblocks(tiff_file, tile_coords_corner, gmap_img, cutoff=MATCHING_CUTOFF):\n",
    "    blocks = [[[100*i,100*(i+2)-1],[100*j,100*(j+2)-1]] for i in range(9) for j in range(9)]\n",
    "    \n",
    "    # get the gmaps image\n",
    "    gm0 = rgb2gray(gmap_img)\n",
    "    gm0 = gm0 - gm0.min()\n",
    "    gm0 /= gm0.max()\n",
    "    \n",
    "    # open the tiff file\n",
    "    orig = rasterio.open(tiff_file)\n",
    "    pim = np.log(orig.read(1)) - np.log(orig.read(1)).min()\n",
    "    pim /= pim.max()\n",
    "    \n",
    "    nmatches = []\n",
    "    lla = []\n",
    "    llb = []\n",
    "    \n",
    "    for i in tqdm.tqdm(blocks):\n",
    "    # determine bounds for PRISMA sub-image\n",
    "        bounds = [\n",
    "            [i[0][0],i[1][0]],\n",
    "            [i[0][1],i[1][0]],\n",
    "            [i[0][1],i[1][1]],\n",
    "            [i[0][0],i[1][1]]\n",
    "        ]\n",
    "\n",
    "        # determine relevant portion of Gmaps to compare\n",
    "        def k1_ll(px, py):\n",
    "            return orig.read(2)[px, py], orig.read(3)[px, py]\n",
    "\n",
    "        def k2_ll(px, py):\n",
    "            latlon = pixel_to_latlon(px,py, *tile_coords_corner ,11)\n",
    "            return latlon\n",
    "\n",
    "        pbounds = []\n",
    "        for bound in bounds:\n",
    "            pbounds.append(latlon_to_pix(*k1_ll(*bound), *tile_coords_corner,11))\n",
    "        pbounds = np.array(pbounds)\n",
    "        \n",
    "        xstart, xend = int(np.floor(pbounds[:,0].min())), int(np.ceil(pbounds[:,0].max()))\n",
    "        ystart, yend = int(np.floor(pbounds[:,1].min())), int(np.ceil(pbounds[:,1].max()))\n",
    "\n",
    "        # plot the two maps side by side (and rotated!)\n",
    "        #fig, ax = plt.subplots(1, 2, figsize=(10, 10))\n",
    "        #ax[0].imshow(pim[i[0][0]:i[0][1],i[1][0]:i[1][1]])\n",
    "        #ax[1].imshow(np.rot90(gm0[ystart:yend,xstart:xend]))\n",
    "        #plt.show()\n",
    "\n",
    "        # extract descriptors for matching images\n",
    "        descriptor_extractor = SIFT()\n",
    "        try: #to deal with runtime errors which can be generated by SIFT\n",
    "            descriptor_extractor.detect_and_extract(pim[i[0][0]:i[0][1],i[1][0]:i[1][1]])\n",
    "            keypoints1 = descriptor_extractor.keypoints\n",
    "            descriptors1 = descriptor_extractor.descriptors\n",
    "            descriptor_extractor.detect_and_extract((gm0[ystart:yend,xstart:xend]))\n",
    "            keypoints2 = descriptor_extractor.keypoints\n",
    "            descriptors2 = descriptor_extractor.descriptors\n",
    "\n",
    "            matches12 = match_descriptors(descriptors1, descriptors2, max_ratio=cutoff,\n",
    "                                  cross_check=True)\n",
    "            \n",
    "            \n",
    "            #print(\"{} matches!\".format(len(matches12)))\n",
    "\n",
    "            # define local distance metrics\n",
    "            def k2_ll(px, py):\n",
    "                # not sure why the x and y coordinates switch here\n",
    "                latlon = pixel_to_latlon(py + xstart ,px + ystart,\n",
    "                                         *tile_coords_corner ,11)\n",
    "                return latlon\n",
    "\n",
    "            def k1_ll(px, py):\n",
    "                px = px + i[0][0]\n",
    "                py = py + i[1][0]\n",
    "                return orig.read(2)[px, py], orig.read(3)[px, py]\n",
    "\n",
    "            # check to see how close the points are in lat/lon, should usually have .00x accuracy\n",
    "\n",
    "            for pair in matches12:\n",
    "                ll1 = k1_ll(*keypoints1[pair[0]])\n",
    "                lla.append(ll1)\n",
    "                ll2 = k2_ll(*keypoints2[pair[1]])\n",
    "                llb.append(ll2)\n",
    "\n",
    "            nmatches.append(len(matches12))\n",
    "        except RuntimeError:\n",
    "            pass\n",
    "        \n",
    "    lla = np.array(lla)\n",
    "    llb = np.array(llb)\n",
    "    return lla, llb, nmatches    "
   ]
  },
  {
   "cell_type": "code",
   "execution_count": 14,
   "metadata": {},
   "outputs": [
    {
     "name": "stdout",
     "output_type": "stream",
     "text": [
      "# 1 create .tif file\n",
      "# 2 Download gmaps for the same location\n"
     ]
    },
    {
     "name": "stderr",
     "output_type": "stream",
     "text": [
      "C:\\Users\\simon\\AppData\\Local\\Temp\\ipykernel_8172\\2190685278.py:11: RuntimeWarning: divide by zero encountered in log\n",
      "  pim = np.log(orig.read(1)) - np.log(orig.read(1)).min()\n",
      "C:\\Users\\simon\\AppData\\Local\\Temp\\ipykernel_8172\\2190685278.py:11: RuntimeWarning: invalid value encountered in subtract\n",
      "  pim = np.log(orig.read(1)) - np.log(orig.read(1)).min()\n"
     ]
    },
    {
     "name": "stdout",
     "output_type": "stream",
     "text": [
      "Image size (pix):  (1792, 1792)\n",
      "Tile coordinate top left (north-west) corner: 1048,568\n",
      " 3 Determine matched features in PRISMA image to gMaps image with SIFT\n"
     ]
    },
    {
     "name": "stderr",
     "output_type": "stream",
     "text": [
      "100%|██████████| 81/81 [01:08<00:00,  1.18it/s]\n"
     ]
    },
    {
     "name": "stdout",
     "output_type": "stream",
     "text": [
      "Band 0 did not work\n",
      "# 1 create .tif file\n",
      "# 2 Download gmaps for the same location\n",
      "Image size (pix):  (1792, 1792)\n",
      "Tile coordinate top left (north-west) corner: 1048,568\n",
      " 3 Determine matched features in PRISMA image to gMaps image with SIFT\n"
     ]
    },
    {
     "name": "stderr",
     "output_type": "stream",
     "text": [
      "100%|██████████| 81/81 [01:06<00:00,  1.22it/s]\n"
     ]
    },
    {
     "name": "stdout",
     "output_type": "stream",
     "text": [
      "Band 1 did not work\n",
      "# 1 create .tif file\n",
      "# 2 Download gmaps for the same location\n",
      "Image size (pix):  (1792, 1792)\n",
      "Tile coordinate top left (north-west) corner: 1048,568\n",
      " 3 Determine matched features in PRISMA image to gMaps image with SIFT\n"
     ]
    },
    {
     "name": "stderr",
     "output_type": "stream",
     "text": [
      "100%|██████████| 81/81 [01:05<00:00,  1.23it/s]\n"
     ]
    },
    {
     "name": "stdout",
     "output_type": "stream",
     "text": [
      "Band 2 did not work\n",
      "# 1 create .tif file\n",
      "# 2 Download gmaps for the same location\n",
      "Image size (pix):  (1792, 1792)\n",
      "Tile coordinate top left (north-west) corner: 1048,568\n",
      " 3 Determine matched features in PRISMA image to gMaps image with SIFT\n"
     ]
    },
    {
     "name": "stderr",
     "output_type": "stream",
     "text": [
      "  2%|▏         | 2/81 [00:00<00:30,  2.61it/s]"
     ]
    },
    {
     "name": "stdout",
     "output_type": "stream",
     "text": [
      "131.57080078125 71.42626953125\n",
      "131.572265625 71.42724609375\n",
      "131.57568359375 71.3935546875\n",
      "131.56884765625 71.392578125\n",
      "131.6025390625 71.3955078125\n",
      "131.56689453125 71.41015625\n",
      "131.56005859375 71.40869140625\n",
      "131.56884765625 71.392578125\n",
      "131.5732421875 71.392578125\n",
      "131.56005859375 71.40869140625\n"
     ]
    },
    {
     "name": "stderr",
     "output_type": "stream",
     "text": [
      "  4%|▎         | 3/81 [00:01<00:33,  2.33it/s]"
     ]
    },
    {
     "name": "stdout",
     "output_type": "stream",
     "text": [
      "131.57080078125 71.42626953125\n",
      "131.57568359375 71.3935546875\n",
      "131.5693359375 71.40869140625\n",
      "131.56884765625 71.392578125\n",
      "131.55712890625 71.4267578125\n",
      "131.6025390625 71.3955078125\n",
      "131.59521484375 71.42822265625\n",
      "131.56689453125 71.41015625\n",
      "131.56005859375 71.40869140625\n",
      "131.5810546875 71.46435546875\n",
      "131.56884765625 71.392578125\n",
      "131.5732421875 71.392578125\n",
      "131.56005859375 71.40869140625\n"
     ]
    },
    {
     "name": "stderr",
     "output_type": "stream",
     "text": [
      "  5%|▍         | 4/81 [00:01<00:31,  2.45it/s]"
     ]
    },
    {
     "name": "stdout",
     "output_type": "stream",
     "text": [
      "131.578125 71.50244140625\n",
      "131.5712890625 71.49951171875\n",
      "131.5810546875 71.46435546875\n"
     ]
    },
    {
     "name": "stderr",
     "output_type": "stream",
     "text": [
      "  6%|▌         | 5/81 [00:02<00:31,  2.43it/s]"
     ]
    },
    {
     "name": "stdout",
     "output_type": "stream",
     "text": [
      "131.5673828125 71.54443359375\n",
      "131.56494140625 71.54345703125\n",
      "131.578125 71.50244140625\n",
      "131.57861328125 71.486328125\n",
      "131.55859375 71.53759765625\n",
      "131.57373046875 71.5009765625\n",
      "131.5712890625 71.49951171875\n",
      "131.517578125 71.51123046875\n",
      "131.57958984375 71.484375\n",
      "131.55615234375 71.5361328125\n",
      "131.57373046875 71.5009765625\n",
      "131.517578125 71.51123046875\n"
     ]
    },
    {
     "name": "stderr",
     "output_type": "stream",
     "text": [
      "  7%|▋         | 6/81 [00:02<00:35,  2.13it/s]"
     ]
    },
    {
     "name": "stdout",
     "output_type": "stream",
     "text": [
      "131.55859375 71.53759765625\n",
      "131.5419921875 71.58056640625\n",
      "131.54248046875 71.5771484375\n",
      "131.529296875 71.5517578125\n",
      "131.568359375 71.580078125\n",
      "131.50830078125 71.54833984375\n",
      "131.517578125 71.51123046875\n",
      "131.53369140625 71.5498046875\n",
      "131.55615234375 71.5361328125\n",
      "131.54638671875 71.57275390625\n",
      "131.517578125 71.51123046875\n"
     ]
    },
    {
     "name": "stderr",
     "output_type": "stream",
     "text": [
      "  9%|▊         | 7/81 [00:03<00:42,  1.74it/s]"
     ]
    },
    {
     "name": "stdout",
     "output_type": "stream",
     "text": [
      "131.54931640625 71.58447265625\n",
      "131.5419921875 71.58056640625\n",
      "131.54248046875 71.5771484375\n",
      "131.52587890625 71.578125\n",
      "131.5185546875 71.5869140625\n",
      "131.51806640625 71.580078125\n",
      "131.5048828125 71.60205078125\n",
      "131.5068359375 71.595703125\n",
      "131.5107421875 71.58056640625\n",
      "131.50244140625 71.6005859375\n",
      "131.509765625 71.57861328125\n",
      "131.49072265625 71.5888671875\n",
      "131.498046875 71.55517578125\n",
      "131.47412109375 71.59375\n",
      "131.5458984375 71.5810546875\n",
      "131.54345703125 71.57861328125\n",
      "131.5166015625 71.58984375\n",
      "131.51611328125 71.58837890625\n",
      "131.513671875 71.5869140625\n",
      "131.4775390625 71.59326171875\n",
      "131.4951171875 71.595703125\n",
      "131.5234375 71.54638671875\n",
      "131.5322265625 71.57666015625\n",
      "131.529296875 71.572265625\n",
      "131.50927734375 71.58984375\n",
      "131.48388671875 71.59033203125\n",
      "131.52001953125 71.6044921875\n",
      "131.5390625 71.578125\n",
      "131.54443359375 71.5849609375\n",
      "131.529296875 71.572265625\n"
     ]
    },
    {
     "name": "stderr",
     "output_type": "stream",
     "text": [
      " 10%|▉         | 8/81 [00:04<00:45,  1.59it/s]"
     ]
    },
    {
     "name": "stdout",
     "output_type": "stream",
     "text": [
      "131.49462890625 71.61474609375\n",
      "131.5185546875 71.5869140625\n",
      "131.5048828125 71.60205078125\n",
      "131.5107421875 71.58056640625\n",
      "131.50537109375 71.59521484375\n",
      "131.50244140625 71.6005859375\n",
      "131.509765625 71.57861328125\n",
      "131.4951171875 71.60791015625\n",
      "131.49072265625 71.5888671875\n",
      "131.48291015625 71.60888671875\n",
      "131.47509765625 71.599609375\n",
      "131.47412109375 71.59375\n",
      "131.5166015625 71.58984375\n",
      "131.51611328125 71.58837890625\n",
      "131.513671875 71.5869140625\n",
      "131.4951171875 71.595703125\n",
      "131.4853515625 71.60693359375\n",
      "131.48828125 71.57275390625\n"
     ]
    },
    {
     "name": "stderr",
     "output_type": "stream",
     "text": [
      " 11%|█         | 9/81 [00:04<00:44,  1.61it/s]"
     ]
    },
    {
     "name": "stdout",
     "output_type": "stream",
     "text": [
      "131.51904296875 71.6728515625\n",
      "131.505859375 71.6796875\n",
      "131.49462890625 71.61474609375\n",
      "131.52099609375 71.6533203125\n",
      "131.5361328125 71.654296875\n",
      "131.48291015625 71.60888671875\n",
      "131.45654296875 71.64404296875\n",
      "131.51220703125 71.68603515625\n",
      "131.513671875 71.65380859375\n",
      "131.5078125 71.68212890625\n",
      "131.51904296875 71.6728515625\n",
      "131.513671875 71.65380859375\n"
     ]
    },
    {
     "name": "stderr",
     "output_type": "stream",
     "text": [
      " 14%|█▎        | 11/81 [00:05<00:32,  2.15it/s]"
     ]
    },
    {
     "name": "stdout",
     "output_type": "stream",
     "text": [
      "131.57568359375 71.3935546875\n",
      "131.5693359375 71.40869140625\n",
      "131.56884765625 71.392578125\n",
      "131.56689453125 71.41015625\n",
      "131.56005859375 71.40869140625\n",
      "131.5498046875 71.3720703125\n",
      "131.56884765625 71.392578125\n",
      "131.5732421875 71.392578125\n",
      "131.56005859375 71.40869140625\n"
     ]
    },
    {
     "name": "stderr",
     "output_type": "stream",
     "text": [
      " 15%|█▍        | 12/81 [00:05<00:29,  2.31it/s]"
     ]
    },
    {
     "name": "stdout",
     "output_type": "stream",
     "text": [
      "131.57568359375 71.3935546875\n",
      "131.5693359375 71.40869140625\n",
      "131.56884765625 71.392578125\n",
      "131.55712890625 71.4267578125\n",
      "131.56689453125 71.41015625\n",
      "131.56005859375 71.40869140625\n",
      "131.56884765625 71.392578125\n",
      "131.5732421875 71.392578125\n",
      "131.56005859375 71.40869140625\n"
     ]
    },
    {
     "name": "stderr",
     "output_type": "stream",
     "text": [
      " 16%|█▌        | 13/81 [00:05<00:25,  2.66it/s]"
     ]
    },
    {
     "name": "stdout",
     "output_type": "stream",
     "text": [
      "131.55712890625 71.4267578125\n"
     ]
    },
    {
     "name": "stderr",
     "output_type": "stream",
     "text": [
      " 17%|█▋        | 14/81 [00:06<00:22,  3.04it/s]"
     ]
    },
    {
     "name": "stdout",
     "output_type": "stream",
     "text": [
      "131.517578125 71.51123046875\n",
      "131.517578125 71.51123046875\n"
     ]
    },
    {
     "name": "stderr",
     "output_type": "stream",
     "text": [
      " 19%|█▊        | 15/81 [00:06<00:21,  3.02it/s]"
     ]
    },
    {
     "name": "stdout",
     "output_type": "stream",
     "text": [
      "131.51611328125 71.5712890625\n",
      "131.498046875 71.55517578125\n",
      "131.5400390625 71.5556640625\n",
      "131.517578125 71.51123046875\n",
      "131.517578125 71.51123046875\n"
     ]
    },
    {
     "name": "stderr",
     "output_type": "stream",
     "text": [
      " 20%|█▉        | 16/81 [00:07<00:25,  2.54it/s]"
     ]
    },
    {
     "name": "stdout",
     "output_type": "stream",
     "text": [
      "131.5048828125 71.60205078125\n",
      "131.5068359375 71.595703125\n",
      "131.5107421875 71.58056640625\n",
      "131.50537109375 71.59521484375\n",
      "131.50244140625 71.6005859375\n",
      "131.509765625 71.57861328125\n",
      "131.49072265625 71.5888671875\n",
      "131.498046875 71.55517578125\n",
      "131.47412109375 71.59375\n",
      "131.4580078125 71.55078125\n",
      "131.48974609375 71.59619140625\n",
      "131.4951171875 71.595703125\n",
      "131.48828125 71.57275390625\n",
      "131.5234375 71.54638671875\n",
      "131.4833984375 71.59033203125\n",
      "131.45556640625 71.5537109375\n",
      "131.4560546875 71.55126953125\n"
     ]
    },
    {
     "name": "stderr",
     "output_type": "stream",
     "text": [
      " 21%|██        | 17/81 [00:07<00:30,  2.12it/s]"
     ]
    },
    {
     "name": "stdout",
     "output_type": "stream",
     "text": [
      "131.5048828125 71.60205078125\n",
      "131.5107421875 71.58056640625\n",
      "131.50537109375 71.59521484375\n",
      "131.50244140625 71.6005859375\n",
      "131.509765625 71.57861328125\n",
      "131.4951171875 71.60791015625\n",
      "131.49072265625 71.5888671875\n",
      "131.48291015625 71.60888671875\n",
      "131.47509765625 71.599609375\n",
      "131.47412109375 71.59375\n",
      "131.44677734375 71.607421875\n",
      "131.49462890625 71.61474609375\n",
      "131.4951171875 71.595703125\n",
      "131.4853515625 71.60693359375\n",
      "131.48828125 71.57275390625\n",
      "131.451171875 71.60498046875\n",
      "131.44580078125 71.6123046875\n",
      "131.4482421875 71.60595703125\n",
      "131.48388671875 71.59033203125\n",
      "131.48291015625 71.60888671875\n"
     ]
    },
    {
     "name": "stderr",
     "output_type": "stream",
     "text": [
      " 22%|██▏       | 18/81 [00:08<00:30,  2.08it/s]"
     ]
    },
    {
     "name": "stdout",
     "output_type": "stream",
     "text": [
      "131.4853515625 71.59326171875\n",
      "131.48291015625 71.60888671875\n",
      "131.4443359375 71.63916015625\n",
      "131.45654296875 71.64404296875\n",
      "131.48779296875 71.59619140625\n",
      "131.439453125 71.63720703125\n",
      "131.44677734375 71.607421875\n",
      "131.43505859375 71.63623046875\n",
      "131.49462890625 71.61474609375\n",
      "131.451171875 71.60498046875\n",
      "131.44580078125 71.6123046875\n",
      "131.4482421875 71.60595703125\n",
      "131.48291015625 71.60888671875\n"
     ]
    },
    {
     "name": "stderr",
     "output_type": "stream",
     "text": [
      " 30%|██▉       | 24/81 [00:08<00:09,  5.72it/s]"
     ]
    },
    {
     "name": "stdout",
     "output_type": "stream",
     "text": [
      "131.4580078125 71.55078125\n"
     ]
    },
    {
     "name": "stderr",
     "output_type": "stream",
     "text": [
      " 31%|███       | 25/81 [00:09<00:10,  5.21it/s]"
     ]
    },
    {
     "name": "stdout",
     "output_type": "stream",
     "text": [
      "131.4580078125 71.55078125\n",
      "131.4560546875 71.55126953125\n",
      "131.45556640625 71.5537109375\n",
      "131.4560546875 71.55126953125\n"
     ]
    },
    {
     "name": "stderr",
     "output_type": "stream",
     "text": [
      " 32%|███▏      | 26/81 [00:09<00:12,  4.39it/s]"
     ]
    },
    {
     "name": "stdout",
     "output_type": "stream",
     "text": [
      "131.44677734375 71.607421875\n",
      "131.451171875 71.60498046875\n",
      "131.44580078125 71.6123046875\n",
      "131.4482421875 71.60595703125\n"
     ]
    },
    {
     "name": "stderr",
     "output_type": "stream",
     "text": [
      " 36%|███▌      | 29/81 [00:10<00:09,  5.65it/s]"
     ]
    },
    {
     "name": "stdout",
     "output_type": "stream",
     "text": [
      "131.439453125 71.63720703125\n",
      "131.44677734375 71.607421875\n",
      "131.43505859375 71.63623046875\n",
      "131.4287109375 71.63330078125\n",
      "131.451171875 71.60498046875\n",
      "131.44580078125 71.6123046875\n",
      "131.4482421875 71.60595703125\n",
      "131.4443359375 71.63916015625\n"
     ]
    },
    {
     "name": "stderr",
     "output_type": "stream",
     "text": [
      " 43%|████▎     | 35/81 [00:10<00:05,  8.33it/s]"
     ]
    },
    {
     "name": "stdout",
     "output_type": "stream",
     "text": [
      "131.45361328125 71.55224609375\n"
     ]
    },
    {
     "name": "stderr",
     "output_type": "stream",
     "text": [
      " 48%|████▊     | 39/81 [00:10<00:04,  9.95it/s]"
     ]
    },
    {
     "name": "stdout",
     "output_type": "stream",
     "text": [
      "131.46728515625 71.25244140625\n"
     ]
    },
    {
     "name": "stderr",
     "output_type": "stream",
     "text": [
      " 85%|████████▌ | 69/81 [00:13<00:01,  7.89it/s]"
     ]
    },
    {
     "name": "stdout",
     "output_type": "stream",
     "text": [
      "131.2646484375 71.39697265625\n"
     ]
    },
    {
     "name": "stderr",
     "output_type": "stream",
     "text": [
      " 96%|█████████▋| 78/81 [00:15<00:00,  6.37it/s]"
     ]
    },
    {
     "name": "stdout",
     "output_type": "stream",
     "text": [
      "131.2646484375 71.39697265625\n"
     ]
    },
    {
     "name": "stderr",
     "output_type": "stream",
     "text": [
      "100%|██████████| 81/81 [00:15<00:00,  5.15it/s]\n"
     ]
    },
    {
     "name": "stdout",
     "output_type": "stream",
     "text": [
      " 4 Define mapping between PRISMA LatLon and gMaps latlon\n",
      " 5 Map PRISMA Latlons to gMaps latlons (ransac affine) and save for reference\n",
      "Band 3 did not work\n",
      "# 1 create .tif file\n",
      "# 2 Download gmaps for the same location\n",
      "Image size (pix):  (1792, 1792)\n",
      "Tile coordinate top left (north-west) corner: 1048,568\n",
      " 3 Determine matched features in PRISMA image to gMaps image with SIFT\n"
     ]
    },
    {
     "name": "stderr",
     "output_type": "stream",
     "text": [
      "100%|██████████| 81/81 [01:08<00:00,  1.18it/s]\n"
     ]
    },
    {
     "name": "stdout",
     "output_type": "stream",
     "text": [
      "Band 4 did not work\n",
      "# 1 create .tif file\n",
      "# 2 Download gmaps for the same location\n",
      "Image size (pix):  (1792, 1792)\n",
      "Tile coordinate top left (north-west) corner: 1048,568\n",
      " 3 Determine matched features in PRISMA image to gMaps image with SIFT\n"
     ]
    },
    {
     "name": "stderr",
     "output_type": "stream",
     "text": [
      "100%|██████████| 81/81 [01:07<00:00,  1.21it/s]\n"
     ]
    },
    {
     "name": "stdout",
     "output_type": "stream",
     "text": [
      "Band 5 did not work\n",
      "# 1 create .tif file\n",
      "# 2 Download gmaps for the same location\n",
      "Image size (pix):  (1792, 1792)\n",
      "Tile coordinate top left (north-west) corner: 1048,568\n",
      " 3 Determine matched features in PRISMA image to gMaps image with SIFT\n"
     ]
    },
    {
     "name": "stderr",
     "output_type": "stream",
     "text": [
      "100%|██████████| 81/81 [01:08<00:00,  1.19it/s]\n"
     ]
    },
    {
     "name": "stdout",
     "output_type": "stream",
     "text": [
      "Band 6 did not work\n",
      "# 1 create .tif file\n",
      "# 2 Download gmaps for the same location\n",
      "Image size (pix):  (1792, 1792)\n",
      "Tile coordinate top left (north-west) corner: 1048,568\n",
      " 3 Determine matched features in PRISMA image to gMaps image with SIFT\n"
     ]
    },
    {
     "name": "stderr",
     "output_type": "stream",
     "text": [
      "  2%|▏         | 2/81 [00:00<00:31,  2.50it/s]"
     ]
    },
    {
     "name": "stdout",
     "output_type": "stream",
     "text": [
      "131.57080078125 71.42626953125\n",
      "131.57568359375 71.3935546875\n",
      "131.56884765625 71.392578125\n",
      "131.6025390625 71.3955078125\n",
      "131.56689453125 71.41015625\n",
      "131.56005859375 71.40869140625\n",
      "131.56884765625 71.392578125\n",
      "131.5732421875 71.392578125\n",
      "131.56005859375 71.40869140625\n"
     ]
    },
    {
     "name": "stderr",
     "output_type": "stream",
     "text": [
      "  4%|▎         | 3/81 [00:01<00:35,  2.20it/s]"
     ]
    },
    {
     "name": "stdout",
     "output_type": "stream",
     "text": [
      "131.57080078125 71.42626953125\n",
      "131.57568359375 71.3935546875\n",
      "131.5693359375 71.40869140625\n",
      "131.56884765625 71.392578125\n",
      "131.55712890625 71.4267578125\n",
      "131.6025390625 71.3955078125\n",
      "131.56689453125 71.41015625\n",
      "131.56005859375 71.40869140625\n",
      "131.59716796875 71.44921875\n",
      "131.5810546875 71.46435546875\n",
      "131.56884765625 71.392578125\n",
      "131.5732421875 71.392578125\n",
      "131.56005859375 71.40869140625\n"
     ]
    },
    {
     "name": "stderr",
     "output_type": "stream",
     "text": [
      "  5%|▍         | 4/81 [00:01<00:33,  2.32it/s]"
     ]
    },
    {
     "name": "stdout",
     "output_type": "stream",
     "text": [
      "131.57861328125 71.486328125\n",
      "131.5712890625 71.49951171875\n",
      "131.5810546875 71.46435546875\n"
     ]
    },
    {
     "name": "stderr",
     "output_type": "stream",
     "text": [
      "  6%|▌         | 5/81 [00:02<00:32,  2.33it/s]"
     ]
    },
    {
     "name": "stdout",
     "output_type": "stream",
     "text": [
      "131.5673828125 71.54443359375\n",
      "131.56494140625 71.54345703125\n",
      "131.5712890625 71.5234375\n",
      "131.578125 71.50244140625\n",
      "131.57861328125 71.486328125\n",
      "131.55859375 71.53759765625\n",
      "131.57373046875 71.5009765625\n",
      "131.5712890625 71.49951171875\n",
      "131.57958984375 71.484375\n",
      "131.55615234375 71.5361328125\n",
      "131.517578125 71.51123046875\n",
      "131.57373046875 71.5009765625\n"
     ]
    },
    {
     "name": "stderr",
     "output_type": "stream",
     "text": [
      "  7%|▋         | 6/81 [00:02<00:36,  2.06it/s]"
     ]
    },
    {
     "name": "stdout",
     "output_type": "stream",
     "text": [
      "131.5712890625 71.5234375\n",
      "131.548828125 71.5732421875\n",
      "131.55859375 71.53759765625\n",
      "131.54248046875 71.5771484375\n",
      "131.54541015625 71.58251953125\n",
      "131.509765625 71.54833984375\n",
      "131.5390625 71.578125\n",
      "131.50830078125 71.54833984375\n",
      "131.53369140625 71.5498046875\n",
      "131.55615234375 71.5361328125\n",
      "131.517578125 71.51123046875\n",
      "131.54638671875 71.57275390625\n"
     ]
    },
    {
     "name": "stderr",
     "output_type": "stream",
     "text": [
      "  9%|▊         | 7/81 [00:03<00:43,  1.69it/s]"
     ]
    },
    {
     "name": "stdout",
     "output_type": "stream",
     "text": [
      "131.54931640625 71.58447265625\n",
      "131.541015625 71.58056640625\n",
      "131.54248046875 71.5771484375\n",
      "131.568359375 71.619140625\n",
      "131.525390625 71.576171875\n",
      "131.54541015625 71.58251953125\n",
      "131.5185546875 71.5869140625\n",
      "131.5166015625 71.58984375\n",
      "131.51806640625 71.580078125\n",
      "131.5048828125 71.60205078125\n",
      "131.5107421875 71.58056640625\n",
      "131.50244140625 71.6005859375\n",
      "131.51171875 71.5751953125\n",
      "131.509765625 71.57861328125\n",
      "131.49072265625 71.5888671875\n",
      "131.47412109375 71.59375\n",
      "131.5458984375 71.5810546875\n",
      "131.54345703125 71.57861328125\n",
      "131.54052734375 71.58447265625\n",
      "131.5390625 71.578125\n",
      "131.51611328125 71.58837890625\n",
      "131.513671875 71.5869140625\n",
      "131.4951171875 71.595703125\n",
      "131.48828125 71.57275390625\n",
      "131.5322265625 71.57666015625\n",
      "131.529296875 71.572265625\n",
      "131.51904296875 71.5830078125\n",
      "131.50927734375 71.58984375\n",
      "131.48388671875 71.59033203125\n",
      "131.4970703125 71.57958984375\n",
      "131.52001953125 71.6044921875\n",
      "131.51904296875 71.57177734375\n",
      "131.4775390625 71.59326171875\n",
      "131.54443359375 71.5849609375\n",
      "131.529296875 71.572265625\n"
     ]
    },
    {
     "name": "stderr",
     "output_type": "stream",
     "text": [
      " 10%|▉         | 8/81 [00:04<00:46,  1.57it/s]"
     ]
    },
    {
     "name": "stdout",
     "output_type": "stream",
     "text": [
      "131.49462890625 71.61474609375\n",
      "131.5185546875 71.5869140625\n",
      "131.5048828125 71.60205078125\n",
      "131.5107421875 71.58056640625\n",
      "131.50537109375 71.59521484375\n",
      "131.50244140625 71.6005859375\n",
      "131.509765625 71.57861328125\n",
      "131.49072265625 71.5888671875\n",
      "131.48291015625 71.60888671875\n",
      "131.47509765625 71.599609375\n",
      "131.47412109375 71.59375\n",
      "131.51611328125 71.58837890625\n",
      "131.513671875 71.5869140625\n",
      "131.4951171875 71.595703125\n",
      "131.4853515625 71.60693359375\n",
      "131.48828125 71.57275390625\n",
      "131.49169921875 71.6103515625\n"
     ]
    },
    {
     "name": "stderr",
     "output_type": "stream",
     "text": [
      " 11%|█         | 9/81 [00:04<00:46,  1.56it/s]"
     ]
    },
    {
     "name": "stdout",
     "output_type": "stream",
     "text": [
      "131.51904296875 71.6728515625\n",
      "131.505859375 71.6796875\n",
      "131.49462890625 71.61474609375\n",
      "131.5361328125 71.654296875\n",
      "131.48291015625 71.60888671875\n",
      "131.45654296875 71.64404296875\n",
      "131.51220703125 71.68603515625\n",
      "131.513671875 71.65380859375\n",
      "131.4443359375 71.63916015625\n",
      "131.5078125 71.68212890625\n",
      "131.51904296875 71.6728515625\n",
      "131.513671875 71.65380859375\n"
     ]
    },
    {
     "name": "stderr",
     "output_type": "stream",
     "text": [
      " 14%|█▎        | 11/81 [00:05<00:37,  1.88it/s]"
     ]
    },
    {
     "name": "stdout",
     "output_type": "stream",
     "text": [
      "131.57568359375 71.3935546875\n",
      "131.5693359375 71.40869140625\n",
      "131.56884765625 71.392578125\n",
      "131.56689453125 71.41015625\n",
      "131.56005859375 71.40869140625\n",
      "131.5498046875 71.3720703125\n",
      "131.56884765625 71.392578125\n",
      "131.5732421875 71.392578125\n",
      "131.56005859375 71.40869140625\n"
     ]
    },
    {
     "name": "stderr",
     "output_type": "stream",
     "text": [
      " 15%|█▍        | 12/81 [00:06<00:34,  2.02it/s]"
     ]
    },
    {
     "name": "stdout",
     "output_type": "stream",
     "text": [
      "131.57568359375 71.3935546875\n",
      "131.5693359375 71.40869140625\n",
      "131.56884765625 71.392578125\n",
      "131.55712890625 71.4267578125\n",
      "131.56689453125 71.41015625\n",
      "131.56005859375 71.40869140625\n",
      "131.56884765625 71.392578125\n",
      "131.5732421875 71.392578125\n",
      "131.56005859375 71.40869140625\n"
     ]
    },
    {
     "name": "stderr",
     "output_type": "stream",
     "text": [
      " 16%|█▌        | 13/81 [00:06<00:31,  2.19it/s]"
     ]
    },
    {
     "name": "stdout",
     "output_type": "stream",
     "text": [
      "131.55712890625 71.4267578125\n"
     ]
    },
    {
     "name": "stderr",
     "output_type": "stream",
     "text": [
      " 17%|█▋        | 14/81 [00:06<00:28,  2.35it/s]"
     ]
    },
    {
     "name": "stdout",
     "output_type": "stream",
     "text": [
      "131.517578125 71.51123046875\n"
     ]
    },
    {
     "name": "stderr",
     "output_type": "stream",
     "text": [
      " 19%|█▊        | 15/81 [00:07<00:29,  2.24it/s]"
     ]
    },
    {
     "name": "stdout",
     "output_type": "stream",
     "text": [
      "131.51611328125 71.5712890625\n",
      "131.509765625 71.54833984375\n",
      "131.498046875 71.55517578125\n",
      "131.5400390625 71.5556640625\n",
      "131.45556640625 71.5537109375\n",
      "131.517578125 71.51123046875\n"
     ]
    },
    {
     "name": "stderr",
     "output_type": "stream",
     "text": [
      " 20%|█▉        | 16/81 [00:07<00:33,  1.97it/s]"
     ]
    },
    {
     "name": "stdout",
     "output_type": "stream",
     "text": [
      "131.48974609375 71.59619140625\n",
      "131.5048828125 71.60205078125\n",
      "131.5107421875 71.58056640625\n",
      "131.50537109375 71.59521484375\n",
      "131.50244140625 71.6005859375\n",
      "131.51171875 71.5751953125\n",
      "131.509765625 71.57861328125\n",
      "131.49072265625 71.5888671875\n",
      "131.47412109375 71.59375\n",
      "131.4580078125 71.55078125\n",
      "131.4560546875 71.55126953125\n",
      "131.45361328125 71.55224609375\n",
      "131.4951171875 71.595703125\n",
      "131.48828125 71.57275390625\n",
      "131.5234375 71.54638671875\n",
      "131.4833984375 71.59033203125\n",
      "131.4970703125 71.57958984375\n"
     ]
    },
    {
     "name": "stderr",
     "output_type": "stream",
     "text": [
      " 21%|██        | 17/81 [00:08<00:37,  1.69it/s]"
     ]
    },
    {
     "name": "stdout",
     "output_type": "stream",
     "text": [
      "131.5048828125 71.60205078125\n",
      "131.5107421875 71.58056640625\n",
      "131.50537109375 71.59521484375\n",
      "131.50244140625 71.6005859375\n",
      "131.509765625 71.57861328125\n",
      "131.49072265625 71.5888671875\n",
      "131.48291015625 71.60888671875\n",
      "131.47509765625 71.599609375\n",
      "131.47412109375 71.59375\n",
      "131.44677734375 71.607421875\n",
      "131.49462890625 71.61474609375\n",
      "131.4951171875 71.595703125\n",
      "131.4853515625 71.60693359375\n",
      "131.48828125 71.57275390625\n",
      "131.4482421875 71.60595703125\n",
      "131.49169921875 71.6103515625\n",
      "131.48388671875 71.59033203125\n",
      "131.48291015625 71.60888671875\n"
     ]
    },
    {
     "name": "stderr",
     "output_type": "stream",
     "text": [
      " 22%|██▏       | 18/81 [00:09<00:36,  1.74it/s]"
     ]
    },
    {
     "name": "stdout",
     "output_type": "stream",
     "text": [
      "131.4853515625 71.59326171875\n",
      "131.48291015625 71.60888671875\n",
      "131.4443359375 71.63916015625\n",
      "131.45654296875 71.64404296875\n",
      "131.48779296875 71.59619140625\n",
      "131.439453125 71.63720703125\n",
      "131.44677734375 71.607421875\n",
      "131.43505859375 71.63623046875\n",
      "131.49462890625 71.61474609375\n",
      "131.451171875 71.60498046875\n",
      "131.4482421875 71.60595703125\n",
      "131.48291015625 71.60888671875\n"
     ]
    },
    {
     "name": "stderr",
     "output_type": "stream",
     "text": [
      " 30%|██▉       | 24/81 [00:10<00:11,  5.07it/s]"
     ]
    },
    {
     "name": "stdout",
     "output_type": "stream",
     "text": [
      "131.4580078125 71.55078125\n"
     ]
    },
    {
     "name": "stderr",
     "output_type": "stream",
     "text": [
      " 31%|███       | 25/81 [00:10<00:11,  4.74it/s]"
     ]
    },
    {
     "name": "stdout",
     "output_type": "stream",
     "text": [
      "131.4580078125 71.55078125\n",
      "131.4560546875 71.55126953125\n",
      "131.45361328125 71.55224609375\n"
     ]
    },
    {
     "name": "stderr",
     "output_type": "stream",
     "text": [
      " 32%|███▏      | 26/81 [00:10<00:13,  3.93it/s]"
     ]
    },
    {
     "name": "stdout",
     "output_type": "stream",
     "text": [
      "131.44677734375 71.607421875\n",
      "131.451171875 71.60498046875\n",
      "131.4482421875 71.60595703125\n"
     ]
    },
    {
     "name": "stderr",
     "output_type": "stream",
     "text": [
      " 36%|███▌      | 29/81 [00:11<00:09,  5.23it/s]"
     ]
    },
    {
     "name": "stdout",
     "output_type": "stream",
     "text": [
      "131.439453125 71.63720703125\n",
      "131.44677734375 71.607421875\n",
      "131.43505859375 71.63623046875\n",
      "131.4287109375 71.63330078125\n",
      "131.451171875 71.60498046875\n",
      "131.4482421875 71.60595703125\n",
      "131.4443359375 71.63916015625\n"
     ]
    },
    {
     "name": "stderr",
     "output_type": "stream",
     "text": [
      " 44%|████▍     | 36/81 [00:11<00:05,  8.74it/s]"
     ]
    },
    {
     "name": "stdout",
     "output_type": "stream",
     "text": [
      "131.45361328125 71.55224609375\n"
     ]
    },
    {
     "name": "stderr",
     "output_type": "stream",
     "text": [
      " 49%|████▉     | 40/81 [00:12<00:04,  9.93it/s]"
     ]
    },
    {
     "name": "stdout",
     "output_type": "stream",
     "text": [
      "131.46728515625 71.25244140625\n"
     ]
    },
    {
     "name": "stderr",
     "output_type": "stream",
     "text": [
      " 84%|████████▍ | 68/81 [00:14<00:01,  9.59it/s]"
     ]
    },
    {
     "name": "stdout",
     "output_type": "stream",
     "text": [
      "131.2646484375 71.39697265625\n"
     ]
    },
    {
     "name": "stderr",
     "output_type": "stream",
     "text": [
      " 96%|█████████▋| 78/81 [00:16<00:00,  6.39it/s]"
     ]
    },
    {
     "name": "stdout",
     "output_type": "stream",
     "text": [
      "131.2646484375 71.39697265625\n"
     ]
    },
    {
     "name": "stderr",
     "output_type": "stream",
     "text": [
      "100%|██████████| 81/81 [00:16<00:00,  4.87it/s]\n"
     ]
    },
    {
     "name": "stdout",
     "output_type": "stream",
     "text": [
      " 4 Define mapping between PRISMA LatLon and gMaps latlon\n",
      " 5 Map PRISMA Latlons to gMaps latlons (ransac affine) and save for reference\n",
      "Band 7 did not work\n",
      "# 1 create .tif file\n",
      "# 2 Download gmaps for the same location\n",
      "Image size (pix):  (1792, 1792)\n",
      "Tile coordinate top left (north-west) corner: 1048,568\n",
      " 3 Determine matched features in PRISMA image to gMaps image with SIFT\n"
     ]
    },
    {
     "name": "stderr",
     "output_type": "stream",
     "text": [
      "  2%|▏         | 2/81 [00:00<00:29,  2.71it/s]"
     ]
    },
    {
     "name": "stdout",
     "output_type": "stream",
     "text": [
      "131.5986328125 71.400390625\n",
      "131.57080078125 71.42626953125\n",
      "131.572265625 71.42724609375\n",
      "131.57568359375 71.3935546875\n",
      "131.56884765625 71.392578125\n",
      "131.56689453125 71.41015625\n",
      "131.56005859375 71.40869140625\n",
      "131.56884765625 71.392578125\n",
      "131.5732421875 71.392578125\n",
      "131.56689453125 71.41015625\n",
      "131.56005859375 71.40869140625\n"
     ]
    },
    {
     "name": "stderr",
     "output_type": "stream",
     "text": [
      "  4%|▎         | 3/81 [00:01<00:32,  2.41it/s]"
     ]
    },
    {
     "name": "stdout",
     "output_type": "stream",
     "text": [
      "131.5986328125 71.400390625\n",
      "131.57568359375 71.3935546875\n",
      "131.5693359375 71.40869140625\n",
      "131.56884765625 71.392578125\n",
      "131.6025390625 71.3955078125\n",
      "131.56689453125 71.41015625\n",
      "131.56005859375 71.40869140625\n",
      "131.5810546875 71.46435546875\n",
      "131.56884765625 71.392578125\n",
      "131.5732421875 71.392578125\n",
      "131.56689453125 71.41015625\n",
      "131.56005859375 71.40869140625\n"
     ]
    },
    {
     "name": "stderr",
     "output_type": "stream",
     "text": [
      "  5%|▍         | 4/81 [00:01<00:30,  2.51it/s]"
     ]
    },
    {
     "name": "stdout",
     "output_type": "stream",
     "text": [
      "131.5712890625 71.49951171875\n",
      "131.5810546875 71.46435546875\n"
     ]
    },
    {
     "name": "stderr",
     "output_type": "stream",
     "text": [
      "  6%|▌         | 5/81 [00:01<00:30,  2.45it/s]"
     ]
    },
    {
     "name": "stdout",
     "output_type": "stream",
     "text": [
      "131.5673828125 71.54443359375\n",
      "131.5712890625 71.5234375\n",
      "131.578125 71.50244140625\n",
      "131.57861328125 71.486328125\n",
      "131.55859375 71.53759765625\n",
      "131.57373046875 71.5009765625\n",
      "131.5712890625 71.49951171875\n",
      "131.517578125 71.51123046875\n",
      "131.5380859375 71.50732421875\n",
      "131.517578125 71.51123046875\n"
     ]
    },
    {
     "name": "stderr",
     "output_type": "stream",
     "text": [
      "  7%|▋         | 6/81 [00:02<00:35,  2.14it/s]"
     ]
    },
    {
     "name": "stdout",
     "output_type": "stream",
     "text": [
      "131.5712890625 71.5234375\n",
      "131.55859375 71.53759765625\n",
      "131.5419921875 71.58056640625\n",
      "131.54248046875 71.5771484375\n",
      "131.54541015625 71.58251953125\n",
      "131.568359375 71.580078125\n",
      "131.50830078125 71.54833984375\n",
      "131.517578125 71.51123046875\n",
      "131.53369140625 71.5498046875\n",
      "131.517578125 71.51123046875\n"
     ]
    },
    {
     "name": "stderr",
     "output_type": "stream",
     "text": [
      "  9%|▊         | 7/81 [00:03<00:42,  1.73it/s]"
     ]
    },
    {
     "name": "stdout",
     "output_type": "stream",
     "text": [
      "131.54248046875 71.5771484375\n",
      "131.568359375 71.619140625\n",
      "131.525390625 71.576171875\n",
      "131.52587890625 71.578125\n",
      "131.54541015625 71.58251953125\n",
      "131.5185546875 71.5869140625\n",
      "131.5166015625 71.58984375\n",
      "131.51611328125 71.58837890625\n",
      "131.51806640625 71.580078125\n",
      "131.5048828125 71.60205078125\n",
      "131.5068359375 71.595703125\n",
      "131.5107421875 71.58056640625\n",
      "131.50244140625 71.6005859375\n",
      "131.509765625 71.57861328125\n",
      "131.49072265625 71.5888671875\n",
      "131.47412109375 71.59375\n",
      "131.5458984375 71.5810546875\n",
      "131.54345703125 71.57861328125\n",
      "131.513671875 71.5869140625\n",
      "131.4775390625 71.59326171875\n",
      "131.4951171875 71.595703125\n",
      "131.5234375 71.54638671875\n",
      "131.5322265625 71.57666015625\n",
      "131.529296875 71.572265625\n",
      "131.50927734375 71.58984375\n",
      "131.48388671875 71.59033203125\n",
      "131.52001953125 71.6044921875\n",
      "131.5390625 71.578125\n",
      "131.529296875 71.572265625\n"
     ]
    },
    {
     "name": "stderr",
     "output_type": "stream",
     "text": [
      " 10%|▉         | 8/81 [00:04<00:45,  1.60it/s]"
     ]
    },
    {
     "name": "stdout",
     "output_type": "stream",
     "text": [
      "131.49462890625 71.61474609375\n",
      "131.5185546875 71.5869140625\n",
      "131.51611328125 71.58837890625\n",
      "131.5048828125 71.60205078125\n",
      "131.5107421875 71.58056640625\n",
      "131.50537109375 71.59521484375\n",
      "131.50244140625 71.6005859375\n",
      "131.509765625 71.57861328125\n",
      "131.49072265625 71.5888671875\n",
      "131.48291015625 71.60888671875\n",
      "131.47509765625 71.599609375\n",
      "131.47412109375 71.59375\n",
      "131.513671875 71.5869140625\n",
      "131.4951171875 71.595703125\n",
      "131.4853515625 71.60693359375\n",
      "131.48828125 71.57275390625\n"
     ]
    },
    {
     "name": "stderr",
     "output_type": "stream",
     "text": [
      " 11%|█         | 9/81 [00:04<00:43,  1.65it/s]"
     ]
    },
    {
     "name": "stdout",
     "output_type": "stream",
     "text": [
      "131.51904296875 71.6728515625\n",
      "131.505859375 71.6796875\n",
      "131.49462890625 71.61474609375\n",
      "131.5361328125 71.654296875\n",
      "131.48291015625 71.60888671875\n",
      "131.45654296875 71.64404296875\n",
      "131.51220703125 71.68603515625\n",
      "131.513671875 71.65380859375\n",
      "131.4443359375 71.63916015625\n",
      "131.5078125 71.68212890625\n",
      "131.51904296875 71.6728515625\n"
     ]
    },
    {
     "name": "stderr",
     "output_type": "stream",
     "text": [
      " 12%|█▏        | 10/81 [00:04<00:36,  1.95it/s]"
     ]
    },
    {
     "name": "stdout",
     "output_type": "stream",
     "text": [
      "131.587890625 71.37451171875\n"
     ]
    },
    {
     "name": "stderr",
     "output_type": "stream",
     "text": [
      " 14%|█▎        | 11/81 [00:05<00:32,  2.14it/s]"
     ]
    },
    {
     "name": "stdout",
     "output_type": "stream",
     "text": [
      "131.57568359375 71.3935546875\n",
      "131.5693359375 71.40869140625\n",
      "131.56884765625 71.392578125\n",
      "131.56689453125 71.41015625\n",
      "131.56005859375 71.40869140625\n",
      "131.5498046875 71.3720703125\n",
      "131.56884765625 71.392578125\n",
      "131.5732421875 71.392578125\n",
      "131.56689453125 71.41015625\n",
      "131.56005859375 71.40869140625\n"
     ]
    },
    {
     "name": "stderr",
     "output_type": "stream",
     "text": [
      " 15%|█▍        | 12/81 [00:05<00:29,  2.33it/s]"
     ]
    },
    {
     "name": "stdout",
     "output_type": "stream",
     "text": [
      "131.57568359375 71.3935546875\n",
      "131.5693359375 71.40869140625\n",
      "131.56884765625 71.392578125\n",
      "131.55712890625 71.4267578125\n",
      "131.56689453125 71.41015625\n",
      "131.56005859375 71.40869140625\n",
      "131.56884765625 71.392578125\n",
      "131.5732421875 71.392578125\n",
      "131.56689453125 71.41015625\n",
      "131.56005859375 71.40869140625\n"
     ]
    },
    {
     "name": "stderr",
     "output_type": "stream",
     "text": [
      " 16%|█▌        | 13/81 [00:05<00:25,  2.66it/s]"
     ]
    },
    {
     "name": "stdout",
     "output_type": "stream",
     "text": [
      "131.55712890625 71.4267578125\n"
     ]
    },
    {
     "name": "stderr",
     "output_type": "stream",
     "text": [
      " 17%|█▋        | 14/81 [00:06<00:21,  3.05it/s]"
     ]
    },
    {
     "name": "stdout",
     "output_type": "stream",
     "text": [
      "131.517578125 71.51123046875\n",
      "131.517578125 71.51123046875\n"
     ]
    },
    {
     "name": "stderr",
     "output_type": "stream",
     "text": [
      " 19%|█▊        | 15/81 [00:06<00:21,  3.08it/s]"
     ]
    },
    {
     "name": "stdout",
     "output_type": "stream",
     "text": [
      "131.51611328125 71.5712890625\n",
      "131.517578125 71.51123046875\n",
      "131.45556640625 71.5537109375\n",
      "131.517578125 71.51123046875\n"
     ]
    },
    {
     "name": "stderr",
     "output_type": "stream",
     "text": [
      " 20%|█▉        | 16/81 [00:06<00:25,  2.54it/s]"
     ]
    },
    {
     "name": "stdout",
     "output_type": "stream",
     "text": [
      "131.48974609375 71.59619140625\n",
      "131.5048828125 71.60205078125\n",
      "131.5068359375 71.595703125\n",
      "131.5107421875 71.58056640625\n",
      "131.50537109375 71.59521484375\n",
      "131.50244140625 71.6005859375\n",
      "131.509765625 71.57861328125\n",
      "131.49072265625 71.5888671875\n",
      "131.47412109375 71.59375\n",
      "131.4580078125 71.55078125\n",
      "131.4560546875 71.55126953125\n",
      "131.4560546875 71.55126953125\n",
      "131.4951171875 71.595703125\n",
      "131.48828125 71.57275390625\n",
      "131.5234375 71.54638671875\n",
      "131.4833984375 71.59033203125\n"
     ]
    },
    {
     "name": "stderr",
     "output_type": "stream",
     "text": [
      " 21%|██        | 17/81 [00:07<00:30,  2.11it/s]"
     ]
    },
    {
     "name": "stdout",
     "output_type": "stream",
     "text": [
      "131.5048828125 71.60205078125\n",
      "131.5107421875 71.58056640625\n",
      "131.50537109375 71.59521484375\n",
      "131.50244140625 71.6005859375\n",
      "131.509765625 71.57861328125\n",
      "131.49072265625 71.5888671875\n",
      "131.48291015625 71.60888671875\n",
      "131.47509765625 71.599609375\n",
      "131.47412109375 71.59375\n",
      "131.44677734375 71.607421875\n",
      "131.49462890625 71.61474609375\n",
      "131.4951171875 71.595703125\n",
      "131.4853515625 71.60693359375\n",
      "131.48828125 71.57275390625\n",
      "131.451171875 71.60498046875\n",
      "131.4482421875 71.60595703125\n",
      "131.48388671875 71.59033203125\n",
      "131.48291015625 71.60888671875\n"
     ]
    },
    {
     "name": "stderr",
     "output_type": "stream",
     "text": [
      " 22%|██▏       | 18/81 [00:08<00:30,  2.05it/s]"
     ]
    },
    {
     "name": "stdout",
     "output_type": "stream",
     "text": [
      "131.4853515625 71.59326171875\n",
      "131.48291015625 71.60888671875\n",
      "131.4443359375 71.63916015625\n",
      "131.45654296875 71.64404296875\n",
      "131.48779296875 71.59619140625\n",
      "131.439453125 71.63720703125\n",
      "131.44677734375 71.607421875\n",
      "131.43505859375 71.63623046875\n",
      "131.49462890625 71.61474609375\n",
      "131.451171875 71.60498046875\n",
      "131.4482421875 71.60595703125\n",
      "131.48291015625 71.60888671875\n"
     ]
    },
    {
     "name": "stderr",
     "output_type": "stream",
     "text": [
      " 30%|██▉       | 24/81 [00:09<00:10,  5.31it/s]"
     ]
    },
    {
     "name": "stdout",
     "output_type": "stream",
     "text": [
      "131.4580078125 71.55078125\n"
     ]
    },
    {
     "name": "stderr",
     "output_type": "stream",
     "text": [
      " 31%|███       | 25/81 [00:09<00:11,  5.03it/s]"
     ]
    },
    {
     "name": "stdout",
     "output_type": "stream",
     "text": [
      "131.4580078125 71.55078125\n",
      "131.4560546875 71.55126953125\n",
      "131.4560546875 71.55126953125\n"
     ]
    },
    {
     "name": "stderr",
     "output_type": "stream",
     "text": [
      " 32%|███▏      | 26/81 [00:09<00:12,  4.26it/s]"
     ]
    },
    {
     "name": "stdout",
     "output_type": "stream",
     "text": [
      "131.44677734375 71.607421875\n",
      "131.451171875 71.60498046875\n",
      "131.4482421875 71.60595703125\n"
     ]
    },
    {
     "name": "stderr",
     "output_type": "stream",
     "text": [
      " 36%|███▌      | 29/81 [00:10<00:09,  5.71it/s]"
     ]
    },
    {
     "name": "stdout",
     "output_type": "stream",
     "text": [
      "131.443359375 71.6376953125\n",
      "131.439453125 71.63720703125\n",
      "131.44677734375 71.607421875\n",
      "131.43505859375 71.63623046875\n",
      "131.4287109375 71.63330078125\n",
      "131.451171875 71.60498046875\n",
      "131.4482421875 71.60595703125\n",
      "131.4443359375 71.63916015625\n"
     ]
    },
    {
     "name": "stderr",
     "output_type": "stream",
     "text": [
      " 48%|████▊     | 39/81 [00:10<00:04,  9.90it/s]"
     ]
    },
    {
     "name": "stdout",
     "output_type": "stream",
     "text": [
      "131.46728515625 71.25244140625\n"
     ]
    },
    {
     "name": "stderr",
     "output_type": "stream",
     "text": [
      " 85%|████████▌ | 69/81 [00:14<00:01,  7.01it/s]"
     ]
    },
    {
     "name": "stdout",
     "output_type": "stream",
     "text": [
      "131.2646484375 71.39697265625\n"
     ]
    },
    {
     "name": "stderr",
     "output_type": "stream",
     "text": [
      " 96%|█████████▋| 78/81 [00:15<00:00,  6.22it/s]"
     ]
    },
    {
     "name": "stdout",
     "output_type": "stream",
     "text": [
      "131.2646484375 71.39697265625\n"
     ]
    },
    {
     "name": "stderr",
     "output_type": "stream",
     "text": [
      "100%|██████████| 81/81 [00:15<00:00,  5.06it/s]\n"
     ]
    },
    {
     "name": "stdout",
     "output_type": "stream",
     "text": [
      " 4 Define mapping between PRISMA LatLon and gMaps latlon\n",
      " 5 Map PRISMA Latlons to gMaps latlons (ransac affine) and save for reference\n",
      "Band 8 did not work\n",
      "# 1 create .tif file\n",
      "# 2 Download gmaps for the same location\n",
      "Image size (pix):  (1792, 1792)\n",
      "Tile coordinate top left (north-west) corner: 1048,568\n",
      " 3 Determine matched features in PRISMA image to gMaps image with SIFT\n"
     ]
    },
    {
     "name": "stderr",
     "output_type": "stream",
     "text": [
      "  2%|▏         | 2/81 [00:00<00:29,  2.66it/s]"
     ]
    },
    {
     "name": "stdout",
     "output_type": "stream",
     "text": [
      "131.57080078125 71.42626953125\n",
      "131.572265625 71.42724609375\n",
      "131.56689453125 71.41015625\n",
      "131.56005859375 71.40869140625\n",
      "131.59716796875 71.3984375\n",
      "131.57568359375 71.3935546875\n",
      "131.56884765625 71.392578125\n",
      "131.5732421875 71.392578125\n",
      "131.56689453125 71.41015625\n",
      "131.56005859375 71.40869140625\n"
     ]
    },
    {
     "name": "stderr",
     "output_type": "stream",
     "text": [
      "  4%|▎         | 3/81 [00:01<00:32,  2.41it/s]"
     ]
    },
    {
     "name": "stdout",
     "output_type": "stream",
     "text": [
      "131.57080078125 71.42626953125\n",
      "131.5693359375 71.40869140625\n",
      "131.6025390625 71.3955078125\n",
      "131.56689453125 71.41015625\n",
      "131.56005859375 71.40869140625\n",
      "131.5810546875 71.46435546875\n",
      "131.57568359375 71.3935546875\n",
      "131.56884765625 71.392578125\n",
      "131.5732421875 71.392578125\n",
      "131.56689453125 71.41015625\n",
      "131.56005859375 71.40869140625\n"
     ]
    },
    {
     "name": "stderr",
     "output_type": "stream",
     "text": [
      "  5%|▍         | 4/81 [00:01<00:30,  2.52it/s]"
     ]
    },
    {
     "name": "stdout",
     "output_type": "stream",
     "text": [
      "131.578125 71.50244140625\n",
      "131.5712890625 71.49951171875\n",
      "131.5810546875 71.46435546875\n"
     ]
    },
    {
     "name": "stderr",
     "output_type": "stream",
     "text": [
      "  6%|▌         | 5/81 [00:01<00:30,  2.47it/s]"
     ]
    },
    {
     "name": "stdout",
     "output_type": "stream",
     "text": [
      "131.5673828125 71.54443359375\n",
      "131.578125 71.50244140625\n",
      "131.57861328125 71.5283203125\n",
      "131.57861328125 71.486328125\n",
      "131.55859375 71.53759765625\n",
      "131.57373046875 71.5009765625\n",
      "131.5712890625 71.49951171875\n",
      "131.517578125 71.51123046875\n",
      "131.57958984375 71.484375\n",
      "131.57373046875 71.5009765625\n",
      "131.517578125 71.51123046875\n"
     ]
    },
    {
     "name": "stderr",
     "output_type": "stream",
     "text": [
      "  7%|▋         | 6/81 [00:02<00:35,  2.14it/s]"
     ]
    },
    {
     "name": "stdout",
     "output_type": "stream",
     "text": [
      "131.55859375 71.53759765625\n",
      "131.5419921875 71.58056640625\n",
      "131.54248046875 71.5771484375\n",
      "131.54541015625 71.58251953125\n",
      "131.50537109375 71.55322265625\n",
      "131.568359375 71.580078125\n",
      "131.50830078125 71.54833984375\n",
      "131.517578125 71.51123046875\n",
      "131.53369140625 71.5498046875\n",
      "131.54638671875 71.57275390625\n",
      "131.517578125 71.51123046875\n"
     ]
    },
    {
     "name": "stderr",
     "output_type": "stream",
     "text": [
      "  9%|▊         | 7/81 [00:03<00:43,  1.71it/s]"
     ]
    },
    {
     "name": "stdout",
     "output_type": "stream",
     "text": [
      "131.54931640625 71.58447265625\n",
      "131.54931640625 71.5615234375\n",
      "131.54248046875 71.5771484375\n",
      "131.525390625 71.576171875\n",
      "131.52587890625 71.578125\n",
      "131.5185546875 71.5869140625\n",
      "131.5166015625 71.58984375\n",
      "131.51611328125 71.58837890625\n",
      "131.51806640625 71.580078125\n",
      "131.5048828125 71.60205078125\n",
      "131.5068359375 71.595703125\n",
      "131.5107421875 71.58056640625\n",
      "131.50244140625 71.6005859375\n",
      "131.509765625 71.57861328125\n",
      "131.5166015625 71.5458984375\n",
      "131.50537109375 71.55322265625\n",
      "131.49072265625 71.5888671875\n",
      "131.47412109375 71.59375\n",
      "131.5458984375 71.5810546875\n",
      "131.54345703125 71.57861328125\n",
      "131.54052734375 71.58447265625\n",
      "131.513671875 71.5869140625\n",
      "131.4775390625 71.59326171875\n",
      "131.4951171875 71.595703125\n",
      "131.5234375 71.54638671875\n",
      "131.5322265625 71.57666015625\n",
      "131.529296875 71.572265625\n",
      "131.50927734375 71.58984375\n",
      "131.48388671875 71.59033203125\n",
      "131.52001953125 71.6044921875\n",
      "131.5390625 71.578125\n",
      "131.54443359375 71.5849609375\n",
      "131.529296875 71.572265625\n"
     ]
    },
    {
     "name": "stderr",
     "output_type": "stream",
     "text": [
      " 10%|▉         | 8/81 [00:04<00:47,  1.55it/s]"
     ]
    },
    {
     "name": "stdout",
     "output_type": "stream",
     "text": [
      "131.49462890625 71.61474609375\n",
      "131.5185546875 71.5869140625\n",
      "131.51611328125 71.58837890625\n",
      "131.5048828125 71.60205078125\n",
      "131.5107421875 71.58056640625\n",
      "131.50537109375 71.59521484375\n",
      "131.50244140625 71.6005859375\n",
      "131.509765625 71.57861328125\n",
      "131.4853515625 71.60693359375\n",
      "131.49072265625 71.5888671875\n",
      "131.47509765625 71.599609375\n",
      "131.47412109375 71.59375\n",
      "131.513671875 71.5869140625\n",
      "131.4951171875 71.595703125\n",
      "131.48828125 71.57275390625\n",
      "131.48291015625 71.60888671875\n"
     ]
    },
    {
     "name": "stderr",
     "output_type": "stream",
     "text": [
      " 11%|█         | 9/81 [00:04<00:45,  1.57it/s]"
     ]
    },
    {
     "name": "stdout",
     "output_type": "stream",
     "text": [
      "131.51904296875 71.6728515625\n",
      "131.505859375 71.6796875\n",
      "131.49462890625 71.61474609375\n",
      "131.48779296875 71.65576171875\n",
      "131.45654296875 71.64404296875\n",
      "131.51220703125 71.68603515625\n",
      "131.513671875 71.65380859375\n",
      "131.5078125 71.68212890625\n",
      "131.4443359375 71.63916015625\n",
      "131.51904296875 71.6728515625\n",
      "131.513671875 71.65380859375\n",
      "131.48291015625 71.60888671875\n"
     ]
    },
    {
     "name": "stderr",
     "output_type": "stream",
     "text": [
      " 12%|█▏        | 10/81 [00:05<00:37,  1.92it/s]"
     ]
    },
    {
     "name": "stdout",
     "output_type": "stream",
     "text": [
      "131.587890625 71.37451171875\n"
     ]
    },
    {
     "name": "stderr",
     "output_type": "stream",
     "text": [
      " 14%|█▎        | 11/81 [00:05<00:33,  2.11it/s]"
     ]
    },
    {
     "name": "stdout",
     "output_type": "stream",
     "text": [
      "131.5693359375 71.40869140625\n",
      "131.56689453125 71.41015625\n",
      "131.56005859375 71.40869140625\n",
      "131.5498046875 71.3720703125\n",
      "131.57568359375 71.3935546875\n",
      "131.56884765625 71.392578125\n",
      "131.5732421875 71.392578125\n",
      "131.56689453125 71.41015625\n",
      "131.56005859375 71.40869140625\n"
     ]
    },
    {
     "name": "stderr",
     "output_type": "stream",
     "text": [
      " 15%|█▍        | 12/81 [00:05<00:30,  2.25it/s]"
     ]
    },
    {
     "name": "stdout",
     "output_type": "stream",
     "text": [
      "131.5693359375 71.40869140625\n",
      "131.55712890625 71.4267578125\n",
      "131.56689453125 71.41015625\n",
      "131.56005859375 71.40869140625\n",
      "131.57568359375 71.3935546875\n",
      "131.56884765625 71.392578125\n",
      "131.5732421875 71.392578125\n",
      "131.56689453125 71.41015625\n",
      "131.56005859375 71.40869140625\n"
     ]
    },
    {
     "name": "stderr",
     "output_type": "stream",
     "text": [
      " 16%|█▌        | 13/81 [00:06<00:26,  2.56it/s]"
     ]
    },
    {
     "name": "stdout",
     "output_type": "stream",
     "text": [
      "131.55712890625 71.4267578125\n"
     ]
    },
    {
     "name": "stderr",
     "output_type": "stream",
     "text": [
      " 17%|█▋        | 14/81 [00:06<00:22,  2.94it/s]"
     ]
    },
    {
     "name": "stdout",
     "output_type": "stream",
     "text": [
      "131.517578125 71.51123046875\n",
      "131.517578125 71.51123046875\n"
     ]
    },
    {
     "name": "stderr",
     "output_type": "stream",
     "text": [
      " 19%|█▊        | 15/81 [00:06<00:22,  2.97it/s]"
     ]
    },
    {
     "name": "stdout",
     "output_type": "stream",
     "text": [
      "131.51611328125 71.5712890625\n",
      "131.5166015625 71.5458984375\n",
      "131.50537109375 71.55322265625\n",
      "131.517578125 71.51123046875\n",
      "131.45556640625 71.5537109375\n",
      "131.517578125 71.51123046875\n"
     ]
    },
    {
     "name": "stderr",
     "output_type": "stream",
     "text": [
      " 20%|█▉        | 16/81 [00:07<00:26,  2.50it/s]"
     ]
    },
    {
     "name": "stdout",
     "output_type": "stream",
     "text": [
      "131.48974609375 71.59619140625\n",
      "131.5048828125 71.60205078125\n",
      "131.5068359375 71.595703125\n",
      "131.5107421875 71.58056640625\n",
      "131.50537109375 71.59521484375\n",
      "131.50244140625 71.6005859375\n",
      "131.509765625 71.57861328125\n",
      "131.5166015625 71.5458984375\n",
      "131.50537109375 71.55322265625\n",
      "131.49072265625 71.5888671875\n",
      "131.47412109375 71.59375\n",
      "131.4580078125 71.55078125\n",
      "131.4560546875 71.55126953125\n",
      "131.4560546875 71.55126953125\n",
      "131.4951171875 71.595703125\n",
      "131.48828125 71.57275390625\n",
      "131.5234375 71.54638671875\n",
      "131.4833984375 71.59033203125\n"
     ]
    },
    {
     "name": "stderr",
     "output_type": "stream",
     "text": [
      " 21%|██        | 17/81 [00:07<00:30,  2.10it/s]"
     ]
    },
    {
     "name": "stdout",
     "output_type": "stream",
     "text": [
      "131.5048828125 71.60205078125\n",
      "131.5107421875 71.58056640625\n",
      "131.50537109375 71.59521484375\n",
      "131.50244140625 71.6005859375\n",
      "131.509765625 71.57861328125\n",
      "131.4853515625 71.60693359375\n",
      "131.49072265625 71.5888671875\n",
      "131.47509765625 71.599609375\n",
      "131.47412109375 71.59375\n",
      "131.44677734375 71.607421875\n",
      "131.49462890625 71.61474609375\n",
      "131.4951171875 71.595703125\n",
      "131.48828125 71.57275390625\n",
      "131.451171875 71.60498046875\n",
      "131.4482421875 71.60595703125\n",
      "131.48388671875 71.59033203125\n",
      "131.48291015625 71.60888671875\n",
      "131.48291015625 71.60888671875\n"
     ]
    },
    {
     "name": "stderr",
     "output_type": "stream",
     "text": [
      " 22%|██▏       | 18/81 [00:08<00:31,  2.00it/s]"
     ]
    },
    {
     "name": "stdout",
     "output_type": "stream",
     "text": [
      "131.48779296875 71.65576171875\n",
      "131.4853515625 71.59326171875\n",
      "131.4443359375 71.63916015625\n",
      "131.45654296875 71.64404296875\n",
      "131.48779296875 71.59619140625\n",
      "131.439453125 71.63720703125\n",
      "131.44677734375 71.607421875\n",
      "131.43505859375 71.63623046875\n",
      "131.49462890625 71.61474609375\n",
      "131.451171875 71.60498046875\n",
      "131.4482421875 71.60595703125\n",
      "131.48291015625 71.60888671875\n",
      "131.48291015625 71.60888671875\n"
     ]
    },
    {
     "name": "stderr",
     "output_type": "stream",
     "text": [
      " 31%|███       | 25/81 [00:09<00:11,  4.96it/s]"
     ]
    },
    {
     "name": "stdout",
     "output_type": "stream",
     "text": [
      "131.4580078125 71.55078125\n",
      "131.4560546875 71.55126953125\n",
      "131.4560546875 71.55126953125\n"
     ]
    },
    {
     "name": "stderr",
     "output_type": "stream",
     "text": [
      " 32%|███▏      | 26/81 [00:09<00:13,  4.23it/s]"
     ]
    },
    {
     "name": "stdout",
     "output_type": "stream",
     "text": [
      "131.44677734375 71.607421875\n",
      "131.451171875 71.60498046875\n",
      "131.4482421875 71.60595703125\n"
     ]
    },
    {
     "name": "stderr",
     "output_type": "stream",
     "text": [
      " 36%|███▌      | 29/81 [00:10<00:09,  5.30it/s]"
     ]
    },
    {
     "name": "stdout",
     "output_type": "stream",
     "text": [
      "131.439453125 71.63720703125\n",
      "131.44677734375 71.607421875\n",
      "131.43505859375 71.63623046875\n",
      "131.4287109375 71.63330078125\n",
      "131.451171875 71.60498046875\n",
      "131.4482421875 71.60595703125\n",
      "131.4443359375 71.63916015625\n"
     ]
    },
    {
     "name": "stderr",
     "output_type": "stream",
     "text": [
      " 43%|████▎     | 35/81 [00:10<00:05,  8.03it/s]"
     ]
    },
    {
     "name": "stdout",
     "output_type": "stream",
     "text": [
      "131.45361328125 71.55224609375\n"
     ]
    },
    {
     "name": "stderr",
     "output_type": "stream",
     "text": [
      " 48%|████▊     | 39/81 [00:11<00:04,  9.22it/s]"
     ]
    },
    {
     "name": "stdout",
     "output_type": "stream",
     "text": [
      "131.46728515625 71.25244140625\n"
     ]
    },
    {
     "name": "stderr",
     "output_type": "stream",
     "text": [
      " 85%|████████▌ | 69/81 [00:14<00:01,  6.79it/s]"
     ]
    },
    {
     "name": "stdout",
     "output_type": "stream",
     "text": [
      "131.2646484375 71.39697265625\n"
     ]
    },
    {
     "name": "stderr",
     "output_type": "stream",
     "text": [
      " 96%|█████████▋| 78/81 [00:15<00:00,  6.41it/s]"
     ]
    },
    {
     "name": "stdout",
     "output_type": "stream",
     "text": [
      "131.2646484375 71.39697265625\n"
     ]
    },
    {
     "name": "stderr",
     "output_type": "stream",
     "text": [
      "100%|██████████| 81/81 [00:16<00:00,  5.00it/s]\n"
     ]
    },
    {
     "name": "stdout",
     "output_type": "stream",
     "text": [
      " 4 Define mapping between PRISMA LatLon and gMaps latlon\n",
      " 5 Map PRISMA Latlons to gMaps latlons (ransac affine) and save for reference\n",
      "Band 9 did not work\n",
      "# 1 create .tif file\n",
      "# 2 Download gmaps for the same location\n",
      "Image size (pix):  (1792, 1792)\n",
      "Tile coordinate top left (north-west) corner: 1048,568\n",
      " 3 Determine matched features in PRISMA image to gMaps image with SIFT\n"
     ]
    },
    {
     "name": "stderr",
     "output_type": "stream",
     "text": [
      "100%|██████████| 81/81 [01:07<00:00,  1.20it/s]\n"
     ]
    },
    {
     "name": "stdout",
     "output_type": "stream",
     "text": [
      "Band 10 did not work\n",
      "# 1 create .tif file\n",
      "# 2 Download gmaps for the same location\n",
      "Image size (pix):  (1792, 1792)\n",
      "Tile coordinate top left (north-west) corner: 1048,568\n",
      " 3 Determine matched features in PRISMA image to gMaps image with SIFT\n"
     ]
    },
    {
     "name": "stderr",
     "output_type": "stream",
     "text": [
      "  2%|▏         | 2/81 [00:00<00:30,  2.61it/s]"
     ]
    },
    {
     "name": "stdout",
     "output_type": "stream",
     "text": [
      "131.57080078125 71.42626953125\n",
      "131.572265625 71.42724609375\n",
      "131.56689453125 71.41015625\n",
      "131.6142578125 71.4140625\n",
      "131.57568359375 71.3935546875\n",
      "131.56884765625 71.392578125\n",
      "131.5732421875 71.392578125\n"
     ]
    },
    {
     "name": "stderr",
     "output_type": "stream",
     "text": [
      "  4%|▎         | 3/81 [00:01<00:32,  2.37it/s]"
     ]
    },
    {
     "name": "stdout",
     "output_type": "stream",
     "text": [
      "131.5693359375 71.40869140625\n",
      "131.55712890625 71.4267578125\n",
      "131.6025390625 71.3955078125\n",
      "131.56689453125 71.41015625\n",
      "131.6142578125 71.4140625\n",
      "131.5810546875 71.46435546875\n",
      "131.57568359375 71.3935546875\n",
      "131.56884765625 71.392578125\n",
      "131.5732421875 71.392578125\n"
     ]
    },
    {
     "name": "stderr",
     "output_type": "stream",
     "text": [
      "  5%|▍         | 4/81 [00:01<00:31,  2.45it/s]"
     ]
    },
    {
     "name": "stdout",
     "output_type": "stream",
     "text": [
      "131.5712890625 71.49951171875\n",
      "131.5810546875 71.46435546875\n"
     ]
    },
    {
     "name": "stderr",
     "output_type": "stream",
     "text": [
      "  6%|▌         | 5/81 [00:02<00:32,  2.35it/s]"
     ]
    },
    {
     "name": "stdout",
     "output_type": "stream",
     "text": [
      "131.5673828125 71.54443359375\n",
      "131.56494140625 71.54345703125\n",
      "131.578125 71.50244140625\n",
      "131.57861328125 71.5283203125\n",
      "131.57861328125 71.486328125\n",
      "131.52197265625 71.5126953125\n",
      "131.55859375 71.53759765625\n",
      "131.57373046875 71.5009765625\n",
      "131.5712890625 71.49951171875\n",
      "131.517578125 71.51123046875\n",
      "131.57958984375 71.484375\n",
      "131.5380859375 71.50732421875\n",
      "131.57373046875 71.5009765625\n",
      "131.55615234375 71.5361328125\n",
      "131.52099609375 71.5458984375\n",
      "131.517578125 71.51123046875\n"
     ]
    },
    {
     "name": "stderr",
     "output_type": "stream",
     "text": [
      "  7%|▋         | 6/81 [00:02<00:36,  2.08it/s]"
     ]
    },
    {
     "name": "stdout",
     "output_type": "stream",
     "text": [
      "131.55859375 71.53759765625\n",
      "131.5419921875 71.58056640625\n",
      "131.54248046875 71.5771484375\n",
      "131.54541015625 71.58251953125\n",
      "131.568359375 71.580078125\n",
      "131.50830078125 71.54833984375\n",
      "131.517578125 71.51123046875\n",
      "131.53369140625 71.5498046875\n",
      "131.54638671875 71.57275390625\n",
      "131.55615234375 71.5361328125\n",
      "131.517578125 71.51123046875\n"
     ]
    },
    {
     "name": "stderr",
     "output_type": "stream",
     "text": [
      "  9%|▊         | 7/81 [00:03<00:43,  1.71it/s]"
     ]
    },
    {
     "name": "stdout",
     "output_type": "stream",
     "text": [
      "131.4970703125 71.60595703125\n",
      "131.54931640625 71.58447265625\n",
      "131.54931640625 71.5615234375\n",
      "131.54248046875 71.5771484375\n",
      "131.568359375 71.619140625\n",
      "131.52587890625 71.578125\n",
      "131.54541015625 71.58251953125\n",
      "131.5185546875 71.5869140625\n",
      "131.5166015625 71.58984375\n",
      "131.51806640625 71.580078125\n",
      "131.5048828125 71.60205078125\n",
      "131.5068359375 71.595703125\n",
      "131.5107421875 71.58056640625\n",
      "131.50244140625 71.6005859375\n",
      "131.509765625 71.57861328125\n",
      "131.49072265625 71.5888671875\n",
      "131.47412109375 71.59375\n",
      "131.5458984375 71.5810546875\n",
      "131.54345703125 71.57861328125\n",
      "131.513671875 71.5869140625\n",
      "131.4775390625 71.59326171875\n",
      "131.4951171875 71.595703125\n",
      "131.48828125 71.58935546875\n",
      "131.5234375 71.54638671875\n",
      "131.5322265625 71.57666015625\n",
      "131.529296875 71.572265625\n",
      "131.50927734375 71.58984375\n",
      "131.48388671875 71.59033203125\n",
      "131.52001953125 71.6044921875\n",
      "131.5390625 71.578125\n",
      "131.54443359375 71.5849609375\n",
      "131.529296875 71.572265625\n"
     ]
    },
    {
     "name": "stderr",
     "output_type": "stream",
     "text": [
      " 10%|▉         | 8/81 [00:04<00:46,  1.57it/s]"
     ]
    },
    {
     "name": "stdout",
     "output_type": "stream",
     "text": [
      "131.49462890625 71.61474609375\n",
      "131.5185546875 71.5869140625\n",
      "131.5048828125 71.60205078125\n",
      "131.5107421875 71.58056640625\n",
      "131.50537109375 71.59521484375\n",
      "131.50244140625 71.6005859375\n",
      "131.509765625 71.57861328125\n",
      "131.49072265625 71.5888671875\n",
      "131.47509765625 71.599609375\n",
      "131.47412109375 71.59375\n",
      "131.513671875 71.5869140625\n",
      "131.4951171875 71.595703125\n",
      "131.4853515625 71.60693359375\n",
      "131.48828125 71.58935546875\n",
      "131.48828125 71.57275390625\n",
      "131.5361328125 71.654296875\n",
      "131.48291015625 71.60888671875\n"
     ]
    },
    {
     "name": "stderr",
     "output_type": "stream",
     "text": [
      " 11%|█         | 9/81 [00:04<00:45,  1.60it/s]"
     ]
    },
    {
     "name": "stdout",
     "output_type": "stream",
     "text": [
      "131.51904296875 71.6728515625\n",
      "131.505859375 71.6796875\n",
      "131.49462890625 71.61474609375\n",
      "131.48779296875 71.65576171875\n",
      "131.45654296875 71.64404296875\n",
      "131.51220703125 71.68603515625\n",
      "131.513671875 71.65380859375\n",
      "131.4443359375 71.63916015625\n",
      "131.5361328125 71.654296875\n",
      "131.5078125 71.68212890625\n",
      "131.51904296875 71.6728515625\n",
      "131.513671875 71.65380859375\n",
      "131.48291015625 71.60888671875\n"
     ]
    },
    {
     "name": "stderr",
     "output_type": "stream",
     "text": [
      " 12%|█▏        | 10/81 [00:05<00:36,  1.95it/s]"
     ]
    },
    {
     "name": "stdout",
     "output_type": "stream",
     "text": [
      "131.587890625 71.37451171875\n"
     ]
    },
    {
     "name": "stderr",
     "output_type": "stream",
     "text": [
      " 14%|█▎        | 11/81 [00:05<00:33,  2.07it/s]"
     ]
    },
    {
     "name": "stdout",
     "output_type": "stream",
     "text": [
      "131.5693359375 71.40869140625\n",
      "131.56689453125 71.41015625\n",
      "131.5498046875 71.3720703125\n",
      "131.57568359375 71.3935546875\n",
      "131.56884765625 71.392578125\n",
      "131.5732421875 71.392578125\n"
     ]
    },
    {
     "name": "stderr",
     "output_type": "stream",
     "text": [
      " 15%|█▍        | 12/81 [00:05<00:30,  2.28it/s]"
     ]
    },
    {
     "name": "stdout",
     "output_type": "stream",
     "text": [
      "131.5693359375 71.40869140625\n",
      "131.55712890625 71.4267578125\n",
      "131.56689453125 71.41015625\n",
      "131.57568359375 71.3935546875\n",
      "131.56884765625 71.392578125\n",
      "131.5732421875 71.392578125\n"
     ]
    },
    {
     "name": "stderr",
     "output_type": "stream",
     "text": [
      " 16%|█▌        | 13/81 [00:06<00:25,  2.64it/s]"
     ]
    },
    {
     "name": "stdout",
     "output_type": "stream",
     "text": [
      "131.55712890625 71.4267578125\n"
     ]
    },
    {
     "name": "stderr",
     "output_type": "stream",
     "text": [
      " 17%|█▋        | 14/81 [00:06<00:22,  3.01it/s]"
     ]
    },
    {
     "name": "stdout",
     "output_type": "stream",
     "text": [
      "131.517578125 71.51123046875\n",
      "131.517578125 71.51123046875\n"
     ]
    },
    {
     "name": "stderr",
     "output_type": "stream",
     "text": [
      " 19%|█▊        | 15/81 [00:06<00:22,  2.98it/s]"
     ]
    },
    {
     "name": "stdout",
     "output_type": "stream",
     "text": [
      "131.51611328125 71.5712890625\n",
      "131.517578125 71.51123046875\n",
      "131.517578125 71.51123046875\n"
     ]
    },
    {
     "name": "stderr",
     "output_type": "stream",
     "text": [
      " 20%|█▉        | 16/81 [00:07<00:26,  2.48it/s]"
     ]
    },
    {
     "name": "stdout",
     "output_type": "stream",
     "text": [
      "131.50634765625 71.603515625\n",
      "131.48974609375 71.59619140625\n",
      "131.5048828125 71.60205078125\n",
      "131.5068359375 71.595703125\n",
      "131.5107421875 71.58056640625\n",
      "131.50537109375 71.59521484375\n",
      "131.50244140625 71.6005859375\n",
      "131.509765625 71.57861328125\n",
      "131.49072265625 71.5888671875\n",
      "131.47412109375 71.59375\n",
      "131.4580078125 71.55078125\n",
      "131.4951171875 71.595703125\n",
      "131.48828125 71.58935546875\n",
      "131.48828125 71.57275390625\n",
      "131.5234375 71.54638671875\n",
      "131.4833984375 71.59033203125\n"
     ]
    },
    {
     "name": "stderr",
     "output_type": "stream",
     "text": [
      " 21%|██        | 17/81 [00:07<00:30,  2.08it/s]"
     ]
    },
    {
     "name": "stdout",
     "output_type": "stream",
     "text": [
      "131.50634765625 71.603515625\n",
      "131.5048828125 71.60205078125\n",
      "131.5107421875 71.58056640625\n",
      "131.50537109375 71.59521484375\n",
      "131.50244140625 71.6005859375\n",
      "131.509765625 71.57861328125\n",
      "131.49072265625 71.5888671875\n",
      "131.47509765625 71.599609375\n",
      "131.47412109375 71.59375\n",
      "131.44677734375 71.607421875\n",
      "131.49462890625 71.61474609375\n",
      "131.4951171875 71.595703125\n",
      "131.4853515625 71.60693359375\n",
      "131.48828125 71.58935546875\n",
      "131.48828125 71.57275390625\n",
      "131.451171875 71.60498046875\n",
      "131.4482421875 71.60595703125\n",
      "131.48388671875 71.59033203125\n",
      "131.48291015625 71.60888671875\n",
      "131.48291015625 71.60888671875\n"
     ]
    },
    {
     "name": "stderr",
     "output_type": "stream",
     "text": [
      " 22%|██▏       | 18/81 [00:08<00:30,  2.05it/s]"
     ]
    },
    {
     "name": "stdout",
     "output_type": "stream",
     "text": [
      "131.48779296875 71.65576171875\n",
      "131.4853515625 71.59326171875\n",
      "131.4443359375 71.63916015625\n",
      "131.45654296875 71.64404296875\n",
      "131.48779296875 71.59619140625\n",
      "131.439453125 71.63720703125\n",
      "131.44677734375 71.607421875\n",
      "131.43505859375 71.63623046875\n",
      "131.49462890625 71.61474609375\n",
      "131.451171875 71.60498046875\n",
      "131.4482421875 71.60595703125\n",
      "131.48291015625 71.60888671875\n",
      "131.48291015625 71.60888671875\n"
     ]
    },
    {
     "name": "stderr",
     "output_type": "stream",
     "text": [
      " 31%|███       | 25/81 [00:09<00:11,  5.00it/s]"
     ]
    },
    {
     "name": "stdout",
     "output_type": "stream",
     "text": [
      "131.4580078125 71.55078125\n"
     ]
    },
    {
     "name": "stderr",
     "output_type": "stream",
     "text": [
      " 32%|███▏      | 26/81 [00:09<00:13,  4.12it/s]"
     ]
    },
    {
     "name": "stdout",
     "output_type": "stream",
     "text": [
      "131.44677734375 71.607421875\n",
      "131.451171875 71.60498046875\n",
      "131.4482421875 71.60595703125\n"
     ]
    },
    {
     "name": "stderr",
     "output_type": "stream",
     "text": [
      " 36%|███▌      | 29/81 [00:10<00:09,  5.53it/s]"
     ]
    },
    {
     "name": "stdout",
     "output_type": "stream",
     "text": [
      "131.439453125 71.63720703125\n",
      "131.44677734375 71.607421875\n",
      "131.43505859375 71.63623046875\n",
      "131.4287109375 71.63330078125\n",
      "131.451171875 71.60498046875\n",
      "131.4482421875 71.60595703125\n",
      "131.4443359375 71.63916015625\n"
     ]
    },
    {
     "name": "stderr",
     "output_type": "stream",
     "text": [
      " 48%|████▊     | 39/81 [00:11<00:04,  9.87it/s]"
     ]
    },
    {
     "name": "stdout",
     "output_type": "stream",
     "text": [
      "131.46728515625 71.25244140625\n"
     ]
    },
    {
     "name": "stderr",
     "output_type": "stream",
     "text": [
      " 85%|████████▌ | 69/81 [00:14<00:01,  6.51it/s]"
     ]
    },
    {
     "name": "stdout",
     "output_type": "stream",
     "text": [
      "131.2646484375 71.39697265625\n"
     ]
    },
    {
     "name": "stderr",
     "output_type": "stream",
     "text": [
      " 96%|█████████▋| 78/81 [00:16<00:00,  5.04it/s]"
     ]
    },
    {
     "name": "stdout",
     "output_type": "stream",
     "text": [
      "131.2646484375 71.39697265625\n"
     ]
    },
    {
     "name": "stderr",
     "output_type": "stream",
     "text": [
      "100%|██████████| 81/81 [00:16<00:00,  4.77it/s]\n"
     ]
    },
    {
     "name": "stdout",
     "output_type": "stream",
     "text": [
      " 4 Define mapping between PRISMA LatLon and gMaps latlon\n",
      " 5 Map PRISMA Latlons to gMaps latlons (ransac affine) and save for reference\n",
      "Band 11 did not work\n",
      "# 1 create .tif file\n",
      "# 2 Download gmaps for the same location\n",
      "Image size (pix):  (1792, 1792)\n",
      "Tile coordinate top left (north-west) corner: 1048,568\n",
      " 3 Determine matched features in PRISMA image to gMaps image with SIFT\n"
     ]
    },
    {
     "name": "stderr",
     "output_type": "stream",
     "text": [
      "100%|██████████| 81/81 [01:05<00:00,  1.24it/s]\n"
     ]
    },
    {
     "name": "stdout",
     "output_type": "stream",
     "text": [
      "Band 12 did not work\n",
      "# 1 create .tif file\n",
      "# 2 Download gmaps for the same location\n",
      "Image size (pix):  (1792, 1792)\n",
      "Tile coordinate top left (north-west) corner: 1048,568\n",
      " 3 Determine matched features in PRISMA image to gMaps image with SIFT\n"
     ]
    },
    {
     "name": "stderr",
     "output_type": "stream",
     "text": [
      "  2%|▏         | 2/81 [00:00<00:28,  2.73it/s]"
     ]
    },
    {
     "name": "stdout",
     "output_type": "stream",
     "text": [
      "131.57080078125 71.42626953125\n",
      "131.572265625 71.42724609375\n",
      "131.56689453125 71.41015625\n",
      "131.57568359375 71.3935546875\n",
      "131.56884765625 71.392578125\n",
      "131.5732421875 71.392578125\n"
     ]
    },
    {
     "name": "stderr",
     "output_type": "stream",
     "text": [
      "  4%|▎         | 3/81 [00:01<00:31,  2.50it/s]"
     ]
    },
    {
     "name": "stdout",
     "output_type": "stream",
     "text": [
      "131.5693359375 71.40869140625\n",
      "131.6025390625 71.3955078125\n",
      "131.56689453125 71.41015625\n",
      "131.5810546875 71.46435546875\n",
      "131.57568359375 71.3935546875\n",
      "131.56884765625 71.392578125\n",
      "131.5732421875 71.392578125\n"
     ]
    },
    {
     "name": "stderr",
     "output_type": "stream",
     "text": [
      "  5%|▍         | 4/81 [00:01<00:29,  2.59it/s]"
     ]
    },
    {
     "name": "stdout",
     "output_type": "stream",
     "text": [
      "131.59912109375 71.47021484375\n",
      "131.5712890625 71.49951171875\n",
      "131.5810546875 71.46435546875\n"
     ]
    },
    {
     "name": "stderr",
     "output_type": "stream",
     "text": [
      "  6%|▌         | 5/81 [00:01<00:29,  2.53it/s]"
     ]
    },
    {
     "name": "stdout",
     "output_type": "stream",
     "text": [
      "131.5673828125 71.54443359375\n",
      "131.56494140625 71.54345703125\n",
      "131.578125 71.50244140625\n",
      "131.57861328125 71.5283203125\n",
      "131.57861328125 71.486328125\n",
      "131.55859375 71.53759765625\n",
      "131.5380859375 71.50732421875\n",
      "131.57373046875 71.5009765625\n",
      "131.5712890625 71.49951171875\n",
      "131.517578125 71.51123046875\n",
      "131.57958984375 71.484375\n",
      "131.5380859375 71.50732421875\n",
      "131.57373046875 71.5009765625\n",
      "131.52099609375 71.5458984375\n",
      "131.517578125 71.51123046875\n"
     ]
    },
    {
     "name": "stderr",
     "output_type": "stream",
     "text": [
      "  7%|▋         | 6/81 [00:02<00:34,  2.18it/s]"
     ]
    },
    {
     "name": "stdout",
     "output_type": "stream",
     "text": [
      "131.55859375 71.53759765625\n",
      "131.5419921875 71.58056640625\n",
      "131.54248046875 71.5771484375\n",
      "131.53759765625 71.57958984375\n",
      "131.5380859375 71.50732421875\n",
      "131.568359375 71.580078125\n",
      "131.50830078125 71.54833984375\n",
      "131.517578125 71.51123046875\n",
      "131.53369140625 71.5498046875\n",
      "131.5380859375 71.50732421875\n",
      "131.54638671875 71.57275390625\n",
      "131.517578125 71.51123046875\n"
     ]
    },
    {
     "name": "stderr",
     "output_type": "stream",
     "text": [
      "  9%|▊         | 7/81 [00:03<00:42,  1.76it/s]"
     ]
    },
    {
     "name": "stdout",
     "output_type": "stream",
     "text": [
      "131.4970703125 71.60595703125\n",
      "131.54931640625 71.58447265625\n",
      "131.54931640625 71.5615234375\n",
      "131.54248046875 71.5771484375\n",
      "131.525390625 71.576171875\n",
      "131.52587890625 71.578125\n",
      "131.5185546875 71.5869140625\n",
      "131.5166015625 71.58984375\n",
      "131.51806640625 71.580078125\n",
      "131.50634765625 71.603515625\n",
      "131.5048828125 71.60205078125\n",
      "131.5068359375 71.595703125\n",
      "131.5107421875 71.58056640625\n",
      "131.50244140625 71.6005859375\n",
      "131.51171875 71.5751953125\n",
      "131.509765625 71.57861328125\n",
      "131.5166015625 71.5458984375\n",
      "131.49072265625 71.5888671875\n",
      "131.47412109375 71.59375\n",
      "131.5458984375 71.5810546875\n",
      "131.54345703125 71.57861328125\n",
      "131.513671875 71.5869140625\n",
      "131.4775390625 71.59326171875\n",
      "131.4951171875 71.595703125\n",
      "131.5234375 71.54638671875\n",
      "131.5322265625 71.57666015625\n",
      "131.529296875 71.572265625\n",
      "131.50927734375 71.58984375\n",
      "131.48388671875 71.59033203125\n",
      "131.52001953125 71.6044921875\n",
      "131.51904296875 71.57177734375\n",
      "131.5390625 71.578125\n",
      "131.54443359375 71.5849609375\n",
      "131.529296875 71.572265625\n"
     ]
    },
    {
     "name": "stderr",
     "output_type": "stream",
     "text": [
      " 10%|▉         | 8/81 [00:04<00:46,  1.58it/s]"
     ]
    },
    {
     "name": "stdout",
     "output_type": "stream",
     "text": [
      "131.49462890625 71.61474609375\n",
      "131.5185546875 71.5869140625\n",
      "131.50634765625 71.603515625\n",
      "131.5048828125 71.60205078125\n",
      "131.5107421875 71.58056640625\n",
      "131.50537109375 71.59521484375\n",
      "131.50244140625 71.6005859375\n",
      "131.509765625 71.57861328125\n",
      "131.49072265625 71.5888671875\n",
      "131.48291015625 71.60888671875\n",
      "131.47509765625 71.599609375\n",
      "131.47412109375 71.59375\n",
      "131.513671875 71.5869140625\n",
      "131.4951171875 71.595703125\n",
      "131.4853515625 71.60693359375\n",
      "131.48828125 71.57275390625\n",
      "131.5361328125 71.654296875\n"
     ]
    },
    {
     "name": "stderr",
     "output_type": "stream",
     "text": [
      " 11%|█         | 9/81 [00:04<00:45,  1.60it/s]"
     ]
    },
    {
     "name": "stdout",
     "output_type": "stream",
     "text": [
      "131.51904296875 71.6728515625\n",
      "131.52490234375 71.6533203125\n",
      "131.505859375 71.6796875\n",
      "131.49462890625 71.61474609375\n",
      "131.48779296875 71.65576171875\n",
      "131.48291015625 71.60888671875\n",
      "131.45654296875 71.64404296875\n",
      "131.51220703125 71.68603515625\n",
      "131.513671875 71.65380859375\n",
      "131.5361328125 71.654296875\n",
      "131.5078125 71.68212890625\n",
      "131.4443359375 71.63916015625\n",
      "131.51904296875 71.6728515625\n",
      "131.513671875 71.65380859375\n"
     ]
    },
    {
     "name": "stderr",
     "output_type": "stream",
     "text": [
      " 12%|█▏        | 10/81 [00:04<00:35,  1.97it/s]"
     ]
    },
    {
     "name": "stdout",
     "output_type": "stream",
     "text": [
      "131.587890625 71.37451171875\n"
     ]
    },
    {
     "name": "stderr",
     "output_type": "stream",
     "text": [
      " 14%|█▎        | 11/81 [00:05<00:31,  2.20it/s]"
     ]
    },
    {
     "name": "stdout",
     "output_type": "stream",
     "text": [
      "131.5693359375 71.40869140625\n",
      "131.56689453125 71.41015625\n",
      "131.5498046875 71.3720703125\n",
      "131.57568359375 71.3935546875\n",
      "131.56884765625 71.392578125\n",
      "131.5732421875 71.392578125\n"
     ]
    },
    {
     "name": "stderr",
     "output_type": "stream",
     "text": [
      " 15%|█▍        | 12/81 [00:05<00:28,  2.44it/s]"
     ]
    },
    {
     "name": "stdout",
     "output_type": "stream",
     "text": [
      "131.5693359375 71.40869140625\n",
      "131.55712890625 71.4267578125\n",
      "131.56689453125 71.41015625\n",
      "131.57568359375 71.3935546875\n",
      "131.56884765625 71.392578125\n",
      "131.5732421875 71.392578125\n"
     ]
    },
    {
     "name": "stderr",
     "output_type": "stream",
     "text": [
      " 16%|█▌        | 13/81 [00:05<00:23,  2.83it/s]"
     ]
    },
    {
     "name": "stdout",
     "output_type": "stream",
     "text": [
      "131.55712890625 71.4267578125\n",
      "131.5380859375 71.50732421875\n"
     ]
    },
    {
     "name": "stderr",
     "output_type": "stream",
     "text": [
      " 17%|█▋        | 14/81 [00:05<00:20,  3.20it/s]"
     ]
    },
    {
     "name": "stdout",
     "output_type": "stream",
     "text": [
      "131.517578125 71.51123046875\n",
      "131.5380859375 71.50732421875\n",
      "131.517578125 71.51123046875\n"
     ]
    },
    {
     "name": "stderr",
     "output_type": "stream",
     "text": [
      " 19%|█▊        | 15/81 [00:06<00:21,  3.07it/s]"
     ]
    },
    {
     "name": "stdout",
     "output_type": "stream",
     "text": [
      "131.51611328125 71.5712890625\n",
      "131.5380859375 71.50732421875\n",
      "131.5166015625 71.5458984375\n",
      "131.517578125 71.51123046875\n",
      "131.45556640625 71.5537109375\n",
      "131.5380859375 71.50732421875\n",
      "131.517578125 71.51123046875\n"
     ]
    },
    {
     "name": "stderr",
     "output_type": "stream",
     "text": [
      " 20%|█▉        | 16/81 [00:06<00:26,  2.49it/s]"
     ]
    },
    {
     "name": "stdout",
     "output_type": "stream",
     "text": [
      "131.50634765625 71.603515625\n",
      "131.48974609375 71.59619140625\n",
      "131.5048828125 71.60205078125\n",
      "131.5068359375 71.595703125\n",
      "131.5107421875 71.58056640625\n",
      "131.50537109375 71.59521484375\n",
      "131.50244140625 71.6005859375\n",
      "131.51171875 71.5751953125\n",
      "131.509765625 71.57861328125\n",
      "131.5166015625 71.5458984375\n",
      "131.49072265625 71.5888671875\n",
      "131.47412109375 71.59375\n",
      "131.4580078125 71.55078125\n",
      "131.4951171875 71.595703125\n",
      "131.48828125 71.57275390625\n",
      "131.5234375 71.54638671875\n",
      "131.4833984375 71.59033203125\n"
     ]
    },
    {
     "name": "stderr",
     "output_type": "stream",
     "text": [
      " 21%|██        | 17/81 [00:07<00:30,  2.08it/s]"
     ]
    },
    {
     "name": "stdout",
     "output_type": "stream",
     "text": [
      "131.50634765625 71.603515625\n",
      "131.5048828125 71.60205078125\n",
      "131.5107421875 71.58056640625\n",
      "131.50537109375 71.59521484375\n",
      "131.50244140625 71.6005859375\n",
      "131.509765625 71.57861328125\n",
      "131.49072265625 71.5888671875\n",
      "131.48291015625 71.60888671875\n",
      "131.47509765625 71.599609375\n",
      "131.47412109375 71.59375\n",
      "131.44677734375 71.607421875\n",
      "131.49462890625 71.61474609375\n",
      "131.4951171875 71.595703125\n",
      "131.4853515625 71.60693359375\n",
      "131.48828125 71.57275390625\n",
      "131.451171875 71.60498046875\n",
      "131.4482421875 71.60595703125\n",
      "131.48388671875 71.59033203125\n",
      "131.48291015625 71.60888671875\n"
     ]
    },
    {
     "name": "stderr",
     "output_type": "stream",
     "text": [
      " 22%|██▏       | 18/81 [00:08<00:30,  2.06it/s]"
     ]
    },
    {
     "name": "stdout",
     "output_type": "stream",
     "text": [
      "131.48779296875 71.65576171875\n",
      "131.4853515625 71.59326171875\n",
      "131.494140625 71.61669921875\n",
      "131.48291015625 71.60888671875\n",
      "131.4443359375 71.63916015625\n",
      "131.45654296875 71.64404296875\n",
      "131.48779296875 71.59619140625\n",
      "131.439453125 71.63720703125\n",
      "131.44677734375 71.607421875\n",
      "131.4443359375 71.60986328125\n",
      "131.43505859375 71.63623046875\n",
      "131.49462890625 71.61474609375\n",
      "131.451171875 71.60498046875\n",
      "131.4482421875 71.60595703125\n",
      "131.48291015625 71.60888671875\n"
     ]
    },
    {
     "name": "stderr",
     "output_type": "stream",
     "text": [
      " 31%|███       | 25/81 [00:09<00:10,  5.25it/s]"
     ]
    },
    {
     "name": "stdout",
     "output_type": "stream",
     "text": [
      "131.4580078125 71.55078125\n"
     ]
    },
    {
     "name": "stderr",
     "output_type": "stream",
     "text": [
      " 32%|███▏      | 26/81 [00:09<00:12,  4.37it/s]"
     ]
    },
    {
     "name": "stdout",
     "output_type": "stream",
     "text": [
      "131.44677734375 71.607421875\n",
      "131.4443359375 71.60986328125\n",
      "131.451171875 71.60498046875\n",
      "131.4482421875 71.60595703125\n"
     ]
    },
    {
     "name": "stderr",
     "output_type": "stream",
     "text": [
      " 36%|███▌      | 29/81 [00:09<00:09,  5.67it/s]"
     ]
    },
    {
     "name": "stdout",
     "output_type": "stream",
     "text": [
      "131.439453125 71.63720703125\n",
      "131.44677734375 71.607421875\n",
      "131.4443359375 71.60986328125\n",
      "131.43505859375 71.63623046875\n",
      "131.4287109375 71.63330078125\n",
      "131.451171875 71.60498046875\n",
      "131.4482421875 71.60595703125\n",
      "131.4443359375 71.63916015625\n"
     ]
    },
    {
     "name": "stderr",
     "output_type": "stream",
     "text": [
      " 43%|████▎     | 35/81 [00:10<00:05,  7.73it/s]"
     ]
    },
    {
     "name": "stdout",
     "output_type": "stream",
     "text": [
      "131.45361328125 71.55224609375\n"
     ]
    },
    {
     "name": "stderr",
     "output_type": "stream",
     "text": [
      " 48%|████▊     | 39/81 [00:10<00:04,  9.35it/s]"
     ]
    },
    {
     "name": "stdout",
     "output_type": "stream",
     "text": [
      "131.46728515625 71.25244140625\n"
     ]
    },
    {
     "name": "stderr",
     "output_type": "stream",
     "text": [
      " 85%|████████▌ | 69/81 [00:14<00:01,  7.30it/s]"
     ]
    },
    {
     "name": "stdout",
     "output_type": "stream",
     "text": [
      "131.2646484375 71.39697265625\n"
     ]
    },
    {
     "name": "stderr",
     "output_type": "stream",
     "text": [
      " 96%|█████████▋| 78/81 [00:15<00:00,  6.55it/s]"
     ]
    },
    {
     "name": "stdout",
     "output_type": "stream",
     "text": [
      "131.2646484375 71.39697265625\n"
     ]
    },
    {
     "name": "stderr",
     "output_type": "stream",
     "text": [
      "100%|██████████| 81/81 [00:16<00:00,  4.98it/s]\n"
     ]
    },
    {
     "name": "stdout",
     "output_type": "stream",
     "text": [
      " 4 Define mapping between PRISMA LatLon and gMaps latlon\n",
      " 5 Map PRISMA Latlons to gMaps latlons (ransac affine) and save for reference\n",
      "Band 13 did not work\n",
      "# 1 create .tif file\n",
      "# 2 Download gmaps for the same location\n",
      "Image size (pix):  (1792, 1792)\n",
      "Tile coordinate top left (north-west) corner: 1048,568\n",
      " 3 Determine matched features in PRISMA image to gMaps image with SIFT\n"
     ]
    },
    {
     "name": "stderr",
     "output_type": "stream",
     "text": [
      "  2%|▏         | 2/81 [00:00<00:29,  2.66it/s]"
     ]
    },
    {
     "name": "stdout",
     "output_type": "stream",
     "text": [
      "131.57080078125 71.42626953125\n",
      "131.572265625 71.42724609375\n",
      "131.56689453125 71.41015625\n",
      "131.57568359375 71.3935546875\n",
      "131.56884765625 71.392578125\n",
      "131.5732421875 71.392578125\n"
     ]
    },
    {
     "name": "stderr",
     "output_type": "stream",
     "text": [
      "  4%|▎         | 3/81 [00:01<00:32,  2.41it/s]"
     ]
    },
    {
     "name": "stdout",
     "output_type": "stream",
     "text": [
      "131.5693359375 71.40869140625\n",
      "131.6025390625 71.3955078125\n",
      "131.56689453125 71.41015625\n",
      "131.5810546875 71.46435546875\n",
      "131.57568359375 71.3935546875\n",
      "131.56884765625 71.392578125\n",
      "131.5732421875 71.392578125\n"
     ]
    },
    {
     "name": "stderr",
     "output_type": "stream",
     "text": [
      "  5%|▍         | 4/81 [00:01<00:30,  2.52it/s]"
     ]
    },
    {
     "name": "stdout",
     "output_type": "stream",
     "text": [
      "131.59912109375 71.47021484375\n",
      "131.5712890625 71.49951171875\n",
      "131.5810546875 71.46435546875\n"
     ]
    },
    {
     "name": "stderr",
     "output_type": "stream",
     "text": [
      "  6%|▌         | 5/81 [00:01<00:30,  2.52it/s]"
     ]
    },
    {
     "name": "stdout",
     "output_type": "stream",
     "text": [
      "131.5673828125 71.54443359375\n",
      "131.56494140625 71.54345703125\n",
      "131.578125 71.50244140625\n",
      "131.57861328125 71.486328125\n",
      "131.55859375 71.53759765625\n",
      "131.57373046875 71.5009765625\n",
      "131.5712890625 71.49951171875\n",
      "131.517578125 71.51123046875\n",
      "131.57958984375 71.484375\n",
      "131.57373046875 71.5009765625\n",
      "131.52099609375 71.5458984375\n",
      "131.517578125 71.51123046875\n"
     ]
    },
    {
     "name": "stderr",
     "output_type": "stream",
     "text": [
      "  7%|▋         | 6/81 [00:02<00:34,  2.19it/s]"
     ]
    },
    {
     "name": "stdout",
     "output_type": "stream",
     "text": [
      "131.55859375 71.53759765625\n",
      "131.5419921875 71.58056640625\n",
      "131.54248046875 71.5771484375\n",
      "131.53759765625 71.57958984375\n",
      "131.568359375 71.580078125\n",
      "131.50830078125 71.54833984375\n",
      "131.517578125 71.51123046875\n",
      "131.54638671875 71.57275390625\n",
      "131.517578125 71.51123046875\n"
     ]
    },
    {
     "name": "stderr",
     "output_type": "stream",
     "text": [
      "  9%|▊         | 7/81 [00:03<00:41,  1.77it/s]"
     ]
    },
    {
     "name": "stdout",
     "output_type": "stream",
     "text": [
      "131.4970703125 71.60595703125\n",
      "131.54931640625 71.58447265625\n",
      "131.54931640625 71.5615234375\n",
      "131.54248046875 71.5771484375\n",
      "131.525390625 71.576171875\n",
      "131.52587890625 71.578125\n",
      "131.5185546875 71.5869140625\n",
      "131.5166015625 71.58984375\n",
      "131.51806640625 71.580078125\n",
      "131.50634765625 71.603515625\n",
      "131.5048828125 71.60205078125\n",
      "131.5068359375 71.595703125\n",
      "131.5107421875 71.58056640625\n",
      "131.50244140625 71.6005859375\n",
      "131.51171875 71.5751953125\n",
      "131.509765625 71.57861328125\n",
      "131.49072265625 71.5888671875\n",
      "131.47412109375 71.59375\n",
      "131.5458984375 71.5810546875\n",
      "131.54345703125 71.57861328125\n",
      "131.513671875 71.5869140625\n",
      "131.4775390625 71.59326171875\n",
      "131.4951171875 71.595703125\n",
      "131.5234375 71.54638671875\n",
      "131.5322265625 71.57666015625\n",
      "131.50927734375 71.58984375\n",
      "131.48876953125 71.59375\n",
      "131.48388671875 71.59033203125\n",
      "131.52001953125 71.6044921875\n",
      "131.51904296875 71.57177734375\n",
      "131.5390625 71.578125\n",
      "131.54443359375 71.5849609375\n"
     ]
    },
    {
     "name": "stderr",
     "output_type": "stream",
     "text": [
      " 10%|▉         | 8/81 [00:04<00:45,  1.61it/s]"
     ]
    },
    {
     "name": "stdout",
     "output_type": "stream",
     "text": [
      "131.49462890625 71.61474609375\n",
      "131.5185546875 71.5869140625\n",
      "131.50634765625 71.603515625\n",
      "131.5048828125 71.60205078125\n",
      "131.5107421875 71.58056640625\n",
      "131.50537109375 71.59521484375\n",
      "131.50244140625 71.6005859375\n",
      "131.509765625 71.57861328125\n",
      "131.4951171875 71.60791015625\n",
      "131.49072265625 71.5888671875\n",
      "131.48291015625 71.60888671875\n",
      "131.47509765625 71.599609375\n",
      "131.47412109375 71.59375\n",
      "131.513671875 71.5869140625\n",
      "131.4951171875 71.595703125\n",
      "131.4853515625 71.60693359375\n",
      "131.48828125 71.57275390625\n",
      "131.5361328125 71.654296875\n"
     ]
    },
    {
     "name": "stderr",
     "output_type": "stream",
     "text": [
      " 11%|█         | 9/81 [00:04<00:43,  1.64it/s]"
     ]
    },
    {
     "name": "stdout",
     "output_type": "stream",
     "text": [
      "131.51904296875 71.6728515625\n",
      "131.505859375 71.6796875\n",
      "131.49462890625 71.61474609375\n",
      "131.48779296875 71.65576171875\n",
      "131.48291015625 71.60888671875\n",
      "131.45654296875 71.64404296875\n",
      "131.51220703125 71.68603515625\n",
      "131.513671875 71.65380859375\n",
      "131.5361328125 71.654296875\n",
      "131.5078125 71.68212890625\n",
      "131.4443359375 71.63916015625\n",
      "131.51904296875 71.6728515625\n",
      "131.513671875 71.65380859375\n"
     ]
    },
    {
     "name": "stderr",
     "output_type": "stream",
     "text": [
      " 12%|█▏        | 10/81 [00:04<00:35,  1.99it/s]"
     ]
    },
    {
     "name": "stdout",
     "output_type": "stream",
     "text": [
      "131.587890625 71.37451171875\n"
     ]
    },
    {
     "name": "stderr",
     "output_type": "stream",
     "text": [
      " 14%|█▎        | 11/81 [00:05<00:32,  2.17it/s]"
     ]
    },
    {
     "name": "stdout",
     "output_type": "stream",
     "text": [
      "131.5693359375 71.40869140625\n",
      "131.56689453125 71.41015625\n",
      "131.5498046875 71.3720703125\n",
      "131.57568359375 71.3935546875\n",
      "131.56884765625 71.392578125\n",
      "131.5732421875 71.392578125\n"
     ]
    },
    {
     "name": "stderr",
     "output_type": "stream",
     "text": [
      " 15%|█▍        | 12/81 [00:05<00:29,  2.32it/s]"
     ]
    },
    {
     "name": "stdout",
     "output_type": "stream",
     "text": [
      "131.5693359375 71.40869140625\n",
      "131.55712890625 71.4267578125\n",
      "131.56689453125 71.41015625\n",
      "131.57568359375 71.3935546875\n",
      "131.56884765625 71.392578125\n",
      "131.5732421875 71.392578125\n"
     ]
    },
    {
     "name": "stderr",
     "output_type": "stream",
     "text": [
      " 16%|█▌        | 13/81 [00:05<00:25,  2.69it/s]"
     ]
    },
    {
     "name": "stdout",
     "output_type": "stream",
     "text": [
      "131.55712890625 71.4267578125\n"
     ]
    },
    {
     "name": "stderr",
     "output_type": "stream",
     "text": [
      " 17%|█▋        | 14/81 [00:06<00:21,  3.08it/s]"
     ]
    },
    {
     "name": "stdout",
     "output_type": "stream",
     "text": [
      "131.517578125 71.51123046875\n",
      "131.517578125 71.51123046875\n"
     ]
    },
    {
     "name": "stderr",
     "output_type": "stream",
     "text": [
      " 19%|█▊        | 15/81 [00:06<00:21,  3.08it/s]"
     ]
    },
    {
     "name": "stdout",
     "output_type": "stream",
     "text": [
      "131.51611328125 71.5712890625\n",
      "131.517578125 71.51123046875\n",
      "131.45556640625 71.5537109375\n",
      "131.517578125 71.51123046875\n"
     ]
    },
    {
     "name": "stderr",
     "output_type": "stream",
     "text": [
      " 20%|█▉        | 16/81 [00:06<00:25,  2.50it/s]"
     ]
    },
    {
     "name": "stdout",
     "output_type": "stream",
     "text": [
      "131.50634765625 71.603515625\n",
      "131.48974609375 71.59619140625\n",
      "131.5048828125 71.60205078125\n",
      "131.5068359375 71.595703125\n",
      "131.5107421875 71.58056640625\n",
      "131.50537109375 71.59521484375\n",
      "131.50244140625 71.6005859375\n",
      "131.51171875 71.5751953125\n",
      "131.509765625 71.57861328125\n",
      "131.49072265625 71.5888671875\n",
      "131.47412109375 71.59375\n",
      "131.4580078125 71.55078125\n",
      "131.4951171875 71.595703125\n",
      "131.48828125 71.57275390625\n",
      "131.5234375 71.54638671875\n",
      "131.4833984375 71.59033203125\n"
     ]
    },
    {
     "name": "stderr",
     "output_type": "stream",
     "text": [
      " 21%|██        | 17/81 [00:07<00:30,  2.10it/s]"
     ]
    },
    {
     "name": "stdout",
     "output_type": "stream",
     "text": [
      "131.50634765625 71.603515625\n",
      "131.5048828125 71.60205078125\n",
      "131.5107421875 71.58056640625\n",
      "131.50537109375 71.59521484375\n",
      "131.50244140625 71.6005859375\n",
      "131.509765625 71.57861328125\n",
      "131.4951171875 71.60791015625\n",
      "131.49072265625 71.5888671875\n",
      "131.48291015625 71.60888671875\n",
      "131.47509765625 71.599609375\n",
      "131.47412109375 71.59375\n",
      "131.44677734375 71.607421875\n",
      "131.466796875 71.59912109375\n",
      "131.49462890625 71.61474609375\n",
      "131.4951171875 71.595703125\n",
      "131.4853515625 71.60693359375\n",
      "131.48828125 71.57275390625\n",
      "131.451171875 71.60498046875\n",
      "131.4482421875 71.60595703125\n",
      "131.48388671875 71.59033203125\n",
      "131.48291015625 71.60888671875\n",
      "131.4443359375 71.60986328125\n"
     ]
    },
    {
     "name": "stderr",
     "output_type": "stream",
     "text": [
      " 22%|██▏       | 18/81 [00:08<00:31,  2.02it/s]"
     ]
    },
    {
     "name": "stdout",
     "output_type": "stream",
     "text": [
      "131.48779296875 71.65576171875\n",
      "131.4853515625 71.59326171875\n",
      "131.48291015625 71.60888671875\n",
      "131.4443359375 71.63916015625\n",
      "131.45654296875 71.64404296875\n",
      "131.48779296875 71.59619140625\n",
      "131.439453125 71.63720703125\n",
      "131.44677734375 71.607421875\n",
      "131.43505859375 71.63623046875\n",
      "131.49462890625 71.61474609375\n",
      "131.451171875 71.60498046875\n",
      "131.4482421875 71.60595703125\n",
      "131.48291015625 71.60888671875\n",
      "131.4443359375 71.60986328125\n"
     ]
    },
    {
     "name": "stderr",
     "output_type": "stream",
     "text": [
      " 31%|███       | 25/81 [00:09<00:10,  5.18it/s]"
     ]
    },
    {
     "name": "stdout",
     "output_type": "stream",
     "text": [
      "131.4580078125 71.55078125\n"
     ]
    },
    {
     "name": "stderr",
     "output_type": "stream",
     "text": [
      " 32%|███▏      | 26/81 [00:09<00:12,  4.35it/s]"
     ]
    },
    {
     "name": "stdout",
     "output_type": "stream",
     "text": [
      "131.44677734375 71.607421875\n",
      "131.451171875 71.60498046875\n",
      "131.4482421875 71.60595703125\n",
      "131.4443359375 71.60986328125\n"
     ]
    },
    {
     "name": "stderr",
     "output_type": "stream",
     "text": [
      " 36%|███▌      | 29/81 [00:10<00:09,  5.67it/s]"
     ]
    },
    {
     "name": "stdout",
     "output_type": "stream",
     "text": [
      "131.439453125 71.63720703125\n",
      "131.44677734375 71.607421875\n",
      "131.43505859375 71.63623046875\n",
      "131.4287109375 71.63330078125\n",
      "131.451171875 71.60498046875\n",
      "131.4482421875 71.60595703125\n",
      "131.4443359375 71.63916015625\n",
      "131.4443359375 71.60986328125\n"
     ]
    },
    {
     "name": "stderr",
     "output_type": "stream",
     "text": [
      " 48%|████▊     | 39/81 [00:10<00:03, 10.66it/s]"
     ]
    },
    {
     "name": "stdout",
     "output_type": "stream",
     "text": [
      "131.46728515625 71.25244140625\n"
     ]
    },
    {
     "name": "stderr",
     "output_type": "stream",
     "text": [
      " 85%|████████▌ | 69/81 [00:14<00:01,  6.66it/s]"
     ]
    },
    {
     "name": "stdout",
     "output_type": "stream",
     "text": [
      "131.2646484375 71.39697265625\n"
     ]
    },
    {
     "name": "stderr",
     "output_type": "stream",
     "text": [
      " 96%|█████████▋| 78/81 [00:15<00:00,  5.98it/s]"
     ]
    },
    {
     "name": "stdout",
     "output_type": "stream",
     "text": [
      "131.2646484375 71.39697265625\n"
     ]
    },
    {
     "name": "stderr",
     "output_type": "stream",
     "text": [
      "100%|██████████| 81/81 [00:16<00:00,  4.94it/s]\n"
     ]
    },
    {
     "name": "stdout",
     "output_type": "stream",
     "text": [
      " 4 Define mapping between PRISMA LatLon and gMaps latlon\n",
      " 5 Map PRISMA Latlons to gMaps latlons (ransac affine) and save for reference\n",
      "Band 14 did not work\n",
      "# 1 create .tif file\n",
      "# 2 Download gmaps for the same location\n",
      "Image size (pix):  (1792, 1792)\n",
      "Tile coordinate top left (north-west) corner: 1048,568\n",
      " 3 Determine matched features in PRISMA image to gMaps image with SIFT\n"
     ]
    },
    {
     "name": "stderr",
     "output_type": "stream",
     "text": [
      "  2%|▏         | 2/81 [00:00<00:28,  2.73it/s]"
     ]
    },
    {
     "name": "stdout",
     "output_type": "stream",
     "text": [
      "131.57080078125 71.42626953125\n",
      "131.572265625 71.42724609375\n",
      "131.56689453125 71.41015625\n",
      "131.57568359375 71.3935546875\n",
      "131.56884765625 71.392578125\n",
      "131.5732421875 71.392578125\n"
     ]
    },
    {
     "name": "stderr",
     "output_type": "stream",
     "text": [
      "  4%|▎         | 3/81 [00:01<00:31,  2.47it/s]"
     ]
    },
    {
     "name": "stdout",
     "output_type": "stream",
     "text": [
      "131.5693359375 71.40869140625\n",
      "131.6025390625 71.3955078125\n",
      "131.56689453125 71.41015625\n",
      "131.5810546875 71.46435546875\n",
      "131.57568359375 71.3935546875\n",
      "131.56884765625 71.392578125\n",
      "131.5732421875 71.392578125\n"
     ]
    },
    {
     "name": "stderr",
     "output_type": "stream",
     "text": [
      "  5%|▍         | 4/81 [00:01<00:30,  2.55it/s]"
     ]
    },
    {
     "name": "stdout",
     "output_type": "stream",
     "text": [
      "131.578125 71.50244140625\n",
      "131.59912109375 71.47021484375\n",
      "131.5712890625 71.49951171875\n",
      "131.5810546875 71.46435546875\n"
     ]
    },
    {
     "name": "stderr",
     "output_type": "stream",
     "text": [
      "  6%|▌         | 5/81 [00:01<00:30,  2.50it/s]"
     ]
    },
    {
     "name": "stdout",
     "output_type": "stream",
     "text": [
      "131.5673828125 71.54443359375\n",
      "131.578125 71.50244140625\n",
      "131.57861328125 71.5283203125\n",
      "131.57861328125 71.486328125\n",
      "131.55859375 71.53759765625\n",
      "131.57373046875 71.5009765625\n",
      "131.5712890625 71.49951171875\n",
      "131.517578125 71.51123046875\n",
      "131.57958984375 71.484375\n",
      "131.5380859375 71.50732421875\n",
      "131.57373046875 71.5009765625\n",
      "131.52099609375 71.5458984375\n",
      "131.517578125 71.51123046875\n"
     ]
    },
    {
     "name": "stderr",
     "output_type": "stream",
     "text": [
      "  7%|▋         | 6/81 [00:02<00:34,  2.15it/s]"
     ]
    },
    {
     "name": "stdout",
     "output_type": "stream",
     "text": [
      "131.55859375 71.53759765625\n",
      "131.5419921875 71.58056640625\n",
      "131.54248046875 71.5771484375\n",
      "131.53759765625 71.57958984375\n",
      "131.54541015625 71.58251953125\n",
      "131.568359375 71.580078125\n",
      "131.50830078125 71.54833984375\n",
      "131.517578125 71.51123046875\n",
      "131.53369140625 71.5498046875\n",
      "131.54638671875 71.57275390625\n",
      "131.517578125 71.51123046875\n"
     ]
    },
    {
     "name": "stderr",
     "output_type": "stream",
     "text": [
      "  9%|▊         | 7/81 [00:03<00:43,  1.71it/s]"
     ]
    },
    {
     "name": "stdout",
     "output_type": "stream",
     "text": [
      "131.4970703125 71.60595703125\n",
      "131.54931640625 71.58447265625\n",
      "131.54931640625 71.5615234375\n",
      "131.54248046875 71.5771484375\n",
      "131.568359375 71.619140625\n",
      "131.525390625 71.576171875\n",
      "131.52587890625 71.578125\n",
      "131.51953125 71.58837890625\n",
      "131.5185546875 71.5869140625\n",
      "131.5166015625 71.58984375\n",
      "131.51806640625 71.580078125\n",
      "131.50634765625 71.603515625\n",
      "131.5048828125 71.60205078125\n",
      "131.5068359375 71.595703125\n",
      "131.5107421875 71.58056640625\n",
      "131.50244140625 71.6005859375\n",
      "131.51171875 71.5751953125\n",
      "131.509765625 71.57861328125\n",
      "131.49072265625 71.5888671875\n",
      "131.47412109375 71.59375\n",
      "131.5458984375 71.5810546875\n",
      "131.54345703125 71.57861328125\n",
      "131.513671875 71.5869140625\n",
      "131.4775390625 71.59326171875\n",
      "131.4951171875 71.595703125\n",
      "131.48828125 71.58935546875\n",
      "131.5234375 71.54638671875\n",
      "131.5322265625 71.57666015625\n",
      "131.529296875 71.572265625\n",
      "131.50927734375 71.58984375\n",
      "131.48388671875 71.59033203125\n",
      "131.52001953125 71.6044921875\n",
      "131.541015625 71.58056640625\n",
      "131.51904296875 71.57177734375\n",
      "131.5390625 71.578125\n",
      "131.54443359375 71.5849609375\n",
      "131.529296875 71.572265625\n"
     ]
    },
    {
     "name": "stderr",
     "output_type": "stream",
     "text": [
      " 10%|▉         | 8/81 [00:04<00:46,  1.58it/s]"
     ]
    },
    {
     "name": "stdout",
     "output_type": "stream",
     "text": [
      "131.49462890625 71.61474609375\n",
      "131.51953125 71.58837890625\n",
      "131.5185546875 71.5869140625\n",
      "131.50634765625 71.603515625\n",
      "131.5048828125 71.60205078125\n",
      "131.5107421875 71.58056640625\n",
      "131.50537109375 71.59521484375\n",
      "131.50244140625 71.6005859375\n",
      "131.509765625 71.57861328125\n",
      "131.4951171875 71.60791015625\n",
      "131.49072265625 71.5888671875\n",
      "131.48291015625 71.60888671875\n",
      "131.47509765625 71.599609375\n",
      "131.47412109375 71.59375\n",
      "131.513671875 71.5869140625\n",
      "131.4951171875 71.595703125\n",
      "131.4853515625 71.60693359375\n",
      "131.48828125 71.58935546875\n",
      "131.48828125 71.57275390625\n"
     ]
    },
    {
     "name": "stderr",
     "output_type": "stream",
     "text": [
      " 11%|█         | 9/81 [00:04<00:45,  1.58it/s]"
     ]
    },
    {
     "name": "stdout",
     "output_type": "stream",
     "text": [
      "131.51904296875 71.6728515625\n",
      "131.505859375 71.6796875\n",
      "131.49462890625 71.61474609375\n",
      "131.48779296875 71.65576171875\n",
      "131.48291015625 71.60888671875\n",
      "131.45654296875 71.64404296875\n",
      "131.52392578125 71.6689453125\n",
      "131.51220703125 71.68603515625\n",
      "131.513671875 71.65380859375\n",
      "131.5078125 71.68212890625\n",
      "131.4443359375 71.63916015625\n",
      "131.51904296875 71.6728515625\n",
      "131.513671875 71.65380859375\n"
     ]
    },
    {
     "name": "stderr",
     "output_type": "stream",
     "text": [
      " 12%|█▏        | 10/81 [00:04<00:36,  1.95it/s]"
     ]
    },
    {
     "name": "stdout",
     "output_type": "stream",
     "text": [
      "131.587890625 71.37451171875\n"
     ]
    },
    {
     "name": "stderr",
     "output_type": "stream",
     "text": [
      " 14%|█▎        | 11/81 [00:05<00:32,  2.16it/s]"
     ]
    },
    {
     "name": "stdout",
     "output_type": "stream",
     "text": [
      "131.5693359375 71.40869140625\n",
      "131.56689453125 71.41015625\n",
      "131.5498046875 71.3720703125\n",
      "131.57568359375 71.3935546875\n",
      "131.56884765625 71.392578125\n",
      "131.5732421875 71.392578125\n"
     ]
    },
    {
     "name": "stderr",
     "output_type": "stream",
     "text": [
      " 15%|█▍        | 12/81 [00:05<00:28,  2.39it/s]"
     ]
    },
    {
     "name": "stdout",
     "output_type": "stream",
     "text": [
      "131.5693359375 71.40869140625\n",
      "131.55712890625 71.4267578125\n",
      "131.56689453125 71.41015625\n",
      "131.57568359375 71.3935546875\n",
      "131.56884765625 71.392578125\n",
      "131.5732421875 71.392578125\n"
     ]
    },
    {
     "name": "stderr",
     "output_type": "stream",
     "text": [
      " 16%|█▌        | 13/81 [00:05<00:24,  2.78it/s]"
     ]
    },
    {
     "name": "stdout",
     "output_type": "stream",
     "text": [
      "131.55712890625 71.4267578125\n"
     ]
    },
    {
     "name": "stderr",
     "output_type": "stream",
     "text": [
      " 17%|█▋        | 14/81 [00:06<00:21,  3.16it/s]"
     ]
    },
    {
     "name": "stdout",
     "output_type": "stream",
     "text": [
      "131.517578125 71.51123046875\n",
      "131.517578125 71.51123046875\n"
     ]
    },
    {
     "name": "stderr",
     "output_type": "stream",
     "text": [
      " 19%|█▊        | 15/81 [00:06<00:20,  3.15it/s]"
     ]
    },
    {
     "name": "stdout",
     "output_type": "stream",
     "text": [
      "131.51611328125 71.5712890625\n",
      "131.517578125 71.51123046875\n",
      "131.45556640625 71.5537109375\n",
      "131.517578125 71.51123046875\n"
     ]
    },
    {
     "name": "stderr",
     "output_type": "stream",
     "text": [
      " 20%|█▉        | 16/81 [00:06<00:24,  2.60it/s]"
     ]
    },
    {
     "name": "stdout",
     "output_type": "stream",
     "text": [
      "131.50634765625 71.603515625\n",
      "131.48974609375 71.59619140625\n",
      "131.5048828125 71.60205078125\n",
      "131.5068359375 71.595703125\n",
      "131.5107421875 71.58056640625\n",
      "131.50537109375 71.59521484375\n",
      "131.50244140625 71.6005859375\n",
      "131.51171875 71.5751953125\n",
      "131.509765625 71.57861328125\n",
      "131.49072265625 71.5888671875\n",
      "131.47412109375 71.59375\n",
      "131.4951171875 71.595703125\n",
      "131.48828125 71.58935546875\n",
      "131.48828125 71.57275390625\n",
      "131.5234375 71.54638671875\n",
      "131.4833984375 71.59033203125\n"
     ]
    },
    {
     "name": "stderr",
     "output_type": "stream",
     "text": [
      " 21%|██        | 17/81 [00:07<00:30,  2.13it/s]"
     ]
    },
    {
     "name": "stdout",
     "output_type": "stream",
     "text": [
      "131.50634765625 71.603515625\n",
      "131.5048828125 71.60205078125\n",
      "131.5107421875 71.58056640625\n",
      "131.50537109375 71.59521484375\n",
      "131.50244140625 71.6005859375\n",
      "131.509765625 71.57861328125\n",
      "131.4951171875 71.60791015625\n",
      "131.49072265625 71.5888671875\n",
      "131.48291015625 71.60888671875\n",
      "131.47509765625 71.599609375\n",
      "131.47412109375 71.59375\n",
      "131.44677734375 71.607421875\n",
      "131.49462890625 71.61474609375\n",
      "131.4951171875 71.595703125\n",
      "131.4853515625 71.60693359375\n",
      "131.48828125 71.58935546875\n",
      "131.48828125 71.57275390625\n",
      "131.451171875 71.60498046875\n",
      "131.4482421875 71.60595703125\n",
      "131.48388671875 71.59033203125\n",
      "131.4443359375 71.60986328125\n"
     ]
    },
    {
     "name": "stderr",
     "output_type": "stream",
     "text": [
      " 22%|██▏       | 18/81 [00:08<00:30,  2.07it/s]"
     ]
    },
    {
     "name": "stdout",
     "output_type": "stream",
     "text": [
      "131.48779296875 71.65576171875\n",
      "131.4853515625 71.59326171875\n",
      "131.48291015625 71.60888671875\n",
      "131.4443359375 71.63916015625\n",
      "131.45654296875 71.64404296875\n",
      "131.48779296875 71.59619140625\n",
      "131.439453125 71.63720703125\n",
      "131.44677734375 71.607421875\n",
      "131.43505859375 71.63623046875\n",
      "131.49462890625 71.61474609375\n",
      "131.451171875 71.60498046875\n",
      "131.4482421875 71.60595703125\n",
      "131.48291015625 71.60888671875\n",
      "131.4443359375 71.60986328125\n"
     ]
    },
    {
     "name": "stderr",
     "output_type": "stream",
     "text": [
      " 31%|███       | 25/81 [00:09<00:10,  5.39it/s]"
     ]
    },
    {
     "name": "stdout",
     "output_type": "stream",
     "text": [
      "131.4580078125 71.55078125\n"
     ]
    },
    {
     "name": "stderr",
     "output_type": "stream",
     "text": [
      " 32%|███▏      | 26/81 [00:09<00:12,  4.51it/s]"
     ]
    },
    {
     "name": "stdout",
     "output_type": "stream",
     "text": [
      "131.44677734375 71.607421875\n",
      "131.451171875 71.60498046875\n",
      "131.4482421875 71.60595703125\n",
      "131.4443359375 71.60986328125\n"
     ]
    },
    {
     "name": "stderr",
     "output_type": "stream",
     "text": [
      " 36%|███▌      | 29/81 [00:09<00:08,  5.91it/s]"
     ]
    },
    {
     "name": "stdout",
     "output_type": "stream",
     "text": [
      "131.439453125 71.63720703125\n",
      "131.44677734375 71.607421875\n",
      "131.43505859375 71.63623046875\n",
      "131.4287109375 71.63330078125\n",
      "131.451171875 71.60498046875\n",
      "131.4482421875 71.60595703125\n",
      "131.4443359375 71.63916015625\n",
      "131.4443359375 71.60986328125\n"
     ]
    },
    {
     "name": "stderr",
     "output_type": "stream",
     "text": [
      " 48%|████▊     | 39/81 [00:10<00:03, 11.45it/s]"
     ]
    },
    {
     "name": "stdout",
     "output_type": "stream",
     "text": [
      "131.46728515625 71.25244140625\n"
     ]
    },
    {
     "name": "stderr",
     "output_type": "stream",
     "text": [
      " 85%|████████▌ | 69/81 [00:14<00:01,  6.35it/s]"
     ]
    },
    {
     "name": "stdout",
     "output_type": "stream",
     "text": [
      "131.2646484375 71.39697265625\n"
     ]
    },
    {
     "name": "stderr",
     "output_type": "stream",
     "text": [
      " 96%|█████████▋| 78/81 [00:15<00:00,  6.28it/s]"
     ]
    },
    {
     "name": "stdout",
     "output_type": "stream",
     "text": [
      "131.2646484375 71.39697265625\n"
     ]
    },
    {
     "name": "stderr",
     "output_type": "stream",
     "text": [
      "100%|██████████| 81/81 [00:15<00:00,  5.13it/s]\n"
     ]
    },
    {
     "name": "stdout",
     "output_type": "stream",
     "text": [
      " 4 Define mapping between PRISMA LatLon and gMaps latlon\n",
      " 5 Map PRISMA Latlons to gMaps latlons (ransac affine) and save for reference\n",
      "Band 15 did not work\n",
      "# 1 create .tif file\n",
      "# 2 Download gmaps for the same location\n",
      "Image size (pix):  (1792, 1792)\n",
      "Tile coordinate top left (north-west) corner: 1048,568\n",
      " 3 Determine matched features in PRISMA image to gMaps image with SIFT\n"
     ]
    },
    {
     "name": "stderr",
     "output_type": "stream",
     "text": [
      "100%|██████████| 81/81 [01:11<00:00,  1.14it/s]\n"
     ]
    },
    {
     "name": "stdout",
     "output_type": "stream",
     "text": [
      "Band 16 did not work\n",
      "# 1 create .tif file\n",
      "# 2 Download gmaps for the same location\n",
      "Image size (pix):  (1792, 1792)\n",
      "Tile coordinate top left (north-west) corner: 1048,568\n",
      " 3 Determine matched features in PRISMA image to gMaps image with SIFT\n"
     ]
    },
    {
     "name": "stderr",
     "output_type": "stream",
     "text": [
      "  2%|▏         | 2/81 [00:00<00:30,  2.57it/s]"
     ]
    },
    {
     "name": "stdout",
     "output_type": "stream",
     "text": [
      "131.57080078125 71.42626953125\n",
      "131.572265625 71.42724609375\n",
      "131.56884765625 71.392578125\n",
      "131.56689453125 71.41015625\n",
      "131.57568359375 71.3935546875\n",
      "131.56884765625 71.392578125\n",
      "131.5732421875 71.392578125\n"
     ]
    },
    {
     "name": "stderr",
     "output_type": "stream",
     "text": [
      "  4%|▎         | 3/81 [00:01<00:33,  2.34it/s]"
     ]
    },
    {
     "name": "stdout",
     "output_type": "stream",
     "text": [
      "131.57080078125 71.42626953125\n",
      "131.5693359375 71.40869140625\n",
      "131.56884765625 71.392578125\n",
      "131.6025390625 71.3955078125\n",
      "131.56689453125 71.41015625\n",
      "131.5810546875 71.46435546875\n",
      "131.57568359375 71.3935546875\n",
      "131.56884765625 71.392578125\n",
      "131.5732421875 71.392578125\n"
     ]
    },
    {
     "name": "stderr",
     "output_type": "stream",
     "text": [
      "  5%|▍         | 4/81 [00:01<00:31,  2.45it/s]"
     ]
    },
    {
     "name": "stdout",
     "output_type": "stream",
     "text": [
      "131.59912109375 71.47021484375\n",
      "131.5712890625 71.49951171875\n",
      "131.5810546875 71.46435546875\n"
     ]
    },
    {
     "name": "stderr",
     "output_type": "stream",
     "text": [
      "  6%|▌         | 5/81 [00:02<00:31,  2.45it/s]"
     ]
    },
    {
     "name": "stdout",
     "output_type": "stream",
     "text": [
      "131.5673828125 71.54443359375\n",
      "131.56494140625 71.54345703125\n",
      "131.578125 71.50244140625\n",
      "131.57861328125 71.5283203125\n",
      "131.57861328125 71.486328125\n",
      "131.52197265625 71.5126953125\n",
      "131.55859375 71.53759765625\n",
      "131.5380859375 71.50732421875\n",
      "131.57373046875 71.5009765625\n",
      "131.5712890625 71.49951171875\n",
      "131.57958984375 71.484375\n",
      "131.5380859375 71.50732421875\n",
      "131.517578125 71.51123046875\n",
      "131.57373046875 71.5009765625\n"
     ]
    },
    {
     "name": "stderr",
     "output_type": "stream",
     "text": [
      "  7%|▋         | 6/81 [00:02<00:35,  2.13it/s]"
     ]
    },
    {
     "name": "stdout",
     "output_type": "stream",
     "text": [
      "131.55859375 71.53759765625\n",
      "131.5419921875 71.58056640625\n",
      "131.54248046875 71.5771484375\n",
      "131.53759765625 71.57958984375\n",
      "131.54541015625 71.58251953125\n",
      "131.5380859375 71.50732421875\n",
      "131.568359375 71.580078125\n",
      "131.50830078125 71.54833984375\n",
      "131.53369140625 71.5498046875\n",
      "131.5380859375 71.50732421875\n",
      "131.517578125 71.51123046875\n",
      "131.54638671875 71.57275390625\n"
     ]
    },
    {
     "name": "stderr",
     "output_type": "stream",
     "text": [
      "  9%|▊         | 7/81 [00:03<00:43,  1.72it/s]"
     ]
    },
    {
     "name": "stdout",
     "output_type": "stream",
     "text": [
      "131.54931640625 71.58447265625\n",
      "131.54931640625 71.5615234375\n",
      "131.54248046875 71.5771484375\n",
      "131.525390625 71.576171875\n",
      "131.52587890625 71.578125\n",
      "131.51953125 71.58837890625\n",
      "131.5185546875 71.5869140625\n",
      "131.5166015625 71.58984375\n",
      "131.51806640625 71.580078125\n",
      "131.50634765625 71.603515625\n",
      "131.5048828125 71.60205078125\n",
      "131.5068359375 71.595703125\n",
      "131.5107421875 71.58056640625\n",
      "131.50244140625 71.6005859375\n",
      "131.51171875 71.5751953125\n",
      "131.509765625 71.57861328125\n",
      "131.5166015625 71.5458984375\n",
      "131.49072265625 71.5888671875\n",
      "131.47412109375 71.59375\n",
      "131.5458984375 71.5810546875\n",
      "131.54345703125 71.57861328125\n",
      "131.513671875 71.5869140625\n",
      "131.4775390625 71.59326171875\n",
      "131.4951171875 71.595703125\n",
      "131.48828125 71.58935546875\n",
      "131.5234375 71.54638671875\n",
      "131.5322265625 71.57666015625\n",
      "131.529296875 71.572265625\n",
      "131.50927734375 71.58984375\n",
      "131.48876953125 71.59375\n",
      "131.48388671875 71.59033203125\n",
      "131.52001953125 71.6044921875\n",
      "131.541015625 71.58056640625\n",
      "131.5390625 71.578125\n",
      "131.54443359375 71.5849609375\n",
      "131.529296875 71.572265625\n"
     ]
    },
    {
     "name": "stderr",
     "output_type": "stream",
     "text": [
      " 10%|▉         | 8/81 [00:04<00:46,  1.57it/s]"
     ]
    },
    {
     "name": "stdout",
     "output_type": "stream",
     "text": [
      "131.49462890625 71.61474609375\n",
      "131.51953125 71.58837890625\n",
      "131.5185546875 71.5869140625\n",
      "131.50634765625 71.603515625\n",
      "131.5048828125 71.60205078125\n",
      "131.5107421875 71.58056640625\n",
      "131.50537109375 71.59521484375\n",
      "131.50244140625 71.6005859375\n",
      "131.509765625 71.57861328125\n",
      "131.4951171875 71.60791015625\n",
      "131.49072265625 71.5888671875\n",
      "131.48291015625 71.60888671875\n",
      "131.47509765625 71.599609375\n",
      "131.47412109375 71.59375\n",
      "131.513671875 71.5869140625\n",
      "131.4951171875 71.595703125\n",
      "131.4853515625 71.60693359375\n",
      "131.48828125 71.58935546875\n",
      "131.48828125 71.57275390625\n"
     ]
    },
    {
     "name": "stderr",
     "output_type": "stream",
     "text": [
      " 11%|█         | 9/81 [00:04<00:44,  1.61it/s]"
     ]
    },
    {
     "name": "stdout",
     "output_type": "stream",
     "text": [
      "131.51904296875 71.6728515625\n",
      "131.505859375 71.6796875\n",
      "131.49462890625 71.61474609375\n",
      "131.48291015625 71.60888671875\n",
      "131.45654296875 71.64404296875\n",
      "131.52392578125 71.6689453125\n",
      "131.51220703125 71.68603515625\n",
      "131.513671875 71.65380859375\n",
      "131.52783203125 71.6796875\n",
      "131.5078125 71.68212890625\n",
      "131.4443359375 71.63916015625\n",
      "131.51904296875 71.6728515625\n"
     ]
    },
    {
     "name": "stderr",
     "output_type": "stream",
     "text": [
      " 12%|█▏        | 10/81 [00:04<00:35,  1.98it/s]"
     ]
    },
    {
     "name": "stdout",
     "output_type": "stream",
     "text": [
      "131.587890625 71.37451171875\n"
     ]
    },
    {
     "name": "stderr",
     "output_type": "stream",
     "text": [
      " 14%|█▎        | 11/81 [00:05<00:32,  2.18it/s]"
     ]
    },
    {
     "name": "stdout",
     "output_type": "stream",
     "text": [
      "131.5693359375 71.40869140625\n",
      "131.56884765625 71.392578125\n",
      "131.56689453125 71.41015625\n",
      "131.5498046875 71.3720703125\n",
      "131.57568359375 71.3935546875\n",
      "131.56884765625 71.392578125\n",
      "131.5732421875 71.392578125\n"
     ]
    },
    {
     "name": "stderr",
     "output_type": "stream",
     "text": [
      " 15%|█▍        | 12/81 [00:05<00:28,  2.41it/s]"
     ]
    },
    {
     "name": "stdout",
     "output_type": "stream",
     "text": [
      "131.5693359375 71.40869140625\n",
      "131.56884765625 71.392578125\n",
      "131.55712890625 71.4267578125\n",
      "131.56689453125 71.41015625\n",
      "131.57568359375 71.3935546875\n",
      "131.56884765625 71.392578125\n",
      "131.5732421875 71.392578125\n"
     ]
    },
    {
     "name": "stderr",
     "output_type": "stream",
     "text": [
      " 16%|█▌        | 13/81 [00:05<00:24,  2.77it/s]"
     ]
    },
    {
     "name": "stdout",
     "output_type": "stream",
     "text": [
      "131.55712890625 71.4267578125\n"
     ]
    },
    {
     "name": "stderr",
     "output_type": "stream",
     "text": [
      " 17%|█▋        | 14/81 [00:06<00:21,  3.12it/s]"
     ]
    },
    {
     "name": "stdout",
     "output_type": "stream",
     "text": [
      "131.5380859375 71.50732421875\n",
      "131.5380859375 71.50732421875\n",
      "131.517578125 71.51123046875\n"
     ]
    },
    {
     "name": "stderr",
     "output_type": "stream",
     "text": [
      " 19%|█▊        | 15/81 [00:06<00:21,  3.04it/s]"
     ]
    },
    {
     "name": "stdout",
     "output_type": "stream",
     "text": [
      "131.51611328125 71.5712890625\n",
      "131.5380859375 71.50732421875\n",
      "131.5166015625 71.5458984375\n",
      "131.45556640625 71.5537109375\n",
      "131.5380859375 71.50732421875\n",
      "131.517578125 71.51123046875\n"
     ]
    },
    {
     "name": "stderr",
     "output_type": "stream",
     "text": [
      " 20%|█▉        | 16/81 [00:07<00:26,  2.41it/s]"
     ]
    },
    {
     "name": "stdout",
     "output_type": "stream",
     "text": [
      "131.50634765625 71.603515625\n",
      "131.48974609375 71.59619140625\n",
      "131.5048828125 71.60205078125\n",
      "131.5068359375 71.595703125\n",
      "131.5107421875 71.58056640625\n",
      "131.50537109375 71.59521484375\n",
      "131.50244140625 71.6005859375\n",
      "131.51171875 71.5751953125\n",
      "131.509765625 71.57861328125\n",
      "131.5166015625 71.5458984375\n",
      "131.49072265625 71.5888671875\n",
      "131.47412109375 71.59375\n",
      "131.4560546875 71.55126953125\n",
      "131.4951171875 71.595703125\n",
      "131.48828125 71.58935546875\n",
      "131.48828125 71.57275390625\n",
      "131.5234375 71.54638671875\n",
      "131.4833984375 71.59033203125\n"
     ]
    },
    {
     "name": "stderr",
     "output_type": "stream",
     "text": [
      " 21%|██        | 17/81 [00:07<00:31,  2.04it/s]"
     ]
    },
    {
     "name": "stdout",
     "output_type": "stream",
     "text": [
      "131.50634765625 71.603515625\n",
      "131.5048828125 71.60205078125\n",
      "131.5107421875 71.58056640625\n",
      "131.50537109375 71.59521484375\n",
      "131.50244140625 71.6005859375\n",
      "131.509765625 71.57861328125\n",
      "131.4951171875 71.60791015625\n",
      "131.49072265625 71.5888671875\n",
      "131.48291015625 71.60888671875\n",
      "131.47509765625 71.599609375\n",
      "131.47412109375 71.59375\n",
      "131.44677734375 71.607421875\n",
      "131.49462890625 71.61474609375\n",
      "131.4951171875 71.595703125\n",
      "131.4853515625 71.60693359375\n",
      "131.48828125 71.58935546875\n",
      "131.48828125 71.57275390625\n",
      "131.451171875 71.60498046875\n",
      "131.4482421875 71.60595703125\n",
      "131.4443359375 71.60986328125\n",
      "131.48388671875 71.59033203125\n",
      "131.48291015625 71.60888671875\n"
     ]
    },
    {
     "name": "stderr",
     "output_type": "stream",
     "text": [
      " 22%|██▏       | 18/81 [00:08<00:31,  2.01it/s]"
     ]
    },
    {
     "name": "stdout",
     "output_type": "stream",
     "text": [
      "131.4853515625 71.59326171875\n",
      "131.48291015625 71.60888671875\n",
      "131.4443359375 71.63916015625\n",
      "131.45654296875 71.64404296875\n",
      "131.48779296875 71.59619140625\n",
      "131.439453125 71.63720703125\n",
      "131.44677734375 71.607421875\n",
      "131.43505859375 71.63623046875\n",
      "131.49462890625 71.61474609375\n",
      "131.451171875 71.60498046875\n",
      "131.4482421875 71.60595703125\n",
      "131.4443359375 71.60986328125\n",
      "131.48291015625 71.60888671875\n"
     ]
    },
    {
     "name": "stderr",
     "output_type": "stream",
     "text": [
      " 31%|███       | 25/81 [00:09<00:10,  5.23it/s]"
     ]
    },
    {
     "name": "stdout",
     "output_type": "stream",
     "text": [
      "131.4580078125 71.55078125\n",
      "131.4560546875 71.55126953125\n"
     ]
    },
    {
     "name": "stderr",
     "output_type": "stream",
     "text": [
      " 32%|███▏      | 26/81 [00:09<00:12,  4.46it/s]"
     ]
    },
    {
     "name": "stdout",
     "output_type": "stream",
     "text": [
      "131.44677734375 71.607421875\n",
      "131.451171875 71.60498046875\n",
      "131.4482421875 71.60595703125\n",
      "131.4443359375 71.60986328125\n"
     ]
    },
    {
     "name": "stderr",
     "output_type": "stream",
     "text": [
      " 36%|███▌      | 29/81 [00:10<00:08,  5.81it/s]"
     ]
    },
    {
     "name": "stdout",
     "output_type": "stream",
     "text": [
      "131.439453125 71.63720703125\n",
      "131.44677734375 71.607421875\n",
      "131.43505859375 71.63623046875\n",
      "131.4287109375 71.63330078125\n",
      "131.451171875 71.60498046875\n",
      "131.4482421875 71.60595703125\n",
      "131.4443359375 71.60986328125\n",
      "131.4443359375 71.63916015625\n"
     ]
    },
    {
     "name": "stderr",
     "output_type": "stream",
     "text": [
      " 43%|████▎     | 35/81 [00:10<00:05,  8.38it/s]"
     ]
    },
    {
     "name": "stdout",
     "output_type": "stream",
     "text": [
      "131.45361328125 71.55224609375\n"
     ]
    },
    {
     "name": "stderr",
     "output_type": "stream",
     "text": [
      " 48%|████▊     | 39/81 [00:10<00:04,  9.92it/s]"
     ]
    },
    {
     "name": "stdout",
     "output_type": "stream",
     "text": [
      "131.46728515625 71.25244140625\n"
     ]
    },
    {
     "name": "stderr",
     "output_type": "stream",
     "text": [
      " 85%|████████▌ | 69/81 [00:13<00:01,  7.01it/s]"
     ]
    },
    {
     "name": "stdout",
     "output_type": "stream",
     "text": [
      "131.2646484375 71.39697265625\n"
     ]
    },
    {
     "name": "stderr",
     "output_type": "stream",
     "text": [
      " 96%|█████████▋| 78/81 [00:15<00:00,  5.98it/s]"
     ]
    },
    {
     "name": "stdout",
     "output_type": "stream",
     "text": [
      "131.2646484375 71.39697265625\n"
     ]
    },
    {
     "name": "stderr",
     "output_type": "stream",
     "text": [
      "100%|██████████| 81/81 [00:15<00:00,  5.11it/s]\n"
     ]
    },
    {
     "name": "stdout",
     "output_type": "stream",
     "text": [
      " 4 Define mapping between PRISMA LatLon and gMaps latlon\n",
      " 5 Map PRISMA Latlons to gMaps latlons (ransac affine) and save for reference\n",
      "Band 17 did not work\n",
      "# 1 create .tif file\n",
      "# 2 Download gmaps for the same location\n",
      "Image size (pix):  (1792, 1792)\n",
      "Tile coordinate top left (north-west) corner: 1048,568\n",
      " 3 Determine matched features in PRISMA image to gMaps image with SIFT\n"
     ]
    },
    {
     "name": "stderr",
     "output_type": "stream",
     "text": [
      "100%|██████████| 81/81 [01:11<00:00,  1.13it/s]\n"
     ]
    },
    {
     "name": "stdout",
     "output_type": "stream",
     "text": [
      "Band 18 did not work\n",
      "# 1 create .tif file\n",
      "# 2 Download gmaps for the same location\n",
      "Image size (pix):  (1792, 1792)\n",
      "Tile coordinate top left (north-west) corner: 1048,568\n",
      " 3 Determine matched features in PRISMA image to gMaps image with SIFT\n"
     ]
    },
    {
     "name": "stderr",
     "output_type": "stream",
     "text": [
      "  2%|▏         | 2/81 [00:00<00:34,  2.29it/s]"
     ]
    },
    {
     "name": "stdout",
     "output_type": "stream",
     "text": [
      "131.57080078125 71.42626953125\n",
      "131.572265625 71.42724609375\n",
      "131.56884765625 71.392578125\n",
      "131.56689453125 71.41015625\n",
      "131.57568359375 71.3935546875\n",
      "131.56884765625 71.392578125\n",
      "131.5732421875 71.392578125\n"
     ]
    },
    {
     "name": "stderr",
     "output_type": "stream",
     "text": [
      "  4%|▎         | 3/81 [00:01<00:36,  2.11it/s]"
     ]
    },
    {
     "name": "stdout",
     "output_type": "stream",
     "text": [
      "131.5693359375 71.40869140625\n",
      "131.56884765625 71.392578125\n",
      "131.6025390625 71.3955078125\n",
      "131.56689453125 71.41015625\n",
      "131.5546875 71.412109375\n",
      "131.5810546875 71.46435546875\n",
      "131.57568359375 71.3935546875\n",
      "131.56884765625 71.392578125\n",
      "131.5732421875 71.392578125\n"
     ]
    },
    {
     "name": "stderr",
     "output_type": "stream",
     "text": [
      "  5%|▍         | 4/81 [00:01<00:34,  2.25it/s]"
     ]
    },
    {
     "name": "stdout",
     "output_type": "stream",
     "text": [
      "131.578125 71.50244140625\n",
      "131.59912109375 71.47021484375\n",
      "131.57861328125 71.486328125\n",
      "131.5712890625 71.49951171875\n",
      "131.5810546875 71.46435546875\n"
     ]
    },
    {
     "name": "stderr",
     "output_type": "stream",
     "text": [
      "  6%|▌         | 5/81 [00:02<00:32,  2.31it/s]"
     ]
    },
    {
     "name": "stdout",
     "output_type": "stream",
     "text": [
      "131.5673828125 71.54443359375\n",
      "131.56494140625 71.54345703125\n",
      "131.578125 71.50244140625\n",
      "131.57861328125 71.5283203125\n",
      "131.57861328125 71.486328125\n",
      "131.55859375 71.53759765625\n",
      "131.5380859375 71.50732421875\n",
      "131.57373046875 71.5009765625\n",
      "131.5712890625 71.49951171875\n",
      "131.57958984375 71.484375\n",
      "131.5380859375 71.50732421875\n",
      "131.517578125 71.51123046875\n",
      "131.57373046875 71.5009765625\n"
     ]
    },
    {
     "name": "stderr",
     "output_type": "stream",
     "text": [
      "  7%|▋         | 6/81 [00:02<00:38,  1.93it/s]"
     ]
    },
    {
     "name": "stdout",
     "output_type": "stream",
     "text": [
      "131.55859375 71.53759765625\n",
      "131.5419921875 71.58056640625\n",
      "131.54931640625 71.5615234375\n",
      "131.54248046875 71.5771484375\n",
      "131.53759765625 71.57958984375\n",
      "131.54541015625 71.58251953125\n",
      "131.5380859375 71.50732421875\n",
      "131.568359375 71.580078125\n",
      "131.50830078125 71.54833984375\n",
      "131.53369140625 71.5498046875\n",
      "131.56103515625 71.5712890625\n",
      "131.5380859375 71.50732421875\n",
      "131.517578125 71.51123046875\n",
      "131.54638671875 71.57275390625\n"
     ]
    },
    {
     "name": "stderr",
     "output_type": "stream",
     "text": [
      "  9%|▊         | 7/81 [00:03<00:48,  1.51it/s]"
     ]
    },
    {
     "name": "stdout",
     "output_type": "stream",
     "text": [
      "131.4970703125 71.60595703125\n",
      "131.54931640625 71.58447265625\n",
      "131.5419921875 71.58056640625\n",
      "131.54931640625 71.5615234375\n",
      "131.54248046875 71.5771484375\n",
      "131.525390625 71.576171875\n",
      "131.52587890625 71.578125\n",
      "131.51953125 71.58837890625\n",
      "131.5185546875 71.5869140625\n",
      "131.5166015625 71.58984375\n",
      "131.51806640625 71.580078125\n",
      "131.50634765625 71.603515625\n",
      "131.5048828125 71.60205078125\n",
      "131.5068359375 71.595703125\n",
      "131.5107421875 71.58056640625\n",
      "131.50244140625 71.6005859375\n",
      "131.51171875 71.5751953125\n",
      "131.509765625 71.57861328125\n",
      "131.5166015625 71.5458984375\n",
      "131.49072265625 71.5888671875\n",
      "131.47412109375 71.59375\n",
      "131.5458984375 71.5810546875\n",
      "131.54345703125 71.57861328125\n",
      "131.513671875 71.5869140625\n",
      "131.4775390625 71.59326171875\n",
      "131.4951171875 71.595703125\n",
      "131.48828125 71.58935546875\n",
      "131.5234375 71.54638671875\n",
      "131.5322265625 71.57666015625\n",
      "131.529296875 71.572265625\n",
      "131.50927734375 71.58984375\n",
      "131.48876953125 71.59375\n",
      "131.48388671875 71.59033203125\n",
      "131.56103515625 71.5712890625\n",
      "131.541015625 71.58056640625\n",
      "131.51904296875 71.57177734375\n",
      "131.5390625 71.578125\n",
      "131.54443359375 71.5849609375\n",
      "131.529296875 71.572265625\n"
     ]
    },
    {
     "name": "stderr",
     "output_type": "stream",
     "text": [
      " 10%|▉         | 8/81 [00:04<00:53,  1.36it/s]"
     ]
    },
    {
     "name": "stdout",
     "output_type": "stream",
     "text": [
      "131.49462890625 71.61474609375\n",
      "131.51953125 71.58837890625\n",
      "131.5185546875 71.5869140625\n",
      "131.50634765625 71.603515625\n",
      "131.5048828125 71.60205078125\n",
      "131.5107421875 71.58056640625\n",
      "131.50537109375 71.59521484375\n",
      "131.50244140625 71.6005859375\n",
      "131.51171875 71.5751953125\n",
      "131.509765625 71.57861328125\n",
      "131.4951171875 71.60791015625\n",
      "131.49072265625 71.5888671875\n",
      "131.47509765625 71.599609375\n",
      "131.47412109375 71.59375\n",
      "131.513671875 71.5869140625\n",
      "131.4951171875 71.595703125\n",
      "131.4853515625 71.60693359375\n",
      "131.48828125 71.58935546875\n",
      "131.48828125 71.57275390625\n",
      "131.5361328125 71.654296875\n",
      "131.48291015625 71.60888671875\n"
     ]
    },
    {
     "name": "stderr",
     "output_type": "stream",
     "text": [
      " 11%|█         | 9/81 [00:05<00:52,  1.36it/s]"
     ]
    },
    {
     "name": "stdout",
     "output_type": "stream",
     "text": [
      "131.51904296875 71.6728515625\n",
      "131.505859375 71.6796875\n",
      "131.49462890625 71.61474609375\n",
      "131.4443359375 71.63916015625\n",
      "131.45654296875 71.64404296875\n",
      "131.52392578125 71.6689453125\n",
      "131.51220703125 71.68603515625\n",
      "131.513671875 71.65380859375\n",
      "131.52783203125 71.6796875\n",
      "131.5361328125 71.654296875\n",
      "131.5078125 71.68212890625\n",
      "131.51904296875 71.6728515625\n",
      "131.513671875 71.65380859375\n",
      "131.48291015625 71.60888671875\n"
     ]
    },
    {
     "name": "stderr",
     "output_type": "stream",
     "text": [
      " 12%|█▏        | 10/81 [00:05<00:42,  1.68it/s]"
     ]
    },
    {
     "name": "stdout",
     "output_type": "stream",
     "text": [
      "131.587890625 71.37451171875\n"
     ]
    },
    {
     "name": "stderr",
     "output_type": "stream",
     "text": [
      " 14%|█▎        | 11/81 [00:06<00:36,  1.91it/s]"
     ]
    },
    {
     "name": "stdout",
     "output_type": "stream",
     "text": [
      "131.5693359375 71.40869140625\n",
      "131.56884765625 71.392578125\n",
      "131.56689453125 71.41015625\n",
      "131.5498046875 71.3720703125\n",
      "131.57568359375 71.3935546875\n",
      "131.56884765625 71.392578125\n",
      "131.5732421875 71.392578125\n"
     ]
    },
    {
     "name": "stderr",
     "output_type": "stream",
     "text": [
      " 15%|█▍        | 12/81 [00:06<00:32,  2.14it/s]"
     ]
    },
    {
     "name": "stdout",
     "output_type": "stream",
     "text": [
      "131.5693359375 71.40869140625\n",
      "131.56884765625 71.392578125\n",
      "131.55712890625 71.4267578125\n",
      "131.56689453125 71.41015625\n",
      "131.5546875 71.412109375\n",
      "131.57568359375 71.3935546875\n",
      "131.56884765625 71.392578125\n",
      "131.5732421875 71.392578125\n"
     ]
    },
    {
     "name": "stderr",
     "output_type": "stream",
     "text": [
      " 16%|█▌        | 13/81 [00:06<00:29,  2.34it/s]"
     ]
    },
    {
     "name": "stdout",
     "output_type": "stream",
     "text": [
      "131.55712890625 71.4267578125\n"
     ]
    },
    {
     "name": "stderr",
     "output_type": "stream",
     "text": [
      " 17%|█▋        | 14/81 [00:07<00:27,  2.48it/s]"
     ]
    },
    {
     "name": "stdout",
     "output_type": "stream",
     "text": [
      "131.5380859375 71.50732421875\n",
      "131.5380859375 71.50732421875\n",
      "131.517578125 71.51123046875\n"
     ]
    },
    {
     "name": "stderr",
     "output_type": "stream",
     "text": [
      " 19%|█▊        | 15/81 [00:07<00:28,  2.32it/s]"
     ]
    },
    {
     "name": "stdout",
     "output_type": "stream",
     "text": [
      "131.51611328125 71.5712890625\n",
      "131.5380859375 71.50732421875\n",
      "131.5166015625 71.5458984375\n",
      "131.45556640625 71.5537109375\n",
      "131.5380859375 71.50732421875\n",
      "131.517578125 71.51123046875\n"
     ]
    },
    {
     "name": "stderr",
     "output_type": "stream",
     "text": [
      " 20%|█▉        | 16/81 [00:08<00:31,  2.06it/s]"
     ]
    },
    {
     "name": "stdout",
     "output_type": "stream",
     "text": [
      "131.50634765625 71.603515625\n",
      "131.48974609375 71.59619140625\n",
      "131.5048828125 71.60205078125\n",
      "131.5068359375 71.595703125\n",
      "131.5107421875 71.58056640625\n",
      "131.50537109375 71.59521484375\n",
      "131.50244140625 71.6005859375\n",
      "131.51171875 71.5751953125\n",
      "131.509765625 71.57861328125\n",
      "131.5166015625 71.5458984375\n",
      "131.49072265625 71.5888671875\n",
      "131.47412109375 71.59375\n",
      "131.4951171875 71.595703125\n",
      "131.48828125 71.58935546875\n",
      "131.48828125 71.57275390625\n",
      "131.5234375 71.54638671875\n",
      "131.48876953125 71.59375\n",
      "131.4833984375 71.59033203125\n"
     ]
    },
    {
     "name": "stderr",
     "output_type": "stream",
     "text": [
      " 21%|██        | 17/81 [00:08<00:35,  1.79it/s]"
     ]
    },
    {
     "name": "stdout",
     "output_type": "stream",
     "text": [
      "131.50634765625 71.603515625\n",
      "131.5048828125 71.60205078125\n",
      "131.5107421875 71.58056640625\n",
      "131.50537109375 71.59521484375\n",
      "131.50244140625 71.6005859375\n",
      "131.51171875 71.5751953125\n",
      "131.509765625 71.57861328125\n",
      "131.4951171875 71.60791015625\n",
      "131.49072265625 71.5888671875\n",
      "131.47509765625 71.599609375\n",
      "131.47412109375 71.59375\n",
      "131.44677734375 71.607421875\n",
      "131.49462890625 71.61474609375\n",
      "131.4951171875 71.595703125\n",
      "131.4853515625 71.60693359375\n",
      "131.48828125 71.58935546875\n",
      "131.48828125 71.57275390625\n",
      "131.4482421875 71.60595703125\n",
      "131.4443359375 71.60986328125\n",
      "131.48388671875 71.59033203125\n",
      "131.48291015625 71.60888671875\n",
      "131.48291015625 71.60888671875\n"
     ]
    },
    {
     "name": "stderr",
     "output_type": "stream",
     "text": [
      " 22%|██▏       | 18/81 [00:09<00:35,  1.78it/s]"
     ]
    },
    {
     "name": "stdout",
     "output_type": "stream",
     "text": [
      "131.4853515625 71.59326171875\n",
      "131.4443359375 71.63916015625\n",
      "131.45654296875 71.64404296875\n",
      "131.48779296875 71.59619140625\n",
      "131.44677734375 71.607421875\n",
      "131.43505859375 71.63623046875\n",
      "131.49462890625 71.61474609375\n",
      "131.451171875 71.60498046875\n",
      "131.4482421875 71.60595703125\n",
      "131.4443359375 71.60986328125\n",
      "131.48291015625 71.60888671875\n",
      "131.48291015625 71.60888671875\n"
     ]
    },
    {
     "name": "stderr",
     "output_type": "stream",
     "text": [
      " 31%|███       | 25/81 [00:10<00:11,  5.02it/s]"
     ]
    },
    {
     "name": "stdout",
     "output_type": "stream",
     "text": [
      "131.4580078125 71.55078125\n",
      "131.4560546875 71.55126953125\n"
     ]
    },
    {
     "name": "stderr",
     "output_type": "stream",
     "text": [
      " 32%|███▏      | 26/81 [00:10<00:12,  4.36it/s]"
     ]
    },
    {
     "name": "stdout",
     "output_type": "stream",
     "text": [
      "131.44677734375 71.607421875\n",
      "131.451171875 71.60498046875\n",
      "131.4482421875 71.60595703125\n",
      "131.4443359375 71.60986328125\n"
     ]
    },
    {
     "name": "stderr",
     "output_type": "stream",
     "text": [
      " 35%|███▍      | 28/81 [00:11<00:11,  4.61it/s]"
     ]
    },
    {
     "name": "stdout",
     "output_type": "stream",
     "text": [
      "131.44677734375 71.607421875\n",
      "131.43505859375 71.63623046875\n",
      "131.4287109375 71.63330078125\n",
      "131.451171875 71.60498046875\n",
      "131.4482421875 71.60595703125\n",
      "131.4443359375 71.60986328125\n",
      "131.4443359375 71.63916015625\n"
     ]
    },
    {
     "name": "stderr",
     "output_type": "stream",
     "text": [
      " 44%|████▍     | 36/81 [00:11<00:05,  8.96it/s]"
     ]
    },
    {
     "name": "stdout",
     "output_type": "stream",
     "text": [
      "131.45361328125 71.55224609375\n"
     ]
    },
    {
     "name": "stderr",
     "output_type": "stream",
     "text": [
      " 49%|████▉     | 40/81 [00:12<00:03, 10.36it/s]"
     ]
    },
    {
     "name": "stdout",
     "output_type": "stream",
     "text": [
      "131.46728515625 71.25244140625\n"
     ]
    },
    {
     "name": "stderr",
     "output_type": "stream",
     "text": [
      " 84%|████████▍ | 68/81 [00:14<00:01,  8.46it/s]"
     ]
    },
    {
     "name": "stdout",
     "output_type": "stream",
     "text": [
      "131.2646484375 71.39697265625\n"
     ]
    },
    {
     "name": "stderr",
     "output_type": "stream",
     "text": [
      " 96%|█████████▋| 78/81 [00:16<00:00,  6.84it/s]"
     ]
    },
    {
     "name": "stdout",
     "output_type": "stream",
     "text": [
      "131.2646484375 71.39697265625\n"
     ]
    },
    {
     "name": "stderr",
     "output_type": "stream",
     "text": [
      "100%|██████████| 81/81 [00:16<00:00,  4.83it/s]\n"
     ]
    },
    {
     "name": "stdout",
     "output_type": "stream",
     "text": [
      " 4 Define mapping between PRISMA LatLon and gMaps latlon\n",
      " 5 Map PRISMA Latlons to gMaps latlons (ransac affine) and save for reference\n",
      "Band 19 did not work\n",
      "# 1 create .tif file\n",
      "# 2 Download gmaps for the same location\n",
      "Image size (pix):  (1792, 1792)\n",
      "Tile coordinate top left (north-west) corner: 1048,568\n",
      " 3 Determine matched features in PRISMA image to gMaps image with SIFT\n"
     ]
    },
    {
     "name": "stderr",
     "output_type": "stream",
     "text": [
      "100%|██████████| 81/81 [01:11<00:00,  1.13it/s]\n"
     ]
    },
    {
     "name": "stdout",
     "output_type": "stream",
     "text": [
      "Band 20 did not work\n",
      "# 1 create .tif file\n",
      "# 2 Download gmaps for the same location\n",
      "Image size (pix):  (1792, 1792)\n",
      "Tile coordinate top left (north-west) corner: 1048,568\n",
      " 3 Determine matched features in PRISMA image to gMaps image with SIFT\n"
     ]
    },
    {
     "name": "stderr",
     "output_type": "stream",
     "text": [
      "100%|██████████| 81/81 [01:12<00:00,  1.12it/s]\n"
     ]
    },
    {
     "name": "stdout",
     "output_type": "stream",
     "text": [
      "Band 21 did not work\n",
      "# 1 create .tif file\n",
      "# 2 Download gmaps for the same location\n",
      "Image size (pix):  (1792, 1792)\n",
      "Tile coordinate top left (north-west) corner: 1048,568\n",
      " 3 Determine matched features in PRISMA image to gMaps image with SIFT\n"
     ]
    },
    {
     "name": "stderr",
     "output_type": "stream",
     "text": [
      "  2%|▏         | 2/81 [00:00<00:30,  2.62it/s]"
     ]
    },
    {
     "name": "stdout",
     "output_type": "stream",
     "text": [
      "131.5986328125 71.400390625\n",
      "131.57080078125 71.42626953125\n",
      "131.572265625 71.42724609375\n",
      "131.56884765625 71.392578125\n",
      "131.56689453125 71.41015625\n",
      "131.57568359375 71.3935546875\n",
      "131.56884765625 71.392578125\n",
      "131.5732421875 71.392578125\n"
     ]
    },
    {
     "name": "stderr",
     "output_type": "stream",
     "text": [
      "  4%|▎         | 3/81 [00:01<00:32,  2.39it/s]"
     ]
    },
    {
     "name": "stdout",
     "output_type": "stream",
     "text": [
      "131.5986328125 71.400390625\n",
      "131.56884765625 71.392578125\n",
      "131.6025390625 71.3955078125\n",
      "131.57080078125 71.42626953125\n",
      "131.56689453125 71.41015625\n",
      "131.5546875 71.412109375\n",
      "131.5810546875 71.46435546875\n",
      "131.57568359375 71.3935546875\n",
      "131.56884765625 71.392578125\n",
      "131.5732421875 71.392578125\n"
     ]
    },
    {
     "name": "stderr",
     "output_type": "stream",
     "text": [
      "  5%|▍         | 4/81 [00:01<00:30,  2.49it/s]"
     ]
    },
    {
     "name": "stdout",
     "output_type": "stream",
     "text": [
      "131.578125 71.50244140625\n",
      "131.59912109375 71.47021484375\n",
      "131.57861328125 71.486328125\n",
      "131.5712890625 71.49951171875\n",
      "131.5810546875 71.46435546875\n"
     ]
    },
    {
     "name": "stderr",
     "output_type": "stream",
     "text": [
      "  6%|▌         | 5/81 [00:01<00:30,  2.46it/s]"
     ]
    },
    {
     "name": "stdout",
     "output_type": "stream",
     "text": [
      "131.5673828125 71.54443359375\n",
      "131.56494140625 71.54345703125\n",
      "131.578125 71.50244140625\n",
      "131.57861328125 71.486328125\n",
      "131.55859375 71.53759765625\n",
      "131.5380859375 71.50732421875\n",
      "131.57373046875 71.5009765625\n",
      "131.5712890625 71.49951171875\n",
      "131.57958984375 71.484375\n",
      "131.55615234375 71.5361328125\n",
      "131.5380859375 71.50732421875\n",
      "131.517578125 71.51123046875\n",
      "131.57373046875 71.5009765625\n"
     ]
    },
    {
     "name": "stderr",
     "output_type": "stream",
     "text": [
      "  7%|▋         | 6/81 [00:02<00:35,  2.14it/s]"
     ]
    },
    {
     "name": "stdout",
     "output_type": "stream",
     "text": [
      "131.55859375 71.53759765625\n",
      "131.5419921875 71.58056640625\n",
      "131.54931640625 71.5615234375\n",
      "131.54248046875 71.5771484375\n",
      "131.53759765625 71.57958984375\n",
      "131.54541015625 71.58251953125\n",
      "131.5380859375 71.50732421875\n",
      "131.568359375 71.580078125\n",
      "131.50830078125 71.54833984375\n",
      "131.53369140625 71.5498046875\n",
      "131.55615234375 71.5361328125\n",
      "131.5380859375 71.50732421875\n",
      "131.517578125 71.51123046875\n",
      "131.54638671875 71.57275390625\n"
     ]
    },
    {
     "name": "stderr",
     "output_type": "stream",
     "text": [
      "  9%|▊         | 7/81 [00:03<00:42,  1.72it/s]"
     ]
    },
    {
     "name": "stdout",
     "output_type": "stream",
     "text": [
      "131.54931640625 71.58447265625\n",
      "131.5419921875 71.58056640625\n",
      "131.54931640625 71.5615234375\n",
      "131.54248046875 71.5771484375\n",
      "131.525390625 71.576171875\n",
      "131.52587890625 71.578125\n",
      "131.51953125 71.58837890625\n",
      "131.5185546875 71.5869140625\n",
      "131.5166015625 71.58984375\n",
      "131.51806640625 71.580078125\n",
      "131.50634765625 71.603515625\n",
      "131.5048828125 71.60205078125\n",
      "131.5068359375 71.595703125\n",
      "131.5107421875 71.58056640625\n",
      "131.50244140625 71.6005859375\n",
      "131.51171875 71.5751953125\n",
      "131.509765625 71.57861328125\n",
      "131.5166015625 71.5458984375\n",
      "131.49072265625 71.5888671875\n",
      "131.48779296875 71.59619140625\n",
      "131.47412109375 71.59375\n",
      "131.5458984375 71.5810546875\n",
      "131.54345703125 71.57861328125\n",
      "131.5390625 71.578125\n",
      "131.513671875 71.5869140625\n",
      "131.4775390625 71.59326171875\n",
      "131.50146484375 71.5947265625\n",
      "131.4951171875 71.595703125\n",
      "131.5234375 71.54638671875\n",
      "131.5322265625 71.57666015625\n",
      "131.529296875 71.572265625\n",
      "131.50927734375 71.58984375\n",
      "131.48876953125 71.59375\n",
      "131.48388671875 71.59033203125\n",
      "131.52001953125 71.6044921875\n",
      "131.541015625 71.58056640625\n",
      "131.51904296875 71.57177734375\n",
      "131.54443359375 71.5849609375\n",
      "131.529296875 71.572265625\n"
     ]
    },
    {
     "name": "stderr",
     "output_type": "stream",
     "text": [
      " 10%|▉         | 8/81 [00:04<00:45,  1.59it/s]"
     ]
    },
    {
     "name": "stdout",
     "output_type": "stream",
     "text": [
      "131.49462890625 71.61474609375\n",
      "131.51953125 71.58837890625\n",
      "131.5185546875 71.5869140625\n",
      "131.50634765625 71.603515625\n",
      "131.5048828125 71.60205078125\n",
      "131.5107421875 71.58056640625\n",
      "131.50537109375 71.59521484375\n",
      "131.50244140625 71.6005859375\n",
      "131.51171875 71.5751953125\n",
      "131.509765625 71.57861328125\n",
      "131.49072265625 71.5888671875\n",
      "131.48779296875 71.59619140625\n",
      "131.47509765625 71.599609375\n",
      "131.47412109375 71.59375\n",
      "131.513671875 71.5869140625\n",
      "131.4951171875 71.595703125\n",
      "131.4853515625 71.60693359375\n",
      "131.48828125 71.57275390625\n",
      "131.50927734375 71.58984375\n",
      "131.48291015625 71.60888671875\n"
     ]
    },
    {
     "name": "stderr",
     "output_type": "stream",
     "text": [
      " 11%|█         | 9/81 [00:04<00:44,  1.63it/s]"
     ]
    },
    {
     "name": "stdout",
     "output_type": "stream",
     "text": [
      "131.51904296875 71.6728515625\n",
      "131.505859375 71.6796875\n",
      "131.49462890625 71.61474609375\n",
      "131.48779296875 71.65576171875\n",
      "131.4443359375 71.63916015625\n",
      "131.45654296875 71.64404296875\n",
      "131.52392578125 71.6689453125\n",
      "131.51220703125 71.68603515625\n",
      "131.513671875 71.65380859375\n",
      "131.52783203125 71.6796875\n",
      "131.5361328125 71.654296875\n",
      "131.5078125 71.68212890625\n",
      "131.51904296875 71.6728515625\n",
      "131.513671875 71.65380859375\n",
      "131.48291015625 71.60888671875\n"
     ]
    },
    {
     "name": "stderr",
     "output_type": "stream",
     "text": [
      " 12%|█▏        | 10/81 [00:04<00:35,  2.01it/s]"
     ]
    },
    {
     "name": "stdout",
     "output_type": "stream",
     "text": [
      "131.587890625 71.37451171875\n"
     ]
    },
    {
     "name": "stderr",
     "output_type": "stream",
     "text": [
      " 14%|█▎        | 11/81 [00:05<00:31,  2.25it/s]"
     ]
    },
    {
     "name": "stdout",
     "output_type": "stream",
     "text": [
      "131.56884765625 71.392578125\n",
      "131.56689453125 71.41015625\n",
      "131.5498046875 71.3720703125\n",
      "131.57568359375 71.3935546875\n",
      "131.56884765625 71.392578125\n",
      "131.5732421875 71.392578125\n"
     ]
    },
    {
     "name": "stderr",
     "output_type": "stream",
     "text": [
      " 15%|█▍        | 12/81 [00:05<00:27,  2.47it/s]"
     ]
    },
    {
     "name": "stdout",
     "output_type": "stream",
     "text": [
      "131.56884765625 71.392578125\n",
      "131.55712890625 71.4267578125\n",
      "131.56689453125 71.41015625\n",
      "131.5546875 71.412109375\n",
      "131.57568359375 71.3935546875\n",
      "131.56884765625 71.392578125\n",
      "131.5732421875 71.392578125\n"
     ]
    },
    {
     "name": "stderr",
     "output_type": "stream",
     "text": [
      " 16%|█▌        | 13/81 [00:05<00:24,  2.82it/s]"
     ]
    },
    {
     "name": "stdout",
     "output_type": "stream",
     "text": [
      "131.55712890625 71.4267578125\n",
      "131.54638671875 71.416015625\n",
      "131.5380859375 71.50732421875\n",
      "131.5380859375 71.50732421875\n"
     ]
    },
    {
     "name": "stderr",
     "output_type": "stream",
     "text": [
      " 17%|█▋        | 14/81 [00:06<00:20,  3.19it/s]"
     ]
    },
    {
     "name": "stdout",
     "output_type": "stream",
     "text": [
      "131.517578125 71.51123046875\n"
     ]
    },
    {
     "name": "stderr",
     "output_type": "stream",
     "text": [
      " 19%|█▊        | 15/81 [00:06<00:20,  3.17it/s]"
     ]
    },
    {
     "name": "stdout",
     "output_type": "stream",
     "text": [
      "131.51611328125 71.5712890625\n",
      "131.5380859375 71.50732421875\n",
      "131.5166015625 71.5458984375\n",
      "131.45556640625 71.5537109375\n",
      "131.5380859375 71.50732421875\n"
     ]
    },
    {
     "name": "stderr",
     "output_type": "stream",
     "text": [
      " 20%|█▉        | 16/81 [00:06<00:25,  2.55it/s]"
     ]
    },
    {
     "name": "stdout",
     "output_type": "stream",
     "text": [
      "131.50634765625 71.603515625\n",
      "131.48974609375 71.59619140625\n",
      "131.5048828125 71.60205078125\n",
      "131.5068359375 71.595703125\n",
      "131.5107421875 71.58056640625\n",
      "131.50537109375 71.59521484375\n",
      "131.50244140625 71.6005859375\n",
      "131.51171875 71.5751953125\n",
      "131.509765625 71.57861328125\n",
      "131.5166015625 71.5458984375\n",
      "131.49072265625 71.5888671875\n",
      "131.48779296875 71.59619140625\n",
      "131.47412109375 71.59375\n",
      "131.4951171875 71.595703125\n",
      "131.48828125 71.57275390625\n",
      "131.5234375 71.54638671875\n",
      "131.48876953125 71.59375\n",
      "131.4833984375 71.59033203125\n"
     ]
    },
    {
     "name": "stderr",
     "output_type": "stream",
     "text": [
      " 21%|██        | 17/81 [00:07<00:30,  2.12it/s]"
     ]
    },
    {
     "name": "stdout",
     "output_type": "stream",
     "text": [
      "131.50634765625 71.603515625\n",
      "131.5048828125 71.60205078125\n",
      "131.5107421875 71.58056640625\n",
      "131.50537109375 71.59521484375\n",
      "131.50244140625 71.6005859375\n",
      "131.51171875 71.5751953125\n",
      "131.509765625 71.57861328125\n",
      "131.49072265625 71.5888671875\n",
      "131.48779296875 71.59619140625\n",
      "131.47509765625 71.599609375\n",
      "131.47412109375 71.59375\n",
      "131.44677734375 71.607421875\n",
      "131.49462890625 71.61474609375\n",
      "131.4951171875 71.595703125\n",
      "131.4853515625 71.60693359375\n",
      "131.48828125 71.57275390625\n",
      "131.4482421875 71.60595703125\n",
      "131.4443359375 71.60986328125\n",
      "131.48388671875 71.59033203125\n",
      "131.48291015625 71.60888671875\n",
      "131.48291015625 71.60888671875\n"
     ]
    },
    {
     "name": "stderr",
     "output_type": "stream",
     "text": [
      " 22%|██▏       | 18/81 [00:08<00:30,  2.07it/s]"
     ]
    },
    {
     "name": "stdout",
     "output_type": "stream",
     "text": [
      "131.48779296875 71.65576171875\n",
      "131.4853515625 71.59326171875\n",
      "131.4443359375 71.63916015625\n",
      "131.45654296875 71.64404296875\n",
      "131.48779296875 71.59619140625\n",
      "131.44677734375 71.607421875\n",
      "131.43505859375 71.63623046875\n",
      "131.49462890625 71.61474609375\n",
      "131.451171875 71.60498046875\n",
      "131.4482421875 71.60595703125\n",
      "131.4443359375 71.60986328125\n",
      "131.48291015625 71.60888671875\n",
      "131.48291015625 71.60888671875\n"
     ]
    },
    {
     "name": "stderr",
     "output_type": "stream",
     "text": [
      " 30%|██▉       | 24/81 [00:08<00:09,  5.73it/s]"
     ]
    },
    {
     "name": "stdout",
     "output_type": "stream",
     "text": [
      "131.45361328125 71.55224609375\n"
     ]
    },
    {
     "name": "stderr",
     "output_type": "stream",
     "text": [
      " 31%|███       | 25/81 [00:09<00:10,  5.38it/s]"
     ]
    },
    {
     "name": "stdout",
     "output_type": "stream",
     "text": [
      "131.4580078125 71.55078125\n"
     ]
    },
    {
     "name": "stderr",
     "output_type": "stream",
     "text": [
      " 32%|███▏      | 26/81 [00:09<00:12,  4.54it/s]"
     ]
    },
    {
     "name": "stdout",
     "output_type": "stream",
     "text": [
      "131.44677734375 71.607421875\n",
      "131.451171875 71.60498046875\n",
      "131.44580078125 71.6123046875\n",
      "131.4482421875 71.60595703125\n",
      "131.4443359375 71.60986328125\n"
     ]
    },
    {
     "name": "stderr",
     "output_type": "stream",
     "text": [
      " 36%|███▌      | 29/81 [00:09<00:08,  5.95it/s]"
     ]
    },
    {
     "name": "stdout",
     "output_type": "stream",
     "text": [
      "131.44677734375 71.607421875\n",
      "131.43505859375 71.63623046875\n",
      "131.4287109375 71.63330078125\n",
      "131.451171875 71.60498046875\n",
      "131.44580078125 71.6123046875\n",
      "131.4482421875 71.60595703125\n",
      "131.4443359375 71.60986328125\n",
      "131.4443359375 71.63916015625\n"
     ]
    },
    {
     "name": "stderr",
     "output_type": "stream",
     "text": [
      " 43%|████▎     | 35/81 [00:10<00:05,  8.67it/s]"
     ]
    },
    {
     "name": "stdout",
     "output_type": "stream",
     "text": [
      "131.45361328125 71.55224609375\n"
     ]
    },
    {
     "name": "stderr",
     "output_type": "stream",
     "text": [
      " 48%|████▊     | 39/81 [00:10<00:04, 10.19it/s]"
     ]
    },
    {
     "name": "stdout",
     "output_type": "stream",
     "text": [
      "131.46728515625 71.25244140625\n"
     ]
    },
    {
     "name": "stderr",
     "output_type": "stream",
     "text": [
      " 85%|████████▌ | 69/81 [00:13<00:01,  8.02it/s]"
     ]
    },
    {
     "name": "stdout",
     "output_type": "stream",
     "text": [
      "131.2646484375 71.39697265625\n"
     ]
    },
    {
     "name": "stderr",
     "output_type": "stream",
     "text": [
      " 96%|█████████▋| 78/81 [00:14<00:00,  7.00it/s]"
     ]
    },
    {
     "name": "stdout",
     "output_type": "stream",
     "text": [
      "131.2646484375 71.39697265625\n"
     ]
    },
    {
     "name": "stderr",
     "output_type": "stream",
     "text": [
      "100%|██████████| 81/81 [00:15<00:00,  5.29it/s]\n"
     ]
    },
    {
     "name": "stdout",
     "output_type": "stream",
     "text": [
      " 4 Define mapping between PRISMA LatLon and gMaps latlon\n",
      " 5 Map PRISMA Latlons to gMaps latlons (ransac affine) and save for reference\n",
      "Band 22 did not work\n",
      "# 1 create .tif file\n",
      "# 2 Download gmaps for the same location\n",
      "Image size (pix):  (1792, 1792)\n",
      "Tile coordinate top left (north-west) corner: 1048,568\n",
      " 3 Determine matched features in PRISMA image to gMaps image with SIFT\n"
     ]
    },
    {
     "name": "stderr",
     "output_type": "stream",
     "text": [
      "  1%|          | 1/81 [00:00<00:21,  3.78it/s]"
     ]
    },
    {
     "name": "stdout",
     "output_type": "stream",
     "text": [
      "131.62841796875 71.3818359375\n"
     ]
    },
    {
     "name": "stderr",
     "output_type": "stream",
     "text": [
      "  2%|▏         | 2/81 [00:00<00:29,  2.72it/s]"
     ]
    },
    {
     "name": "stdout",
     "output_type": "stream",
     "text": [
      "131.57080078125 71.42626953125\n",
      "131.572265625 71.42724609375\n",
      "131.57568359375 71.3935546875\n",
      "131.56884765625 71.392578125\n",
      "131.56689453125 71.41015625\n",
      "131.56884765625 71.392578125\n",
      "131.5732421875 71.392578125\n"
     ]
    },
    {
     "name": "stderr",
     "output_type": "stream",
     "text": [
      "  4%|▎         | 3/81 [00:01<00:31,  2.50it/s]"
     ]
    },
    {
     "name": "stdout",
     "output_type": "stream",
     "text": [
      "131.57568359375 71.3935546875\n",
      "131.56884765625 71.392578125\n",
      "131.6025390625 71.3955078125\n",
      "131.57080078125 71.42626953125\n",
      "131.56689453125 71.41015625\n",
      "131.56884765625 71.392578125\n",
      "131.5732421875 71.392578125\n"
     ]
    },
    {
     "name": "stderr",
     "output_type": "stream",
     "text": [
      "  5%|▍         | 4/81 [00:01<00:29,  2.62it/s]"
     ]
    },
    {
     "name": "stdout",
     "output_type": "stream",
     "text": [
      "131.578125 71.50244140625\n",
      "131.59912109375 71.47021484375\n",
      "131.57861328125 71.486328125\n",
      "131.5712890625 71.49951171875\n"
     ]
    },
    {
     "name": "stderr",
     "output_type": "stream",
     "text": [
      "  6%|▌         | 5/81 [00:01<00:29,  2.56it/s]"
     ]
    },
    {
     "name": "stdout",
     "output_type": "stream",
     "text": [
      "131.5673828125 71.54443359375\n",
      "131.578125 71.50244140625\n",
      "131.57861328125 71.5283203125\n",
      "131.57861328125 71.486328125\n",
      "131.55859375 71.53759765625\n",
      "131.5380859375 71.50732421875\n",
      "131.57373046875 71.5009765625\n",
      "131.5712890625 71.49951171875\n",
      "131.57958984375 71.484375\n",
      "131.55615234375 71.5361328125\n",
      "131.5380859375 71.50732421875\n",
      "131.517578125 71.51123046875\n",
      "131.57373046875 71.5009765625\n"
     ]
    },
    {
     "name": "stderr",
     "output_type": "stream",
     "text": [
      "  7%|▋         | 6/81 [00:02<00:34,  2.18it/s]"
     ]
    },
    {
     "name": "stdout",
     "output_type": "stream",
     "text": [
      "131.55859375 71.53759765625\n",
      "131.5419921875 71.58056640625\n",
      "131.54931640625 71.5615234375\n",
      "131.54248046875 71.5771484375\n",
      "131.53759765625 71.57958984375\n",
      "131.529296875 71.57421875\n",
      "131.54541015625 71.58251953125\n",
      "131.5380859375 71.50732421875\n",
      "131.568359375 71.580078125\n",
      "131.50830078125 71.54833984375\n",
      "131.53369140625 71.5498046875\n",
      "131.56103515625 71.5712890625\n",
      "131.55615234375 71.5361328125\n",
      "131.5380859375 71.50732421875\n",
      "131.54638671875 71.57275390625\n"
     ]
    },
    {
     "name": "stderr",
     "output_type": "stream",
     "text": [
      "  9%|▊         | 7/81 [00:03<00:43,  1.72it/s]"
     ]
    },
    {
     "name": "stdout",
     "output_type": "stream",
     "text": [
      "131.54931640625 71.58447265625\n",
      "131.54931640625 71.5615234375\n",
      "131.54248046875 71.5771484375\n",
      "131.529296875 71.57421875\n",
      "131.525390625 71.576171875\n",
      "131.52587890625 71.578125\n",
      "131.51953125 71.58837890625\n",
      "131.5185546875 71.5869140625\n",
      "131.5166015625 71.58984375\n",
      "131.51806640625 71.580078125\n",
      "131.50634765625 71.603515625\n",
      "131.5048828125 71.60205078125\n",
      "131.5068359375 71.595703125\n",
      "131.5107421875 71.58056640625\n",
      "131.50244140625 71.6005859375\n",
      "131.51171875 71.5751953125\n",
      "131.509765625 71.57861328125\n",
      "131.5166015625 71.5458984375\n",
      "131.49072265625 71.5888671875\n",
      "131.48779296875 71.59619140625\n",
      "131.47412109375 71.59375\n",
      "131.5458984375 71.5810546875\n",
      "131.54345703125 71.57861328125\n",
      "131.5390625 71.578125\n",
      "131.513671875 71.5869140625\n",
      "131.4775390625 71.59326171875\n",
      "131.4951171875 71.595703125\n",
      "131.48828125 71.58935546875\n",
      "131.48779296875 71.56982421875\n",
      "131.5234375 71.54638671875\n",
      "131.5322265625 71.57666015625\n",
      "131.529296875 71.572265625\n",
      "131.50927734375 71.58984375\n",
      "131.48876953125 71.59375\n",
      "131.48388671875 71.59033203125\n",
      "131.56103515625 71.5712890625\n",
      "131.54443359375 71.5849609375\n",
      "131.529296875 71.572265625\n"
     ]
    },
    {
     "name": "stderr",
     "output_type": "stream",
     "text": [
      " 10%|▉         | 8/81 [00:04<00:47,  1.55it/s]"
     ]
    },
    {
     "name": "stdout",
     "output_type": "stream",
     "text": [
      "131.49462890625 71.61474609375\n",
      "131.51953125 71.58837890625\n",
      "131.5185546875 71.5869140625\n",
      "131.50634765625 71.603515625\n",
      "131.5048828125 71.60205078125\n",
      "131.5107421875 71.58056640625\n",
      "131.50537109375 71.59521484375\n",
      "131.50244140625 71.6005859375\n",
      "131.51171875 71.5751953125\n",
      "131.509765625 71.57861328125\n",
      "131.494140625 71.61669921875\n",
      "131.4951171875 71.60791015625\n",
      "131.49072265625 71.5888671875\n",
      "131.48779296875 71.59619140625\n",
      "131.47509765625 71.599609375\n",
      "131.47412109375 71.59375\n",
      "131.513671875 71.5869140625\n",
      "131.4951171875 71.595703125\n",
      "131.4853515625 71.60693359375\n",
      "131.48828125 71.58935546875\n",
      "131.48828125 71.57275390625\n",
      "131.50927734375 71.58984375\n",
      "131.48291015625 71.60888671875\n",
      "131.48291015625 71.60888671875\n"
     ]
    },
    {
     "name": "stderr",
     "output_type": "stream",
     "text": [
      " 11%|█         | 9/81 [00:04<00:44,  1.61it/s]"
     ]
    },
    {
     "name": "stdout",
     "output_type": "stream",
     "text": [
      "131.5361328125 71.654296875\n",
      "131.51904296875 71.6728515625\n",
      "131.505859375 71.6796875\n",
      "131.49462890625 71.61474609375\n",
      "131.48779296875 71.65576171875\n",
      "131.494140625 71.61669921875\n",
      "131.45654296875 71.64404296875\n",
      "131.52392578125 71.6689453125\n",
      "131.51220703125 71.68603515625\n",
      "131.513671875 71.65380859375\n",
      "131.52783203125 71.6796875\n",
      "131.5078125 71.68212890625\n",
      "131.4443359375 71.63916015625\n",
      "131.51904296875 71.6728515625\n",
      "131.48291015625 71.60888671875\n"
     ]
    },
    {
     "name": "stderr",
     "output_type": "stream",
     "text": [
      " 14%|█▎        | 11/81 [00:05<00:31,  2.23it/s]"
     ]
    },
    {
     "name": "stdout",
     "output_type": "stream",
     "text": [
      "131.57568359375 71.3935546875\n",
      "131.5693359375 71.40869140625\n",
      "131.56884765625 71.392578125\n",
      "131.56689453125 71.41015625\n",
      "131.5498046875 71.3720703125\n",
      "131.56884765625 71.392578125\n",
      "131.5732421875 71.392578125\n"
     ]
    },
    {
     "name": "stderr",
     "output_type": "stream",
     "text": [
      " 15%|█▍        | 12/81 [00:05<00:27,  2.50it/s]"
     ]
    },
    {
     "name": "stdout",
     "output_type": "stream",
     "text": [
      "131.57568359375 71.3935546875\n",
      "131.5693359375 71.40869140625\n",
      "131.56884765625 71.392578125\n",
      "131.55712890625 71.4267578125\n",
      "131.56689453125 71.41015625\n",
      "131.56884765625 71.392578125\n",
      "131.5732421875 71.392578125\n"
     ]
    },
    {
     "name": "stderr",
     "output_type": "stream",
     "text": [
      " 17%|█▋        | 14/81 [00:05<00:20,  3.26it/s]"
     ]
    },
    {
     "name": "stdout",
     "output_type": "stream",
     "text": [
      "131.55712890625 71.4267578125\n",
      "131.5380859375 71.50732421875\n",
      "131.5380859375 71.50732421875\n",
      "131.517578125 71.51123046875\n"
     ]
    },
    {
     "name": "stderr",
     "output_type": "stream",
     "text": [
      " 19%|█▊        | 15/81 [00:06<00:20,  3.25it/s]"
     ]
    },
    {
     "name": "stdout",
     "output_type": "stream",
     "text": [
      "131.51611328125 71.5712890625\n",
      "131.5380859375 71.50732421875\n",
      "131.5166015625 71.5458984375\n",
      "131.45556640625 71.5537109375\n",
      "131.5380859375 71.50732421875\n"
     ]
    },
    {
     "name": "stderr",
     "output_type": "stream",
     "text": [
      " 20%|█▉        | 16/81 [00:06<00:25,  2.59it/s]"
     ]
    },
    {
     "name": "stdout",
     "output_type": "stream",
     "text": [
      "131.50634765625 71.603515625\n",
      "131.48974609375 71.59619140625\n",
      "131.5048828125 71.60205078125\n",
      "131.5068359375 71.595703125\n",
      "131.5107421875 71.58056640625\n",
      "131.50537109375 71.59521484375\n",
      "131.50244140625 71.6005859375\n",
      "131.51171875 71.5751953125\n",
      "131.509765625 71.57861328125\n",
      "131.5166015625 71.5458984375\n",
      "131.49072265625 71.5888671875\n",
      "131.48779296875 71.59619140625\n",
      "131.47412109375 71.59375\n",
      "131.4951171875 71.595703125\n",
      "131.48828125 71.58935546875\n",
      "131.48828125 71.57275390625\n",
      "131.48779296875 71.56982421875\n",
      "131.5234375 71.54638671875\n",
      "131.48876953125 71.59375\n",
      "131.4833984375 71.59033203125\n"
     ]
    },
    {
     "name": "stderr",
     "output_type": "stream",
     "text": [
      " 21%|██        | 17/81 [00:07<00:30,  2.07it/s]"
     ]
    },
    {
     "name": "stdout",
     "output_type": "stream",
     "text": [
      "131.50634765625 71.603515625\n",
      "131.5048828125 71.60205078125\n",
      "131.5107421875 71.58056640625\n",
      "131.50537109375 71.59521484375\n",
      "131.50244140625 71.6005859375\n",
      "131.51171875 71.5751953125\n",
      "131.509765625 71.57861328125\n",
      "131.494140625 71.61669921875\n",
      "131.4951171875 71.60791015625\n",
      "131.49072265625 71.5888671875\n",
      "131.48779296875 71.59619140625\n",
      "131.47509765625 71.599609375\n",
      "131.47412109375 71.59375\n",
      "131.44677734375 71.607421875\n",
      "131.49462890625 71.61474609375\n",
      "131.4951171875 71.595703125\n",
      "131.4853515625 71.60693359375\n",
      "131.48828125 71.58935546875\n",
      "131.48828125 71.57275390625\n",
      "131.4482421875 71.60595703125\n",
      "131.4443359375 71.60986328125\n",
      "131.48388671875 71.59033203125\n",
      "131.48291015625 71.60888671875\n",
      "131.48291015625 71.60888671875\n"
     ]
    },
    {
     "name": "stderr",
     "output_type": "stream",
     "text": [
      " 22%|██▏       | 18/81 [00:08<00:31,  2.02it/s]"
     ]
    },
    {
     "name": "stdout",
     "output_type": "stream",
     "text": [
      "131.48779296875 71.65576171875\n",
      "131.4853515625 71.59326171875\n",
      "131.494140625 71.61669921875\n",
      "131.4443359375 71.63916015625\n",
      "131.45654296875 71.64404296875\n",
      "131.48779296875 71.59619140625\n",
      "131.44677734375 71.607421875\n",
      "131.43505859375 71.63623046875\n",
      "131.49462890625 71.61474609375\n",
      "131.451171875 71.60498046875\n",
      "131.4482421875 71.60595703125\n",
      "131.4443359375 71.60986328125\n",
      "131.48291015625 71.60888671875\n",
      "131.48291015625 71.60888671875\n"
     ]
    },
    {
     "name": "stderr",
     "output_type": "stream",
     "text": [
      " 30%|██▉       | 24/81 [00:08<00:10,  5.69it/s]"
     ]
    },
    {
     "name": "stdout",
     "output_type": "stream",
     "text": [
      "131.45361328125 71.55224609375\n"
     ]
    },
    {
     "name": "stderr",
     "output_type": "stream",
     "text": [
      " 32%|███▏      | 26/81 [00:09<00:12,  4.52it/s]"
     ]
    },
    {
     "name": "stdout",
     "output_type": "stream",
     "text": [
      "131.44677734375 71.607421875\n",
      "131.451171875 71.60498046875\n",
      "131.4482421875 71.60595703125\n",
      "131.4443359375 71.60986328125\n"
     ]
    },
    {
     "name": "stderr",
     "output_type": "stream",
     "text": [
      " 36%|███▌      | 29/81 [00:09<00:08,  5.98it/s]"
     ]
    },
    {
     "name": "stdout",
     "output_type": "stream",
     "text": [
      "131.44677734375 71.607421875\n",
      "131.43505859375 71.63623046875\n",
      "131.4287109375 71.63330078125\n",
      "131.451171875 71.60498046875\n",
      "131.4482421875 71.60595703125\n",
      "131.4443359375 71.60986328125\n",
      "131.458984375 71.60498046875\n",
      "131.4443359375 71.63916015625\n"
     ]
    },
    {
     "name": "stderr",
     "output_type": "stream",
     "text": [
      " 43%|████▎     | 35/81 [00:10<00:05,  8.80it/s]"
     ]
    },
    {
     "name": "stdout",
     "output_type": "stream",
     "text": [
      "131.45361328125 71.55224609375\n"
     ]
    },
    {
     "name": "stderr",
     "output_type": "stream",
     "text": [
      " 51%|█████     | 41/81 [00:10<00:03, 12.24it/s]"
     ]
    },
    {
     "name": "stdout",
     "output_type": "stream",
     "text": [
      "131.46728515625 71.25244140625\n"
     ]
    },
    {
     "name": "stderr",
     "output_type": "stream",
     "text": [
      " 85%|████████▌ | 69/81 [00:13<00:01,  8.76it/s]"
     ]
    },
    {
     "name": "stdout",
     "output_type": "stream",
     "text": [
      "131.2646484375 71.39697265625\n"
     ]
    },
    {
     "name": "stderr",
     "output_type": "stream",
     "text": [
      " 96%|█████████▋| 78/81 [00:14<00:00,  7.20it/s]"
     ]
    },
    {
     "name": "stdout",
     "output_type": "stream",
     "text": [
      "131.2646484375 71.39697265625\n"
     ]
    },
    {
     "name": "stderr",
     "output_type": "stream",
     "text": [
      "100%|██████████| 81/81 [00:15<00:00,  5.40it/s]\n"
     ]
    },
    {
     "name": "stdout",
     "output_type": "stream",
     "text": [
      " 4 Define mapping between PRISMA LatLon and gMaps latlon\n",
      " 5 Map PRISMA Latlons to gMaps latlons (ransac affine) and save for reference\n",
      "Band 23 did not work\n",
      "# 1 create .tif file\n",
      "# 2 Download gmaps for the same location\n",
      "Image size (pix):  (1792, 1792)\n",
      "Tile coordinate top left (north-west) corner: 1048,568\n",
      " 3 Determine matched features in PRISMA image to gMaps image with SIFT\n"
     ]
    },
    {
     "name": "stderr",
     "output_type": "stream",
     "text": [
      "  2%|▏         | 2/81 [00:00<00:30,  2.62it/s]"
     ]
    },
    {
     "name": "stdout",
     "output_type": "stream",
     "text": [
      "131.5986328125 71.400390625\n",
      "131.57080078125 71.42626953125\n",
      "131.572265625 71.42724609375\n",
      "131.56884765625 71.392578125\n",
      "131.56689453125 71.41015625\n",
      "131.57568359375 71.3935546875\n",
      "131.56884765625 71.392578125\n",
      "131.5732421875 71.392578125\n"
     ]
    },
    {
     "name": "stderr",
     "output_type": "stream",
     "text": [
      "  4%|▎         | 3/81 [00:01<00:33,  2.34it/s]"
     ]
    },
    {
     "name": "stdout",
     "output_type": "stream",
     "text": [
      "131.5986328125 71.400390625\n",
      "131.57080078125 71.42626953125\n",
      "131.56884765625 71.392578125\n",
      "131.6025390625 71.3955078125\n",
      "131.56689453125 71.41015625\n",
      "131.5546875 71.412109375\n",
      "131.5810546875 71.46435546875\n",
      "131.57568359375 71.3935546875\n",
      "131.56884765625 71.392578125\n",
      "131.5732421875 71.392578125\n"
     ]
    },
    {
     "name": "stderr",
     "output_type": "stream",
     "text": [
      "  5%|▍         | 4/81 [00:01<00:31,  2.43it/s]"
     ]
    },
    {
     "name": "stdout",
     "output_type": "stream",
     "text": [
      "131.578125 71.50244140625\n",
      "131.59912109375 71.47021484375\n",
      "131.57861328125 71.486328125\n",
      "131.5712890625 71.49951171875\n",
      "131.5810546875 71.46435546875\n"
     ]
    },
    {
     "name": "stderr",
     "output_type": "stream",
     "text": [
      "  6%|▌         | 5/81 [00:02<00:31,  2.39it/s]"
     ]
    },
    {
     "name": "stdout",
     "output_type": "stream",
     "text": [
      "131.5673828125 71.54443359375\n",
      "131.56494140625 71.54345703125\n",
      "131.5712890625 71.5234375\n",
      "131.578125 71.50244140625\n",
      "131.57861328125 71.486328125\n",
      "131.55859375 71.53759765625\n",
      "131.5380859375 71.50732421875\n",
      "131.57373046875 71.5009765625\n",
      "131.5712890625 71.49951171875\n",
      "131.57958984375 71.484375\n",
      "131.55615234375 71.5361328125\n",
      "131.5380859375 71.50732421875\n",
      "131.517578125 71.51123046875\n",
      "131.57373046875 71.5009765625\n"
     ]
    },
    {
     "name": "stderr",
     "output_type": "stream",
     "text": [
      "  7%|▋         | 6/81 [00:02<00:35,  2.10it/s]"
     ]
    },
    {
     "name": "stdout",
     "output_type": "stream",
     "text": [
      "131.5712890625 71.5234375\n",
      "131.55859375 71.53759765625\n",
      "131.5419921875 71.58056640625\n",
      "131.54931640625 71.5615234375\n",
      "131.54248046875 71.5771484375\n",
      "131.53759765625 71.57958984375\n",
      "131.54541015625 71.58251953125\n",
      "131.5380859375 71.50732421875\n",
      "131.50537109375 71.55322265625\n",
      "131.5390625 71.578125\n",
      "131.50830078125 71.54833984375\n",
      "131.53369140625 71.5498046875\n",
      "131.55615234375 71.5361328125\n",
      "131.5380859375 71.50732421875\n",
      "131.54638671875 71.57275390625\n"
     ]
    },
    {
     "name": "stderr",
     "output_type": "stream",
     "text": [
      "  9%|▊         | 7/81 [00:03<00:45,  1.61it/s]"
     ]
    },
    {
     "name": "stdout",
     "output_type": "stream",
     "text": [
      "131.54931640625 71.58447265625\n",
      "131.5419921875 71.58056640625\n",
      "131.54931640625 71.5615234375\n",
      "131.54248046875 71.5771484375\n",
      "131.525390625 71.576171875\n",
      "131.52587890625 71.578125\n",
      "131.51953125 71.58837890625\n",
      "131.54541015625 71.58251953125\n",
      "131.5185546875 71.5869140625\n",
      "131.5166015625 71.58984375\n",
      "131.51806640625 71.580078125\n",
      "131.50634765625 71.603515625\n",
      "131.5048828125 71.60205078125\n",
      "131.5068359375 71.595703125\n",
      "131.5107421875 71.58056640625\n",
      "131.50244140625 71.6005859375\n",
      "131.51171875 71.5751953125\n",
      "131.509765625 71.57861328125\n",
      "131.5166015625 71.5458984375\n",
      "131.50537109375 71.55322265625\n",
      "131.49072265625 71.5888671875\n",
      "131.47412109375 71.59375\n",
      "131.5458984375 71.5810546875\n",
      "131.54345703125 71.57861328125\n",
      "131.5390625 71.578125\n",
      "131.513671875 71.5869140625\n",
      "131.4775390625 71.59326171875\n",
      "131.50146484375 71.5947265625\n",
      "131.4951171875 71.595703125\n",
      "131.48779296875 71.56982421875\n",
      "131.5234375 71.54638671875\n",
      "131.5322265625 71.57666015625\n",
      "131.529296875 71.572265625\n",
      "131.50927734375 71.58984375\n",
      "131.48876953125 71.59375\n",
      "131.48388671875 71.59033203125\n",
      "131.541015625 71.58056640625\n",
      "131.51904296875 71.57177734375\n",
      "131.54443359375 71.5849609375\n",
      "131.529296875 71.572265625\n"
     ]
    },
    {
     "name": "stderr",
     "output_type": "stream",
     "text": [
      " 10%|▉         | 8/81 [00:04<00:48,  1.52it/s]"
     ]
    },
    {
     "name": "stdout",
     "output_type": "stream",
     "text": [
      "131.51953125 71.58837890625\n",
      "131.5185546875 71.5869140625\n",
      "131.50634765625 71.603515625\n",
      "131.5048828125 71.60205078125\n",
      "131.5107421875 71.58056640625\n",
      "131.50244140625 71.6005859375\n",
      "131.51171875 71.5751953125\n",
      "131.509765625 71.57861328125\n",
      "131.49072265625 71.5888671875\n",
      "131.47509765625 71.599609375\n",
      "131.47412109375 71.59375\n",
      "131.513671875 71.5869140625\n",
      "131.4951171875 71.595703125\n",
      "131.4853515625 71.60693359375\n",
      "131.48828125 71.57275390625\n",
      "131.50927734375 71.58984375\n",
      "131.48291015625 71.60888671875\n",
      "131.48291015625 71.60888671875\n"
     ]
    },
    {
     "name": "stderr",
     "output_type": "stream",
     "text": [
      " 11%|█         | 9/81 [00:04<00:45,  1.58it/s]"
     ]
    },
    {
     "name": "stdout",
     "output_type": "stream",
     "text": [
      "131.51904296875 71.6728515625\n",
      "131.505859375 71.6796875\n",
      "131.45654296875 71.64404296875\n",
      "131.49462890625 71.61474609375\n",
      "131.51220703125 71.68603515625\n",
      "131.513671875 71.65380859375\n",
      "131.4443359375 71.63916015625\n",
      "131.52783203125 71.6796875\n",
      "131.5361328125 71.654296875\n",
      "131.5078125 71.68212890625\n",
      "131.51904296875 71.6728515625\n",
      "131.48291015625 71.60888671875\n"
     ]
    },
    {
     "name": "stderr",
     "output_type": "stream",
     "text": [
      " 12%|█▏        | 10/81 [00:05<00:37,  1.90it/s]"
     ]
    },
    {
     "name": "stdout",
     "output_type": "stream",
     "text": [
      "131.587890625 71.37451171875\n"
     ]
    },
    {
     "name": "stderr",
     "output_type": "stream",
     "text": [
      " 14%|█▎        | 11/81 [00:05<00:32,  2.13it/s]"
     ]
    },
    {
     "name": "stdout",
     "output_type": "stream",
     "text": [
      "131.5693359375 71.40869140625\n",
      "131.56884765625 71.392578125\n",
      "131.56689453125 71.41015625\n",
      "131.5498046875 71.3720703125\n",
      "131.57568359375 71.3935546875\n",
      "131.56884765625 71.392578125\n",
      "131.5732421875 71.392578125\n"
     ]
    },
    {
     "name": "stderr",
     "output_type": "stream",
     "text": [
      " 15%|█▍        | 12/81 [00:05<00:29,  2.36it/s]"
     ]
    },
    {
     "name": "stdout",
     "output_type": "stream",
     "text": [
      "131.5693359375 71.40869140625\n",
      "131.56884765625 71.392578125\n",
      "131.55712890625 71.4267578125\n",
      "131.56689453125 71.41015625\n",
      "131.5546875 71.412109375\n",
      "131.57568359375 71.3935546875\n",
      "131.56884765625 71.392578125\n",
      "131.5732421875 71.392578125\n"
     ]
    },
    {
     "name": "stderr",
     "output_type": "stream",
     "text": [
      " 16%|█▌        | 13/81 [00:06<00:25,  2.71it/s]"
     ]
    },
    {
     "name": "stdout",
     "output_type": "stream",
     "text": [
      "131.55712890625 71.4267578125\n",
      "131.5380859375 71.50732421875\n",
      "131.5380859375 71.50732421875\n"
     ]
    },
    {
     "name": "stderr",
     "output_type": "stream",
     "text": [
      " 17%|█▋        | 14/81 [00:06<00:21,  3.10it/s]"
     ]
    },
    {
     "name": "stdout",
     "output_type": "stream",
     "text": [
      "131.517578125 71.51123046875\n"
     ]
    },
    {
     "name": "stderr",
     "output_type": "stream",
     "text": [
      " 19%|█▊        | 15/81 [00:06<00:21,  3.10it/s]"
     ]
    },
    {
     "name": "stdout",
     "output_type": "stream",
     "text": [
      "131.51611328125 71.5712890625\n",
      "131.5380859375 71.50732421875\n",
      "131.5166015625 71.5458984375\n",
      "131.50537109375 71.55322265625\n",
      "131.45556640625 71.5537109375\n",
      "131.5380859375 71.50732421875\n"
     ]
    },
    {
     "name": "stderr",
     "output_type": "stream",
     "text": [
      " 20%|█▉        | 16/81 [00:07<00:25,  2.57it/s]"
     ]
    },
    {
     "name": "stdout",
     "output_type": "stream",
     "text": [
      "131.50634765625 71.603515625\n",
      "131.48974609375 71.59619140625\n",
      "131.5048828125 71.60205078125\n",
      "131.5068359375 71.595703125\n",
      "131.5107421875 71.58056640625\n",
      "131.50537109375 71.59521484375\n",
      "131.50244140625 71.6005859375\n",
      "131.51171875 71.5751953125\n",
      "131.509765625 71.57861328125\n",
      "131.5166015625 71.5458984375\n",
      "131.50537109375 71.55322265625\n",
      "131.49072265625 71.5888671875\n",
      "131.47412109375 71.59375\n",
      "131.50146484375 71.5947265625\n",
      "131.4951171875 71.595703125\n",
      "131.48828125 71.57275390625\n",
      "131.48779296875 71.56982421875\n",
      "131.5234375 71.54638671875\n",
      "131.48876953125 71.59375\n",
      "131.4833984375 71.59033203125\n"
     ]
    },
    {
     "name": "stderr",
     "output_type": "stream",
     "text": [
      " 21%|██        | 17/81 [00:07<00:29,  2.15it/s]"
     ]
    },
    {
     "name": "stdout",
     "output_type": "stream",
     "text": [
      "131.50634765625 71.603515625\n",
      "131.5048828125 71.60205078125\n",
      "131.5107421875 71.58056640625\n",
      "131.50537109375 71.59521484375\n",
      "131.50244140625 71.6005859375\n",
      "131.51171875 71.5751953125\n",
      "131.509765625 71.57861328125\n",
      "131.49072265625 71.5888671875\n",
      "131.47509765625 71.599609375\n",
      "131.47412109375 71.59375\n",
      "131.44677734375 71.607421875\n",
      "131.50146484375 71.5947265625\n",
      "131.49462890625 71.61474609375\n",
      "131.4951171875 71.595703125\n",
      "131.4853515625 71.60693359375\n",
      "131.48828125 71.57275390625\n",
      "131.4482421875 71.60595703125\n",
      "131.48388671875 71.59033203125\n",
      "131.48291015625 71.60888671875\n",
      "131.48291015625 71.60888671875\n"
     ]
    },
    {
     "name": "stderr",
     "output_type": "stream",
     "text": [
      " 22%|██▏       | 18/81 [00:08<00:29,  2.11it/s]"
     ]
    },
    {
     "name": "stdout",
     "output_type": "stream",
     "text": [
      "131.4853515625 71.59326171875\n",
      "131.4443359375 71.63916015625\n",
      "131.45654296875 71.64404296875\n",
      "131.48779296875 71.59619140625\n",
      "131.44677734375 71.607421875\n",
      "131.43505859375 71.63623046875\n",
      "131.49462890625 71.61474609375\n",
      "131.451171875 71.60498046875\n",
      "131.4482421875 71.60595703125\n",
      "131.48291015625 71.60888671875\n",
      "131.48291015625 71.60888671875\n"
     ]
    },
    {
     "name": "stderr",
     "output_type": "stream",
     "text": [
      " 31%|███       | 25/81 [00:09<00:10,  5.14it/s]"
     ]
    },
    {
     "name": "stdout",
     "output_type": "stream",
     "text": [
      "131.4580078125 71.55078125\n"
     ]
    },
    {
     "name": "stderr",
     "output_type": "stream",
     "text": [
      " 32%|███▏      | 26/81 [00:09<00:12,  4.37it/s]"
     ]
    },
    {
     "name": "stdout",
     "output_type": "stream",
     "text": [
      "131.44677734375 71.607421875\n",
      "131.451171875 71.60498046875\n",
      "131.4482421875 71.60595703125\n"
     ]
    },
    {
     "name": "stderr",
     "output_type": "stream",
     "text": [
      " 36%|███▌      | 29/81 [00:10<00:08,  5.97it/s]"
     ]
    },
    {
     "name": "stdout",
     "output_type": "stream",
     "text": [
      "131.44677734375 71.607421875\n",
      "131.43505859375 71.63623046875\n",
      "131.4287109375 71.63330078125\n",
      "131.451171875 71.60498046875\n",
      "131.4482421875 71.60595703125\n",
      "131.458984375 71.60498046875\n",
      "131.4443359375 71.63916015625\n"
     ]
    },
    {
     "name": "stderr",
     "output_type": "stream",
     "text": [
      " 48%|████▊     | 39/81 [00:10<00:03, 11.24it/s]"
     ]
    },
    {
     "name": "stdout",
     "output_type": "stream",
     "text": [
      "131.46728515625 71.25244140625\n"
     ]
    },
    {
     "name": "stderr",
     "output_type": "stream",
     "text": [
      " 85%|████████▌ | 69/81 [00:13<00:01,  8.54it/s]"
     ]
    },
    {
     "name": "stdout",
     "output_type": "stream",
     "text": [
      "131.2646484375 71.39697265625\n"
     ]
    },
    {
     "name": "stderr",
     "output_type": "stream",
     "text": [
      " 96%|█████████▋| 78/81 [00:14<00:00,  6.97it/s]"
     ]
    },
    {
     "name": "stdout",
     "output_type": "stream",
     "text": [
      "131.2646484375 71.39697265625\n"
     ]
    },
    {
     "name": "stderr",
     "output_type": "stream",
     "text": [
      "100%|██████████| 81/81 [00:15<00:00,  5.28it/s]\n"
     ]
    },
    {
     "name": "stdout",
     "output_type": "stream",
     "text": [
      " 4 Define mapping between PRISMA LatLon and gMaps latlon\n",
      " 5 Map PRISMA Latlons to gMaps latlons (ransac affine) and save for reference\n",
      "Band 24 did not work\n",
      "# 1 create .tif file\n",
      "# 2 Download gmaps for the same location\n",
      "Image size (pix):  (1792, 1792)\n",
      "Tile coordinate top left (north-west) corner: 1048,568\n",
      " 3 Determine matched features in PRISMA image to gMaps image with SIFT\n"
     ]
    },
    {
     "name": "stderr",
     "output_type": "stream",
     "text": [
      "  2%|▏         | 2/81 [00:00<00:32,  2.43it/s]"
     ]
    },
    {
     "name": "stdout",
     "output_type": "stream",
     "text": [
      "131.5986328125 71.400390625\n",
      "131.57080078125 71.42626953125\n",
      "131.572265625 71.42724609375\n",
      "131.57568359375 71.3935546875\n",
      "131.5693359375 71.40869140625\n",
      "131.56884765625 71.392578125\n",
      "131.56689453125 71.41015625\n",
      "131.56884765625 71.392578125\n",
      "131.5732421875 71.392578125\n"
     ]
    },
    {
     "name": "stderr",
     "output_type": "stream",
     "text": [
      "  4%|▎         | 3/81 [00:01<00:34,  2.25it/s]"
     ]
    },
    {
     "name": "stdout",
     "output_type": "stream",
     "text": [
      "131.5986328125 71.400390625\n",
      "131.57568359375 71.3935546875\n",
      "131.5693359375 71.40869140625\n",
      "131.56884765625 71.392578125\n",
      "131.6025390625 71.3955078125\n",
      "131.57080078125 71.42626953125\n",
      "131.56689453125 71.41015625\n",
      "131.5546875 71.412109375\n",
      "131.5810546875 71.46435546875\n",
      "131.56884765625 71.392578125\n",
      "131.5732421875 71.392578125\n"
     ]
    },
    {
     "name": "stderr",
     "output_type": "stream",
     "text": [
      "  5%|▍         | 4/81 [00:01<00:34,  2.21it/s]"
     ]
    },
    {
     "name": "stdout",
     "output_type": "stream",
     "text": [
      "131.578125 71.50244140625\n",
      "131.59912109375 71.47021484375\n",
      "131.57861328125 71.486328125\n",
      "131.5712890625 71.49951171875\n",
      "131.5810546875 71.46435546875\n"
     ]
    },
    {
     "name": "stderr",
     "output_type": "stream",
     "text": [
      "  6%|▌         | 5/81 [00:02<00:35,  2.15it/s]"
     ]
    },
    {
     "name": "stdout",
     "output_type": "stream",
     "text": [
      "131.5673828125 71.54443359375\n",
      "131.56494140625 71.54345703125\n",
      "131.578125 71.50244140625\n",
      "131.57861328125 71.5283203125\n",
      "131.57861328125 71.486328125\n",
      "131.55859375 71.53759765625\n",
      "131.5380859375 71.50732421875\n",
      "131.57373046875 71.5009765625\n",
      "131.5712890625 71.49951171875\n",
      "131.57958984375 71.484375\n",
      "131.55615234375 71.5361328125\n",
      "131.5380859375 71.50732421875\n",
      "131.517578125 71.51123046875\n",
      "131.57373046875 71.5009765625\n"
     ]
    },
    {
     "name": "stderr",
     "output_type": "stream",
     "text": [
      "  7%|▋         | 6/81 [00:02<00:39,  1.92it/s]"
     ]
    },
    {
     "name": "stdout",
     "output_type": "stream",
     "text": [
      "131.55859375 71.53759765625\n",
      "131.5419921875 71.58056640625\n",
      "131.54931640625 71.5615234375\n",
      "131.54248046875 71.5771484375\n",
      "131.53759765625 71.57958984375\n",
      "131.54541015625 71.58251953125\n",
      "131.5380859375 71.50732421875\n",
      "131.50537109375 71.55322265625\n",
      "131.5390625 71.578125\n",
      "131.50830078125 71.54833984375\n",
      "131.53369140625 71.5498046875\n",
      "131.55615234375 71.5361328125\n",
      "131.5380859375 71.50732421875\n",
      "131.54638671875 71.57275390625\n"
     ]
    },
    {
     "name": "stderr",
     "output_type": "stream",
     "text": [
      "  9%|▊         | 7/81 [00:03<00:49,  1.51it/s]"
     ]
    },
    {
     "name": "stdout",
     "output_type": "stream",
     "text": [
      "131.54931640625 71.58447265625\n",
      "131.5419921875 71.58056640625\n",
      "131.54931640625 71.5615234375\n",
      "131.54248046875 71.5771484375\n",
      "131.525390625 71.576171875\n",
      "131.52587890625 71.578125\n",
      "131.51953125 71.58837890625\n",
      "131.5185546875 71.5869140625\n",
      "131.5166015625 71.58984375\n",
      "131.51806640625 71.580078125\n",
      "131.50634765625 71.603515625\n",
      "131.5048828125 71.60205078125\n",
      "131.5068359375 71.595703125\n",
      "131.5107421875 71.58056640625\n",
      "131.50244140625 71.6005859375\n",
      "131.51171875 71.5751953125\n",
      "131.509765625 71.57861328125\n",
      "131.5166015625 71.5458984375\n",
      "131.50537109375 71.55322265625\n",
      "131.49072265625 71.5888671875\n",
      "131.48779296875 71.59619140625\n",
      "131.47412109375 71.59375\n",
      "131.5458984375 71.5810546875\n",
      "131.54345703125 71.57861328125\n",
      "131.5390625 71.578125\n",
      "131.513671875 71.5869140625\n",
      "131.4775390625 71.59326171875\n",
      "131.50146484375 71.5947265625\n",
      "131.4951171875 71.595703125\n",
      "131.48828125 71.58935546875\n",
      "131.5234375 71.54638671875\n",
      "131.48779296875 71.56982421875\n",
      "131.5322265625 71.57666015625\n",
      "131.529296875 71.572265625\n",
      "131.50927734375 71.58984375\n",
      "131.48876953125 71.59375\n",
      "131.48388671875 71.59033203125\n",
      "131.541015625 71.58056640625\n",
      "131.54443359375 71.5849609375\n",
      "131.529296875 71.572265625\n"
     ]
    },
    {
     "name": "stderr",
     "output_type": "stream",
     "text": [
      " 10%|▉         | 8/81 [00:04<00:52,  1.40it/s]"
     ]
    },
    {
     "name": "stdout",
     "output_type": "stream",
     "text": [
      "131.49462890625 71.61474609375\n",
      "131.51953125 71.58837890625\n",
      "131.5185546875 71.5869140625\n",
      "131.50634765625 71.603515625\n",
      "131.5048828125 71.60205078125\n",
      "131.5107421875 71.58056640625\n",
      "131.50537109375 71.59521484375\n",
      "131.50244140625 71.6005859375\n",
      "131.51171875 71.5751953125\n",
      "131.509765625 71.57861328125\n",
      "131.49072265625 71.5888671875\n",
      "131.48779296875 71.59619140625\n",
      "131.47509765625 71.599609375\n",
      "131.47412109375 71.59375\n",
      "131.513671875 71.5869140625\n",
      "131.4951171875 71.595703125\n",
      "131.4853515625 71.60693359375\n",
      "131.48828125 71.58935546875\n",
      "131.48828125 71.57275390625\n",
      "131.5361328125 71.654296875\n",
      "131.50927734375 71.58984375\n",
      "131.49169921875 71.6103515625\n",
      "131.48291015625 71.60888671875\n",
      "131.48291015625 71.60888671875\n"
     ]
    },
    {
     "name": "stderr",
     "output_type": "stream",
     "text": [
      " 11%|█         | 9/81 [00:05<00:51,  1.40it/s]"
     ]
    },
    {
     "name": "stdout",
     "output_type": "stream",
     "text": [
      "131.51904296875 71.6728515625\n",
      "131.52490234375 71.6533203125\n",
      "131.505859375 71.6796875\n",
      "131.49462890625 71.61474609375\n",
      "131.48779296875 71.65576171875\n",
      "131.45654296875 71.64404296875\n",
      "131.52392578125 71.6689453125\n",
      "131.51220703125 71.68603515625\n",
      "131.513671875 71.65380859375\n",
      "131.4443359375 71.63916015625\n",
      "131.52783203125 71.6796875\n",
      "131.5361328125 71.654296875\n",
      "131.5078125 71.68212890625\n",
      "131.51904296875 71.6728515625\n",
      "131.48291015625 71.60888671875\n"
     ]
    },
    {
     "name": "stderr",
     "output_type": "stream",
     "text": [
      " 14%|█▎        | 11/81 [00:06<00:41,  1.67it/s]"
     ]
    },
    {
     "name": "stdout",
     "output_type": "stream",
     "text": [
      "131.57568359375 71.3935546875\n",
      "131.5693359375 71.40869140625\n",
      "131.56884765625 71.392578125\n",
      "131.56689453125 71.41015625\n",
      "131.5498046875 71.3720703125\n",
      "131.56884765625 71.392578125\n",
      "131.5732421875 71.392578125\n"
     ]
    },
    {
     "name": "stderr",
     "output_type": "stream",
     "text": [
      " 15%|█▍        | 12/81 [00:06<00:38,  1.79it/s]"
     ]
    },
    {
     "name": "stdout",
     "output_type": "stream",
     "text": [
      "131.57568359375 71.3935546875\n",
      "131.5693359375 71.40869140625\n",
      "131.56884765625 71.392578125\n",
      "131.55712890625 71.4267578125\n",
      "131.56689453125 71.41015625\n",
      "131.5546875 71.412109375\n",
      "131.56884765625 71.392578125\n",
      "131.5732421875 71.392578125\n"
     ]
    },
    {
     "name": "stderr",
     "output_type": "stream",
     "text": [
      " 16%|█▌        | 13/81 [00:07<00:36,  1.87it/s]"
     ]
    },
    {
     "name": "stdout",
     "output_type": "stream",
     "text": [
      "131.55712890625 71.4267578125\n"
     ]
    },
    {
     "name": "stderr",
     "output_type": "stream",
     "text": [
      " 17%|█▋        | 14/81 [00:07<00:31,  2.10it/s]"
     ]
    },
    {
     "name": "stdout",
     "output_type": "stream",
     "text": [
      "131.5380859375 71.50732421875\n",
      "131.5380859375 71.50732421875\n",
      "131.517578125 71.51123046875\n"
     ]
    },
    {
     "name": "stderr",
     "output_type": "stream",
     "text": [
      " 19%|█▊        | 15/81 [00:08<00:34,  1.94it/s]"
     ]
    },
    {
     "name": "stdout",
     "output_type": "stream",
     "text": [
      "131.51611328125 71.5712890625\n",
      "131.5380859375 71.50732421875\n",
      "131.5166015625 71.5458984375\n",
      "131.50537109375 71.55322265625\n",
      "131.45556640625 71.5537109375\n",
      "131.5380859375 71.50732421875\n"
     ]
    },
    {
     "name": "stderr",
     "output_type": "stream",
     "text": [
      " 20%|█▉        | 16/81 [00:09<00:41,  1.57it/s]"
     ]
    },
    {
     "name": "stdout",
     "output_type": "stream",
     "text": [
      "131.50634765625 71.603515625\n",
      "131.48974609375 71.59619140625\n",
      "131.5048828125 71.60205078125\n",
      "131.5068359375 71.595703125\n",
      "131.5107421875 71.58056640625\n",
      "131.50537109375 71.59521484375\n",
      "131.50244140625 71.6005859375\n",
      "131.51171875 71.5751953125\n",
      "131.509765625 71.57861328125\n",
      "131.5166015625 71.5458984375\n",
      "131.50537109375 71.55322265625\n",
      "131.49072265625 71.5888671875\n",
      "131.48779296875 71.59619140625\n",
      "131.47412109375 71.59375\n",
      "131.4951171875 71.595703125\n",
      "131.48828125 71.58935546875\n",
      "131.48828125 71.57275390625\n",
      "131.5234375 71.54638671875\n",
      "131.48779296875 71.56982421875\n",
      "131.48876953125 71.59375\n",
      "131.4833984375 71.59033203125\n",
      "131.50244140625 71.609375\n"
     ]
    },
    {
     "name": "stderr",
     "output_type": "stream",
     "text": [
      " 21%|██        | 17/81 [00:10<00:46,  1.39it/s]"
     ]
    },
    {
     "name": "stdout",
     "output_type": "stream",
     "text": [
      "131.50634765625 71.603515625\n",
      "131.5048828125 71.60205078125\n",
      "131.5107421875 71.58056640625\n",
      "131.50537109375 71.59521484375\n",
      "131.50244140625 71.6005859375\n",
      "131.51171875 71.5751953125\n",
      "131.509765625 71.57861328125\n",
      "131.49072265625 71.5888671875\n",
      "131.48779296875 71.59619140625\n",
      "131.47509765625 71.599609375\n",
      "131.47412109375 71.59375\n",
      "131.44677734375 71.607421875\n",
      "131.50146484375 71.5947265625\n",
      "131.49462890625 71.61474609375\n",
      "131.4951171875 71.595703125\n",
      "131.4853515625 71.60693359375\n",
      "131.48828125 71.58935546875\n",
      "131.48828125 71.57275390625\n",
      "131.4482421875 71.60595703125\n",
      "131.4443359375 71.60986328125\n",
      "131.49169921875 71.6103515625\n",
      "131.48388671875 71.59033203125\n",
      "131.48291015625 71.60888671875\n",
      "131.48291015625 71.60888671875\n"
     ]
    },
    {
     "name": "stderr",
     "output_type": "stream",
     "text": [
      " 22%|██▏       | 18/81 [00:10<00:43,  1.44it/s]"
     ]
    },
    {
     "name": "stdout",
     "output_type": "stream",
     "text": [
      "131.48779296875 71.65576171875\n",
      "131.4853515625 71.59326171875\n",
      "131.494140625 71.61669921875\n",
      "131.4443359375 71.63916015625\n",
      "131.45654296875 71.64404296875\n",
      "131.48779296875 71.59619140625\n",
      "131.44677734375 71.607421875\n",
      "131.49462890625 71.61474609375\n",
      "131.4482421875 71.60595703125\n",
      "131.4443359375 71.60986328125\n",
      "131.48291015625 71.60888671875\n",
      "131.48291015625 71.60888671875\n"
     ]
    },
    {
     "name": "stderr",
     "output_type": "stream",
     "text": [
      " 31%|███       | 25/81 [00:12<00:14,  3.89it/s]"
     ]
    },
    {
     "name": "stdout",
     "output_type": "stream",
     "text": [
      "131.4580078125 71.55078125\n"
     ]
    },
    {
     "name": "stderr",
     "output_type": "stream",
     "text": [
      " 32%|███▏      | 26/81 [00:12<00:15,  3.45it/s]"
     ]
    },
    {
     "name": "stdout",
     "output_type": "stream",
     "text": [
      "131.44677734375 71.607421875\n",
      "131.451171875 71.60498046875\n",
      "131.44580078125 71.6123046875\n",
      "131.4482421875 71.60595703125\n",
      "131.4443359375 71.60986328125\n"
     ]
    },
    {
     "name": "stderr",
     "output_type": "stream",
     "text": [
      " 36%|███▌      | 29/81 [00:13<00:10,  4.77it/s]"
     ]
    },
    {
     "name": "stdout",
     "output_type": "stream",
     "text": [
      "131.443359375 71.6376953125\n",
      "131.44677734375 71.607421875\n",
      "131.43505859375 71.63623046875\n",
      "131.4287109375 71.63330078125\n",
      "131.451171875 71.60498046875\n",
      "131.44580078125 71.6123046875\n",
      "131.4482421875 71.60595703125\n",
      "131.4443359375 71.60986328125\n",
      "131.458984375 71.60498046875\n",
      "131.4443359375 71.63916015625\n"
     ]
    },
    {
     "name": "stderr",
     "output_type": "stream",
     "text": [
      " 44%|████▍     | 36/81 [00:13<00:06,  7.18it/s]"
     ]
    },
    {
     "name": "stdout",
     "output_type": "stream",
     "text": [
      "131.45361328125 71.55224609375\n"
     ]
    },
    {
     "name": "stderr",
     "output_type": "stream",
     "text": [
      " 48%|████▊     | 39/81 [00:14<00:05,  8.11it/s]"
     ]
    },
    {
     "name": "stdout",
     "output_type": "stream",
     "text": [
      "131.46728515625 71.25244140625\n"
     ]
    },
    {
     "name": "stderr",
     "output_type": "stream",
     "text": [
      " 86%|████████▋ | 70/81 [00:17<00:01,  7.44it/s]"
     ]
    },
    {
     "name": "stdout",
     "output_type": "stream",
     "text": [
      "131.2646484375 71.39697265625\n"
     ]
    },
    {
     "name": "stderr",
     "output_type": "stream",
     "text": [
      " 96%|█████████▋| 78/81 [00:19<00:00,  5.03it/s]"
     ]
    },
    {
     "name": "stdout",
     "output_type": "stream",
     "text": [
      "131.2646484375 71.39697265625\n"
     ]
    },
    {
     "name": "stderr",
     "output_type": "stream",
     "text": [
      "100%|██████████| 81/81 [00:19<00:00,  4.11it/s]\n"
     ]
    },
    {
     "name": "stdout",
     "output_type": "stream",
     "text": [
      " 4 Define mapping between PRISMA LatLon and gMaps latlon\n",
      " 5 Map PRISMA Latlons to gMaps latlons (ransac affine) and save for reference\n",
      "Band 25 did not work\n",
      "# 1 create .tif file\n",
      "# 2 Download gmaps for the same location\n",
      "Image size (pix):  (1792, 1792)\n",
      "Tile coordinate top left (north-west) corner: 1048,568\n",
      " 3 Determine matched features in PRISMA image to gMaps image with SIFT\n"
     ]
    },
    {
     "name": "stderr",
     "output_type": "stream",
     "text": [
      "  1%|          | 1/81 [00:00<00:23,  3.44it/s]"
     ]
    },
    {
     "name": "stdout",
     "output_type": "stream",
     "text": [
      "131.62841796875 71.3818359375\n",
      "131.58349609375 71.3740234375\n"
     ]
    },
    {
     "name": "stderr",
     "output_type": "stream",
     "text": [
      "  2%|▏         | 2/81 [00:00<00:32,  2.42it/s]"
     ]
    },
    {
     "name": "stdout",
     "output_type": "stream",
     "text": [
      "131.5986328125 71.400390625\n",
      "131.57080078125 71.42626953125\n",
      "131.572265625 71.42724609375\n",
      "131.57568359375 71.3935546875\n",
      "131.56884765625 71.392578125\n",
      "131.56689453125 71.41015625\n",
      "131.6142578125 71.4140625\n",
      "131.56884765625 71.392578125\n",
      "131.5732421875 71.392578125\n"
     ]
    },
    {
     "name": "stderr",
     "output_type": "stream",
     "text": [
      "  4%|▎         | 3/81 [00:01<00:34,  2.27it/s]"
     ]
    },
    {
     "name": "stdout",
     "output_type": "stream",
     "text": [
      "131.5986328125 71.400390625\n",
      "131.57080078125 71.42626953125\n",
      "131.57568359375 71.3935546875\n",
      "131.5693359375 71.40869140625\n",
      "131.56884765625 71.392578125\n",
      "131.6025390625 71.3955078125\n",
      "131.56689453125 71.41015625\n",
      "131.5546875 71.412109375\n",
      "131.6142578125 71.4140625\n",
      "131.56884765625 71.392578125\n",
      "131.5732421875 71.392578125\n"
     ]
    },
    {
     "name": "stderr",
     "output_type": "stream",
     "text": [
      "  5%|▍         | 4/81 [00:01<00:34,  2.22it/s]"
     ]
    },
    {
     "name": "stdout",
     "output_type": "stream",
     "text": [
      "131.578125 71.50244140625\n",
      "131.59912109375 71.47021484375\n",
      "131.57861328125 71.486328125\n",
      "131.5712890625 71.49951171875\n"
     ]
    },
    {
     "name": "stderr",
     "output_type": "stream",
     "text": [
      "  6%|▌         | 5/81 [00:02<00:35,  2.13it/s]"
     ]
    },
    {
     "name": "stdout",
     "output_type": "stream",
     "text": [
      "131.5673828125 71.54443359375\n",
      "131.56494140625 71.54345703125\n",
      "131.578125 71.50244140625\n",
      "131.57861328125 71.486328125\n",
      "131.52197265625 71.5126953125\n",
      "131.55859375 71.53759765625\n",
      "131.57373046875 71.5009765625\n",
      "131.5712890625 71.49951171875\n",
      "131.57958984375 71.484375\n",
      "131.55615234375 71.5361328125\n",
      "131.517578125 71.51123046875\n",
      "131.57373046875 71.5009765625\n"
     ]
    },
    {
     "name": "stderr",
     "output_type": "stream",
     "text": [
      "  7%|▋         | 6/81 [00:02<00:39,  1.91it/s]"
     ]
    },
    {
     "name": "stdout",
     "output_type": "stream",
     "text": [
      "131.55859375 71.53759765625\n",
      "131.5419921875 71.58056640625\n",
      "131.54931640625 71.5615234375\n",
      "131.54248046875 71.5771484375\n",
      "131.53759765625 71.57958984375\n",
      "131.54541015625 71.58251953125\n",
      "131.5390625 71.578125\n",
      "131.50830078125 71.54833984375\n",
      "131.53369140625 71.5498046875\n",
      "131.56103515625 71.5712890625\n",
      "131.55615234375 71.5361328125\n",
      "131.54638671875 71.57275390625\n"
     ]
    },
    {
     "name": "stderr",
     "output_type": "stream",
     "text": [
      "  9%|▊         | 7/81 [00:03<00:48,  1.54it/s]"
     ]
    },
    {
     "name": "stdout",
     "output_type": "stream",
     "text": [
      "131.54931640625 71.58447265625\n",
      "131.5419921875 71.58056640625\n",
      "131.54931640625 71.5615234375\n",
      "131.54248046875 71.5771484375\n",
      "131.525390625 71.576171875\n",
      "131.52587890625 71.578125\n",
      "131.51953125 71.58837890625\n",
      "131.54541015625 71.58251953125\n",
      "131.5185546875 71.5869140625\n",
      "131.5166015625 71.58984375\n",
      "131.51806640625 71.580078125\n",
      "131.50634765625 71.603515625\n",
      "131.5048828125 71.60205078125\n",
      "131.5068359375 71.595703125\n",
      "131.5107421875 71.58056640625\n",
      "131.50244140625 71.6005859375\n",
      "131.51171875 71.5751953125\n",
      "131.509765625 71.57861328125\n",
      "131.513671875 71.591796875\n",
      "131.49072265625 71.5888671875\n",
      "131.48779296875 71.59619140625\n",
      "131.47412109375 71.59375\n",
      "131.5458984375 71.5810546875\n",
      "131.54345703125 71.57861328125\n",
      "131.54052734375 71.58447265625\n",
      "131.5390625 71.578125\n",
      "131.51611328125 71.58837890625\n",
      "131.513671875 71.5869140625\n",
      "131.4775390625 71.59326171875\n",
      "131.50146484375 71.5947265625\n",
      "131.4951171875 71.595703125\n",
      "131.48828125 71.58935546875\n",
      "131.49072265625 71.5673828125\n",
      "131.5234375 71.54638671875\n",
      "131.48779296875 71.56982421875\n",
      "131.5322265625 71.57666015625\n",
      "131.529296875 71.572265625\n",
      "131.50927734375 71.58984375\n",
      "131.48876953125 71.59375\n",
      "131.48388671875 71.59033203125\n",
      "131.52001953125 71.6044921875\n",
      "131.56103515625 71.5712890625\n",
      "131.541015625 71.58056640625\n",
      "131.54443359375 71.5849609375\n",
      "131.529296875 71.572265625\n"
     ]
    },
    {
     "name": "stderr",
     "output_type": "stream",
     "text": [
      " 10%|▉         | 8/81 [00:04<00:53,  1.36it/s]"
     ]
    },
    {
     "name": "stdout",
     "output_type": "stream",
     "text": [
      "131.49462890625 71.61474609375\n",
      "131.51953125 71.58837890625\n",
      "131.5185546875 71.5869140625\n",
      "131.51806640625 71.580078125\n",
      "131.50634765625 71.603515625\n",
      "131.5048828125 71.60205078125\n",
      "131.5107421875 71.58056640625\n",
      "131.50537109375 71.59521484375\n",
      "131.50244140625 71.6005859375\n",
      "131.51171875 71.5751953125\n",
      "131.509765625 71.57861328125\n",
      "131.494140625 71.61669921875\n",
      "131.4951171875 71.60791015625\n",
      "131.49072265625 71.5888671875\n",
      "131.48779296875 71.59619140625\n",
      "131.47509765625 71.599609375\n",
      "131.47412109375 71.59375\n",
      "131.51611328125 71.58837890625\n",
      "131.513671875 71.5869140625\n",
      "131.4951171875 71.595703125\n",
      "131.4853515625 71.60693359375\n",
      "131.48828125 71.58935546875\n",
      "131.48828125 71.57275390625\n",
      "131.50927734375 71.58984375\n",
      "131.49169921875 71.6103515625\n",
      "131.48291015625 71.60888671875\n",
      "131.48291015625 71.60888671875\n"
     ]
    },
    {
     "name": "stderr",
     "output_type": "stream",
     "text": [
      " 11%|█         | 9/81 [00:05<00:51,  1.40it/s]"
     ]
    },
    {
     "name": "stdout",
     "output_type": "stream",
     "text": [
      "131.51904296875 71.6728515625\n",
      "131.52490234375 71.6533203125\n",
      "131.505859375 71.6796875\n",
      "131.49462890625 71.61474609375\n",
      "131.48779296875 71.65576171875\n",
      "131.494140625 71.61669921875\n",
      "131.45654296875 71.64404296875\n",
      "131.51220703125 71.68603515625\n",
      "131.513671875 71.65380859375\n",
      "131.4443359375 71.63916015625\n",
      "131.52783203125 71.6796875\n",
      "131.5078125 71.68212890625\n",
      "131.51904296875 71.6728515625\n",
      "131.48291015625 71.60888671875\n"
     ]
    },
    {
     "name": "stderr",
     "output_type": "stream",
     "text": [
      " 12%|█▏        | 10/81 [00:05<00:40,  1.75it/s]"
     ]
    },
    {
     "name": "stdout",
     "output_type": "stream",
     "text": [
      "131.58349609375 71.3740234375\n"
     ]
    },
    {
     "name": "stderr",
     "output_type": "stream",
     "text": [
      " 14%|█▎        | 11/81 [00:06<00:37,  1.89it/s]"
     ]
    },
    {
     "name": "stdout",
     "output_type": "stream",
     "text": [
      "131.57568359375 71.3935546875\n",
      "131.5693359375 71.40869140625\n",
      "131.56884765625 71.392578125\n",
      "131.56689453125 71.41015625\n",
      "131.5498046875 71.3720703125\n",
      "131.56884765625 71.392578125\n",
      "131.5732421875 71.392578125\n"
     ]
    },
    {
     "name": "stderr",
     "output_type": "stream",
     "text": [
      " 15%|█▍        | 12/81 [00:06<00:33,  2.06it/s]"
     ]
    },
    {
     "name": "stdout",
     "output_type": "stream",
     "text": [
      "131.57568359375 71.3935546875\n",
      "131.5693359375 71.40869140625\n",
      "131.56884765625 71.392578125\n",
      "131.54638671875 71.416015625\n",
      "131.55712890625 71.4267578125\n",
      "131.56689453125 71.41015625\n",
      "131.5546875 71.412109375\n",
      "131.56884765625 71.392578125\n",
      "131.5732421875 71.392578125\n"
     ]
    },
    {
     "name": "stderr",
     "output_type": "stream",
     "text": [
      " 16%|█▌        | 13/81 [00:06<00:28,  2.39it/s]"
     ]
    },
    {
     "name": "stdout",
     "output_type": "stream",
     "text": [
      "131.55712890625 71.4267578125\n"
     ]
    },
    {
     "name": "stderr",
     "output_type": "stream",
     "text": [
      " 17%|█▋        | 14/81 [00:06<00:24,  2.69it/s]"
     ]
    },
    {
     "name": "stdout",
     "output_type": "stream",
     "text": [
      "131.517578125 71.51123046875\n"
     ]
    },
    {
     "name": "stderr",
     "output_type": "stream",
     "text": [
      " 19%|█▊        | 15/81 [00:07<00:25,  2.57it/s]"
     ]
    },
    {
     "name": "stdout",
     "output_type": "stream",
     "text": [
      "131.51611328125 71.5712890625\n",
      "131.5166015625 71.5458984375\n",
      "131.45556640625 71.5537109375\n"
     ]
    },
    {
     "name": "stderr",
     "output_type": "stream",
     "text": [
      " 20%|█▉        | 16/81 [00:08<00:31,  2.05it/s]"
     ]
    },
    {
     "name": "stdout",
     "output_type": "stream",
     "text": [
      "131.50634765625 71.603515625\n",
      "131.50927734375 71.59326171875\n",
      "131.48974609375 71.59619140625\n",
      "131.5048828125 71.60205078125\n",
      "131.5068359375 71.595703125\n",
      "131.5107421875 71.58056640625\n",
      "131.50537109375 71.59521484375\n",
      "131.50244140625 71.6005859375\n",
      "131.51171875 71.5751953125\n",
      "131.509765625 71.57861328125\n",
      "131.513671875 71.591796875\n",
      "131.49072265625 71.5888671875\n",
      "131.48779296875 71.59619140625\n",
      "131.47412109375 71.59375\n",
      "131.4580078125 71.55078125\n",
      "131.4951171875 71.595703125\n",
      "131.48828125 71.58935546875\n",
      "131.49072265625 71.5673828125\n",
      "131.48828125 71.57275390625\n",
      "131.5234375 71.54638671875\n",
      "131.48779296875 71.56982421875\n",
      "131.48876953125 71.59375\n",
      "131.4833984375 71.59033203125\n"
     ]
    },
    {
     "name": "stderr",
     "output_type": "stream",
     "text": [
      " 21%|██        | 17/81 [00:09<00:40,  1.58it/s]"
     ]
    },
    {
     "name": "stdout",
     "output_type": "stream",
     "text": [
      "131.50634765625 71.603515625\n",
      "131.50927734375 71.59326171875\n",
      "131.5048828125 71.60205078125\n",
      "131.5107421875 71.58056640625\n",
      "131.50537109375 71.59521484375\n",
      "131.50244140625 71.6005859375\n",
      "131.51171875 71.5751953125\n",
      "131.509765625 71.57861328125\n",
      "131.494140625 71.61669921875\n",
      "131.4951171875 71.60791015625\n",
      "131.49072265625 71.5888671875\n",
      "131.48779296875 71.59619140625\n",
      "131.47509765625 71.599609375\n",
      "131.47412109375 71.59375\n",
      "131.44677734375 71.607421875\n",
      "131.50146484375 71.5947265625\n",
      "131.49462890625 71.61474609375\n",
      "131.4951171875 71.595703125\n",
      "131.4853515625 71.60693359375\n",
      "131.48828125 71.58935546875\n",
      "131.48828125 71.57275390625\n",
      "131.4482421875 71.60595703125\n",
      "131.4443359375 71.60986328125\n",
      "131.49169921875 71.6103515625\n",
      "131.48388671875 71.59033203125\n",
      "131.48291015625 71.60888671875\n",
      "131.48291015625 71.60888671875\n",
      "131.4443359375 71.60986328125\n"
     ]
    },
    {
     "name": "stderr",
     "output_type": "stream",
     "text": [
      " 22%|██▏       | 18/81 [00:09<00:44,  1.40it/s]"
     ]
    },
    {
     "name": "stdout",
     "output_type": "stream",
     "text": [
      "131.48779296875 71.65576171875\n",
      "131.4853515625 71.59326171875\n",
      "131.494140625 71.61669921875\n",
      "131.4443359375 71.63916015625\n",
      "131.45654296875 71.64404296875\n",
      "131.48779296875 71.59619140625\n",
      "131.44677734375 71.607421875\n",
      "131.43505859375 71.63623046875\n",
      "131.49462890625 71.61474609375\n",
      "131.4482421875 71.60595703125\n",
      "131.4443359375 71.60986328125\n",
      "131.48291015625 71.60888671875\n",
      "131.48291015625 71.60888671875\n",
      "131.4443359375 71.60986328125\n"
     ]
    },
    {
     "name": "stderr",
     "output_type": "stream",
     "text": [
      " 31%|███       | 25/81 [00:11<00:15,  3.69it/s]"
     ]
    },
    {
     "name": "stdout",
     "output_type": "stream",
     "text": [
      "131.4580078125 71.55078125\n"
     ]
    },
    {
     "name": "stderr",
     "output_type": "stream",
     "text": [
      " 32%|███▏      | 26/81 [00:11<00:17,  3.21it/s]"
     ]
    },
    {
     "name": "stdout",
     "output_type": "stream",
     "text": [
      "131.44677734375 71.607421875\n",
      "131.451171875 71.60498046875\n",
      "131.4482421875 71.60595703125\n",
      "131.4443359375 71.60986328125\n",
      "131.4443359375 71.60986328125\n"
     ]
    },
    {
     "name": "stderr",
     "output_type": "stream",
     "text": [
      " 36%|███▌      | 29/81 [00:12<00:11,  4.60it/s]"
     ]
    },
    {
     "name": "stdout",
     "output_type": "stream",
     "text": [
      "131.443359375 71.6376953125\n",
      "131.44677734375 71.607421875\n",
      "131.43505859375 71.63623046875\n",
      "131.4287109375 71.63330078125\n",
      "131.4443359375 71.63916015625\n",
      "131.451171875 71.60498046875\n",
      "131.4482421875 71.60595703125\n",
      "131.4443359375 71.60986328125\n",
      "131.458984375 71.60498046875\n",
      "131.4443359375 71.60986328125\n"
     ]
    },
    {
     "name": "stderr",
     "output_type": "stream",
     "text": [
      " 44%|████▍     | 36/81 [00:13<00:05,  8.39it/s]"
     ]
    },
    {
     "name": "stdout",
     "output_type": "stream",
     "text": [
      "131.45361328125 71.55224609375\n"
     ]
    },
    {
     "name": "stderr",
     "output_type": "stream",
     "text": [
      " 49%|████▉     | 40/81 [00:13<00:04,  9.62it/s]"
     ]
    },
    {
     "name": "stdout",
     "output_type": "stream",
     "text": [
      "131.46728515625 71.25244140625\n"
     ]
    },
    {
     "name": "stderr",
     "output_type": "stream",
     "text": [
      " 86%|████████▋ | 70/81 [00:18<00:01,  7.45it/s]"
     ]
    },
    {
     "name": "stdout",
     "output_type": "stream",
     "text": [
      "131.2646484375 71.39697265625\n"
     ]
    },
    {
     "name": "stderr",
     "output_type": "stream",
     "text": [
      " 96%|█████████▋| 78/81 [00:19<00:00,  5.43it/s]"
     ]
    },
    {
     "name": "stdout",
     "output_type": "stream",
     "text": [
      "131.2646484375 71.39697265625\n"
     ]
    },
    {
     "name": "stderr",
     "output_type": "stream",
     "text": [
      "100%|██████████| 81/81 [00:20<00:00,  4.00it/s]\n"
     ]
    },
    {
     "name": "stdout",
     "output_type": "stream",
     "text": [
      " 4 Define mapping between PRISMA LatLon and gMaps latlon\n",
      " 5 Map PRISMA Latlons to gMaps latlons (ransac affine) and save for reference\n",
      "Band 26 did not work\n",
      "# 1 create .tif file\n",
      "# 2 Download gmaps for the same location\n",
      "Image size (pix):  (1792, 1792)\n",
      "Tile coordinate top left (north-west) corner: 1048,568\n",
      " 3 Determine matched features in PRISMA image to gMaps image with SIFT\n"
     ]
    },
    {
     "name": "stderr",
     "output_type": "stream",
     "text": [
      "100%|██████████| 81/81 [01:23<00:00,  1.04s/it]\n"
     ]
    },
    {
     "name": "stdout",
     "output_type": "stream",
     "text": [
      "Band 27 did not work\n",
      "# 1 create .tif file\n",
      "# 2 Download gmaps for the same location\n",
      "Image size (pix):  (1792, 1792)\n",
      "Tile coordinate top left (north-west) corner: 1048,568\n",
      " 3 Determine matched features in PRISMA image to gMaps image with SIFT\n"
     ]
    },
    {
     "name": "stderr",
     "output_type": "stream",
     "text": [
      "100%|██████████| 81/81 [01:09<00:00,  1.16it/s]\n"
     ]
    },
    {
     "name": "stdout",
     "output_type": "stream",
     "text": [
      "Band 28 did not work\n",
      "# 1 create .tif file\n",
      "# 2 Download gmaps for the same location\n",
      "Image size (pix):  (1792, 1792)\n",
      "Tile coordinate top left (north-west) corner: 1048,568\n",
      " 3 Determine matched features in PRISMA image to gMaps image with SIFT\n"
     ]
    },
    {
     "name": "stderr",
     "output_type": "stream",
     "text": [
      "  1%|          | 1/81 [00:00<00:22,  3.56it/s]"
     ]
    },
    {
     "name": "stdout",
     "output_type": "stream",
     "text": [
      "131.5869140625 71.37451171875\n",
      "131.62255859375 71.380859375\n"
     ]
    },
    {
     "name": "stderr",
     "output_type": "stream",
     "text": [
      "  2%|▏         | 2/81 [00:00<00:31,  2.51it/s]"
     ]
    },
    {
     "name": "stdout",
     "output_type": "stream",
     "text": [
      "131.5986328125 71.400390625\n",
      "131.57568359375 71.3935546875\n",
      "131.5693359375 71.40869140625\n",
      "131.56884765625 71.392578125\n",
      "131.59814453125 71.39697265625\n",
      "131.56689453125 71.41015625\n",
      "131.60888671875 71.40087890625\n",
      "131.6142578125 71.4140625\n",
      "131.62255859375 71.380859375\n",
      "131.56884765625 71.392578125\n",
      "131.5732421875 71.392578125\n"
     ]
    },
    {
     "name": "stderr",
     "output_type": "stream",
     "text": [
      "  4%|▎         | 3/81 [00:01<00:34,  2.29it/s]"
     ]
    },
    {
     "name": "stdout",
     "output_type": "stream",
     "text": [
      "131.5986328125 71.400390625\n",
      "131.57568359375 71.3935546875\n",
      "131.5693359375 71.40869140625\n",
      "131.56884765625 71.392578125\n",
      "131.57080078125 71.42626953125\n",
      "131.59814453125 71.39697265625\n",
      "131.56689453125 71.41015625\n",
      "131.6142578125 71.4140625\n",
      "131.5810546875 71.46435546875\n",
      "131.56884765625 71.392578125\n",
      "131.5732421875 71.392578125\n"
     ]
    },
    {
     "name": "stderr",
     "output_type": "stream",
     "text": [
      "  5%|▍         | 4/81 [00:01<00:31,  2.43it/s]"
     ]
    },
    {
     "name": "stdout",
     "output_type": "stream",
     "text": [
      "131.578125 71.50244140625\n",
      "131.57861328125 71.486328125\n",
      "131.5712890625 71.49951171875\n",
      "131.5810546875 71.46435546875\n"
     ]
    },
    {
     "name": "stderr",
     "output_type": "stream",
     "text": [
      "  6%|▌         | 5/81 [00:02<00:33,  2.24it/s]"
     ]
    },
    {
     "name": "stdout",
     "output_type": "stream",
     "text": [
      "131.5673828125 71.54443359375\n",
      "131.57861328125 71.5087890625\n",
      "131.56494140625 71.54345703125\n",
      "131.578125 71.50244140625\n",
      "131.5693359375 71.52392578125\n",
      "131.57958984375 71.484375\n",
      "131.57861328125 71.486328125\n",
      "131.52197265625 71.5126953125\n",
      "131.55859375 71.53759765625\n",
      "131.5380859375 71.50732421875\n",
      "131.517578125 71.51123046875\n",
      "131.57373046875 71.5009765625\n",
      "131.56005859375 71.53662109375\n",
      "131.5712890625 71.49951171875\n",
      "131.58984375 71.47900390625\n",
      "131.576171875 71.50439453125\n",
      "131.57373046875 71.5009765625\n",
      "131.57861328125 71.48095703125\n",
      "131.55859375 71.53759765625\n",
      "131.55615234375 71.5361328125\n",
      "131.5380859375 71.50732421875\n",
      "131.517578125 71.51123046875\n"
     ]
    },
    {
     "name": "stderr",
     "output_type": "stream",
     "text": [
      "  7%|▋         | 6/81 [00:02<00:38,  1.97it/s]"
     ]
    },
    {
     "name": "stdout",
     "output_type": "stream",
     "text": [
      "131.5693359375 71.52392578125\n",
      "131.548828125 71.5732421875\n",
      "131.58203125 71.53125\n",
      "131.55859375 71.53759765625\n",
      "131.5419921875 71.58056640625\n",
      "131.54931640625 71.5615234375\n",
      "131.54248046875 71.5771484375\n",
      "131.529296875 71.5517578125\n",
      "131.5283203125 71.55078125\n",
      "131.525390625 71.55078125\n",
      "131.5380859375 71.50732421875\n",
      "131.5185546875 71.5458984375\n",
      "131.5234375 71.54638671875\n",
      "131.50537109375 71.55322265625\n",
      "131.517578125 71.51123046875\n",
      "131.56005859375 71.53662109375\n",
      "131.5390625 71.578125\n",
      "131.50830078125 71.54833984375\n",
      "131.53759765625 71.56689453125\n",
      "131.53369140625 71.5498046875\n",
      "131.56103515625 71.5712890625\n",
      "131.55859375 71.53759765625\n",
      "131.55615234375 71.5361328125\n",
      "131.5380859375 71.50732421875\n",
      "131.517578125 71.51123046875\n",
      "131.50830078125 71.54833984375\n"
     ]
    },
    {
     "name": "stderr",
     "output_type": "stream",
     "text": [
      "  9%|▊         | 7/81 [00:03<00:46,  1.59it/s]"
     ]
    },
    {
     "name": "stdout",
     "output_type": "stream",
     "text": [
      "131.53955078125 71.61669921875\n",
      "131.5390625 71.61865234375\n",
      "131.54931640625 71.58447265625\n",
      "131.548828125 71.5732421875\n",
      "131.54541015625 71.58251953125\n",
      "131.54052734375 71.58447265625\n",
      "131.5419921875 71.58056640625\n",
      "131.54931640625 71.5615234375\n",
      "131.54248046875 71.5771484375\n",
      "131.53759765625 71.57958984375\n",
      "131.51953125 71.58837890625\n",
      "131.5185546875 71.5869140625\n",
      "131.5166015625 71.58984375\n",
      "131.529296875 71.5517578125\n",
      "131.5283203125 71.55078125\n",
      "131.51806640625 71.580078125\n",
      "131.525390625 71.55078125\n",
      "131.50634765625 71.603515625\n",
      "131.5068359375 71.595703125\n",
      "131.5107421875 71.58056640625\n",
      "131.50537109375 71.59521484375\n",
      "131.51171875 71.5751953125\n",
      "131.509765625 71.57861328125\n",
      "131.5185546875 71.5458984375\n",
      "131.50537109375 71.55322265625\n",
      "131.49072265625 71.5888671875\n",
      "131.48779296875 71.59619140625\n",
      "131.5380859375 71.61376953125\n",
      "131.53564453125 71.61767578125\n",
      "131.5458984375 71.5810546875\n",
      "131.54345703125 71.57861328125\n",
      "131.546875 71.5615234375\n",
      "131.5390625 71.578125\n",
      "131.51611328125 71.58837890625\n",
      "131.513671875 71.5869140625\n",
      "131.5126953125 71.58203125\n",
      "131.51611328125 71.5712890625\n",
      "131.5048828125 71.59765625\n",
      "131.4951171875 71.595703125\n",
      "131.48828125 71.58935546875\n",
      "131.49072265625 71.5673828125\n",
      "131.48779296875 71.56982421875\n",
      "131.53759765625 71.56689453125\n",
      "131.5322265625 71.57666015625\n",
      "131.529296875 71.572265625\n",
      "131.51904296875 71.5830078125\n",
      "131.48876953125 71.59375\n",
      "131.48388671875 71.59033203125\n",
      "131.4970703125 71.57958984375\n",
      "131.56103515625 71.5712890625\n",
      "131.54443359375 71.5849609375\n",
      "131.529296875 71.572265625\n"
     ]
    },
    {
     "name": "stderr",
     "output_type": "stream",
     "text": [
      " 10%|▉         | 8/81 [00:04<00:50,  1.45it/s]"
     ]
    },
    {
     "name": "stdout",
     "output_type": "stream",
     "text": [
      "131.53955078125 71.61669921875\n",
      "131.5390625 71.61865234375\n",
      "131.51904296875 71.654296875\n",
      "131.54052734375 71.58447265625\n",
      "131.51953125 71.58837890625\n",
      "131.5185546875 71.5869140625\n",
      "131.5166015625 71.58984375\n",
      "131.51806640625 71.580078125\n",
      "131.50634765625 71.603515625\n",
      "131.50927734375 71.59326171875\n",
      "131.5107421875 71.58056640625\n",
      "131.50537109375 71.59521484375\n",
      "131.509765625 71.57861328125\n",
      "131.48486328125 71.60498046875\n",
      "131.49072265625 71.5888671875\n",
      "131.48779296875 71.59619140625\n",
      "131.48291015625 71.60888671875\n",
      "131.48095703125 71.6083984375\n",
      "131.4912109375 71.5693359375\n",
      "131.50048828125 71.65576171875\n",
      "131.47509765625 71.599609375\n",
      "131.5380859375 71.61962890625\n",
      "131.5380859375 71.61376953125\n",
      "131.51611328125 71.58837890625\n",
      "131.513671875 71.5869140625\n",
      "131.5126953125 71.58203125\n",
      "131.5048828125 71.59765625\n",
      "131.4951171875 71.595703125\n",
      "131.48779296875 71.6064453125\n",
      "131.4853515625 71.60693359375\n",
      "131.48828125 71.58935546875\n",
      "131.48828125 71.57275390625\n",
      "131.48779296875 71.56982421875\n",
      "131.49169921875 71.6103515625\n",
      "131.4833984375 71.59033203125\n",
      "131.50830078125 71.62060546875\n",
      "131.48291015625 71.60888671875\n"
     ]
    },
    {
     "name": "stderr",
     "output_type": "stream",
     "text": [
      " 11%|█         | 9/81 [00:05<00:47,  1.51it/s]"
     ]
    },
    {
     "name": "stdout",
     "output_type": "stream",
     "text": [
      "131.51904296875 71.6728515625\n",
      "131.51025390625 71.689453125\n",
      "131.51025390625 71.6865234375\n",
      "131.51904296875 71.654296875\n",
      "131.48291015625 71.60888671875\n",
      "131.45654296875 71.64404296875\n",
      "131.51220703125 71.68603515625\n",
      "131.513671875 71.65380859375\n",
      "131.509765625 71.65478515625\n",
      "131.5029296875 71.6572265625\n",
      "131.52783203125 71.6796875\n",
      "131.5078125 71.68212890625\n",
      "131.51904296875 71.6728515625\n",
      "131.509765625 71.697265625\n",
      "131.48291015625 71.60888671875\n"
     ]
    },
    {
     "name": "stderr",
     "output_type": "stream",
     "text": [
      " 12%|█▏        | 10/81 [00:05<00:38,  1.86it/s]"
     ]
    },
    {
     "name": "stdout",
     "output_type": "stream",
     "text": [
      "131.5869140625 71.37451171875\n",
      "131.54638671875 71.35888671875\n",
      "131.54833984375 71.35302734375\n"
     ]
    },
    {
     "name": "stderr",
     "output_type": "stream",
     "text": [
      " 14%|█▎        | 11/81 [00:05<00:33,  2.09it/s]"
     ]
    },
    {
     "name": "stdout",
     "output_type": "stream",
     "text": [
      "131.57568359375 71.3935546875\n",
      "131.5693359375 71.40869140625\n",
      "131.56884765625 71.392578125\n",
      "131.56689453125 71.41015625\n",
      "131.54638671875 71.35888671875\n",
      "131.5498046875 71.3720703125\n",
      "131.56884765625 71.392578125\n",
      "131.54833984375 71.35302734375\n",
      "131.5732421875 71.392578125\n"
     ]
    },
    {
     "name": "stderr",
     "output_type": "stream",
     "text": [
      " 15%|█▍        | 12/81 [00:05<00:29,  2.33it/s]"
     ]
    },
    {
     "name": "stdout",
     "output_type": "stream",
     "text": [
      "131.57568359375 71.3935546875\n",
      "131.5693359375 71.40869140625\n",
      "131.56884765625 71.392578125\n",
      "131.54638671875 71.416015625\n",
      "131.56689453125 71.41015625\n",
      "131.56884765625 71.392578125\n",
      "131.5732421875 71.392578125\n"
     ]
    },
    {
     "name": "stderr",
     "output_type": "stream",
     "text": [
      " 17%|█▋        | 14/81 [00:06<00:21,  3.12it/s]"
     ]
    },
    {
     "name": "stdout",
     "output_type": "stream",
     "text": [
      "131.55712890625 71.4267578125\n",
      "131.5380859375 71.50732421875\n",
      "131.517578125 71.51123046875\n",
      "131.5380859375 71.50732421875\n",
      "131.517578125 71.51123046875\n"
     ]
    },
    {
     "name": "stderr",
     "output_type": "stream",
     "text": [
      " 19%|█▊        | 15/81 [00:06<00:21,  3.07it/s]"
     ]
    },
    {
     "name": "stdout",
     "output_type": "stream",
     "text": [
      "131.51611328125 71.5712890625\n",
      "131.5380859375 71.50732421875\n",
      "131.5234375 71.54638671875\n",
      "131.50537109375 71.55322265625\n",
      "131.517578125 71.51123046875\n",
      "131.51513671875 71.55126953125\n",
      "131.5380859375 71.50732421875\n",
      "131.517578125 71.51123046875\n",
      "131.50830078125 71.54833984375\n"
     ]
    },
    {
     "name": "stderr",
     "output_type": "stream",
     "text": [
      " 20%|█▉        | 16/81 [00:07<00:25,  2.52it/s]"
     ]
    },
    {
     "name": "stdout",
     "output_type": "stream",
     "text": [
      "131.50634765625 71.603515625\n",
      "131.5068359375 71.595703125\n",
      "131.5107421875 71.58056640625\n",
      "131.50537109375 71.59521484375\n",
      "131.51171875 71.5751953125\n",
      "131.509765625 71.57861328125\n",
      "131.5185546875 71.5458984375\n",
      "131.50537109375 71.55322265625\n",
      "131.49072265625 71.5888671875\n",
      "131.48779296875 71.59619140625\n",
      "131.4912109375 71.5693359375\n",
      "131.5205078125 71.51318359375\n",
      "131.5048828125 71.59765625\n",
      "131.5029296875 71.5869140625\n",
      "131.4951171875 71.595703125\n",
      "131.48828125 71.58935546875\n",
      "131.49072265625 71.5673828125\n",
      "131.48828125 71.57275390625\n",
      "131.48779296875 71.56982421875\n",
      "131.45361328125 71.55224609375\n",
      "131.48876953125 71.59375\n",
      "131.4833984375 71.59033203125\n",
      "131.45556640625 71.5537109375\n",
      "131.4970703125 71.57958984375\n",
      "131.50244140625 71.609375\n",
      "131.50830078125 71.54833984375\n"
     ]
    },
    {
     "name": "stderr",
     "output_type": "stream",
     "text": [
      " 21%|██        | 17/81 [00:07<00:30,  2.10it/s]"
     ]
    },
    {
     "name": "stdout",
     "output_type": "stream",
     "text": [
      "131.50634765625 71.603515625\n",
      "131.5107421875 71.58056640625\n",
      "131.50537109375 71.59521484375\n",
      "131.509765625 71.57861328125\n",
      "131.48486328125 71.60498046875\n",
      "131.49072265625 71.5888671875\n",
      "131.48779296875 71.59619140625\n",
      "131.48291015625 71.60888671875\n",
      "131.48095703125 71.6083984375\n",
      "131.4912109375 71.5693359375\n",
      "131.46533203125 71.63671875\n",
      "131.47509765625 71.599609375\n",
      "131.44677734375 71.607421875\n",
      "131.4951171875 71.595703125\n",
      "131.48779296875 71.6064453125\n",
      "131.4853515625 71.60693359375\n",
      "131.48828125 71.58935546875\n",
      "131.48828125 71.57275390625\n",
      "131.48779296875 71.56982421875\n",
      "131.4482421875 71.60595703125\n",
      "131.44580078125 71.6123046875\n",
      "131.49169921875 71.6103515625\n",
      "131.48876953125 71.59375\n",
      "131.48388671875 71.59033203125\n",
      "131.48291015625 71.60888671875\n",
      "131.44775390625 71.6083984375\n",
      "131.4443359375 71.60986328125\n"
     ]
    },
    {
     "name": "stderr",
     "output_type": "stream",
     "text": [
      " 22%|██▏       | 18/81 [00:08<00:30,  2.05it/s]"
     ]
    },
    {
     "name": "stdout",
     "output_type": "stream",
     "text": [
      "131.48291015625 71.60888671875\n",
      "131.46533203125 71.63671875\n",
      "131.45654296875 71.64404296875\n",
      "131.4443359375 71.63916015625\n",
      "131.443359375 71.6376953125\n",
      "131.44677734375 71.607421875\n",
      "131.43505859375 71.63623046875\n",
      "131.4443359375 71.60986328125\n",
      "131.466796875 71.59912109375\n",
      "131.49462890625 71.61474609375\n",
      "131.4482421875 71.60595703125\n",
      "131.44580078125 71.6123046875\n",
      "131.48291015625 71.60888671875\n",
      "131.44775390625 71.6083984375\n",
      "131.4443359375 71.60986328125\n"
     ]
    },
    {
     "name": "stderr",
     "output_type": "stream",
     "text": [
      " 23%|██▎       | 19/81 [00:08<00:25,  2.47it/s]"
     ]
    },
    {
     "name": "stdout",
     "output_type": "stream",
     "text": [
      "131.54638671875 71.35888671875\n",
      "131.54833984375 71.35302734375\n"
     ]
    },
    {
     "name": "stderr",
     "output_type": "stream",
     "text": [
      " 26%|██▌       | 21/81 [00:09<00:18,  3.32it/s]"
     ]
    },
    {
     "name": "stdout",
     "output_type": "stream",
     "text": [
      "131.54833984375 71.35302734375\n"
     ]
    },
    {
     "name": "stderr",
     "output_type": "stream",
     "text": [
      " 30%|██▉       | 24/81 [00:09<00:11,  5.09it/s]"
     ]
    },
    {
     "name": "stdout",
     "output_type": "stream",
     "text": [
      "131.45361328125 71.55224609375\n"
     ]
    },
    {
     "name": "stderr",
     "output_type": "stream",
     "text": [
      " 31%|███       | 25/81 [00:09<00:11,  4.82it/s]"
     ]
    },
    {
     "name": "stdout",
     "output_type": "stream",
     "text": [
      "131.45361328125 71.55224609375\n",
      "131.45556640625 71.5537109375\n"
     ]
    },
    {
     "name": "stderr",
     "output_type": "stream",
     "text": [
      " 32%|███▏      | 26/81 [00:10<00:13,  4.11it/s]"
     ]
    },
    {
     "name": "stdout",
     "output_type": "stream",
     "text": [
      "131.44677734375 71.607421875\n",
      "131.4443359375 71.60986328125\n",
      "131.4482421875 71.60595703125\n",
      "131.44580078125 71.6123046875\n",
      "131.44775390625 71.6083984375\n",
      "131.4443359375 71.60986328125\n"
     ]
    },
    {
     "name": "stderr",
     "output_type": "stream",
     "text": [
      " 36%|███▌      | 29/81 [00:10<00:09,  5.74it/s]"
     ]
    },
    {
     "name": "stdout",
     "output_type": "stream",
     "text": [
      "131.4443359375 71.63916015625\n",
      "131.443359375 71.6376953125\n",
      "131.44677734375 71.607421875\n",
      "131.43505859375 71.63623046875\n",
      "131.4443359375 71.60986328125\n",
      "131.4287109375 71.63330078125\n",
      "131.4482421875 71.60595703125\n",
      "131.44580078125 71.6123046875\n",
      "131.44775390625 71.6083984375\n",
      "131.4443359375 71.60986328125\n",
      "131.45654296875 71.64404296875\n"
     ]
    },
    {
     "name": "stderr",
     "output_type": "stream",
     "text": [
      " 43%|████▎     | 35/81 [00:10<00:05,  8.67it/s]"
     ]
    },
    {
     "name": "stdout",
     "output_type": "stream",
     "text": [
      "131.45361328125 71.55224609375\n"
     ]
    },
    {
     "name": "stderr",
     "output_type": "stream",
     "text": [
      " 48%|████▊     | 39/81 [00:11<00:04, 10.39it/s]"
     ]
    },
    {
     "name": "stdout",
     "output_type": "stream",
     "text": [
      "131.46728515625 71.25244140625\n"
     ]
    },
    {
     "name": "stderr",
     "output_type": "stream",
     "text": [
      " 85%|████████▌ | 69/81 [00:14<00:01,  7.99it/s]"
     ]
    },
    {
     "name": "stdout",
     "output_type": "stream",
     "text": [
      "131.2646484375 71.39697265625\n"
     ]
    },
    {
     "name": "stderr",
     "output_type": "stream",
     "text": [
      " 96%|█████████▋| 78/81 [00:15<00:00,  7.34it/s]"
     ]
    },
    {
     "name": "stdout",
     "output_type": "stream",
     "text": [
      "131.2646484375 71.39697265625\n"
     ]
    },
    {
     "name": "stderr",
     "output_type": "stream",
     "text": [
      "100%|██████████| 81/81 [00:15<00:00,  5.15it/s]\n"
     ]
    },
    {
     "name": "stdout",
     "output_type": "stream",
     "text": [
      " 4 Define mapping between PRISMA LatLon and gMaps latlon\n",
      " 5 Map PRISMA Latlons to gMaps latlons (ransac affine) and save for reference\n",
      "Band 29 did not work\n",
      "# 1 create .tif file\n",
      "# 2 Download gmaps for the same location\n",
      "Image size (pix):  (1792, 1792)\n",
      "Tile coordinate top left (north-west) corner: 1048,568\n",
      " 3 Determine matched features in PRISMA image to gMaps image with SIFT\n"
     ]
    },
    {
     "name": "stderr",
     "output_type": "stream",
     "text": [
      "  1%|          | 1/81 [00:00<00:21,  3.69it/s]"
     ]
    },
    {
     "name": "stdout",
     "output_type": "stream",
     "text": [
      "131.58349609375 71.3740234375\n",
      "131.62255859375 71.380859375\n"
     ]
    },
    {
     "name": "stderr",
     "output_type": "stream",
     "text": [
      "  2%|▏         | 2/81 [00:00<00:32,  2.42it/s]"
     ]
    },
    {
     "name": "stdout",
     "output_type": "stream",
     "text": [
      "131.55712890625 71.4267578125\n",
      "131.58349609375 71.3740234375\n",
      "131.5693359375 71.40869140625\n",
      "131.56884765625 71.392578125\n",
      "131.59814453125 71.39697265625\n",
      "131.56689453125 71.41015625\n",
      "131.56005859375 71.40869140625\n",
      "131.60888671875 71.40087890625\n",
      "131.6142578125 71.4140625\n",
      "131.62255859375 71.380859375\n",
      "131.5986328125 71.400390625\n",
      "131.56884765625 71.392578125\n",
      "131.5732421875 71.392578125\n",
      "131.56005859375 71.40869140625\n"
     ]
    },
    {
     "name": "stderr",
     "output_type": "stream",
     "text": [
      "  4%|▎         | 3/81 [00:01<00:35,  2.17it/s]"
     ]
    },
    {
     "name": "stdout",
     "output_type": "stream",
     "text": [
      "131.6025390625 71.3955078125\n",
      "131.5693359375 71.40869140625\n",
      "131.56884765625 71.392578125\n",
      "131.59814453125 71.39697265625\n",
      "131.56689453125 71.41015625\n",
      "131.56005859375 71.40869140625\n",
      "131.61083984375 71.392578125\n",
      "131.6142578125 71.4140625\n",
      "131.5810546875 71.46435546875\n",
      "131.5986328125 71.400390625\n",
      "131.56884765625 71.392578125\n",
      "131.5732421875 71.392578125\n",
      "131.56005859375 71.40869140625\n"
     ]
    },
    {
     "name": "stderr",
     "output_type": "stream",
     "text": [
      "  5%|▍         | 4/81 [00:01<00:33,  2.28it/s]"
     ]
    },
    {
     "name": "stdout",
     "output_type": "stream",
     "text": [
      "131.58544921875 71.48291015625\n",
      "131.57666015625 71.50146484375\n",
      "131.5732421875 71.47119140625\n",
      "131.5654296875 71.49365234375\n",
      "131.5712890625 71.49951171875\n",
      "131.59033203125 71.478515625\n",
      "131.57373046875 71.5009765625\n",
      "131.5810546875 71.46435546875\n"
     ]
    },
    {
     "name": "stderr",
     "output_type": "stream",
     "text": [
      "  6%|▌         | 5/81 [00:02<00:33,  2.26it/s]"
     ]
    },
    {
     "name": "stdout",
     "output_type": "stream",
     "text": [
      "131.5673828125 71.54443359375\n",
      "131.57861328125 71.5087890625\n",
      "131.58544921875 71.48291015625\n",
      "131.5693359375 71.52392578125\n",
      "131.57666015625 71.50146484375\n",
      "131.57958984375 71.484375\n",
      "131.55859375 71.53759765625\n",
      "131.5654296875 71.49365234375\n",
      "131.52197265625 71.5126953125\n",
      "131.517578125 71.51123046875\n",
      "131.56005859375 71.53662109375\n",
      "131.5712890625 71.49951171875\n",
      "131.58984375 71.47900390625\n",
      "131.576171875 71.50439453125\n",
      "131.57373046875 71.5009765625\n",
      "131.57861328125 71.486328125\n",
      "131.57861328125 71.48095703125\n",
      "131.55615234375 71.5361328125\n",
      "131.5380859375 71.50732421875\n"
     ]
    },
    {
     "name": "stderr",
     "output_type": "stream",
     "text": [
      "  7%|▋         | 6/81 [00:02<00:37,  1.99it/s]"
     ]
    },
    {
     "name": "stdout",
     "output_type": "stream",
     "text": [
      "131.5693359375 71.52392578125\n",
      "131.548828125 71.5732421875\n",
      "131.55859375 71.53759765625\n",
      "131.5419921875 71.58056640625\n",
      "131.54931640625 71.5615234375\n",
      "131.54248046875 71.5771484375\n",
      "131.529296875 71.57421875\n",
      "131.5263671875 71.5537109375\n",
      "131.525390625 71.55078125\n",
      "131.52197265625 71.5126953125\n",
      "131.5205078125 71.51318359375\n",
      "131.50537109375 71.55322265625\n",
      "131.517578125 71.51123046875\n",
      "131.5576171875 71.57275390625\n",
      "131.54833984375 71.57666015625\n",
      "131.56005859375 71.53662109375\n",
      "131.5390625 71.578125\n",
      "131.51513671875 71.55126953125\n",
      "131.529296875 71.572265625\n",
      "131.55615234375 71.5361328125\n",
      "131.5283203125 71.55078125\n",
      "131.53759765625 71.56689453125\n",
      "131.50830078125 71.54833984375\n"
     ]
    },
    {
     "name": "stderr",
     "output_type": "stream",
     "text": [
      "  9%|▊         | 7/81 [00:03<00:47,  1.57it/s]"
     ]
    },
    {
     "name": "stdout",
     "output_type": "stream",
     "text": [
      "131.53955078125 71.61669921875\n",
      "131.54931640625 71.58447265625\n",
      "131.548828125 71.5732421875\n",
      "131.54541015625 71.58251953125\n",
      "131.5419921875 71.58056640625\n",
      "131.54052734375 71.58447265625\n",
      "131.54931640625 71.5615234375\n",
      "131.54248046875 71.5771484375\n",
      "131.529296875 71.57421875\n",
      "131.51953125 71.58837890625\n",
      "131.5185546875 71.5869140625\n",
      "131.51806640625 71.580078125\n",
      "131.5263671875 71.5537109375\n",
      "131.525390625 71.55078125\n",
      "131.50634765625 71.603515625\n",
      "131.50927734375 71.59326171875\n",
      "131.5068359375 71.595703125\n",
      "131.5107421875 71.58056640625\n",
      "131.50537109375 71.59521484375\n",
      "131.51171875 71.5751953125\n",
      "131.509765625 71.57861328125\n",
      "131.49462890625 71.6064453125\n",
      "131.50537109375 71.55322265625\n",
      "131.49072265625 71.5888671875\n",
      "131.48779296875 71.59619140625\n",
      "131.47607421875 71.59228515625\n",
      "131.5576171875 71.57275390625\n",
      "131.5380859375 71.61376953125\n",
      "131.54833984375 71.57666015625\n",
      "131.5458984375 71.5810546875\n",
      "131.54345703125 71.57861328125\n",
      "131.546875 71.5615234375\n",
      "131.5390625 71.578125\n",
      "131.51611328125 71.58837890625\n",
      "131.513671875 71.5869140625\n",
      "131.5126953125 71.58203125\n",
      "131.51611328125 71.5712890625\n",
      "131.5048828125 71.59765625\n",
      "131.5029296875 71.5869140625\n",
      "131.4951171875 71.595703125\n",
      "131.48828125 71.58935546875\n",
      "131.49072265625 71.5673828125\n",
      "131.48779296875 71.56982421875\n",
      "131.5322265625 71.57666015625\n",
      "131.529296875 71.572265625\n",
      "131.51904296875 71.5830078125\n",
      "131.50927734375 71.58984375\n",
      "131.48876953125 71.59375\n",
      "131.48388671875 71.59033203125\n",
      "131.52685546875 71.5615234375\n",
      "131.53369140625 71.54931640625\n",
      "131.4970703125 71.57958984375\n",
      "131.5419921875 71.58056640625\n",
      "131.5283203125 71.55078125\n",
      "131.4912109375 71.5908203125\n",
      "131.54443359375 71.5849609375\n",
      "131.53759765625 71.56689453125\n",
      "131.529296875 71.572265625\n"
     ]
    },
    {
     "name": "stderr",
     "output_type": "stream",
     "text": [
      " 10%|▉         | 8/81 [00:04<00:51,  1.43it/s]"
     ]
    },
    {
     "name": "stdout",
     "output_type": "stream",
     "text": [
      "131.53955078125 71.61669921875\n",
      "131.51904296875 71.654296875\n",
      "131.54052734375 71.58447265625\n",
      "131.51953125 71.58837890625\n",
      "131.5185546875 71.5869140625\n",
      "131.51806640625 71.580078125\n",
      "131.50634765625 71.603515625\n",
      "131.50927734375 71.59326171875\n",
      "131.5107421875 71.58056640625\n",
      "131.50537109375 71.59521484375\n",
      "131.509765625 71.57861328125\n",
      "131.51611328125 71.5712890625\n",
      "131.49462890625 71.6064453125\n",
      "131.48486328125 71.60498046875\n",
      "131.49072265625 71.5888671875\n",
      "131.48779296875 71.59619140625\n",
      "131.48291015625 71.60888671875\n",
      "131.48095703125 71.6083984375\n",
      "131.5361328125 71.654296875\n",
      "131.4912109375 71.5693359375\n",
      "131.50048828125 71.65576171875\n",
      "131.47509765625 71.599609375\n",
      "131.47607421875 71.59228515625\n",
      "131.5380859375 71.61962890625\n",
      "131.5380859375 71.61376953125\n",
      "131.52490234375 71.61474609375\n",
      "131.51611328125 71.58837890625\n",
      "131.513671875 71.5869140625\n",
      "131.5126953125 71.58203125\n",
      "131.5048828125 71.59765625\n",
      "131.49462890625 71.61474609375\n",
      "131.4951171875 71.595703125\n",
      "131.48779296875 71.6064453125\n",
      "131.4853515625 71.60693359375\n",
      "131.48828125 71.58935546875\n",
      "131.48828125 71.57275390625\n",
      "131.48779296875 71.56982421875\n",
      "131.50927734375 71.58984375\n",
      "131.49169921875 71.6103515625\n",
      "131.48876953125 71.59375\n",
      "131.4833984375 71.59033203125\n",
      "131.50830078125 71.62060546875\n",
      "131.4912109375 71.5908203125\n",
      "131.48291015625 71.60888671875\n",
      "131.50830078125 71.62060546875\n"
     ]
    },
    {
     "name": "stderr",
     "output_type": "stream",
     "text": [
      " 11%|█         | 9/81 [00:05<00:48,  1.50it/s]"
     ]
    },
    {
     "name": "stdout",
     "output_type": "stream",
     "text": [
      "131.5361328125 71.654296875\n",
      "131.51904296875 71.6728515625\n",
      "131.51025390625 71.689453125\n",
      "131.51025390625 71.6865234375\n",
      "131.51904296875 71.654296875\n",
      "131.48779296875 71.65576171875\n",
      "131.48388671875 71.65283203125\n",
      "131.48291015625 71.60888671875\n",
      "131.45654296875 71.64404296875\n",
      "131.51220703125 71.68603515625\n",
      "131.513671875 71.65380859375\n",
      "131.5029296875 71.6572265625\n",
      "131.52783203125 71.6796875\n",
      "131.521484375 71.673828125\n",
      "131.51416015625 71.66748046875\n",
      "131.51904296875 71.6728515625\n",
      "131.48291015625 71.60888671875\n",
      "131.513671875 71.65380859375\n"
     ]
    },
    {
     "name": "stderr",
     "output_type": "stream",
     "text": [
      " 12%|█▏        | 10/81 [00:05<00:38,  1.86it/s]"
     ]
    },
    {
     "name": "stdout",
     "output_type": "stream",
     "text": [
      "131.58349609375 71.3740234375\n",
      "131.54833984375 71.35302734375\n",
      "131.54638671875 71.35888671875\n"
     ]
    },
    {
     "name": "stderr",
     "output_type": "stream",
     "text": [
      " 14%|█▎        | 11/81 [00:05<00:33,  2.08it/s]"
     ]
    },
    {
     "name": "stdout",
     "output_type": "stream",
     "text": [
      "131.58349609375 71.3740234375\n",
      "131.56884765625 71.392578125\n",
      "131.54833984375 71.35302734375\n",
      "131.56689453125 71.41015625\n",
      "131.56005859375 71.40869140625\n",
      "131.54638671875 71.35888671875\n",
      "131.5498046875 71.3720703125\n",
      "131.56884765625 71.392578125\n",
      "131.5732421875 71.392578125\n",
      "131.56005859375 71.40869140625\n"
     ]
    },
    {
     "name": "stderr",
     "output_type": "stream",
     "text": [
      " 15%|█▍        | 12/81 [00:06<00:30,  2.29it/s]"
     ]
    },
    {
     "name": "stdout",
     "output_type": "stream",
     "text": [
      "131.5693359375 71.40869140625\n",
      "131.55712890625 71.4267578125\n",
      "131.56884765625 71.392578125\n",
      "131.56689453125 71.41015625\n",
      "131.56005859375 71.40869140625\n",
      "131.56884765625 71.392578125\n",
      "131.5732421875 71.392578125\n",
      "131.56005859375 71.40869140625\n"
     ]
    },
    {
     "name": "stderr",
     "output_type": "stream",
     "text": [
      " 16%|█▌        | 13/81 [00:06<00:25,  2.65it/s]"
     ]
    },
    {
     "name": "stdout",
     "output_type": "stream",
     "text": [
      "131.56982421875 71.427734375\n",
      "131.55712890625 71.4267578125\n"
     ]
    },
    {
     "name": "stderr",
     "output_type": "stream",
     "text": [
      " 17%|█▋        | 14/81 [00:06<00:22,  3.01it/s]"
     ]
    },
    {
     "name": "stdout",
     "output_type": "stream",
     "text": [
      "131.52197265625 71.5126953125\n",
      "131.5302734375 71.48583984375\n",
      "131.5205078125 71.51318359375\n",
      "131.517578125 71.51123046875\n"
     ]
    },
    {
     "name": "stderr",
     "output_type": "stream",
     "text": [
      " 19%|█▊        | 15/81 [00:06<00:22,  2.88it/s]"
     ]
    },
    {
     "name": "stdout",
     "output_type": "stream",
     "text": [
      "131.52197265625 71.5126953125\n",
      "131.5234375 71.54638671875\n",
      "131.50537109375 71.55322265625\n",
      "131.517578125 71.51123046875\n",
      "131.51513671875 71.55126953125\n",
      "131.50830078125 71.54833984375\n"
     ]
    },
    {
     "name": "stderr",
     "output_type": "stream",
     "text": [
      " 20%|█▉        | 16/81 [00:07<00:26,  2.43it/s]"
     ]
    },
    {
     "name": "stdout",
     "output_type": "stream",
     "text": [
      "131.50634765625 71.603515625\n",
      "131.50927734375 71.59326171875\n",
      "131.5068359375 71.595703125\n",
      "131.5107421875 71.58056640625\n",
      "131.50537109375 71.59521484375\n",
      "131.51171875 71.5751953125\n",
      "131.509765625 71.57861328125\n",
      "131.49462890625 71.6064453125\n",
      "131.50537109375 71.55322265625\n",
      "131.4912109375 71.5908203125\n",
      "131.49072265625 71.5888671875\n",
      "131.48779296875 71.59619140625\n",
      "131.4912109375 71.5693359375\n",
      "131.47607421875 71.59228515625\n",
      "131.5205078125 71.51318359375\n",
      "131.5048828125 71.59765625\n",
      "131.5029296875 71.5869140625\n",
      "131.4951171875 71.595703125\n",
      "131.48828125 71.58935546875\n",
      "131.49072265625 71.5673828125\n",
      "131.48828125 71.57275390625\n",
      "131.48779296875 71.56982421875\n",
      "131.45361328125 71.55224609375\n",
      "131.48876953125 71.59375\n",
      "131.4833984375 71.59033203125\n",
      "131.4970703125 71.57958984375\n",
      "131.4912109375 71.5908203125\n",
      "131.50830078125 71.54833984375\n",
      "131.45556640625 71.5537109375\n"
     ]
    },
    {
     "name": "stderr",
     "output_type": "stream",
     "text": [
      " 21%|██        | 17/81 [00:08<00:32,  2.00it/s]"
     ]
    },
    {
     "name": "stdout",
     "output_type": "stream",
     "text": [
      "131.50634765625 71.603515625\n",
      "131.50927734375 71.59326171875\n",
      "131.5107421875 71.58056640625\n",
      "131.50537109375 71.59521484375\n",
      "131.509765625 71.57861328125\n",
      "131.49462890625 71.6064453125\n",
      "131.4912109375 71.5908203125\n",
      "131.48486328125 71.60498046875\n",
      "131.49072265625 71.5888671875\n",
      "131.48779296875 71.59619140625\n",
      "131.48291015625 71.60888671875\n",
      "131.48095703125 71.6083984375\n",
      "131.4912109375 71.5693359375\n",
      "131.46533203125 71.63671875\n",
      "131.47509765625 71.599609375\n",
      "131.47607421875 71.59228515625\n",
      "131.44677734375 71.607421875\n",
      "131.5048828125 71.59765625\n",
      "131.49462890625 71.61474609375\n",
      "131.4951171875 71.595703125\n",
      "131.48779296875 71.6064453125\n",
      "131.4853515625 71.60693359375\n",
      "131.48828125 71.58935546875\n",
      "131.48828125 71.57275390625\n",
      "131.48779296875 71.56982421875\n",
      "131.4482421875 71.60595703125\n",
      "131.44580078125 71.6123046875\n",
      "131.49169921875 71.6103515625\n",
      "131.48876953125 71.59375\n",
      "131.48388671875 71.59033203125\n",
      "131.4873046875 71.60009765625\n",
      "131.4912109375 71.5908203125\n",
      "131.48291015625 71.60888671875\n",
      "131.44775390625 71.6103515625\n",
      "131.44775390625 71.6083984375\n"
     ]
    },
    {
     "name": "stderr",
     "output_type": "stream",
     "text": [
      " 22%|██▏       | 18/81 [00:08<00:31,  2.00it/s]"
     ]
    },
    {
     "name": "stdout",
     "output_type": "stream",
     "text": [
      "131.48779296875 71.65576171875\n",
      "131.48388671875 71.65283203125\n",
      "131.48291015625 71.60888671875\n",
      "131.46533203125 71.63671875\n",
      "131.45654296875 71.64404296875\n",
      "131.4443359375 71.63916015625\n",
      "131.44677734375 71.607421875\n",
      "131.43505859375 71.63623046875\n",
      "131.49462890625 71.61474609375\n",
      "131.4482421875 71.60595703125\n",
      "131.44580078125 71.6123046875\n",
      "131.48291015625 71.60888671875\n",
      "131.44775390625 71.6103515625\n",
      "131.44775390625 71.6083984375\n"
     ]
    },
    {
     "name": "stderr",
     "output_type": "stream",
     "text": [
      " 23%|██▎       | 19/81 [00:08<00:25,  2.44it/s]"
     ]
    },
    {
     "name": "stdout",
     "output_type": "stream",
     "text": [
      "131.54833984375 71.35302734375\n",
      "131.54638671875 71.35888671875\n"
     ]
    },
    {
     "name": "stderr",
     "output_type": "stream",
     "text": [
      " 26%|██▌       | 21/81 [00:09<00:17,  3.34it/s]"
     ]
    },
    {
     "name": "stdout",
     "output_type": "stream",
     "text": [
      "131.54833984375 71.35302734375\n"
     ]
    },
    {
     "name": "stderr",
     "output_type": "stream",
     "text": [
      " 30%|██▉       | 24/81 [00:09<00:10,  5.34it/s]"
     ]
    },
    {
     "name": "stdout",
     "output_type": "stream",
     "text": [
      "131.45361328125 71.55224609375\n"
     ]
    },
    {
     "name": "stderr",
     "output_type": "stream",
     "text": [
      " 31%|███       | 25/81 [00:09<00:11,  5.00it/s]"
     ]
    },
    {
     "name": "stdout",
     "output_type": "stream",
     "text": [
      "131.4560546875 71.55126953125\n",
      "131.45361328125 71.55224609375\n",
      "131.45556640625 71.5537109375\n"
     ]
    },
    {
     "name": "stderr",
     "output_type": "stream",
     "text": [
      " 32%|███▏      | 26/81 [00:10<00:13,  4.23it/s]"
     ]
    },
    {
     "name": "stdout",
     "output_type": "stream",
     "text": [
      "131.44677734375 71.607421875\n",
      "131.4482421875 71.60595703125\n",
      "131.44580078125 71.6123046875\n",
      "131.4287109375 71.63330078125\n",
      "131.44775390625 71.6103515625\n",
      "131.44775390625 71.6083984375\n"
     ]
    },
    {
     "name": "stderr",
     "output_type": "stream",
     "text": [
      " 36%|███▌      | 29/81 [00:10<00:09,  5.70it/s]"
     ]
    },
    {
     "name": "stdout",
     "output_type": "stream",
     "text": [
      "131.44580078125 71.638671875\n",
      "131.4443359375 71.63916015625\n",
      "131.44677734375 71.607421875\n",
      "131.43505859375 71.63623046875\n",
      "131.4443359375 71.60986328125\n",
      "131.4287109375 71.63330078125\n",
      "131.42822265625 71.63134765625\n",
      "131.4482421875 71.60595703125\n",
      "131.44580078125 71.6123046875\n",
      "131.44775390625 71.6103515625\n",
      "131.44775390625 71.6083984375\n",
      "131.45654296875 71.64404296875\n"
     ]
    },
    {
     "name": "stderr",
     "output_type": "stream",
     "text": [
      " 43%|████▎     | 35/81 [00:11<00:05,  8.54it/s]"
     ]
    },
    {
     "name": "stdout",
     "output_type": "stream",
     "text": [
      "131.45361328125 71.55224609375\n"
     ]
    },
    {
     "name": "stderr",
     "output_type": "stream",
     "text": [
      " 47%|████▋     | 38/81 [00:11<00:04,  8.70it/s]"
     ]
    },
    {
     "name": "stdout",
     "output_type": "stream",
     "text": [
      "131.46728515625 71.25244140625\n"
     ]
    },
    {
     "name": "stderr",
     "output_type": "stream",
     "text": [
      " 85%|████████▌ | 69/81 [00:14<00:01,  6.74it/s]"
     ]
    },
    {
     "name": "stdout",
     "output_type": "stream",
     "text": [
      "131.2646484375 71.39697265625\n"
     ]
    },
    {
     "name": "stderr",
     "output_type": "stream",
     "text": [
      " 96%|█████████▋| 78/81 [00:15<00:00,  6.66it/s]"
     ]
    },
    {
     "name": "stdout",
     "output_type": "stream",
     "text": [
      "131.2646484375 71.39697265625\n"
     ]
    },
    {
     "name": "stderr",
     "output_type": "stream",
     "text": [
      "100%|██████████| 81/81 [00:16<00:00,  4.95it/s]\n"
     ]
    },
    {
     "name": "stdout",
     "output_type": "stream",
     "text": [
      " 4 Define mapping between PRISMA LatLon and gMaps latlon\n",
      " 5 Map PRISMA Latlons to gMaps latlons (ransac affine) and save for reference\n",
      "Band 30 did not work\n",
      "# 1 create .tif file\n",
      "# 2 Download gmaps for the same location\n",
      "Image size (pix):  (1792, 1792)\n",
      "Tile coordinate top left (north-west) corner: 1048,568\n",
      " 3 Determine matched features in PRISMA image to gMaps image with SIFT\n"
     ]
    },
    {
     "name": "stderr",
     "output_type": "stream",
     "text": [
      "  1%|          | 1/81 [00:00<00:22,  3.58it/s]"
     ]
    },
    {
     "name": "stdout",
     "output_type": "stream",
     "text": [
      "131.58544921875 71.3759765625\n",
      "131.58349609375 71.3740234375\n",
      "131.62255859375 71.380859375\n"
     ]
    },
    {
     "name": "stderr",
     "output_type": "stream",
     "text": [
      "  2%|▏         | 2/81 [00:00<00:32,  2.44it/s]"
     ]
    },
    {
     "name": "stdout",
     "output_type": "stream",
     "text": [
      "131.55712890625 71.4267578125\n",
      "131.58544921875 71.3759765625\n",
      "131.58349609375 71.3740234375\n",
      "131.56884765625 71.392578125\n",
      "131.59814453125 71.39697265625\n",
      "131.56689453125 71.41015625\n",
      "131.60888671875 71.40087890625\n",
      "131.5986328125 71.400390625\n",
      "131.56884765625 71.392578125\n",
      "131.5732421875 71.392578125\n"
     ]
    },
    {
     "name": "stderr",
     "output_type": "stream",
     "text": [
      "  4%|▎         | 3/81 [00:01<00:35,  2.21it/s]"
     ]
    },
    {
     "name": "stdout",
     "output_type": "stream",
     "text": [
      "131.6025390625 71.3955078125\n",
      "131.5693359375 71.40869140625\n",
      "131.56884765625 71.392578125\n",
      "131.59814453125 71.39697265625\n",
      "131.56689453125 71.41015625\n",
      "131.60888671875 71.40087890625\n",
      "131.5810546875 71.46435546875\n",
      "131.5986328125 71.400390625\n",
      "131.56884765625 71.392578125\n",
      "131.5732421875 71.392578125\n"
     ]
    },
    {
     "name": "stderr",
     "output_type": "stream",
     "text": [
      "  5%|▍         | 4/81 [00:01<00:34,  2.24it/s]"
     ]
    },
    {
     "name": "stdout",
     "output_type": "stream",
     "text": [
      "131.58056640625 71.5048828125\n",
      "131.58544921875 71.48291015625\n",
      "131.57666015625 71.50146484375\n",
      "131.58642578125 71.46923828125\n",
      "131.57373046875 71.5009765625\n",
      "131.57861328125 71.486328125\n",
      "131.5810546875 71.46240234375\n",
      "131.56591796875 71.4970703125\n",
      "131.5732421875 71.47119140625\n",
      "131.5654296875 71.49365234375\n",
      "131.5712890625 71.49951171875\n",
      "131.57373046875 71.5009765625\n",
      "131.57861328125 71.48095703125\n",
      "131.5810546875 71.46435546875\n"
     ]
    },
    {
     "name": "stderr",
     "output_type": "stream",
     "text": [
      "  6%|▌         | 5/81 [00:02<00:34,  2.23it/s]"
     ]
    },
    {
     "name": "stdout",
     "output_type": "stream",
     "text": [
      "131.58056640625 71.5048828125\n",
      "131.57861328125 71.5087890625\n",
      "131.58544921875 71.48291015625\n",
      "131.57666015625 71.50146484375\n",
      "131.57373046875 71.5009765625\n",
      "131.57861328125 71.486328125\n",
      "131.564453125 71.52587890625\n",
      "131.55859375 71.53759765625\n",
      "131.56591796875 71.4970703125\n",
      "131.5732421875 71.47119140625\n",
      "131.5654296875 71.49365234375\n",
      "131.52197265625 71.5126953125\n",
      "131.5205078125 71.51318359375\n",
      "131.56005859375 71.53662109375\n",
      "131.5712890625 71.49951171875\n",
      "131.58984375 71.47900390625\n",
      "131.57373046875 71.5009765625\n",
      "131.57861328125 71.48095703125\n",
      "131.55615234375 71.5361328125\n",
      "131.5380859375 71.50732421875\n"
     ]
    },
    {
     "name": "stderr",
     "output_type": "stream",
     "text": [
      "  7%|▋         | 6/81 [00:02<00:38,  1.93it/s]"
     ]
    },
    {
     "name": "stdout",
     "output_type": "stream",
     "text": [
      "131.548828125 71.5732421875\n",
      "131.546875 71.5751953125\n",
      "131.564453125 71.52587890625\n",
      "131.5458984375 71.57666015625\n",
      "131.55859375 71.53759765625\n",
      "131.5419921875 71.58056640625\n",
      "131.54248046875 71.5771484375\n",
      "131.5263671875 71.5537109375\n",
      "131.52197265625 71.5126953125\n",
      "131.5205078125 71.51318359375\n",
      "131.50537109375 71.55322265625\n",
      "131.5576171875 71.57275390625\n",
      "131.54833984375 71.57666015625\n",
      "131.56005859375 71.53662109375\n",
      "131.54638671875 71.57275390625\n",
      "131.5390625 71.578125\n",
      "131.51513671875 71.55126953125\n",
      "131.529296875 71.572265625\n",
      "131.53369140625 71.5498046875\n",
      "131.5498046875 71.56494140625\n",
      "131.55615234375 71.5361328125\n",
      "131.55126953125 71.56591796875\n",
      "131.50830078125 71.54833984375\n"
     ]
    },
    {
     "name": "stderr",
     "output_type": "stream",
     "text": [
      "  9%|▊         | 7/81 [00:03<00:48,  1.54it/s]"
     ]
    },
    {
     "name": "stdout",
     "output_type": "stream",
     "text": [
      "131.53955078125 71.61669921875\n",
      "131.54931640625 71.58447265625\n",
      "131.5478515625 71.58251953125\n",
      "131.548828125 71.5732421875\n",
      "131.54541015625 71.58251953125\n",
      "131.546875 71.5751953125\n",
      "131.5458984375 71.57666015625\n",
      "131.5419921875 71.58056640625\n",
      "131.54052734375 71.58447265625\n",
      "131.54248046875 71.5771484375\n",
      "131.51953125 71.58837890625\n",
      "131.51806640625 71.580078125\n",
      "131.5263671875 71.5537109375\n",
      "131.50634765625 71.603515625\n",
      "131.50927734375 71.59326171875\n",
      "131.5048828125 71.60205078125\n",
      "131.5068359375 71.595703125\n",
      "131.5107421875 71.58056640625\n",
      "131.50537109375 71.59521484375\n",
      "131.509765625 71.57861328125\n",
      "131.49462890625 71.6064453125\n",
      "131.49072265625 71.5888671875\n",
      "131.48779296875 71.59619140625\n",
      "131.48828125 71.5673828125\n",
      "131.47607421875 71.59228515625\n",
      "131.5576171875 71.57275390625\n",
      "131.54833984375 71.57666015625\n",
      "131.5458984375 71.5810546875\n",
      "131.54638671875 71.57275390625\n",
      "131.54345703125 71.57861328125\n",
      "131.5390625 71.578125\n",
      "131.52783203125 71.57666015625\n",
      "131.51611328125 71.58837890625\n",
      "131.513671875 71.5869140625\n",
      "131.5126953125 71.58203125\n",
      "131.51611328125 71.5712890625\n",
      "131.4951171875 71.595703125\n",
      "131.48828125 71.58935546875\n",
      "131.49072265625 71.5673828125\n",
      "131.48779296875 71.56982421875\n",
      "131.5322265625 71.57666015625\n",
      "131.529296875 71.572265625\n",
      "131.51904296875 71.5830078125\n",
      "131.50927734375 71.58984375\n",
      "131.50048828125 71.5966796875\n",
      "131.48876953125 71.59375\n",
      "131.48388671875 71.59033203125\n",
      "131.53369140625 71.54931640625\n",
      "131.4970703125 71.57958984375\n",
      "131.5498046875 71.56494140625\n",
      "131.5419921875 71.58056640625\n",
      "131.55126953125 71.56591796875\n",
      "131.5029296875 71.5869140625\n",
      "131.54443359375 71.5849609375\n",
      "131.529296875 71.572265625\n"
     ]
    },
    {
     "name": "stderr",
     "output_type": "stream",
     "text": [
      " 10%|▉         | 8/81 [00:04<00:52,  1.39it/s]"
     ]
    },
    {
     "name": "stdout",
     "output_type": "stream",
     "text": [
      "131.53955078125 71.61669921875\n",
      "131.54052734375 71.58447265625\n",
      "131.50830078125 71.62646484375\n",
      "131.51953125 71.58837890625\n",
      "131.50634765625 71.603515625\n",
      "131.50927734375 71.59326171875\n",
      "131.5048828125 71.60205078125\n",
      "131.5068359375 71.595703125\n",
      "131.5107421875 71.58056640625\n",
      "131.50537109375 71.59521484375\n",
      "131.509765625 71.57861328125\n",
      "131.49462890625 71.6064453125\n",
      "131.48486328125 71.60498046875\n",
      "131.49072265625 71.5888671875\n",
      "131.48779296875 71.59619140625\n",
      "131.48291015625 71.60888671875\n",
      "131.48095703125 71.6083984375\n",
      "131.48291015625 71.6025390625\n",
      "131.4912109375 71.5693359375\n",
      "131.466796875 71.6376953125\n",
      "131.48828125 71.5673828125\n",
      "131.50048828125 71.65576171875\n",
      "131.47509765625 71.599609375\n",
      "131.47607421875 71.59228515625\n",
      "131.5380859375 71.61962890625\n",
      "131.52734375 71.61865234375\n",
      "131.51611328125 71.58837890625\n",
      "131.513671875 71.5869140625\n",
      "131.5126953125 71.58203125\n",
      "131.49462890625 71.61474609375\n",
      "131.4951171875 71.595703125\n",
      "131.4853515625 71.60693359375\n",
      "131.48828125 71.58935546875\n",
      "131.48779296875 71.56982421875\n",
      "131.50927734375 71.58984375\n",
      "131.50048828125 71.5966796875\n",
      "131.49169921875 71.6103515625\n",
      "131.4833984375 71.59033203125\n",
      "131.50830078125 71.62060546875\n",
      "131.52685546875 71.6484375\n",
      "131.4912109375 71.5908203125\n",
      "131.48291015625 71.60888671875\n",
      "131.50830078125 71.62060546875\n"
     ]
    },
    {
     "name": "stderr",
     "output_type": "stream",
     "text": [
      " 11%|█         | 9/81 [00:05<00:49,  1.46it/s]"
     ]
    },
    {
     "name": "stdout",
     "output_type": "stream",
     "text": [
      "131.51904296875 71.6728515625\n",
      "131.49462890625 71.68359375\n",
      "131.50830078125 71.62646484375\n",
      "131.4853515625 71.65283203125\n",
      "131.48486328125 71.6513671875\n",
      "131.48388671875 71.65283203125\n",
      "131.48388671875 71.6484375\n",
      "131.48291015625 71.60888671875\n",
      "131.51220703125 71.68603515625\n",
      "131.513671875 71.65380859375\n",
      "131.5029296875 71.6572265625\n",
      "131.48876953125 71.65673828125\n",
      "131.5078125 71.68212890625\n",
      "131.51904296875 71.6728515625\n",
      "131.52685546875 71.6484375\n",
      "131.48291015625 71.60888671875\n",
      "131.513671875 71.65380859375\n"
     ]
    },
    {
     "name": "stderr",
     "output_type": "stream",
     "text": [
      " 12%|█▏        | 10/81 [00:05<00:39,  1.81it/s]"
     ]
    },
    {
     "name": "stdout",
     "output_type": "stream",
     "text": [
      "131.58544921875 71.3759765625\n",
      "131.58349609375 71.3740234375\n",
      "131.54833984375 71.35302734375\n",
      "131.54638671875 71.35888671875\n"
     ]
    },
    {
     "name": "stderr",
     "output_type": "stream",
     "text": [
      " 14%|█▎        | 11/81 [00:05<00:34,  2.05it/s]"
     ]
    },
    {
     "name": "stdout",
     "output_type": "stream",
     "text": [
      "131.58544921875 71.3759765625\n",
      "131.58349609375 71.3740234375\n",
      "131.56884765625 71.392578125\n",
      "131.54833984375 71.35302734375\n",
      "131.56689453125 71.41015625\n",
      "131.54638671875 71.35888671875\n",
      "131.56884765625 71.392578125\n",
      "131.5732421875 71.392578125\n"
     ]
    },
    {
     "name": "stderr",
     "output_type": "stream",
     "text": [
      " 15%|█▍        | 12/81 [00:06<00:29,  2.31it/s]"
     ]
    },
    {
     "name": "stdout",
     "output_type": "stream",
     "text": [
      "131.5693359375 71.40869140625\n",
      "131.55712890625 71.4267578125\n",
      "131.56884765625 71.392578125\n",
      "131.54638671875 71.416015625\n",
      "131.56689453125 71.41015625\n",
      "131.56884765625 71.392578125\n",
      "131.5732421875 71.392578125\n"
     ]
    },
    {
     "name": "stderr",
     "output_type": "stream",
     "text": [
      " 16%|█▌        | 13/81 [00:06<00:25,  2.67it/s]"
     ]
    },
    {
     "name": "stdout",
     "output_type": "stream",
     "text": [
      "131.56982421875 71.427734375\n",
      "131.55712890625 71.4267578125\n"
     ]
    },
    {
     "name": "stderr",
     "output_type": "stream",
     "text": [
      " 17%|█▋        | 14/81 [00:06<00:21,  3.07it/s]"
     ]
    },
    {
     "name": "stdout",
     "output_type": "stream",
     "text": [
      "131.52197265625 71.5126953125\n",
      "131.5205078125 71.51318359375\n"
     ]
    },
    {
     "name": "stderr",
     "output_type": "stream",
     "text": [
      " 19%|█▊        | 15/81 [00:06<00:21,  3.04it/s]"
     ]
    },
    {
     "name": "stdout",
     "output_type": "stream",
     "text": [
      "131.52197265625 71.5126953125\n",
      "131.5205078125 71.51318359375\n",
      "131.50537109375 71.55322265625\n",
      "131.51513671875 71.55126953125\n",
      "131.521484375 71.5458984375\n",
      "131.50830078125 71.54833984375\n"
     ]
    },
    {
     "name": "stderr",
     "output_type": "stream",
     "text": [
      " 20%|█▉        | 16/81 [00:07<00:27,  2.36it/s]"
     ]
    },
    {
     "name": "stdout",
     "output_type": "stream",
     "text": [
      "131.50634765625 71.603515625\n",
      "131.50927734375 71.59326171875\n",
      "131.5048828125 71.60205078125\n",
      "131.5068359375 71.595703125\n",
      "131.51171875 71.58203125\n",
      "131.5107421875 71.58056640625\n",
      "131.50537109375 71.59521484375\n",
      "131.509765625 71.57861328125\n",
      "131.49462890625 71.6064453125\n",
      "131.49072265625 71.5888671875\n",
      "131.48779296875 71.59619140625\n",
      "131.4912109375 71.5693359375\n",
      "131.48828125 71.5673828125\n",
      "131.47607421875 71.59228515625\n",
      "131.5205078125 71.51318359375\n",
      "131.4951171875 71.595703125\n",
      "131.48828125 71.58935546875\n",
      "131.49072265625 71.5673828125\n",
      "131.48828125 71.57275390625\n",
      "131.48779296875 71.56982421875\n",
      "131.48876953125 71.59375\n",
      "131.4833984375 71.59033203125\n",
      "131.4970703125 71.57958984375\n",
      "131.521484375 71.5458984375\n",
      "131.5029296875 71.5869140625\n",
      "131.50830078125 71.54833984375\n",
      "131.45556640625 71.5537109375\n"
     ]
    },
    {
     "name": "stderr",
     "output_type": "stream",
     "text": [
      " 21%|██        | 17/81 [00:08<00:32,  1.95it/s]"
     ]
    },
    {
     "name": "stdout",
     "output_type": "stream",
     "text": [
      "131.50927734375 71.59326171875\n",
      "131.5048828125 71.60205078125\n",
      "131.5068359375 71.595703125\n",
      "131.51171875 71.58203125\n",
      "131.5107421875 71.58056640625\n",
      "131.50537109375 71.59521484375\n",
      "131.509765625 71.57861328125\n",
      "131.49462890625 71.6064453125\n",
      "131.48486328125 71.60498046875\n",
      "131.49072265625 71.5888671875\n",
      "131.48779296875 71.59619140625\n",
      "131.48291015625 71.60888671875\n",
      "131.48095703125 71.6083984375\n",
      "131.48291015625 71.6025390625\n",
      "131.4912109375 71.5693359375\n",
      "131.466796875 71.6376953125\n",
      "131.48828125 71.5673828125\n",
      "131.47509765625 71.599609375\n",
      "131.47607421875 71.59228515625\n",
      "131.44775390625 71.6083984375\n",
      "131.44677734375 71.607421875\n",
      "131.49462890625 71.61474609375\n",
      "131.4951171875 71.595703125\n",
      "131.4853515625 71.60693359375\n",
      "131.48828125 71.58935546875\n",
      "131.48779296875 71.56982421875\n",
      "131.4482421875 71.60595703125\n",
      "131.50048828125 71.5966796875\n",
      "131.49169921875 71.6103515625\n",
      "131.48388671875 71.59033203125\n",
      "131.48291015625 71.60888671875\n",
      "131.5029296875 71.5869140625\n"
     ]
    },
    {
     "name": "stderr",
     "output_type": "stream",
     "text": [
      " 22%|██▏       | 18/81 [00:08<00:32,  1.94it/s]"
     ]
    },
    {
     "name": "stdout",
     "output_type": "stream",
     "text": [
      "131.48779296875 71.65576171875\n",
      "131.4853515625 71.65283203125\n",
      "131.48486328125 71.6513671875\n",
      "131.48388671875 71.65283203125\n",
      "131.48388671875 71.6484375\n",
      "131.48291015625 71.60888671875\n",
      "131.44580078125 71.638671875\n",
      "131.4443359375 71.63916015625\n",
      "131.44140625 71.6376953125\n",
      "131.44775390625 71.6083984375\n",
      "131.44677734375 71.607421875\n",
      "131.43505859375 71.63623046875\n",
      "131.4287109375 71.63330078125\n",
      "131.4482421875 71.60595703125\n",
      "131.44580078125 71.6123046875\n",
      "131.48291015625 71.60888671875\n"
     ]
    },
    {
     "name": "stderr",
     "output_type": "stream",
     "text": [
      " 25%|██▍       | 20/81 [00:09<00:21,  2.82it/s]"
     ]
    },
    {
     "name": "stdout",
     "output_type": "stream",
     "text": [
      "131.54833984375 71.35302734375\n",
      "131.54638671875 71.35888671875\n",
      "131.54833984375 71.35302734375\n",
      "131.54638671875 71.35888671875\n"
     ]
    },
    {
     "name": "stderr",
     "output_type": "stream",
     "text": [
      " 30%|██▉       | 24/81 [00:09<00:10,  5.28it/s]"
     ]
    },
    {
     "name": "stdout",
     "output_type": "stream",
     "text": [
      "131.45361328125 71.55224609375\n"
     ]
    },
    {
     "name": "stderr",
     "output_type": "stream",
     "text": [
      " 31%|███       | 25/81 [00:09<00:11,  5.00it/s]"
     ]
    },
    {
     "name": "stdout",
     "output_type": "stream",
     "text": [
      "131.4560546875 71.55126953125\n",
      "131.45556640625 71.5537109375\n"
     ]
    },
    {
     "name": "stderr",
     "output_type": "stream",
     "text": [
      " 32%|███▏      | 26/81 [00:10<00:12,  4.30it/s]"
     ]
    },
    {
     "name": "stdout",
     "output_type": "stream",
     "text": [
      "131.44775390625 71.6083984375\n",
      "131.44677734375 71.607421875\n",
      "131.4482421875 71.60595703125\n",
      "131.44580078125 71.6123046875\n"
     ]
    },
    {
     "name": "stderr",
     "output_type": "stream",
     "text": [
      " 36%|███▌      | 29/81 [00:10<00:08,  5.81it/s]"
     ]
    },
    {
     "name": "stdout",
     "output_type": "stream",
     "text": [
      "131.44580078125 71.638671875\n",
      "131.4443359375 71.63916015625\n",
      "131.44140625 71.6376953125\n",
      "131.44775390625 71.6083984375\n",
      "131.44677734375 71.607421875\n",
      "131.43505859375 71.63623046875\n",
      "131.4287109375 71.63330078125\n",
      "131.42822265625 71.63134765625\n",
      "131.4482421875 71.60595703125\n",
      "131.44580078125 71.6123046875\n",
      "131.45654296875 71.64404296875\n"
     ]
    },
    {
     "name": "stderr",
     "output_type": "stream",
     "text": [
      " 43%|████▎     | 35/81 [00:11<00:05,  8.63it/s]"
     ]
    },
    {
     "name": "stdout",
     "output_type": "stream",
     "text": [
      "131.45361328125 71.55224609375\n"
     ]
    },
    {
     "name": "stderr",
     "output_type": "stream",
     "text": [
      " 48%|████▊     | 39/81 [00:11<00:04, 10.33it/s]"
     ]
    },
    {
     "name": "stdout",
     "output_type": "stream",
     "text": [
      "131.46728515625 71.25244140625\n"
     ]
    },
    {
     "name": "stderr",
     "output_type": "stream",
     "text": [
      " 63%|██████▎   | 51/81 [00:12<00:02, 11.37it/s]"
     ]
    },
    {
     "name": "stdout",
     "output_type": "stream",
     "text": [
      "131.37890625 71.36181640625\n"
     ]
    },
    {
     "name": "stderr",
     "output_type": "stream",
     "text": [
      " 85%|████████▌ | 69/81 [00:14<00:01,  8.50it/s]"
     ]
    },
    {
     "name": "stdout",
     "output_type": "stream",
     "text": [
      "131.2646484375 71.39697265625\n"
     ]
    },
    {
     "name": "stderr",
     "output_type": "stream",
     "text": [
      " 96%|█████████▋| 78/81 [00:15<00:00,  7.40it/s]"
     ]
    },
    {
     "name": "stdout",
     "output_type": "stream",
     "text": [
      "131.2646484375 71.39697265625\n"
     ]
    },
    {
     "name": "stderr",
     "output_type": "stream",
     "text": [
      "100%|██████████| 81/81 [00:15<00:00,  5.07it/s]\n"
     ]
    },
    {
     "name": "stdout",
     "output_type": "stream",
     "text": [
      " 4 Define mapping between PRISMA LatLon and gMaps latlon\n",
      " 5 Map PRISMA Latlons to gMaps latlons (ransac affine) and save for reference\n",
      "Band 31 did not work\n",
      "# 1 create .tif file\n",
      "# 2 Download gmaps for the same location\n",
      "Image size (pix):  (1792, 1792)\n",
      "Tile coordinate top left (north-west) corner: 1048,568\n",
      " 3 Determine matched features in PRISMA image to gMaps image with SIFT\n"
     ]
    },
    {
     "name": "stderr",
     "output_type": "stream",
     "text": [
      "100%|██████████| 81/81 [01:06<00:00,  1.21it/s]\n"
     ]
    },
    {
     "name": "stdout",
     "output_type": "stream",
     "text": [
      "Band 32 did not work\n",
      "# 1 create .tif file\n",
      "# 2 Download gmaps for the same location\n",
      "Image size (pix):  (1792, 1792)\n",
      "Tile coordinate top left (north-west) corner: 1048,568\n",
      " 3 Determine matched features in PRISMA image to gMaps image with SIFT\n"
     ]
    },
    {
     "name": "stderr",
     "output_type": "stream",
     "text": [
      "  1%|          | 1/81 [00:00<00:23,  3.45it/s]"
     ]
    },
    {
     "name": "stdout",
     "output_type": "stream",
     "text": [
      "131.61474609375 71.3828125\n",
      "131.58544921875 71.3759765625\n",
      "131.58349609375 71.3740234375\n"
     ]
    },
    {
     "name": "stderr",
     "output_type": "stream",
     "text": [
      "  2%|▏         | 2/81 [00:00<00:34,  2.31it/s]"
     ]
    },
    {
     "name": "stdout",
     "output_type": "stream",
     "text": [
      "131.55712890625 71.4267578125\n",
      "131.58544921875 71.3759765625\n",
      "131.61376953125 71.404296875\n",
      "131.59814453125 71.39697265625\n",
      "131.56689453125 71.41015625\n",
      "131.60888671875 71.40087890625\n",
      "131.609375 71.4111328125\n",
      "131.58349609375 71.3740234375\n",
      "131.56884765625 71.392578125\n",
      "131.56884765625 71.392578125\n",
      "131.5732421875 71.392578125\n"
     ]
    },
    {
     "name": "stderr",
     "output_type": "stream",
     "text": [
      "  4%|▎         | 3/81 [00:01<00:37,  2.06it/s]"
     ]
    },
    {
     "name": "stdout",
     "output_type": "stream",
     "text": [
      "131.6025390625 71.3955078125\n",
      "131.5810546875 71.46240234375\n",
      "131.5849609375 71.42822265625\n",
      "131.5693359375 71.40869140625\n",
      "131.55712890625 71.4267578125\n",
      "131.61376953125 71.404296875\n",
      "131.59814453125 71.39697265625\n",
      "131.56689453125 71.41015625\n",
      "131.60888671875 71.40087890625\n",
      "131.5810546875 71.46435546875\n",
      "131.609375 71.4111328125\n",
      "131.56884765625 71.392578125\n",
      "131.56884765625 71.392578125\n",
      "131.55615234375 71.42626953125\n",
      "131.5732421875 71.392578125\n"
     ]
    },
    {
     "name": "stderr",
     "output_type": "stream",
     "text": [
      "  5%|▍         | 4/81 [00:01<00:35,  2.17it/s]"
     ]
    },
    {
     "name": "stdout",
     "output_type": "stream",
     "text": [
      "131.58056640625 71.5048828125\n",
      "131.57958984375 71.5068359375\n",
      "131.58544921875 71.48291015625\n",
      "131.57666015625 71.50146484375\n",
      "131.58642578125 71.46923828125\n",
      "131.57373046875 71.5009765625\n",
      "131.57861328125 71.486328125\n",
      "131.5810546875 71.46240234375\n",
      "131.56591796875 71.4970703125\n",
      "131.5732421875 71.47119140625\n",
      "131.5654296875 71.49365234375\n",
      "131.57373046875 71.5009765625\n",
      "131.57861328125 71.48095703125\n",
      "131.5810546875 71.46435546875\n"
     ]
    },
    {
     "name": "stderr",
     "output_type": "stream",
     "text": [
      "  6%|▌         | 5/81 [00:02<00:34,  2.20it/s]"
     ]
    },
    {
     "name": "stdout",
     "output_type": "stream",
     "text": [
      "131.5673828125 71.54443359375\n",
      "131.58056640625 71.5048828125\n",
      "131.57861328125 71.5087890625\n",
      "131.58544921875 71.48291015625\n",
      "131.57666015625 71.50146484375\n",
      "131.57373046875 71.5009765625\n",
      "131.57861328125 71.486328125\n",
      "131.564453125 71.52587890625\n",
      "131.55859375 71.53759765625\n",
      "131.56591796875 71.4970703125\n",
      "131.5732421875 71.47119140625\n",
      "131.5654296875 71.49365234375\n",
      "131.52197265625 71.5126953125\n",
      "131.5205078125 71.51318359375\n",
      "131.56005859375 71.53662109375\n",
      "131.5712890625 71.49951171875\n",
      "131.5185546875 71.5087890625\n",
      "131.57373046875 71.5009765625\n",
      "131.57861328125 71.48095703125\n",
      "131.55615234375 71.5361328125\n",
      "131.5380859375 71.50732421875\n"
     ]
    },
    {
     "name": "stderr",
     "output_type": "stream",
     "text": [
      "  7%|▋         | 6/81 [00:02<00:38,  1.96it/s]"
     ]
    },
    {
     "name": "stdout",
     "output_type": "stream",
     "text": [
      "131.56103515625 71.5712890625\n",
      "131.548828125 71.5732421875\n",
      "131.546875 71.5751953125\n",
      "131.564453125 71.52587890625\n",
      "131.55859375 71.53759765625\n",
      "131.5419921875 71.58056640625\n",
      "131.54248046875 71.5771484375\n",
      "131.54443359375 71.55859375\n",
      "131.529296875 71.57421875\n",
      "131.5263671875 71.5537109375\n",
      "131.52197265625 71.5126953125\n",
      "131.5205078125 71.51318359375\n",
      "131.54833984375 71.57666015625\n",
      "131.56005859375 71.53662109375\n",
      "131.54638671875 71.57275390625\n",
      "131.5390625 71.578125\n",
      "131.51513671875 71.55126953125\n",
      "131.5185546875 71.5087890625\n",
      "131.529296875 71.572265625\n",
      "131.53369140625 71.5498046875\n",
      "131.55615234375 71.5361328125\n",
      "131.50830078125 71.54833984375\n"
     ]
    },
    {
     "name": "stderr",
     "output_type": "stream",
     "text": [
      "  9%|▊         | 7/81 [00:03<00:47,  1.57it/s]"
     ]
    },
    {
     "name": "stdout",
     "output_type": "stream",
     "text": [
      "131.56103515625 71.5712890625\n",
      "131.53955078125 71.61669921875\n",
      "131.54931640625 71.58447265625\n",
      "131.5478515625 71.58251953125\n",
      "131.548828125 71.5732421875\n",
      "131.54541015625 71.58251953125\n",
      "131.546875 71.5751953125\n",
      "131.5419921875 71.58056640625\n",
      "131.54052734375 71.58447265625\n",
      "131.54248046875 71.5771484375\n",
      "131.529296875 71.57421875\n",
      "131.51953125 71.58837890625\n",
      "131.51806640625 71.580078125\n",
      "131.5263671875 71.5537109375\n",
      "131.50634765625 71.603515625\n",
      "131.50927734375 71.59326171875\n",
      "131.5048828125 71.60205078125\n",
      "131.5068359375 71.595703125\n",
      "131.51171875 71.58203125\n",
      "131.5107421875 71.58056640625\n",
      "131.50537109375 71.59521484375\n",
      "131.509765625 71.57861328125\n",
      "131.49072265625 71.5888671875\n",
      "131.48779296875 71.59619140625\n",
      "131.4794921875 71.60009765625\n",
      "131.48828125 71.5673828125\n",
      "131.47607421875 71.59228515625\n",
      "131.54833984375 71.57666015625\n",
      "131.5458984375 71.5810546875\n",
      "131.54638671875 71.57275390625\n",
      "131.54345703125 71.57861328125\n",
      "131.5390625 71.578125\n",
      "131.52783203125 71.57666015625\n",
      "131.51611328125 71.58837890625\n",
      "131.513671875 71.5869140625\n",
      "131.5126953125 71.58203125\n",
      "131.51611328125 71.5712890625\n",
      "131.4951171875 71.595703125\n",
      "131.48828125 71.58935546875\n",
      "131.49072265625 71.5673828125\n",
      "131.48779296875 71.56982421875\n",
      "131.5322265625 71.57666015625\n",
      "131.529296875 71.572265625\n",
      "131.51904296875 71.5830078125\n",
      "131.50927734375 71.58984375\n",
      "131.50048828125 71.5966796875\n",
      "131.48388671875 71.59033203125\n",
      "131.51904296875 71.57568359375\n",
      "131.4970703125 71.57958984375\n",
      "131.5419921875 71.58056640625\n",
      "131.5029296875 71.5869140625\n",
      "131.54443359375 71.5849609375\n",
      "131.529296875 71.572265625\n"
     ]
    },
    {
     "name": "stderr",
     "output_type": "stream",
     "text": [
      " 10%|▉         | 8/81 [00:04<00:53,  1.36it/s]"
     ]
    },
    {
     "name": "stdout",
     "output_type": "stream",
     "text": [
      "131.53955078125 71.61669921875\n",
      "131.54052734375 71.58447265625\n",
      "131.50830078125 71.62890625\n",
      "131.50830078125 71.62646484375\n",
      "131.51953125 71.58837890625\n",
      "131.50634765625 71.603515625\n",
      "131.50927734375 71.59326171875\n",
      "131.5048828125 71.60205078125\n",
      "131.5068359375 71.595703125\n",
      "131.51171875 71.58203125\n",
      "131.5107421875 71.58056640625\n",
      "131.50537109375 71.59521484375\n",
      "131.509765625 71.57861328125\n",
      "131.48486328125 71.60498046875\n",
      "131.49072265625 71.5888671875\n",
      "131.48779296875 71.59619140625\n",
      "131.48291015625 71.60888671875\n",
      "131.48095703125 71.6083984375\n",
      "131.48291015625 71.6025390625\n",
      "131.4912109375 71.5693359375\n",
      "131.4794921875 71.60009765625\n",
      "131.48828125 71.5673828125\n",
      "131.50048828125 71.65576171875\n",
      "131.47509765625 71.599609375\n",
      "131.47607421875 71.59228515625\n",
      "131.5380859375 71.61962890625\n",
      "131.52685546875 71.6484375\n",
      "131.52734375 71.61865234375\n",
      "131.51611328125 71.58837890625\n",
      "131.513671875 71.5869140625\n",
      "131.5126953125 71.58203125\n",
      "131.49462890625 71.61474609375\n",
      "131.4951171875 71.60791015625\n",
      "131.4951171875 71.595703125\n",
      "131.4853515625 71.60693359375\n",
      "131.48828125 71.58935546875\n",
      "131.48828125 71.57275390625\n",
      "131.48779296875 71.56982421875\n",
      "131.50927734375 71.58984375\n",
      "131.50048828125 71.5966796875\n",
      "131.49169921875 71.6103515625\n",
      "131.4873046875 71.60009765625\n",
      "131.50830078125 71.62060546875\n",
      "131.48291015625 71.60888671875\n",
      "131.50830078125 71.62060546875\n"
     ]
    },
    {
     "name": "stderr",
     "output_type": "stream",
     "text": [
      " 11%|█         | 9/81 [00:05<00:51,  1.40it/s]"
     ]
    },
    {
     "name": "stdout",
     "output_type": "stream",
     "text": [
      "131.5361328125 71.654296875\n",
      "131.51904296875 71.6728515625\n",
      "131.51220703125 71.68603515625\n",
      "131.49462890625 71.68359375\n",
      "131.50830078125 71.62890625\n",
      "131.50830078125 71.62646484375\n",
      "131.4853515625 71.65283203125\n",
      "131.48583984375 71.65087890625\n",
      "131.48486328125 71.6513671875\n",
      "131.48388671875 71.65283203125\n",
      "131.48388671875 71.6484375\n",
      "131.48291015625 71.60888671875\n",
      "131.52685546875 71.6484375\n",
      "131.513671875 71.65380859375\n",
      "131.5029296875 71.6572265625\n",
      "131.48876953125 71.65673828125\n",
      "131.48291015625 71.646484375\n",
      "131.4951171875 71.60791015625\n",
      "131.5078125 71.68212890625\n",
      "131.51904296875 71.6728515625\n",
      "131.48291015625 71.60888671875\n",
      "131.513671875 71.65380859375\n"
     ]
    },
    {
     "name": "stderr",
     "output_type": "stream",
     "text": [
      " 12%|█▏        | 10/81 [00:05<00:40,  1.74it/s]"
     ]
    },
    {
     "name": "stdout",
     "output_type": "stream",
     "text": [
      "131.58544921875 71.3759765625\n",
      "131.54833984375 71.35302734375\n",
      "131.58349609375 71.3740234375\n"
     ]
    },
    {
     "name": "stderr",
     "output_type": "stream",
     "text": [
      " 14%|█▎        | 11/81 [00:05<00:35,  1.98it/s]"
     ]
    },
    {
     "name": "stdout",
     "output_type": "stream",
     "text": [
      "131.58544921875 71.3759765625\n",
      "131.54833984375 71.35302734375\n",
      "131.56689453125 71.41015625\n",
      "131.58349609375 71.3740234375\n",
      "131.56884765625 71.392578125\n",
      "131.56884765625 71.392578125\n",
      "131.5732421875 71.392578125\n"
     ]
    },
    {
     "name": "stderr",
     "output_type": "stream",
     "text": [
      " 15%|█▍        | 12/81 [00:06<00:31,  2.22it/s]"
     ]
    },
    {
     "name": "stdout",
     "output_type": "stream",
     "text": [
      "131.5693359375 71.40869140625\n",
      "131.55712890625 71.4267578125\n",
      "131.56689453125 71.41015625\n",
      "131.56884765625 71.392578125\n",
      "131.56884765625 71.392578125\n",
      "131.55615234375 71.42626953125\n",
      "131.5732421875 71.392578125\n"
     ]
    },
    {
     "name": "stderr",
     "output_type": "stream",
     "text": [
      " 16%|█▌        | 13/81 [00:06<00:26,  2.59it/s]"
     ]
    },
    {
     "name": "stdout",
     "output_type": "stream",
     "text": [
      "131.56982421875 71.427734375\n",
      "131.55712890625 71.4267578125\n",
      "131.55615234375 71.42626953125\n"
     ]
    },
    {
     "name": "stderr",
     "output_type": "stream",
     "text": [
      " 17%|█▋        | 14/81 [00:06<00:22,  2.99it/s]"
     ]
    },
    {
     "name": "stdout",
     "output_type": "stream",
     "text": [
      "131.52197265625 71.5126953125\n",
      "131.5205078125 71.51318359375\n",
      "131.517578125 71.51123046875\n",
      "131.5185546875 71.5087890625\n"
     ]
    },
    {
     "name": "stderr",
     "output_type": "stream",
     "text": [
      " 19%|█▊        | 15/81 [00:07<00:22,  2.99it/s]"
     ]
    },
    {
     "name": "stdout",
     "output_type": "stream",
     "text": [
      "131.51611328125 71.55078125\n",
      "131.52197265625 71.5126953125\n",
      "131.5205078125 71.51318359375\n",
      "131.50537109375 71.55322265625\n",
      "131.51513671875 71.55126953125\n",
      "131.521484375 71.5458984375\n",
      "131.50830078125 71.54833984375\n"
     ]
    },
    {
     "name": "stderr",
     "output_type": "stream",
     "text": [
      " 20%|█▉        | 16/81 [00:07<00:26,  2.44it/s]"
     ]
    },
    {
     "name": "stdout",
     "output_type": "stream",
     "text": [
      "131.50927734375 71.59326171875\n",
      "131.5048828125 71.60205078125\n",
      "131.5126953125 71.58056640625\n",
      "131.5068359375 71.595703125\n",
      "131.51171875 71.58203125\n",
      "131.5107421875 71.58056640625\n",
      "131.50537109375 71.59521484375\n",
      "131.509765625 71.57861328125\n",
      "131.50732421875 71.578125\n",
      "131.4912109375 71.5908203125\n",
      "131.49072265625 71.5888671875\n",
      "131.48779296875 71.59619140625\n",
      "131.4912109375 71.5693359375\n",
      "131.4794921875 71.60009765625\n",
      "131.48828125 71.5673828125\n",
      "131.47607421875 71.59228515625\n",
      "131.5205078125 71.51318359375\n",
      "131.4951171875 71.595703125\n",
      "131.48828125 71.58935546875\n",
      "131.49072265625 71.5673828125\n",
      "131.48828125 71.57275390625\n",
      "131.48779296875 71.56982421875\n",
      "131.45361328125 71.55224609375\n",
      "131.4833984375 71.59033203125\n",
      "131.4970703125 71.57958984375\n",
      "131.51904296875 71.57568359375\n",
      "131.4794921875 71.60009765625\n",
      "131.521484375 71.5458984375\n",
      "131.5029296875 71.5869140625\n",
      "131.50830078125 71.54833984375\n",
      "131.45556640625 71.5537109375\n"
     ]
    },
    {
     "name": "stderr",
     "output_type": "stream",
     "text": [
      " 21%|██        | 17/81 [00:08<00:32,  1.98it/s]"
     ]
    },
    {
     "name": "stdout",
     "output_type": "stream",
     "text": [
      "131.50927734375 71.59326171875\n",
      "131.5048828125 71.60205078125\n",
      "131.5126953125 71.58056640625\n",
      "131.5068359375 71.595703125\n",
      "131.51171875 71.58203125\n",
      "131.5107421875 71.58056640625\n",
      "131.50537109375 71.59521484375\n",
      "131.509765625 71.57861328125\n",
      "131.4912109375 71.5908203125\n",
      "131.48486328125 71.60498046875\n",
      "131.49072265625 71.5888671875\n",
      "131.48779296875 71.59619140625\n",
      "131.48291015625 71.60888671875\n",
      "131.48095703125 71.6083984375\n",
      "131.48291015625 71.6025390625\n",
      "131.4912109375 71.5693359375\n",
      "131.4794921875 71.60009765625\n",
      "131.48828125 71.5673828125\n",
      "131.47509765625 71.599609375\n",
      "131.47607421875 71.59228515625\n",
      "131.44775390625 71.6083984375\n",
      "131.44677734375 71.607421875\n",
      "131.49462890625 71.61474609375\n",
      "131.4951171875 71.60791015625\n",
      "131.4951171875 71.595703125\n",
      "131.4853515625 71.60693359375\n",
      "131.48828125 71.58935546875\n",
      "131.48828125 71.57275390625\n",
      "131.48779296875 71.56982421875\n",
      "131.4482421875 71.60595703125\n",
      "131.50048828125 71.5966796875\n",
      "131.49169921875 71.6103515625\n",
      "131.48388671875 71.59033203125\n",
      "131.4873046875 71.60009765625\n",
      "131.48291015625 71.60888671875\n",
      "131.4794921875 71.60009765625\n",
      "131.5029296875 71.5869140625\n"
     ]
    },
    {
     "name": "stderr",
     "output_type": "stream",
     "text": [
      " 22%|██▏       | 18/81 [00:08<00:32,  1.96it/s]"
     ]
    },
    {
     "name": "stdout",
     "output_type": "stream",
     "text": [
      "131.4853515625 71.65283203125\n",
      "131.48583984375 71.65087890625\n",
      "131.48486328125 71.6513671875\n",
      "131.48388671875 71.65283203125\n",
      "131.48388671875 71.6484375\n",
      "131.48291015625 71.60888671875\n",
      "131.44580078125 71.638671875\n",
      "131.4443359375 71.63916015625\n",
      "131.44140625 71.6376953125\n",
      "131.44775390625 71.6083984375\n",
      "131.44677734375 71.607421875\n",
      "131.43505859375 71.63623046875\n",
      "131.4287109375 71.63330078125\n",
      "131.48291015625 71.646484375\n",
      "131.4951171875 71.60791015625\n",
      "131.4833984375 71.59033203125\n",
      "131.4482421875 71.60595703125\n",
      "131.44580078125 71.6123046875\n",
      "131.48291015625 71.60888671875\n"
     ]
    },
    {
     "name": "stderr",
     "output_type": "stream",
     "text": [
      " 25%|██▍       | 20/81 [00:09<00:21,  2.85it/s]"
     ]
    },
    {
     "name": "stdout",
     "output_type": "stream",
     "text": [
      "131.54833984375 71.35302734375\n",
      "131.54833984375 71.35302734375\n"
     ]
    },
    {
     "name": "stderr",
     "output_type": "stream",
     "text": [
      " 30%|██▉       | 24/81 [00:09<00:10,  5.27it/s]"
     ]
    },
    {
     "name": "stdout",
     "output_type": "stream",
     "text": [
      "131.45361328125 71.55224609375\n"
     ]
    },
    {
     "name": "stderr",
     "output_type": "stream",
     "text": [
      " 31%|███       | 25/81 [00:10<00:11,  4.93it/s]"
     ]
    },
    {
     "name": "stdout",
     "output_type": "stream",
     "text": [
      "131.4560546875 71.55126953125\n",
      "131.45361328125 71.55224609375\n",
      "131.45556640625 71.5537109375\n"
     ]
    },
    {
     "name": "stderr",
     "output_type": "stream",
     "text": [
      " 32%|███▏      | 26/81 [00:10<00:13,  4.21it/s]"
     ]
    },
    {
     "name": "stdout",
     "output_type": "stream",
     "text": [
      "131.44775390625 71.6083984375\n",
      "131.44677734375 71.607421875\n",
      "131.4482421875 71.60595703125\n",
      "131.44580078125 71.6123046875\n"
     ]
    },
    {
     "name": "stderr",
     "output_type": "stream",
     "text": [
      " 36%|███▌      | 29/81 [00:10<00:09,  5.77it/s]"
     ]
    },
    {
     "name": "stdout",
     "output_type": "stream",
     "text": [
      "131.44580078125 71.638671875\n",
      "131.4443359375 71.63916015625\n",
      "131.44140625 71.6376953125\n",
      "131.44775390625 71.6083984375\n",
      "131.44677734375 71.607421875\n",
      "131.43505859375 71.63623046875\n",
      "131.4287109375 71.63330078125\n",
      "131.4482421875 71.60595703125\n",
      "131.44580078125 71.6123046875\n",
      "131.45654296875 71.64404296875\n"
     ]
    },
    {
     "name": "stderr",
     "output_type": "stream",
     "text": [
      " 43%|████▎     | 35/81 [00:11<00:05,  7.96it/s]"
     ]
    },
    {
     "name": "stdout",
     "output_type": "stream",
     "text": [
      "131.45361328125 71.55224609375\n"
     ]
    },
    {
     "name": "stderr",
     "output_type": "stream",
     "text": [
      " 48%|████▊     | 39/81 [00:11<00:04,  9.97it/s]"
     ]
    },
    {
     "name": "stdout",
     "output_type": "stream",
     "text": [
      "131.46728515625 71.25244140625\n"
     ]
    },
    {
     "name": "stderr",
     "output_type": "stream",
     "text": [
      " 85%|████████▌ | 69/81 [00:14<00:01,  7.55it/s]"
     ]
    },
    {
     "name": "stdout",
     "output_type": "stream",
     "text": [
      "131.2646484375 71.39697265625\n"
     ]
    },
    {
     "name": "stderr",
     "output_type": "stream",
     "text": [
      " 96%|█████████▋| 78/81 [00:15<00:00,  6.87it/s]"
     ]
    },
    {
     "name": "stdout",
     "output_type": "stream",
     "text": [
      "131.2646484375 71.39697265625\n"
     ]
    },
    {
     "name": "stderr",
     "output_type": "stream",
     "text": [
      "100%|██████████| 81/81 [00:16<00:00,  4.93it/s]\n"
     ]
    },
    {
     "name": "stdout",
     "output_type": "stream",
     "text": [
      " 4 Define mapping between PRISMA LatLon and gMaps latlon\n",
      " 5 Map PRISMA Latlons to gMaps latlons (ransac affine) and save for reference\n",
      "Band 33 did not work\n",
      "# 1 create .tif file\n",
      "# 2 Download gmaps for the same location\n",
      "Image size (pix):  (1792, 1792)\n",
      "Tile coordinate top left (north-west) corner: 1048,568\n",
      " 3 Determine matched features in PRISMA image to gMaps image with SIFT\n"
     ]
    },
    {
     "name": "stderr",
     "output_type": "stream",
     "text": [
      "100%|██████████| 81/81 [01:08<00:00,  1.17it/s]\n"
     ]
    },
    {
     "name": "stdout",
     "output_type": "stream",
     "text": [
      "Band 34 did not work\n",
      "# 1 create .tif file\n",
      "# 2 Download gmaps for the same location\n",
      "Image size (pix):  (1792, 1792)\n",
      "Tile coordinate top left (north-west) corner: 1048,568\n",
      " 3 Determine matched features in PRISMA image to gMaps image with SIFT\n"
     ]
    },
    {
     "name": "stderr",
     "output_type": "stream",
     "text": [
      "  1%|          | 1/81 [00:00<00:22,  3.50it/s]"
     ]
    },
    {
     "name": "stdout",
     "output_type": "stream",
     "text": [
      "131.58544921875 71.3759765625\n",
      "131.58349609375 71.3740234375\n"
     ]
    },
    {
     "name": "stderr",
     "output_type": "stream",
     "text": [
      "  2%|▏         | 2/81 [00:00<00:33,  2.36it/s]"
     ]
    },
    {
     "name": "stdout",
     "output_type": "stream",
     "text": [
      "131.55712890625 71.4267578125\n",
      "131.58544921875 71.3759765625\n",
      "131.56884765625 71.392578125\n",
      "131.61376953125 71.404296875\n",
      "131.6123046875 71.4013671875\n",
      "131.59814453125 71.39697265625\n",
      "131.56689453125 71.41015625\n",
      "131.5986328125 71.400390625\n",
      "131.58349609375 71.3740234375\n",
      "131.56884765625 71.392578125\n",
      "131.5732421875 71.392578125\n"
     ]
    },
    {
     "name": "stderr",
     "output_type": "stream",
     "text": [
      "  4%|▎         | 3/81 [00:01<00:37,  2.10it/s]"
     ]
    },
    {
     "name": "stdout",
     "output_type": "stream",
     "text": [
      "131.5810546875 71.46240234375\n",
      "131.5849609375 71.42822265625\n",
      "131.5693359375 71.40869140625\n",
      "131.55712890625 71.4267578125\n",
      "131.56884765625 71.392578125\n",
      "131.61376953125 71.404296875\n",
      "131.6123046875 71.4013671875\n",
      "131.59814453125 71.39697265625\n",
      "131.5947265625 71.3955078125\n",
      "131.56689453125 71.41015625\n",
      "131.5810546875 71.46435546875\n",
      "131.5986328125 71.400390625\n",
      "131.56884765625 71.392578125\n",
      "131.55615234375 71.42626953125\n",
      "131.5732421875 71.392578125\n"
     ]
    },
    {
     "name": "stderr",
     "output_type": "stream",
     "text": [
      "  5%|▍         | 4/81 [00:01<00:35,  2.15it/s]"
     ]
    },
    {
     "name": "stdout",
     "output_type": "stream",
     "text": [
      "131.58056640625 71.5048828125\n",
      "131.58544921875 71.48291015625\n",
      "131.57470703125 71.427734375\n",
      "131.57666015625 71.50146484375\n",
      "131.58642578125 71.46923828125\n",
      "131.57373046875 71.5009765625\n",
      "131.57861328125 71.486328125\n",
      "131.5810546875 71.46240234375\n",
      "131.56591796875 71.4970703125\n",
      "131.5732421875 71.47119140625\n",
      "131.5654296875 71.49365234375\n",
      "131.5849609375 71.42822265625\n",
      "131.5712890625 71.49951171875\n",
      "131.57958984375 71.5068359375\n",
      "131.57861328125 71.48095703125\n",
      "131.5810546875 71.46435546875\n"
     ]
    },
    {
     "name": "stderr",
     "output_type": "stream",
     "text": [
      "  6%|▌         | 5/81 [00:02<00:35,  2.17it/s]"
     ]
    },
    {
     "name": "stdout",
     "output_type": "stream",
     "text": [
      "131.58056640625 71.5048828125\n",
      "131.57861328125 71.5087890625\n",
      "131.58544921875 71.48291015625\n",
      "131.57666015625 71.50146484375\n",
      "131.57958984375 71.484375\n",
      "131.57373046875 71.5009765625\n",
      "131.57861328125 71.486328125\n",
      "131.564453125 71.52587890625\n",
      "131.55859375 71.53759765625\n",
      "131.56591796875 71.4970703125\n",
      "131.5732421875 71.47119140625\n",
      "131.5654296875 71.49365234375\n",
      "131.52197265625 71.5126953125\n",
      "131.5205078125 71.51318359375\n",
      "131.56005859375 71.53662109375\n",
      "131.5712890625 71.49951171875\n",
      "131.5185546875 71.5087890625\n",
      "131.58984375 71.47900390625\n",
      "131.57861328125 71.48095703125\n",
      "131.55615234375 71.5361328125\n",
      "131.5380859375 71.50732421875\n"
     ]
    },
    {
     "name": "stderr",
     "output_type": "stream",
     "text": [
      "  7%|▋         | 6/81 [00:02<00:39,  1.91it/s]"
     ]
    },
    {
     "name": "stdout",
     "output_type": "stream",
     "text": [
      "131.56103515625 71.5712890625\n",
      "131.548828125 71.5732421875\n",
      "131.546875 71.5751953125\n",
      "131.564453125 71.52587890625\n",
      "131.5458984375 71.57666015625\n",
      "131.55859375 71.53759765625\n",
      "131.5419921875 71.58056640625\n",
      "131.54248046875 71.5771484375\n",
      "131.54443359375 71.55859375\n",
      "131.5263671875 71.5537109375\n",
      "131.51611328125 71.55078125\n",
      "131.52197265625 71.5126953125\n",
      "131.5205078125 71.51318359375\n",
      "131.54833984375 71.57666015625\n",
      "131.56005859375 71.53662109375\n",
      "131.54638671875 71.57275390625\n",
      "131.5390625 71.578125\n",
      "131.5341796875 71.55810546875\n",
      "131.51513671875 71.55126953125\n",
      "131.5185546875 71.5087890625\n",
      "131.529296875 71.572265625\n",
      "131.53369140625 71.5498046875\n",
      "131.55615234375 71.5361328125\n",
      "131.50830078125 71.54833984375\n",
      "131.56103515625 71.5712890625\n",
      "131.53955078125 71.61669921875\n",
      "131.54931640625 71.58447265625\n",
      "131.5478515625 71.58251953125\n",
      "131.548828125 71.5732421875\n",
      "131.54541015625 71.58251953125\n",
      "131.546875 71.5751953125\n",
      "131.5458984375 71.57666015625\n",
      "131.5419921875 71.58056640625\n",
      "131.54052734375 71.58447265625\n",
      "131.54248046875 71.5771484375\n",
      "131.51953125 71.58837890625\n",
      "131.51806640625 71.580078125\n",
      "131.5263671875 71.5537109375\n",
      "131.50634765625 71.603515625\n",
      "131.5048828125 71.60205078125\n",
      "131.5068359375 71.595703125\n",
      "131.51171875 71.58203125\n",
      "131.5107421875 71.58056640625\n",
      "131.50537109375 71.59521484375\n",
      "131.509765625 71.57861328125\n",
      "131.49462890625 71.6064453125\n",
      "131.49072265625 71.5888671875\n",
      "131.48779296875 71.59619140625\n",
      "131.4794921875 71.60009765625\n",
      "131.48828125 71.5673828125\n",
      "131.47607421875 71.59228515625\n",
      "131.54833984375 71.57666015625\n",
      "131.5458984375 71.5810546875\n",
      "131.54638671875 71.57275390625\n",
      "131.5390625 71.578125\n",
      "131.52783203125 71.57666015625\n",
      "131.5341796875 71.55810546875\n",
      "131.51611328125 71.58837890625\n",
      "131.513671875 71.5869140625\n",
      "131.5126953125 71.58203125\n",
      "131.51611328125 71.5712890625\n",
      "131.51513671875 71.55126953125\n",
      "131.4951171875 71.595703125\n",
      "131.48828125 71.58935546875\n",
      "131.49072265625 71.5673828125\n",
      "131.48779296875 71.56982421875\n",
      "131.5322265625 71.57666015625\n",
      "131.529296875 71.572265625\n",
      "131.51904296875 71.5830078125\n",
      "131.50927734375 71.58984375\n",
      "131.50048828125 71.5966796875\n",
      "131.48388671875 71.59033203125\n",
      "131.53369140625 71.54931640625\n",
      "131.51904296875 71.57568359375\n",
      "131.4970703125 71.57958984375\n",
      "131.5419921875 71.58056640625\n",
      "131.54345703125 71.57861328125\n",
      "131.5029296875 71.5869140625\n"
     ]
    },
    {
     "name": "stderr",
     "output_type": "stream",
     "text": [
      "  9%|▊         | 7/81 [00:03<00:50,  1.47it/s]"
     ]
    },
    {
     "name": "stdout",
     "output_type": "stream",
     "text": [
      "131.54443359375 71.5849609375\n",
      "131.529296875 71.572265625\n"
     ]
    },
    {
     "name": "stderr",
     "output_type": "stream",
     "text": [
      " 10%|▉         | 8/81 [00:04<00:55,  1.31it/s]"
     ]
    },
    {
     "name": "stdout",
     "output_type": "stream",
     "text": [
      "131.53955078125 71.61669921875\n",
      "131.54052734375 71.58447265625\n",
      "131.51171875 71.65234375\n",
      "131.50830078125 71.62890625\n",
      "131.50830078125 71.62646484375\n",
      "131.51953125 71.58837890625\n",
      "131.50634765625 71.603515625\n",
      "131.5048828125 71.60205078125\n",
      "131.5068359375 71.595703125\n",
      "131.51171875 71.58203125\n",
      "131.5107421875 71.58056640625\n",
      "131.50537109375 71.59521484375\n",
      "131.509765625 71.57861328125\n",
      "131.48486328125 71.60498046875\n",
      "131.49072265625 71.5888671875\n",
      "131.48779296875 71.59619140625\n",
      "131.48291015625 71.60888671875\n",
      "131.48095703125 71.6083984375\n",
      "131.48291015625 71.6025390625\n",
      "131.5361328125 71.654296875\n",
      "131.4912109375 71.5693359375\n",
      "131.4794921875 71.60009765625\n",
      "131.48828125 71.5673828125\n",
      "131.50048828125 71.65576171875\n",
      "131.47509765625 71.599609375\n",
      "131.47607421875 71.59228515625\n",
      "131.5380859375 71.62548828125\n",
      "131.5380859375 71.61962890625\n",
      "131.52685546875 71.6484375\n",
      "131.52734375 71.61865234375\n",
      "131.51611328125 71.58837890625\n",
      "131.513671875 71.5869140625\n",
      "131.5126953125 71.58203125\n",
      "131.49462890625 71.61474609375\n",
      "131.4951171875 71.595703125\n",
      "131.4853515625 71.60693359375\n",
      "131.48828125 71.58935546875\n",
      "131.48828125 71.57275390625\n",
      "131.48779296875 71.56982421875\n",
      "131.50927734375 71.58984375\n",
      "131.50048828125 71.5966796875\n",
      "131.49169921875 71.6103515625\n",
      "131.4833984375 71.59033203125\n",
      "131.50830078125 71.62060546875\n",
      "131.48291015625 71.60888671875\n",
      "131.50830078125 71.62060546875\n"
     ]
    },
    {
     "name": "stderr",
     "output_type": "stream",
     "text": [
      " 11%|█         | 9/81 [00:05<00:52,  1.37it/s]"
     ]
    },
    {
     "name": "stdout",
     "output_type": "stream",
     "text": [
      "131.51904296875 71.6728515625\n",
      "131.51171875 71.65234375\n",
      "131.50537109375 71.65576171875\n",
      "131.49462890625 71.68359375\n",
      "131.50830078125 71.62646484375\n",
      "131.4853515625 71.65283203125\n",
      "131.48583984375 71.65087890625\n",
      "131.48486328125 71.6513671875\n",
      "131.48388671875 71.65283203125\n",
      "131.48388671875 71.6484375\n",
      "131.48291015625 71.60888671875\n",
      "131.52685546875 71.6484375\n",
      "131.51220703125 71.68603515625\n",
      "131.513671875 71.65380859375\n",
      "131.48876953125 71.65673828125\n",
      "131.48291015625 71.646484375\n",
      "131.5078125 71.68212890625\n",
      "131.51904296875 71.6728515625\n",
      "131.48291015625 71.60888671875\n"
     ]
    },
    {
     "name": "stderr",
     "output_type": "stream",
     "text": [
      " 12%|█▏        | 10/81 [00:05<00:41,  1.71it/s]"
     ]
    },
    {
     "name": "stdout",
     "output_type": "stream",
     "text": [
      "131.58544921875 71.3759765625\n",
      "131.54833984375 71.35302734375\n",
      "131.54638671875 71.35888671875\n",
      "131.58349609375 71.3740234375\n"
     ]
    },
    {
     "name": "stderr",
     "output_type": "stream",
     "text": [
      " 14%|█▎        | 11/81 [00:06<00:35,  1.96it/s]"
     ]
    },
    {
     "name": "stdout",
     "output_type": "stream",
     "text": [
      "131.58544921875 71.3759765625\n",
      "131.56884765625 71.392578125\n",
      "131.54833984375 71.35302734375\n",
      "131.56689453125 71.41015625\n",
      "131.54638671875 71.35888671875\n",
      "131.58349609375 71.3740234375\n",
      "131.56884765625 71.392578125\n",
      "131.5732421875 71.392578125\n"
     ]
    },
    {
     "name": "stderr",
     "output_type": "stream",
     "text": [
      " 15%|█▍        | 12/81 [00:06<00:32,  2.12it/s]"
     ]
    },
    {
     "name": "stdout",
     "output_type": "stream",
     "text": [
      "131.5693359375 71.40869140625\n",
      "131.55712890625 71.4267578125\n",
      "131.56884765625 71.392578125\n",
      "131.56689453125 71.41015625\n",
      "131.56884765625 71.392578125\n",
      "131.55615234375 71.42626953125\n",
      "131.5732421875 71.392578125\n"
     ]
    },
    {
     "name": "stderr",
     "output_type": "stream",
     "text": [
      " 16%|█▌        | 13/81 [00:06<00:27,  2.49it/s]"
     ]
    },
    {
     "name": "stdout",
     "output_type": "stream",
     "text": [
      "131.56982421875 71.427734375\n",
      "131.55712890625 71.4267578125\n",
      "131.55615234375 71.42626953125\n"
     ]
    },
    {
     "name": "stderr",
     "output_type": "stream",
     "text": [
      " 17%|█▋        | 14/81 [00:06<00:23,  2.88it/s]"
     ]
    },
    {
     "name": "stdout",
     "output_type": "stream",
     "text": [
      "131.52197265625 71.5126953125\n",
      "131.5205078125 71.51318359375\n",
      "131.517578125 71.51123046875\n",
      "131.5185546875 71.5087890625\n"
     ]
    },
    {
     "name": "stderr",
     "output_type": "stream",
     "text": [
      " 19%|█▊        | 15/81 [00:07<00:22,  2.88it/s]"
     ]
    },
    {
     "name": "stdout",
     "output_type": "stream",
     "text": [
      "131.51611328125 71.55078125\n",
      "131.52197265625 71.5126953125\n",
      "131.5205078125 71.51318359375\n",
      "131.50537109375 71.55322265625\n",
      "131.51513671875 71.55126953125\n",
      "131.521484375 71.5458984375\n",
      "131.50830078125 71.54833984375\n"
     ]
    },
    {
     "name": "stderr",
     "output_type": "stream",
     "text": [
      " 20%|█▉        | 16/81 [00:07<00:27,  2.37it/s]"
     ]
    },
    {
     "name": "stdout",
     "output_type": "stream",
     "text": [
      "131.5048828125 71.60205078125\n",
      "131.5068359375 71.595703125\n",
      "131.51171875 71.58203125\n",
      "131.5107421875 71.58056640625\n",
      "131.50537109375 71.59521484375\n",
      "131.509765625 71.57861328125\n",
      "131.50732421875 71.578125\n",
      "131.49462890625 71.6064453125\n",
      "131.49072265625 71.5888671875\n",
      "131.48779296875 71.59619140625\n",
      "131.4912109375 71.5693359375\n",
      "131.4794921875 71.60009765625\n",
      "131.48828125 71.5673828125\n",
      "131.47607421875 71.59228515625\n",
      "131.5205078125 71.51318359375\n",
      "131.51513671875 71.55126953125\n",
      "131.4951171875 71.595703125\n",
      "131.48828125 71.58935546875\n",
      "131.49072265625 71.5673828125\n",
      "131.48828125 71.57275390625\n",
      "131.48779296875 71.56982421875\n",
      "131.4833984375 71.59033203125\n",
      "131.4970703125 71.57958984375\n",
      "131.51904296875 71.57568359375\n",
      "131.4794921875 71.60009765625\n",
      "131.521484375 71.5458984375\n",
      "131.5029296875 71.5869140625\n",
      "131.50830078125 71.54833984375\n",
      "131.45556640625 71.5537109375\n"
     ]
    },
    {
     "name": "stderr",
     "output_type": "stream",
     "text": [
      " 21%|██        | 17/81 [00:08<00:32,  1.94it/s]"
     ]
    },
    {
     "name": "stdout",
     "output_type": "stream",
     "text": [
      "131.5048828125 71.60205078125\n",
      "131.5068359375 71.595703125\n",
      "131.51171875 71.58203125\n",
      "131.5107421875 71.58056640625\n",
      "131.50537109375 71.59521484375\n",
      "131.509765625 71.57861328125\n",
      "131.48486328125 71.60498046875\n",
      "131.49072265625 71.5888671875\n",
      "131.48779296875 71.59619140625\n",
      "131.48291015625 71.60888671875\n",
      "131.48095703125 71.6083984375\n",
      "131.48291015625 71.6025390625\n",
      "131.4912109375 71.5693359375\n",
      "131.4794921875 71.60009765625\n",
      "131.48828125 71.5673828125\n",
      "131.47509765625 71.599609375\n",
      "131.47607421875 71.59228515625\n",
      "131.44775390625 71.6083984375\n",
      "131.44677734375 71.607421875\n",
      "131.49462890625 71.61474609375\n",
      "131.4951171875 71.595703125\n",
      "131.4853515625 71.60693359375\n",
      "131.48828125 71.58935546875\n",
      "131.48828125 71.57275390625\n",
      "131.48779296875 71.56982421875\n",
      "131.4482421875 71.60595703125\n",
      "131.50048828125 71.5966796875\n",
      "131.49169921875 71.6103515625\n",
      "131.48388671875 71.59033203125\n",
      "131.48291015625 71.60888671875\n",
      "131.4794921875 71.60009765625\n",
      "131.5029296875 71.5869140625\n"
     ]
    },
    {
     "name": "stderr",
     "output_type": "stream",
     "text": [
      " 22%|██▏       | 18/81 [00:09<00:33,  1.90it/s]"
     ]
    },
    {
     "name": "stdout",
     "output_type": "stream",
     "text": [
      "131.4853515625 71.65283203125\n",
      "131.48583984375 71.65087890625\n",
      "131.48486328125 71.6513671875\n",
      "131.48388671875 71.65283203125\n",
      "131.48388671875 71.6484375\n",
      "131.48291015625 71.60888671875\n",
      "131.44580078125 71.638671875\n",
      "131.4443359375 71.63916015625\n",
      "131.44140625 71.6376953125\n",
      "131.44775390625 71.6083984375\n",
      "131.44677734375 71.607421875\n",
      "131.43505859375 71.63623046875\n",
      "131.4287109375 71.63330078125\n",
      "131.48291015625 71.646484375\n",
      "131.4833984375 71.59033203125\n",
      "131.4482421875 71.60595703125\n",
      "131.44580078125 71.6123046875\n",
      "131.48291015625 71.60888671875\n"
     ]
    },
    {
     "name": "stderr",
     "output_type": "stream",
     "text": [
      " 23%|██▎       | 19/81 [00:09<00:26,  2.31it/s]"
     ]
    },
    {
     "name": "stdout",
     "output_type": "stream",
     "text": [
      "131.54833984375 71.35302734375\n",
      "131.54638671875 71.35888671875\n"
     ]
    },
    {
     "name": "stderr",
     "output_type": "stream",
     "text": [
      " 26%|██▌       | 21/81 [00:09<00:18,  3.17it/s]"
     ]
    },
    {
     "name": "stdout",
     "output_type": "stream",
     "text": [
      "131.54833984375 71.35302734375\n",
      "131.54638671875 71.35888671875\n"
     ]
    },
    {
     "name": "stderr",
     "output_type": "stream",
     "text": [
      " 30%|██▉       | 24/81 [00:10<00:11,  5.01it/s]"
     ]
    },
    {
     "name": "stdout",
     "output_type": "stream",
     "text": [
      "131.45361328125 71.55224609375\n"
     ]
    },
    {
     "name": "stderr",
     "output_type": "stream",
     "text": [
      " 31%|███       | 25/81 [00:10<00:11,  4.77it/s]"
     ]
    },
    {
     "name": "stdout",
     "output_type": "stream",
     "text": [
      "131.45556640625 71.5537109375\n"
     ]
    },
    {
     "name": "stderr",
     "output_type": "stream",
     "text": [
      " 32%|███▏      | 26/81 [00:10<00:13,  4.10it/s]"
     ]
    },
    {
     "name": "stdout",
     "output_type": "stream",
     "text": [
      "131.44775390625 71.6083984375\n",
      "131.44677734375 71.607421875\n",
      "131.4482421875 71.60595703125\n",
      "131.44580078125 71.6123046875\n"
     ]
    },
    {
     "name": "stderr",
     "output_type": "stream",
     "text": [
      " 36%|███▌      | 29/81 [00:11<00:09,  5.64it/s]"
     ]
    },
    {
     "name": "stdout",
     "output_type": "stream",
     "text": [
      "131.44580078125 71.638671875\n",
      "131.4443359375 71.63916015625\n",
      "131.44140625 71.6376953125\n",
      "131.44775390625 71.6083984375\n",
      "131.44677734375 71.607421875\n",
      "131.43505859375 71.63623046875\n",
      "131.4287109375 71.63330078125\n",
      "131.4482421875 71.60595703125\n",
      "131.44580078125 71.6123046875\n",
      "131.45654296875 71.64404296875\n"
     ]
    },
    {
     "name": "stderr",
     "output_type": "stream",
     "text": [
      " 43%|████▎     | 35/81 [00:11<00:05,  7.98it/s]"
     ]
    },
    {
     "name": "stdout",
     "output_type": "stream",
     "text": [
      "131.45361328125 71.55224609375\n"
     ]
    },
    {
     "name": "stderr",
     "output_type": "stream",
     "text": [
      " 48%|████▊     | 39/81 [00:12<00:04,  9.94it/s]"
     ]
    },
    {
     "name": "stdout",
     "output_type": "stream",
     "text": [
      "131.46728515625 71.25244140625\n"
     ]
    },
    {
     "name": "stderr",
     "output_type": "stream",
     "text": [
      " 85%|████████▌ | 69/81 [00:14<00:01,  9.02it/s]"
     ]
    },
    {
     "name": "stdout",
     "output_type": "stream",
     "text": [
      "131.2646484375 71.39697265625\n"
     ]
    },
    {
     "name": "stderr",
     "output_type": "stream",
     "text": [
      " 96%|█████████▋| 78/81 [00:15<00:00,  7.41it/s]"
     ]
    },
    {
     "name": "stdout",
     "output_type": "stream",
     "text": [
      "131.2646484375 71.39697265625\n"
     ]
    },
    {
     "name": "stderr",
     "output_type": "stream",
     "text": [
      "100%|██████████| 81/81 [00:16<00:00,  4.99it/s]\n"
     ]
    },
    {
     "name": "stdout",
     "output_type": "stream",
     "text": [
      " 4 Define mapping between PRISMA LatLon and gMaps latlon\n",
      " 5 Map PRISMA Latlons to gMaps latlons (ransac affine) and save for reference\n",
      "Band 35 did not work\n",
      "# 1 create .tif file\n",
      "# 2 Download gmaps for the same location\n",
      "Image size (pix):  (1792, 1792)\n",
      "Tile coordinate top left (north-west) corner: 1048,568\n",
      " 3 Determine matched features in PRISMA image to gMaps image with SIFT\n"
     ]
    },
    {
     "name": "stderr",
     "output_type": "stream",
     "text": [
      "  1%|          | 1/81 [00:00<00:22,  3.52it/s]"
     ]
    },
    {
     "name": "stdout",
     "output_type": "stream",
     "text": [
      "131.58544921875 71.3759765625\n",
      "131.62255859375 71.380859375\n",
      "131.58349609375 71.3740234375\n"
     ]
    },
    {
     "name": "stderr",
     "output_type": "stream",
     "text": [
      "  2%|▏         | 2/81 [00:00<00:33,  2.34it/s]"
     ]
    },
    {
     "name": "stdout",
     "output_type": "stream",
     "text": [
      "131.58544921875 71.3759765625\n",
      "131.56884765625 71.392578125\n",
      "131.61376953125 71.404296875\n",
      "131.6123046875 71.4013671875\n",
      "131.59814453125 71.39697265625\n",
      "131.56689453125 71.41015625\n",
      "131.5986328125 71.400390625\n",
      "131.609375 71.4111328125\n",
      "131.58349609375 71.3740234375\n",
      "131.56884765625 71.392578125\n",
      "131.5732421875 71.392578125\n"
     ]
    },
    {
     "name": "stderr",
     "output_type": "stream",
     "text": [
      "  4%|▎         | 3/81 [00:01<00:38,  2.04it/s]"
     ]
    },
    {
     "name": "stdout",
     "output_type": "stream",
     "text": [
      "131.5810546875 71.46240234375\n",
      "131.5849609375 71.42822265625\n",
      "131.5693359375 71.40869140625\n",
      "131.55712890625 71.4267578125\n",
      "131.56884765625 71.392578125\n",
      "131.61376953125 71.404296875\n",
      "131.6123046875 71.4013671875\n",
      "131.59814453125 71.39697265625\n",
      "131.5947265625 71.3955078125\n",
      "131.56689453125 71.41015625\n",
      "131.61083984375 71.392578125\n",
      "131.5810546875 71.46435546875\n",
      "131.5986328125 71.400390625\n",
      "131.609375 71.4111328125\n",
      "131.56884765625 71.392578125\n",
      "131.55615234375 71.42626953125\n",
      "131.5732421875 71.392578125\n"
     ]
    },
    {
     "name": "stderr",
     "output_type": "stream",
     "text": [
      "  5%|▍         | 4/81 [00:01<00:36,  2.10it/s]"
     ]
    },
    {
     "name": "stdout",
     "output_type": "stream",
     "text": [
      "131.58056640625 71.5048828125\n",
      "131.58544921875 71.48291015625\n",
      "131.57666015625 71.50146484375\n",
      "131.58642578125 71.46923828125\n",
      "131.57373046875 71.5009765625\n",
      "131.57861328125 71.486328125\n",
      "131.5810546875 71.46240234375\n",
      "131.56591796875 71.4970703125\n",
      "131.5732421875 71.47119140625\n",
      "131.5654296875 71.49365234375\n",
      "131.5849609375 71.42822265625\n",
      "131.5712890625 71.49951171875\n",
      "131.57958984375 71.5068359375\n",
      "131.57373046875 71.5009765625\n",
      "131.57861328125 71.48095703125\n",
      "131.5810546875 71.46435546875\n"
     ]
    },
    {
     "name": "stderr",
     "output_type": "stream",
     "text": [
      "  6%|▌         | 5/81 [00:02<00:35,  2.15it/s]"
     ]
    },
    {
     "name": "stdout",
     "output_type": "stream",
     "text": [
      "131.5673828125 71.54443359375\n",
      "131.58056640625 71.5048828125\n",
      "131.57861328125 71.5087890625\n",
      "131.58544921875 71.48291015625\n",
      "131.5693359375 71.52392578125\n",
      "131.57666015625 71.50146484375\n",
      "131.57373046875 71.5009765625\n",
      "131.57861328125 71.486328125\n",
      "131.564453125 71.52587890625\n",
      "131.55859375 71.53759765625\n",
      "131.56591796875 71.4970703125\n",
      "131.5732421875 71.47119140625\n",
      "131.5654296875 71.49365234375\n",
      "131.52197265625 71.5126953125\n",
      "131.5205078125 71.51318359375\n",
      "131.56005859375 71.53662109375\n",
      "131.5712890625 71.49951171875\n",
      "131.58984375 71.47900390625\n",
      "131.57373046875 71.5009765625\n",
      "131.57861328125 71.48095703125\n",
      "131.55615234375 71.5361328125\n"
     ]
    },
    {
     "name": "stderr",
     "output_type": "stream",
     "text": [
      "  7%|▋         | 6/81 [00:02<00:39,  1.89it/s]"
     ]
    },
    {
     "name": "stdout",
     "output_type": "stream",
     "text": [
      "131.56103515625 71.5712890625\n",
      "131.5693359375 71.52392578125\n",
      "131.548828125 71.5732421875\n",
      "131.546875 71.5751953125\n",
      "131.564453125 71.52587890625\n",
      "131.5458984375 71.57666015625\n",
      "131.55859375 71.53759765625\n",
      "131.5419921875 71.58056640625\n",
      "131.54248046875 71.5771484375\n",
      "131.54443359375 71.55859375\n",
      "131.5263671875 71.5537109375\n",
      "131.52197265625 71.55615234375\n",
      "131.51611328125 71.55078125\n",
      "131.52197265625 71.5126953125\n",
      "131.5205078125 71.51318359375\n",
      "131.5576171875 71.57275390625\n",
      "131.54833984375 71.57666015625\n",
      "131.56005859375 71.53662109375\n",
      "131.54638671875 71.57275390625\n",
      "131.5390625 71.578125\n",
      "131.5341796875 71.55810546875\n",
      "131.51513671875 71.55126953125\n",
      "131.529296875 71.572265625\n",
      "131.53369140625 71.5498046875\n",
      "131.5498046875 71.56494140625\n",
      "131.55615234375 71.5361328125\n",
      "131.50830078125 71.54833984375\n",
      "131.56103515625 71.5712890625\n",
      "131.53955078125 71.61669921875\n",
      "131.54931640625 71.58447265625\n",
      "131.5478515625 71.58251953125\n",
      "131.548828125 71.5732421875\n",
      "131.54541015625 71.58251953125\n",
      "131.546875 71.5751953125\n",
      "131.5458984375 71.57666015625\n",
      "131.5419921875 71.58056640625\n",
      "131.54052734375 71.58447265625\n",
      "131.54248046875 71.5771484375\n",
      "131.53759765625 71.57958984375\n",
      "131.51953125 71.58837890625\n",
      "131.51806640625 71.580078125\n",
      "131.5263671875 71.5537109375\n",
      "131.50634765625 71.603515625\n",
      "131.52197265625 71.55615234375\n",
      "131.5048828125 71.60205078125\n",
      "131.5068359375 71.595703125\n",
      "131.51171875 71.58203125\n",
      "131.5107421875 71.58056640625\n",
      "131.50537109375 71.59521484375\n",
      "131.509765625 71.57861328125\n",
      "131.49072265625 71.5888671875\n",
      "131.48779296875 71.59619140625\n",
      "131.4794921875 71.60009765625\n",
      "131.48828125 71.5673828125\n",
      "131.47607421875 71.59228515625\n",
      "131.5576171875 71.57275390625\n",
      "131.54833984375 71.57666015625\n",
      "131.5458984375 71.5810546875\n",
      "131.54638671875 71.57275390625\n",
      "131.54345703125 71.57861328125\n",
      "131.5390625 71.578125\n",
      "131.52783203125 71.57666015625\n",
      "131.5341796875 71.55810546875\n",
      "131.51611328125 71.58837890625\n",
      "131.513671875 71.5869140625\n",
      "131.5126953125 71.58203125\n",
      "131.51611328125 71.5712890625\n",
      "131.51513671875 71.55126953125\n",
      "131.4951171875 71.595703125\n",
      "131.48828125 71.58935546875\n",
      "131.49072265625 71.5673828125\n",
      "131.48779296875 71.56982421875\n",
      "131.5537109375 71.57666015625\n",
      "131.5322265625 71.57666015625\n",
      "131.529296875 71.572265625\n",
      "131.51904296875 71.5830078125\n",
      "131.50927734375 71.58984375\n",
      "131.50048828125 71.5966796875\n",
      "131.48876953125 71.59375\n",
      "131.48388671875 71.59033203125\n",
      "131.52685546875 71.5615234375\n"
     ]
    },
    {
     "name": "stderr",
     "output_type": "stream",
     "text": [
      "  9%|▊         | 7/81 [00:03<00:49,  1.50it/s]"
     ]
    },
    {
     "name": "stdout",
     "output_type": "stream",
     "text": [
      "131.53369140625 71.54931640625\n",
      "131.51904296875 71.57568359375\n",
      "131.4970703125 71.57958984375\n",
      "131.53955078125 71.61669921875\n",
      "131.5419921875 71.58056640625\n",
      "131.4794921875 71.60009765625\n",
      "131.5029296875 71.5869140625\n",
      "131.54443359375 71.5849609375\n",
      "131.529296875 71.572265625\n"
     ]
    },
    {
     "name": "stderr",
     "output_type": "stream",
     "text": [
      " 10%|▉         | 8/81 [00:04<00:55,  1.32it/s]"
     ]
    },
    {
     "name": "stdout",
     "output_type": "stream",
     "text": [
      "131.53955078125 71.61669921875\n",
      "131.54052734375 71.58447265625\n",
      "131.515625 71.65185546875\n",
      "131.51171875 71.65234375\n",
      "131.50830078125 71.62890625\n",
      "131.50830078125 71.62646484375\n",
      "131.51953125 71.58837890625\n",
      "131.50634765625 71.603515625\n",
      "131.5048828125 71.60205078125\n",
      "131.5068359375 71.595703125\n",
      "131.51171875 71.58203125\n",
      "131.5107421875 71.58056640625\n",
      "131.50537109375 71.59521484375\n",
      "131.509765625 71.57861328125\n",
      "131.48486328125 71.60498046875\n",
      "131.49072265625 71.5888671875\n",
      "131.48779296875 71.59619140625\n",
      "131.48291015625 71.60888671875\n",
      "131.48095703125 71.6083984375\n",
      "131.48291015625 71.6025390625\n",
      "131.4912109375 71.5693359375\n",
      "131.4794921875 71.60009765625\n",
      "131.48828125 71.5673828125\n",
      "131.50048828125 71.65576171875\n",
      "131.47509765625 71.599609375\n",
      "131.47607421875 71.59228515625\n",
      "131.5380859375 71.61962890625\n",
      "131.52734375 71.61865234375\n",
      "131.51611328125 71.58837890625\n",
      "131.513671875 71.5869140625\n",
      "131.5126953125 71.58203125\n",
      "131.49462890625 71.61474609375\n",
      "131.4951171875 71.595703125\n",
      "131.4853515625 71.60693359375\n",
      "131.48828125 71.58935546875\n",
      "131.48828125 71.57275390625\n",
      "131.48779296875 71.56982421875\n",
      "131.50927734375 71.58984375\n",
      "131.50048828125 71.5966796875\n",
      "131.49169921875 71.6103515625\n",
      "131.4833984375 71.59033203125\n",
      "131.53955078125 71.61669921875\n",
      "131.48291015625 71.60888671875\n",
      "131.4794921875 71.60009765625\n",
      "131.5029296875 71.5869140625\n"
     ]
    },
    {
     "name": "stderr",
     "output_type": "stream",
     "text": [
      " 11%|█         | 9/81 [00:05<00:52,  1.37it/s]"
     ]
    },
    {
     "name": "stdout",
     "output_type": "stream",
     "text": [
      "131.5361328125 71.654296875\n",
      "131.51904296875 71.6728515625\n",
      "131.515625 71.65185546875\n",
      "131.51171875 71.65234375\n",
      "131.5 71.6796875\n",
      "131.50537109375 71.65576171875\n",
      "131.49462890625 71.68359375\n",
      "131.50244140625 71.65478515625\n",
      "131.50830078125 71.62890625\n",
      "131.50830078125 71.62646484375\n",
      "131.4853515625 71.65283203125\n",
      "131.48583984375 71.65087890625\n",
      "131.48486328125 71.6513671875\n",
      "131.48388671875 71.65283203125\n",
      "131.48388671875 71.6484375\n",
      "131.48291015625 71.60888671875\n",
      "131.51220703125 71.68603515625\n",
      "131.513671875 71.65380859375\n",
      "131.5029296875 71.6572265625\n",
      "131.48291015625 71.646484375\n",
      "131.4951171875 71.60791015625\n",
      "131.5078125 71.68212890625\n",
      "131.48876953125 71.65673828125\n",
      "131.51904296875 71.6728515625\n",
      "131.48291015625 71.60888671875\n"
     ]
    },
    {
     "name": "stderr",
     "output_type": "stream",
     "text": [
      " 12%|█▏        | 10/81 [00:05<00:41,  1.71it/s]"
     ]
    },
    {
     "name": "stdout",
     "output_type": "stream",
     "text": [
      "131.58544921875 71.3759765625\n",
      "131.54833984375 71.35302734375\n",
      "131.58349609375 71.3740234375\n"
     ]
    },
    {
     "name": "stderr",
     "output_type": "stream",
     "text": [
      " 14%|█▎        | 11/81 [00:06<00:36,  1.93it/s]"
     ]
    },
    {
     "name": "stdout",
     "output_type": "stream",
     "text": [
      "131.58544921875 71.3759765625\n",
      "131.56884765625 71.392578125\n",
      "131.54833984375 71.35302734375\n",
      "131.56689453125 71.41015625\n",
      "131.58349609375 71.3740234375\n",
      "131.56884765625 71.392578125\n",
      "131.5732421875 71.392578125\n"
     ]
    },
    {
     "name": "stderr",
     "output_type": "stream",
     "text": [
      " 15%|█▍        | 12/81 [00:06<00:31,  2.17it/s]"
     ]
    },
    {
     "name": "stdout",
     "output_type": "stream",
     "text": [
      "131.5693359375 71.40869140625\n",
      "131.55712890625 71.4267578125\n",
      "131.56884765625 71.392578125\n",
      "131.56689453125 71.41015625\n",
      "131.56884765625 71.392578125\n",
      "131.55615234375 71.42626953125\n",
      "131.5732421875 71.392578125\n"
     ]
    },
    {
     "name": "stderr",
     "output_type": "stream",
     "text": [
      " 16%|█▌        | 13/81 [00:06<00:26,  2.54it/s]"
     ]
    },
    {
     "name": "stdout",
     "output_type": "stream",
     "text": [
      "131.56982421875 71.427734375\n",
      "131.55712890625 71.4267578125\n",
      "131.55615234375 71.42626953125\n"
     ]
    },
    {
     "name": "stderr",
     "output_type": "stream",
     "text": [
      " 17%|█▋        | 14/81 [00:06<00:22,  2.92it/s]"
     ]
    },
    {
     "name": "stdout",
     "output_type": "stream",
     "text": [
      "131.52197265625 71.5126953125\n",
      "131.5205078125 71.51318359375\n",
      "131.517578125 71.51123046875\n"
     ]
    },
    {
     "name": "stderr",
     "output_type": "stream",
     "text": [
      " 19%|█▊        | 15/81 [00:07<00:22,  2.92it/s]"
     ]
    },
    {
     "name": "stdout",
     "output_type": "stream",
     "text": [
      "131.51611328125 71.55078125\n",
      "131.52197265625 71.5126953125\n",
      "131.5205078125 71.51318359375\n",
      "131.50537109375 71.55322265625\n",
      "131.51513671875 71.55126953125\n",
      "131.521484375 71.5458984375\n",
      "131.50830078125 71.54833984375\n"
     ]
    },
    {
     "name": "stderr",
     "output_type": "stream",
     "text": [
      " 20%|█▉        | 16/81 [00:07<00:27,  2.39it/s]"
     ]
    },
    {
     "name": "stdout",
     "output_type": "stream",
     "text": [
      "131.50634765625 71.603515625\n",
      "131.5048828125 71.60205078125\n",
      "131.5068359375 71.595703125\n",
      "131.51171875 71.58203125\n",
      "131.5107421875 71.58056640625\n",
      "131.50537109375 71.59521484375\n",
      "131.509765625 71.57861328125\n",
      "131.50732421875 71.578125\n",
      "131.49072265625 71.5888671875\n",
      "131.48779296875 71.59619140625\n",
      "131.4912109375 71.5693359375\n",
      "131.4794921875 71.60009765625\n",
      "131.48828125 71.5673828125\n",
      "131.47607421875 71.59228515625\n",
      "131.5205078125 71.51318359375\n",
      "131.51513671875 71.55126953125\n",
      "131.4951171875 71.595703125\n",
      "131.48828125 71.58935546875\n",
      "131.49072265625 71.5673828125\n",
      "131.48828125 71.57275390625\n",
      "131.48779296875 71.56982421875\n",
      "131.48876953125 71.59375\n",
      "131.4833984375 71.59033203125\n",
      "131.4970703125 71.57958984375\n",
      "131.4794921875 71.60009765625\n",
      "131.521484375 71.5458984375\n",
      "131.5029296875 71.5869140625\n",
      "131.50830078125 71.54833984375\n",
      "131.45556640625 71.5537109375\n"
     ]
    },
    {
     "name": "stderr",
     "output_type": "stream",
     "text": [
      " 21%|██        | 17/81 [00:08<00:32,  1.99it/s]"
     ]
    },
    {
     "name": "stdout",
     "output_type": "stream",
     "text": [
      "131.5048828125 71.60205078125\n",
      "131.5068359375 71.595703125\n",
      "131.51171875 71.58203125\n",
      "131.5107421875 71.58056640625\n",
      "131.50537109375 71.59521484375\n",
      "131.509765625 71.57861328125\n",
      "131.48486328125 71.60498046875\n",
      "131.49072265625 71.5888671875\n",
      "131.48779296875 71.59619140625\n",
      "131.48291015625 71.60888671875\n",
      "131.48095703125 71.6083984375\n",
      "131.48291015625 71.6025390625\n",
      "131.4912109375 71.5693359375\n",
      "131.4794921875 71.60009765625\n",
      "131.48828125 71.5673828125\n",
      "131.47509765625 71.599609375\n",
      "131.47607421875 71.59228515625\n",
      "131.44775390625 71.6083984375\n",
      "131.44677734375 71.607421875\n",
      "131.49462890625 71.61474609375\n",
      "131.4951171875 71.595703125\n",
      "131.4853515625 71.60693359375\n",
      "131.48828125 71.58935546875\n",
      "131.48828125 71.57275390625\n",
      "131.48779296875 71.56982421875\n",
      "131.4482421875 71.60595703125\n",
      "131.50048828125 71.5966796875\n",
      "131.49169921875 71.6103515625\n",
      "131.48388671875 71.59033203125\n",
      "131.48291015625 71.60888671875\n",
      "131.4794921875 71.60009765625\n",
      "131.5029296875 71.5869140625\n"
     ]
    },
    {
     "name": "stderr",
     "output_type": "stream",
     "text": [
      " 22%|██▏       | 18/81 [00:09<00:32,  1.96it/s]"
     ]
    },
    {
     "name": "stdout",
     "output_type": "stream",
     "text": [
      "131.4853515625 71.65283203125\n",
      "131.48583984375 71.65087890625\n",
      "131.48486328125 71.6513671875\n",
      "131.48388671875 71.65283203125\n",
      "131.48388671875 71.6484375\n",
      "131.48291015625 71.60888671875\n",
      "131.44580078125 71.638671875\n",
      "131.44140625 71.6376953125\n",
      "131.44775390625 71.6083984375\n",
      "131.44677734375 71.607421875\n",
      "131.43505859375 71.63623046875\n",
      "131.4287109375 71.63330078125\n",
      "131.48291015625 71.646484375\n",
      "131.4951171875 71.60791015625\n",
      "131.4833984375 71.59033203125\n",
      "131.4482421875 71.60595703125\n",
      "131.44580078125 71.6123046875\n",
      "131.48291015625 71.60888671875\n",
      "131.45654296875 71.64404296875\n"
     ]
    },
    {
     "name": "stderr",
     "output_type": "stream",
     "text": [
      " 23%|██▎       | 19/81 [00:09<00:25,  2.41it/s]"
     ]
    },
    {
     "name": "stdout",
     "output_type": "stream",
     "text": [
      "131.54833984375 71.35302734375\n"
     ]
    },
    {
     "name": "stderr",
     "output_type": "stream",
     "text": [
      " 26%|██▌       | 21/81 [00:09<00:18,  3.24it/s]"
     ]
    },
    {
     "name": "stdout",
     "output_type": "stream",
     "text": [
      "131.54833984375 71.35302734375\n"
     ]
    },
    {
     "name": "stderr",
     "output_type": "stream",
     "text": [
      " 30%|██▉       | 24/81 [00:10<00:11,  5.14it/s]"
     ]
    },
    {
     "name": "stdout",
     "output_type": "stream",
     "text": [
      "131.45361328125 71.55224609375\n"
     ]
    },
    {
     "name": "stderr",
     "output_type": "stream",
     "text": [
      " 31%|███       | 25/81 [00:10<00:11,  4.84it/s]"
     ]
    },
    {
     "name": "stdout",
     "output_type": "stream",
     "text": [
      "131.4560546875 71.55126953125\n",
      "131.45556640625 71.5537109375\n"
     ]
    },
    {
     "name": "stderr",
     "output_type": "stream",
     "text": [
      " 32%|███▏      | 26/81 [00:10<00:14,  3.90it/s]"
     ]
    },
    {
     "name": "stdout",
     "output_type": "stream",
     "text": [
      "131.44775390625 71.6083984375\n",
      "131.44677734375 71.607421875\n",
      "131.4482421875 71.60595703125\n",
      "131.44580078125 71.6123046875\n"
     ]
    },
    {
     "name": "stderr",
     "output_type": "stream",
     "text": [
      " 36%|███▌      | 29/81 [00:11<00:09,  5.39it/s]"
     ]
    },
    {
     "name": "stdout",
     "output_type": "stream",
     "text": [
      "131.44580078125 71.638671875\n",
      "131.44140625 71.6376953125\n",
      "131.44775390625 71.6083984375\n",
      "131.44677734375 71.607421875\n",
      "131.43505859375 71.63623046875\n",
      "131.4287109375 71.63330078125\n",
      "131.42822265625 71.63134765625\n",
      "131.4482421875 71.60595703125\n",
      "131.44580078125 71.6123046875\n",
      "131.45654296875 71.64404296875\n",
      "131.45654296875 71.64404296875\n"
     ]
    },
    {
     "name": "stderr",
     "output_type": "stream",
     "text": [
      " 43%|████▎     | 35/81 [00:11<00:05,  8.16it/s]"
     ]
    },
    {
     "name": "stdout",
     "output_type": "stream",
     "text": [
      "131.45361328125 71.55224609375\n"
     ]
    },
    {
     "name": "stderr",
     "output_type": "stream",
     "text": [
      " 48%|████▊     | 39/81 [00:12<00:04,  9.94it/s]"
     ]
    },
    {
     "name": "stdout",
     "output_type": "stream",
     "text": [
      "131.46728515625 71.25244140625\n"
     ]
    },
    {
     "name": "stderr",
     "output_type": "stream",
     "text": [
      " 85%|████████▌ | 69/81 [00:14<00:01,  8.74it/s]"
     ]
    },
    {
     "name": "stdout",
     "output_type": "stream",
     "text": [
      "131.2646484375 71.39697265625\n"
     ]
    },
    {
     "name": "stderr",
     "output_type": "stream",
     "text": [
      " 96%|█████████▋| 78/81 [00:15<00:00,  7.32it/s]"
     ]
    },
    {
     "name": "stdout",
     "output_type": "stream",
     "text": [
      "131.2646484375 71.39697265625\n"
     ]
    },
    {
     "name": "stderr",
     "output_type": "stream",
     "text": [
      "100%|██████████| 81/81 [00:16<00:00,  5.03it/s]\n"
     ]
    },
    {
     "name": "stdout",
     "output_type": "stream",
     "text": [
      " 4 Define mapping between PRISMA LatLon and gMaps latlon\n",
      " 5 Map PRISMA Latlons to gMaps latlons (ransac affine) and save for reference\n",
      "Band 36 did not work\n",
      "# 1 create .tif file\n",
      "# 2 Download gmaps for the same location\n",
      "Image size (pix):  (1792, 1792)\n",
      "Tile coordinate top left (north-west) corner: 1048,568\n",
      " 3 Determine matched features in PRISMA image to gMaps image with SIFT\n"
     ]
    },
    {
     "name": "stderr",
     "output_type": "stream",
     "text": [
      "  1%|          | 1/81 [00:00<00:26,  2.97it/s]"
     ]
    },
    {
     "name": "stdout",
     "output_type": "stream",
     "text": [
      "131.58544921875 71.3759765625\n",
      "131.62255859375 71.380859375\n",
      "131.58349609375 71.3740234375\n"
     ]
    },
    {
     "name": "stderr",
     "output_type": "stream",
     "text": [
      "  2%|▏         | 2/81 [00:01<00:42,  1.88it/s]"
     ]
    },
    {
     "name": "stdout",
     "output_type": "stream",
     "text": [
      "131.58544921875 71.3759765625\n",
      "131.6123046875 71.4013671875\n",
      "131.59814453125 71.39697265625\n",
      "131.56689453125 71.41015625\n",
      "131.5986328125 71.400390625\n",
      "131.58349609375 71.3740234375\n",
      "131.56884765625 71.392578125\n",
      "131.56884765625 71.392578125\n",
      "131.5732421875 71.392578125\n"
     ]
    },
    {
     "name": "stderr",
     "output_type": "stream",
     "text": [
      "  4%|▎         | 3/81 [00:01<00:52,  1.49it/s]"
     ]
    },
    {
     "name": "stdout",
     "output_type": "stream",
     "text": [
      "131.5810546875 71.46240234375\n",
      "131.5849609375 71.42822265625\n",
      "131.5693359375 71.40869140625\n",
      "131.55712890625 71.4267578125\n",
      "131.6123046875 71.4013671875\n",
      "131.59814453125 71.39697265625\n",
      "131.5947265625 71.3955078125\n",
      "131.56689453125 71.41015625\n",
      "131.61083984375 71.392578125\n",
      "131.5810546875 71.46435546875\n",
      "131.5986328125 71.400390625\n",
      "131.56884765625 71.392578125\n",
      "131.56884765625 71.392578125\n",
      "131.55615234375 71.42626953125\n",
      "131.5732421875 71.392578125\n"
     ]
    },
    {
     "name": "stderr",
     "output_type": "stream",
     "text": [
      "  5%|▍         | 4/81 [00:02<00:48,  1.57it/s]"
     ]
    },
    {
     "name": "stdout",
     "output_type": "stream",
     "text": [
      "131.58056640625 71.5048828125\n",
      "131.58544921875 71.48291015625\n",
      "131.57470703125 71.427734375\n",
      "131.57666015625 71.50146484375\n",
      "131.58642578125 71.46923828125\n",
      "131.57373046875 71.5009765625\n",
      "131.57861328125 71.486328125\n",
      "131.580078125 71.466796875\n",
      "131.5810546875 71.46240234375\n",
      "131.56591796875 71.4970703125\n",
      "131.5732421875 71.47119140625\n",
      "131.5654296875 71.49365234375\n",
      "131.5849609375 71.42822265625\n",
      "131.5712890625 71.49951171875\n",
      "131.572265625 71.42724609375\n",
      "131.57958984375 71.5068359375\n",
      "131.57861328125 71.48095703125\n",
      "131.5810546875 71.46435546875\n"
     ]
    },
    {
     "name": "stderr",
     "output_type": "stream",
     "text": [
      "  6%|▌         | 5/81 [00:03<00:47,  1.59it/s]"
     ]
    },
    {
     "name": "stdout",
     "output_type": "stream",
     "text": [
      "131.58056640625 71.5048828125\n",
      "131.57861328125 71.5087890625\n",
      "131.56494140625 71.54345703125\n",
      "131.58544921875 71.48291015625\n",
      "131.57666015625 71.50146484375\n",
      "131.57373046875 71.5009765625\n",
      "131.57861328125 71.486328125\n",
      "131.564453125 71.52587890625\n",
      "131.55859375 71.53759765625\n",
      "131.56591796875 71.4970703125\n",
      "131.5732421875 71.47119140625\n",
      "131.5654296875 71.49365234375\n",
      "131.52197265625 71.5126953125\n",
      "131.5205078125 71.51318359375\n",
      "131.56005859375 71.53662109375\n",
      "131.5712890625 71.49951171875\n",
      "131.5185546875 71.5087890625\n",
      "131.58984375 71.47900390625\n",
      "131.57861328125 71.48095703125\n",
      "131.55615234375 71.5361328125\n"
     ]
    },
    {
     "name": "stderr",
     "output_type": "stream",
     "text": [
      "  7%|▋         | 6/81 [00:03<00:49,  1.50it/s]"
     ]
    },
    {
     "name": "stdout",
     "output_type": "stream",
     "text": [
      "131.56103515625 71.5712890625\n",
      "131.548828125 71.5732421875\n",
      "131.546875 71.5751953125\n",
      "131.564453125 71.52587890625\n",
      "131.5458984375 71.57666015625\n",
      "131.55859375 71.53759765625\n",
      "131.5419921875 71.58056640625\n",
      "131.54931640625 71.5615234375\n",
      "131.54248046875 71.5771484375\n",
      "131.54443359375 71.55859375\n",
      "131.5263671875 71.5537109375\n",
      "131.51611328125 71.55078125\n",
      "131.52197265625 71.5126953125\n",
      "131.5205078125 71.51318359375\n",
      "131.54833984375 71.57666015625\n",
      "131.56005859375 71.53662109375\n",
      "131.54638671875 71.57275390625\n",
      "131.5390625 71.578125\n",
      "131.5341796875 71.55810546875\n",
      "131.51513671875 71.55126953125\n",
      "131.5185546875 71.5087890625\n",
      "131.529296875 71.572265625\n",
      "131.50830078125 71.54833984375\n",
      "131.53369140625 71.5498046875\n",
      "131.55615234375 71.5361328125\n",
      "131.56103515625 71.5712890625\n",
      "131.53955078125 71.61669921875\n",
      "131.54931640625 71.58447265625\n",
      "131.5478515625 71.58251953125\n",
      "131.548828125 71.5732421875\n",
      "131.54541015625 71.58251953125\n",
      "131.546875 71.5751953125\n",
      "131.5458984375 71.57666015625\n",
      "131.5419921875 71.58056640625\n",
      "131.54052734375 71.58447265625\n",
      "131.54931640625 71.5615234375\n",
      "131.54248046875 71.5771484375\n",
      "131.53759765625 71.57958984375\n",
      "131.51953125 71.58837890625\n",
      "131.51806640625 71.580078125\n",
      "131.5263671875 71.5537109375\n",
      "131.50634765625 71.603515625\n",
      "131.5048828125 71.60205078125\n",
      "131.5068359375 71.595703125\n",
      "131.51171875 71.58203125\n",
      "131.5107421875 71.58056640625\n",
      "131.50537109375 71.59521484375\n",
      "131.509765625 71.57861328125\n",
      "131.49072265625 71.5888671875\n",
      "131.48779296875 71.59619140625\n",
      "131.4794921875 71.60009765625\n",
      "131.48828125 71.5673828125\n",
      "131.47607421875 71.59228515625\n",
      "131.5576171875 71.57275390625\n",
      "131.5380859375 71.61376953125\n",
      "131.54833984375 71.57666015625\n",
      "131.5458984375 71.5810546875\n",
      "131.54638671875 71.57275390625\n",
      "131.54345703125 71.57861328125\n",
      "131.5390625 71.578125\n",
      "131.52783203125 71.57666015625\n",
      "131.5341796875 71.55810546875\n",
      "131.51611328125 71.58837890625\n",
      "131.513671875 71.5869140625\n",
      "131.5126953125 71.58203125\n",
      "131.51611328125 71.5712890625\n",
      "131.51513671875 71.55126953125\n",
      "131.4951171875 71.595703125\n",
      "131.48828125 71.58935546875\n",
      "131.49072265625 71.5673828125\n",
      "131.48779296875 71.56982421875\n",
      "131.5537109375 71.57666015625\n",
      "131.5322265625 71.57666015625\n",
      "131.529296875 71.572265625\n",
      "131.51904296875 71.5830078125\n",
      "131.50927734375 71.58984375\n"
     ]
    },
    {
     "name": "stderr",
     "output_type": "stream",
     "text": [
      "  9%|▊         | 7/81 [00:04<00:57,  1.29it/s]"
     ]
    },
    {
     "name": "stdout",
     "output_type": "stream",
     "text": [
      "131.50048828125 71.5966796875\n",
      "131.48388671875 71.59033203125\n",
      "131.52685546875 71.5615234375\n",
      "131.53369140625 71.54931640625\n",
      "131.51904296875 71.57568359375\n",
      "131.4970703125 71.57958984375\n",
      "131.53955078125 71.61669921875\n",
      "131.5419921875 71.58056640625\n",
      "131.5029296875 71.5869140625\n",
      "131.54443359375 71.5849609375\n",
      "131.529296875 71.572265625\n"
     ]
    },
    {
     "name": "stderr",
     "output_type": "stream",
     "text": [
      " 10%|▉         | 8/81 [00:05<01:00,  1.21it/s]"
     ]
    },
    {
     "name": "stdout",
     "output_type": "stream",
     "text": [
      "131.5380859375 71.62548828125\n",
      "131.53955078125 71.61669921875\n",
      "131.54052734375 71.58447265625\n",
      "131.515625 71.65185546875\n",
      "131.51171875 71.65234375\n",
      "131.50830078125 71.62890625\n",
      "131.51953125 71.58837890625\n",
      "131.51806640625 71.580078125\n",
      "131.50634765625 71.603515625\n",
      "131.5048828125 71.60205078125\n",
      "131.5068359375 71.595703125\n",
      "131.51171875 71.58203125\n",
      "131.5107421875 71.58056640625\n",
      "131.50537109375 71.59521484375\n",
      "131.509765625 71.57861328125\n",
      "131.48486328125 71.60498046875\n",
      "131.49072265625 71.5888671875\n",
      "131.48779296875 71.59619140625\n",
      "131.48291015625 71.60888671875\n",
      "131.48095703125 71.6083984375\n",
      "131.48291015625 71.6025390625\n",
      "131.4912109375 71.5693359375\n",
      "131.4794921875 71.60009765625\n",
      "131.466796875 71.6376953125\n",
      "131.48828125 71.5673828125\n",
      "131.50048828125 71.65576171875\n",
      "131.47509765625 71.599609375\n",
      "131.47607421875 71.59228515625\n",
      "131.5380859375 71.61962890625\n",
      "131.5380859375 71.61376953125\n",
      "131.53564453125 71.61767578125\n",
      "131.52734375 71.61865234375\n",
      "131.51611328125 71.58837890625\n",
      "131.513671875 71.5869140625\n",
      "131.5126953125 71.58203125\n",
      "131.49462890625 71.61474609375\n",
      "131.4951171875 71.595703125\n",
      "131.4853515625 71.60693359375\n",
      "131.48828125 71.58935546875\n",
      "131.48828125 71.57275390625\n",
      "131.48779296875 71.56982421875\n",
      "131.50927734375 71.58984375\n",
      "131.50048828125 71.5966796875\n",
      "131.49169921875 71.6103515625\n",
      "131.4833984375 71.59033203125\n",
      "131.53955078125 71.61669921875\n",
      "131.48291015625 71.60888671875\n"
     ]
    },
    {
     "name": "stderr",
     "output_type": "stream",
     "text": [
      " 11%|█         | 9/81 [00:06<00:55,  1.29it/s]"
     ]
    },
    {
     "name": "stdout",
     "output_type": "stream",
     "text": [
      "131.51904296875 71.6728515625\n",
      "131.51025390625 71.689453125\n",
      "131.515625 71.65185546875\n",
      "131.51171875 71.65234375\n",
      "131.50537109375 71.65576171875\n",
      "131.49462890625 71.68359375\n",
      "131.50244140625 71.65478515625\n",
      "131.50830078125 71.62890625\n",
      "131.4853515625 71.65283203125\n",
      "131.48583984375 71.65087890625\n",
      "131.48486328125 71.6513671875\n",
      "131.48388671875 71.65283203125\n",
      "131.48388671875 71.6484375\n",
      "131.48291015625 71.60888671875\n",
      "131.466796875 71.6376953125\n",
      "131.51220703125 71.68603515625\n",
      "131.513671875 71.65380859375\n",
      "131.5029296875 71.6572265625\n",
      "131.48876953125 71.65673828125\n",
      "131.48291015625 71.646484375\n",
      "131.4951171875 71.60791015625\n",
      "131.5078125 71.68212890625\n",
      "131.51904296875 71.6728515625\n",
      "131.48291015625 71.60888671875\n"
     ]
    },
    {
     "name": "stderr",
     "output_type": "stream",
     "text": [
      " 12%|█▏        | 10/81 [00:06<00:43,  1.62it/s]"
     ]
    },
    {
     "name": "stdout",
     "output_type": "stream",
     "text": [
      "131.58544921875 71.3759765625\n",
      "131.54833984375 71.35302734375\n",
      "131.54638671875 71.35888671875\n",
      "131.58349609375 71.3740234375\n"
     ]
    },
    {
     "name": "stderr",
     "output_type": "stream",
     "text": [
      " 14%|█▎        | 11/81 [00:07<00:39,  1.79it/s]"
     ]
    },
    {
     "name": "stdout",
     "output_type": "stream",
     "text": [
      "131.58544921875 71.3759765625\n",
      "131.54833984375 71.35302734375\n",
      "131.56689453125 71.41015625\n",
      "131.54638671875 71.35888671875\n",
      "131.58349609375 71.3740234375\n",
      "131.56884765625 71.392578125\n",
      "131.56884765625 71.392578125\n",
      "131.5732421875 71.392578125\n"
     ]
    },
    {
     "name": "stderr",
     "output_type": "stream",
     "text": [
      " 15%|█▍        | 12/81 [00:07<00:34,  2.03it/s]"
     ]
    },
    {
     "name": "stdout",
     "output_type": "stream",
     "text": [
      "131.5693359375 71.40869140625\n",
      "131.55712890625 71.4267578125\n",
      "131.56689453125 71.41015625\n",
      "131.56884765625 71.392578125\n",
      "131.56884765625 71.392578125\n",
      "131.55615234375 71.42626953125\n",
      "131.5732421875 71.392578125\n"
     ]
    },
    {
     "name": "stderr",
     "output_type": "stream",
     "text": [
      " 16%|█▌        | 13/81 [00:07<00:28,  2.39it/s]"
     ]
    },
    {
     "name": "stdout",
     "output_type": "stream",
     "text": [
      "131.57080078125 71.42626953125\n",
      "131.56982421875 71.427734375\n",
      "131.55712890625 71.4267578125\n",
      "131.55615234375 71.42626953125\n"
     ]
    },
    {
     "name": "stderr",
     "output_type": "stream",
     "text": [
      " 17%|█▋        | 14/81 [00:07<00:24,  2.77it/s]"
     ]
    },
    {
     "name": "stdout",
     "output_type": "stream",
     "text": [
      "131.52197265625 71.5126953125\n",
      "131.5205078125 71.51318359375\n",
      "131.517578125 71.51123046875\n",
      "131.5185546875 71.5087890625\n"
     ]
    },
    {
     "name": "stderr",
     "output_type": "stream",
     "text": [
      " 19%|█▊        | 15/81 [00:08<00:23,  2.83it/s]"
     ]
    },
    {
     "name": "stdout",
     "output_type": "stream",
     "text": [
      "131.51611328125 71.55078125\n",
      "131.52197265625 71.5126953125\n",
      "131.5205078125 71.51318359375\n",
      "131.50537109375 71.55322265625\n",
      "131.51513671875 71.55126953125\n",
      "131.50830078125 71.54833984375\n",
      "131.521484375 71.5458984375\n"
     ]
    },
    {
     "name": "stderr",
     "output_type": "stream",
     "text": [
      " 20%|█▉        | 16/81 [00:08<00:27,  2.36it/s]"
     ]
    },
    {
     "name": "stdout",
     "output_type": "stream",
     "text": [
      "131.5048828125 71.60205078125\n",
      "131.5068359375 71.595703125\n",
      "131.51171875 71.58203125\n",
      "131.5107421875 71.58056640625\n",
      "131.50537109375 71.59521484375\n",
      "131.509765625 71.57861328125\n",
      "131.50732421875 71.578125\n",
      "131.49072265625 71.5888671875\n",
      "131.48779296875 71.59619140625\n",
      "131.4912109375 71.5693359375\n",
      "131.4794921875 71.60009765625\n",
      "131.48828125 71.5673828125\n",
      "131.47607421875 71.59228515625\n",
      "131.5205078125 71.51318359375\n",
      "131.51513671875 71.55126953125\n",
      "131.4951171875 71.595703125\n",
      "131.48828125 71.58935546875\n",
      "131.49072265625 71.5673828125\n",
      "131.48828125 71.57275390625\n",
      "131.48779296875 71.56982421875\n",
      "131.50830078125 71.54833984375\n",
      "131.4833984375 71.59033203125\n",
      "131.4970703125 71.57958984375\n",
      "131.51904296875 71.57568359375\n",
      "131.4794921875 71.60009765625\n",
      "131.521484375 71.5458984375\n",
      "131.5029296875 71.5869140625\n",
      "131.45556640625 71.5537109375\n"
     ]
    },
    {
     "name": "stderr",
     "output_type": "stream",
     "text": [
      " 21%|██        | 17/81 [00:09<00:33,  1.93it/s]"
     ]
    },
    {
     "name": "stdout",
     "output_type": "stream",
     "text": [
      "131.5048828125 71.60205078125\n",
      "131.5068359375 71.595703125\n",
      "131.51171875 71.58203125\n",
      "131.5107421875 71.58056640625\n",
      "131.50537109375 71.59521484375\n",
      "131.509765625 71.57861328125\n",
      "131.48486328125 71.60498046875\n",
      "131.49072265625 71.5888671875\n",
      "131.48779296875 71.59619140625\n",
      "131.48291015625 71.60888671875\n",
      "131.48095703125 71.6083984375\n",
      "131.48291015625 71.6025390625\n",
      "131.4912109375 71.5693359375\n",
      "131.4794921875 71.60009765625\n",
      "131.466796875 71.6376953125\n",
      "131.48828125 71.5673828125\n",
      "131.47509765625 71.599609375\n",
      "131.47607421875 71.59228515625\n",
      "131.44775390625 71.6083984375\n",
      "131.44677734375 71.607421875\n",
      "131.49462890625 71.61474609375\n",
      "131.4951171875 71.595703125\n",
      "131.4853515625 71.60693359375\n",
      "131.48828125 71.58935546875\n",
      "131.48828125 71.57275390625\n",
      "131.48779296875 71.56982421875\n",
      "131.4482421875 71.60595703125\n",
      "131.50048828125 71.5966796875\n",
      "131.49169921875 71.6103515625\n",
      "131.48388671875 71.59033203125\n",
      "131.48291015625 71.60888671875\n",
      "131.4794921875 71.60009765625\n",
      "131.5029296875 71.5869140625\n"
     ]
    },
    {
     "name": "stderr",
     "output_type": "stream",
     "text": [
      " 22%|██▏       | 18/81 [00:10<00:34,  1.85it/s]"
     ]
    },
    {
     "name": "stdout",
     "output_type": "stream",
     "text": [
      "131.4853515625 71.65283203125\n",
      "131.48583984375 71.65087890625\n",
      "131.48486328125 71.6513671875\n",
      "131.48388671875 71.65283203125\n",
      "131.48388671875 71.6484375\n",
      "131.48291015625 71.60888671875\n",
      "131.466796875 71.6376953125\n",
      "131.4443359375 71.63916015625\n",
      "131.44140625 71.6376953125\n",
      "131.44775390625 71.6083984375\n",
      "131.44677734375 71.607421875\n",
      "131.43505859375 71.63623046875\n",
      "131.4287109375 71.63330078125\n",
      "131.48291015625 71.646484375\n",
      "131.4951171875 71.60791015625\n",
      "131.4482421875 71.60595703125\n",
      "131.44580078125 71.6123046875\n",
      "131.48291015625 71.60888671875\n",
      "131.45654296875 71.64404296875\n"
     ]
    },
    {
     "name": "stderr",
     "output_type": "stream",
     "text": [
      " 23%|██▎       | 19/81 [00:10<00:29,  2.11it/s]"
     ]
    },
    {
     "name": "stdout",
     "output_type": "stream",
     "text": [
      "131.54833984375 71.35302734375\n",
      "131.54638671875 71.35888671875\n"
     ]
    },
    {
     "name": "stderr",
     "output_type": "stream",
     "text": [
      " 25%|██▍       | 20/81 [00:10<00:25,  2.37it/s]"
     ]
    },
    {
     "name": "stdout",
     "output_type": "stream",
     "text": [
      "131.54833984375 71.35302734375\n",
      "131.54638671875 71.35888671875\n"
     ]
    },
    {
     "name": "stderr",
     "output_type": "stream",
     "text": [
      " 30%|██▉       | 24/81 [00:11<00:12,  4.55it/s]"
     ]
    },
    {
     "name": "stdout",
     "output_type": "stream",
     "text": [
      "131.45361328125 71.55224609375\n"
     ]
    },
    {
     "name": "stderr",
     "output_type": "stream",
     "text": [
      " 31%|███       | 25/81 [00:11<00:12,  4.43it/s]"
     ]
    },
    {
     "name": "stdout",
     "output_type": "stream",
     "text": [
      "131.45556640625 71.5537109375\n"
     ]
    },
    {
     "name": "stderr",
     "output_type": "stream",
     "text": [
      " 32%|███▏      | 26/81 [00:11<00:14,  3.88it/s]"
     ]
    },
    {
     "name": "stdout",
     "output_type": "stream",
     "text": [
      "131.44775390625 71.6083984375\n",
      "131.44677734375 71.607421875\n",
      "131.4482421875 71.60595703125\n",
      "131.44580078125 71.6123046875\n"
     ]
    },
    {
     "name": "stderr",
     "output_type": "stream",
     "text": [
      " 36%|███▌      | 29/81 [00:12<00:09,  5.35it/s]"
     ]
    },
    {
     "name": "stdout",
     "output_type": "stream",
     "text": [
      "131.44580078125 71.638671875\n",
      "131.4443359375 71.63916015625\n",
      "131.44140625 71.6376953125\n",
      "131.44775390625 71.6083984375\n",
      "131.44677734375 71.607421875\n",
      "131.43505859375 71.63623046875\n",
      "131.4287109375 71.63330078125\n",
      "131.4482421875 71.60595703125\n",
      "131.44580078125 71.6123046875\n",
      "131.45654296875 71.64404296875\n",
      "131.45654296875 71.64404296875\n"
     ]
    },
    {
     "name": "stderr",
     "output_type": "stream",
     "text": [
      " 44%|████▍     | 36/81 [00:13<00:05,  8.95it/s]"
     ]
    },
    {
     "name": "stdout",
     "output_type": "stream",
     "text": [
      "131.45361328125 71.55224609375\n"
     ]
    },
    {
     "name": "stderr",
     "output_type": "stream",
     "text": [
      " 49%|████▉     | 40/81 [00:13<00:04, 10.18it/s]"
     ]
    },
    {
     "name": "stdout",
     "output_type": "stream",
     "text": [
      "131.46728515625 71.25244140625\n"
     ]
    },
    {
     "name": "stderr",
     "output_type": "stream",
     "text": [
      " 84%|████████▍ | 68/81 [00:15<00:01,  9.74it/s]"
     ]
    },
    {
     "name": "stdout",
     "output_type": "stream",
     "text": [
      "131.2646484375 71.39697265625\n"
     ]
    },
    {
     "name": "stderr",
     "output_type": "stream",
     "text": [
      " 96%|█████████▋| 78/81 [00:17<00:00,  7.34it/s]"
     ]
    },
    {
     "name": "stdout",
     "output_type": "stream",
     "text": [
      "131.2646484375 71.39697265625\n"
     ]
    },
    {
     "name": "stderr",
     "output_type": "stream",
     "text": [
      "100%|██████████| 81/81 [00:17<00:00,  4.60it/s]\n"
     ]
    },
    {
     "name": "stdout",
     "output_type": "stream",
     "text": [
      " 4 Define mapping between PRISMA LatLon and gMaps latlon\n",
      " 5 Map PRISMA Latlons to gMaps latlons (ransac affine) and save for reference\n",
      "Band 37 did not work\n",
      "# 1 create .tif file\n",
      "# 2 Download gmaps for the same location\n",
      "Image size (pix):  (1792, 1792)\n",
      "Tile coordinate top left (north-west) corner: 1048,568\n",
      " 3 Determine matched features in PRISMA image to gMaps image with SIFT\n"
     ]
    },
    {
     "name": "stderr",
     "output_type": "stream",
     "text": [
      "100%|██████████| 81/81 [01:08<00:00,  1.17it/s]\n"
     ]
    },
    {
     "name": "stdout",
     "output_type": "stream",
     "text": [
      "Band 38 did not work\n",
      "# 1 create .tif file\n",
      "# 2 Download gmaps for the same location\n",
      "Image size (pix):  (1792, 1792)\n",
      "Tile coordinate top left (north-west) corner: 1048,568\n",
      " 3 Determine matched features in PRISMA image to gMaps image with SIFT\n"
     ]
    },
    {
     "name": "stderr",
     "output_type": "stream",
     "text": [
      "  1%|          | 1/81 [00:00<00:25,  3.16it/s]"
     ]
    },
    {
     "name": "stdout",
     "output_type": "stream",
     "text": [
      "131.58544921875 71.3759765625\n",
      "131.6171875 71.38623046875\n",
      "131.62255859375 71.380859375\n",
      "131.58544921875 71.3759765625\n",
      "131.58349609375 71.3740234375\n"
     ]
    },
    {
     "name": "stderr",
     "output_type": "stream",
     "text": [
      "  2%|▏         | 2/81 [00:00<00:37,  2.13it/s]"
     ]
    },
    {
     "name": "stdout",
     "output_type": "stream",
     "text": [
      "131.5927734375 71.3837890625\n",
      "131.58544921875 71.3759765625\n",
      "131.56884765625 71.392578125\n",
      "131.61376953125 71.404296875\n",
      "131.6123046875 71.4013671875\n",
      "131.55712890625 71.4267578125\n",
      "131.59814453125 71.39697265625\n",
      "131.56689453125 71.41015625\n",
      "131.5986328125 71.400390625\n",
      "131.609375 71.4111328125\n",
      "131.58544921875 71.3759765625\n",
      "131.58349609375 71.3740234375\n",
      "131.56884765625 71.392578125\n",
      "131.5732421875 71.392578125\n"
     ]
    },
    {
     "name": "stderr",
     "output_type": "stream",
     "text": [
      "  4%|▎         | 3/81 [00:01<00:40,  1.93it/s]"
     ]
    },
    {
     "name": "stdout",
     "output_type": "stream",
     "text": [
      "131.5810546875 71.46240234375\n",
      "131.5849609375 71.42822265625\n",
      "131.5693359375 71.40869140625\n",
      "131.55712890625 71.4267578125\n",
      "131.56884765625 71.392578125\n",
      "131.61376953125 71.404296875\n",
      "131.6123046875 71.4013671875\n",
      "131.59814453125 71.39697265625\n",
      "131.5947265625 71.3955078125\n",
      "131.56689453125 71.41015625\n",
      "131.5810546875 71.46435546875\n",
      "131.5986328125 71.400390625\n",
      "131.609375 71.4111328125\n",
      "131.56884765625 71.392578125\n",
      "131.55615234375 71.42626953125\n",
      "131.5732421875 71.392578125\n"
     ]
    },
    {
     "name": "stderr",
     "output_type": "stream",
     "text": [
      "  5%|▍         | 4/81 [00:02<00:43,  1.78it/s]"
     ]
    },
    {
     "name": "stdout",
     "output_type": "stream",
     "text": [
      "131.572265625 71.42724609375\n",
      "131.58056640625 71.5048828125\n",
      "131.58544921875 71.48291015625\n",
      "131.57470703125 71.427734375\n",
      "131.57666015625 71.50146484375\n",
      "131.58642578125 71.46923828125\n",
      "131.57373046875 71.5009765625\n",
      "131.57861328125 71.486328125\n",
      "131.5810546875 71.46240234375\n",
      "131.56591796875 71.4970703125\n",
      "131.5732421875 71.47119140625\n",
      "131.5654296875 71.49365234375\n",
      "131.5849609375 71.42822265625\n",
      "131.5712890625 71.49951171875\n",
      "131.57958984375 71.5068359375\n",
      "131.57373046875 71.5009765625\n",
      "131.57861328125 71.48095703125\n",
      "131.5810546875 71.46435546875\n"
     ]
    },
    {
     "name": "stderr",
     "output_type": "stream",
     "text": [
      "  6%|▌         | 5/81 [00:02<00:42,  1.80it/s]"
     ]
    },
    {
     "name": "stdout",
     "output_type": "stream",
     "text": [
      "131.58056640625 71.5048828125\n",
      "131.57861328125 71.5087890625\n",
      "131.58544921875 71.48291015625\n",
      "131.57666015625 71.50146484375\n",
      "131.57958984375 71.484375\n",
      "131.57373046875 71.5009765625\n",
      "131.57861328125 71.486328125\n",
      "131.564453125 71.52587890625\n",
      "131.55859375 71.53759765625\n",
      "131.5673828125 71.4990234375\n",
      "131.56591796875 71.4970703125\n",
      "131.5732421875 71.47119140625\n",
      "131.5654296875 71.49365234375\n",
      "131.56494140625 71.54345703125\n",
      "131.52197265625 71.5126953125\n",
      "131.5205078125 71.51318359375\n",
      "131.56005859375 71.53662109375\n",
      "131.5712890625 71.49951171875\n",
      "131.58984375 71.47900390625\n",
      "131.57373046875 71.5009765625\n",
      "131.57861328125 71.48095703125\n",
      "131.55615234375 71.5361328125\n"
     ]
    },
    {
     "name": "stderr",
     "output_type": "stream",
     "text": [
      "  7%|▋         | 6/81 [00:03<00:44,  1.70it/s]"
     ]
    },
    {
     "name": "stdout",
     "output_type": "stream",
     "text": [
      "131.56103515625 71.5712890625\n",
      "131.548828125 71.5732421875\n",
      "131.546875 71.5751953125\n",
      "131.564453125 71.52587890625\n",
      "131.5458984375 71.57666015625\n",
      "131.55859375 71.53759765625\n",
      "131.5419921875 71.58056640625\n",
      "131.54931640625 71.5615234375\n",
      "131.54248046875 71.5771484375\n",
      "131.54443359375 71.55859375\n",
      "131.5263671875 71.5537109375\n",
      "131.52587890625 71.55224609375\n",
      "131.52197265625 71.55615234375\n",
      "131.51611328125 71.55078125\n",
      "131.52197265625 71.5126953125\n",
      "131.5205078125 71.51318359375\n",
      "131.54833984375 71.57666015625\n",
      "131.56005859375 71.53662109375\n",
      "131.54638671875 71.57275390625\n",
      "131.5390625 71.578125\n",
      "131.5341796875 71.55810546875\n",
      "131.51513671875 71.55126953125\n",
      "131.529296875 71.572265625\n",
      "131.50830078125 71.54833984375\n",
      "131.53369140625 71.5498046875\n",
      "131.5498046875 71.56494140625\n",
      "131.55615234375 71.5361328125\n",
      "131.53759765625 71.56689453125\n",
      "131.56103515625 71.5712890625\n",
      "131.53955078125 71.61669921875\n",
      "131.54931640625 71.58447265625\n",
      "131.5478515625 71.58251953125\n",
      "131.548828125 71.5732421875\n",
      "131.54541015625 71.58251953125\n",
      "131.546875 71.5751953125\n",
      "131.5458984375 71.57666015625\n",
      "131.5419921875 71.58056640625\n",
      "131.54052734375 71.58447265625\n",
      "131.54931640625 71.5615234375\n",
      "131.54248046875 71.5771484375\n",
      "131.53759765625 71.57958984375\n",
      "131.51953125 71.58837890625\n",
      "131.51806640625 71.580078125\n",
      "131.5263671875 71.5537109375\n",
      "131.52587890625 71.55224609375\n",
      "131.52197265625 71.55615234375\n",
      "131.5068359375 71.595703125\n",
      "131.51171875 71.58203125\n",
      "131.5107421875 71.58056640625\n",
      "131.50537109375 71.59521484375\n",
      "131.509765625 71.57861328125\n",
      "131.49072265625 71.5888671875\n",
      "131.48779296875 71.59619140625\n",
      "131.4794921875 71.60009765625\n",
      "131.48828125 71.5673828125\n",
      "131.47607421875 71.59228515625\n",
      "131.5576171875 71.57275390625\n",
      "131.556640625 71.56884765625\n",
      "131.5380859375 71.61376953125\n",
      "131.54833984375 71.57666015625\n",
      "131.5458984375 71.5810546875\n",
      "131.54638671875 71.57275390625\n",
      "131.54345703125 71.57861328125\n",
      "131.5390625 71.578125\n",
      "131.52783203125 71.57666015625\n",
      "131.5341796875 71.55810546875\n",
      "131.51611328125 71.58837890625\n",
      "131.513671875 71.5869140625\n",
      "131.5126953125 71.58203125\n",
      "131.51611328125 71.5712890625\n",
      "131.50146484375 71.5947265625\n",
      "131.5029296875 71.5869140625\n",
      "131.51513671875 71.55126953125\n",
      "131.4951171875 71.595703125\n",
      "131.48828125 71.58935546875\n",
      "131.49072265625 71.5673828125\n",
      "131.48779296875 71.56982421875\n",
      "131.5537109375 71.57666015625\n",
      "131.5322265625 71.57666015625\n",
      "131.529296875 71.572265625\n",
      "131.51904296875 71.5830078125\n",
      "131.50927734375 71.58984375\n",
      "131.50048828125 71.5966796875\n",
      "131.48876953125 71.59375\n"
     ]
    },
    {
     "name": "stderr",
     "output_type": "stream",
     "text": [
      "  9%|▊         | 7/81 [00:04<00:52,  1.40it/s]"
     ]
    },
    {
     "name": "stdout",
     "output_type": "stream",
     "text": [
      "131.48388671875 71.59033203125\n",
      "131.52685546875 71.5615234375\n",
      "131.53369140625 71.54931640625\n",
      "131.51904296875 71.57568359375\n",
      "131.4970703125 71.57958984375\n",
      "131.53955078125 71.61669921875\n",
      "131.5498046875 71.56494140625\n",
      "131.5419921875 71.58056640625\n",
      "131.54443359375 71.5849609375\n",
      "131.53759765625 71.56689453125\n",
      "131.529296875 71.572265625\n"
     ]
    },
    {
     "name": "stderr",
     "output_type": "stream",
     "text": [
      " 10%|▉         | 8/81 [00:05<00:56,  1.28it/s]"
     ]
    },
    {
     "name": "stdout",
     "output_type": "stream",
     "text": [
      "131.53955078125 71.61669921875\n",
      "131.50244140625 71.6005859375\n",
      "131.52685546875 71.6484375\n",
      "131.54052734375 71.58447265625\n",
      "131.515625 71.65185546875\n",
      "131.51171875 71.65234375\n",
      "131.50830078125 71.62890625\n",
      "131.50830078125 71.62646484375\n",
      "131.51953125 71.58837890625\n",
      "131.51806640625 71.580078125\n",
      "131.50634765625 71.603515625\n",
      "131.5068359375 71.595703125\n",
      "131.51171875 71.58203125\n",
      "131.5107421875 71.58056640625\n",
      "131.50537109375 71.59521484375\n",
      "131.509765625 71.57861328125\n",
      "131.48486328125 71.60498046875\n",
      "131.49072265625 71.5888671875\n",
      "131.48779296875 71.59619140625\n",
      "131.48291015625 71.60888671875\n",
      "131.48095703125 71.6083984375\n",
      "131.48291015625 71.6025390625\n",
      "131.4912109375 71.5693359375\n",
      "131.4794921875 71.60009765625\n",
      "131.466796875 71.6376953125\n",
      "131.48828125 71.5673828125\n",
      "131.50048828125 71.65576171875\n",
      "131.47509765625 71.599609375\n",
      "131.47607421875 71.59228515625\n",
      "131.5380859375 71.61962890625\n",
      "131.5380859375 71.61376953125\n",
      "131.53564453125 71.61767578125\n",
      "131.52734375 71.61865234375\n",
      "131.51611328125 71.58837890625\n",
      "131.513671875 71.5869140625\n",
      "131.5126953125 71.58203125\n",
      "131.50146484375 71.5947265625\n",
      "131.49462890625 71.61474609375\n",
      "131.4951171875 71.595703125\n",
      "131.4853515625 71.60693359375\n",
      "131.48828125 71.58935546875\n",
      "131.48828125 71.57275390625\n",
      "131.48779296875 71.56982421875\n",
      "131.50927734375 71.58984375\n",
      "131.50048828125 71.5966796875\n",
      "131.49169921875 71.6103515625\n",
      "131.4833984375 71.59033203125\n",
      "131.53955078125 71.61669921875\n",
      "131.48291015625 71.60888671875\n"
     ]
    },
    {
     "name": "stderr",
     "output_type": "stream",
     "text": [
      " 11%|█         | 9/81 [00:05<00:53,  1.35it/s]"
     ]
    },
    {
     "name": "stdout",
     "output_type": "stream",
     "text": [
      "131.51904296875 71.6728515625\n",
      "131.52685546875 71.6484375\n",
      "131.51025390625 71.689453125\n",
      "131.515625 71.65185546875\n",
      "131.51171875 71.65234375\n",
      "131.5 71.6796875\n",
      "131.50537109375 71.65576171875\n",
      "131.49462890625 71.68359375\n",
      "131.50244140625 71.65478515625\n",
      "131.50830078125 71.62890625\n",
      "131.50830078125 71.62646484375\n",
      "131.4853515625 71.65283203125\n",
      "131.48583984375 71.65087890625\n",
      "131.48486328125 71.6513671875\n",
      "131.48388671875 71.65283203125\n",
      "131.48388671875 71.6484375\n",
      "131.48291015625 71.60888671875\n",
      "131.466796875 71.6376953125\n",
      "131.4921875 71.7001953125\n",
      "131.51220703125 71.68603515625\n",
      "131.513671875 71.65380859375\n",
      "131.5029296875 71.6572265625\n",
      "131.48291015625 71.646484375\n",
      "131.4951171875 71.60791015625\n",
      "131.5361328125 71.654296875\n",
      "131.48876953125 71.65673828125\n",
      "131.51904296875 71.6728515625\n",
      "131.48291015625 71.60888671875\n"
     ]
    },
    {
     "name": "stderr",
     "output_type": "stream",
     "text": [
      " 12%|█▏        | 10/81 [00:06<00:41,  1.69it/s]"
     ]
    },
    {
     "name": "stdout",
     "output_type": "stream",
     "text": [
      "131.58544921875 71.3759765625\n",
      "131.54833984375 71.35302734375\n",
      "131.58544921875 71.3759765625\n",
      "131.58349609375 71.3740234375\n"
     ]
    },
    {
     "name": "stderr",
     "output_type": "stream",
     "text": [
      " 14%|█▎        | 11/81 [00:06<00:36,  1.93it/s]"
     ]
    },
    {
     "name": "stdout",
     "output_type": "stream",
     "text": [
      "131.58544921875 71.3759765625\n",
      "131.56884765625 71.392578125\n",
      "131.54833984375 71.35302734375\n",
      "131.56689453125 71.41015625\n",
      "131.58544921875 71.3759765625\n",
      "131.58349609375 71.3740234375\n",
      "131.56884765625 71.392578125\n",
      "131.5732421875 71.392578125\n"
     ]
    },
    {
     "name": "stderr",
     "output_type": "stream",
     "text": [
      " 15%|█▍        | 12/81 [00:06<00:31,  2.19it/s]"
     ]
    },
    {
     "name": "stdout",
     "output_type": "stream",
     "text": [
      "131.5693359375 71.40869140625\n",
      "131.55712890625 71.4267578125\n",
      "131.56884765625 71.392578125\n",
      "131.56689453125 71.41015625\n",
      "131.56884765625 71.392578125\n",
      "131.55615234375 71.42626953125\n",
      "131.5732421875 71.392578125\n"
     ]
    },
    {
     "name": "stderr",
     "output_type": "stream",
     "text": [
      " 16%|█▌        | 13/81 [00:07<00:27,  2.47it/s]"
     ]
    },
    {
     "name": "stdout",
     "output_type": "stream",
     "text": [
      "131.57080078125 71.42626953125\n",
      "131.56982421875 71.427734375\n",
      "131.55712890625 71.4267578125\n",
      "131.55615234375 71.42626953125\n"
     ]
    },
    {
     "name": "stderr",
     "output_type": "stream",
     "text": [
      " 17%|█▋        | 14/81 [00:07<00:23,  2.85it/s]"
     ]
    },
    {
     "name": "stdout",
     "output_type": "stream",
     "text": [
      "131.52197265625 71.5126953125\n",
      "131.5205078125 71.51318359375\n",
      "131.517578125 71.51123046875\n",
      "131.51806640625 71.513671875\n"
     ]
    },
    {
     "name": "stderr",
     "output_type": "stream",
     "text": [
      " 19%|█▊        | 15/81 [00:07<00:22,  2.90it/s]"
     ]
    },
    {
     "name": "stdout",
     "output_type": "stream",
     "text": [
      "131.51611328125 71.55078125\n",
      "131.52197265625 71.5126953125\n",
      "131.5205078125 71.51318359375\n",
      "131.50537109375 71.55322265625\n",
      "131.51513671875 71.55126953125\n",
      "131.50830078125 71.54833984375\n",
      "131.521484375 71.5458984375\n"
     ]
    },
    {
     "name": "stderr",
     "output_type": "stream",
     "text": [
      " 20%|█▉        | 16/81 [00:08<00:26,  2.43it/s]"
     ]
    },
    {
     "name": "stdout",
     "output_type": "stream",
     "text": [
      "131.5068359375 71.595703125\n",
      "131.51171875 71.58203125\n",
      "131.5107421875 71.58056640625\n",
      "131.50537109375 71.59521484375\n",
      "131.509765625 71.57861328125\n",
      "131.50732421875 71.578125\n",
      "131.49072265625 71.5888671875\n",
      "131.48779296875 71.59619140625\n",
      "131.4912109375 71.5693359375\n",
      "131.4794921875 71.60009765625\n",
      "131.48828125 71.5673828125\n",
      "131.47607421875 71.59228515625\n",
      "131.5205078125 71.51318359375\n",
      "131.50146484375 71.5947265625\n",
      "131.5029296875 71.5869140625\n",
      "131.51513671875 71.55126953125\n",
      "131.4951171875 71.595703125\n",
      "131.48828125 71.58935546875\n",
      "131.49072265625 71.5673828125\n",
      "131.48828125 71.57275390625\n",
      "131.48779296875 71.56982421875\n",
      "131.45361328125 71.55224609375\n",
      "131.50830078125 71.54833984375\n",
      "131.48876953125 71.59375\n",
      "131.4833984375 71.59033203125\n",
      "131.4970703125 71.57958984375\n",
      "131.4794921875 71.60009765625\n",
      "131.521484375 71.5458984375\n",
      "131.45556640625 71.5537109375\n"
     ]
    },
    {
     "name": "stderr",
     "output_type": "stream",
     "text": [
      " 21%|██        | 17/81 [00:08<00:32,  2.00it/s]"
     ]
    },
    {
     "name": "stdout",
     "output_type": "stream",
     "text": [
      "131.5068359375 71.595703125\n",
      "131.51171875 71.58203125\n",
      "131.5107421875 71.58056640625\n",
      "131.50537109375 71.59521484375\n",
      "131.509765625 71.57861328125\n",
      "131.48486328125 71.60498046875\n",
      "131.49072265625 71.5888671875\n",
      "131.48779296875 71.59619140625\n",
      "131.48291015625 71.60888671875\n",
      "131.48095703125 71.6083984375\n",
      "131.48291015625 71.6025390625\n",
      "131.4912109375 71.5693359375\n",
      "131.4794921875 71.60009765625\n",
      "131.466796875 71.6376953125\n",
      "131.48828125 71.5673828125\n",
      "131.47509765625 71.599609375\n",
      "131.47607421875 71.59228515625\n",
      "131.44775390625 71.6083984375\n",
      "131.44677734375 71.607421875\n",
      "131.50146484375 71.5947265625\n",
      "131.5029296875 71.5869140625\n",
      "131.49462890625 71.61474609375\n",
      "131.4951171875 71.595703125\n",
      "131.4853515625 71.60693359375\n",
      "131.48828125 71.58935546875\n",
      "131.48828125 71.57275390625\n",
      "131.48779296875 71.56982421875\n",
      "131.4482421875 71.60595703125\n",
      "131.50048828125 71.5966796875\n",
      "131.49169921875 71.6103515625\n",
      "131.48388671875 71.59033203125\n",
      "131.48291015625 71.60888671875\n",
      "131.4794921875 71.60009765625\n"
     ]
    },
    {
     "name": "stderr",
     "output_type": "stream",
     "text": [
      " 22%|██▏       | 18/81 [00:09<00:32,  1.93it/s]"
     ]
    },
    {
     "name": "stdout",
     "output_type": "stream",
     "text": [
      "131.4853515625 71.65283203125\n",
      "131.48583984375 71.65087890625\n",
      "131.48486328125 71.6513671875\n",
      "131.48388671875 71.65283203125\n",
      "131.48388671875 71.6484375\n",
      "131.48291015625 71.60888671875\n",
      "131.466796875 71.6376953125\n",
      "131.44140625 71.6376953125\n",
      "131.44775390625 71.6083984375\n",
      "131.44677734375 71.607421875\n",
      "131.43505859375 71.63623046875\n",
      "131.4287109375 71.63330078125\n",
      "131.48291015625 71.646484375\n",
      "131.4951171875 71.60791015625\n",
      "131.4482421875 71.60595703125\n",
      "131.44580078125 71.6123046875\n",
      "131.48291015625 71.60888671875\n",
      "131.45654296875 71.64404296875\n"
     ]
    },
    {
     "name": "stderr",
     "output_type": "stream",
     "text": [
      " 25%|██▍       | 20/81 [00:09<00:21,  2.84it/s]"
     ]
    },
    {
     "name": "stdout",
     "output_type": "stream",
     "text": [
      "131.54833984375 71.35302734375\n",
      "131.54833984375 71.35302734375\n"
     ]
    },
    {
     "name": "stderr",
     "output_type": "stream",
     "text": [
      " 30%|██▉       | 24/81 [00:10<00:11,  4.89it/s]"
     ]
    },
    {
     "name": "stdout",
     "output_type": "stream",
     "text": [
      "131.45361328125 71.55224609375\n"
     ]
    },
    {
     "name": "stderr",
     "output_type": "stream",
     "text": [
      " 31%|███       | 25/81 [00:10<00:12,  4.65it/s]"
     ]
    },
    {
     "name": "stdout",
     "output_type": "stream",
     "text": [
      "131.4560546875 71.55126953125\n",
      "131.45361328125 71.55224609375\n",
      "131.45556640625 71.5537109375\n"
     ]
    },
    {
     "name": "stderr",
     "output_type": "stream",
     "text": [
      " 32%|███▏      | 26/81 [00:10<00:13,  4.02it/s]"
     ]
    },
    {
     "name": "stdout",
     "output_type": "stream",
     "text": [
      "131.44775390625 71.6083984375\n",
      "131.44677734375 71.607421875\n",
      "131.4482421875 71.60595703125\n",
      "131.44580078125 71.6123046875\n"
     ]
    },
    {
     "name": "stderr",
     "output_type": "stream",
     "text": [
      " 36%|███▌      | 29/81 [00:11<00:09,  5.33it/s]"
     ]
    },
    {
     "name": "stdout",
     "output_type": "stream",
     "text": [
      "131.44580078125 71.638671875\n",
      "131.44140625 71.6376953125\n",
      "131.44775390625 71.6083984375\n",
      "131.44677734375 71.607421875\n",
      "131.43505859375 71.63623046875\n",
      "131.4287109375 71.63330078125\n",
      "131.4482421875 71.60595703125\n",
      "131.44580078125 71.6123046875\n",
      "131.45654296875 71.64404296875\n",
      "131.45654296875 71.64404296875\n"
     ]
    },
    {
     "name": "stderr",
     "output_type": "stream",
     "text": [
      " 43%|████▎     | 35/81 [00:12<00:05,  8.38it/s]"
     ]
    },
    {
     "name": "stdout",
     "output_type": "stream",
     "text": [
      "131.45361328125 71.55224609375\n"
     ]
    },
    {
     "name": "stderr",
     "output_type": "stream",
     "text": [
      " 48%|████▊     | 39/81 [00:12<00:04, 10.14it/s]"
     ]
    },
    {
     "name": "stdout",
     "output_type": "stream",
     "text": [
      "131.46728515625 71.25244140625\n"
     ]
    },
    {
     "name": "stderr",
     "output_type": "stream",
     "text": [
      " 85%|████████▌ | 69/81 [00:14<00:01,  9.67it/s]"
     ]
    },
    {
     "name": "stdout",
     "output_type": "stream",
     "text": [
      "131.2646484375 71.39697265625\n"
     ]
    },
    {
     "name": "stderr",
     "output_type": "stream",
     "text": [
      " 96%|█████████▋| 78/81 [00:15<00:00,  7.70it/s]"
     ]
    },
    {
     "name": "stdout",
     "output_type": "stream",
     "text": [
      "131.2646484375 71.39697265625\n"
     ]
    },
    {
     "name": "stderr",
     "output_type": "stream",
     "text": [
      "100%|██████████| 81/81 [00:16<00:00,  4.96it/s]\n"
     ]
    },
    {
     "name": "stdout",
     "output_type": "stream",
     "text": [
      " 4 Define mapping between PRISMA LatLon and gMaps latlon\n",
      " 5 Map PRISMA Latlons to gMaps latlons (ransac affine) and save for reference\n",
      "Band 39 did not work\n",
      "# 1 create .tif file\n",
      "# 2 Download gmaps for the same location\n",
      "Image size (pix):  (1792, 1792)\n",
      "Tile coordinate top left (north-west) corner: 1048,568\n",
      " 3 Determine matched features in PRISMA image to gMaps image with SIFT\n"
     ]
    },
    {
     "name": "stderr",
     "output_type": "stream",
     "text": [
      "  1%|          | 1/81 [00:00<00:22,  3.57it/s]"
     ]
    },
    {
     "name": "stdout",
     "output_type": "stream",
     "text": [
      "131.58544921875 71.3759765625\n",
      "131.6171875 71.38623046875\n",
      "131.58544921875 71.3759765625\n",
      "131.58349609375 71.3740234375\n"
     ]
    },
    {
     "name": "stderr",
     "output_type": "stream",
     "text": [
      "  2%|▏         | 2/81 [00:00<00:32,  2.40it/s]"
     ]
    },
    {
     "name": "stdout",
     "output_type": "stream",
     "text": [
      "131.55712890625 71.4267578125\n",
      "131.5927734375 71.3837890625\n",
      "131.58544921875 71.3759765625\n",
      "131.5693359375 71.40869140625\n",
      "131.56884765625 71.392578125\n",
      "131.61376953125 71.404296875\n",
      "131.6123046875 71.4013671875\n",
      "131.615234375 71.3818359375\n",
      "131.59814453125 71.39697265625\n",
      "131.5947265625 71.3955078125\n",
      "131.56689453125 71.41015625\n",
      "131.6142578125 71.4140625\n",
      "131.5986328125 71.400390625\n",
      "131.58544921875 71.3759765625\n",
      "131.58349609375 71.3740234375\n",
      "131.56884765625 71.392578125\n",
      "131.5732421875 71.392578125\n"
     ]
    },
    {
     "name": "stderr",
     "output_type": "stream",
     "text": [
      "  4%|▎         | 3/81 [00:01<00:36,  2.16it/s]"
     ]
    },
    {
     "name": "stdout",
     "output_type": "stream",
     "text": [
      "131.59619140625 71.4384765625\n",
      "131.5810546875 71.46240234375\n",
      "131.5849609375 71.42822265625\n",
      "131.5693359375 71.40869140625\n",
      "131.55712890625 71.4267578125\n",
      "131.56884765625 71.392578125\n",
      "131.61376953125 71.404296875\n",
      "131.6123046875 71.4013671875\n",
      "131.59814453125 71.39697265625\n",
      "131.5947265625 71.3955078125\n",
      "131.56689453125 71.41015625\n",
      "131.6142578125 71.4140625\n",
      "131.5810546875 71.46435546875\n",
      "131.5986328125 71.400390625\n",
      "131.56884765625 71.392578125\n",
      "131.55615234375 71.42626953125\n",
      "131.5732421875 71.392578125\n"
     ]
    },
    {
     "name": "stderr",
     "output_type": "stream",
     "text": [
      "  5%|▍         | 4/81 [00:01<00:34,  2.24it/s]"
     ]
    },
    {
     "name": "stdout",
     "output_type": "stream",
     "text": [
      "131.58056640625 71.5048828125\n",
      "131.58544921875 71.48291015625\n",
      "131.57470703125 71.427734375\n",
      "131.57666015625 71.50146484375\n",
      "131.58642578125 71.46923828125\n",
      "131.57373046875 71.5009765625\n",
      "131.57861328125 71.486328125\n",
      "131.5810546875 71.46435546875\n",
      "131.580078125 71.466796875\n",
      "131.5810546875 71.46240234375\n",
      "131.56591796875 71.4970703125\n",
      "131.5732421875 71.47119140625\n",
      "131.5654296875 71.49365234375\n",
      "131.5849609375 71.42822265625\n",
      "131.5712890625 71.49951171875\n",
      "131.572265625 71.42724609375\n",
      "131.57861328125 71.48095703125\n"
     ]
    },
    {
     "name": "stderr",
     "output_type": "stream",
     "text": [
      "  6%|▌         | 5/81 [00:02<00:34,  2.22it/s]"
     ]
    },
    {
     "name": "stdout",
     "output_type": "stream",
     "text": [
      "131.58056640625 71.5048828125\n",
      "131.57861328125 71.5087890625\n",
      "131.56494140625 71.54345703125\n",
      "131.58544921875 71.48291015625\n",
      "131.5693359375 71.52392578125\n",
      "131.57666015625 71.50146484375\n",
      "131.57958984375 71.484375\n",
      "131.57373046875 71.5009765625\n",
      "131.57861328125 71.486328125\n",
      "131.564453125 71.52587890625\n",
      "131.55859375 71.53759765625\n",
      "131.5673828125 71.4990234375\n",
      "131.56591796875 71.4970703125\n",
      "131.5732421875 71.47119140625\n",
      "131.5654296875 71.49365234375\n",
      "131.52197265625 71.5126953125\n",
      "131.5205078125 71.51318359375\n",
      "131.5234375 71.54638671875\n",
      "131.56005859375 71.53662109375\n",
      "131.5712890625 71.49951171875\n",
      "131.58984375 71.47900390625\n",
      "131.576171875 71.50439453125\n",
      "131.517578125 71.51123046875\n",
      "131.57861328125 71.48095703125\n",
      "131.55615234375 71.5361328125\n"
     ]
    },
    {
     "name": "stderr",
     "output_type": "stream",
     "text": [
      "  7%|▋         | 6/81 [00:02<00:38,  1.93it/s]"
     ]
    },
    {
     "name": "stdout",
     "output_type": "stream",
     "text": [
      "131.56103515625 71.5712890625\n",
      "131.5693359375 71.52392578125\n",
      "131.548828125 71.5732421875\n",
      "131.546875 71.5751953125\n",
      "131.564453125 71.52587890625\n",
      "131.5458984375 71.57666015625\n",
      "131.55859375 71.53759765625\n",
      "131.5419921875 71.58056640625\n",
      "131.54931640625 71.5615234375\n",
      "131.54248046875 71.5771484375\n",
      "131.54443359375 71.55859375\n",
      "131.5263671875 71.5537109375\n",
      "131.52587890625 71.55224609375\n",
      "131.52197265625 71.55615234375\n",
      "131.51611328125 71.55078125\n",
      "131.52197265625 71.5126953125\n",
      "131.5205078125 71.51318359375\n",
      "131.54833984375 71.57666015625\n",
      "131.56005859375 71.53662109375\n",
      "131.54638671875 71.57275390625\n",
      "131.5390625 71.578125\n",
      "131.5341796875 71.55810546875\n",
      "131.51513671875 71.55126953125\n",
      "131.529296875 71.572265625\n",
      "131.50830078125 71.54833984375\n",
      "131.53369140625 71.5498046875\n",
      "131.5498046875 71.56494140625\n",
      "131.55615234375 71.5361328125\n",
      "131.53759765625 71.56689453125\n",
      "131.56103515625 71.5712890625\n",
      "131.53955078125 71.61669921875\n",
      "131.5390625 71.61865234375\n",
      "131.54931640625 71.58447265625\n",
      "131.548828125 71.5732421875\n",
      "131.54541015625 71.58251953125\n",
      "131.546875 71.5751953125\n",
      "131.5458984375 71.57666015625\n",
      "131.5419921875 71.58056640625\n",
      "131.54052734375 71.58447265625\n",
      "131.54931640625 71.5615234375\n",
      "131.54248046875 71.5771484375\n",
      "131.53759765625 71.57958984375\n",
      "131.51953125 71.58837890625\n",
      "131.5185546875 71.5869140625\n",
      "131.51806640625 71.580078125\n",
      "131.5263671875 71.5537109375\n",
      "131.52587890625 71.55224609375\n",
      "131.52197265625 71.55615234375\n",
      "131.5048828125 71.60205078125\n",
      "131.5068359375 71.595703125\n",
      "131.51171875 71.58203125\n",
      "131.5595703125 71.62158203125\n",
      "131.5107421875 71.58056640625\n",
      "131.50537109375 71.59521484375\n",
      "131.51171875 71.5751953125\n",
      "131.509765625 71.57861328125\n",
      "131.49072265625 71.5888671875\n",
      "131.48779296875 71.59619140625\n",
      "131.48046875 71.59814453125\n",
      "131.48828125 71.5673828125\n",
      "131.47607421875 71.59228515625\n",
      "131.5576171875 71.57275390625\n",
      "131.556640625 71.56884765625\n",
      "131.54150390625 71.60791015625\n",
      "131.5380859375 71.61376953125\n",
      "131.54833984375 71.57666015625\n",
      "131.5458984375 71.5810546875\n",
      "131.54638671875 71.57275390625\n",
      "131.54345703125 71.57861328125\n",
      "131.5390625 71.578125\n",
      "131.52783203125 71.57666015625\n",
      "131.5341796875 71.55810546875\n",
      "131.51611328125 71.58837890625\n",
      "131.513671875 71.5869140625\n",
      "131.5126953125 71.58203125\n",
      "131.51611328125 71.5712890625\n"
     ]
    },
    {
     "name": "stderr",
     "output_type": "stream",
     "text": [
      "  9%|▊         | 7/81 [00:03<00:51,  1.42it/s]"
     ]
    },
    {
     "name": "stdout",
     "output_type": "stream",
     "text": [
      "131.50146484375 71.5947265625\n",
      "131.5029296875 71.5869140625\n",
      "131.51513671875 71.55126953125\n",
      "131.4951171875 71.595703125\n",
      "131.48828125 71.58935546875\n",
      "131.49072265625 71.5673828125\n",
      "131.48779296875 71.56982421875\n",
      "131.5537109375 71.57666015625\n",
      "131.5322265625 71.57666015625\n",
      "131.529296875 71.572265625\n",
      "131.51904296875 71.5830078125\n",
      "131.50927734375 71.58984375\n",
      "131.50048828125 71.5966796875\n",
      "131.494140625 71.5712890625\n",
      "131.48388671875 71.59033203125\n",
      "131.52685546875 71.5615234375\n",
      "131.53369140625 71.54931640625\n",
      "131.51904296875 71.57568359375\n",
      "131.4970703125 71.57958984375\n",
      "131.53955078125 71.61669921875\n",
      "131.5498046875 71.56494140625\n",
      "131.5419921875 71.58056640625\n",
      "131.54443359375 71.5849609375\n",
      "131.53759765625 71.56689453125\n",
      "131.529296875 71.572265625\n"
     ]
    },
    {
     "name": "stderr",
     "output_type": "stream",
     "text": [
      " 10%|▉         | 8/81 [00:04<00:57,  1.28it/s]"
     ]
    },
    {
     "name": "stdout",
     "output_type": "stream",
     "text": [
      "131.53955078125 71.61669921875\n",
      "131.50244140625 71.6005859375\n",
      "131.54052734375 71.58447265625\n",
      "131.50830078125 71.62890625\n",
      "131.50830078125 71.62646484375\n",
      "131.51953125 71.58837890625\n",
      "131.5185546875 71.5869140625\n",
      "131.51806640625 71.580078125\n",
      "131.5048828125 71.60205078125\n",
      "131.5068359375 71.595703125\n",
      "131.51171875 71.58203125\n",
      "131.5107421875 71.58056640625\n",
      "131.50537109375 71.59521484375\n",
      "131.509765625 71.57861328125\n",
      "131.48486328125 71.60498046875\n",
      "131.49072265625 71.5888671875\n",
      "131.48779296875 71.59619140625\n",
      "131.48291015625 71.60888671875\n",
      "131.48095703125 71.6083984375\n",
      "131.48291015625 71.6025390625\n",
      "131.4912109375 71.5693359375\n",
      "131.4794921875 71.60009765625\n",
      "131.466796875 71.6376953125\n",
      "131.48046875 71.59814453125\n",
      "131.48828125 71.5673828125\n",
      "131.50048828125 71.65576171875\n",
      "131.47509765625 71.599609375\n",
      "131.47607421875 71.59228515625\n",
      "131.5380859375 71.62548828125\n",
      "131.5380859375 71.61962890625\n",
      "131.54150390625 71.60791015625\n",
      "131.5380859375 71.61376953125\n",
      "131.52734375 71.61865234375\n",
      "131.51611328125 71.58837890625\n",
      "131.513671875 71.5869140625\n",
      "131.5126953125 71.58203125\n",
      "131.50146484375 71.5947265625\n",
      "131.5029296875 71.5869140625\n",
      "131.49462890625 71.61474609375\n",
      "131.4951171875 71.595703125\n",
      "131.4853515625 71.60693359375\n",
      "131.48828125 71.58935546875\n",
      "131.48828125 71.57275390625\n",
      "131.48779296875 71.56982421875\n",
      "131.50927734375 71.58984375\n",
      "131.50048828125 71.59130859375\n",
      "131.50048828125 71.5966796875\n",
      "131.49169921875 71.6103515625\n",
      "131.4833984375 71.59033203125\n",
      "131.53955078125 71.61669921875\n",
      "131.48291015625 71.60888671875\n"
     ]
    },
    {
     "name": "stderr",
     "output_type": "stream",
     "text": [
      " 11%|█         | 9/81 [00:05<00:52,  1.38it/s]"
     ]
    },
    {
     "name": "stdout",
     "output_type": "stream",
     "text": [
      "131.51904296875 71.6728515625\n",
      "131.5 71.6796875\n",
      "131.50537109375 71.65576171875\n",
      "131.49462890625 71.68359375\n",
      "131.50830078125 71.62890625\n",
      "131.50830078125 71.62646484375\n",
      "131.4951171875 71.65576171875\n",
      "131.4853515625 71.65283203125\n",
      "131.48583984375 71.65087890625\n",
      "131.48486328125 71.6513671875\n",
      "131.48388671875 71.65283203125\n",
      "131.48388671875 71.6484375\n",
      "131.48291015625 71.60888671875\n",
      "131.466796875 71.6376953125\n",
      "131.4921875 71.7001953125\n",
      "131.51220703125 71.68603515625\n",
      "131.513671875 71.65380859375\n",
      "131.5029296875 71.6572265625\n",
      "131.48291015625 71.646484375\n",
      "131.4951171875 71.60791015625\n",
      "131.48876953125 71.65673828125\n",
      "131.51904296875 71.6728515625\n",
      "131.48291015625 71.60888671875\n"
     ]
    },
    {
     "name": "stderr",
     "output_type": "stream",
     "text": [
      " 12%|█▏        | 10/81 [00:05<00:41,  1.73it/s]"
     ]
    },
    {
     "name": "stdout",
     "output_type": "stream",
     "text": [
      "131.58544921875 71.3759765625\n",
      "131.54833984375 71.35302734375\n",
      "131.54638671875 71.35888671875\n",
      "131.58544921875 71.3759765625\n",
      "131.58349609375 71.3740234375\n"
     ]
    },
    {
     "name": "stderr",
     "output_type": "stream",
     "text": [
      " 14%|█▎        | 11/81 [00:06<00:35,  1.97it/s]"
     ]
    },
    {
     "name": "stdout",
     "output_type": "stream",
     "text": [
      "131.58544921875 71.3759765625\n",
      "131.56884765625 71.392578125\n",
      "131.54833984375 71.35302734375\n",
      "131.56689453125 71.41015625\n",
      "131.54638671875 71.35888671875\n",
      "131.58544921875 71.3759765625\n",
      "131.58349609375 71.3740234375\n",
      "131.56884765625 71.392578125\n",
      "131.5732421875 71.392578125\n"
     ]
    },
    {
     "name": "stderr",
     "output_type": "stream",
     "text": [
      " 15%|█▍        | 12/81 [00:06<00:32,  2.15it/s]"
     ]
    },
    {
     "name": "stdout",
     "output_type": "stream",
     "text": [
      "131.5693359375 71.40869140625\n",
      "131.55712890625 71.4267578125\n",
      "131.56884765625 71.392578125\n",
      "131.56689453125 71.41015625\n",
      "131.56884765625 71.392578125\n",
      "131.55615234375 71.42626953125\n",
      "131.5732421875 71.392578125\n"
     ]
    },
    {
     "name": "stderr",
     "output_type": "stream",
     "text": [
      " 16%|█▌        | 13/81 [00:06<00:27,  2.47it/s]"
     ]
    },
    {
     "name": "stdout",
     "output_type": "stream",
     "text": [
      "131.56982421875 71.427734375\n",
      "131.55712890625 71.4267578125\n",
      "131.55615234375 71.42626953125\n"
     ]
    },
    {
     "name": "stderr",
     "output_type": "stream",
     "text": [
      " 17%|█▋        | 14/81 [00:06<00:23,  2.85it/s]"
     ]
    },
    {
     "name": "stdout",
     "output_type": "stream",
     "text": [
      "131.52197265625 71.5126953125\n",
      "131.5205078125 71.51318359375\n",
      "131.517578125 71.51123046875\n",
      "131.51806640625 71.513671875\n"
     ]
    },
    {
     "name": "stderr",
     "output_type": "stream",
     "text": [
      " 19%|█▊        | 15/81 [00:07<00:23,  2.77it/s]"
     ]
    },
    {
     "name": "stdout",
     "output_type": "stream",
     "text": [
      "131.51611328125 71.55078125\n",
      "131.52197265625 71.5126953125\n",
      "131.5205078125 71.51318359375\n",
      "131.521484375 71.5458984375\n",
      "131.51513671875 71.55126953125\n",
      "131.50830078125 71.54833984375\n"
     ]
    },
    {
     "name": "stderr",
     "output_type": "stream",
     "text": [
      " 20%|█▉        | 16/81 [00:07<00:28,  2.32it/s]"
     ]
    },
    {
     "name": "stdout",
     "output_type": "stream",
     "text": [
      "131.5048828125 71.60205078125\n",
      "131.5068359375 71.595703125\n",
      "131.51171875 71.58203125\n",
      "131.5107421875 71.58056640625\n",
      "131.50537109375 71.59521484375\n",
      "131.51171875 71.5751953125\n",
      "131.509765625 71.57861328125\n",
      "131.50732421875 71.578125\n",
      "131.49072265625 71.5888671875\n",
      "131.48779296875 71.59619140625\n",
      "131.4912109375 71.5693359375\n",
      "131.48046875 71.59814453125\n",
      "131.48828125 71.5673828125\n",
      "131.47607421875 71.59228515625\n",
      "131.5205078125 71.51318359375\n",
      "131.521484375 71.5458984375\n",
      "131.50146484375 71.5947265625\n",
      "131.5029296875 71.5869140625\n",
      "131.51513671875 71.55126953125\n",
      "131.4951171875 71.595703125\n",
      "131.48828125 71.58935546875\n",
      "131.49072265625 71.5673828125\n",
      "131.48828125 71.57275390625\n",
      "131.48779296875 71.56982421875\n",
      "131.50048828125 71.59130859375\n",
      "131.50830078125 71.54833984375\n",
      "131.494140625 71.5712890625\n",
      "131.4833984375 71.59033203125\n",
      "131.4970703125 71.57958984375\n",
      "131.4794921875 71.60009765625\n",
      "131.45556640625 71.5537109375\n"
     ]
    },
    {
     "name": "stderr",
     "output_type": "stream",
     "text": [
      " 21%|██        | 17/81 [00:08<00:33,  1.92it/s]"
     ]
    },
    {
     "name": "stdout",
     "output_type": "stream",
     "text": [
      "131.5048828125 71.60205078125\n",
      "131.5068359375 71.595703125\n",
      "131.51171875 71.58203125\n",
      "131.5107421875 71.58056640625\n",
      "131.50537109375 71.59521484375\n",
      "131.509765625 71.57861328125\n",
      "131.48486328125 71.60498046875\n",
      "131.49072265625 71.5888671875\n",
      "131.48779296875 71.59619140625\n",
      "131.48291015625 71.60888671875\n",
      "131.48095703125 71.6083984375\n",
      "131.48291015625 71.6025390625\n",
      "131.4912109375 71.5693359375\n",
      "131.4794921875 71.60009765625\n",
      "131.466796875 71.6376953125\n",
      "131.48046875 71.59814453125\n",
      "131.48828125 71.5673828125\n",
      "131.47509765625 71.599609375\n",
      "131.47607421875 71.59228515625\n",
      "131.44775390625 71.6083984375\n",
      "131.44677734375 71.607421875\n",
      "131.50146484375 71.5947265625\n",
      "131.5029296875 71.5869140625\n",
      "131.49462890625 71.61474609375\n",
      "131.4951171875 71.595703125\n",
      "131.4853515625 71.60693359375\n",
      "131.48828125 71.58935546875\n",
      "131.48828125 71.57275390625\n",
      "131.48779296875 71.56982421875\n",
      "131.4482421875 71.60595703125\n",
      "131.50048828125 71.5966796875\n",
      "131.49169921875 71.6103515625\n",
      "131.48388671875 71.59033203125\n",
      "131.48291015625 71.60888671875\n",
      "131.4794921875 71.60009765625\n"
     ]
    },
    {
     "name": "stderr",
     "output_type": "stream",
     "text": [
      " 22%|██▏       | 18/81 [00:09<00:33,  1.87it/s]"
     ]
    },
    {
     "name": "stdout",
     "output_type": "stream",
     "text": [
      "131.4853515625 71.65283203125\n",
      "131.48583984375 71.65087890625\n",
      "131.48486328125 71.6513671875\n",
      "131.48388671875 71.65283203125\n",
      "131.48388671875 71.6484375\n",
      "131.48291015625 71.60888671875\n",
      "131.466796875 71.6376953125\n",
      "131.4443359375 71.63916015625\n",
      "131.44140625 71.6376953125\n",
      "131.44775390625 71.6083984375\n",
      "131.44677734375 71.607421875\n",
      "131.43505859375 71.63623046875\n",
      "131.4287109375 71.63330078125\n",
      "131.48291015625 71.646484375\n",
      "131.4951171875 71.60791015625\n",
      "131.4482421875 71.60595703125\n",
      "131.44580078125 71.6123046875\n",
      "131.48291015625 71.60888671875\n",
      "131.45654296875 71.64404296875\n"
     ]
    },
    {
     "name": "stderr",
     "output_type": "stream",
     "text": [
      " 25%|██▍       | 20/81 [00:09<00:22,  2.72it/s]"
     ]
    },
    {
     "name": "stdout",
     "output_type": "stream",
     "text": [
      "131.54833984375 71.35302734375\n",
      "131.54638671875 71.35888671875\n",
      "131.54833984375 71.35302734375\n",
      "131.54638671875 71.35888671875\n"
     ]
    },
    {
     "name": "stderr",
     "output_type": "stream",
     "text": [
      " 30%|██▉       | 24/81 [00:10<00:11,  5.07it/s]"
     ]
    },
    {
     "name": "stdout",
     "output_type": "stream",
     "text": [
      "131.45361328125 71.55224609375\n"
     ]
    },
    {
     "name": "stderr",
     "output_type": "stream",
     "text": [
      " 31%|███       | 25/81 [00:10<00:11,  4.67it/s]"
     ]
    },
    {
     "name": "stdout",
     "output_type": "stream",
     "text": [
      "131.49072265625 71.5888671875\n",
      "131.45556640625 71.5537109375\n"
     ]
    },
    {
     "name": "stderr",
     "output_type": "stream",
     "text": [
      " 32%|███▏      | 26/81 [00:10<00:14,  3.86it/s]"
     ]
    },
    {
     "name": "stdout",
     "output_type": "stream",
     "text": [
      "131.44775390625 71.6083984375\n",
      "131.44677734375 71.607421875\n",
      "131.4482421875 71.60595703125\n",
      "131.44580078125 71.6123046875\n"
     ]
    },
    {
     "name": "stderr",
     "output_type": "stream",
     "text": [
      " 36%|███▌      | 29/81 [00:11<00:09,  5.50it/s]"
     ]
    },
    {
     "name": "stdout",
     "output_type": "stream",
     "text": [
      "131.44580078125 71.638671875\n",
      "131.4443359375 71.63916015625\n",
      "131.44140625 71.6376953125\n",
      "131.44775390625 71.6083984375\n",
      "131.44677734375 71.607421875\n",
      "131.43505859375 71.63623046875\n",
      "131.4287109375 71.63330078125\n",
      "131.4482421875 71.60595703125\n",
      "131.44580078125 71.6123046875\n",
      "131.45654296875 71.64404296875\n",
      "131.45654296875 71.64404296875\n"
     ]
    },
    {
     "name": "stderr",
     "output_type": "stream",
     "text": [
      " 43%|████▎     | 35/81 [00:11<00:05,  8.33it/s]"
     ]
    },
    {
     "name": "stdout",
     "output_type": "stream",
     "text": [
      "131.45361328125 71.55224609375\n"
     ]
    },
    {
     "name": "stderr",
     "output_type": "stream",
     "text": [
      " 48%|████▊     | 39/81 [00:12<00:04,  9.97it/s]"
     ]
    },
    {
     "name": "stdout",
     "output_type": "stream",
     "text": [
      "131.46728515625 71.25244140625\n"
     ]
    },
    {
     "name": "stderr",
     "output_type": "stream",
     "text": [
      " 85%|████████▌ | 69/81 [00:15<00:01,  7.43it/s]"
     ]
    },
    {
     "name": "stdout",
     "output_type": "stream",
     "text": [
      "131.2646484375 71.39697265625\n"
     ]
    },
    {
     "name": "stderr",
     "output_type": "stream",
     "text": [
      " 95%|█████████▌| 77/81 [00:16<00:00,  4.30it/s]"
     ]
    },
    {
     "name": "stdout",
     "output_type": "stream",
     "text": [
      "131.2646484375 71.39697265625\n"
     ]
    },
    {
     "name": "stderr",
     "output_type": "stream",
     "text": [
      "100%|██████████| 81/81 [00:17<00:00,  4.57it/s]\n"
     ]
    },
    {
     "name": "stdout",
     "output_type": "stream",
     "text": [
      " 4 Define mapping between PRISMA LatLon and gMaps latlon\n",
      " 5 Map PRISMA Latlons to gMaps latlons (ransac affine) and save for reference\n",
      "Band 40 did not work\n",
      "# 1 create .tif file\n",
      "# 2 Download gmaps for the same location\n",
      "Image size (pix):  (1792, 1792)\n",
      "Tile coordinate top left (north-west) corner: 1048,568\n",
      " 3 Determine matched features in PRISMA image to gMaps image with SIFT\n"
     ]
    },
    {
     "name": "stderr",
     "output_type": "stream",
     "text": [
      "  1%|          | 1/81 [00:00<00:42,  1.87it/s]"
     ]
    },
    {
     "name": "stdout",
     "output_type": "stream",
     "text": [
      "131.58544921875 71.3759765625\n",
      "131.6171875 71.38623046875\n",
      "131.615234375 71.3818359375\n",
      "131.58349609375 71.3740234375\n"
     ]
    },
    {
     "name": "stderr",
     "output_type": "stream",
     "text": [
      "  2%|▏         | 2/81 [00:01<01:09,  1.14it/s]"
     ]
    },
    {
     "name": "stdout",
     "output_type": "stream",
     "text": [
      "131.6142578125 71.4140625\n",
      "131.61572265625 71.40576171875\n",
      "131.6123046875 71.4013671875\n",
      "131.5927734375 71.3837890625\n",
      "131.58544921875 71.3759765625\n",
      "131.61376953125 71.404296875\n",
      "131.6171875 71.38623046875\n",
      "131.55712890625 71.4267578125\n",
      "131.615234375 71.3818359375\n",
      "131.59814453125 71.39697265625\n",
      "131.5947265625 71.3955078125\n",
      "131.56689453125 71.41015625\n",
      "131.5986328125 71.400390625\n",
      "131.58349609375 71.3740234375\n",
      "131.56884765625 71.392578125\n",
      "131.56884765625 71.392578125\n",
      "131.61376953125 71.404296875\n",
      "131.5732421875 71.392578125\n"
     ]
    },
    {
     "name": "stderr",
     "output_type": "stream",
     "text": [
      "  4%|▎         | 3/81 [00:02<01:06,  1.18it/s]"
     ]
    },
    {
     "name": "stdout",
     "output_type": "stream",
     "text": [
      "131.6142578125 71.4140625\n",
      "131.61572265625 71.40576171875\n",
      "131.59619140625 71.4384765625\n",
      "131.59375 71.4326171875\n",
      "131.5810546875 71.46240234375\n",
      "131.5849609375 71.42822265625\n",
      "131.5693359375 71.40869140625\n",
      "131.55712890625 71.4267578125\n",
      "131.61376953125 71.404296875\n",
      "131.572265625 71.42724609375\n",
      "131.59814453125 71.39697265625\n",
      "131.5947265625 71.3955078125\n",
      "131.56689453125 71.41015625\n",
      "131.6162109375 71.40283203125\n",
      "131.5810546875 71.46435546875\n",
      "131.5986328125 71.400390625\n",
      "131.56884765625 71.392578125\n",
      "131.56884765625 71.392578125\n",
      "131.55615234375 71.42626953125\n",
      "131.61376953125 71.404296875\n",
      "131.5732421875 71.392578125\n"
     ]
    },
    {
     "name": "stderr",
     "output_type": "stream",
     "text": [
      "  5%|▍         | 4/81 [00:03<01:03,  1.21it/s]"
     ]
    },
    {
     "name": "stdout",
     "output_type": "stream",
     "text": [
      "131.58056640625 71.5048828125\n",
      "131.57958984375 71.5068359375\n",
      "131.58544921875 71.48291015625\n",
      "131.57470703125 71.427734375\n",
      "131.57666015625 71.50146484375\n",
      "131.58642578125 71.46923828125\n",
      "131.59619140625 71.4384765625\n",
      "131.57373046875 71.5009765625\n",
      "131.57861328125 71.486328125\n",
      "131.59375 71.4326171875\n",
      "131.580078125 71.466796875\n",
      "131.5810546875 71.46240234375\n",
      "131.56591796875 71.4970703125\n",
      "131.5732421875 71.47119140625\n",
      "131.5654296875 71.49365234375\n",
      "131.5849609375 71.42822265625\n",
      "131.5712890625 71.49951171875\n",
      "131.572265625 71.42724609375\n",
      "131.57861328125 71.48095703125\n",
      "131.5810546875 71.46435546875\n"
     ]
    },
    {
     "name": "stderr",
     "output_type": "stream",
     "text": [
      "  6%|▌         | 5/81 [00:04<01:06,  1.15it/s]"
     ]
    },
    {
     "name": "stdout",
     "output_type": "stream",
     "text": [
      "131.5673828125 71.54443359375\n",
      "131.58056640625 71.5048828125\n",
      "131.57861328125 71.5087890625\n",
      "131.58544921875 71.48291015625\n",
      "131.5712890625 71.5234375\n",
      "131.5693359375 71.52392578125\n",
      "131.57666015625 71.50146484375\n",
      "131.57958984375 71.484375\n",
      "131.57373046875 71.5009765625\n",
      "131.57861328125 71.486328125\n",
      "131.564453125 71.52587890625\n",
      "131.55859375 71.53759765625\n",
      "131.5673828125 71.4990234375\n",
      "131.56591796875 71.4970703125\n",
      "131.5732421875 71.47119140625\n",
      "131.5654296875 71.49365234375\n",
      "131.52197265625 71.5126953125\n",
      "131.5205078125 71.51318359375\n",
      "131.56005859375 71.53662109375\n",
      "131.5712890625 71.49951171875\n",
      "131.5185546875 71.5087890625\n",
      "131.58984375 71.47900390625\n",
      "131.517578125 71.51123046875\n",
      "131.57861328125 71.48095703125\n",
      "131.55615234375 71.5361328125\n"
     ]
    },
    {
     "name": "stderr",
     "output_type": "stream",
     "text": [
      "  7%|▋         | 6/81 [00:05<01:12,  1.03it/s]"
     ]
    },
    {
     "name": "stdout",
     "output_type": "stream",
     "text": [
      "131.56103515625 71.5712890625\n",
      "131.5595703125 71.5703125\n",
      "131.5712890625 71.5234375\n",
      "131.5693359375 71.52392578125\n",
      "131.548828125 71.5732421875\n",
      "131.5498046875 71.56787109375\n",
      "131.546875 71.5751953125\n",
      "131.564453125 71.52587890625\n",
      "131.5458984375 71.57666015625\n",
      "131.55859375 71.53759765625\n",
      "131.5419921875 71.58056640625\n",
      "131.54248046875 71.5771484375\n",
      "131.54443359375 71.55859375\n",
      "131.529296875 71.57421875\n",
      "131.5263671875 71.5537109375\n",
      "131.52587890625 71.55224609375\n",
      "131.52197265625 71.55615234375\n",
      "131.51611328125 71.55078125\n",
      "131.52197265625 71.5126953125\n",
      "131.5205078125 71.51318359375\n",
      "131.54833984375 71.57666015625\n",
      "131.56005859375 71.53662109375\n",
      "131.54638671875 71.57275390625\n",
      "131.5390625 71.578125\n",
      "131.5341796875 71.55810546875\n",
      "131.51513671875 71.55126953125\n",
      "131.5185546875 71.5087890625\n",
      "131.529296875 71.572265625\n",
      "131.50830078125 71.54833984375\n",
      "131.53369140625 71.5498046875\n",
      "131.5498046875 71.56494140625\n",
      "131.55615234375 71.5361328125\n",
      "131.53759765625 71.56689453125\n",
      "131.56103515625 71.5712890625\n",
      "131.5595703125 71.5703125\n",
      "131.53955078125 71.61669921875\n",
      "131.5390625 71.61865234375\n",
      "131.54931640625 71.58447265625\n",
      "131.548828125 71.5732421875\n",
      "131.54541015625 71.58251953125\n",
      "131.5498046875 71.56787109375\n",
      "131.546875 71.5751953125\n",
      "131.5458984375 71.57666015625\n",
      "131.5419921875 71.58056640625\n",
      "131.54052734375 71.58447265625\n",
      "131.54248046875 71.5771484375\n",
      "131.53759765625 71.57958984375\n",
      "131.529296875 71.57421875\n",
      "131.51953125 71.58837890625\n",
      "131.5185546875 71.5869140625\n",
      "131.51806640625 71.580078125\n",
      "131.5263671875 71.5537109375\n",
      "131.52587890625 71.55224609375\n",
      "131.52197265625 71.55615234375\n",
      "131.5048828125 71.60205078125\n",
      "131.5068359375 71.595703125\n",
      "131.51171875 71.58203125\n",
      "131.5595703125 71.62158203125\n",
      "131.5107421875 71.58056640625\n",
      "131.50537109375 71.59521484375\n",
      "131.509765625 71.57861328125\n",
      "131.505859375 71.58447265625\n",
      "131.49072265625 71.5888671875\n",
      "131.48779296875 71.59619140625\n",
      "131.48046875 71.59814453125\n",
      "131.48828125 71.5673828125\n",
      "131.47607421875 71.59228515625\n",
      "131.5576171875 71.57275390625\n",
      "131.556640625 71.56884765625\n",
      "131.54150390625 71.60791015625\n",
      "131.5380859375 71.61376953125\n",
      "131.54833984375 71.57666015625\n",
      "131.5458984375 71.5810546875\n",
      "131.54638671875 71.57275390625\n"
     ]
    },
    {
     "name": "stderr",
     "output_type": "stream",
     "text": [
      "  9%|▊         | 7/81 [00:06<01:26,  1.17s/it]"
     ]
    },
    {
     "name": "stdout",
     "output_type": "stream",
     "text": [
      "131.54345703125 71.57861328125\n",
      "131.5390625 71.578125\n",
      "131.52783203125 71.57666015625\n",
      "131.5341796875 71.55810546875\n",
      "131.51611328125 71.58837890625\n",
      "131.513671875 71.5869140625\n",
      "131.5126953125 71.58203125\n",
      "131.51611328125 71.5712890625\n",
      "131.50146484375 71.5947265625\n",
      "131.5029296875 71.5869140625\n",
      "131.51513671875 71.55126953125\n",
      "131.4951171875 71.595703125\n",
      "131.48828125 71.58935546875\n",
      "131.49072265625 71.5673828125\n",
      "131.48828125 71.57275390625\n",
      "131.48779296875 71.56982421875\n",
      "131.5537109375 71.57666015625\n",
      "131.5322265625 71.57666015625\n",
      "131.529296875 71.572265625\n",
      "131.51904296875 71.5830078125\n",
      "131.50927734375 71.58984375\n",
      "131.50048828125 71.5966796875\n",
      "131.494140625 71.5712890625\n",
      "131.48388671875 71.59033203125\n",
      "131.53369140625 71.54931640625\n",
      "131.51904296875 71.57568359375\n",
      "131.4970703125 71.57958984375\n",
      "131.53955078125 71.61669921875\n",
      "131.5498046875 71.56494140625\n",
      "131.5419921875 71.58056640625\n",
      "131.48828125 71.58935546875\n",
      "131.54443359375 71.5849609375\n",
      "131.53759765625 71.56689453125\n",
      "131.529296875 71.572265625\n",
      "131.51904296875 71.57568359375\n",
      "131.53955078125 71.61669921875\n",
      "131.5390625 71.61865234375\n",
      "131.54052734375 71.58447265625\n",
      "131.50830078125 71.62890625\n",
      "131.50830078125 71.62646484375\n",
      "131.51953125 71.58837890625\n",
      "131.5185546875 71.5869140625\n",
      "131.51806640625 71.580078125\n",
      "131.5048828125 71.60205078125\n",
      "131.5068359375 71.595703125\n",
      "131.51171875 71.58203125\n",
      "131.5107421875 71.58056640625\n",
      "131.50537109375 71.59521484375\n",
      "131.509765625 71.57861328125\n",
      "131.505859375 71.58447265625\n",
      "131.48486328125 71.60498046875\n",
      "131.49072265625 71.5888671875\n",
      "131.48779296875 71.59619140625\n",
      "131.48291015625 71.60888671875\n",
      "131.48095703125 71.6083984375\n",
      "131.48291015625 71.6025390625\n",
      "131.4912109375 71.5693359375\n",
      "131.4794921875 71.60009765625\n",
      "131.466796875 71.6376953125\n",
      "131.48046875 71.59814453125\n",
      "131.48828125 71.5673828125\n",
      "131.50048828125 71.65576171875\n",
      "131.47509765625 71.599609375\n",
      "131.47607421875 71.59228515625\n",
      "131.5380859375 71.62548828125\n",
      "131.5380859375 71.61962890625\n",
      "131.54150390625 71.60791015625\n",
      "131.52685546875 71.6484375\n",
      "131.5380859375 71.61376953125\n",
      "131.53564453125 71.61767578125\n",
      "131.52734375 71.61865234375\n",
      "131.51611328125 71.58837890625\n",
      "131.513671875 71.5869140625\n",
      "131.5126953125 71.58203125\n",
      "131.50146484375 71.5947265625\n",
      "131.5029296875 71.5869140625\n",
      "131.49462890625 71.61474609375\n",
      "131.4951171875 71.595703125\n",
      "131.4853515625 71.60693359375\n",
      "131.48828125 71.58935546875\n",
      "131.48828125 71.57275390625\n",
      "131.48779296875 71.56982421875\n",
      "131.50927734375 71.58984375\n"
     ]
    },
    {
     "name": "stderr",
     "output_type": "stream",
     "text": [
      " 10%|▉         | 8/81 [00:08<01:28,  1.21s/it]"
     ]
    },
    {
     "name": "stdout",
     "output_type": "stream",
     "text": [
      "131.50048828125 71.59130859375\n",
      "131.50048828125 71.5966796875\n",
      "131.49169921875 71.6103515625\n",
      "131.4833984375 71.59033203125\n",
      "131.53955078125 71.61669921875\n",
      "131.48291015625 71.60888671875\n",
      "131.48828125 71.58935546875\n"
     ]
    },
    {
     "name": "stderr",
     "output_type": "stream",
     "text": [
      " 11%|█         | 9/81 [00:08<01:14,  1.03s/it]"
     ]
    },
    {
     "name": "stdout",
     "output_type": "stream",
     "text": [
      "131.51904296875 71.6728515625\n",
      "131.51025390625 71.689453125\n",
      "131.5 71.6796875\n",
      "131.49951171875 71.677734375\n",
      "131.50537109375 71.65576171875\n",
      "131.49462890625 71.68359375\n",
      "131.501953125 71.65673828125\n",
      "131.50830078125 71.62890625\n",
      "131.49853515625 71.65576171875\n",
      "131.50830078125 71.62646484375\n",
      "131.4853515625 71.65283203125\n",
      "131.48486328125 71.6513671875\n",
      "131.48388671875 71.65283203125\n",
      "131.48291015625 71.60888671875\n",
      "131.52685546875 71.6484375\n",
      "131.51220703125 71.68603515625\n",
      "131.513671875 71.65380859375\n",
      "131.48291015625 71.646484375\n",
      "131.4951171875 71.60791015625\n",
      "131.48876953125 71.65673828125\n",
      "131.51904296875 71.6728515625\n",
      "131.48388671875 71.6484375\n",
      "131.48291015625 71.60888671875\n",
      "131.513671875 71.65380859375\n"
     ]
    },
    {
     "name": "stderr",
     "output_type": "stream",
     "text": [
      " 12%|█▏        | 10/81 [00:09<00:56,  1.27it/s]"
     ]
    },
    {
     "name": "stdout",
     "output_type": "stream",
     "text": [
      "131.58544921875 71.3759765625\n",
      "131.54833984375 71.35302734375\n",
      "131.58349609375 71.3740234375\n"
     ]
    },
    {
     "name": "stderr",
     "output_type": "stream",
     "text": [
      " 14%|█▎        | 11/81 [00:09<00:50,  1.39it/s]"
     ]
    },
    {
     "name": "stdout",
     "output_type": "stream",
     "text": [
      "131.58544921875 71.3759765625\n",
      "131.54833984375 71.35302734375\n",
      "131.56689453125 71.41015625\n",
      "131.58349609375 71.3740234375\n",
      "131.56884765625 71.392578125\n",
      "131.56884765625 71.392578125\n",
      "131.5732421875 71.392578125\n"
     ]
    },
    {
     "name": "stderr",
     "output_type": "stream",
     "text": [
      " 15%|█▍        | 12/81 [00:11<01:14,  1.08s/it]"
     ]
    },
    {
     "name": "stdout",
     "output_type": "stream",
     "text": [
      "131.5693359375 71.40869140625\n",
      "131.55712890625 71.4267578125\n",
      "131.56689453125 71.41015625\n",
      "131.56884765625 71.392578125\n",
      "131.56884765625 71.392578125\n",
      "131.55615234375 71.42626953125\n",
      "131.5732421875 71.392578125\n"
     ]
    },
    {
     "name": "stderr",
     "output_type": "stream",
     "text": [
      " 16%|█▌        | 13/81 [00:12<01:11,  1.05s/it]"
     ]
    },
    {
     "name": "stdout",
     "output_type": "stream",
     "text": [
      "131.56982421875 71.427734375\n",
      "131.55712890625 71.4267578125\n",
      "131.55615234375 71.42626953125\n"
     ]
    },
    {
     "name": "stderr",
     "output_type": "stream",
     "text": [
      " 17%|█▋        | 14/81 [00:13<01:01,  1.09it/s]"
     ]
    },
    {
     "name": "stdout",
     "output_type": "stream",
     "text": [
      "131.52197265625 71.5126953125\n",
      "131.5205078125 71.51318359375\n",
      "131.517578125 71.51123046875\n",
      "131.51806640625 71.513671875\n",
      "131.5185546875 71.5087890625\n"
     ]
    },
    {
     "name": "stderr",
     "output_type": "stream",
     "text": [
      " 19%|█▊        | 15/81 [00:13<00:54,  1.21it/s]"
     ]
    },
    {
     "name": "stdout",
     "output_type": "stream",
     "text": [
      "131.52197265625 71.55615234375\n",
      "131.51611328125 71.55078125\n",
      "131.52197265625 71.5126953125\n",
      "131.5205078125 71.51318359375\n",
      "131.51513671875 71.55126953125\n",
      "131.50830078125 71.54833984375\n"
     ]
    },
    {
     "name": "stderr",
     "output_type": "stream",
     "text": [
      " 20%|█▉        | 16/81 [00:15<01:01,  1.05it/s]"
     ]
    },
    {
     "name": "stdout",
     "output_type": "stream",
     "text": [
      "131.5048828125 71.60205078125\n",
      "131.5068359375 71.595703125\n",
      "131.51171875 71.58203125\n",
      "131.5107421875 71.58056640625\n",
      "131.50537109375 71.59521484375\n",
      "131.509765625 71.57861328125\n",
      "131.505859375 71.58447265625\n",
      "131.50732421875 71.578125\n",
      "131.49072265625 71.5888671875\n",
      "131.48779296875 71.59619140625\n",
      "131.4912109375 71.5693359375\n",
      "131.48046875 71.59814453125\n",
      "131.48828125 71.5673828125\n",
      "131.47607421875 71.59228515625\n",
      "131.50146484375 71.5947265625\n",
      "131.5029296875 71.5869140625\n",
      "131.51513671875 71.55126953125\n",
      "131.4951171875 71.595703125\n",
      "131.48828125 71.58935546875\n",
      "131.49072265625 71.5673828125\n",
      "131.48828125 71.57275390625\n",
      "131.48779296875 71.56982421875\n",
      "131.50048828125 71.59130859375\n",
      "131.50830078125 71.54833984375\n",
      "131.494140625 71.5712890625\n",
      "131.4833984375 71.59033203125\n",
      "131.4970703125 71.57958984375\n",
      "131.4794921875 71.60009765625\n",
      "131.48828125 71.58935546875\n",
      "131.45556640625 71.5537109375\n"
     ]
    },
    {
     "name": "stderr",
     "output_type": "stream",
     "text": [
      " 21%|██        | 17/81 [00:16<01:19,  1.24s/it]"
     ]
    },
    {
     "name": "stdout",
     "output_type": "stream",
     "text": [
      "131.5048828125 71.60205078125\n",
      "131.5068359375 71.595703125\n",
      "131.51171875 71.58203125\n",
      "131.5107421875 71.58056640625\n",
      "131.50537109375 71.59521484375\n",
      "131.509765625 71.57861328125\n",
      "131.505859375 71.58447265625\n",
      "131.48486328125 71.60498046875\n",
      "131.49072265625 71.5888671875\n",
      "131.48779296875 71.59619140625\n",
      "131.48291015625 71.60888671875\n",
      "131.48095703125 71.6083984375\n",
      "131.48291015625 71.6025390625\n",
      "131.4912109375 71.5693359375\n",
      "131.4794921875 71.60009765625\n",
      "131.466796875 71.6376953125\n",
      "131.48828125 71.5673828125\n",
      "131.47509765625 71.599609375\n",
      "131.44775390625 71.6083984375\n",
      "131.44677734375 71.607421875\n",
      "131.50146484375 71.5947265625\n",
      "131.5029296875 71.5869140625\n",
      "131.49462890625 71.61474609375\n",
      "131.4951171875 71.595703125\n",
      "131.4853515625 71.60693359375\n",
      "131.48828125 71.58935546875\n",
      "131.48828125 71.57275390625\n",
      "131.48779296875 71.56982421875\n",
      "131.4482421875 71.60595703125\n",
      "131.50048828125 71.5966796875\n",
      "131.49169921875 71.6103515625\n",
      "131.48388671875 71.59033203125\n",
      "131.48291015625 71.60888671875\n",
      "131.4794921875 71.60009765625\n"
     ]
    },
    {
     "name": "stderr",
     "output_type": "stream",
     "text": [
      " 22%|██▏       | 18/81 [00:17<01:12,  1.16s/it]"
     ]
    },
    {
     "name": "stdout",
     "output_type": "stream",
     "text": [
      "131.4853515625 71.65283203125\n",
      "131.48486328125 71.6513671875\n",
      "131.48876953125 71.63720703125\n",
      "131.48388671875 71.65283203125\n",
      "131.48291015625 71.60888671875\n",
      "131.4443359375 71.63916015625\n",
      "131.44140625 71.6376953125\n",
      "131.44775390625 71.6083984375\n",
      "131.44677734375 71.607421875\n",
      "131.43505859375 71.63623046875\n",
      "131.4287109375 71.63330078125\n",
      "131.48291015625 71.646484375\n",
      "131.4482421875 71.60595703125\n",
      "131.44580078125 71.6123046875\n",
      "131.490234375 71.64501953125\n",
      "131.48388671875 71.6484375\n",
      "131.48291015625 71.60888671875\n",
      "131.45654296875 71.64404296875\n"
     ]
    },
    {
     "name": "stderr",
     "output_type": "stream",
     "text": [
      " 23%|██▎       | 19/81 [00:18<00:55,  1.12it/s]"
     ]
    },
    {
     "name": "stdout",
     "output_type": "stream",
     "text": [
      "131.54833984375 71.35302734375\n"
     ]
    },
    {
     "name": "stderr",
     "output_type": "stream",
     "text": [
      " 25%|██▍       | 20/81 [00:18<00:42,  1.43it/s]"
     ]
    },
    {
     "name": "stdout",
     "output_type": "stream",
     "text": [
      "131.54833984375 71.35302734375\n"
     ]
    },
    {
     "name": "stderr",
     "output_type": "stream",
     "text": [
      " 30%|██▉       | 24/81 [00:18<00:17,  3.34it/s]"
     ]
    },
    {
     "name": "stdout",
     "output_type": "stream",
     "text": [
      "131.45361328125 71.55224609375\n"
     ]
    },
    {
     "name": "stderr",
     "output_type": "stream",
     "text": [
      " 31%|███       | 25/81 [00:19<00:16,  3.47it/s]"
     ]
    },
    {
     "name": "stdout",
     "output_type": "stream",
     "text": [
      "131.49072265625 71.5888671875\n",
      "131.45361328125 71.55224609375\n",
      "131.45556640625 71.5537109375\n"
     ]
    },
    {
     "name": "stderr",
     "output_type": "stream",
     "text": [
      " 32%|███▏      | 26/81 [00:19<00:16,  3.25it/s]"
     ]
    },
    {
     "name": "stdout",
     "output_type": "stream",
     "text": [
      "131.44775390625 71.6083984375\n",
      "131.44677734375 71.607421875\n",
      "131.4482421875 71.60595703125\n",
      "131.44580078125 71.6123046875\n"
     ]
    },
    {
     "name": "stderr",
     "output_type": "stream",
     "text": [
      " 35%|███▍      | 28/81 [00:20<00:15,  3.36it/s]"
     ]
    },
    {
     "name": "stdout",
     "output_type": "stream",
     "text": [
      "131.44580078125 71.638671875\n",
      "131.4443359375 71.63916015625\n",
      "131.44140625 71.6376953125\n",
      "131.44775390625 71.6083984375\n",
      "131.44677734375 71.607421875\n",
      "131.43505859375 71.63623046875\n",
      "131.4287109375 71.63330078125\n",
      "131.4482421875 71.60595703125\n",
      "131.44580078125 71.6123046875\n",
      "131.45654296875 71.64404296875\n",
      "131.45654296875 71.64404296875\n"
     ]
    },
    {
     "name": "stderr",
     "output_type": "stream",
     "text": [
      " 42%|████▏     | 34/81 [00:21<00:09,  4.89it/s]"
     ]
    },
    {
     "name": "stdout",
     "output_type": "stream",
     "text": [
      "131.45361328125 71.55224609375\n"
     ]
    },
    {
     "name": "stderr",
     "output_type": "stream",
     "text": [
      " 47%|████▋     | 38/81 [00:21<00:08,  5.11it/s]"
     ]
    },
    {
     "name": "stdout",
     "output_type": "stream",
     "text": [
      "131.46728515625 71.25244140625\n"
     ]
    },
    {
     "name": "stderr",
     "output_type": "stream",
     "text": [
      " 85%|████████▌ | 69/81 [00:26<00:01,  7.39it/s]"
     ]
    },
    {
     "name": "stdout",
     "output_type": "stream",
     "text": [
      "131.2646484375 71.39697265625\n"
     ]
    },
    {
     "name": "stderr",
     "output_type": "stream",
     "text": [
      " 96%|█████████▋| 78/81 [00:27<00:00,  6.92it/s]"
     ]
    },
    {
     "name": "stdout",
     "output_type": "stream",
     "text": [
      "131.2646484375 71.39697265625\n"
     ]
    },
    {
     "name": "stderr",
     "output_type": "stream",
     "text": [
      "100%|██████████| 81/81 [00:27<00:00,  2.91it/s]\n"
     ]
    },
    {
     "name": "stdout",
     "output_type": "stream",
     "text": [
      " 4 Define mapping between PRISMA LatLon and gMaps latlon\n",
      " 5 Map PRISMA Latlons to gMaps latlons (ransac affine) and save for reference\n",
      "Band 41 did not work\n",
      "# 1 create .tif file\n",
      "# 2 Download gmaps for the same location\n",
      "Image size (pix):  (1792, 1792)\n",
      "Tile coordinate top left (north-west) corner: 1048,568\n",
      " 3 Determine matched features in PRISMA image to gMaps image with SIFT\n"
     ]
    },
    {
     "name": "stderr",
     "output_type": "stream",
     "text": [
      "  1%|          | 1/81 [00:00<00:22,  3.59it/s]"
     ]
    },
    {
     "name": "stdout",
     "output_type": "stream",
     "text": [
      "131.58544921875 71.3759765625\n",
      "131.6171875 71.38623046875\n",
      "131.615234375 71.3818359375\n",
      "131.58349609375 71.3740234375\n"
     ]
    },
    {
     "name": "stderr",
     "output_type": "stream",
     "text": [
      "  2%|▏         | 2/81 [00:00<00:33,  2.38it/s]"
     ]
    },
    {
     "name": "stdout",
     "output_type": "stream",
     "text": [
      "131.6142578125 71.4140625\n",
      "131.61572265625 71.40576171875\n",
      "131.6123046875 71.4013671875\n",
      "131.55712890625 71.4267578125\n",
      "131.58544921875 71.3759765625\n",
      "131.61376953125 71.404296875\n",
      "131.6171875 71.38623046875\n",
      "131.615234375 71.3818359375\n",
      "131.59814453125 71.39697265625\n",
      "131.5947265625 71.3955078125\n",
      "131.56689453125 71.41015625\n",
      "131.5986328125 71.400390625\n",
      "131.58349609375 71.3740234375\n",
      "131.56884765625 71.392578125\n",
      "131.56884765625 71.392578125\n",
      "131.61376953125 71.404296875\n",
      "131.5732421875 71.392578125\n"
     ]
    },
    {
     "name": "stderr",
     "output_type": "stream",
     "text": [
      "  4%|▎         | 3/81 [00:01<00:36,  2.11it/s]"
     ]
    },
    {
     "name": "stdout",
     "output_type": "stream",
     "text": [
      "131.6142578125 71.4140625\n",
      "131.61572265625 71.40576171875\n",
      "131.59619140625 71.4384765625\n",
      "131.59375 71.4326171875\n",
      "131.5810546875 71.46435546875\n",
      "131.5810546875 71.46240234375\n",
      "131.5849609375 71.42822265625\n",
      "131.5693359375 71.40869140625\n",
      "131.55712890625 71.4267578125\n",
      "131.61376953125 71.404296875\n",
      "131.572265625 71.42724609375\n",
      "131.59814453125 71.39697265625\n",
      "131.5947265625 71.3955078125\n",
      "131.56689453125 71.41015625\n",
      "131.6162109375 71.40283203125\n",
      "131.5986328125 71.400390625\n",
      "131.56884765625 71.392578125\n",
      "131.56884765625 71.392578125\n",
      "131.55615234375 71.42626953125\n",
      "131.61376953125 71.404296875\n",
      "131.5732421875 71.392578125\n"
     ]
    },
    {
     "name": "stderr",
     "output_type": "stream",
     "text": [
      "  5%|▍         | 4/81 [00:01<00:35,  2.17it/s]"
     ]
    },
    {
     "name": "stdout",
     "output_type": "stream",
     "text": [
      "131.58056640625 71.5048828125\n",
      "131.58544921875 71.48291015625\n",
      "131.57470703125 71.427734375\n",
      "131.57666015625 71.50146484375\n",
      "131.58642578125 71.46923828125\n",
      "131.59619140625 71.4384765625\n",
      "131.57373046875 71.5009765625\n",
      "131.57861328125 71.486328125\n",
      "131.59375 71.4326171875\n",
      "131.5810546875 71.46435546875\n",
      "131.580078125 71.466796875\n",
      "131.5810546875 71.46240234375\n",
      "131.56591796875 71.4970703125\n",
      "131.5732421875 71.47119140625\n",
      "131.5654296875 71.49365234375\n",
      "131.5849609375 71.42822265625\n",
      "131.5712890625 71.49951171875\n",
      "131.572265625 71.42724609375\n",
      "131.57861328125 71.48095703125\n"
     ]
    },
    {
     "name": "stderr",
     "output_type": "stream",
     "text": [
      "  6%|▌         | 5/81 [00:02<00:34,  2.19it/s]"
     ]
    },
    {
     "name": "stdout",
     "output_type": "stream",
     "text": [
      "131.5673828125 71.54443359375\n",
      "131.58056640625 71.5048828125\n",
      "131.58544921875 71.48291015625\n",
      "131.5712890625 71.5234375\n",
      "131.56640625 71.533203125\n",
      "131.57666015625 71.50146484375\n",
      "131.57958984375 71.484375\n",
      "131.57373046875 71.5009765625\n",
      "131.57861328125 71.486328125\n",
      "131.564453125 71.52587890625\n",
      "131.55859375 71.53759765625\n",
      "131.5673828125 71.4990234375\n",
      "131.56591796875 71.4970703125\n",
      "131.5732421875 71.47119140625\n",
      "131.5654296875 71.49365234375\n",
      "131.52197265625 71.5126953125\n",
      "131.5205078125 71.51318359375\n",
      "131.56005859375 71.53662109375\n",
      "131.5712890625 71.49951171875\n",
      "131.51806640625 71.513671875\n",
      "131.5185546875 71.5087890625\n",
      "131.58984375 71.47900390625\n",
      "131.517578125 71.51123046875\n",
      "131.57861328125 71.48095703125\n",
      "131.55615234375 71.5361328125\n"
     ]
    },
    {
     "name": "stderr",
     "output_type": "stream",
     "text": [
      "  7%|▋         | 6/81 [00:02<00:38,  1.94it/s]"
     ]
    },
    {
     "name": "stdout",
     "output_type": "stream",
     "text": [
      "131.56103515625 71.5712890625\n",
      "131.5595703125 71.5703125\n",
      "131.5712890625 71.5234375\n",
      "131.55078125 71.57470703125\n",
      "131.548828125 71.5732421875\n",
      "131.546875 71.5751953125\n",
      "131.564453125 71.52587890625\n",
      "131.5458984375 71.57666015625\n",
      "131.55859375 71.53759765625\n",
      "131.5419921875 71.58056640625\n",
      "131.54248046875 71.5771484375\n",
      "131.54443359375 71.55859375\n",
      "131.5263671875 71.5537109375\n",
      "131.51611328125 71.55078125\n",
      "131.52197265625 71.5126953125\n",
      "131.5205078125 71.51318359375\n",
      "131.556640625 71.56884765625\n",
      "131.54833984375 71.57666015625\n",
      "131.56005859375 71.53662109375\n",
      "131.54638671875 71.57275390625\n",
      "131.5390625 71.578125\n",
      "131.5341796875 71.55810546875\n",
      "131.51513671875 71.55126953125\n",
      "131.51806640625 71.513671875\n",
      "131.5185546875 71.5087890625\n",
      "131.529296875 71.572265625\n",
      "131.53369140625 71.5498046875\n",
      "131.5498046875 71.56494140625\n",
      "131.55615234375 71.5361328125\n",
      "131.53759765625 71.56689453125\n",
      "131.56103515625 71.5712890625\n",
      "131.5595703125 71.5703125\n",
      "131.53955078125 71.61669921875\n",
      "131.5390625 71.61865234375\n",
      "131.54931640625 71.58447265625\n",
      "131.55078125 71.57470703125\n",
      "131.548828125 71.5732421875\n",
      "131.54541015625 71.58251953125\n",
      "131.546875 71.5751953125\n",
      "131.5458984375 71.57666015625\n",
      "131.5419921875 71.58056640625\n",
      "131.54052734375 71.58447265625\n",
      "131.54248046875 71.5771484375\n",
      "131.53759765625 71.57958984375\n",
      "131.51953125 71.58837890625\n",
      "131.5185546875 71.5869140625\n",
      "131.51806640625 71.580078125\n",
      "131.5263671875 71.5537109375\n",
      "131.5048828125 71.60205078125\n",
      "131.5068359375 71.595703125\n",
      "131.51171875 71.58203125\n",
      "131.5595703125 71.62158203125\n",
      "131.5107421875 71.58056640625\n",
      "131.50537109375 71.59521484375\n",
      "131.509765625 71.57861328125\n",
      "131.505859375 71.58447265625\n",
      "131.49072265625 71.5888671875\n",
      "131.48779296875 71.59619140625\n",
      "131.4912109375 71.5693359375\n",
      "131.48046875 71.59814453125\n",
      "131.48828125 71.5673828125\n",
      "131.47607421875 71.59228515625\n",
      "131.5576171875 71.57275390625\n",
      "131.556640625 71.56884765625\n",
      "131.5380859375 71.61376953125\n",
      "131.54833984375 71.57666015625\n",
      "131.5458984375 71.5810546875\n",
      "131.54638671875 71.57275390625\n",
      "131.54345703125 71.57861328125\n",
      "131.5390625 71.578125\n",
      "131.52783203125 71.57666015625\n",
      "131.5341796875 71.55810546875\n",
      "131.51611328125 71.58837890625\n",
      "131.513671875 71.5869140625\n",
      "131.5126953125 71.58203125\n",
      "131.51611328125 71.5712890625\n",
      "131.50146484375 71.5947265625\n",
      "131.5029296875 71.5869140625\n",
      "131.51513671875 71.55126953125\n",
      "131.5029296875 71.580078125\n",
      "131.4951171875 71.595703125\n",
      "131.48828125 71.58935546875\n",
      "131.49072265625 71.5673828125\n",
      "131.48779296875 71.56982421875\n",
      "131.5537109375 71.57666015625\n",
      "131.5322265625 71.57666015625\n",
      "131.529296875 71.572265625\n",
      "131.51904296875 71.5830078125\n"
     ]
    },
    {
     "name": "stderr",
     "output_type": "stream",
     "text": [
      "  9%|▊         | 7/81 [00:03<00:48,  1.51it/s]"
     ]
    },
    {
     "name": "stdout",
     "output_type": "stream",
     "text": [
      "131.50927734375 71.58984375\n",
      "131.50048828125 71.5966796875\n",
      "131.494140625 71.5712890625\n",
      "131.48388671875 71.59033203125\n",
      "131.53369140625 71.54931640625\n",
      "131.51904296875 71.57568359375\n",
      "131.4970703125 71.57958984375\n",
      "131.53955078125 71.61669921875\n",
      "131.5498046875 71.56494140625\n",
      "131.5419921875 71.58056640625\n",
      "131.505859375 71.58447265625\n",
      "131.48828125 71.58935546875\n",
      "131.54443359375 71.5849609375\n",
      "131.53759765625 71.56689453125\n",
      "131.529296875 71.572265625\n",
      "131.51904296875 71.57568359375\n",
      "131.53955078125 71.61669921875\n",
      "131.5390625 71.61865234375\n",
      "131.50244140625 71.6005859375\n",
      "131.54052734375 71.58447265625\n",
      "131.50830078125 71.62890625\n",
      "131.50830078125 71.62646484375\n",
      "131.51953125 71.58837890625\n",
      "131.5185546875 71.5869140625\n",
      "131.51806640625 71.580078125\n",
      "131.5048828125 71.60205078125\n",
      "131.5068359375 71.595703125\n",
      "131.51171875 71.58203125\n",
      "131.5107421875 71.58056640625\n",
      "131.50537109375 71.59521484375\n",
      "131.509765625 71.57861328125\n",
      "131.505859375 71.58447265625\n",
      "131.48486328125 71.60498046875\n",
      "131.49072265625 71.5888671875\n",
      "131.48779296875 71.59619140625\n",
      "131.48291015625 71.60888671875\n",
      "131.48095703125 71.6083984375\n",
      "131.48291015625 71.6025390625\n",
      "131.4912109375 71.5693359375\n",
      "131.4794921875 71.60009765625\n",
      "131.466796875 71.6376953125\n",
      "131.48046875 71.59814453125\n",
      "131.48828125 71.5673828125\n",
      "131.50048828125 71.65576171875\n",
      "131.47509765625 71.599609375\n",
      "131.47607421875 71.59228515625\n",
      "131.5302734375 71.650390625\n",
      "131.5380859375 71.62548828125\n",
      "131.5380859375 71.61962890625\n",
      "131.54150390625 71.60791015625\n",
      "131.52685546875 71.6484375\n",
      "131.5380859375 71.61376953125\n",
      "131.53564453125 71.61767578125\n",
      "131.52734375 71.61865234375\n",
      "131.51611328125 71.58837890625\n",
      "131.513671875 71.5869140625\n",
      "131.5126953125 71.58203125\n",
      "131.50146484375 71.5947265625\n",
      "131.5029296875 71.5869140625\n",
      "131.49462890625 71.61474609375\n",
      "131.5029296875 71.580078125\n",
      "131.4951171875 71.595703125\n",
      "131.4853515625 71.60693359375\n",
      "131.48828125 71.58935546875\n",
      "131.48828125 71.57275390625\n",
      "131.48779296875 71.56982421875\n",
      "131.50927734375 71.58984375\n",
      "131.50048828125 71.59130859375\n",
      "131.50048828125 71.5966796875\n",
      "131.49169921875 71.6103515625\n",
      "131.4833984375 71.59033203125\n",
      "131.53955078125 71.61669921875\n"
     ]
    },
    {
     "name": "stderr",
     "output_type": "stream",
     "text": [
      " 10%|▉         | 8/81 [00:04<00:54,  1.35it/s]"
     ]
    },
    {
     "name": "stdout",
     "output_type": "stream",
     "text": [
      "131.505859375 71.58447265625\n",
      "131.48291015625 71.60888671875\n",
      "131.48828125 71.58935546875\n"
     ]
    },
    {
     "name": "stderr",
     "output_type": "stream",
     "text": [
      " 11%|█         | 9/81 [00:05<00:50,  1.42it/s]"
     ]
    },
    {
     "name": "stdout",
     "output_type": "stream",
     "text": [
      "131.51904296875 71.6728515625\n",
      "131.51025390625 71.689453125\n",
      "131.51025390625 71.6865234375\n",
      "131.5 71.6796875\n",
      "131.50537109375 71.65576171875\n",
      "131.49462890625 71.68359375\n",
      "131.501953125 71.65673828125\n",
      "131.50830078125 71.62890625\n",
      "131.50830078125 71.62646484375\n",
      "131.4853515625 71.65283203125\n",
      "131.48583984375 71.65087890625\n",
      "131.48388671875 71.65283203125\n",
      "131.48291015625 71.60888671875\n",
      "131.466796875 71.6376953125\n",
      "131.52685546875 71.6484375\n",
      "131.51220703125 71.68603515625\n",
      "131.51708984375 71.65283203125\n",
      "131.513671875 71.65380859375\n",
      "131.48876953125 71.65673828125\n",
      "131.48291015625 71.646484375\n",
      "131.51904296875 71.6728515625\n",
      "131.48388671875 71.6484375\n",
      "131.48291015625 71.60888671875\n",
      "131.513671875 71.65380859375\n"
     ]
    },
    {
     "name": "stderr",
     "output_type": "stream",
     "text": [
      " 12%|█▏        | 10/81 [00:05<00:40,  1.76it/s]"
     ]
    },
    {
     "name": "stdout",
     "output_type": "stream",
     "text": [
      "131.58544921875 71.3759765625\n",
      "131.5732421875 71.36767578125\n",
      "131.54833984375 71.35302734375\n",
      "131.54638671875 71.35888671875\n",
      "131.58349609375 71.3740234375\n"
     ]
    },
    {
     "name": "stderr",
     "output_type": "stream",
     "text": [
      " 14%|█▎        | 11/81 [00:05<00:34,  2.00it/s]"
     ]
    },
    {
     "name": "stdout",
     "output_type": "stream",
     "text": [
      "131.58544921875 71.3759765625\n",
      "131.54833984375 71.35302734375\n",
      "131.56689453125 71.41015625\n",
      "131.54638671875 71.35888671875\n",
      "131.58349609375 71.3740234375\n",
      "131.56884765625 71.392578125\n",
      "131.56884765625 71.392578125\n",
      "131.5732421875 71.392578125\n"
     ]
    },
    {
     "name": "stderr",
     "output_type": "stream",
     "text": [
      " 15%|█▍        | 12/81 [00:06<00:31,  2.18it/s]"
     ]
    },
    {
     "name": "stdout",
     "output_type": "stream",
     "text": [
      "131.5693359375 71.40869140625\n",
      "131.55712890625 71.4267578125\n",
      "131.56689453125 71.41015625\n",
      "131.56884765625 71.392578125\n",
      "131.56884765625 71.392578125\n",
      "131.55615234375 71.42626953125\n",
      "131.5732421875 71.392578125\n"
     ]
    },
    {
     "name": "stderr",
     "output_type": "stream",
     "text": [
      " 16%|█▌        | 13/81 [00:06<00:26,  2.54it/s]"
     ]
    },
    {
     "name": "stdout",
     "output_type": "stream",
     "text": [
      "131.56982421875 71.427734375\n",
      "131.55712890625 71.4267578125\n",
      "131.55615234375 71.42626953125\n"
     ]
    },
    {
     "name": "stderr",
     "output_type": "stream",
     "text": [
      " 17%|█▋        | 14/81 [00:06<00:23,  2.91it/s]"
     ]
    },
    {
     "name": "stdout",
     "output_type": "stream",
     "text": [
      "131.52197265625 71.5126953125\n",
      "131.5205078125 71.51318359375\n",
      "131.517578125 71.51123046875\n",
      "131.51806640625 71.513671875\n",
      "131.5185546875 71.5087890625\n"
     ]
    },
    {
     "name": "stderr",
     "output_type": "stream",
     "text": [
      " 19%|█▊        | 15/81 [00:07<00:22,  2.97it/s]"
     ]
    },
    {
     "name": "stdout",
     "output_type": "stream",
     "text": [
      "131.51611328125 71.55078125\n",
      "131.52197265625 71.5126953125\n",
      "131.5205078125 71.51318359375\n",
      "131.51513671875 71.55126953125\n",
      "131.51806640625 71.513671875\n"
     ]
    },
    {
     "name": "stderr",
     "output_type": "stream",
     "text": [
      " 20%|█▉        | 16/81 [00:07<00:26,  2.43it/s]"
     ]
    },
    {
     "name": "stdout",
     "output_type": "stream",
     "text": [
      "131.5048828125 71.60205078125\n",
      "131.5068359375 71.595703125\n",
      "131.51171875 71.58203125\n",
      "131.5107421875 71.58056640625\n",
      "131.50537109375 71.59521484375\n",
      "131.509765625 71.57861328125\n",
      "131.505859375 71.58447265625\n",
      "131.50732421875 71.578125\n",
      "131.49072265625 71.5888671875\n",
      "131.48779296875 71.59619140625\n",
      "131.4912109375 71.5693359375\n",
      "131.48046875 71.59814453125\n",
      "131.48828125 71.5673828125\n",
      "131.47607421875 71.59228515625\n",
      "131.50146484375 71.5947265625\n",
      "131.5029296875 71.5869140625\n",
      "131.51513671875 71.55126953125\n",
      "131.5029296875 71.580078125\n",
      "131.4951171875 71.595703125\n",
      "131.48828125 71.58935546875\n",
      "131.49072265625 71.5673828125\n",
      "131.48779296875 71.56982421875\n",
      "131.50048828125 71.59130859375\n",
      "131.494140625 71.5712890625\n",
      "131.48828125 71.57275390625\n",
      "131.4833984375 71.59033203125\n",
      "131.45556640625 71.5537109375\n",
      "131.4970703125 71.57958984375\n",
      "131.505859375 71.58447265625\n",
      "131.4794921875 71.60009765625\n",
      "131.48828125 71.58935546875\n",
      "131.45556640625 71.5537109375\n"
     ]
    },
    {
     "name": "stderr",
     "output_type": "stream",
     "text": [
      " 21%|██        | 17/81 [00:08<00:33,  1.90it/s]"
     ]
    },
    {
     "name": "stdout",
     "output_type": "stream",
     "text": [
      "131.5048828125 71.60205078125\n",
      "131.5068359375 71.595703125\n",
      "131.51171875 71.58203125\n",
      "131.5107421875 71.58056640625\n",
      "131.50537109375 71.59521484375\n",
      "131.509765625 71.57861328125\n",
      "131.505859375 71.58447265625\n",
      "131.48486328125 71.60498046875\n",
      "131.49072265625 71.5888671875\n",
      "131.48779296875 71.59619140625\n",
      "131.48291015625 71.60888671875\n",
      "131.48095703125 71.6083984375\n",
      "131.48291015625 71.6025390625\n",
      "131.4912109375 71.5693359375\n",
      "131.4794921875 71.60009765625\n",
      "131.466796875 71.6376953125\n",
      "131.48828125 71.5673828125\n",
      "131.47509765625 71.599609375\n",
      "131.44775390625 71.6083984375\n",
      "131.50146484375 71.5947265625\n",
      "131.5029296875 71.5869140625\n",
      "131.49462890625 71.61474609375\n",
      "131.5029296875 71.580078125\n",
      "131.4951171875 71.595703125\n",
      "131.4853515625 71.60693359375\n",
      "131.48828125 71.58935546875\n",
      "131.48828125 71.57275390625\n",
      "131.48779296875 71.56982421875\n",
      "131.4482421875 71.60595703125\n",
      "131.50048828125 71.5966796875\n",
      "131.49169921875 71.6103515625\n",
      "131.48388671875 71.59033203125\n",
      "131.505859375 71.58447265625\n",
      "131.48291015625 71.60888671875\n",
      "131.4794921875 71.60009765625\n"
     ]
    },
    {
     "name": "stderr",
     "output_type": "stream",
     "text": [
      " 22%|██▏       | 18/81 [00:09<00:35,  1.79it/s]"
     ]
    },
    {
     "name": "stdout",
     "output_type": "stream",
     "text": [
      "131.4853515625 71.65283203125\n",
      "131.48583984375 71.65087890625\n",
      "131.48876953125 71.63720703125\n",
      "131.48388671875 71.65283203125\n",
      "131.48291015625 71.60888671875\n",
      "131.466796875 71.6376953125\n",
      "131.44140625 71.6376953125\n",
      "131.44775390625 71.6083984375\n",
      "131.43505859375 71.63623046875\n",
      "131.4287109375 71.63330078125\n",
      "131.48291015625 71.646484375\n",
      "131.4482421875 71.60595703125\n",
      "131.44580078125 71.6123046875\n",
      "131.490234375 71.64501953125\n",
      "131.48388671875 71.6484375\n",
      "131.48291015625 71.60888671875\n",
      "131.45654296875 71.64404296875\n"
     ]
    },
    {
     "name": "stderr",
     "output_type": "stream",
     "text": [
      " 23%|██▎       | 19/81 [00:09<00:28,  2.18it/s]"
     ]
    },
    {
     "name": "stdout",
     "output_type": "stream",
     "text": [
      "131.54833984375 71.35302734375\n",
      "131.54638671875 71.35888671875\n"
     ]
    },
    {
     "name": "stderr",
     "output_type": "stream",
     "text": [
      " 25%|██▍       | 20/81 [00:09<00:23,  2.55it/s]"
     ]
    },
    {
     "name": "stdout",
     "output_type": "stream",
     "text": [
      "131.54833984375 71.35302734375\n",
      "131.54638671875 71.35888671875\n"
     ]
    },
    {
     "name": "stderr",
     "output_type": "stream",
     "text": [
      " 30%|██▉       | 24/81 [00:10<00:13,  4.20it/s]"
     ]
    },
    {
     "name": "stdout",
     "output_type": "stream",
     "text": [
      "131.45361328125 71.55224609375\n"
     ]
    },
    {
     "name": "stderr",
     "output_type": "stream",
     "text": [
      " 31%|███       | 25/81 [00:10<00:15,  3.69it/s]"
     ]
    },
    {
     "name": "stdout",
     "output_type": "stream",
     "text": [
      "131.45361328125 71.55224609375\n",
      "131.45556640625 71.5537109375\n",
      "131.45556640625 71.5537109375\n"
     ]
    },
    {
     "name": "stderr",
     "output_type": "stream",
     "text": [
      " 32%|███▏      | 26/81 [00:11<00:18,  3.05it/s]"
     ]
    },
    {
     "name": "stdout",
     "output_type": "stream",
     "text": [
      "131.44775390625 71.6083984375\n",
      "131.4482421875 71.60595703125\n",
      "131.44580078125 71.6123046875\n"
     ]
    },
    {
     "name": "stderr",
     "output_type": "stream",
     "text": [
      " 33%|███▎      | 27/81 [00:11<00:20,  2.62it/s]"
     ]
    },
    {
     "name": "stdout",
     "output_type": "stream",
     "text": [
      "131.44580078125 71.638671875\n",
      "131.44140625 71.6376953125\n",
      "131.44775390625 71.6083984375\n",
      "131.43505859375 71.63623046875\n",
      "131.4287109375 71.63330078125\n",
      "131.42822265625 71.63134765625\n",
      "131.4482421875 71.60595703125\n",
      "131.44580078125 71.6123046875\n",
      "131.45654296875 71.64404296875\n",
      "131.45654296875 71.64404296875\n"
     ]
    },
    {
     "name": "stderr",
     "output_type": "stream",
     "text": [
      " 44%|████▍     | 36/81 [00:12<00:06,  7.03it/s]"
     ]
    },
    {
     "name": "stdout",
     "output_type": "stream",
     "text": [
      "131.45361328125 71.55224609375\n"
     ]
    },
    {
     "name": "stderr",
     "output_type": "stream",
     "text": [
      " 48%|████▊     | 39/81 [00:13<00:05,  7.76it/s]"
     ]
    },
    {
     "name": "stdout",
     "output_type": "stream",
     "text": [
      "131.46728515625 71.25244140625\n"
     ]
    },
    {
     "name": "stderr",
     "output_type": "stream",
     "text": [
      " 84%|████████▍ | 68/81 [00:16<00:01,  6.97it/s]"
     ]
    },
    {
     "name": "stdout",
     "output_type": "stream",
     "text": [
      "131.2646484375 71.39697265625\n"
     ]
    },
    {
     "name": "stderr",
     "output_type": "stream",
     "text": [
      " 96%|█████████▋| 78/81 [00:18<00:00,  5.04it/s]"
     ]
    },
    {
     "name": "stdout",
     "output_type": "stream",
     "text": [
      "131.2646484375 71.39697265625\n"
     ]
    },
    {
     "name": "stderr",
     "output_type": "stream",
     "text": [
      "100%|██████████| 81/81 [00:18<00:00,  4.28it/s]\n"
     ]
    },
    {
     "name": "stdout",
     "output_type": "stream",
     "text": [
      " 4 Define mapping between PRISMA LatLon and gMaps latlon\n",
      " 5 Map PRISMA Latlons to gMaps latlons (ransac affine) and save for reference\n",
      "Band 42 did not work\n",
      "# 1 create .tif file\n",
      "# 2 Download gmaps for the same location\n",
      "Image size (pix):  (1792, 1792)\n",
      "Tile coordinate top left (north-west) corner: 1048,568\n",
      " 3 Determine matched features in PRISMA image to gMaps image with SIFT\n"
     ]
    },
    {
     "name": "stderr",
     "output_type": "stream",
     "text": [
      "100%|██████████| 81/81 [03:28<00:00,  2.57s/it]\n"
     ]
    },
    {
     "name": "stdout",
     "output_type": "stream",
     "text": [
      "Band 43 did not work\n",
      "# 1 create .tif file\n",
      "# 2 Download gmaps for the same location\n",
      "Image size (pix):  (1792, 1792)\n",
      "Tile coordinate top left (north-west) corner: 1048,568\n",
      " 3 Determine matched features in PRISMA image to gMaps image with SIFT\n"
     ]
    },
    {
     "name": "stderr",
     "output_type": "stream",
     "text": [
      "  1%|          | 1/81 [00:01<01:31,  1.14s/it]"
     ]
    },
    {
     "name": "stdout",
     "output_type": "stream",
     "text": [
      "131.58544921875 71.3759765625\n",
      "131.6171875 71.38623046875\n",
      "131.615234375 71.3818359375\n",
      "131.58349609375 71.3740234375\n",
      "131.6142578125 71.4140625\n",
      "131.61572265625 71.40576171875\n",
      "131.6103515625 71.39990234375\n",
      "131.5986328125 71.400390625\n",
      "131.5927734375 71.3837890625\n",
      "131.58544921875 71.3759765625\n",
      "131.61376953125 71.404296875\n",
      "131.6171875 71.38623046875\n",
      "131.615234375 71.3818359375\n",
      "131.59814453125 71.39697265625\n",
      "131.5947265625 71.3955078125\n",
      "131.56689453125 71.41015625\n",
      "131.61083984375 71.39208984375\n",
      "131.58349609375 71.3740234375\n",
      "131.56884765625 71.392578125\n",
      "131.56884765625 71.392578125\n",
      "131.61376953125 71.404296875\n"
     ]
    },
    {
     "name": "stderr",
     "output_type": "stream",
     "text": [
      "  2%|▏         | 2/81 [00:03<02:22,  1.81s/it]"
     ]
    },
    {
     "name": "stdout",
     "output_type": "stream",
     "text": [
      "131.5732421875 71.392578125\n",
      "131.59521484375 71.42822265625\n",
      "131.6142578125 71.4140625\n",
      "131.61572265625 71.40576171875\n",
      "131.6103515625 71.39990234375\n",
      "131.59619140625 71.4384765625\n",
      "131.59375 71.4326171875\n",
      "131.5810546875 71.46435546875\n",
      "131.5810546875 71.46240234375\n",
      "131.5986328125 71.400390625\n",
      "131.5849609375 71.42822265625\n",
      "131.5693359375 71.40869140625\n",
      "131.55712890625 71.4267578125\n",
      "131.61376953125 71.404296875\n",
      "131.572265625 71.42724609375\n",
      "131.59814453125 71.39697265625\n"
     ]
    },
    {
     "name": "stderr",
     "output_type": "stream",
     "text": [
      "  4%|▎         | 3/81 [00:05<02:37,  2.02s/it]"
     ]
    },
    {
     "name": "stdout",
     "output_type": "stream",
     "text": [
      "131.5947265625 71.3955078125\n",
      "131.56689453125 71.41015625\n",
      "131.6162109375 71.40283203125\n",
      "131.56884765625 71.392578125\n",
      "131.56884765625 71.392578125\n",
      "131.55615234375 71.42626953125\n",
      "131.61376953125 71.404296875\n",
      "131.5732421875 71.392578125\n",
      "131.58056640625 71.5048828125\n",
      "131.57958984375 71.5068359375\n",
      "131.58544921875 71.48291015625\n",
      "131.57470703125 71.427734375\n",
      "131.57666015625 71.50146484375\n",
      "131.58642578125 71.46923828125\n",
      "131.57373046875 71.5009765625\n",
      "131.57861328125 71.486328125\n",
      "131.59375 71.4326171875\n",
      "131.5810546875 71.46435546875\n",
      "131.580078125 71.466796875\n",
      "131.5810546875 71.46240234375\n",
      "131.56591796875 71.4970703125\n",
      "131.5732421875 71.47119140625\n",
      "131.5654296875 71.49365234375\n"
     ]
    },
    {
     "name": "stderr",
     "output_type": "stream",
     "text": [
      "  5%|▍         | 4/81 [00:07<02:33,  1.99s/it]"
     ]
    },
    {
     "name": "stdout",
     "output_type": "stream",
     "text": [
      "131.5849609375 71.42822265625\n",
      "131.5712890625 71.49951171875\n",
      "131.572265625 71.42724609375\n",
      "131.57470703125 71.46923828125\n",
      "131.57861328125 71.48095703125\n",
      "131.58056640625 71.5048828125\n",
      "131.587890625 71.482421875\n",
      "131.58544921875 71.48291015625\n",
      "131.5712890625 71.5234375\n",
      "131.56640625 71.533203125\n",
      "131.57666015625 71.50146484375\n",
      "131.57958984375 71.484375\n",
      "131.57373046875 71.5009765625\n",
      "131.57861328125 71.486328125\n",
      "131.564453125 71.52587890625\n",
      "131.55859375 71.53759765625\n",
      "131.5673828125 71.4990234375\n",
      "131.56591796875 71.4970703125\n",
      "131.5732421875 71.47119140625\n",
      "131.5654296875 71.49365234375\n",
      "131.52197265625 71.5126953125\n",
      "131.5205078125 71.51318359375\n"
     ]
    },
    {
     "name": "stderr",
     "output_type": "stream",
     "text": [
      "  6%|▌         | 5/81 [00:09<02:28,  1.96s/it]"
     ]
    },
    {
     "name": "stdout",
     "output_type": "stream",
     "text": [
      "131.56005859375 71.53662109375\n",
      "131.5712890625 71.49951171875\n",
      "131.58984375 71.47900390625\n",
      "131.517578125 71.51123046875\n",
      "131.57861328125 71.48095703125\n",
      "131.55615234375 71.5361328125\n",
      "131.56103515625 71.5712890625\n",
      "131.5595703125 71.5703125\n",
      "131.5712890625 71.5234375\n",
      "131.56640625 71.533203125\n",
      "131.55078125 71.57470703125\n",
      "131.548828125 71.5732421875\n",
      "131.5498046875 71.56787109375\n",
      "131.546875 71.5751953125\n",
      "131.564453125 71.52587890625\n",
      "131.5458984375 71.57666015625\n",
      "131.55859375 71.53759765625\n",
      "131.5419921875 71.58056640625\n",
      "131.54248046875 71.5771484375\n",
      "131.54443359375 71.55859375\n",
      "131.5263671875 71.5537109375\n",
      "131.52197265625 71.55615234375\n",
      "131.52197265625 71.5126953125\n"
     ]
    },
    {
     "name": "stderr",
     "output_type": "stream",
     "text": [
      "  7%|▋         | 6/81 [00:12<02:59,  2.39s/it]"
     ]
    },
    {
     "name": "stdout",
     "output_type": "stream",
     "text": [
      "131.5205078125 71.51318359375\n",
      "131.556640625 71.56884765625\n",
      "131.54833984375 71.57666015625\n",
      "131.56005859375 71.53662109375\n",
      "131.54638671875 71.57275390625\n",
      "131.5390625 71.578125\n",
      "131.5341796875 71.55810546875\n",
      "131.5302734375 71.5546875\n",
      "131.51513671875 71.55126953125\n",
      "131.529296875 71.572265625\n",
      "131.53369140625 71.5498046875\n",
      "131.55615234375 71.5361328125\n",
      "131.53759765625 71.56689453125\n",
      "131.54541015625 71.6171875\n",
      "131.56103515625 71.5712890625\n",
      "131.5595703125 71.5703125\n",
      "131.53955078125 71.61669921875\n",
      "131.5390625 71.61865234375\n",
      "131.54931640625 71.58447265625\n",
      "131.55078125 71.57470703125\n",
      "131.548828125 71.5732421875\n",
      "131.54541015625 71.58251953125\n",
      "131.5498046875 71.56787109375\n",
      "131.546875 71.5751953125\n",
      "131.5458984375 71.57666015625\n",
      "131.5419921875 71.58056640625\n",
      "131.54052734375 71.58447265625\n",
      "131.54248046875 71.5771484375\n",
      "131.53759765625 71.57958984375\n",
      "131.54443359375 71.55859375\n",
      "131.51953125 71.58837890625\n",
      "131.5185546875 71.5869140625\n",
      "131.51806640625 71.580078125\n",
      "131.5263671875 71.5537109375\n",
      "131.52197265625 71.55615234375\n",
      "131.5068359375 71.595703125\n",
      "131.51171875 71.58203125\n",
      "131.5595703125 71.62158203125\n",
      "131.5107421875 71.58056640625\n",
      "131.50537109375 71.59521484375\n",
      "131.51171875 71.5751953125\n",
      "131.509765625 71.57861328125\n",
      "131.505859375 71.58447265625\n",
      "131.49072265625 71.5888671875\n",
      "131.48779296875 71.59619140625\n",
      "131.48828125 71.5673828125\n",
      "131.56494140625 71.54345703125\n",
      "131.47607421875 71.59228515625\n",
      "131.5576171875 71.57275390625\n",
      "131.556640625 71.56884765625\n",
      "131.54150390625 71.60791015625\n",
      "131.5380859375 71.61376953125\n",
      "131.53564453125 71.61767578125\n",
      "131.54833984375 71.57666015625\n",
      "131.5458984375 71.5810546875\n",
      "131.54638671875 71.57275390625\n",
      "131.5390625 71.578125\n",
      "131.52783203125 71.57666015625\n",
      "131.5341796875 71.55810546875\n",
      "131.5302734375 71.5546875\n",
      "131.51611328125 71.58837890625\n",
      "131.513671875 71.5869140625\n",
      "131.5126953125 71.58203125\n",
      "131.51611328125 71.5712890625\n",
      "131.50146484375 71.5947265625\n",
      "131.5029296875 71.5869140625\n",
      "131.51513671875 71.55126953125\n",
      "131.4951171875 71.595703125\n",
      "131.48828125 71.58935546875\n",
      "131.49072265625 71.5673828125\n",
      "131.48779296875 71.56982421875\n",
      "131.5537109375 71.57666015625\n",
      "131.5322265625 71.57666015625\n",
      "131.529296875 71.572265625\n",
      "131.51904296875 71.5830078125\n",
      "131.50927734375 71.58984375\n",
      "131.50048828125 71.5966796875\n",
      "131.494140625 71.5712890625\n",
      "131.48388671875 71.59033203125\n",
      "131.53369140625 71.54931640625\n",
      "131.51904296875 71.57568359375\n",
      "131.4970703125 71.57958984375\n",
      "131.53955078125 71.61669921875\n",
      "131.54541015625 71.58251953125\n",
      "131.5419921875 71.58056640625\n",
      "131.505859375 71.58447265625\n",
      "131.54345703125 71.57861328125\n"
     ]
    },
    {
     "name": "stderr",
     "output_type": "stream",
     "text": [
      "  9%|▊         | 7/81 [00:16<03:34,  2.90s/it]"
     ]
    },
    {
     "name": "stdout",
     "output_type": "stream",
     "text": [
      "131.48828125 71.58935546875\n",
      "131.54443359375 71.5849609375\n",
      "131.53759765625 71.56689453125\n",
      "131.529296875 71.572265625\n",
      "131.51904296875 71.57568359375\n",
      "131.54541015625 71.6171875\n",
      "131.53955078125 71.61669921875\n",
      "131.5390625 71.61865234375\n",
      "131.50244140625 71.6005859375\n",
      "131.52490234375 71.6533203125\n",
      "131.54052734375 71.58447265625\n",
      "131.50830078125 71.62890625\n",
      "131.50830078125 71.62646484375\n",
      "131.51953125 71.58837890625\n",
      "131.5185546875 71.5869140625\n",
      "131.51806640625 71.580078125\n",
      "131.5068359375 71.595703125\n",
      "131.51171875 71.58203125\n",
      "131.5107421875 71.58056640625\n",
      "131.50537109375 71.59521484375\n",
      "131.509765625 71.57861328125\n",
      "131.48876953125 71.63720703125\n",
      "131.505859375 71.58447265625\n",
      "131.48486328125 71.60498046875\n",
      "131.49072265625 71.5888671875\n",
      "131.48779296875 71.59619140625\n",
      "131.48291015625 71.60888671875\n",
      "131.48095703125 71.6083984375\n",
      "131.48291015625 71.6025390625\n",
      "131.4912109375 71.5693359375\n",
      "131.4794921875 71.60009765625\n",
      "131.466796875 71.6376953125\n",
      "131.48828125 71.5673828125\n",
      "131.50048828125 71.65576171875\n",
      "131.47509765625 71.599609375\n",
      "131.47607421875 71.59228515625\n",
      "131.5380859375 71.62548828125\n",
      "131.5380859375 71.61962890625\n",
      "131.54150390625 71.60791015625\n",
      "131.52685546875 71.6484375\n",
      "131.5380859375 71.61376953125\n",
      "131.53564453125 71.61767578125\n",
      "131.51708984375 71.65283203125\n",
      "131.51611328125 71.58837890625\n",
      "131.513671875 71.5869140625\n",
      "131.5126953125 71.58203125\n",
      "131.50146484375 71.5947265625\n",
      "131.5029296875 71.5869140625\n",
      "131.49462890625 71.61474609375\n",
      "131.5029296875 71.580078125\n",
      "131.4951171875 71.595703125\n",
      "131.4853515625 71.60693359375\n",
      "131.48828125 71.58935546875\n",
      "131.48828125 71.57275390625\n",
      "131.48779296875 71.56982421875\n",
      "131.50927734375 71.58984375\n",
      "131.50048828125 71.59130859375\n",
      "131.50048828125 71.5966796875\n",
      "131.4833984375 71.59033203125\n",
      "131.53955078125 71.61669921875\n",
      "131.505859375 71.58447265625\n"
     ]
    },
    {
     "name": "stderr",
     "output_type": "stream",
     "text": [
      " 10%|▉         | 8/81 [00:19<03:36,  2.96s/it]"
     ]
    },
    {
     "name": "stdout",
     "output_type": "stream",
     "text": [
      "131.48291015625 71.60888671875\n",
      "131.5302734375 71.650390625\n",
      "131.48828125 71.58935546875\n",
      "131.51904296875 71.6728515625\n",
      "131.52490234375 71.6533203125\n",
      "131.51025390625 71.6865234375\n",
      "131.509765625 71.65478515625\n",
      "131.50537109375 71.65576171875\n",
      "131.49462890625 71.68359375\n",
      "131.501953125 71.65673828125\n",
      "131.50830078125 71.62890625\n",
      "131.50830078125 71.62646484375\n",
      "131.4853515625 71.65283203125\n",
      "131.48583984375 71.65087890625\n",
      "131.48876953125 71.63720703125\n",
      "131.48388671875 71.65283203125\n",
      "131.48291015625 71.60888671875\n",
      "131.466796875 71.6376953125\n",
      "131.52685546875 71.6484375\n",
      "131.51220703125 71.68603515625\n",
      "131.51708984375 71.65283203125\n"
     ]
    },
    {
     "name": "stderr",
     "output_type": "stream",
     "text": [
      " 11%|█         | 9/81 [00:22<03:16,  2.73s/it]"
     ]
    },
    {
     "name": "stdout",
     "output_type": "stream",
     "text": [
      "131.513671875 71.65380859375\n",
      "131.48876953125 71.65673828125\n",
      "131.5078125 71.68212890625\n",
      "131.51904296875 71.6728515625\n",
      "131.5 71.6796875\n",
      "131.48388671875 71.6484375\n",
      "131.48291015625 71.60888671875\n",
      "131.5302734375 71.650390625\n",
      "131.513671875 71.65380859375\n"
     ]
    },
    {
     "name": "stderr",
     "output_type": "stream",
     "text": [
      " 12%|█▏        | 10/81 [00:22<02:32,  2.15s/it]"
     ]
    },
    {
     "name": "stdout",
     "output_type": "stream",
     "text": [
      "131.58544921875 71.3759765625\n",
      "131.5732421875 71.36767578125\n",
      "131.54833984375 71.35302734375\n",
      "131.54638671875 71.35888671875\n",
      "131.58349609375 71.3740234375\n"
     ]
    },
    {
     "name": "stderr",
     "output_type": "stream",
     "text": [
      " 14%|█▎        | 11/81 [00:23<02:06,  1.81s/it]"
     ]
    },
    {
     "name": "stdout",
     "output_type": "stream",
     "text": [
      "131.58544921875 71.3759765625\n",
      "131.54833984375 71.35302734375\n",
      "131.56689453125 71.41015625\n",
      "131.54638671875 71.35888671875\n",
      "131.58349609375 71.3740234375\n",
      "131.56884765625 71.392578125\n",
      "131.56884765625 71.392578125\n",
      "131.5732421875 71.392578125\n"
     ]
    },
    {
     "name": "stderr",
     "output_type": "stream",
     "text": [
      " 15%|█▍        | 12/81 [00:24<01:49,  1.58s/it]"
     ]
    },
    {
     "name": "stdout",
     "output_type": "stream",
     "text": [
      "131.5693359375 71.40869140625\n",
      "131.55712890625 71.4267578125\n",
      "131.56689453125 71.41015625\n",
      "131.56884765625 71.392578125\n",
      "131.56884765625 71.392578125\n",
      "131.55615234375 71.42626953125\n",
      "131.5732421875 71.392578125\n"
     ]
    },
    {
     "name": "stderr",
     "output_type": "stream",
     "text": [
      " 16%|█▌        | 13/81 [00:25<01:31,  1.35s/it]"
     ]
    },
    {
     "name": "stdout",
     "output_type": "stream",
     "text": [
      "131.56982421875 71.427734375\n",
      "131.55712890625 71.4267578125\n",
      "131.55615234375 71.42626953125\n"
     ]
    },
    {
     "name": "stderr",
     "output_type": "stream",
     "text": [
      " 17%|█▋        | 14/81 [00:26<01:21,  1.21s/it]"
     ]
    },
    {
     "name": "stdout",
     "output_type": "stream",
     "text": [
      "131.52197265625 71.5126953125\n",
      "131.5205078125 71.51318359375\n",
      "131.517578125 71.51123046875\n",
      "131.51806640625 71.513671875\n"
     ]
    },
    {
     "name": "stderr",
     "output_type": "stream",
     "text": [
      " 19%|█▊        | 15/81 [00:27<01:18,  1.19s/it]"
     ]
    },
    {
     "name": "stdout",
     "output_type": "stream",
     "text": [
      "131.52197265625 71.55615234375\n",
      "131.51611328125 71.55078125\n",
      "131.52197265625 71.5126953125\n",
      "131.5205078125 71.51318359375\n",
      "131.51513671875 71.55126953125\n",
      "131.5068359375 71.595703125\n",
      "131.51171875 71.58203125\n",
      "131.5107421875 71.58056640625\n",
      "131.50537109375 71.59521484375\n",
      "131.51171875 71.5751953125\n",
      "131.509765625 71.57861328125\n",
      "131.505859375 71.58447265625\n",
      "131.50732421875 71.578125\n",
      "131.49072265625 71.5888671875\n",
      "131.48779296875 71.59619140625\n",
      "131.4912109375 71.5693359375\n",
      "131.4794921875 71.60009765625\n",
      "131.48828125 71.5673828125\n",
      "131.47607421875 71.59228515625\n",
      "131.50146484375 71.5947265625\n",
      "131.5029296875 71.5869140625\n",
      "131.51513671875 71.55126953125\n"
     ]
    },
    {
     "name": "stderr",
     "output_type": "stream",
     "text": [
      " 20%|█▉        | 16/81 [00:29<01:32,  1.43s/it]"
     ]
    },
    {
     "name": "stdout",
     "output_type": "stream",
     "text": [
      "131.5029296875 71.580078125\n",
      "131.4951171875 71.595703125\n",
      "131.48828125 71.58935546875\n",
      "131.49072265625 71.5673828125\n",
      "131.48828125 71.57275390625\n",
      "131.48779296875 71.56982421875\n",
      "131.50048828125 71.59130859375\n",
      "131.50048828125 71.5966796875\n",
      "131.494140625 71.5712890625\n",
      "131.4970703125 71.57958984375\n",
      "131.505859375 71.58447265625\n",
      "131.48828125 71.58935546875\n",
      "131.45556640625 71.5537109375\n",
      "131.5068359375 71.595703125\n",
      "131.51171875 71.58203125\n",
      "131.5107421875 71.58056640625\n",
      "131.50537109375 71.59521484375\n",
      "131.509765625 71.57861328125\n",
      "131.48876953125 71.63720703125\n",
      "131.505859375 71.58447265625\n",
      "131.48486328125 71.60498046875\n",
      "131.49072265625 71.5888671875\n",
      "131.48779296875 71.59619140625\n",
      "131.48291015625 71.60888671875\n",
      "131.48095703125 71.6083984375\n",
      "131.48291015625 71.6025390625\n",
      "131.4912109375 71.5693359375\n",
      "131.4794921875 71.60009765625\n",
      "131.466796875 71.6376953125\n",
      "131.48828125 71.5673828125\n",
      "131.47509765625 71.599609375\n",
      "131.44970703125 71.62158203125\n",
      "131.44775390625 71.6083984375\n"
     ]
    },
    {
     "name": "stderr",
     "output_type": "stream",
     "text": [
      " 21%|██        | 17/81 [00:32<01:51,  1.74s/it]"
     ]
    },
    {
     "name": "stdout",
     "output_type": "stream",
     "text": [
      "131.50146484375 71.5947265625\n",
      "131.5029296875 71.5869140625\n",
      "131.49462890625 71.61474609375\n",
      "131.5029296875 71.580078125\n",
      "131.4951171875 71.595703125\n",
      "131.4853515625 71.60693359375\n",
      "131.48828125 71.58935546875\n",
      "131.48828125 71.57275390625\n",
      "131.48779296875 71.56982421875\n",
      "131.4482421875 71.60595703125\n",
      "131.50048828125 71.5966796875\n",
      "131.48388671875 71.59033203125\n",
      "131.505859375 71.58447265625\n",
      "131.48291015625 71.60888671875\n"
     ]
    },
    {
     "name": "stderr",
     "output_type": "stream",
     "text": [
      " 22%|██▏       | 18/81 [00:33<01:45,  1.68s/it]"
     ]
    },
    {
     "name": "stdout",
     "output_type": "stream",
     "text": [
      "131.4853515625 71.65283203125\n",
      "131.48583984375 71.65087890625\n",
      "131.48876953125 71.63720703125\n",
      "131.48388671875 71.65283203125\n",
      "131.48291015625 71.60888671875\n",
      "131.466796875 71.6376953125\n",
      "131.44970703125 71.62158203125\n",
      "131.4443359375 71.63916015625\n",
      "131.44140625 71.6376953125\n",
      "131.44775390625 71.6083984375\n",
      "131.43505859375 71.63623046875\n",
      "131.4287109375 71.63330078125\n",
      "131.48291015625 71.646484375\n",
      "131.4482421875 71.60595703125\n",
      "131.48388671875 71.6484375\n",
      "131.48291015625 71.60888671875\n",
      "131.45654296875 71.64404296875\n"
     ]
    },
    {
     "name": "stderr",
     "output_type": "stream",
     "text": [
      " 23%|██▎       | 19/81 [00:34<01:23,  1.35s/it]"
     ]
    },
    {
     "name": "stdout",
     "output_type": "stream",
     "text": [
      "131.54833984375 71.35302734375\n",
      "131.54638671875 71.35888671875\n"
     ]
    },
    {
     "name": "stderr",
     "output_type": "stream",
     "text": [
      " 25%|██▍       | 20/81 [00:34<01:08,  1.12s/it]"
     ]
    },
    {
     "name": "stdout",
     "output_type": "stream",
     "text": [
      "131.54833984375 71.35302734375\n",
      "131.54638671875 71.35888671875\n"
     ]
    },
    {
     "name": "stderr",
     "output_type": "stream",
     "text": [
      " 30%|██▉       | 24/81 [00:36<00:31,  1.82it/s]"
     ]
    },
    {
     "name": "stdout",
     "output_type": "stream",
     "text": [
      "131.45361328125 71.55224609375\n"
     ]
    },
    {
     "name": "stderr",
     "output_type": "stream",
     "text": [
      " 31%|███       | 25/81 [00:37<00:33,  1.66it/s]"
     ]
    },
    {
     "name": "stdout",
     "output_type": "stream",
     "text": [
      "131.49072265625 71.5888671875\n",
      "131.45361328125 71.55224609375\n",
      "131.45556640625 71.5537109375\n"
     ]
    },
    {
     "name": "stderr",
     "output_type": "stream",
     "text": [
      " 32%|███▏      | 26/81 [00:38<00:39,  1.39it/s]"
     ]
    },
    {
     "name": "stdout",
     "output_type": "stream",
     "text": [
      "131.44970703125 71.62158203125\n",
      "131.44775390625 71.6083984375\n",
      "131.44677734375 71.607421875\n",
      "131.4482421875 71.60595703125\n",
      "131.44580078125 71.6123046875\n"
     ]
    },
    {
     "name": "stderr",
     "output_type": "stream",
     "text": [
      " 33%|███▎      | 27/81 [00:39<00:44,  1.22it/s]"
     ]
    },
    {
     "name": "stdout",
     "output_type": "stream",
     "text": [
      "131.44580078125 71.638671875\n",
      "131.44970703125 71.62158203125\n",
      "131.4443359375 71.63916015625\n",
      "131.44140625 71.6376953125\n",
      "131.44775390625 71.6083984375\n",
      "131.44677734375 71.607421875\n",
      "131.43505859375 71.63623046875\n",
      "131.4287109375 71.63330078125\n",
      "131.42822265625 71.63134765625\n",
      "131.4482421875 71.60595703125\n",
      "131.44580078125 71.6123046875\n",
      "131.45654296875 71.64404296875\n",
      "131.45654296875 71.64404296875\n"
     ]
    },
    {
     "name": "stderr",
     "output_type": "stream",
     "text": [
      " 43%|████▎     | 35/81 [00:41<00:13,  3.29it/s]"
     ]
    },
    {
     "name": "stdout",
     "output_type": "stream",
     "text": [
      "131.45361328125 71.55224609375\n"
     ]
    },
    {
     "name": "stderr",
     "output_type": "stream",
     "text": [
      " 47%|████▋     | 38/81 [00:41<00:12,  3.42it/s]"
     ]
    },
    {
     "name": "stdout",
     "output_type": "stream",
     "text": [
      "131.46728515625 71.25244140625\n"
     ]
    },
    {
     "name": "stderr",
     "output_type": "stream",
     "text": [
      " 84%|████████▍ | 68/81 [00:48<00:04,  2.82it/s]"
     ]
    },
    {
     "name": "stdout",
     "output_type": "stream",
     "text": [
      "131.2646484375 71.39697265625\n"
     ]
    },
    {
     "name": "stderr",
     "output_type": "stream",
     "text": [
      " 95%|█████████▌| 77/81 [00:52<00:01,  2.19it/s]"
     ]
    },
    {
     "name": "stdout",
     "output_type": "stream",
     "text": [
      "131.2646484375 71.39697265625\n"
     ]
    },
    {
     "name": "stderr",
     "output_type": "stream",
     "text": [
      "100%|██████████| 81/81 [00:54<00:00,  1.50it/s]\n"
     ]
    },
    {
     "name": "stdout",
     "output_type": "stream",
     "text": [
      " 4 Define mapping between PRISMA LatLon and gMaps latlon\n",
      " 5 Map PRISMA Latlons to gMaps latlons (ransac affine) and save for reference\n",
      "Band 44 did not work\n",
      "# 1 create .tif file\n",
      "# 2 Download gmaps for the same location\n",
      "Image size (pix):  (1792, 1792)\n",
      "Tile coordinate top left (north-west) corner: 1048,568\n",
      " 3 Determine matched features in PRISMA image to gMaps image with SIFT\n"
     ]
    },
    {
     "name": "stderr",
     "output_type": "stream",
     "text": [
      "100%|██████████| 81/81 [03:20<00:00,  2.48s/it]\n"
     ]
    },
    {
     "name": "stdout",
     "output_type": "stream",
     "text": [
      "Band 45 did not work\n",
      "# 1 create .tif file\n",
      "# 2 Download gmaps for the same location\n",
      "Image size (pix):  (1792, 1792)\n",
      "Tile coordinate top left (north-west) corner: 1048,568\n",
      " 3 Determine matched features in PRISMA image to gMaps image with SIFT\n"
     ]
    },
    {
     "name": "stderr",
     "output_type": "stream",
     "text": [
      "100%|██████████| 81/81 [03:37<00:00,  2.68s/it]\n"
     ]
    },
    {
     "name": "stdout",
     "output_type": "stream",
     "text": [
      "Band 46 did not work\n",
      "# 1 create .tif file\n",
      "# 2 Download gmaps for the same location\n",
      "Image size (pix):  (1792, 1792)\n",
      "Tile coordinate top left (north-west) corner: 1048,568\n",
      " 3 Determine matched features in PRISMA image to gMaps image with SIFT\n"
     ]
    },
    {
     "name": "stderr",
     "output_type": "stream",
     "text": [
      "100%|██████████| 81/81 [03:21<00:00,  2.48s/it]\n"
     ]
    },
    {
     "name": "stdout",
     "output_type": "stream",
     "text": [
      "Band 47 did not work\n",
      "# 1 create .tif file\n",
      "# 2 Download gmaps for the same location\n",
      "Image size (pix):  (1792, 1792)\n",
      "Tile coordinate top left (north-west) corner: 1048,568\n",
      " 3 Determine matched features in PRISMA image to gMaps image with SIFT\n"
     ]
    },
    {
     "name": "stderr",
     "output_type": "stream",
     "text": [
      "100%|██████████| 81/81 [03:37<00:00,  2.69s/it]\n"
     ]
    },
    {
     "name": "stdout",
     "output_type": "stream",
     "text": [
      "Band 48 did not work\n",
      "# 1 create .tif file\n",
      "# 2 Download gmaps for the same location\n",
      "Image size (pix):  (1792, 1792)\n",
      "Tile coordinate top left (north-west) corner: 1048,568\n",
      " 3 Determine matched features in PRISMA image to gMaps image with SIFT\n"
     ]
    },
    {
     "name": "stderr",
     "output_type": "stream",
     "text": [
      "100%|██████████| 81/81 [03:37<00:00,  2.69s/it]\n"
     ]
    },
    {
     "name": "stdout",
     "output_type": "stream",
     "text": [
      "Band 49 did not work\n",
      "# 1 create .tif file\n",
      "# 2 Download gmaps for the same location\n",
      "Image size (pix):  (1792, 1792)\n",
      "Tile coordinate top left (north-west) corner: 1048,568\n",
      " 3 Determine matched features in PRISMA image to gMaps image with SIFT\n"
     ]
    },
    {
     "name": "stderr",
     "output_type": "stream",
     "text": [
      "  1%|          | 1/81 [00:00<01:12,  1.11it/s]"
     ]
    },
    {
     "name": "stdout",
     "output_type": "stream",
     "text": [
      "131.61474609375 71.3828125\n",
      "131.58544921875 71.3759765625\n"
     ]
    },
    {
     "name": "stderr",
     "output_type": "stream",
     "text": [
      "  2%|▏         | 2/81 [00:02<01:55,  1.47s/it]"
     ]
    },
    {
     "name": "stdout",
     "output_type": "stream",
     "text": [
      "131.6142578125 71.4140625\n",
      "131.61572265625 71.40576171875\n",
      "131.61474609375 71.3828125\n",
      "131.5986328125 71.400390625\n",
      "131.58544921875 71.3759765625\n",
      "131.61376953125 71.404296875\n",
      "131.59814453125 71.39697265625\n",
      "131.5947265625 71.3955078125\n",
      "131.56689453125 71.41015625\n",
      "131.5732421875 71.392578125\n",
      "131.56884765625 71.392578125\n",
      "131.56884765625 71.392578125\n",
      "131.61376953125 71.404296875\n",
      "131.6142578125 71.4140625\n",
      "131.61572265625 71.40576171875\n",
      "131.59716796875 71.44921875\n",
      "131.5810546875 71.46435546875\n",
      "131.5810546875 71.46240234375\n",
      "131.5986328125 71.400390625\n",
      "131.5869140625 71.4287109375\n",
      "131.5849609375 71.42822265625\n",
      "131.5712890625 71.42919921875\n",
      "131.61376953125 71.404296875\n",
      "131.59814453125 71.39697265625\n",
      "131.5947265625 71.3955078125\n",
      "131.56689453125 71.41015625\n",
      "131.5732421875 71.392578125\n",
      "131.6162109375 71.40283203125\n"
     ]
    },
    {
     "name": "stderr",
     "output_type": "stream",
     "text": [
      "  4%|▎         | 3/81 [00:05<02:23,  1.84s/it]"
     ]
    },
    {
     "name": "stdout",
     "output_type": "stream",
     "text": [
      "131.5810546875 71.46240234375\n",
      "131.56884765625 71.392578125\n",
      "131.56884765625 71.392578125\n",
      "131.55615234375 71.42626953125\n",
      "131.61376953125 71.404296875\n"
     ]
    },
    {
     "name": "stderr",
     "output_type": "stream",
     "text": [
      "  5%|▍         | 4/81 [00:06<02:22,  1.86s/it]"
     ]
    },
    {
     "name": "stdout",
     "output_type": "stream",
     "text": [
      "131.58056640625 71.5048828125\n",
      "131.59716796875 71.44921875\n",
      "131.57666015625 71.50146484375\n",
      "131.57958984375 71.484375\n",
      "131.57861328125 71.486328125\n",
      "131.59375 71.4326171875\n",
      "131.5810546875 71.46435546875\n",
      "131.5810546875 71.46240234375\n",
      "131.5673828125 71.4990234375\n",
      "131.56591796875 71.4970703125\n",
      "131.5654296875 71.49365234375\n",
      "131.5732421875 71.47119140625\n",
      "131.5869140625 71.4287109375\n",
      "131.5849609375 71.42822265625\n",
      "131.57373046875 71.5009765625\n",
      "131.58544921875 71.48291015625\n",
      "131.57861328125 71.48095703125\n",
      "131.5810546875 71.46240234375\n"
     ]
    },
    {
     "name": "stderr",
     "output_type": "stream",
     "text": [
      "  6%|▌         | 5/81 [00:08<02:11,  1.73s/it]"
     ]
    },
    {
     "name": "stdout",
     "output_type": "stream",
     "text": [
      "131.58056640625 71.5048828125\n",
      "131.56640625 71.533203125\n",
      "131.57958984375 71.484375\n",
      "131.57861328125 71.486328125\n",
      "131.564453125 71.52587890625\n",
      "131.55859375 71.53759765625\n",
      "131.5673828125 71.4990234375\n",
      "131.56591796875 71.4970703125\n",
      "131.5654296875 71.49365234375\n",
      "131.5732421875 71.47119140625\n",
      "131.52197265625 71.5126953125\n",
      "131.58544921875 71.48291015625\n",
      "131.56396484375 71.53857421875\n",
      "131.57861328125 71.48095703125\n",
      "131.55615234375 71.5361328125\n",
      "131.56103515625 71.5712890625\n",
      "131.56640625 71.533203125\n",
      "131.55078125 71.57470703125\n",
      "131.548828125 71.5732421875\n",
      "131.5498046875 71.56787109375\n",
      "131.564453125 71.52587890625\n",
      "131.5458984375 71.57666015625\n",
      "131.55859375 71.53759765625\n",
      "131.54248046875 71.5771484375\n",
      "131.54443359375 71.55859375\n",
      "131.51611328125 71.55078125\n",
      "131.52197265625 71.5126953125\n",
      "131.55224609375 71.5732421875\n",
      "131.56396484375 71.53857421875\n",
      "131.54833984375 71.57666015625\n",
      "131.54638671875 71.57275390625\n",
      "131.5390625 71.578125\n",
      "131.5341796875 71.55810546875\n",
      "131.529296875 71.572265625\n",
      "131.55615234375 71.5361328125\n"
     ]
    },
    {
     "name": "stderr",
     "output_type": "stream",
     "text": [
      "  7%|▋         | 6/81 [00:10<02:24,  1.93s/it]"
     ]
    },
    {
     "name": "stdout",
     "output_type": "stream",
     "text": [
      "131.53759765625 71.56689453125\n",
      "131.54541015625 71.6171875\n",
      "131.56103515625 71.5712890625\n",
      "131.53955078125 71.61669921875\n",
      "131.54931640625 71.58447265625\n",
      "131.55078125 71.57470703125\n",
      "131.548828125 71.5732421875\n",
      "131.54541015625 71.58251953125\n",
      "131.5498046875 71.56787109375\n",
      "131.5458984375 71.57666015625\n",
      "131.54052734375 71.58447265625\n",
      "131.5419921875 71.58056640625\n",
      "131.54248046875 71.5771484375\n",
      "131.53759765625 71.57958984375\n",
      "131.525390625 71.576171875\n",
      "131.51953125 71.58837890625\n",
      "131.5185546875 71.5869140625\n",
      "131.5283203125 71.55859375\n",
      "131.51806640625 71.580078125\n",
      "131.5126953125 71.58056640625\n",
      "131.5068359375 71.595703125\n",
      "131.51171875 71.58203125\n",
      "131.5595703125 71.62158203125\n",
      "131.5107421875 71.58056640625\n",
      "131.50537109375 71.59521484375\n",
      "131.509765625 71.57861328125\n",
      "131.505859375 71.58447265625\n",
      "131.50732421875 71.578125\n",
      "131.50537109375 71.5791015625\n",
      "131.48779296875 71.59619140625\n",
      "131.49072265625 71.5888671875\n",
      "131.48828125 71.5673828125\n",
      "131.56494140625 71.54345703125\n",
      "131.55224609375 71.5732421875\n",
      "131.54833984375 71.57666015625\n",
      "131.5458984375 71.5810546875\n",
      "131.54638671875 71.57275390625\n",
      "131.54345703125 71.57861328125\n",
      "131.5390625 71.578125\n",
      "131.529296875 71.57421875\n",
      "131.52783203125 71.57666015625\n",
      "131.5341796875 71.55810546875\n",
      "131.51611328125 71.58837890625\n",
      "131.513671875 71.5869140625\n",
      "131.51611328125 71.5712890625\n",
      "131.50146484375 71.5947265625\n",
      "131.48828125 71.58935546875\n",
      "131.49072265625 71.5673828125\n",
      "131.48779296875 71.56982421875\n",
      "131.5537109375 71.57666015625\n",
      "131.54443359375 71.5849609375\n",
      "131.5322265625 71.57666015625\n",
      "131.529296875 71.572265625\n"
     ]
    },
    {
     "name": "stderr",
     "output_type": "stream",
     "text": [
      "  9%|▊         | 7/81 [00:14<03:07,  2.54s/it]"
     ]
    },
    {
     "name": "stdout",
     "output_type": "stream",
     "text": [
      "131.50927734375 71.58984375\n",
      "131.50048828125 71.5966796875\n",
      "131.494140625 71.5712890625\n",
      "131.48388671875 71.59033203125\n",
      "131.51904296875 71.57568359375\n",
      "131.4970703125 71.57958984375\n",
      "131.53955078125 71.61669921875\n",
      "131.54541015625 71.58251953125\n",
      "131.5419921875 71.58056640625\n",
      "131.50732421875 71.578125\n",
      "131.53759765625 71.56689453125\n",
      "131.529296875 71.572265625\n",
      "131.51904296875 71.57568359375\n",
      "131.54541015625 71.6171875\n",
      "131.53955078125 71.61669921875\n",
      "131.54052734375 71.58447265625\n",
      "131.5185546875 71.5869140625\n",
      "131.51806640625 71.580078125\n",
      "131.5126953125 71.58056640625\n",
      "131.5068359375 71.595703125\n",
      "131.51171875 71.58203125\n",
      "131.5107421875 71.58056640625\n",
      "131.50537109375 71.59521484375\n",
      "131.509765625 71.57861328125\n",
      "131.505859375 71.58447265625\n",
      "131.50732421875 71.578125\n",
      "131.50537109375 71.5791015625\n",
      "131.48486328125 71.60498046875\n",
      "131.48779296875 71.59619140625\n",
      "131.49072265625 71.5888671875\n",
      "131.48291015625 71.60888671875\n",
      "131.48291015625 71.6025390625\n",
      "131.4912109375 71.5693359375\n",
      "131.48828125 71.5673828125\n",
      "131.47509765625 71.599609375\n",
      "131.5380859375 71.61962890625\n",
      "131.52685546875 71.6484375\n",
      "131.51708984375 71.65283203125\n",
      "131.51611328125 71.58837890625\n",
      "131.513671875 71.5869140625\n",
      "131.50146484375 71.5947265625\n",
      "131.5029296875 71.580078125\n",
      "131.48828125 71.58935546875\n",
      "131.48779296875 71.56982421875\n",
      "131.50927734375 71.58984375\n",
      "131.50048828125 71.5966796875\n",
      "131.50048828125 71.59130859375\n",
      "131.49169921875 71.6103515625\n"
     ]
    },
    {
     "name": "stderr",
     "output_type": "stream",
     "text": [
      " 10%|▉         | 8/81 [00:17<03:21,  2.76s/it]"
     ]
    },
    {
     "name": "stdout",
     "output_type": "stream",
     "text": [
      "131.53955078125 71.61669921875\n",
      "131.50732421875 71.578125\n"
     ]
    },
    {
     "name": "stderr",
     "output_type": "stream",
     "text": [
      " 11%|█         | 9/81 [00:19<03:05,  2.58s/it]"
     ]
    },
    {
     "name": "stdout",
     "output_type": "stream",
     "text": [
      "131.51904296875 71.6728515625\n",
      "131.5 71.6796875\n",
      "131.501953125 71.65673828125\n",
      "131.50244140625 71.65478515625\n",
      "131.4853515625 71.65283203125\n",
      "131.48388671875 71.65283203125\n",
      "131.48291015625 71.60888671875\n",
      "131.52685546875 71.6484375\n",
      "131.51708984375 71.65283203125\n",
      "131.48876953125 71.65673828125\n",
      "131.48388671875 71.6484375\n",
      "131.513671875 71.65380859375\n"
     ]
    },
    {
     "name": "stderr",
     "output_type": "stream",
     "text": [
      " 12%|█▏        | 10/81 [00:20<02:28,  2.09s/it]"
     ]
    },
    {
     "name": "stdout",
     "output_type": "stream",
     "text": [
      "131.58544921875 71.3759765625\n",
      "131.54833984375 71.35302734375\n"
     ]
    },
    {
     "name": "stderr",
     "output_type": "stream",
     "text": [
      " 14%|█▎        | 11/81 [00:22<02:06,  1.81s/it]"
     ]
    },
    {
     "name": "stdout",
     "output_type": "stream",
     "text": [
      "131.58544921875 71.3759765625\n",
      "131.54833984375 71.35302734375\n",
      "131.56689453125 71.41015625\n",
      "131.5732421875 71.392578125\n",
      "131.54833984375 71.4033203125\n",
      "131.56884765625 71.392578125\n",
      "131.56884765625 71.392578125\n"
     ]
    },
    {
     "name": "stderr",
     "output_type": "stream",
     "text": [
      " 15%|█▍        | 12/81 [00:23<01:49,  1.59s/it]"
     ]
    },
    {
     "name": "stdout",
     "output_type": "stream",
     "text": [
      "131.5693359375 71.40869140625\n",
      "131.56689453125 71.41015625\n",
      "131.5732421875 71.392578125\n",
      "131.56884765625 71.392578125\n",
      "131.56884765625 71.392578125\n",
      "131.55615234375 71.42626953125\n"
     ]
    },
    {
     "name": "stderr",
     "output_type": "stream",
     "text": [
      " 16%|█▌        | 13/81 [00:24<01:31,  1.35s/it]"
     ]
    },
    {
     "name": "stdout",
     "output_type": "stream",
     "text": [
      "131.56982421875 71.427734375\n",
      "131.55615234375 71.42626953125\n"
     ]
    },
    {
     "name": "stderr",
     "output_type": "stream",
     "text": [
      " 17%|█▋        | 14/81 [00:24<01:17,  1.16s/it]"
     ]
    },
    {
     "name": "stdout",
     "output_type": "stream",
     "text": [
      "131.52197265625 71.5126953125\n",
      "131.5185546875 71.5087890625\n"
     ]
    },
    {
     "name": "stderr",
     "output_type": "stream",
     "text": [
      " 19%|█▊        | 15/81 [00:25<01:14,  1.12s/it]"
     ]
    },
    {
     "name": "stdout",
     "output_type": "stream",
     "text": [
      "131.51611328125 71.55078125\n",
      "131.52197265625 71.5126953125\n",
      "131.5126953125 71.58056640625\n",
      "131.5068359375 71.595703125\n",
      "131.51171875 71.58203125\n",
      "131.5107421875 71.58056640625\n",
      "131.50537109375 71.59521484375\n",
      "131.509765625 71.57861328125\n",
      "131.505859375 71.58447265625\n",
      "131.50732421875 71.578125\n",
      "131.51611328125 71.55078125\n",
      "131.50537109375 71.5791015625\n",
      "131.48779296875 71.59619140625\n",
      "131.49072265625 71.5888671875\n",
      "131.4912109375 71.5693359375\n",
      "131.48828125 71.5673828125\n",
      "131.50146484375 71.5947265625\n",
      "131.5029296875 71.580078125\n",
      "131.48828125 71.58935546875\n",
      "131.49072265625 71.5673828125\n",
      "131.48828125 71.57275390625\n",
      "131.48779296875 71.56982421875\n"
     ]
    },
    {
     "name": "stderr",
     "output_type": "stream",
     "text": [
      " 20%|█▉        | 16/81 [00:27<01:32,  1.42s/it]"
     ]
    },
    {
     "name": "stdout",
     "output_type": "stream",
     "text": [
      "131.50048828125 71.5966796875\n",
      "131.50048828125 71.59130859375\n",
      "131.494140625 71.5712890625\n",
      "131.4970703125 71.57958984375\n",
      "131.50732421875 71.578125\n",
      "131.45556640625 71.5537109375\n",
      "131.5126953125 71.58056640625\n",
      "131.5068359375 71.595703125\n",
      "131.51171875 71.58203125\n",
      "131.5107421875 71.58056640625\n",
      "131.50537109375 71.59521484375\n",
      "131.509765625 71.57861328125\n",
      "131.505859375 71.58447265625\n",
      "131.50732421875 71.578125\n",
      "131.50537109375 71.5791015625\n",
      "131.48486328125 71.60498046875\n",
      "131.48779296875 71.59619140625\n",
      "131.49072265625 71.5888671875\n",
      "131.48291015625 71.60888671875\n",
      "131.48291015625 71.6025390625\n",
      "131.4912109375 71.5693359375\n",
      "131.48828125 71.5673828125\n",
      "131.47509765625 71.599609375\n"
     ]
    },
    {
     "name": "stderr",
     "output_type": "stream",
     "text": [
      " 21%|██        | 17/81 [00:30<01:54,  1.80s/it]"
     ]
    },
    {
     "name": "stdout",
     "output_type": "stream",
     "text": [
      "131.44970703125 71.62158203125\n",
      "131.50146484375 71.5947265625\n",
      "131.5029296875 71.580078125\n",
      "131.48828125 71.58935546875\n",
      "131.48779296875 71.56982421875\n",
      "131.50048828125 71.5966796875\n",
      "131.49169921875 71.6103515625\n",
      "131.50732421875 71.578125\n"
     ]
    },
    {
     "name": "stderr",
     "output_type": "stream",
     "text": [
      " 22%|██▏       | 18/81 [00:32<01:54,  1.81s/it]"
     ]
    },
    {
     "name": "stdout",
     "output_type": "stream",
     "text": [
      "131.4853515625 71.65283203125\n",
      "131.48388671875 71.65283203125\n",
      "131.48291015625 71.60888671875\n",
      "131.44970703125 71.62158203125\n",
      "131.4443359375 71.63916015625\n",
      "131.44140625 71.6376953125\n",
      "131.43505859375 71.63623046875\n",
      "131.4287109375 71.63330078125\n",
      "131.48388671875 71.6484375\n",
      "131.45654296875 71.64404296875\n"
     ]
    },
    {
     "name": "stderr",
     "output_type": "stream",
     "text": [
      " 23%|██▎       | 19/81 [00:33<01:31,  1.47s/it]"
     ]
    },
    {
     "name": "stdout",
     "output_type": "stream",
     "text": [
      "131.513671875 71.27587890625\n",
      "131.54833984375 71.35302734375\n"
     ]
    },
    {
     "name": "stderr",
     "output_type": "stream",
     "text": [
      " 26%|██▌       | 21/81 [00:33<00:55,  1.09it/s]"
     ]
    },
    {
     "name": "stdout",
     "output_type": "stream",
     "text": [
      "131.54833984375 71.35302734375\n"
     ]
    },
    {
     "name": "stderr",
     "output_type": "stream",
     "text": [
      " 30%|██▉       | 24/81 [00:34<00:32,  1.77it/s]"
     ]
    },
    {
     "name": "stdout",
     "output_type": "stream",
     "text": [
      "131.45361328125 71.55224609375\n"
     ]
    },
    {
     "name": "stderr",
     "output_type": "stream",
     "text": [
      " 31%|███       | 25/81 [00:35<00:36,  1.52it/s]"
     ]
    },
    {
     "name": "stdout",
     "output_type": "stream",
     "text": [
      "131.49072265625 71.5888671875\n",
      "131.45556640625 71.5537109375\n"
     ]
    },
    {
     "name": "stderr",
     "output_type": "stream",
     "text": [
      " 32%|███▏      | 26/81 [00:36<00:43,  1.26it/s]"
     ]
    },
    {
     "name": "stdout",
     "output_type": "stream",
     "text": [
      "131.44970703125 71.62158203125\n"
     ]
    },
    {
     "name": "stderr",
     "output_type": "stream",
     "text": [
      " 33%|███▎      | 27/81 [00:38<00:51,  1.06it/s]"
     ]
    },
    {
     "name": "stdout",
     "output_type": "stream",
     "text": [
      "131.44970703125 71.62158203125\n",
      "131.4443359375 71.63916015625\n",
      "131.44140625 71.6376953125\n",
      "131.43505859375 71.63623046875\n",
      "131.4287109375 71.63330078125\n",
      "131.45654296875 71.64404296875\n"
     ]
    },
    {
     "name": "stderr",
     "output_type": "stream",
     "text": [
      " 43%|████▎     | 35/81 [00:40<00:15,  2.90it/s]"
     ]
    },
    {
     "name": "stdout",
     "output_type": "stream",
     "text": [
      "131.45361328125 71.55224609375\n"
     ]
    },
    {
     "name": "stderr",
     "output_type": "stream",
     "text": [
      " 47%|████▋     | 38/81 [00:41<00:16,  2.60it/s]"
     ]
    },
    {
     "name": "stdout",
     "output_type": "stream",
     "text": [
      "131.46728515625 71.25244140625\n"
     ]
    },
    {
     "name": "stderr",
     "output_type": "stream",
     "text": [
      " 95%|█████████▌| 77/81 [00:52<00:01,  2.20it/s]"
     ]
    },
    {
     "name": "stdout",
     "output_type": "stream",
     "text": [
      "131.2646484375 71.39697265625\n"
     ]
    },
    {
     "name": "stderr",
     "output_type": "stream",
     "text": [
      "100%|██████████| 81/81 [00:54<00:00,  1.49it/s]\n"
     ]
    },
    {
     "name": "stdout",
     "output_type": "stream",
     "text": [
      " 4 Define mapping between PRISMA LatLon and gMaps latlon\n",
      " 5 Map PRISMA Latlons to gMaps latlons (ransac affine) and save for reference\n",
      "Band 50 did not work\n",
      "# 1 create .tif file\n",
      "# 2 Download gmaps for the same location\n",
      "Image size (pix):  (1792, 1792)\n",
      "Tile coordinate top left (north-west) corner: 1048,568\n",
      " 3 Determine matched features in PRISMA image to gMaps image with SIFT\n"
     ]
    },
    {
     "name": "stderr",
     "output_type": "stream",
     "text": [
      "  1%|          | 1/81 [00:00<01:10,  1.14it/s]"
     ]
    },
    {
     "name": "stdout",
     "output_type": "stream",
     "text": [
      "131.58544921875 71.3759765625\n"
     ]
    },
    {
     "name": "stderr",
     "output_type": "stream",
     "text": [
      "  2%|▏         | 2/81 [00:02<01:39,  1.26s/it]"
     ]
    },
    {
     "name": "stdout",
     "output_type": "stream",
     "text": [
      "131.609375 71.4111328125\n",
      "131.5986328125 71.400390625\n",
      "131.58544921875 71.3759765625\n",
      "131.61376953125 71.404296875\n",
      "131.59814453125 71.39697265625\n",
      "131.5947265625 71.3955078125\n",
      "131.56689453125 71.41015625\n",
      "131.5732421875 71.392578125\n",
      "131.56005859375 71.40869140625\n",
      "131.56884765625 71.392578125\n",
      "131.61376953125 71.404296875\n"
     ]
    },
    {
     "name": "stderr",
     "output_type": "stream",
     "text": [
      "  4%|▎         | 3/81 [00:04<01:52,  1.44s/it]"
     ]
    },
    {
     "name": "stdout",
     "output_type": "stream",
     "text": [
      "131.609375 71.4111328125\n",
      "131.5810546875 71.46435546875\n",
      "131.5986328125 71.400390625\n",
      "131.5869140625 71.4287109375\n",
      "131.61376953125 71.404296875\n",
      "131.59814453125 71.39697265625\n",
      "131.5947265625 71.3955078125\n",
      "131.56689453125 71.41015625\n",
      "131.5732421875 71.392578125\n",
      "131.56005859375 71.40869140625\n",
      "131.56884765625 71.392578125\n",
      "131.55615234375 71.42626953125\n",
      "131.61376953125 71.404296875\n",
      "131.57666015625 71.50146484375\n",
      "131.57958984375 71.484375\n",
      "131.57861328125 71.486328125\n",
      "131.5810546875 71.46435546875\n",
      "131.5673828125 71.4990234375\n",
      "131.56591796875 71.4970703125\n",
      "131.5654296875 71.49365234375\n"
     ]
    },
    {
     "name": "stderr",
     "output_type": "stream",
     "text": [
      "  5%|▍         | 4/81 [00:05<01:54,  1.49s/it]"
     ]
    },
    {
     "name": "stdout",
     "output_type": "stream",
     "text": [
      "131.5869140625 71.4287109375\n",
      "131.57373046875 71.5009765625\n",
      "131.57861328125 71.48095703125\n",
      "131.55615234375 71.42626953125\n"
     ]
    },
    {
     "name": "stderr",
     "output_type": "stream",
     "text": [
      "  6%|▌         | 5/81 [00:06<01:49,  1.44s/it]"
     ]
    },
    {
     "name": "stdout",
     "output_type": "stream",
     "text": [
      "131.56640625 71.533203125\n",
      "131.57666015625 71.50146484375\n",
      "131.57958984375 71.484375\n",
      "131.57861328125 71.486328125\n",
      "131.564453125 71.52587890625\n",
      "131.55859375 71.53759765625\n",
      "131.5673828125 71.4990234375\n",
      "131.56591796875 71.4970703125\n",
      "131.5654296875 71.49365234375\n",
      "131.57861328125 71.48095703125\n",
      "131.55615234375 71.5361328125\n",
      "131.54931640625 71.57861328125\n",
      "131.56640625 71.533203125\n",
      "131.55078125 71.57470703125\n",
      "131.548828125 71.5732421875\n",
      "131.564453125 71.52587890625\n",
      "131.5458984375 71.57666015625\n",
      "131.55859375 71.53759765625\n",
      "131.54248046875 71.5771484375\n",
      "131.51611328125 71.55078125\n",
      "131.55224609375 71.5732421875\n",
      "131.54833984375 71.57666015625\n",
      "131.54638671875 71.57275390625\n",
      "131.5390625 71.578125\n",
      "131.529296875 71.57421875\n",
      "131.529296875 71.572265625\n",
      "131.54931640625 71.57861328125\n"
     ]
    },
    {
     "name": "stderr",
     "output_type": "stream",
     "text": [
      "  7%|▋         | 6/81 [00:09<02:07,  1.70s/it]"
     ]
    },
    {
     "name": "stdout",
     "output_type": "stream",
     "text": [
      "131.55615234375 71.5361328125\n",
      "131.53955078125 71.61669921875\n",
      "131.54931640625 71.58447265625\n",
      "131.54931640625 71.57861328125\n",
      "131.55078125 71.57470703125\n",
      "131.548828125 71.5732421875\n",
      "131.54541015625 71.58251953125\n",
      "131.5458984375 71.57666015625\n",
      "131.54052734375 71.58447265625\n",
      "131.54248046875 71.5771484375\n",
      "131.53759765625 71.57958984375\n",
      "131.51953125 71.58837890625\n",
      "131.5185546875 71.5869140625\n",
      "131.51806640625 71.580078125\n",
      "131.513671875 71.591796875\n",
      "131.5068359375 71.595703125\n",
      "131.51171875 71.58203125\n",
      "131.5107421875 71.58056640625\n",
      "131.50537109375 71.59521484375\n",
      "131.509765625 71.57861328125\n",
      "131.505859375 71.58447265625\n",
      "131.50732421875 71.578125\n",
      "131.48779296875 71.59619140625\n",
      "131.48828125 71.5673828125\n",
      "131.56494140625 71.54345703125\n",
      "131.55224609375 71.5732421875\n",
      "131.54833984375 71.57666015625\n",
      "131.5458984375 71.5810546875\n",
      "131.54638671875 71.57275390625\n",
      "131.54345703125 71.57861328125\n",
      "131.5390625 71.578125\n",
      "131.529296875 71.57421875\n",
      "131.52783203125 71.57666015625\n",
      "131.51611328125 71.58837890625\n",
      "131.513671875 71.5869140625\n",
      "131.51611328125 71.5712890625\n",
      "131.5126953125 71.58203125\n",
      "131.50146484375 71.5947265625\n",
      "131.48828125 71.58935546875\n",
      "131.49072265625 71.5673828125\n",
      "131.48828125 71.57275390625\n",
      "131.48779296875 71.56982421875\n",
      "131.5537109375 71.57666015625\n",
      "131.54443359375 71.5849609375\n",
      "131.5322265625 71.57666015625\n",
      "131.529296875 71.572265625\n",
      "131.50927734375 71.58984375\n",
      "131.50048828125 71.5966796875\n"
     ]
    },
    {
     "name": "stderr",
     "output_type": "stream",
     "text": [
      "  9%|▊         | 7/81 [00:12<02:48,  2.28s/it]"
     ]
    },
    {
     "name": "stdout",
     "output_type": "stream",
     "text": [
      "131.51904296875 71.57568359375\n",
      "131.4970703125 71.57958984375\n",
      "131.53955078125 71.61669921875\n",
      "131.54931640625 71.57861328125\n",
      "131.54541015625 71.58251953125\n",
      "131.50732421875 71.578125\n",
      "131.529296875 71.572265625\n",
      "131.51904296875 71.57568359375\n",
      "131.53955078125 71.61669921875\n",
      "131.54052734375 71.58447265625\n",
      "131.5185546875 71.5869140625\n",
      "131.513671875 71.591796875\n",
      "131.5068359375 71.595703125\n",
      "131.51171875 71.58203125\n",
      "131.5107421875 71.58056640625\n",
      "131.50537109375 71.59521484375\n",
      "131.509765625 71.57861328125\n",
      "131.505859375 71.58447265625\n",
      "131.50732421875 71.578125\n",
      "131.48486328125 71.60498046875\n",
      "131.48779296875 71.59619140625\n",
      "131.48291015625 71.60888671875\n",
      "131.4912109375 71.5693359375\n",
      "131.48828125 71.5673828125\n",
      "131.52685546875 71.6484375\n"
     ]
    },
    {
     "name": "stderr",
     "output_type": "stream",
     "text": [
      " 10%|▉         | 8/81 [00:15<03:08,  2.58s/it]"
     ]
    },
    {
     "name": "stdout",
     "output_type": "stream",
     "text": [
      "131.51611328125 71.58837890625\n",
      "131.513671875 71.5869140625\n",
      "131.5126953125 71.58203125\n",
      "131.50146484375 71.5947265625\n",
      "131.5029296875 71.580078125\n",
      "131.48828125 71.58935546875\n",
      "131.48828125 71.57275390625\n",
      "131.48779296875 71.56982421875\n",
      "131.50927734375 71.58984375\n",
      "131.50048828125 71.5966796875\n",
      "131.49169921875 71.6103515625\n",
      "131.53955078125 71.61669921875\n",
      "131.50732421875 71.578125\n"
     ]
    },
    {
     "name": "stderr",
     "output_type": "stream",
     "text": [
      " 11%|█         | 9/81 [00:17<02:52,  2.39s/it]"
     ]
    },
    {
     "name": "stdout",
     "output_type": "stream",
     "text": [
      "131.51904296875 71.6728515625\n",
      "131.501953125 71.65673828125\n",
      "131.48388671875 71.65283203125\n",
      "131.48291015625 71.60888671875\n",
      "131.52685546875 71.6484375\n",
      "131.513671875 71.65380859375\n"
     ]
    },
    {
     "name": "stderr",
     "output_type": "stream",
     "text": [
      " 12%|█▏        | 10/81 [00:18<02:15,  1.91s/it]"
     ]
    },
    {
     "name": "stdout",
     "output_type": "stream",
     "text": [
      "131.58544921875 71.3759765625\n",
      "131.54833984375 71.35302734375\n"
     ]
    },
    {
     "name": "stderr",
     "output_type": "stream",
     "text": [
      " 14%|█▎        | 11/81 [00:19<01:53,  1.62s/it]"
     ]
    },
    {
     "name": "stdout",
     "output_type": "stream",
     "text": [
      "131.54833984375 71.35302734375\n",
      "131.56689453125 71.41015625\n",
      "131.5732421875 71.392578125\n",
      "131.56005859375 71.40869140625\n",
      "131.54833984375 71.4033203125\n",
      "131.56884765625 71.392578125\n"
     ]
    },
    {
     "name": "stderr",
     "output_type": "stream",
     "text": [
      " 15%|█▍        | 12/81 [00:20<01:38,  1.43s/it]"
     ]
    },
    {
     "name": "stdout",
     "output_type": "stream",
     "text": [
      "131.56689453125 71.41015625\n",
      "131.5732421875 71.392578125\n",
      "131.56005859375 71.40869140625\n",
      "131.56884765625 71.392578125\n",
      "131.55615234375 71.42626953125\n"
     ]
    },
    {
     "name": "stderr",
     "output_type": "stream",
     "text": [
      " 16%|█▌        | 13/81 [00:21<01:22,  1.21s/it]"
     ]
    },
    {
     "name": "stdout",
     "output_type": "stream",
     "text": [
      "131.55615234375 71.42626953125\n"
     ]
    },
    {
     "name": "stderr",
     "output_type": "stream",
     "text": [
      " 17%|█▋        | 14/81 [00:22<01:10,  1.05s/it]"
     ]
    },
    {
     "name": "stdout",
     "output_type": "stream",
     "text": [
      "131.52197265625 71.5126953125\n",
      "131.51806640625 71.513671875\n"
     ]
    },
    {
     "name": "stderr",
     "output_type": "stream",
     "text": [
      " 19%|█▊        | 15/81 [00:23<01:14,  1.13s/it]"
     ]
    },
    {
     "name": "stdout",
     "output_type": "stream",
     "text": [
      "131.51611328125 71.55078125\n",
      "131.52197265625 71.5126953125\n",
      "131.5068359375 71.595703125\n",
      "131.51171875 71.58203125\n",
      "131.5107421875 71.58056640625\n",
      "131.50537109375 71.59521484375\n",
      "131.509765625 71.57861328125\n",
      "131.505859375 71.58447265625\n",
      "131.50732421875 71.578125\n",
      "131.51611328125 71.55078125\n",
      "131.48779296875 71.59619140625\n",
      "131.4912109375 71.5693359375\n",
      "131.48828125 71.5673828125\n",
      "131.50146484375 71.5947265625\n",
      "131.5029296875 71.580078125\n",
      "131.48828125 71.58935546875\n",
      "131.49072265625 71.5673828125\n",
      "131.48828125 71.57275390625\n",
      "131.48779296875 71.56982421875\n",
      "131.4970703125 71.57958984375\n"
     ]
    },
    {
     "name": "stderr",
     "output_type": "stream",
     "text": [
      " 20%|█▉        | 16/81 [00:25<01:30,  1.39s/it]"
     ]
    },
    {
     "name": "stdout",
     "output_type": "stream",
     "text": [
      "131.50732421875 71.578125\n",
      "131.45556640625 71.5537109375\n",
      "131.5068359375 71.595703125\n",
      "131.51171875 71.58203125\n",
      "131.5107421875 71.58056640625\n",
      "131.50537109375 71.59521484375\n",
      "131.509765625 71.57861328125\n",
      "131.505859375 71.58447265625\n",
      "131.50732421875 71.578125\n",
      "131.48486328125 71.60498046875\n",
      "131.48779296875 71.59619140625\n",
      "131.48291015625 71.60888671875\n",
      "131.4912109375 71.5693359375\n",
      "131.48828125 71.5673828125\n",
      "131.44970703125 71.62158203125\n",
      "131.50146484375 71.5947265625\n",
      "131.5029296875 71.580078125\n",
      "131.48828125 71.58935546875\n",
      "131.48828125 71.57275390625\n"
     ]
    },
    {
     "name": "stderr",
     "output_type": "stream",
     "text": [
      " 21%|██        | 17/81 [00:27<01:47,  1.68s/it]"
     ]
    },
    {
     "name": "stdout",
     "output_type": "stream",
     "text": [
      "131.50048828125 71.5966796875\n",
      "131.49169921875 71.6103515625\n",
      "131.50732421875 71.578125\n"
     ]
    },
    {
     "name": "stderr",
     "output_type": "stream",
     "text": [
      " 22%|██▏       | 18/81 [00:29<01:49,  1.73s/it]"
     ]
    },
    {
     "name": "stdout",
     "output_type": "stream",
     "text": [
      "131.48388671875 71.65283203125\n",
      "131.48291015625 71.60888671875\n",
      "131.44970703125 71.62158203125\n",
      "131.43505859375 71.63623046875\n",
      "131.4287109375 71.63330078125\n",
      "131.45654296875 71.6416015625\n",
      "131.45654296875 71.64404296875\n"
     ]
    },
    {
     "name": "stderr",
     "output_type": "stream",
     "text": [
      " 23%|██▎       | 19/81 [00:30<01:31,  1.48s/it]"
     ]
    },
    {
     "name": "stdout",
     "output_type": "stream",
     "text": [
      "131.54833984375 71.35302734375\n"
     ]
    },
    {
     "name": "stderr",
     "output_type": "stream",
     "text": [
      " 25%|██▍       | 20/81 [00:31<01:14,  1.23s/it]"
     ]
    },
    {
     "name": "stdout",
     "output_type": "stream",
     "text": [
      "131.54833984375 71.35302734375\n"
     ]
    },
    {
     "name": "stderr",
     "output_type": "stream",
     "text": [
      " 30%|██▉       | 24/81 [00:32<00:34,  1.68it/s]"
     ]
    },
    {
     "name": "stdout",
     "output_type": "stream",
     "text": [
      "131.45361328125 71.55224609375\n"
     ]
    },
    {
     "name": "stderr",
     "output_type": "stream",
     "text": [
      " 31%|███       | 25/81 [00:33<00:37,  1.50it/s]"
     ]
    },
    {
     "name": "stdout",
     "output_type": "stream",
     "text": [
      "131.49072265625 71.5888671875\n",
      "131.45556640625 71.5537109375\n"
     ]
    },
    {
     "name": "stderr",
     "output_type": "stream",
     "text": [
      " 32%|███▏      | 26/81 [00:34<00:44,  1.23it/s]"
     ]
    },
    {
     "name": "stdout",
     "output_type": "stream",
     "text": [
      "131.44970703125 71.62158203125\n"
     ]
    },
    {
     "name": "stderr",
     "output_type": "stream",
     "text": [
      " 33%|███▎      | 27/81 [00:35<00:49,  1.09it/s]"
     ]
    },
    {
     "name": "stdout",
     "output_type": "stream",
     "text": [
      "131.44970703125 71.62158203125\n",
      "131.4443359375 71.63916015625\n",
      "131.43505859375 71.63623046875\n",
      "131.4287109375 71.63330078125\n",
      "131.45654296875 71.64404296875\n"
     ]
    },
    {
     "name": "stderr",
     "output_type": "stream",
     "text": [
      " 43%|████▎     | 35/81 [00:37<00:15,  2.95it/s]"
     ]
    },
    {
     "name": "stdout",
     "output_type": "stream",
     "text": [
      "131.45361328125 71.55224609375\n"
     ]
    },
    {
     "name": "stderr",
     "output_type": "stream",
     "text": [
      " 47%|████▋     | 38/81 [00:38<00:14,  3.02it/s]"
     ]
    },
    {
     "name": "stdout",
     "output_type": "stream",
     "text": [
      "131.46728515625 71.25244140625\n"
     ]
    },
    {
     "name": "stderr",
     "output_type": "stream",
     "text": [
      " 95%|█████████▌| 77/81 [00:50<00:01,  2.03it/s]"
     ]
    },
    {
     "name": "stdout",
     "output_type": "stream",
     "text": [
      "131.2646484375 71.39697265625\n"
     ]
    },
    {
     "name": "stderr",
     "output_type": "stream",
     "text": [
      "100%|██████████| 81/81 [00:52<00:00,  1.55it/s]\n"
     ]
    },
    {
     "name": "stdout",
     "output_type": "stream",
     "text": [
      " 4 Define mapping between PRISMA LatLon and gMaps latlon\n",
      " 5 Map PRISMA Latlons to gMaps latlons (ransac affine) and save for reference\n",
      "Band 51 did not work\n",
      "# 1 create .tif file\n",
      "# 2 Download gmaps for the same location\n",
      "Image size (pix):  (1792, 1792)\n",
      "Tile coordinate top left (north-west) corner: 1048,568\n",
      " 3 Determine matched features in PRISMA image to gMaps image with SIFT\n"
     ]
    },
    {
     "name": "stderr",
     "output_type": "stream",
     "text": [
      "  2%|▏         | 2/81 [00:02<01:36,  1.23s/it]"
     ]
    },
    {
     "name": "stdout",
     "output_type": "stream",
     "text": [
      "131.61572265625 71.40576171875\n",
      "131.609375 71.4111328125\n",
      "131.58544921875 71.3759765625\n",
      "131.61376953125 71.404296875\n",
      "131.59814453125 71.39697265625\n",
      "131.5947265625 71.3955078125\n",
      "131.56689453125 71.41015625\n",
      "131.5732421875 71.392578125\n",
      "131.56005859375 71.40869140625\n",
      "131.56884765625 71.392578125\n",
      "131.61376953125 71.404296875\n",
      "131.61572265625 71.40576171875\n",
      "131.609375 71.4111328125\n",
      "131.5810546875 71.46435546875\n",
      "131.5869140625 71.4287109375\n",
      "131.61376953125 71.404296875\n",
      "131.59814453125 71.39697265625\n",
      "131.5947265625 71.3955078125\n",
      "131.56689453125 71.41015625\n",
      "131.5732421875 71.392578125\n",
      "131.56005859375 71.40869140625\n",
      "131.56884765625 71.392578125\n"
     ]
    },
    {
     "name": "stderr",
     "output_type": "stream",
     "text": [
      "  4%|▎         | 3/81 [00:03<01:51,  1.43s/it]"
     ]
    },
    {
     "name": "stdout",
     "output_type": "stream",
     "text": [
      "131.55615234375 71.42626953125\n",
      "131.61376953125 71.404296875\n"
     ]
    },
    {
     "name": "stderr",
     "output_type": "stream",
     "text": [
      "  5%|▍         | 4/81 [00:05<01:47,  1.40s/it]"
     ]
    },
    {
     "name": "stdout",
     "output_type": "stream",
     "text": [
      "131.57861328125 71.486328125\n",
      "131.5810546875 71.46435546875\n",
      "131.5673828125 71.4990234375\n",
      "131.56591796875 71.4970703125\n",
      "131.5654296875 71.49365234375\n",
      "131.57373046875 71.5009765625\n",
      "131.57958984375 71.5068359375\n",
      "131.6025390625 71.46240234375\n",
      "131.57861328125 71.48095703125\n",
      "131.55615234375 71.42626953125\n"
     ]
    },
    {
     "name": "stderr",
     "output_type": "stream",
     "text": [
      "  6%|▌         | 5/81 [00:07<01:53,  1.50s/it]"
     ]
    },
    {
     "name": "stdout",
     "output_type": "stream",
     "text": [
      "131.56640625 71.54296875\n",
      "131.56396484375 71.54052734375\n",
      "131.56640625 71.533203125\n",
      "131.57861328125 71.486328125\n",
      "131.564453125 71.52587890625\n",
      "131.55859375 71.53759765625\n",
      "131.5673828125 71.4990234375\n",
      "131.56591796875 71.4970703125\n",
      "131.5654296875 71.49365234375\n",
      "131.57861328125 71.48095703125\n",
      "131.55615234375 71.5361328125\n",
      "131.5419921875 71.51416015625\n"
     ]
    },
    {
     "name": "stderr",
     "output_type": "stream",
     "text": [
      "  7%|▋         | 6/81 [00:09<02:17,  1.84s/it]"
     ]
    },
    {
     "name": "stdout",
     "output_type": "stream",
     "text": [
      "131.56640625 71.54296875\n",
      "131.56591796875 71.53955078125\n",
      "131.56396484375 71.54052734375\n",
      "131.56640625 71.533203125\n",
      "131.55078125 71.57470703125\n",
      "131.564453125 71.52587890625\n",
      "131.5458984375 71.57666015625\n",
      "131.55859375 71.53759765625\n",
      "131.54248046875 71.5771484375\n",
      "131.51611328125 71.55078125\n",
      "131.55224609375 71.5732421875\n",
      "131.54833984375 71.57666015625\n",
      "131.54638671875 71.57275390625\n",
      "131.529296875 71.57421875\n",
      "131.55615234375 71.5361328125\n",
      "131.5419921875 71.51416015625\n",
      "131.53955078125 71.61669921875\n",
      "131.54931640625 71.58447265625\n",
      "131.55078125 71.57470703125\n",
      "131.54541015625 71.58251953125\n",
      "131.5458984375 71.57666015625\n",
      "131.54052734375 71.58447265625\n",
      "131.5419921875 71.58056640625\n",
      "131.54248046875 71.5771484375\n",
      "131.53759765625 71.57958984375\n",
      "131.525390625 71.576171875\n",
      "131.51953125 71.58837890625\n",
      "131.51806640625 71.580078125\n",
      "131.513671875 71.591796875\n",
      "131.5068359375 71.595703125\n",
      "131.51171875 71.58203125\n",
      "131.5107421875 71.58056640625\n",
      "131.50537109375 71.59521484375\n",
      "131.509765625 71.57861328125\n",
      "131.505859375 71.58447265625\n",
      "131.50732421875 71.578125\n",
      "131.48779296875 71.59619140625\n",
      "131.48828125 71.5673828125\n",
      "131.56494140625 71.54345703125\n",
      "131.55224609375 71.5732421875\n",
      "131.54833984375 71.57666015625\n",
      "131.5458984375 71.5810546875\n",
      "131.54638671875 71.57275390625\n",
      "131.54345703125 71.57861328125\n",
      "131.5390625 71.578125\n",
      "131.529296875 71.57421875\n",
      "131.52783203125 71.57666015625\n",
      "131.51611328125 71.58837890625\n",
      "131.51611328125 71.5712890625\n",
      "131.50146484375 71.5947265625\n",
      "131.48828125 71.58935546875\n",
      "131.49072265625 71.5673828125\n",
      "131.48828125 71.57275390625\n",
      "131.48779296875 71.56982421875\n",
      "131.5537109375 71.57666015625\n",
      "131.54443359375 71.5849609375\n",
      "131.5322265625 71.57666015625\n",
      "131.529296875 71.572265625\n",
      "131.50927734375 71.58984375\n",
      "131.50048828125 71.5966796875\n",
      "131.51904296875 71.57568359375\n",
      "131.4970703125 71.57958984375\n",
      "131.53955078125 71.61669921875\n",
      "131.54541015625 71.58251953125\n"
     ]
    },
    {
     "name": "stderr",
     "output_type": "stream",
     "text": [
      "  9%|▊         | 7/81 [00:12<02:51,  2.32s/it]"
     ]
    },
    {
     "name": "stdout",
     "output_type": "stream",
     "text": [
      "131.5419921875 71.58056640625\n",
      "131.50732421875 71.578125\n",
      "131.53955078125 71.61669921875\n",
      "131.529296875 71.572265625\n",
      "131.51904296875 71.57568359375\n",
      "131.53955078125 71.61669921875\n",
      "131.54052734375 71.58447265625\n",
      "131.513671875 71.591796875\n",
      "131.5068359375 71.595703125\n",
      "131.51171875 71.58203125\n",
      "131.5107421875 71.58056640625\n",
      "131.50537109375 71.59521484375\n",
      "131.509765625 71.57861328125\n",
      "131.505859375 71.58447265625\n",
      "131.50732421875 71.578125\n",
      "131.48779296875 71.59619140625\n",
      "131.48291015625 71.60888671875\n",
      "131.4912109375 71.5693359375\n",
      "131.48828125 71.5673828125\n",
      "131.51611328125 71.58837890625\n",
      "131.50146484375 71.5947265625\n",
      "131.5029296875 71.580078125\n",
      "131.48828125 71.58935546875\n"
     ]
    },
    {
     "name": "stderr",
     "output_type": "stream",
     "text": [
      " 10%|▉         | 8/81 [00:15<03:08,  2.58s/it]"
     ]
    },
    {
     "name": "stdout",
     "output_type": "stream",
     "text": [
      "131.48828125 71.57275390625\n",
      "131.48779296875 71.56982421875\n",
      "131.50927734375 71.58984375\n",
      "131.50048828125 71.5966796875\n",
      "131.50048828125 71.59130859375\n",
      "131.49169921875 71.6103515625\n",
      "131.53955078125 71.61669921875\n",
      "131.50732421875 71.578125\n",
      "131.53955078125 71.61669921875\n"
     ]
    },
    {
     "name": "stderr",
     "output_type": "stream",
     "text": [
      " 11%|█         | 9/81 [00:17<02:52,  2.40s/it]"
     ]
    },
    {
     "name": "stdout",
     "output_type": "stream",
     "text": [
      "131.48388671875 71.65283203125\n",
      "131.48291015625 71.60888671875\n"
     ]
    },
    {
     "name": "stderr",
     "output_type": "stream",
     "text": [
      " 12%|█▏        | 10/81 [00:18<02:17,  1.94s/it]"
     ]
    },
    {
     "name": "stdout",
     "output_type": "stream",
     "text": [
      "131.58544921875 71.3759765625\n",
      "131.54833984375 71.35302734375\n"
     ]
    },
    {
     "name": "stderr",
     "output_type": "stream",
     "text": [
      " 14%|█▎        | 11/81 [00:19<01:56,  1.67s/it]"
     ]
    },
    {
     "name": "stdout",
     "output_type": "stream",
     "text": [
      "131.54833984375 71.35302734375\n",
      "131.56689453125 71.41015625\n",
      "131.5732421875 71.392578125\n",
      "131.56005859375 71.40869140625\n",
      "131.56884765625 71.392578125\n"
     ]
    },
    {
     "name": "stderr",
     "output_type": "stream",
     "text": [
      " 15%|█▍        | 12/81 [00:20<01:39,  1.45s/it]"
     ]
    },
    {
     "name": "stdout",
     "output_type": "stream",
     "text": [
      "131.5693359375 71.40869140625\n",
      "131.5693359375 71.38232421875\n",
      "131.56689453125 71.41015625\n",
      "131.5732421875 71.392578125\n",
      "131.56005859375 71.40869140625\n",
      "131.56884765625 71.392578125\n",
      "131.55615234375 71.42626953125\n"
     ]
    },
    {
     "name": "stderr",
     "output_type": "stream",
     "text": [
      " 16%|█▌        | 13/81 [00:21<01:24,  1.25s/it]"
     ]
    },
    {
     "name": "stdout",
     "output_type": "stream",
     "text": [
      "131.55615234375 71.42626953125\n"
     ]
    },
    {
     "name": "stderr",
     "output_type": "stream",
     "text": [
      " 17%|█▋        | 14/81 [00:22<01:12,  1.08s/it]"
     ]
    },
    {
     "name": "stdout",
     "output_type": "stream",
     "text": [
      "131.52197265625 71.5126953125\n"
     ]
    },
    {
     "name": "stderr",
     "output_type": "stream",
     "text": [
      " 19%|█▊        | 15/81 [00:23<01:10,  1.07s/it]"
     ]
    },
    {
     "name": "stdout",
     "output_type": "stream",
     "text": [
      "131.51611328125 71.55078125\n",
      "131.5068359375 71.595703125\n",
      "131.51171875 71.58203125\n",
      "131.5107421875 71.58056640625\n",
      "131.50537109375 71.59521484375\n",
      "131.509765625 71.57861328125\n",
      "131.505859375 71.58447265625\n",
      "131.50732421875 71.578125\n",
      "131.51611328125 71.55078125\n",
      "131.48779296875 71.59619140625\n",
      "131.4912109375 71.5693359375\n",
      "131.48828125 71.5673828125\n",
      "131.50146484375 71.5947265625\n",
      "131.5029296875 71.580078125\n",
      "131.48828125 71.58935546875\n",
      "131.49072265625 71.5673828125\n",
      "131.48828125 71.57275390625\n",
      "131.48779296875 71.56982421875\n",
      "131.50048828125 71.59130859375\n"
     ]
    },
    {
     "name": "stderr",
     "output_type": "stream",
     "text": [
      " 20%|█▉        | 16/81 [00:25<01:31,  1.40s/it]"
     ]
    },
    {
     "name": "stdout",
     "output_type": "stream",
     "text": [
      "131.4970703125 71.57958984375\n",
      "131.50732421875 71.578125\n",
      "131.45556640625 71.5537109375\n"
     ]
    },
    {
     "name": "stderr",
     "output_type": "stream",
     "text": [
      " 21%|██        | 17/81 [00:28<01:56,  1.82s/it]"
     ]
    },
    {
     "name": "stdout",
     "output_type": "stream",
     "text": [
      "131.5068359375 71.595703125\n",
      "131.51171875 71.58203125\n",
      "131.5107421875 71.58056640625\n",
      "131.50537109375 71.59521484375\n",
      "131.509765625 71.57861328125\n",
      "131.505859375 71.58447265625\n",
      "131.50732421875 71.578125\n",
      "131.48779296875 71.59619140625\n",
      "131.48291015625 71.60888671875\n",
      "131.4912109375 71.5693359375\n",
      "131.48828125 71.5673828125\n",
      "131.44970703125 71.62158203125\n",
      "131.50146484375 71.5947265625\n",
      "131.5029296875 71.580078125\n",
      "131.48828125 71.58935546875\n",
      "131.48828125 71.57275390625\n",
      "131.50048828125 71.5966796875\n",
      "131.49169921875 71.6103515625\n",
      "131.50732421875 71.578125\n"
     ]
    },
    {
     "name": "stderr",
     "output_type": "stream",
     "text": [
      " 22%|██▏       | 18/81 [00:30<01:56,  1.85s/it]"
     ]
    },
    {
     "name": "stdout",
     "output_type": "stream",
     "text": [
      "131.48388671875 71.65283203125\n",
      "131.48291015625 71.60888671875\n",
      "131.44970703125 71.62158203125\n",
      "131.43505859375 71.63623046875\n",
      "131.4287109375 71.63330078125\n",
      "131.45654296875 71.6416015625\n"
     ]
    },
    {
     "name": "stderr",
     "output_type": "stream",
     "text": [
      " 23%|██▎       | 19/81 [00:30<01:32,  1.49s/it]"
     ]
    },
    {
     "name": "stdout",
     "output_type": "stream",
     "text": [
      "131.54833984375 71.35302734375\n"
     ]
    },
    {
     "name": "stderr",
     "output_type": "stream",
     "text": [
      " 25%|██▍       | 20/81 [00:31<01:16,  1.25s/it]"
     ]
    },
    {
     "name": "stdout",
     "output_type": "stream",
     "text": [
      "131.54833984375 71.35302734375\n"
     ]
    },
    {
     "name": "stderr",
     "output_type": "stream",
     "text": [
      " 30%|██▉       | 24/81 [00:32<00:34,  1.66it/s]"
     ]
    },
    {
     "name": "stdout",
     "output_type": "stream",
     "text": [
      "131.45361328125 71.55224609375\n"
     ]
    },
    {
     "name": "stderr",
     "output_type": "stream",
     "text": [
      " 31%|███       | 25/81 [00:33<00:38,  1.47it/s]"
     ]
    },
    {
     "name": "stdout",
     "output_type": "stream",
     "text": [
      "131.49072265625 71.5888671875\n",
      "131.45556640625 71.5537109375\n"
     ]
    },
    {
     "name": "stderr",
     "output_type": "stream",
     "text": [
      " 32%|███▏      | 26/81 [00:34<00:44,  1.24it/s]"
     ]
    },
    {
     "name": "stdout",
     "output_type": "stream",
     "text": [
      "131.44970703125 71.62158203125\n"
     ]
    },
    {
     "name": "stderr",
     "output_type": "stream",
     "text": [
      " 33%|███▎      | 27/81 [00:36<00:48,  1.10it/s]"
     ]
    },
    {
     "name": "stdout",
     "output_type": "stream",
     "text": [
      "131.44970703125 71.62158203125\n",
      "131.4443359375 71.63916015625\n",
      "131.43505859375 71.63623046875\n",
      "131.4287109375 71.63330078125\n"
     ]
    },
    {
     "name": "stderr",
     "output_type": "stream",
     "text": [
      " 43%|████▎     | 35/81 [00:38<00:15,  2.96it/s]"
     ]
    },
    {
     "name": "stdout",
     "output_type": "stream",
     "text": [
      "131.45361328125 71.55224609375\n"
     ]
    },
    {
     "name": "stderr",
     "output_type": "stream",
     "text": [
      " 47%|████▋     | 38/81 [00:39<00:15,  2.81it/s]"
     ]
    },
    {
     "name": "stdout",
     "output_type": "stream",
     "text": [
      "131.46728515625 71.25244140625\n"
     ]
    },
    {
     "name": "stderr",
     "output_type": "stream",
     "text": [
      " 95%|█████████▌| 77/81 [00:49<00:01,  2.06it/s]"
     ]
    },
    {
     "name": "stdout",
     "output_type": "stream",
     "text": [
      "131.2646484375 71.39697265625\n"
     ]
    },
    {
     "name": "stderr",
     "output_type": "stream",
     "text": [
      "100%|██████████| 81/81 [00:51<00:00,  1.57it/s]\n"
     ]
    },
    {
     "name": "stdout",
     "output_type": "stream",
     "text": [
      " 4 Define mapping between PRISMA LatLon and gMaps latlon\n",
      " 5 Map PRISMA Latlons to gMaps latlons (ransac affine) and save for reference\n",
      "Band 52 did not work\n",
      "# 1 create .tif file\n",
      "# 2 Download gmaps for the same location\n",
      "Image size (pix):  (1792, 1792)\n",
      "Tile coordinate top left (north-west) corner: 1048,568\n",
      " 3 Determine matched features in PRISMA image to gMaps image with SIFT\n"
     ]
    },
    {
     "name": "stderr",
     "output_type": "stream",
     "text": [
      "  2%|▏         | 2/81 [00:02<01:31,  1.15s/it]"
     ]
    },
    {
     "name": "stdout",
     "output_type": "stream",
     "text": [
      "131.61572265625 71.40576171875\n",
      "131.609375 71.4111328125\n",
      "131.58544921875 71.3759765625\n",
      "131.61376953125 71.404296875\n",
      "131.59814453125 71.39697265625\n",
      "131.5947265625 71.3955078125\n",
      "131.5732421875 71.392578125\n",
      "131.56884765625 71.392578125\n"
     ]
    },
    {
     "name": "stderr",
     "output_type": "stream",
     "text": [
      "  4%|▎         | 3/81 [00:03<01:37,  1.26s/it]"
     ]
    },
    {
     "name": "stdout",
     "output_type": "stream",
     "text": [
      "131.61572265625 71.40576171875\n",
      "131.609375 71.4111328125\n",
      "131.5693359375 71.38232421875\n",
      "131.61376953125 71.404296875\n",
      "131.59814453125 71.39697265625\n",
      "131.5947265625 71.3955078125\n",
      "131.5732421875 71.392578125\n",
      "131.56884765625 71.392578125\n",
      "131.55615234375 71.42626953125\n"
     ]
    },
    {
     "name": "stderr",
     "output_type": "stream",
     "text": [
      "  5%|▍         | 4/81 [00:04<01:33,  1.21s/it]"
     ]
    },
    {
     "name": "stdout",
     "output_type": "stream",
     "text": [
      "131.57861328125 71.486328125\n",
      "131.5673828125 71.4990234375\n",
      "131.5654296875 71.49365234375\n",
      "131.57373046875 71.5009765625\n",
      "131.57861328125 71.48095703125\n",
      "131.55615234375 71.42626953125\n"
     ]
    },
    {
     "name": "stderr",
     "output_type": "stream",
     "text": [
      "  6%|▌         | 5/81 [00:05<01:33,  1.22s/it]"
     ]
    },
    {
     "name": "stdout",
     "output_type": "stream",
     "text": [
      "131.56640625 71.54296875\n",
      "131.56640625 71.533203125\n",
      "131.57861328125 71.486328125\n",
      "131.564453125 71.52587890625\n",
      "131.55859375 71.53759765625\n",
      "131.5673828125 71.4990234375\n",
      "131.5654296875 71.49365234375\n",
      "131.57861328125 71.48095703125\n",
      "131.55615234375 71.5361328125\n"
     ]
    },
    {
     "name": "stderr",
     "output_type": "stream",
     "text": [
      "  7%|▋         | 6/81 [00:08<01:57,  1.57s/it]"
     ]
    },
    {
     "name": "stdout",
     "output_type": "stream",
     "text": [
      "131.56640625 71.54296875\n",
      "131.56591796875 71.53955078125\n",
      "131.54931640625 71.57861328125\n",
      "131.564453125 71.52587890625\n",
      "131.55859375 71.53759765625\n",
      "131.5419921875 71.58056640625\n",
      "131.54248046875 71.5771484375\n",
      "131.53759765625 71.57958984375\n",
      "131.51611328125 71.55078125\n",
      "131.55224609375 71.5732421875\n",
      "131.54833984375 71.57666015625\n",
      "131.529296875 71.57421875\n",
      "131.529296875 71.572265625\n",
      "131.54931640625 71.57861328125\n",
      "131.55615234375 71.5361328125\n",
      "131.53955078125 71.61669921875\n",
      "131.54931640625 71.58447265625\n",
      "131.54931640625 71.57861328125\n",
      "131.5478515625 71.58251953125\n",
      "131.54541015625 71.58251953125\n",
      "131.54052734375 71.58447265625\n",
      "131.5419921875 71.58056640625\n",
      "131.54248046875 71.5771484375\n",
      "131.53759765625 71.57958984375\n",
      "131.5185546875 71.5869140625\n",
      "131.51806640625 71.580078125\n",
      "131.513671875 71.591796875\n",
      "131.5068359375 71.595703125\n",
      "131.51171875 71.58203125\n",
      "131.5107421875 71.58056640625\n",
      "131.50537109375 71.59521484375\n",
      "131.509765625 71.57861328125\n",
      "131.505859375 71.58447265625\n",
      "131.4853515625 71.60693359375\n",
      "131.50732421875 71.578125\n",
      "131.48828125 71.5673828125\n",
      "131.55224609375 71.5732421875\n",
      "131.54833984375 71.57666015625\n",
      "131.5458984375 71.5810546875\n",
      "131.54345703125 71.57861328125\n",
      "131.5390625 71.578125\n",
      "131.529296875 71.57421875\n",
      "131.52783203125 71.57666015625\n",
      "131.51611328125 71.58837890625\n",
      "131.51611328125 71.5712890625\n",
      "131.50146484375 71.5947265625\n",
      "131.49072265625 71.5673828125\n",
      "131.48828125 71.57275390625\n",
      "131.5537109375 71.57666015625\n",
      "131.54443359375 71.5849609375\n",
      "131.5322265625 71.57666015625\n",
      "131.529296875 71.572265625\n"
     ]
    },
    {
     "name": "stderr",
     "output_type": "stream",
     "text": [
      "  9%|▊         | 7/81 [00:11<02:32,  2.07s/it]"
     ]
    },
    {
     "name": "stdout",
     "output_type": "stream",
     "text": [
      "131.51904296875 71.5830078125\n",
      "131.50927734375 71.58984375\n",
      "131.50048828125 71.5966796875\n",
      "131.51904296875 71.57568359375\n",
      "131.53955078125 71.61669921875\n",
      "131.54931640625 71.57861328125\n",
      "131.54541015625 71.58251953125\n",
      "131.5419921875 71.58056640625\n",
      "131.50732421875 71.578125\n",
      "131.53955078125 71.61669921875\n",
      "131.529296875 71.572265625\n",
      "131.51904296875 71.57568359375\n",
      "131.53955078125 71.61669921875\n",
      "131.54052734375 71.58447265625\n",
      "131.5185546875 71.5869140625\n",
      "131.513671875 71.591796875\n",
      "131.5068359375 71.595703125\n",
      "131.51171875 71.58203125\n",
      "131.5107421875 71.58056640625\n",
      "131.50537109375 71.59521484375\n",
      "131.509765625 71.57861328125\n",
      "131.505859375 71.58447265625\n",
      "131.50732421875 71.578125\n",
      "131.48291015625 71.60888671875\n",
      "131.4912109375 71.5693359375\n",
      "131.48828125 71.5673828125\n",
      "131.51611328125 71.58837890625\n",
      "131.50146484375 71.5947265625\n",
      "131.5029296875 71.580078125\n",
      "131.48828125 71.57275390625\n",
      "131.48779296875 71.56982421875\n",
      "131.50927734375 71.58984375\n"
     ]
    },
    {
     "name": "stderr",
     "output_type": "stream",
     "text": [
      " 10%|▉         | 8/81 [00:14<02:55,  2.40s/it]"
     ]
    },
    {
     "name": "stdout",
     "output_type": "stream",
     "text": [
      "131.50048828125 71.5966796875\n",
      "131.50048828125 71.59130859375\n",
      "131.49169921875 71.6103515625\n",
      "131.53955078125 71.61669921875\n",
      "131.50732421875 71.578125\n",
      "131.53955078125 71.61669921875\n"
     ]
    },
    {
     "name": "stderr",
     "output_type": "stream",
     "text": [
      " 11%|█         | 9/81 [00:16<02:47,  2.33s/it]"
     ]
    },
    {
     "name": "stdout",
     "output_type": "stream",
     "text": [
      "131.48388671875 71.65283203125\n",
      "131.48291015625 71.60888671875\n",
      "131.4853515625 71.65283203125\n",
      "131.48486328125 71.6513671875\n"
     ]
    },
    {
     "name": "stderr",
     "output_type": "stream",
     "text": [
      " 12%|█▏        | 10/81 [00:17<02:09,  1.82s/it]"
     ]
    },
    {
     "name": "stdout",
     "output_type": "stream",
     "text": [
      "131.58544921875 71.3759765625\n",
      "131.54833984375 71.35302734375\n"
     ]
    },
    {
     "name": "stderr",
     "output_type": "stream",
     "text": [
      " 14%|█▎        | 11/81 [00:18<01:49,  1.56s/it]"
     ]
    },
    {
     "name": "stdout",
     "output_type": "stream",
     "text": [
      "131.54833984375 71.35302734375\n",
      "131.56689453125 71.41015625\n",
      "131.5732421875 71.392578125\n",
      "131.54833984375 71.4033203125\n",
      "131.56884765625 71.392578125\n"
     ]
    },
    {
     "name": "stderr",
     "output_type": "stream",
     "text": [
      " 15%|█▍        | 12/81 [00:19<01:34,  1.37s/it]"
     ]
    },
    {
     "name": "stdout",
     "output_type": "stream",
     "text": [
      "131.5693359375 71.38232421875\n",
      "131.56689453125 71.41015625\n",
      "131.5732421875 71.392578125\n",
      "131.56884765625 71.392578125\n",
      "131.55615234375 71.42626953125\n"
     ]
    },
    {
     "name": "stderr",
     "output_type": "stream",
     "text": [
      " 16%|█▌        | 13/81 [00:20<01:21,  1.20s/it]"
     ]
    },
    {
     "name": "stdout",
     "output_type": "stream",
     "text": [
      "131.55615234375 71.42626953125\n"
     ]
    },
    {
     "name": "stderr",
     "output_type": "stream",
     "text": [
      " 17%|█▋        | 14/81 [00:20<01:16,  1.13s/it]"
     ]
    },
    {
     "name": "stdout",
     "output_type": "stream",
     "text": [
      "131.52197265625 71.5126953125\n"
     ]
    },
    {
     "name": "stderr",
     "output_type": "stream",
     "text": [
      " 19%|█▊        | 15/81 [00:22<01:16,  1.16s/it]"
     ]
    },
    {
     "name": "stdout",
     "output_type": "stream",
     "text": [
      "131.51611328125 71.55078125\n"
     ]
    },
    {
     "name": "stderr",
     "output_type": "stream",
     "text": [
      " 20%|█▉        | 16/81 [00:24<01:29,  1.38s/it]"
     ]
    },
    {
     "name": "stdout",
     "output_type": "stream",
     "text": [
      "131.5068359375 71.595703125\n",
      "131.51171875 71.58203125\n",
      "131.5107421875 71.58056640625\n",
      "131.50537109375 71.59521484375\n",
      "131.509765625 71.57861328125\n",
      "131.505859375 71.58447265625\n",
      "131.4853515625 71.60693359375\n",
      "131.50732421875 71.578125\n",
      "131.51611328125 71.55078125\n",
      "131.4912109375 71.5693359375\n",
      "131.48828125 71.5673828125\n",
      "131.50146484375 71.5947265625\n",
      "131.5029296875 71.580078125\n",
      "131.49072265625 71.5673828125\n",
      "131.48828125 71.57275390625\n",
      "131.50048828125 71.59130859375\n",
      "131.50732421875 71.578125\n"
     ]
    },
    {
     "name": "stderr",
     "output_type": "stream",
     "text": [
      " 21%|██        | 17/81 [00:26<01:50,  1.73s/it]"
     ]
    },
    {
     "name": "stdout",
     "output_type": "stream",
     "text": [
      "131.5068359375 71.595703125\n",
      "131.51171875 71.58203125\n",
      "131.5107421875 71.58056640625\n",
      "131.50537109375 71.59521484375\n",
      "131.509765625 71.57861328125\n",
      "131.505859375 71.58447265625\n",
      "131.50732421875 71.578125\n",
      "131.48291015625 71.60888671875\n",
      "131.4912109375 71.5693359375\n",
      "131.48828125 71.5673828125\n",
      "131.44970703125 71.62158203125\n",
      "131.50146484375 71.5947265625\n",
      "131.5029296875 71.580078125\n",
      "131.50048828125 71.5966796875\n",
      "131.49169921875 71.6103515625\n",
      "131.50732421875 71.578125\n"
     ]
    },
    {
     "name": "stderr",
     "output_type": "stream",
     "text": [
      " 22%|██▏       | 18/81 [00:28<01:48,  1.73s/it]"
     ]
    },
    {
     "name": "stdout",
     "output_type": "stream",
     "text": [
      "131.48388671875 71.65283203125\n",
      "131.48291015625 71.60888671875\n",
      "131.44970703125 71.62158203125\n",
      "131.4287109375 71.63330078125\n",
      "131.45654296875 71.6416015625\n",
      "131.4853515625 71.65283203125\n",
      "131.48486328125 71.6513671875\n"
     ]
    },
    {
     "name": "stderr",
     "output_type": "stream",
     "text": [
      " 23%|██▎       | 19/81 [00:29<01:27,  1.41s/it]"
     ]
    },
    {
     "name": "stdout",
     "output_type": "stream",
     "text": [
      "131.54833984375 71.35302734375\n"
     ]
    },
    {
     "name": "stderr",
     "output_type": "stream",
     "text": [
      " 26%|██▌       | 21/81 [00:29<00:53,  1.12it/s]"
     ]
    },
    {
     "name": "stdout",
     "output_type": "stream",
     "text": [
      "131.54833984375 71.35302734375\n"
     ]
    },
    {
     "name": "stderr",
     "output_type": "stream",
     "text": [
      " 31%|███       | 25/81 [00:31<00:38,  1.45it/s]"
     ]
    },
    {
     "name": "stdout",
     "output_type": "stream",
     "text": [
      "131.49072265625 71.5888671875\n"
     ]
    },
    {
     "name": "stderr",
     "output_type": "stream",
     "text": [
      " 32%|███▏      | 26/81 [00:32<00:42,  1.28it/s]"
     ]
    },
    {
     "name": "stdout",
     "output_type": "stream",
     "text": [
      "131.44970703125 71.62158203125\n"
     ]
    },
    {
     "name": "stderr",
     "output_type": "stream",
     "text": [
      " 33%|███▎      | 27/81 [00:34<00:47,  1.13it/s]"
     ]
    },
    {
     "name": "stdout",
     "output_type": "stream",
     "text": [
      "131.4443359375 71.63916015625\n",
      "131.44970703125 71.62158203125\n",
      "131.43505859375 71.63623046875\n",
      "131.4287109375 71.63330078125\n"
     ]
    },
    {
     "name": "stderr",
     "output_type": "stream",
     "text": [
      " 42%|████▏     | 34/81 [00:35<00:18,  2.49it/s]"
     ]
    },
    {
     "name": "stdout",
     "output_type": "stream",
     "text": [
      "131.45361328125 71.55224609375\n"
     ]
    },
    {
     "name": "stderr",
     "output_type": "stream",
     "text": [
      " 95%|█████████▌| 77/81 [00:46<00:01,  2.13it/s]"
     ]
    },
    {
     "name": "stdout",
     "output_type": "stream",
     "text": [
      "131.2646484375 71.39697265625\n"
     ]
    },
    {
     "name": "stderr",
     "output_type": "stream",
     "text": [
      "100%|██████████| 81/81 [00:48<00:00,  1.67it/s]\n"
     ]
    },
    {
     "name": "stdout",
     "output_type": "stream",
     "text": [
      " 4 Define mapping between PRISMA LatLon and gMaps latlon\n",
      " 5 Map PRISMA Latlons to gMaps latlons (ransac affine) and save for reference\n",
      "Band 53 did not work\n",
      "# 1 create .tif file\n",
      "# 2 Download gmaps for the same location\n",
      "Image size (pix):  (1792, 1792)\n",
      "Tile coordinate top left (north-west) corner: 1048,568\n",
      " 3 Determine matched features in PRISMA image to gMaps image with SIFT\n"
     ]
    },
    {
     "name": "stderr",
     "output_type": "stream",
     "text": [
      "  2%|▏         | 2/81 [00:02<01:25,  1.09s/it]"
     ]
    },
    {
     "name": "stdout",
     "output_type": "stream",
     "text": [
      "131.61572265625 71.40576171875\n",
      "131.609375 71.4111328125\n",
      "131.61376953125 71.404296875\n",
      "131.5947265625 71.3955078125\n",
      "131.5732421875 71.392578125\n",
      "131.56884765625 71.392578125\n"
     ]
    },
    {
     "name": "stderr",
     "output_type": "stream",
     "text": [
      "  4%|▎         | 3/81 [00:03<01:38,  1.26s/it]"
     ]
    },
    {
     "name": "stdout",
     "output_type": "stream",
     "text": [
      "131.61572265625 71.40576171875\n",
      "131.609375 71.4111328125\n",
      "131.61376953125 71.404296875\n",
      "131.5947265625 71.3955078125\n",
      "131.5732421875 71.392578125\n",
      "131.56884765625 71.392578125\n",
      "131.55615234375 71.42626953125\n"
     ]
    },
    {
     "name": "stderr",
     "output_type": "stream",
     "text": [
      "  5%|▍         | 4/81 [00:05<01:45,  1.36s/it]"
     ]
    },
    {
     "name": "stdout",
     "output_type": "stream",
     "text": [
      "131.57861328125 71.486328125\n",
      "131.5673828125 71.4990234375\n",
      "131.5654296875 71.49365234375\n",
      "131.57373046875 71.5009765625\n",
      "131.57861328125 71.48095703125\n",
      "131.5810546875 71.46240234375\n",
      "131.55615234375 71.42626953125\n"
     ]
    },
    {
     "name": "stderr",
     "output_type": "stream",
     "text": [
      "  6%|▌         | 5/81 [00:06<01:39,  1.31s/it]"
     ]
    },
    {
     "name": "stdout",
     "output_type": "stream",
     "text": [
      "131.56640625 71.54296875\n",
      "131.56640625 71.533203125\n",
      "131.57861328125 71.486328125\n",
      "131.55859375 71.53759765625\n",
      "131.5673828125 71.4990234375\n",
      "131.5654296875 71.49365234375\n",
      "131.57861328125 71.48095703125\n",
      "131.55615234375 71.5361328125\n"
     ]
    },
    {
     "name": "stderr",
     "output_type": "stream",
     "text": [
      "  7%|▋         | 6/81 [00:08<02:12,  1.77s/it]"
     ]
    },
    {
     "name": "stdout",
     "output_type": "stream",
     "text": [
      "131.56640625 71.54296875\n",
      "131.56591796875 71.53955078125\n",
      "131.55078125 71.57470703125\n",
      "131.55859375 71.53759765625\n",
      "131.5419921875 71.58056640625\n",
      "131.54248046875 71.5771484375\n",
      "131.51611328125 71.55078125\n",
      "131.55224609375 71.5732421875\n",
      "131.54833984375 71.57666015625\n",
      "131.54638671875 71.57275390625\n",
      "131.529296875 71.572265625\n",
      "131.55615234375 71.5361328125\n",
      "131.54931640625 71.58447265625\n",
      "131.55078125 71.57470703125\n",
      "131.54541015625 71.58251953125\n",
      "131.54052734375 71.58447265625\n",
      "131.5419921875 71.58056640625\n",
      "131.54248046875 71.5771484375\n",
      "131.53759765625 71.57958984375\n",
      "131.525390625 71.576171875\n",
      "131.513671875 71.591796875\n",
      "131.5068359375 71.595703125\n",
      "131.51171875 71.58203125\n",
      "131.5107421875 71.58056640625\n",
      "131.50537109375 71.59521484375\n",
      "131.509765625 71.57861328125\n",
      "131.505859375 71.58447265625\n",
      "131.50732421875 71.578125\n",
      "131.48828125 71.5673828125\n",
      "131.56494140625 71.54345703125\n",
      "131.53955078125 71.61669921875\n",
      "131.55224609375 71.5732421875\n",
      "131.54833984375 71.57666015625\n",
      "131.5458984375 71.5810546875\n",
      "131.54345703125 71.57861328125\n",
      "131.5390625 71.578125\n",
      "131.529296875 71.57421875\n",
      "131.52783203125 71.57666015625\n",
      "131.51611328125 71.5712890625\n",
      "131.50146484375 71.5947265625\n",
      "131.49072265625 71.5673828125\n",
      "131.48828125 71.57275390625\n",
      "131.5537109375 71.57666015625\n",
      "131.54443359375 71.5849609375\n"
     ]
    },
    {
     "name": "stderr",
     "output_type": "stream",
     "text": [
      "  9%|▊         | 7/81 [00:12<02:43,  2.20s/it]"
     ]
    },
    {
     "name": "stdout",
     "output_type": "stream",
     "text": [
      "131.5322265625 71.57666015625\n",
      "131.529296875 71.572265625\n",
      "131.50927734375 71.58984375\n",
      "131.50048828125 71.5966796875\n",
      "131.51904296875 71.57568359375\n",
      "131.4970703125 71.57958984375\n",
      "131.54541015625 71.58251953125\n",
      "131.5419921875 71.58056640625\n",
      "131.50732421875 71.578125\n",
      "131.53955078125 71.61669921875\n",
      "131.53955078125 71.61669921875\n",
      "131.529296875 71.572265625\n",
      "131.51904296875 71.57568359375\n"
     ]
    },
    {
     "name": "stderr",
     "output_type": "stream",
     "text": [
      " 10%|▉         | 8/81 [00:15<03:04,  2.52s/it]"
     ]
    },
    {
     "name": "stdout",
     "output_type": "stream",
     "text": [
      "131.50830078125 71.62890625\n",
      "131.513671875 71.591796875\n",
      "131.5068359375 71.595703125\n",
      "131.51171875 71.58203125\n",
      "131.5107421875 71.58056640625\n",
      "131.50537109375 71.59521484375\n",
      "131.509765625 71.57861328125\n",
      "131.50732421875 71.578125\n",
      "131.48291015625 71.60888671875\n",
      "131.4912109375 71.5693359375\n",
      "131.48828125 71.5673828125\n",
      "131.53955078125 71.61669921875\n",
      "131.50146484375 71.5947265625\n",
      "131.5029296875 71.580078125\n",
      "131.48828125 71.57275390625\n",
      "131.50927734375 71.58984375\n",
      "131.50048828125 71.5966796875\n",
      "131.50732421875 71.578125\n",
      "131.53955078125 71.61669921875\n",
      "131.53955078125 71.61669921875\n"
     ]
    },
    {
     "name": "stderr",
     "output_type": "stream",
     "text": [
      " 11%|█         | 9/81 [00:16<02:43,  2.28s/it]"
     ]
    },
    {
     "name": "stdout",
     "output_type": "stream",
     "text": [
      "131.50830078125 71.62890625\n",
      "131.48388671875 71.65283203125\n",
      "131.48291015625 71.60888671875\n",
      "131.48486328125 71.6513671875\n"
     ]
    },
    {
     "name": "stderr",
     "output_type": "stream",
     "text": [
      " 12%|█▏        | 10/81 [00:17<02:08,  1.80s/it]"
     ]
    },
    {
     "name": "stdout",
     "output_type": "stream",
     "text": [
      "131.54833984375 71.35302734375\n"
     ]
    },
    {
     "name": "stderr",
     "output_type": "stream",
     "text": [
      " 14%|█▎        | 11/81 [00:18<01:51,  1.60s/it]"
     ]
    },
    {
     "name": "stdout",
     "output_type": "stream",
     "text": [
      "131.54833984375 71.35302734375\n",
      "131.56689453125 71.41015625\n",
      "131.5732421875 71.392578125\n",
      "131.56884765625 71.392578125\n"
     ]
    },
    {
     "name": "stderr",
     "output_type": "stream",
     "text": [
      " 15%|█▍        | 12/81 [00:19<01:37,  1.41s/it]"
     ]
    },
    {
     "name": "stdout",
     "output_type": "stream",
     "text": [
      "131.5732421875 71.392578125\n",
      "131.56884765625 71.392578125\n",
      "131.55615234375 71.42626953125\n"
     ]
    },
    {
     "name": "stderr",
     "output_type": "stream",
     "text": [
      " 16%|█▌        | 13/81 [00:20<01:27,  1.29s/it]"
     ]
    },
    {
     "name": "stdout",
     "output_type": "stream",
     "text": [
      "131.55615234375 71.42626953125\n"
     ]
    },
    {
     "name": "stderr",
     "output_type": "stream",
     "text": [
      " 17%|█▋        | 14/81 [00:21<01:15,  1.12s/it]"
     ]
    },
    {
     "name": "stdout",
     "output_type": "stream",
     "text": [
      "131.52197265625 71.5126953125\n"
     ]
    },
    {
     "name": "stderr",
     "output_type": "stream",
     "text": [
      " 19%|█▊        | 15/81 [00:22<01:12,  1.11s/it]"
     ]
    },
    {
     "name": "stdout",
     "output_type": "stream",
     "text": [
      "131.51611328125 71.55078125\n"
     ]
    },
    {
     "name": "stderr",
     "output_type": "stream",
     "text": [
      " 20%|█▉        | 16/81 [00:24<01:28,  1.37s/it]"
     ]
    },
    {
     "name": "stdout",
     "output_type": "stream",
     "text": [
      "131.5068359375 71.595703125\n",
      "131.51171875 71.58203125\n",
      "131.5107421875 71.58056640625\n",
      "131.50537109375 71.59521484375\n",
      "131.509765625 71.57861328125\n",
      "131.505859375 71.58447265625\n",
      "131.4853515625 71.60693359375\n",
      "131.50732421875 71.578125\n",
      "131.51611328125 71.55078125\n",
      "131.4912109375 71.5693359375\n",
      "131.48828125 71.5673828125\n",
      "131.50146484375 71.5947265625\n",
      "131.5029296875 71.580078125\n",
      "131.49072265625 71.5673828125\n",
      "131.48828125 71.57275390625\n",
      "131.4970703125 71.57958984375\n",
      "131.50732421875 71.578125\n",
      "131.5068359375 71.595703125\n",
      "131.51171875 71.58203125\n",
      "131.5107421875 71.58056640625\n",
      "131.50537109375 71.59521484375\n",
      "131.509765625 71.57861328125\n",
      "131.505859375 71.58447265625\n",
      "131.50732421875 71.578125\n",
      "131.48291015625 71.60888671875\n",
      "131.4912109375 71.5693359375\n",
      "131.48828125 71.5673828125\n",
      "131.44970703125 71.62158203125\n",
      "131.50146484375 71.5947265625\n",
      "131.5029296875 71.580078125\n",
      "131.48828125 71.57275390625\n"
     ]
    },
    {
     "name": "stderr",
     "output_type": "stream",
     "text": [
      " 21%|██        | 17/81 [00:27<01:52,  1.76s/it]"
     ]
    },
    {
     "name": "stdout",
     "output_type": "stream",
     "text": [
      "131.50048828125 71.5966796875\n",
      "131.49169921875 71.6103515625\n",
      "131.50732421875 71.578125\n"
     ]
    },
    {
     "name": "stderr",
     "output_type": "stream",
     "text": [
      " 22%|██▏       | 18/81 [00:29<01:52,  1.78s/it]"
     ]
    },
    {
     "name": "stdout",
     "output_type": "stream",
     "text": [
      "131.48388671875 71.65283203125\n",
      "131.48291015625 71.60888671875\n",
      "131.44970703125 71.62158203125\n",
      "131.4287109375 71.63330078125\n",
      "131.45654296875 71.6416015625\n",
      "131.48486328125 71.6513671875\n"
     ]
    },
    {
     "name": "stderr",
     "output_type": "stream",
     "text": [
      " 23%|██▎       | 19/81 [00:29<01:29,  1.45s/it]"
     ]
    },
    {
     "name": "stdout",
     "output_type": "stream",
     "text": [
      "131.54833984375 71.35302734375\n"
     ]
    },
    {
     "name": "stderr",
     "output_type": "stream",
     "text": [
      " 26%|██▌       | 21/81 [00:30<00:54,  1.10it/s]"
     ]
    },
    {
     "name": "stdout",
     "output_type": "stream",
     "text": [
      "131.54833984375 71.35302734375\n"
     ]
    },
    {
     "name": "stderr",
     "output_type": "stream",
     "text": [
      " 31%|███       | 25/81 [00:32<00:38,  1.46it/s]"
     ]
    },
    {
     "name": "stdout",
     "output_type": "stream",
     "text": [
      "131.49072265625 71.5888671875\n"
     ]
    },
    {
     "name": "stderr",
     "output_type": "stream",
     "text": [
      " 32%|███▏      | 26/81 [00:33<00:46,  1.19it/s]"
     ]
    },
    {
     "name": "stdout",
     "output_type": "stream",
     "text": [
      "131.44970703125 71.62158203125\n"
     ]
    },
    {
     "name": "stderr",
     "output_type": "stream",
     "text": [
      " 33%|███▎      | 27/81 [00:35<00:51,  1.05it/s]"
     ]
    },
    {
     "name": "stdout",
     "output_type": "stream",
     "text": [
      "131.44970703125 71.62158203125\n",
      "131.4443359375 71.63916015625\n",
      "131.43505859375 71.63623046875\n",
      "131.4287109375 71.63330078125\n"
     ]
    },
    {
     "name": "stderr",
     "output_type": "stream",
     "text": [
      " 42%|████▏     | 34/81 [00:37<00:23,  2.04it/s]"
     ]
    },
    {
     "name": "stdout",
     "output_type": "stream",
     "text": [
      "131.45361328125 71.55224609375\n"
     ]
    },
    {
     "name": "stderr",
     "output_type": "stream",
     "text": [
      " 95%|█████████▌| 77/81 [00:49<00:02,  1.97it/s]"
     ]
    },
    {
     "name": "stdout",
     "output_type": "stream",
     "text": [
      "131.2646484375 71.39697265625\n"
     ]
    },
    {
     "name": "stderr",
     "output_type": "stream",
     "text": [
      "100%|██████████| 81/81 [00:51<00:00,  1.57it/s]\n"
     ]
    },
    {
     "name": "stdout",
     "output_type": "stream",
     "text": [
      " 4 Define mapping between PRISMA LatLon and gMaps latlon\n",
      " 5 Map PRISMA Latlons to gMaps latlons (ransac affine) and save for reference\n",
      "Band 54 did not work\n",
      "# 1 create .tif file\n",
      "# 2 Download gmaps for the same location\n",
      "Image size (pix):  (1792, 1792)\n",
      "Tile coordinate top left (north-west) corner: 1048,568\n",
      " 3 Determine matched features in PRISMA image to gMaps image with SIFT\n"
     ]
    },
    {
     "name": "stderr",
     "output_type": "stream",
     "text": [
      "  2%|▏         | 2/81 [00:02<01:38,  1.25s/it]"
     ]
    },
    {
     "name": "stdout",
     "output_type": "stream",
     "text": [
      "131.61572265625 71.40576171875\n",
      "131.609375 71.4111328125\n",
      "131.61376953125 71.404296875\n",
      "131.5732421875 71.392578125\n",
      "131.56884765625 71.392578125\n"
     ]
    },
    {
     "name": "stderr",
     "output_type": "stream",
     "text": [
      "  4%|▎         | 3/81 [00:03<01:39,  1.28s/it]"
     ]
    },
    {
     "name": "stdout",
     "output_type": "stream",
     "text": [
      "131.61572265625 71.40576171875\n",
      "131.609375 71.4111328125\n",
      "131.5810546875 71.46240234375\n",
      "131.61376953125 71.404296875\n",
      "131.5732421875 71.392578125\n",
      "131.5810546875 71.46240234375\n",
      "131.56884765625 71.392578125\n"
     ]
    },
    {
     "name": "stderr",
     "output_type": "stream",
     "text": [
      "  5%|▍         | 4/81 [00:05<01:47,  1.40s/it]"
     ]
    },
    {
     "name": "stdout",
     "output_type": "stream",
     "text": [
      "131.57861328125 71.486328125\n",
      "131.5673828125 71.4990234375\n",
      "131.5654296875 71.49365234375\n",
      "131.57958984375 71.5068359375\n",
      "131.57861328125 71.48095703125\n",
      "131.5810546875 71.46240234375\n"
     ]
    },
    {
     "name": "stderr",
     "output_type": "stream",
     "text": [
      "  6%|▌         | 5/81 [00:06<01:44,  1.38s/it]"
     ]
    },
    {
     "name": "stdout",
     "output_type": "stream",
     "text": [
      "131.56640625 71.54296875\n",
      "131.56640625 71.533203125\n",
      "131.57861328125 71.486328125\n",
      "131.55859375 71.53759765625\n",
      "131.55615234375 71.5361328125\n",
      "131.5673828125 71.4990234375\n",
      "131.5654296875 71.49365234375\n",
      "131.57861328125 71.48095703125\n"
     ]
    },
    {
     "name": "stderr",
     "output_type": "stream",
     "text": [
      "  7%|▋         | 6/81 [00:08<01:58,  1.59s/it]"
     ]
    },
    {
     "name": "stdout",
     "output_type": "stream",
     "text": [
      "131.56640625 71.54296875\n",
      "131.56591796875 71.53955078125\n",
      "131.54931640625 71.57861328125\n",
      "131.55078125 71.57470703125\n",
      "131.5458984375 71.57666015625\n",
      "131.55859375 71.53759765625\n",
      "131.54248046875 71.5771484375\n",
      "131.5419921875 71.5791015625\n",
      "131.55615234375 71.5361328125\n",
      "131.53759765625 71.57958984375\n",
      "131.51611328125 71.55078125\n",
      "131.55224609375 71.5732421875\n",
      "131.54833984375 71.57666015625\n",
      "131.54638671875 71.57275390625\n",
      "131.529296875 71.572265625\n",
      "131.54931640625 71.57861328125\n",
      "131.5419921875 71.58056640625\n",
      "131.54931640625 71.58447265625\n",
      "131.54931640625 71.57861328125\n",
      "131.55078125 71.57470703125\n",
      "131.54541015625 71.58251953125\n",
      "131.5458984375 71.57666015625\n",
      "131.54052734375 71.58447265625\n",
      "131.5419921875 71.58056640625\n",
      "131.54248046875 71.5771484375\n",
      "131.5419921875 71.5791015625\n",
      "131.53759765625 71.57958984375\n",
      "131.52587890625 71.578125\n",
      "131.513671875 71.591796875\n",
      "131.5068359375 71.595703125\n",
      "131.51171875 71.58203125\n",
      "131.5107421875 71.58056640625\n",
      "131.50537109375 71.59521484375\n",
      "131.505859375 71.58447265625\n",
      "131.50732421875 71.578125\n",
      "131.48828125 71.5673828125\n",
      "131.53955078125 71.61669921875\n",
      "131.55224609375 71.5732421875\n",
      "131.54833984375 71.57666015625\n",
      "131.5458984375 71.5810546875\n",
      "131.54345703125 71.57861328125\n",
      "131.5390625 71.578125\n",
      "131.52783203125 71.57666015625\n",
      "131.51611328125 71.5712890625\n",
      "131.50146484375 71.5947265625\n",
      "131.49072265625 71.5673828125\n",
      "131.48828125 71.57275390625\n",
      "131.54443359375 71.5849609375\n",
      "131.5322265625 71.57666015625\n",
      "131.529296875 71.572265625\n",
      "131.50927734375 71.58984375\n",
      "131.50048828125 71.5966796875\n",
      "131.51904296875 71.57568359375\n",
      "131.4970703125 71.57958984375\n"
     ]
    },
    {
     "name": "stderr",
     "output_type": "stream",
     "text": [
      "  9%|▊         | 7/81 [00:11<02:30,  2.03s/it]"
     ]
    },
    {
     "name": "stdout",
     "output_type": "stream",
     "text": [
      "131.54931640625 71.57861328125\n",
      "131.54541015625 71.58251953125\n",
      "131.5419921875 71.58056640625\n",
      "131.50732421875 71.578125\n",
      "131.53955078125 71.61669921875\n",
      "131.53955078125 71.61669921875\n",
      "131.529296875 71.572265625\n",
      "131.51904296875 71.57568359375\n",
      "131.5068359375 71.595703125\n",
      "131.51171875 71.58203125\n",
      "131.5107421875 71.58056640625\n",
      "131.50537109375 71.59521484375\n",
      "131.50732421875 71.578125\n",
      "131.48291015625 71.60888671875\n",
      "131.5361328125 71.654296875\n",
      "131.4912109375 71.5693359375\n",
      "131.48828125 71.5673828125\n",
      "131.53955078125 71.61669921875\n",
      "131.50146484375 71.5947265625\n",
      "131.5029296875 71.580078125\n",
      "131.48828125 71.57275390625\n",
      "131.50927734375 71.58984375\n",
      "131.50048828125 71.5966796875\n",
      "131.50048828125 71.59130859375\n",
      "131.50732421875 71.578125\n",
      "131.53955078125 71.61669921875\n"
     ]
    },
    {
     "name": "stderr",
     "output_type": "stream",
     "text": [
      " 10%|▉         | 8/81 [00:14<02:51,  2.36s/it]"
     ]
    },
    {
     "name": "stdout",
     "output_type": "stream",
     "text": [
      "131.53955078125 71.61669921875\n"
     ]
    },
    {
     "name": "stderr",
     "output_type": "stream",
     "text": [
      " 11%|█         | 9/81 [00:16<02:38,  2.20s/it]"
     ]
    },
    {
     "name": "stdout",
     "output_type": "stream",
     "text": [
      "131.48388671875 71.65283203125\n",
      "131.48291015625 71.60888671875\n",
      "131.48486328125 71.6513671875\n"
     ]
    },
    {
     "name": "stderr",
     "output_type": "stream",
     "text": [
      " 12%|█▏        | 10/81 [00:17<02:02,  1.73s/it]"
     ]
    },
    {
     "name": "stdout",
     "output_type": "stream",
     "text": [
      "131.54833984375 71.35302734375\n"
     ]
    },
    {
     "name": "stderr",
     "output_type": "stream",
     "text": [
      " 14%|█▎        | 11/81 [00:18<01:43,  1.47s/it]"
     ]
    },
    {
     "name": "stdout",
     "output_type": "stream",
     "text": [
      "131.54833984375 71.35302734375\n",
      "131.56689453125 71.41015625\n",
      "131.5732421875 71.392578125\n",
      "131.56884765625 71.392578125\n"
     ]
    },
    {
     "name": "stderr",
     "output_type": "stream",
     "text": [
      " 15%|█▍        | 12/81 [00:18<01:30,  1.31s/it]"
     ]
    },
    {
     "name": "stdout",
     "output_type": "stream",
     "text": [
      "131.5732421875 71.392578125\n",
      "131.56884765625 71.392578125\n"
     ]
    },
    {
     "name": "stderr",
     "output_type": "stream",
     "text": [
      " 17%|█▋        | 14/81 [00:20<01:06,  1.01it/s]"
     ]
    },
    {
     "name": "stdout",
     "output_type": "stream",
     "text": [
      "131.52197265625 71.5126953125\n"
     ]
    },
    {
     "name": "stderr",
     "output_type": "stream",
     "text": [
      " 19%|█▊        | 15/81 [00:21<01:04,  1.02it/s]"
     ]
    },
    {
     "name": "stdout",
     "output_type": "stream",
     "text": [
      "131.51611328125 71.55078125\n"
     ]
    },
    {
     "name": "stderr",
     "output_type": "stream",
     "text": [
      " 20%|█▉        | 16/81 [00:23<01:26,  1.33s/it]"
     ]
    },
    {
     "name": "stdout",
     "output_type": "stream",
     "text": [
      "131.5068359375 71.595703125\n",
      "131.51171875 71.58203125\n",
      "131.5107421875 71.58056640625\n",
      "131.50537109375 71.59521484375\n",
      "131.505859375 71.58447265625\n",
      "131.4853515625 71.60693359375\n",
      "131.50732421875 71.578125\n",
      "131.51611328125 71.55078125\n",
      "131.4912109375 71.5693359375\n",
      "131.48828125 71.5673828125\n",
      "131.50146484375 71.5947265625\n",
      "131.5029296875 71.580078125\n",
      "131.49072265625 71.5673828125\n",
      "131.48828125 71.57275390625\n",
      "131.50048828125 71.59130859375\n",
      "131.4970703125 71.57958984375\n",
      "131.50732421875 71.578125\n"
     ]
    },
    {
     "name": "stderr",
     "output_type": "stream",
     "text": [
      " 21%|██        | 17/81 [00:25<01:43,  1.62s/it]"
     ]
    },
    {
     "name": "stdout",
     "output_type": "stream",
     "text": [
      "131.5068359375 71.595703125\n",
      "131.51171875 71.58203125\n",
      "131.5107421875 71.58056640625\n",
      "131.50537109375 71.59521484375\n",
      "131.505859375 71.58447265625\n",
      "131.50732421875 71.578125\n",
      "131.48291015625 71.60888671875\n",
      "131.4912109375 71.5693359375\n",
      "131.48828125 71.5673828125\n",
      "131.50146484375 71.5947265625\n",
      "131.5029296875 71.580078125\n",
      "131.48828125 71.57275390625\n",
      "131.50048828125 71.5966796875\n",
      "131.49169921875 71.6103515625\n",
      "131.50732421875 71.578125\n"
     ]
    },
    {
     "name": "stderr",
     "output_type": "stream",
     "text": [
      " 22%|██▏       | 18/81 [00:27<01:42,  1.63s/it]"
     ]
    },
    {
     "name": "stdout",
     "output_type": "stream",
     "text": [
      "131.48388671875 71.65283203125\n",
      "131.48291015625 71.60888671875\n",
      "131.4287109375 71.63330078125\n",
      "131.45654296875 71.6416015625\n",
      "131.48486328125 71.6513671875\n"
     ]
    },
    {
     "name": "stderr",
     "output_type": "stream",
     "text": [
      " 23%|██▎       | 19/81 [00:28<01:27,  1.40s/it]"
     ]
    },
    {
     "name": "stdout",
     "output_type": "stream",
     "text": [
      "131.54833984375 71.35302734375\n"
     ]
    },
    {
     "name": "stderr",
     "output_type": "stream",
     "text": [
      " 26%|██▌       | 21/81 [00:29<00:53,  1.12it/s]"
     ]
    },
    {
     "name": "stdout",
     "output_type": "stream",
     "text": [
      "131.54833984375 71.35302734375\n"
     ]
    },
    {
     "name": "stderr",
     "output_type": "stream",
     "text": [
      " 31%|███       | 25/81 [00:30<00:35,  1.59it/s]"
     ]
    },
    {
     "name": "stdout",
     "output_type": "stream",
     "text": [
      "131.49072265625 71.5888671875\n"
     ]
    },
    {
     "name": "stderr",
     "output_type": "stream",
     "text": [
      " 35%|███▍      | 28/81 [00:33<00:34,  1.52it/s]"
     ]
    },
    {
     "name": "stdout",
     "output_type": "stream",
     "text": [
      "131.4443359375 71.63916015625\n",
      "131.4287109375 71.63330078125\n"
     ]
    },
    {
     "name": "stderr",
     "output_type": "stream",
     "text": [
      " 43%|████▎     | 35/81 [00:35<00:16,  2.87it/s]"
     ]
    },
    {
     "name": "stdout",
     "output_type": "stream",
     "text": [
      "131.45361328125 71.55224609375\n"
     ]
    },
    {
     "name": "stderr",
     "output_type": "stream",
     "text": [
      " 95%|█████████▌| 77/81 [00:46<00:01,  2.01it/s]"
     ]
    },
    {
     "name": "stdout",
     "output_type": "stream",
     "text": [
      "131.2646484375 71.39697265625\n"
     ]
    },
    {
     "name": "stderr",
     "output_type": "stream",
     "text": [
      "100%|██████████| 81/81 [00:48<00:00,  1.68it/s]\n"
     ]
    },
    {
     "name": "stdout",
     "output_type": "stream",
     "text": [
      " 4 Define mapping between PRISMA LatLon and gMaps latlon\n",
      " 5 Map PRISMA Latlons to gMaps latlons (ransac affine) and save for reference\n",
      "Band 55 did not work\n",
      "# 1 create .tif file\n",
      "# 2 Download gmaps for the same location\n",
      "Image size (pix):  (1792, 1792)\n",
      "Tile coordinate top left (north-west) corner: 1048,568\n",
      " 3 Determine matched features in PRISMA image to gMaps image with SIFT\n"
     ]
    },
    {
     "name": "stderr",
     "output_type": "stream",
     "text": [
      "  2%|▏         | 2/81 [00:02<01:26,  1.10s/it]"
     ]
    },
    {
     "name": "stdout",
     "output_type": "stream",
     "text": [
      "131.61572265625 71.40576171875\n",
      "131.61376953125 71.404296875\n",
      "131.5732421875 71.392578125\n",
      "131.56884765625 71.392578125\n",
      "131.61376953125 71.404296875\n"
     ]
    },
    {
     "name": "stderr",
     "output_type": "stream",
     "text": [
      "  4%|▎         | 3/81 [00:03<01:32,  1.19s/it]"
     ]
    },
    {
     "name": "stdout",
     "output_type": "stream",
     "text": [
      "131.61572265625 71.40576171875\n",
      "131.61376953125 71.404296875\n",
      "131.5732421875 71.392578125\n",
      "131.56884765625 71.392578125\n",
      "131.61376953125 71.404296875\n"
     ]
    },
    {
     "name": "stderr",
     "output_type": "stream",
     "text": [
      "  5%|▍         | 4/81 [00:04<01:38,  1.28s/it]"
     ]
    },
    {
     "name": "stdout",
     "output_type": "stream",
     "text": [
      "131.57861328125 71.486328125\n",
      "131.57861328125 71.48095703125\n",
      "131.5673828125 71.4990234375\n",
      "131.57373046875 71.5009765625\n",
      "131.57958984375 71.5068359375\n",
      "131.5810546875 71.46240234375\n"
     ]
    },
    {
     "name": "stderr",
     "output_type": "stream",
     "text": [
      "  6%|▌         | 5/81 [00:06<01:45,  1.39s/it]"
     ]
    },
    {
     "name": "stdout",
     "output_type": "stream",
     "text": [
      "131.56640625 71.54296875\n",
      "131.56640625 71.533203125\n",
      "131.56298828125 71.53662109375\n",
      "131.57861328125 71.486328125\n",
      "131.57861328125 71.48095703125\n",
      "131.55859375 71.53759765625\n",
      "131.5673828125 71.4990234375\n",
      "131.5654296875 71.49365234375\n",
      "131.55615234375 71.5361328125\n"
     ]
    },
    {
     "name": "stderr",
     "output_type": "stream",
     "text": [
      "  7%|▋         | 6/81 [00:08<02:04,  1.67s/it]"
     ]
    },
    {
     "name": "stdout",
     "output_type": "stream",
     "text": [
      "131.56640625 71.54296875\n",
      "131.55078125 71.57470703125\n",
      "131.54931640625 71.57861328125\n",
      "131.56298828125 71.53662109375\n",
      "131.55859375 71.53759765625\n",
      "131.5419921875 71.58056640625\n",
      "131.54248046875 71.5771484375\n",
      "131.55224609375 71.5732421875\n",
      "131.54833984375 71.57666015625\n",
      "131.54638671875 71.57275390625\n",
      "131.529296875 71.57421875\n",
      "131.529296875 71.572265625\n",
      "131.54931640625 71.57861328125\n",
      "131.5419921875 71.58056640625\n",
      "131.55615234375 71.5361328125\n",
      "131.54931640625 71.58447265625\n",
      "131.55078125 71.57470703125\n",
      "131.54931640625 71.57861328125\n",
      "131.5478515625 71.58251953125\n",
      "131.54541015625 71.58251953125\n",
      "131.54052734375 71.58447265625\n",
      "131.5419921875 71.58056640625\n",
      "131.54248046875 71.5771484375\n",
      "131.53759765625 71.57958984375\n",
      "131.52587890625 71.578125\n",
      "131.525390625 71.576171875\n",
      "131.513671875 71.591796875\n",
      "131.5068359375 71.595703125\n",
      "131.51171875 71.58203125\n",
      "131.5107421875 71.58056640625\n",
      "131.50537109375 71.59521484375\n",
      "131.505859375 71.58447265625\n",
      "131.50732421875 71.578125\n",
      "131.5029296875 71.580078125\n",
      "131.48828125 71.5673828125\n",
      "131.53955078125 71.61669921875\n",
      "131.55224609375 71.5732421875\n",
      "131.54833984375 71.57666015625\n",
      "131.5458984375 71.5810546875\n",
      "131.54345703125 71.57861328125\n",
      "131.5390625 71.578125\n",
      "131.529296875 71.57421875\n",
      "131.52783203125 71.57666015625\n",
      "131.50146484375 71.5947265625\n",
      "131.49072265625 71.5673828125\n",
      "131.54443359375 71.5849609375\n",
      "131.5322265625 71.57666015625\n",
      "131.529296875 71.572265625\n",
      "131.50927734375 71.58984375\n",
      "131.50048828125 71.5966796875\n",
      "131.51904296875 71.57568359375\n"
     ]
    },
    {
     "name": "stderr",
     "output_type": "stream",
     "text": [
      "  9%|▊         | 7/81 [00:11<02:32,  2.06s/it]"
     ]
    },
    {
     "name": "stdout",
     "output_type": "stream",
     "text": [
      "131.4970703125 71.57958984375\n",
      "131.54931640625 71.57861328125\n",
      "131.5419921875 71.58056640625\n",
      "131.50732421875 71.578125\n",
      "131.53955078125 71.61669921875\n",
      "131.53955078125 71.61669921875\n",
      "131.529296875 71.572265625\n",
      "131.51904296875 71.57568359375\n"
     ]
    },
    {
     "name": "stderr",
     "output_type": "stream",
     "text": [
      " 10%|▉         | 8/81 [00:14<02:42,  2.23s/it]"
     ]
    },
    {
     "name": "stdout",
     "output_type": "stream",
     "text": [
      "131.5068359375 71.595703125\n",
      "131.51171875 71.58203125\n",
      "131.5107421875 71.58056640625\n",
      "131.50537109375 71.59521484375\n",
      "131.50732421875 71.578125\n",
      "131.50537109375 71.5791015625\n",
      "131.5029296875 71.580078125\n",
      "131.48291015625 71.60888671875\n",
      "131.5361328125 71.654296875\n",
      "131.4912109375 71.5693359375\n",
      "131.48828125 71.5673828125\n",
      "131.53955078125 71.61669921875\n",
      "131.50146484375 71.5947265625\n",
      "131.50927734375 71.58984375\n",
      "131.50048828125 71.5966796875\n",
      "131.50048828125 71.59130859375\n",
      "131.50732421875 71.578125\n",
      "131.53955078125 71.61669921875\n",
      "131.53955078125 71.61669921875\n"
     ]
    },
    {
     "name": "stderr",
     "output_type": "stream",
     "text": [
      " 11%|█         | 9/81 [00:16<02:34,  2.14s/it]"
     ]
    },
    {
     "name": "stdout",
     "output_type": "stream",
     "text": [
      "131.48388671875 71.65283203125\n",
      "131.48291015625 71.60888671875\n",
      "131.48486328125 71.6513671875\n"
     ]
    },
    {
     "name": "stderr",
     "output_type": "stream",
     "text": [
      " 12%|█▏        | 10/81 [00:16<02:01,  1.71s/it]"
     ]
    },
    {
     "name": "stdout",
     "output_type": "stream",
     "text": [
      "131.54833984375 71.35302734375\n"
     ]
    },
    {
     "name": "stderr",
     "output_type": "stream",
     "text": [
      " 14%|█▎        | 11/81 [00:17<01:44,  1.49s/it]"
     ]
    },
    {
     "name": "stdout",
     "output_type": "stream",
     "text": [
      "131.54638671875 71.416015625\n",
      "131.54833984375 71.35302734375\n",
      "131.56689453125 71.41015625\n",
      "131.5732421875 71.392578125\n",
      "131.56884765625 71.392578125\n"
     ]
    },
    {
     "name": "stderr",
     "output_type": "stream",
     "text": [
      " 15%|█▍        | 12/81 [00:18<01:29,  1.30s/it]"
     ]
    },
    {
     "name": "stdout",
     "output_type": "stream",
     "text": [
      "131.5732421875 71.392578125\n",
      "131.56884765625 71.392578125\n"
     ]
    },
    {
     "name": "stderr",
     "output_type": "stream",
     "text": [
      " 17%|█▋        | 14/81 [00:19<01:05,  1.02it/s]"
     ]
    },
    {
     "name": "stdout",
     "output_type": "stream",
     "text": [
      "131.52197265625 71.5126953125\n"
     ]
    },
    {
     "name": "stderr",
     "output_type": "stream",
     "text": [
      " 20%|█▉        | 16/81 [00:23<01:27,  1.35s/it]"
     ]
    },
    {
     "name": "stdout",
     "output_type": "stream",
     "text": [
      "131.5068359375 71.595703125\n",
      "131.51171875 71.58203125\n",
      "131.5107421875 71.58056640625\n",
      "131.50537109375 71.59521484375\n",
      "131.505859375 71.58447265625\n",
      "131.4853515625 71.60693359375\n",
      "131.50732421875 71.578125\n",
      "131.5029296875 71.580078125\n",
      "131.4912109375 71.5693359375\n",
      "131.48828125 71.5673828125\n",
      "131.50146484375 71.5947265625\n",
      "131.49072265625 71.5673828125\n",
      "131.50048828125 71.59130859375\n",
      "131.4970703125 71.57958984375\n",
      "131.50732421875 71.578125\n"
     ]
    },
    {
     "name": "stderr",
     "output_type": "stream",
     "text": [
      " 21%|██        | 17/81 [00:25<01:43,  1.61s/it]"
     ]
    },
    {
     "name": "stdout",
     "output_type": "stream",
     "text": [
      "131.5068359375 71.595703125\n",
      "131.51171875 71.58203125\n",
      "131.5107421875 71.58056640625\n",
      "131.50537109375 71.59521484375\n",
      "131.505859375 71.58447265625\n",
      "131.50732421875 71.578125\n",
      "131.5029296875 71.580078125\n",
      "131.48291015625 71.60888671875\n",
      "131.4912109375 71.5693359375\n",
      "131.48828125 71.5673828125\n",
      "131.44970703125 71.62158203125\n",
      "131.50146484375 71.5947265625\n",
      "131.50048828125 71.5966796875\n",
      "131.50732421875 71.578125\n"
     ]
    },
    {
     "name": "stderr",
     "output_type": "stream",
     "text": [
      " 22%|██▏       | 18/81 [00:27<01:43,  1.64s/it]"
     ]
    },
    {
     "name": "stdout",
     "output_type": "stream",
     "text": [
      "131.48388671875 71.65283203125\n",
      "131.48291015625 71.60888671875\n",
      "131.44970703125 71.62158203125\n",
      "131.4287109375 71.63330078125\n",
      "131.45654296875 71.6416015625\n",
      "131.48486328125 71.6513671875\n"
     ]
    },
    {
     "name": "stderr",
     "output_type": "stream",
     "text": [
      " 23%|██▎       | 19/81 [00:28<01:29,  1.45s/it]"
     ]
    },
    {
     "name": "stdout",
     "output_type": "stream",
     "text": [
      "131.54833984375 71.35302734375\n"
     ]
    },
    {
     "name": "stderr",
     "output_type": "stream",
     "text": [
      " 26%|██▌       | 21/81 [00:28<00:54,  1.10it/s]"
     ]
    },
    {
     "name": "stdout",
     "output_type": "stream",
     "text": [
      "131.54833984375 71.35302734375\n"
     ]
    },
    {
     "name": "stderr",
     "output_type": "stream",
     "text": [
      " 31%|███       | 25/81 [00:30<00:34,  1.63it/s]"
     ]
    },
    {
     "name": "stdout",
     "output_type": "stream",
     "text": [
      "131.49072265625 71.5888671875\n"
     ]
    },
    {
     "name": "stderr",
     "output_type": "stream",
     "text": [
      " 32%|███▏      | 26/81 [00:31<00:40,  1.35it/s]"
     ]
    },
    {
     "name": "stdout",
     "output_type": "stream",
     "text": [
      "131.44970703125 71.62158203125\n"
     ]
    },
    {
     "name": "stderr",
     "output_type": "stream",
     "text": [
      " 33%|███▎      | 27/81 [00:32<00:45,  1.18it/s]"
     ]
    },
    {
     "name": "stdout",
     "output_type": "stream",
     "text": [
      "131.4443359375 71.63916015625\n",
      "131.44970703125 71.62158203125\n",
      "131.4287109375 71.63330078125\n"
     ]
    },
    {
     "name": "stderr",
     "output_type": "stream",
     "text": [
      " 42%|████▏     | 34/81 [00:34<00:19,  2.44it/s]"
     ]
    },
    {
     "name": "stdout",
     "output_type": "stream",
     "text": [
      "131.45361328125 71.55224609375\n"
     ]
    },
    {
     "name": "stderr",
     "output_type": "stream",
     "text": [
      " 95%|█████████▌| 77/81 [00:46<00:01,  2.19it/s]"
     ]
    },
    {
     "name": "stdout",
     "output_type": "stream",
     "text": [
      "131.2646484375 71.39697265625\n"
     ]
    },
    {
     "name": "stderr",
     "output_type": "stream",
     "text": [
      "100%|██████████| 81/81 [00:47<00:00,  1.69it/s]\n"
     ]
    },
    {
     "name": "stdout",
     "output_type": "stream",
     "text": [
      " 4 Define mapping between PRISMA LatLon and gMaps latlon\n",
      " 5 Map PRISMA Latlons to gMaps latlons (ransac affine) and save for reference\n",
      "Band 56 did not work\n",
      "# 1 create .tif file\n",
      "# 2 Download gmaps for the same location\n",
      "Image size (pix):  (1792, 1792)\n",
      "Tile coordinate top left (north-west) corner: 1048,568\n",
      " 3 Determine matched features in PRISMA image to gMaps image with SIFT\n"
     ]
    },
    {
     "name": "stderr",
     "output_type": "stream",
     "text": [
      "  2%|▏         | 2/81 [00:02<01:25,  1.08s/it]"
     ]
    },
    {
     "name": "stdout",
     "output_type": "stream",
     "text": [
      "131.61572265625 71.40576171875\n",
      "131.61376953125 71.404296875\n",
      "131.5732421875 71.392578125\n",
      "131.56884765625 71.392578125\n",
      "131.61376953125 71.404296875\n"
     ]
    },
    {
     "name": "stderr",
     "output_type": "stream",
     "text": [
      "  4%|▎         | 3/81 [00:03<01:43,  1.33s/it]"
     ]
    },
    {
     "name": "stdout",
     "output_type": "stream",
     "text": [
      "131.61572265625 71.40576171875\n",
      "131.5693359375 71.38232421875\n",
      "131.61376953125 71.404296875\n",
      "131.5732421875 71.392578125\n",
      "131.56884765625 71.392578125\n",
      "131.61376953125 71.404296875\n"
     ]
    },
    {
     "name": "stderr",
     "output_type": "stream",
     "text": [
      "  5%|▍         | 4/81 [00:05<01:44,  1.36s/it]"
     ]
    },
    {
     "name": "stdout",
     "output_type": "stream",
     "text": [
      "131.5673828125 71.4990234375\n",
      "131.57958984375 71.5068359375\n",
      "131.57861328125 71.48095703125\n"
     ]
    },
    {
     "name": "stderr",
     "output_type": "stream",
     "text": [
      "  6%|▌         | 5/81 [00:06<01:40,  1.32s/it]"
     ]
    },
    {
     "name": "stdout",
     "output_type": "stream",
     "text": [
      "131.56591796875 71.53955078125\n",
      "131.56640625 71.533203125\n",
      "131.55859375 71.53759765625\n",
      "131.55615234375 71.5361328125\n",
      "131.5673828125 71.4990234375\n",
      "131.5654296875 71.49365234375\n",
      "131.56591796875 71.53955078125\n",
      "131.57666015625 71.54296875\n",
      "131.57861328125 71.48095703125\n"
     ]
    },
    {
     "name": "stderr",
     "output_type": "stream",
     "text": [
      "  7%|▋         | 6/81 [00:08<02:02,  1.63s/it]"
     ]
    },
    {
     "name": "stdout",
     "output_type": "stream",
     "text": [
      "131.56591796875 71.53955078125\n",
      "131.54931640625 71.57861328125\n",
      "131.55859375 71.53759765625\n",
      "131.54248046875 71.5771484375\n",
      "131.5419921875 71.5791015625\n",
      "131.55615234375 71.5361328125\n",
      "131.55224609375 71.5732421875\n",
      "131.54833984375 71.57666015625\n",
      "131.54638671875 71.57275390625\n",
      "131.529296875 71.57421875\n",
      "131.529296875 71.572265625\n",
      "131.56591796875 71.53955078125\n",
      "131.54931640625 71.57861328125\n",
      "131.54931640625 71.58447265625\n",
      "131.54931640625 71.57861328125\n",
      "131.54541015625 71.58251953125\n",
      "131.54052734375 71.58447265625\n",
      "131.5419921875 71.58056640625\n",
      "131.54248046875 71.5771484375\n",
      "131.5419921875 71.5791015625\n",
      "131.53759765625 71.57958984375\n",
      "131.5068359375 71.595703125\n",
      "131.51171875 71.58203125\n",
      "131.5107421875 71.58056640625\n",
      "131.50537109375 71.59521484375\n",
      "131.505859375 71.58447265625\n",
      "131.50732421875 71.578125\n",
      "131.5029296875 71.580078125\n",
      "131.48828125 71.5673828125\n",
      "131.53955078125 71.61669921875\n",
      "131.55224609375 71.5732421875\n",
      "131.54833984375 71.57666015625\n",
      "131.5458984375 71.5810546875\n",
      "131.54345703125 71.57861328125\n",
      "131.5390625 71.578125\n",
      "131.529296875 71.57421875\n",
      "131.50146484375 71.5947265625\n",
      "131.54443359375 71.5849609375\n",
      "131.5322265625 71.57666015625\n",
      "131.529296875 71.572265625\n",
      "131.50927734375 71.58984375\n",
      "131.50048828125 71.5966796875\n",
      "131.51904296875 71.57568359375\n",
      "131.4970703125 71.57958984375\n",
      "131.54931640625 71.57861328125\n",
      "131.54541015625 71.58251953125\n"
     ]
    },
    {
     "name": "stderr",
     "output_type": "stream",
     "text": [
      "  9%|▊         | 7/81 [00:11<02:39,  2.15s/it]"
     ]
    },
    {
     "name": "stdout",
     "output_type": "stream",
     "text": [
      "131.5419921875 71.58056640625\n",
      "131.529296875 71.572265625\n",
      "131.51904296875 71.57568359375\n"
     ]
    },
    {
     "name": "stderr",
     "output_type": "stream",
     "text": [
      " 10%|▉         | 8/81 [00:14<02:49,  2.33s/it]"
     ]
    },
    {
     "name": "stdout",
     "output_type": "stream",
     "text": [
      "131.5068359375 71.595703125\n",
      "131.51171875 71.58203125\n",
      "131.5107421875 71.58056640625\n",
      "131.50537109375 71.59521484375\n",
      "131.50732421875 71.578125\n",
      "131.50537109375 71.5791015625\n",
      "131.5029296875 71.580078125\n",
      "131.48291015625 71.60888671875\n",
      "131.4912109375 71.5693359375\n",
      "131.48828125 71.5673828125\n",
      "131.53955078125 71.61669921875\n",
      "131.50146484375 71.5947265625\n",
      "131.49072265625 71.5673828125\n",
      "131.50927734375 71.58984375\n",
      "131.50048828125 71.5966796875\n",
      "131.50048828125 71.59130859375\n"
     ]
    },
    {
     "name": "stderr",
     "output_type": "stream",
     "text": [
      " 11%|█         | 9/81 [00:16<02:36,  2.18s/it]"
     ]
    },
    {
     "name": "stdout",
     "output_type": "stream",
     "text": [
      "131.48388671875 71.65283203125\n",
      "131.48291015625 71.60888671875\n",
      "131.48486328125 71.6513671875\n"
     ]
    },
    {
     "name": "stderr",
     "output_type": "stream",
     "text": [
      " 12%|█▏        | 10/81 [00:17<02:02,  1.73s/it]"
     ]
    },
    {
     "name": "stdout",
     "output_type": "stream",
     "text": [
      "131.54833984375 71.35302734375\n"
     ]
    },
    {
     "name": "stderr",
     "output_type": "stream",
     "text": [
      " 14%|█▎        | 11/81 [00:18<01:46,  1.52s/it]"
     ]
    },
    {
     "name": "stdout",
     "output_type": "stream",
     "text": [
      "131.54833984375 71.35302734375\n",
      "131.56689453125 71.41015625\n",
      "131.5732421875 71.392578125\n",
      "131.56884765625 71.392578125\n"
     ]
    },
    {
     "name": "stderr",
     "output_type": "stream",
     "text": [
      " 15%|█▍        | 12/81 [00:19<01:32,  1.34s/it]"
     ]
    },
    {
     "name": "stdout",
     "output_type": "stream",
     "text": [
      "131.5693359375 71.38232421875\n",
      "131.5732421875 71.392578125\n",
      "131.56884765625 71.392578125\n"
     ]
    },
    {
     "name": "stderr",
     "output_type": "stream",
     "text": [
      " 17%|█▋        | 14/81 [00:20<01:08,  1.03s/it]"
     ]
    },
    {
     "name": "stdout",
     "output_type": "stream",
     "text": [
      "131.52197265625 71.5126953125\n"
     ]
    },
    {
     "name": "stderr",
     "output_type": "stream",
     "text": [
      " 20%|█▉        | 16/81 [00:23<01:29,  1.37s/it]"
     ]
    },
    {
     "name": "stdout",
     "output_type": "stream",
     "text": [
      "131.5068359375 71.595703125\n",
      "131.51171875 71.58203125\n",
      "131.5107421875 71.58056640625\n",
      "131.50537109375 71.59521484375\n",
      "131.505859375 71.58447265625\n",
      "131.50732421875 71.578125\n",
      "131.5029296875 71.580078125\n",
      "131.4912109375 71.5693359375\n",
      "131.48828125 71.5673828125\n",
      "131.50146484375 71.5947265625\n",
      "131.49072265625 71.5673828125\n",
      "131.50048828125 71.59130859375\n",
      "131.4970703125 71.57958984375\n"
     ]
    },
    {
     "name": "stderr",
     "output_type": "stream",
     "text": [
      " 21%|██        | 17/81 [00:26<01:48,  1.70s/it]"
     ]
    },
    {
     "name": "stdout",
     "output_type": "stream",
     "text": [
      "131.5068359375 71.595703125\n",
      "131.51171875 71.58203125\n",
      "131.5107421875 71.58056640625\n",
      "131.50537109375 71.59521484375\n",
      "131.505859375 71.58447265625\n",
      "131.50732421875 71.578125\n",
      "131.5029296875 71.580078125\n",
      "131.48291015625 71.60888671875\n",
      "131.4912109375 71.5693359375\n",
      "131.48828125 71.5673828125\n",
      "131.44970703125 71.62158203125\n",
      "131.44970703125 71.6103515625\n",
      "131.50146484375 71.5947265625\n",
      "131.49072265625 71.5673828125\n",
      "131.50048828125 71.5966796875\n"
     ]
    },
    {
     "name": "stderr",
     "output_type": "stream",
     "text": [
      " 22%|██▏       | 18/81 [00:28<01:52,  1.78s/it]"
     ]
    },
    {
     "name": "stdout",
     "output_type": "stream",
     "text": [
      "131.48388671875 71.65283203125\n",
      "131.48291015625 71.60888671875\n",
      "131.44970703125 71.62158203125\n",
      "131.44970703125 71.6103515625\n",
      "131.4287109375 71.63330078125\n",
      "131.45654296875 71.6416015625\n",
      "131.48486328125 71.6513671875\n"
     ]
    },
    {
     "name": "stderr",
     "output_type": "stream",
     "text": [
      " 23%|██▎       | 19/81 [00:28<01:30,  1.46s/it]"
     ]
    },
    {
     "name": "stdout",
     "output_type": "stream",
     "text": [
      "131.54833984375 71.35302734375\n"
     ]
    },
    {
     "name": "stderr",
     "output_type": "stream",
     "text": [
      " 25%|██▍       | 20/81 [00:29<01:14,  1.23s/it]"
     ]
    },
    {
     "name": "stdout",
     "output_type": "stream",
     "text": [
      "131.54833984375 71.35302734375\n"
     ]
    },
    {
     "name": "stderr",
     "output_type": "stream",
     "text": [
      " 31%|███       | 25/81 [00:31<00:35,  1.59it/s]"
     ]
    },
    {
     "name": "stdout",
     "output_type": "stream",
     "text": [
      "131.49072265625 71.5888671875\n"
     ]
    },
    {
     "name": "stderr",
     "output_type": "stream",
     "text": [
      " 32%|███▏      | 26/81 [00:32<00:43,  1.27it/s]"
     ]
    },
    {
     "name": "stdout",
     "output_type": "stream",
     "text": [
      "131.45263671875 71.625\n",
      "131.44970703125 71.62158203125\n",
      "131.44970703125 71.6103515625\n"
     ]
    },
    {
     "name": "stderr",
     "output_type": "stream",
     "text": [
      " 33%|███▎      | 27/81 [00:33<00:48,  1.11it/s]"
     ]
    },
    {
     "name": "stdout",
     "output_type": "stream",
     "text": [
      "131.44970703125 71.62158203125\n",
      "131.4443359375 71.63916015625\n",
      "131.44970703125 71.6103515625\n",
      "131.4287109375 71.63330078125\n"
     ]
    },
    {
     "name": "stderr",
     "output_type": "stream",
     "text": [
      " 43%|████▎     | 35/81 [00:36<00:16,  2.86it/s]"
     ]
    },
    {
     "name": "stdout",
     "output_type": "stream",
     "text": [
      "131.45361328125 71.55224609375\n"
     ]
    },
    {
     "name": "stderr",
     "output_type": "stream",
     "text": [
      " 95%|█████████▌| 77/81 [00:47<00:01,  2.15it/s]"
     ]
    },
    {
     "name": "stdout",
     "output_type": "stream",
     "text": [
      "131.2646484375 71.39697265625\n"
     ]
    },
    {
     "name": "stderr",
     "output_type": "stream",
     "text": [
      "100%|██████████| 81/81 [00:49<00:00,  1.65it/s]\n"
     ]
    },
    {
     "name": "stdout",
     "output_type": "stream",
     "text": [
      " 4 Define mapping between PRISMA LatLon and gMaps latlon\n",
      " 5 Map PRISMA Latlons to gMaps latlons (ransac affine) and save for reference\n",
      "Band 57 did not work\n",
      "# 1 create .tif file\n",
      "# 2 Download gmaps for the same location\n",
      "Image size (pix):  (1792, 1792)\n",
      "Tile coordinate top left (north-west) corner: 1048,568\n",
      " 3 Determine matched features in PRISMA image to gMaps image with SIFT\n"
     ]
    },
    {
     "name": "stderr",
     "output_type": "stream",
     "text": [
      "  2%|▏         | 2/81 [00:02<01:23,  1.06s/it]"
     ]
    },
    {
     "name": "stdout",
     "output_type": "stream",
     "text": [
      "131.61376953125 71.404296875\n",
      "131.5732421875 71.392578125\n",
      "131.56884765625 71.392578125\n",
      "131.61376953125 71.404296875\n"
     ]
    },
    {
     "name": "stderr",
     "output_type": "stream",
     "text": [
      "  4%|▎         | 3/81 [00:03<01:29,  1.15s/it]"
     ]
    },
    {
     "name": "stdout",
     "output_type": "stream",
     "text": [
      "131.5693359375 71.38232421875\n",
      "131.61376953125 71.404296875\n",
      "131.5732421875 71.392578125\n",
      "131.56884765625 71.392578125\n",
      "131.61376953125 71.404296875\n"
     ]
    },
    {
     "name": "stderr",
     "output_type": "stream",
     "text": [
      "  5%|▍         | 4/81 [00:04<01:32,  1.21s/it]"
     ]
    },
    {
     "name": "stdout",
     "output_type": "stream",
     "text": [
      "131.5673828125 71.4990234375\n",
      "131.57861328125 71.48095703125\n",
      "131.5810546875 71.46240234375\n"
     ]
    },
    {
     "name": "stderr",
     "output_type": "stream",
     "text": [
      "  6%|▌         | 5/81 [00:05<01:37,  1.29s/it]"
     ]
    },
    {
     "name": "stdout",
     "output_type": "stream",
     "text": [
      "131.55859375 71.53759765625\n",
      "131.55615234375 71.5361328125\n",
      "131.5673828125 71.4990234375\n",
      "131.57861328125 71.48095703125\n"
     ]
    },
    {
     "name": "stderr",
     "output_type": "stream",
     "text": [
      "  7%|▋         | 6/81 [00:07<01:52,  1.50s/it]"
     ]
    },
    {
     "name": "stdout",
     "output_type": "stream",
     "text": [
      "131.5595703125 71.5703125\n",
      "131.55859375 71.53759765625\n",
      "131.54248046875 71.5771484375\n",
      "131.55615234375 71.5361328125\n",
      "131.55224609375 71.5732421875\n",
      "131.54833984375 71.57666015625\n",
      "131.54638671875 71.57275390625\n",
      "131.529296875 71.57421875\n",
      "131.529296875 71.572265625\n",
      "131.54931640625 71.58447265625\n",
      "131.54248046875 71.5771484375\n",
      "131.53759765625 71.57958984375\n",
      "131.5068359375 71.595703125\n",
      "131.51171875 71.58203125\n",
      "131.5107421875 71.58056640625\n",
      "131.50537109375 71.59521484375\n",
      "131.505859375 71.58447265625\n",
      "131.50732421875 71.578125\n",
      "131.5029296875 71.580078125\n",
      "131.48828125 71.5673828125\n",
      "131.53955078125 71.61669921875\n",
      "131.55224609375 71.5732421875\n",
      "131.54833984375 71.57666015625\n",
      "131.5458984375 71.5810546875\n",
      "131.54345703125 71.57861328125\n",
      "131.5390625 71.578125\n",
      "131.529296875 71.57421875\n",
      "131.54443359375 71.5849609375\n"
     ]
    },
    {
     "name": "stderr",
     "output_type": "stream",
     "text": [
      "  9%|▊         | 7/81 [00:10<02:16,  1.85s/it]"
     ]
    },
    {
     "name": "stdout",
     "output_type": "stream",
     "text": [
      "131.5322265625 71.57666015625\n",
      "131.529296875 71.572265625\n",
      "131.50927734375 71.58984375\n",
      "131.50048828125 71.5966796875\n",
      "131.51904296875 71.57568359375\n",
      "131.4970703125 71.57958984375\n",
      "131.53955078125 71.61669921875\n",
      "131.529296875 71.572265625\n",
      "131.51904296875 71.57568359375\n"
     ]
    },
    {
     "name": "stderr",
     "output_type": "stream",
     "text": [
      " 10%|▉         | 8/81 [00:13<02:33,  2.10s/it]"
     ]
    },
    {
     "name": "stdout",
     "output_type": "stream",
     "text": [
      "131.5068359375 71.595703125\n",
      "131.51171875 71.58203125\n",
      "131.5107421875 71.58056640625\n",
      "131.50537109375 71.59521484375\n",
      "131.50732421875 71.578125\n",
      "131.50537109375 71.5791015625\n",
      "131.5029296875 71.580078125\n",
      "131.48291015625 71.60888671875\n",
      "131.4912109375 71.5693359375\n",
      "131.48828125 71.5673828125\n",
      "131.53955078125 71.61669921875\n",
      "131.50927734375 71.58984375\n",
      "131.50048828125 71.5966796875\n",
      "131.50048828125 71.59130859375\n",
      "131.53955078125 71.61669921875\n"
     ]
    },
    {
     "name": "stderr",
     "output_type": "stream",
     "text": [
      " 11%|█         | 9/81 [00:14<02:23,  1.99s/it]"
     ]
    },
    {
     "name": "stdout",
     "output_type": "stream",
     "text": [
      "131.48388671875 71.65283203125\n",
      "131.48291015625 71.60888671875\n",
      "131.48486328125 71.6513671875\n"
     ]
    },
    {
     "name": "stderr",
     "output_type": "stream",
     "text": [
      " 12%|█▏        | 10/81 [00:15<01:52,  1.59s/it]"
     ]
    },
    {
     "name": "stdout",
     "output_type": "stream",
     "text": [
      "131.54833984375 71.35302734375\n"
     ]
    },
    {
     "name": "stderr",
     "output_type": "stream",
     "text": [
      " 14%|█▎        | 11/81 [00:16<01:36,  1.38s/it]"
     ]
    },
    {
     "name": "stdout",
     "output_type": "stream",
     "text": [
      "131.54833984375 71.35302734375\n",
      "131.56689453125 71.41015625\n",
      "131.5732421875 71.392578125\n",
      "131.56884765625 71.392578125\n"
     ]
    },
    {
     "name": "stderr",
     "output_type": "stream",
     "text": [
      " 15%|█▍        | 12/81 [00:17<01:25,  1.24s/it]"
     ]
    },
    {
     "name": "stdout",
     "output_type": "stream",
     "text": [
      "131.5693359375 71.38232421875\n",
      "131.5732421875 71.392578125\n",
      "131.56884765625 71.392578125\n"
     ]
    },
    {
     "name": "stderr",
     "output_type": "stream",
     "text": [
      " 17%|█▋        | 14/81 [00:18<01:03,  1.06it/s]"
     ]
    },
    {
     "name": "stdout",
     "output_type": "stream",
     "text": [
      "131.52197265625 71.5126953125\n"
     ]
    },
    {
     "name": "stderr",
     "output_type": "stream",
     "text": [
      " 20%|█▉        | 16/81 [00:21<01:21,  1.25s/it]"
     ]
    },
    {
     "name": "stdout",
     "output_type": "stream",
     "text": [
      "131.5068359375 71.595703125\n",
      "131.51171875 71.58203125\n",
      "131.5107421875 71.58056640625\n",
      "131.50537109375 71.59521484375\n",
      "131.505859375 71.58447265625\n",
      "131.4853515625 71.60693359375\n",
      "131.50732421875 71.578125\n",
      "131.5029296875 71.580078125\n",
      "131.4912109375 71.5693359375\n",
      "131.48828125 71.5673828125\n",
      "131.50048828125 71.59130859375\n",
      "131.4970703125 71.57958984375\n"
     ]
    },
    {
     "name": "stderr",
     "output_type": "stream",
     "text": [
      " 21%|██        | 17/81 [00:23<01:40,  1.58s/it]"
     ]
    },
    {
     "name": "stdout",
     "output_type": "stream",
     "text": [
      "131.5068359375 71.595703125\n",
      "131.51171875 71.58203125\n",
      "131.5107421875 71.58056640625\n",
      "131.50537109375 71.59521484375\n",
      "131.505859375 71.58447265625\n",
      "131.50732421875 71.578125\n",
      "131.5029296875 71.580078125\n",
      "131.48291015625 71.60888671875\n",
      "131.4912109375 71.5693359375\n",
      "131.48828125 71.5673828125\n",
      "131.44970703125 71.62158203125\n",
      "131.50048828125 71.5966796875\n"
     ]
    },
    {
     "name": "stderr",
     "output_type": "stream",
     "text": [
      " 22%|██▏       | 18/81 [00:25<01:41,  1.61s/it]"
     ]
    },
    {
     "name": "stdout",
     "output_type": "stream",
     "text": [
      "131.48388671875 71.65283203125\n",
      "131.48291015625 71.60888671875\n",
      "131.44970703125 71.62158203125\n",
      "131.4287109375 71.63330078125\n",
      "131.45654296875 71.6416015625\n",
      "131.48486328125 71.6513671875\n",
      "131.45654296875 71.64404296875\n"
     ]
    },
    {
     "name": "stderr",
     "output_type": "stream",
     "text": [
      " 23%|██▎       | 19/81 [00:26<01:23,  1.34s/it]"
     ]
    },
    {
     "name": "stdout",
     "output_type": "stream",
     "text": [
      "131.54833984375 71.35302734375\n"
     ]
    },
    {
     "name": "stderr",
     "output_type": "stream",
     "text": [
      " 25%|██▍       | 20/81 [00:26<01:09,  1.13s/it]"
     ]
    },
    {
     "name": "stdout",
     "output_type": "stream",
     "text": [
      "131.54833984375 71.35302734375\n"
     ]
    },
    {
     "name": "stderr",
     "output_type": "stream",
     "text": [
      " 31%|███       | 25/81 [00:29<00:34,  1.62it/s]"
     ]
    },
    {
     "name": "stdout",
     "output_type": "stream",
     "text": [
      "131.49072265625 71.5888671875\n"
     ]
    },
    {
     "name": "stderr",
     "output_type": "stream",
     "text": [
      " 32%|███▏      | 26/81 [00:30<00:41,  1.33it/s]"
     ]
    },
    {
     "name": "stdout",
     "output_type": "stream",
     "text": [
      "131.44970703125 71.62158203125\n"
     ]
    },
    {
     "name": "stderr",
     "output_type": "stream",
     "text": [
      " 33%|███▎      | 27/81 [00:31<00:45,  1.17it/s]"
     ]
    },
    {
     "name": "stdout",
     "output_type": "stream",
     "text": [
      "131.44970703125 71.62158203125\n",
      "131.4287109375 71.63330078125\n",
      "131.45654296875 71.64404296875\n"
     ]
    },
    {
     "name": "stderr",
     "output_type": "stream",
     "text": [
      " 43%|████▎     | 35/81 [00:33<00:15,  2.98it/s]"
     ]
    },
    {
     "name": "stdout",
     "output_type": "stream",
     "text": [
      "131.45361328125 71.55224609375\n"
     ]
    },
    {
     "name": "stderr",
     "output_type": "stream",
     "text": [
      " 95%|█████████▌| 77/81 [00:44<00:02,  1.99it/s]"
     ]
    },
    {
     "name": "stdout",
     "output_type": "stream",
     "text": [
      "131.2646484375 71.39697265625\n"
     ]
    },
    {
     "name": "stderr",
     "output_type": "stream",
     "text": [
      "100%|██████████| 81/81 [00:46<00:00,  1.75it/s]\n"
     ]
    },
    {
     "name": "stdout",
     "output_type": "stream",
     "text": [
      " 4 Define mapping between PRISMA LatLon and gMaps latlon\n",
      " 5 Map PRISMA Latlons to gMaps latlons (ransac affine) and save for reference\n",
      "Band 58 did not work\n",
      "# 1 create .tif file\n",
      "# 2 Download gmaps for the same location\n",
      "Image size (pix):  (1792, 1792)\n",
      "Tile coordinate top left (north-west) corner: 1048,568\n",
      " 3 Determine matched features in PRISMA image to gMaps image with SIFT\n"
     ]
    },
    {
     "name": "stderr",
     "output_type": "stream",
     "text": [
      "100%|██████████| 81/81 [03:45<00:00,  2.78s/it]\n"
     ]
    },
    {
     "name": "stdout",
     "output_type": "stream",
     "text": [
      "Band 59 did not work\n",
      "# 1 create .tif file\n",
      "# 2 Download gmaps for the same location\n",
      "Image size (pix):  (1792, 1792)\n",
      "Tile coordinate top left (north-west) corner: 1048,568\n",
      " 3 Determine matched features in PRISMA image to gMaps image with SIFT\n"
     ]
    },
    {
     "name": "stderr",
     "output_type": "stream",
     "text": [
      "  2%|▏         | 2/81 [00:02<01:22,  1.05s/it]"
     ]
    },
    {
     "name": "stdout",
     "output_type": "stream",
     "text": [
      "131.61572265625 71.40576171875\n",
      "131.61376953125 71.404296875\n",
      "131.5732421875 71.392578125\n",
      "131.56884765625 71.392578125\n",
      "131.61376953125 71.404296875\n"
     ]
    },
    {
     "name": "stderr",
     "output_type": "stream",
     "text": [
      "  4%|▎         | 3/81 [00:03<01:29,  1.15s/it]"
     ]
    },
    {
     "name": "stdout",
     "output_type": "stream",
     "text": [
      "131.61572265625 71.40576171875\n",
      "131.5693359375 71.38232421875\n",
      "131.61376953125 71.404296875\n",
      "131.5732421875 71.392578125\n",
      "131.56884765625 71.392578125\n",
      "131.61376953125 71.404296875\n"
     ]
    },
    {
     "name": "stderr",
     "output_type": "stream",
     "text": [
      "  5%|▍         | 4/81 [00:04<01:34,  1.23s/it]"
     ]
    },
    {
     "name": "stdout",
     "output_type": "stream",
     "text": [
      "131.57861328125 71.48095703125\n",
      "131.5673828125 71.4990234375\n",
      "131.57958984375 71.5068359375\n"
     ]
    },
    {
     "name": "stderr",
     "output_type": "stream",
     "text": [
      "  6%|▌         | 5/81 [00:05<01:31,  1.20s/it]"
     ]
    },
    {
     "name": "stdout",
     "output_type": "stream",
     "text": [
      "131.57861328125 71.48095703125\n",
      "131.55859375 71.53759765625\n",
      "131.5673828125 71.4990234375\n",
      "131.5654296875 71.49365234375\n",
      "131.57958984375 71.5068359375\n",
      "131.55615234375 71.5361328125\n"
     ]
    },
    {
     "name": "stderr",
     "output_type": "stream",
     "text": [
      "  7%|▋         | 6/81 [00:07<01:44,  1.39s/it]"
     ]
    },
    {
     "name": "stdout",
     "output_type": "stream",
     "text": [
      "131.55859375 71.53759765625\n",
      "131.54248046875 71.5771484375\n",
      "131.55224609375 71.5732421875\n",
      "131.529296875 71.57421875\n",
      "131.529296875 71.572265625\n",
      "131.55615234375 71.5361328125\n",
      "131.54541015625 71.58251953125\n",
      "131.54248046875 71.5771484375\n",
      "131.51611328125 71.58837890625\n",
      "131.50537109375 71.59521484375\n",
      "131.505859375 71.58447265625\n",
      "131.50732421875 71.578125\n",
      "131.5029296875 71.580078125\n",
      "131.48828125 71.5673828125\n",
      "131.55224609375 71.5732421875\n",
      "131.5458984375 71.5810546875\n",
      "131.54345703125 71.57861328125\n",
      "131.5390625 71.578125\n",
      "131.529296875 71.57421875\n",
      "131.5322265625 71.57666015625\n",
      "131.529296875 71.572265625\n",
      "131.50927734375 71.58984375\n",
      "131.51904296875 71.57568359375\n"
     ]
    },
    {
     "name": "stderr",
     "output_type": "stream",
     "text": [
      "  9%|▊         | 7/81 [00:10<02:15,  1.83s/it]"
     ]
    },
    {
     "name": "stdout",
     "output_type": "stream",
     "text": [
      "131.4970703125 71.57958984375\n",
      "131.529296875 71.572265625\n",
      "131.51904296875 71.57568359375\n"
     ]
    },
    {
     "name": "stderr",
     "output_type": "stream",
     "text": [
      " 10%|▉         | 8/81 [00:12<02:32,  2.09s/it]"
     ]
    },
    {
     "name": "stdout",
     "output_type": "stream",
     "text": [
      "131.51611328125 71.58837890625\n",
      "131.50537109375 71.59521484375\n",
      "131.50732421875 71.578125\n",
      "131.5029296875 71.580078125\n",
      "131.48291015625 71.60888671875\n",
      "131.4912109375 71.5693359375\n",
      "131.48828125 71.5673828125\n",
      "131.50927734375 71.58984375\n"
     ]
    },
    {
     "name": "stderr",
     "output_type": "stream",
     "text": [
      " 11%|█         | 9/81 [00:14<02:27,  2.05s/it]"
     ]
    },
    {
     "name": "stdout",
     "output_type": "stream",
     "text": [
      "131.48388671875 71.65283203125\n",
      "131.48291015625 71.60888671875\n",
      "131.48486328125 71.6513671875\n"
     ]
    },
    {
     "name": "stderr",
     "output_type": "stream",
     "text": [
      " 14%|█▎        | 11/81 [00:16<01:44,  1.49s/it]"
     ]
    },
    {
     "name": "stdout",
     "output_type": "stream",
     "text": [
      "131.5732421875 71.392578125\n",
      "131.56884765625 71.392578125\n"
     ]
    },
    {
     "name": "stderr",
     "output_type": "stream",
     "text": [
      " 15%|█▍        | 12/81 [00:17<01:31,  1.33s/it]"
     ]
    },
    {
     "name": "stdout",
     "output_type": "stream",
     "text": [
      "131.5693359375 71.38232421875\n",
      "131.5732421875 71.392578125\n",
      "131.56884765625 71.392578125\n"
     ]
    },
    {
     "name": "stderr",
     "output_type": "stream",
     "text": [
      " 17%|█▋        | 14/81 [00:19<01:10,  1.05s/it]"
     ]
    },
    {
     "name": "stdout",
     "output_type": "stream",
     "text": [
      "131.52197265625 71.5126953125\n"
     ]
    },
    {
     "name": "stderr",
     "output_type": "stream",
     "text": [
      " 20%|█▉        | 16/81 [00:22<01:28,  1.36s/it]"
     ]
    },
    {
     "name": "stdout",
     "output_type": "stream",
     "text": [
      "131.50537109375 71.59521484375\n",
      "131.505859375 71.58447265625\n",
      "131.50732421875 71.578125\n",
      "131.5029296875 71.580078125\n",
      "131.4912109375 71.5693359375\n",
      "131.48828125 71.5673828125\n",
      "131.4970703125 71.57958984375\n"
     ]
    },
    {
     "name": "stderr",
     "output_type": "stream",
     "text": [
      " 21%|██        | 17/81 [00:24<01:48,  1.69s/it]"
     ]
    },
    {
     "name": "stdout",
     "output_type": "stream",
     "text": [
      "131.50537109375 71.59521484375\n",
      "131.50732421875 71.578125\n",
      "131.5029296875 71.580078125\n",
      "131.48291015625 71.60888671875\n",
      "131.4912109375 71.5693359375\n",
      "131.48828125 71.5673828125\n",
      "131.44970703125 71.62158203125\n"
     ]
    },
    {
     "name": "stderr",
     "output_type": "stream",
     "text": [
      " 22%|██▏       | 18/81 [00:26<01:49,  1.74s/it]"
     ]
    },
    {
     "name": "stdout",
     "output_type": "stream",
     "text": [
      "131.48388671875 71.65283203125\n",
      "131.48291015625 71.60888671875\n",
      "131.44970703125 71.62158203125\n",
      "131.4287109375 71.63330078125\n",
      "131.45654296875 71.6416015625\n",
      "131.48486328125 71.6513671875\n",
      "131.45654296875 71.64404296875\n"
     ]
    },
    {
     "name": "stderr",
     "output_type": "stream",
     "text": [
      " 23%|██▎       | 19/81 [00:27<01:28,  1.42s/it]"
     ]
    },
    {
     "name": "stdout",
     "output_type": "stream",
     "text": [
      "131.54833984375 71.35302734375\n"
     ]
    },
    {
     "name": "stderr",
     "output_type": "stream",
     "text": [
      " 26%|██▌       | 21/81 [00:28<00:56,  1.06it/s]"
     ]
    },
    {
     "name": "stdout",
     "output_type": "stream",
     "text": [
      "131.54833984375 71.35302734375\n"
     ]
    },
    {
     "name": "stderr",
     "output_type": "stream",
     "text": [
      " 31%|███       | 25/81 [00:30<00:42,  1.32it/s]"
     ]
    },
    {
     "name": "stdout",
     "output_type": "stream",
     "text": [
      "131.49072265625 71.5888671875\n"
     ]
    },
    {
     "name": "stderr",
     "output_type": "stream",
     "text": [
      " 32%|███▏      | 26/81 [00:31<00:48,  1.14it/s]"
     ]
    },
    {
     "name": "stdout",
     "output_type": "stream",
     "text": [
      "131.45263671875 71.625\n",
      "131.44970703125 71.62158203125\n"
     ]
    },
    {
     "name": "stderr",
     "output_type": "stream",
     "text": [
      " 33%|███▎      | 27/81 [00:33<00:53,  1.01it/s]"
     ]
    },
    {
     "name": "stdout",
     "output_type": "stream",
     "text": [
      "131.44970703125 71.62158203125\n",
      "131.4443359375 71.63916015625\n",
      "131.4287109375 71.63330078125\n",
      "131.45654296875 71.64404296875\n"
     ]
    },
    {
     "name": "stderr",
     "output_type": "stream",
     "text": [
      " 43%|████▎     | 35/81 [00:35<00:16,  2.83it/s]"
     ]
    },
    {
     "name": "stdout",
     "output_type": "stream",
     "text": [
      "131.45361328125 71.55224609375\n"
     ]
    },
    {
     "name": "stderr",
     "output_type": "stream",
     "text": [
      " 95%|█████████▌| 77/81 [00:46<00:01,  2.14it/s]"
     ]
    },
    {
     "name": "stdout",
     "output_type": "stream",
     "text": [
      "131.2646484375 71.39697265625\n"
     ]
    },
    {
     "name": "stderr",
     "output_type": "stream",
     "text": [
      "100%|██████████| 81/81 [00:50<00:00,  1.59it/s]\n"
     ]
    },
    {
     "name": "stdout",
     "output_type": "stream",
     "text": [
      " 4 Define mapping between PRISMA LatLon and gMaps latlon\n",
      " 5 Map PRISMA Latlons to gMaps latlons (ransac affine) and save for reference\n",
      "Band 60 did not work\n",
      "# 1 create .tif file\n",
      "# 2 Download gmaps for the same location\n",
      "Image size (pix):  (1792, 1792)\n",
      "Tile coordinate top left (north-west) corner: 1048,568\n",
      " 3 Determine matched features in PRISMA image to gMaps image with SIFT\n"
     ]
    },
    {
     "name": "stderr",
     "output_type": "stream",
     "text": [
      "  2%|▏         | 2/81 [00:02<01:24,  1.07s/it]"
     ]
    },
    {
     "name": "stdout",
     "output_type": "stream",
     "text": [
      "131.61376953125 71.404296875\n",
      "131.5732421875 71.392578125\n",
      "131.56884765625 71.392578125\n",
      "131.61376953125 71.404296875\n"
     ]
    },
    {
     "name": "stderr",
     "output_type": "stream",
     "text": [
      "  4%|▎         | 3/81 [00:03<01:28,  1.14s/it]"
     ]
    },
    {
     "name": "stdout",
     "output_type": "stream",
     "text": [
      "131.62158203125 71.3994140625\n",
      "131.5693359375 71.38232421875\n",
      "131.61376953125 71.404296875\n",
      "131.5732421875 71.392578125\n",
      "131.56884765625 71.392578125\n",
      "131.61376953125 71.404296875\n"
     ]
    },
    {
     "name": "stderr",
     "output_type": "stream",
     "text": [
      "  5%|▍         | 4/81 [00:04<01:34,  1.23s/it]"
     ]
    },
    {
     "name": "stdout",
     "output_type": "stream",
     "text": [
      "131.5673828125 71.4990234375\n"
     ]
    },
    {
     "name": "stderr",
     "output_type": "stream",
     "text": [
      "  6%|▌         | 5/81 [00:05<01:32,  1.21s/it]"
     ]
    },
    {
     "name": "stdout",
     "output_type": "stream",
     "text": [
      "131.55859375 71.53759765625\n",
      "131.55615234375 71.5361328125\n",
      "131.5673828125 71.4990234375\n",
      "131.57861328125 71.48095703125\n"
     ]
    },
    {
     "name": "stderr",
     "output_type": "stream",
     "text": [
      "  7%|▋         | 6/81 [00:07<01:50,  1.47s/it]"
     ]
    },
    {
     "name": "stdout",
     "output_type": "stream",
     "text": [
      "131.55859375 71.53759765625\n",
      "131.54248046875 71.5771484375\n",
      "131.55615234375 71.5361328125\n",
      "131.529296875 71.57421875\n",
      "131.529296875 71.572265625\n"
     ]
    },
    {
     "name": "stderr",
     "output_type": "stream",
     "text": [
      "  9%|▊         | 7/81 [00:09<02:05,  1.70s/it]"
     ]
    },
    {
     "name": "stdout",
     "output_type": "stream",
     "text": [
      "131.54248046875 71.5771484375\n",
      "131.50537109375 71.59521484375\n",
      "131.5029296875 71.580078125\n",
      "131.5 71.57763671875\n",
      "131.48828125 71.5673828125\n",
      "131.5458984375 71.5810546875\n",
      "131.54345703125 71.57861328125\n",
      "131.5390625 71.578125\n",
      "131.529296875 71.57421875\n",
      "131.5322265625 71.57666015625\n",
      "131.529296875 71.572265625\n",
      "131.50927734375 71.58984375\n",
      "131.51904296875 71.57568359375\n",
      "131.529296875 71.572265625\n",
      "131.51904296875 71.57568359375\n"
     ]
    },
    {
     "name": "stderr",
     "output_type": "stream",
     "text": [
      " 10%|▉         | 8/81 [00:12<02:23,  1.97s/it]"
     ]
    },
    {
     "name": "stdout",
     "output_type": "stream",
     "text": [
      "131.48388671875 71.65283203125\n",
      "131.50537109375 71.59521484375\n",
      "131.5029296875 71.580078125\n",
      "131.5 71.57763671875\n",
      "131.48291015625 71.60888671875\n",
      "131.4912109375 71.5693359375\n",
      "131.48828125 71.5673828125\n",
      "131.50927734375 71.58984375\n"
     ]
    },
    {
     "name": "stderr",
     "output_type": "stream",
     "text": [
      " 11%|█         | 9/81 [00:14<02:25,  2.01s/it]"
     ]
    },
    {
     "name": "stdout",
     "output_type": "stream",
     "text": [
      "131.48388671875 71.65283203125\n",
      "131.48291015625 71.60888671875\n",
      "131.48486328125 71.6513671875\n"
     ]
    },
    {
     "name": "stderr",
     "output_type": "stream",
     "text": [
      " 12%|█▏        | 10/81 [00:15<01:53,  1.60s/it]"
     ]
    },
    {
     "name": "stdout",
     "output_type": "stream",
     "text": [
      "131.54833984375 71.35302734375\n"
     ]
    },
    {
     "name": "stderr",
     "output_type": "stream",
     "text": [
      " 14%|█▎        | 11/81 [00:16<01:37,  1.39s/it]"
     ]
    },
    {
     "name": "stdout",
     "output_type": "stream",
     "text": [
      "131.54833984375 71.35302734375\n",
      "131.5732421875 71.392578125\n",
      "131.56884765625 71.392578125\n"
     ]
    },
    {
     "name": "stderr",
     "output_type": "stream",
     "text": [
      " 15%|█▍        | 12/81 [00:17<01:25,  1.24s/it]"
     ]
    },
    {
     "name": "stdout",
     "output_type": "stream",
     "text": [
      "131.5693359375 71.38232421875\n",
      "131.5732421875 71.392578125\n",
      "131.56884765625 71.392578125\n"
     ]
    },
    {
     "name": "stderr",
     "output_type": "stream",
     "text": [
      " 17%|█▋        | 14/81 [00:18<01:03,  1.05it/s]"
     ]
    },
    {
     "name": "stdout",
     "output_type": "stream",
     "text": [
      "131.52197265625 71.5126953125\n"
     ]
    },
    {
     "name": "stderr",
     "output_type": "stream",
     "text": [
      " 20%|█▉        | 16/81 [00:21<01:18,  1.20s/it]"
     ]
    },
    {
     "name": "stdout",
     "output_type": "stream",
     "text": [
      "131.50537109375 71.59521484375\n",
      "131.5029296875 71.580078125\n",
      "131.5 71.57763671875\n",
      "131.4912109375 71.5693359375\n",
      "131.48828125 71.5673828125\n"
     ]
    },
    {
     "name": "stderr",
     "output_type": "stream",
     "text": [
      " 21%|██        | 17/81 [00:23<01:33,  1.47s/it]"
     ]
    },
    {
     "name": "stdout",
     "output_type": "stream",
     "text": [
      "131.50537109375 71.59521484375\n",
      "131.5029296875 71.580078125\n",
      "131.5 71.57763671875\n",
      "131.48291015625 71.60888671875\n",
      "131.4912109375 71.5693359375\n",
      "131.48828125 71.5673828125\n",
      "131.44970703125 71.62158203125\n"
     ]
    },
    {
     "name": "stderr",
     "output_type": "stream",
     "text": [
      " 22%|██▏       | 18/81 [00:24<01:36,  1.53s/it]"
     ]
    },
    {
     "name": "stdout",
     "output_type": "stream",
     "text": [
      "131.48388671875 71.65283203125\n",
      "131.48291015625 71.60888671875\n",
      "131.44970703125 71.62158203125\n",
      "131.4287109375 71.63330078125\n",
      "131.48486328125 71.6513671875\n",
      "131.45654296875 71.64404296875\n"
     ]
    },
    {
     "name": "stderr",
     "output_type": "stream",
     "text": [
      " 23%|██▎       | 19/81 [00:25<01:19,  1.29s/it]"
     ]
    },
    {
     "name": "stdout",
     "output_type": "stream",
     "text": [
      "131.54833984375 71.35302734375\n"
     ]
    },
    {
     "name": "stderr",
     "output_type": "stream",
     "text": [
      " 26%|██▌       | 21/81 [00:26<00:51,  1.16it/s]"
     ]
    },
    {
     "name": "stdout",
     "output_type": "stream",
     "text": [
      "131.54833984375 71.35302734375\n"
     ]
    },
    {
     "name": "stderr",
     "output_type": "stream",
     "text": [
      " 31%|███       | 25/81 [00:28<00:36,  1.52it/s]"
     ]
    },
    {
     "name": "stdout",
     "output_type": "stream",
     "text": [
      "131.49072265625 71.5888671875\n"
     ]
    },
    {
     "name": "stderr",
     "output_type": "stream",
     "text": [
      " 32%|███▏      | 26/81 [00:29<00:44,  1.25it/s]"
     ]
    },
    {
     "name": "stdout",
     "output_type": "stream",
     "text": [
      "131.44970703125 71.62158203125\n"
     ]
    },
    {
     "name": "stderr",
     "output_type": "stream",
     "text": [
      " 33%|███▎      | 27/81 [00:31<00:48,  1.12it/s]"
     ]
    },
    {
     "name": "stdout",
     "output_type": "stream",
     "text": [
      "131.44970703125 71.62158203125\n",
      "131.4287109375 71.63330078125\n",
      "131.45654296875 71.64404296875\n"
     ]
    },
    {
     "name": "stderr",
     "output_type": "stream",
     "text": [
      " 43%|████▎     | 35/81 [00:33<00:16,  2.85it/s]"
     ]
    },
    {
     "name": "stdout",
     "output_type": "stream",
     "text": [
      "131.45361328125 71.55224609375\n"
     ]
    },
    {
     "name": "stderr",
     "output_type": "stream",
     "text": [
      " 95%|█████████▌| 77/81 [00:43<00:01,  2.18it/s]"
     ]
    },
    {
     "name": "stdout",
     "output_type": "stream",
     "text": [
      "131.2646484375 71.39697265625\n"
     ]
    },
    {
     "name": "stderr",
     "output_type": "stream",
     "text": [
      "100%|██████████| 81/81 [00:45<00:00,  1.77it/s]\n"
     ]
    },
    {
     "name": "stdout",
     "output_type": "stream",
     "text": [
      " 4 Define mapping between PRISMA LatLon and gMaps latlon\n",
      " 5 Map PRISMA Latlons to gMaps latlons (ransac affine) and save for reference\n",
      "Band 61 did not work\n",
      "# 1 create .tif file\n",
      "# 2 Download gmaps for the same location\n",
      "Image size (pix):  (1792, 1792)\n",
      "Tile coordinate top left (north-west) corner: 1048,568\n",
      " 3 Determine matched features in PRISMA image to gMaps image with SIFT\n"
     ]
    },
    {
     "name": "stderr",
     "output_type": "stream",
     "text": [
      "  2%|▏         | 2/81 [00:02<01:23,  1.06s/it]"
     ]
    },
    {
     "name": "stdout",
     "output_type": "stream",
     "text": [
      "131.62158203125 71.3994140625\n",
      "131.61572265625 71.40576171875\n",
      "131.61376953125 71.404296875\n",
      "131.5732421875 71.392578125\n",
      "131.56884765625 71.392578125\n",
      "131.61376953125 71.404296875\n"
     ]
    },
    {
     "name": "stderr",
     "output_type": "stream",
     "text": [
      "  4%|▎         | 3/81 [00:03<01:25,  1.09s/it]"
     ]
    },
    {
     "name": "stdout",
     "output_type": "stream",
     "text": [
      "131.62158203125 71.3994140625\n",
      "131.61572265625 71.40576171875\n",
      "131.5693359375 71.38232421875\n",
      "131.61376953125 71.404296875\n",
      "131.5732421875 71.392578125\n",
      "131.56884765625 71.392578125\n",
      "131.61376953125 71.404296875\n"
     ]
    },
    {
     "name": "stderr",
     "output_type": "stream",
     "text": [
      "  5%|▍         | 4/81 [00:04<01:22,  1.07s/it]"
     ]
    },
    {
     "name": "stdout",
     "output_type": "stream",
     "text": [
      "131.5673828125 71.4990234375\n"
     ]
    },
    {
     "name": "stderr",
     "output_type": "stream",
     "text": [
      "  6%|▌         | 5/81 [00:05<01:28,  1.16s/it]"
     ]
    },
    {
     "name": "stdout",
     "output_type": "stream",
     "text": [
      "131.55859375 71.53759765625\n",
      "131.55615234375 71.5361328125\n",
      "131.5673828125 71.4990234375\n"
     ]
    },
    {
     "name": "stderr",
     "output_type": "stream",
     "text": [
      "  7%|▋         | 6/81 [00:07<01:42,  1.37s/it]"
     ]
    },
    {
     "name": "stdout",
     "output_type": "stream",
     "text": [
      "131.55859375 71.53759765625\n",
      "131.54248046875 71.5771484375\n",
      "131.55615234375 71.5361328125\n",
      "131.529296875 71.572265625\n",
      "131.529296875 71.572265625\n"
     ]
    },
    {
     "name": "stderr",
     "output_type": "stream",
     "text": [
      "  9%|▊         | 7/81 [00:09<02:11,  1.77s/it]"
     ]
    },
    {
     "name": "stdout",
     "output_type": "stream",
     "text": [
      "131.54248046875 71.5771484375\n",
      "131.52587890625 71.578125\n",
      "131.50537109375 71.59521484375\n",
      "131.50732421875 71.578125\n",
      "131.5029296875 71.580078125\n",
      "131.48828125 71.5673828125\n",
      "131.54345703125 71.57861328125\n",
      "131.5390625 71.578125\n",
      "131.529296875 71.57421875\n",
      "131.5322265625 71.57666015625\n",
      "131.529296875 71.572265625\n",
      "131.50927734375 71.58984375\n",
      "131.51904296875 71.57568359375\n",
      "131.529296875 71.572265625\n",
      "131.51904296875 71.57568359375\n"
     ]
    },
    {
     "name": "stderr",
     "output_type": "stream",
     "text": [
      " 10%|▉         | 8/81 [00:12<02:23,  1.96s/it]"
     ]
    },
    {
     "name": "stdout",
     "output_type": "stream",
     "text": [
      "131.48388671875 71.65283203125\n",
      "131.50537109375 71.59521484375\n",
      "131.50732421875 71.578125\n",
      "131.5029296875 71.580078125\n",
      "131.48291015625 71.60888671875\n",
      "131.4912109375 71.5693359375\n",
      "131.48828125 71.5673828125\n",
      "131.50927734375 71.58984375\n"
     ]
    },
    {
     "name": "stderr",
     "output_type": "stream",
     "text": [
      " 11%|█         | 9/81 [00:14<02:23,  2.00s/it]"
     ]
    },
    {
     "name": "stdout",
     "output_type": "stream",
     "text": [
      "131.48388671875 71.65283203125\n",
      "131.48291015625 71.60888671875\n",
      "131.48486328125 71.6513671875\n"
     ]
    },
    {
     "name": "stderr",
     "output_type": "stream",
     "text": [
      " 14%|█▎        | 11/81 [00:16<01:39,  1.43s/it]"
     ]
    },
    {
     "name": "stdout",
     "output_type": "stream",
     "text": [
      "131.5732421875 71.392578125\n",
      "131.56884765625 71.392578125\n"
     ]
    },
    {
     "name": "stderr",
     "output_type": "stream",
     "text": [
      " 15%|█▍        | 12/81 [00:17<01:31,  1.32s/it]"
     ]
    },
    {
     "name": "stdout",
     "output_type": "stream",
     "text": [
      "131.5693359375 71.38232421875\n",
      "131.5732421875 71.392578125\n",
      "131.56884765625 71.392578125\n"
     ]
    },
    {
     "name": "stderr",
     "output_type": "stream",
     "text": [
      " 17%|█▋        | 14/81 [00:18<01:03,  1.06it/s]"
     ]
    },
    {
     "name": "stdout",
     "output_type": "stream",
     "text": [
      "131.52197265625 71.5126953125\n"
     ]
    },
    {
     "name": "stderr",
     "output_type": "stream",
     "text": [
      " 20%|█▉        | 16/81 [00:20<01:14,  1.15s/it]"
     ]
    },
    {
     "name": "stdout",
     "output_type": "stream",
     "text": [
      "131.50537109375 71.59521484375\n",
      "131.50732421875 71.578125\n",
      "131.5029296875 71.580078125\n",
      "131.4912109375 71.5693359375\n",
      "131.48828125 71.5673828125\n",
      "131.49072265625 71.5673828125\n",
      "131.48828125 71.57275390625\n",
      "131.50048828125 71.59130859375\n"
     ]
    },
    {
     "name": "stderr",
     "output_type": "stream",
     "text": [
      " 21%|██        | 17/81 [00:23<01:34,  1.48s/it]"
     ]
    },
    {
     "name": "stdout",
     "output_type": "stream",
     "text": [
      "131.50537109375 71.59521484375\n",
      "131.50732421875 71.578125\n",
      "131.5029296875 71.580078125\n",
      "131.48291015625 71.60888671875\n",
      "131.4912109375 71.5693359375\n",
      "131.48828125 71.5673828125\n",
      "131.44970703125 71.6103515625\n",
      "131.48828125 71.57275390625\n"
     ]
    },
    {
     "name": "stderr",
     "output_type": "stream",
     "text": [
      " 22%|██▏       | 18/81 [00:24<01:36,  1.53s/it]"
     ]
    },
    {
     "name": "stdout",
     "output_type": "stream",
     "text": [
      "131.48388671875 71.65283203125\n",
      "131.48291015625 71.60888671875\n",
      "131.44970703125 71.6103515625\n",
      "131.48486328125 71.6513671875\n",
      "131.45654296875 71.64404296875\n"
     ]
    },
    {
     "name": "stderr",
     "output_type": "stream",
     "text": [
      " 23%|██▎       | 19/81 [00:25<01:17,  1.25s/it]"
     ]
    },
    {
     "name": "stdout",
     "output_type": "stream",
     "text": [
      "131.54833984375 71.35302734375\n"
     ]
    },
    {
     "name": "stderr",
     "output_type": "stream",
     "text": [
      " 26%|██▌       | 21/81 [00:26<00:49,  1.22it/s]"
     ]
    },
    {
     "name": "stdout",
     "output_type": "stream",
     "text": [
      "131.54833984375 71.35302734375\n"
     ]
    },
    {
     "name": "stderr",
     "output_type": "stream",
     "text": [
      " 30%|██▉       | 24/81 [00:27<00:33,  1.70it/s]"
     ]
    },
    {
     "name": "stdout",
     "output_type": "stream",
     "text": [
      "131.45361328125 71.55224609375\n"
     ]
    },
    {
     "name": "stderr",
     "output_type": "stream",
     "text": [
      " 32%|███▏      | 26/81 [00:29<00:40,  1.36it/s]"
     ]
    },
    {
     "name": "stdout",
     "output_type": "stream",
     "text": [
      "131.45263671875 71.625\n",
      "131.44970703125 71.6103515625\n"
     ]
    },
    {
     "name": "stderr",
     "output_type": "stream",
     "text": [
      " 33%|███▎      | 27/81 [00:30<00:44,  1.20it/s]"
     ]
    },
    {
     "name": "stdout",
     "output_type": "stream",
     "text": [
      "131.44970703125 71.6103515625\n",
      "131.45654296875 71.64404296875\n"
     ]
    },
    {
     "name": "stderr",
     "output_type": "stream",
     "text": [
      " 43%|████▎     | 35/81 [00:32<00:16,  2.84it/s]"
     ]
    },
    {
     "name": "stdout",
     "output_type": "stream",
     "text": [
      "131.45361328125 71.55224609375\n"
     ]
    },
    {
     "name": "stderr",
     "output_type": "stream",
     "text": [
      " 95%|█████████▌| 77/81 [00:43<00:01,  2.09it/s]"
     ]
    },
    {
     "name": "stdout",
     "output_type": "stream",
     "text": [
      "131.2646484375 71.39697265625\n"
     ]
    },
    {
     "name": "stderr",
     "output_type": "stream",
     "text": [
      "100%|██████████| 81/81 [00:44<00:00,  1.83it/s]\n"
     ]
    },
    {
     "name": "stdout",
     "output_type": "stream",
     "text": [
      " 4 Define mapping between PRISMA LatLon and gMaps latlon\n",
      " 5 Map PRISMA Latlons to gMaps latlons (ransac affine) and save for reference\n",
      "Band 62 did not work\n",
      "# 1 create .tif file\n",
      "# 2 Download gmaps for the same location\n",
      "Image size (pix):  (1792, 1792)\n",
      "Tile coordinate top left (north-west) corner: 1048,568\n",
      " 3 Determine matched features in PRISMA image to gMaps image with SIFT\n"
     ]
    },
    {
     "name": "stderr",
     "output_type": "stream",
     "text": [
      "  2%|▏         | 2/81 [00:01<01:14,  1.06it/s]"
     ]
    },
    {
     "name": "stdout",
     "output_type": "stream",
     "text": [
      "131.62158203125 71.3994140625\n",
      "131.61572265625 71.40576171875\n",
      "131.5693359375 71.38232421875\n",
      "131.61376953125 71.404296875\n",
      "131.61376953125 71.404296875\n"
     ]
    },
    {
     "name": "stderr",
     "output_type": "stream",
     "text": [
      "  4%|▎         | 3/81 [00:03<01:31,  1.17s/it]"
     ]
    },
    {
     "name": "stdout",
     "output_type": "stream",
     "text": [
      "131.62158203125 71.3994140625\n",
      "131.61572265625 71.40576171875\n",
      "131.5693359375 71.38232421875\n",
      "131.61376953125 71.404296875\n",
      "131.61376953125 71.404296875\n"
     ]
    },
    {
     "name": "stderr",
     "output_type": "stream",
     "text": [
      "  5%|▍         | 4/81 [00:04<01:28,  1.14s/it]"
     ]
    },
    {
     "name": "stdout",
     "output_type": "stream",
     "text": [
      "131.5673828125 71.4990234375\n"
     ]
    },
    {
     "name": "stderr",
     "output_type": "stream",
     "text": [
      "  6%|▌         | 5/81 [00:05<01:32,  1.21s/it]"
     ]
    },
    {
     "name": "stdout",
     "output_type": "stream",
     "text": [
      "131.55859375 71.53759765625\n",
      "131.55615234375 71.5361328125\n",
      "131.5673828125 71.4990234375\n"
     ]
    },
    {
     "name": "stderr",
     "output_type": "stream",
     "text": [
      "  7%|▋         | 6/81 [00:07<01:49,  1.46s/it]"
     ]
    },
    {
     "name": "stdout",
     "output_type": "stream",
     "text": [
      "131.55859375 71.53759765625\n",
      "131.54248046875 71.5771484375\n",
      "131.55615234375 71.5361328125\n",
      "131.529296875 71.572265625\n"
     ]
    },
    {
     "name": "stderr",
     "output_type": "stream",
     "text": [
      "  9%|▊         | 7/81 [00:09<02:06,  1.71s/it]"
     ]
    },
    {
     "name": "stdout",
     "output_type": "stream",
     "text": [
      "131.54248046875 71.5771484375\n",
      "131.50537109375 71.59521484375\n",
      "131.48828125 71.5673828125\n",
      "131.56494140625 71.54345703125\n",
      "131.54345703125 71.57861328125\n",
      "131.5390625 71.578125\n",
      "131.5322265625 71.57666015625\n",
      "131.529296875 71.572265625\n",
      "131.50927734375 71.58984375\n",
      "131.51904296875 71.57568359375\n",
      "131.529296875 71.572265625\n",
      "131.51904296875 71.57568359375\n"
     ]
    },
    {
     "name": "stderr",
     "output_type": "stream",
     "text": [
      " 10%|▉         | 8/81 [00:12<02:24,  1.98s/it]"
     ]
    },
    {
     "name": "stdout",
     "output_type": "stream",
     "text": [
      "131.48388671875 71.65283203125\n",
      "131.50537109375 71.59521484375\n",
      "131.48291015625 71.60888671875\n",
      "131.4912109375 71.5693359375\n",
      "131.50927734375 71.58984375\n"
     ]
    },
    {
     "name": "stderr",
     "output_type": "stream",
     "text": [
      " 11%|█         | 9/81 [00:14<02:17,  1.91s/it]"
     ]
    },
    {
     "name": "stdout",
     "output_type": "stream",
     "text": [
      "131.48388671875 71.65283203125\n",
      "131.48291015625 71.60888671875\n",
      "131.48486328125 71.6513671875\n"
     ]
    },
    {
     "name": "stderr",
     "output_type": "stream",
     "text": [
      " 14%|█▎        | 11/81 [00:15<01:32,  1.32s/it]"
     ]
    },
    {
     "name": "stdout",
     "output_type": "stream",
     "text": [
      "131.5693359375 71.38232421875\n"
     ]
    },
    {
     "name": "stderr",
     "output_type": "stream",
     "text": [
      " 15%|█▍        | 12/81 [00:16<01:21,  1.18s/it]"
     ]
    },
    {
     "name": "stdout",
     "output_type": "stream",
     "text": [
      "131.5693359375 71.38232421875\n"
     ]
    },
    {
     "name": "stderr",
     "output_type": "stream",
     "text": [
      " 20%|█▉        | 16/81 [00:19<01:08,  1.06s/it]"
     ]
    },
    {
     "name": "stdout",
     "output_type": "stream",
     "text": [
      "131.50537109375 71.59521484375\n",
      "131.4912109375 71.5693359375\n",
      "131.48828125 71.5673828125\n"
     ]
    },
    {
     "name": "stderr",
     "output_type": "stream",
     "text": [
      " 21%|██        | 17/81 [00:21<01:24,  1.32s/it]"
     ]
    },
    {
     "name": "stdout",
     "output_type": "stream",
     "text": [
      "131.50537109375 71.59521484375\n",
      "131.48291015625 71.60888671875\n",
      "131.4912109375 71.5693359375\n",
      "131.48828125 71.5673828125\n"
     ]
    },
    {
     "name": "stderr",
     "output_type": "stream",
     "text": [
      " 22%|██▏       | 18/81 [00:23<01:26,  1.37s/it]"
     ]
    },
    {
     "name": "stdout",
     "output_type": "stream",
     "text": [
      "131.48388671875 71.65283203125\n",
      "131.48291015625 71.60888671875\n",
      "131.48486328125 71.6513671875\n",
      "131.45654296875 71.64404296875\n"
     ]
    },
    {
     "name": "stderr",
     "output_type": "stream",
     "text": [
      " 23%|██▎       | 19/81 [00:24<01:12,  1.17s/it]"
     ]
    },
    {
     "name": "stdout",
     "output_type": "stream",
     "text": [
      "131.54833984375 71.35302734375\n"
     ]
    },
    {
     "name": "stderr",
     "output_type": "stream",
     "text": [
      " 26%|██▌       | 21/81 [00:24<00:46,  1.29it/s]"
     ]
    },
    {
     "name": "stdout",
     "output_type": "stream",
     "text": [
      "131.54833984375 71.35302734375\n"
     ]
    },
    {
     "name": "stderr",
     "output_type": "stream",
     "text": [
      " 31%|███       | 25/81 [00:26<00:34,  1.60it/s]"
     ]
    },
    {
     "name": "stdout",
     "output_type": "stream",
     "text": [
      "131.49072265625 71.5888671875\n"
     ]
    },
    {
     "name": "stderr",
     "output_type": "stream",
     "text": [
      " 32%|███▏      | 26/81 [00:27<00:40,  1.35it/s]"
     ]
    },
    {
     "name": "stdout",
     "output_type": "stream",
     "text": [
      "131.44970703125 71.62158203125\n"
     ]
    },
    {
     "name": "stderr",
     "output_type": "stream",
     "text": [
      " 35%|███▍      | 28/81 [00:29<00:34,  1.54it/s]"
     ]
    },
    {
     "name": "stdout",
     "output_type": "stream",
     "text": [
      "131.45654296875 71.64404296875\n"
     ]
    },
    {
     "name": "stderr",
     "output_type": "stream",
     "text": [
      " 95%|█████████▌| 77/81 [00:41<00:01,  2.05it/s]"
     ]
    },
    {
     "name": "stdout",
     "output_type": "stream",
     "text": [
      "131.2646484375 71.39697265625\n"
     ]
    },
    {
     "name": "stderr",
     "output_type": "stream",
     "text": [
      "100%|██████████| 81/81 [00:42<00:00,  1.90it/s]\n"
     ]
    },
    {
     "name": "stdout",
     "output_type": "stream",
     "text": [
      " 4 Define mapping between PRISMA LatLon and gMaps latlon\n",
      " 5 Map PRISMA Latlons to gMaps latlons (ransac affine) and save for reference\n",
      "Band 63 did not work\n",
      "# 1 create .tif file\n",
      "# 2 Download gmaps for the same location\n",
      "Image size (pix):  (1792, 1792)\n",
      "Tile coordinate top left (north-west) corner: 1048,568\n",
      " 3 Determine matched features in PRISMA image to gMaps image with SIFT\n"
     ]
    },
    {
     "name": "stderr",
     "output_type": "stream",
     "text": [
      "  2%|▏         | 2/81 [00:02<01:28,  1.12s/it]"
     ]
    },
    {
     "name": "stdout",
     "output_type": "stream",
     "text": [
      "131.62158203125 71.3994140625\n",
      "131.61572265625 71.40576171875\n",
      "131.61376953125 71.404296875\n",
      "131.6123046875 71.4013671875\n",
      "131.61376953125 71.404296875\n"
     ]
    },
    {
     "name": "stderr",
     "output_type": "stream",
     "text": [
      "  4%|▎         | 3/81 [00:03<01:35,  1.23s/it]"
     ]
    },
    {
     "name": "stdout",
     "output_type": "stream",
     "text": [
      "131.61572265625 71.40576171875\n",
      "131.61376953125 71.404296875\n",
      "131.61376953125 71.404296875\n"
     ]
    },
    {
     "name": "stderr",
     "output_type": "stream",
     "text": [
      "  6%|▌         | 5/81 [00:05<01:30,  1.19s/it]"
     ]
    },
    {
     "name": "stdout",
     "output_type": "stream",
     "text": [
      "131.55859375 71.53759765625\n",
      "131.5673828125 71.4990234375\n"
     ]
    },
    {
     "name": "stderr",
     "output_type": "stream",
     "text": [
      "  7%|▋         | 6/81 [00:07<01:42,  1.37s/it]"
     ]
    },
    {
     "name": "stdout",
     "output_type": "stream",
     "text": [
      "131.55859375 71.53759765625\n",
      "131.54248046875 71.5771484375\n",
      "131.529296875 71.572265625\n"
     ]
    },
    {
     "name": "stderr",
     "output_type": "stream",
     "text": [
      "  9%|▊         | 7/81 [00:09<02:03,  1.67s/it]"
     ]
    },
    {
     "name": "stdout",
     "output_type": "stream",
     "text": [
      "131.54248046875 71.5771484375\n",
      "131.5322265625 71.57666015625\n",
      "131.529296875 71.572265625\n",
      "131.50927734375 71.58984375\n",
      "131.51904296875 71.57568359375\n",
      "131.529296875 71.572265625\n",
      "131.51904296875 71.57568359375\n"
     ]
    },
    {
     "name": "stderr",
     "output_type": "stream",
     "text": [
      " 10%|▉         | 8/81 [00:12<02:20,  1.92s/it]"
     ]
    },
    {
     "name": "stdout",
     "output_type": "stream",
     "text": [
      "131.4912109375 71.5693359375\n",
      "131.50927734375 71.58984375\n"
     ]
    },
    {
     "name": "stderr",
     "output_type": "stream",
     "text": [
      " 11%|█         | 9/81 [00:14<02:15,  1.88s/it]"
     ]
    },
    {
     "name": "stdout",
     "output_type": "stream",
     "text": [
      "131.48388671875 71.65283203125\n",
      "131.48486328125 71.6513671875\n"
     ]
    },
    {
     "name": "stderr",
     "output_type": "stream",
     "text": [
      " 20%|█▉        | 16/81 [00:20<01:13,  1.13s/it]"
     ]
    },
    {
     "name": "stdout",
     "output_type": "stream",
     "text": [
      "131.4912109375 71.5693359375\n",
      "131.48828125 71.5673828125\n"
     ]
    },
    {
     "name": "stderr",
     "output_type": "stream",
     "text": [
      " 21%|██        | 17/81 [00:22<01:31,  1.44s/it]"
     ]
    },
    {
     "name": "stdout",
     "output_type": "stream",
     "text": [
      "131.4912109375 71.5693359375\n"
     ]
    },
    {
     "name": "stderr",
     "output_type": "stream",
     "text": [
      " 22%|██▏       | 18/81 [00:24<01:38,  1.57s/it]"
     ]
    },
    {
     "name": "stdout",
     "output_type": "stream",
     "text": [
      "131.48388671875 71.65283203125\n",
      "131.48486328125 71.6513671875\n",
      "131.45654296875 71.64404296875\n"
     ]
    },
    {
     "name": "stderr",
     "output_type": "stream",
     "text": [
      " 35%|███▍      | 28/81 [00:30<00:34,  1.53it/s]"
     ]
    },
    {
     "name": "stdout",
     "output_type": "stream",
     "text": [
      "131.45654296875 71.64404296875\n"
     ]
    },
    {
     "name": "stderr",
     "output_type": "stream",
     "text": [
      " 43%|████▎     | 35/81 [00:32<00:16,  2.87it/s]"
     ]
    },
    {
     "name": "stdout",
     "output_type": "stream",
     "text": [
      "131.45361328125 71.55224609375\n"
     ]
    },
    {
     "name": "stderr",
     "output_type": "stream",
     "text": [
      " 95%|█████████▌| 77/81 [00:42<00:01,  2.37it/s]"
     ]
    },
    {
     "name": "stdout",
     "output_type": "stream",
     "text": [
      "131.2646484375 71.39697265625\n"
     ]
    },
    {
     "name": "stderr",
     "output_type": "stream",
     "text": [
      "100%|██████████| 81/81 [00:43<00:00,  1.86it/s]\n"
     ]
    },
    {
     "name": "stdout",
     "output_type": "stream",
     "text": [
      " 4 Define mapping between PRISMA LatLon and gMaps latlon\n",
      " 5 Map PRISMA Latlons to gMaps latlons (ransac affine) and save for reference\n",
      "Band 64 did not work\n",
      "# 1 create .tif file\n",
      "# 2 Download gmaps for the same location\n",
      "Image size (pix):  (1792, 1792)\n",
      "Tile coordinate top left (north-west) corner: 1048,568\n",
      " 3 Determine matched features in PRISMA image to gMaps image with SIFT\n"
     ]
    },
    {
     "name": "stderr",
     "output_type": "stream",
     "text": [
      "  2%|▏         | 2/81 [00:01<01:15,  1.05it/s]"
     ]
    },
    {
     "name": "stdout",
     "output_type": "stream",
     "text": [
      "131.61572265625 71.40576171875\n",
      "131.61376953125 71.404296875\n",
      "131.61376953125 71.404296875\n"
     ]
    },
    {
     "name": "stderr",
     "output_type": "stream",
     "text": [
      "  4%|▎         | 3/81 [00:02<01:20,  1.03s/it]"
     ]
    },
    {
     "name": "stdout",
     "output_type": "stream",
     "text": [
      "131.61572265625 71.40576171875\n",
      "131.61376953125 71.404296875\n",
      "131.61376953125 71.404296875\n"
     ]
    },
    {
     "name": "stderr",
     "output_type": "stream",
     "text": [
      "  5%|▍         | 4/81 [00:04<01:20,  1.05s/it]"
     ]
    },
    {
     "name": "stdout",
     "output_type": "stream",
     "text": [
      "131.5673828125 71.4990234375\n"
     ]
    },
    {
     "name": "stderr",
     "output_type": "stream",
     "text": [
      "  6%|▌         | 5/81 [00:05<01:26,  1.14s/it]"
     ]
    },
    {
     "name": "stdout",
     "output_type": "stream",
     "text": [
      "131.55859375 71.53759765625\n",
      "131.5673828125 71.4990234375\n"
     ]
    },
    {
     "name": "stderr",
     "output_type": "stream",
     "text": [
      "  7%|▋         | 6/81 [00:06<01:35,  1.27s/it]"
     ]
    },
    {
     "name": "stdout",
     "output_type": "stream",
     "text": [
      "131.55859375 71.53759765625\n",
      "131.54248046875 71.5771484375\n"
     ]
    },
    {
     "name": "stderr",
     "output_type": "stream",
     "text": [
      "  9%|▊         | 7/81 [00:09<01:57,  1.58s/it]"
     ]
    },
    {
     "name": "stdout",
     "output_type": "stream",
     "text": [
      "131.54248046875 71.5771484375\n",
      "131.5322265625 71.57666015625\n"
     ]
    },
    {
     "name": "stderr",
     "output_type": "stream",
     "text": [
      " 10%|▉         | 8/81 [00:11<02:15,  1.85s/it]"
     ]
    },
    {
     "name": "stdout",
     "output_type": "stream",
     "text": [
      "131.48388671875 71.65283203125\n",
      "131.4912109375 71.5693359375\n"
     ]
    },
    {
     "name": "stderr",
     "output_type": "stream",
     "text": [
      " 11%|█         | 9/81 [00:13<02:16,  1.89s/it]"
     ]
    },
    {
     "name": "stdout",
     "output_type": "stream",
     "text": [
      "131.48388671875 71.65283203125\n",
      "131.48486328125 71.6513671875\n"
     ]
    },
    {
     "name": "stderr",
     "output_type": "stream",
     "text": [
      " 12%|█▏        | 10/81 [00:14<01:47,  1.52s/it]"
     ]
    },
    {
     "name": "stdout",
     "output_type": "stream",
     "text": [
      "131.54833984375 71.35302734375\n"
     ]
    },
    {
     "name": "stderr",
     "output_type": "stream",
     "text": [
      " 14%|█▎        | 11/81 [00:14<01:30,  1.30s/it]"
     ]
    },
    {
     "name": "stdout",
     "output_type": "stream",
     "text": [
      "131.54833984375 71.35302734375\n"
     ]
    },
    {
     "name": "stderr",
     "output_type": "stream",
     "text": [
      " 20%|█▉        | 16/81 [00:19<01:10,  1.09s/it]"
     ]
    },
    {
     "name": "stdout",
     "output_type": "stream",
     "text": [
      "131.4912109375 71.5693359375\n"
     ]
    },
    {
     "name": "stderr",
     "output_type": "stream",
     "text": [
      " 21%|██        | 17/81 [00:20<01:22,  1.29s/it]"
     ]
    },
    {
     "name": "stdout",
     "output_type": "stream",
     "text": [
      "131.4912109375 71.5693359375\n",
      "131.45263671875 71.625\n",
      "131.49072265625 71.5888671875\n"
     ]
    },
    {
     "name": "stderr",
     "output_type": "stream",
     "text": [
      " 22%|██▏       | 18/81 [00:22<01:30,  1.44s/it]"
     ]
    },
    {
     "name": "stdout",
     "output_type": "stream",
     "text": [
      "131.48388671875 71.65283203125\n",
      "131.45263671875 71.625\n",
      "131.4326171875 71.619140625\n",
      "131.48486328125 71.6513671875\n",
      "131.45654296875 71.64404296875\n"
     ]
    },
    {
     "name": "stderr",
     "output_type": "stream",
     "text": [
      " 23%|██▎       | 19/81 [00:23<01:15,  1.21s/it]"
     ]
    },
    {
     "name": "stdout",
     "output_type": "stream",
     "text": [
      "131.54833984375 71.35302734375\n"
     ]
    },
    {
     "name": "stderr",
     "output_type": "stream",
     "text": [
      " 26%|██▌       | 21/81 [00:24<00:51,  1.17it/s]"
     ]
    },
    {
     "name": "stdout",
     "output_type": "stream",
     "text": [
      "131.54833984375 71.35302734375\n"
     ]
    },
    {
     "name": "stderr",
     "output_type": "stream",
     "text": [
      " 30%|██▉       | 24/81 [00:25<00:31,  1.83it/s]"
     ]
    },
    {
     "name": "stdout",
     "output_type": "stream",
     "text": [
      "131.45361328125 71.55224609375\n"
     ]
    },
    {
     "name": "stderr",
     "output_type": "stream",
     "text": [
      " 31%|███       | 25/81 [00:26<00:35,  1.58it/s]"
     ]
    },
    {
     "name": "stdout",
     "output_type": "stream",
     "text": [
      "131.49072265625 71.5888671875\n"
     ]
    },
    {
     "name": "stderr",
     "output_type": "stream",
     "text": [
      " 32%|███▏      | 26/81 [00:27<00:40,  1.36it/s]"
     ]
    },
    {
     "name": "stdout",
     "output_type": "stream",
     "text": [
      "131.45263671875 71.625\n",
      "131.4326171875 71.619140625\n"
     ]
    },
    {
     "name": "stderr",
     "output_type": "stream",
     "text": [
      " 33%|███▎      | 27/81 [00:28<00:45,  1.20it/s]"
     ]
    },
    {
     "name": "stdout",
     "output_type": "stream",
     "text": [
      "131.45263671875 71.625\n",
      "131.4326171875 71.619140625\n",
      "131.45654296875 71.64404296875\n"
     ]
    },
    {
     "name": "stderr",
     "output_type": "stream",
     "text": [
      " 43%|████▎     | 35/81 [00:30<00:15,  2.91it/s]"
     ]
    },
    {
     "name": "stdout",
     "output_type": "stream",
     "text": [
      "131.45361328125 71.55224609375\n"
     ]
    },
    {
     "name": "stderr",
     "output_type": "stream",
     "text": [
      " 95%|█████████▌| 77/81 [00:40<00:01,  2.59it/s]"
     ]
    },
    {
     "name": "stdout",
     "output_type": "stream",
     "text": [
      "131.2646484375 71.39697265625\n"
     ]
    },
    {
     "name": "stderr",
     "output_type": "stream",
     "text": [
      "100%|██████████| 81/81 [00:41<00:00,  1.96it/s]\n"
     ]
    },
    {
     "name": "stdout",
     "output_type": "stream",
     "text": [
      " 4 Define mapping between PRISMA LatLon and gMaps latlon\n",
      " 5 Map PRISMA Latlons to gMaps latlons (ransac affine) and save for reference\n",
      "Band 65 did not work\n"
     ]
    }
   ],
   "source": [
    "prisma_path = \"HyperSpectral4.he5\"\n",
    "prisma_path = dir_path + \"/\" + prisma_path\n",
    "outpath = \"out/out3\"\n",
    "outpath = \"data_for_malan/HyperSpectral4_band_550\"\n",
    "\n",
    "for i in range(66):\n",
    "\n",
    "    outpath = f\"data_for_malan/HyperSpectral4_band_{400 + 10*i}\"\n",
    "\n",
    "    try:\n",
    "        adjusted = adjust_lat_lon(prisma_path, i, outpath )\n",
    "        np.save(f\"data_for_malan/Hyperspectral4_band_{400 + 10*i}.npy\")\n",
    "        \n",
    "    except:\n",
    "        print(f\"Band {i} did not work\")\n",
    "\n",
    "\n"
   ]
  },
  {
   "cell_type": "code",
   "execution_count": null,
   "metadata": {},
   "outputs": [
    {
     "data": {
      "text/plain": [
       "(1000, 1000, 2)"
      ]
     },
     "execution_count": 26,
     "metadata": {},
     "output_type": "execute_result"
    }
   ],
   "source": [
    "adjusted[0].shape"
   ]
  },
  {
   "cell_type": "code",
   "execution_count": null,
   "metadata": {},
   "outputs": [],
   "source": [
    "np.save(\"out/out4.npy\", adjusted[0])"
   ]
  },
  {
   "cell_type": "code",
   "execution_count": null,
   "metadata": {},
   "outputs": [],
   "source": [
    "#adjusted = np.load(\"out_adjll.npz\")\n",
    "adjusted = np.load('out/out4.npy')\n",
    "adjusted.shape\n"
   ]
  },
  {
   "cell_type": "code",
   "execution_count": null,
   "metadata": {},
   "outputs": [],
   "source": [
    "from rasterio.plot import show\n",
    "with rasterio.open(\"out/out4.tif\") as src:\n",
    "    fig, ax = plt.subplots()\n",
    "\n",
    "    # transform rasterio plot to real world coords\n",
    "    extent=[src.bounds[0], src.bounds[2], src.bounds[1], src.bounds[3]]\n",
    "    ax = rasterio.plot.show(src, extent=extent, ax=ax, cmap='pink')\n",
    "    src.close()"
   ]
  },
  {
   "cell_type": "code",
   "execution_count": null,
   "metadata": {},
   "outputs": [],
   "source": []
  },
  {
   "cell_type": "code",
   "execution_count": null,
   "metadata": {},
   "outputs": [],
   "source": [
    "data_with_coord[:,:,66:] = adjusted"
   ]
  }
 ],
 "metadata": {
  "kernelspec": {
   "display_name": "Python 3",
   "language": "python",
   "name": "python3"
  },
  "language_info": {
   "codemirror_mode": {
    "name": "ipython",
    "version": 3
   },
   "file_extension": ".py",
   "mimetype": "text/x-python",
   "name": "python",
   "nbconvert_exporter": "python",
   "pygments_lexer": "ipython3",
   "version": "3.9.13"
  },
  "orig_nbformat": 4,
  "vscode": {
   "interpreter": {
    "hash": "26de051ba29f2982a8de78e945f0abaf191376122a1563185a90213a26c5da77"
   }
  }
 },
 "nbformat": 4,
 "nbformat_minor": 2
}
