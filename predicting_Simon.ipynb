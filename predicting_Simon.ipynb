{
 "cells": [
  {
   "cell_type": "markdown",
   "metadata": {},
   "source": [
    "## Predicting"
   ]
  },
  {
   "attachments": {},
   "cell_type": "markdown",
   "metadata": {},
   "source": [
    "**Importing librairies**\n"
   ]
  },
  {
   "cell_type": "code",
   "execution_count": 127,
   "metadata": {},
   "outputs": [],
   "source": [
    "from sklearn.linear_model import SGDClassifier\n",
    "from sklearn.preprocessing import StandardScaler\n",
    "import pandas as pd\n",
    "from sklearn.model_selection import train_test_split\n",
    "from sklearn.metrics import accuracy_score\n",
    "import numpy as np\n",
    "import matplotlib.pyplot as plt\n",
    "from sklearn.utils.class_weight import compute_class_weight\n",
    "\n",
    "import warnings\n",
    "warnings.filterwarnings('ignore')\n",
    "from sklearn.utils import shuffle\n",
    "import geopandas as gpd\n",
    "from tqdm import tqdm"
   ]
  },
  {
   "attachments": {},
   "cell_type": "markdown",
   "metadata": {},
   "source": [
    "**Denne nettsiden snakker litt om hvordan jobbe med ubalanserte datasett**"
   ]
  },
  {
   "attachments": {},
   "cell_type": "markdown",
   "metadata": {},
   "source": [
    "https://medium.com/digital-catapult/dealing-with-imbalanced-data-8b21e6deb6cd"
   ]
  },
  {
   "attachments": {},
   "cell_type": "markdown",
   "metadata": {},
   "source": [
    "**Importing data**"
   ]
  },
  {
   "cell_type": "code",
   "execution_count": 128,
   "metadata": {},
   "outputs": [],
   "source": [
    "Filename = \"data\\_tarefelt1.csv\"\n",
    "data = pd.read_csv(Filename)\n"
   ]
  },
  {
   "cell_type": "code",
   "execution_count": 129,
   "metadata": {},
   "outputs": [],
   "source": [
    "#Removes 90% of data labeled 0\n",
    "data = data.drop(data[data['label'] == 0].sample(frac=.95).index)"
   ]
  },
  {
   "cell_type": "code",
   "execution_count": 130,
   "metadata": {},
   "outputs": [],
   "source": [
    "data_x = data.drop(columns = \"label\")\n",
    "data_x = data.drop(columns = \"geometry\")\n",
    "data_y = data.label"
   ]
  },
  {
   "cell_type": "code",
   "execution_count": 250,
   "metadata": {},
   "outputs": [],
   "source": [
    "scaler = StandardScaler()\n",
    "scaler.fit(data_x) \n",
    "scaled_data_x = scaler.transform(data_x)\n",
    "data_x = pd.DataFrame(scaled_data_x, index= data_x.index, columns=data_x.columns)\n"
   ]
  },
  {
   "attachments": {},
   "cell_type": "markdown",
   "metadata": {},
   "source": [
    "**Splitting Data**"
   ]
  },
  {
   "cell_type": "code",
   "execution_count": 131,
   "metadata": {},
   "outputs": [],
   "source": [
    "X_train, X_test ,y_train, y_test = train_test_split( data_x, data_y, test_size=0.30, random_state=42)\n",
    "X_test, X_val ,y_test, y_val = train_test_split( X_test, y_test, test_size=0.5, random_state=42)"
   ]
  },
  {
   "attachments": {},
   "cell_type": "markdown",
   "metadata": {},
   "source": [
    "**Definerer en batch generator**"
   ]
  },
  {
   "cell_type": "code",
   "execution_count": 132,
   "metadata": {},
   "outputs": [],
   "source": [
    "def batch(iterable_X, iterable_y, n=1):\n",
    "    '''\n",
    "    n: batchsize\n",
    "    iterable_X: X frame to be iterated over\n",
    "    iterable_y: y frame to be iterated over\n",
    "    '''\n",
    "    l = len(iterable_X)\n",
    "    for ndx in range(0, l, n):\n",
    "        yield iterable_X[ndx:min(ndx + n, l)], iterable_y[ndx:min(ndx + n, l)]\n"
   ]
  },
  {
   "cell_type": "code",
   "execution_count": 180,
   "metadata": {},
   "outputs": [],
   "source": [
    "\"\"\" scaler = StandardScaler()\n",
    "scaler.fit(X_train) \n",
    "scaled_X_train = scaler.transform(X_train)\n",
    "X_train = pd.DataFrame(scaled_X_train, index= X_train.index, columns=X_train.columns)\n",
    "scaled_X_test = scaler.transform(X_test)\n",
    "X_test  = pd.DataFrame(scaled_X_test, index= X_test.index, columns=X_test.columns)\n",
    "scaled_X_val = scaler.transform(X_val)\n",
    "X_val  = pd.DataFrame(scaled_X_val, index= X_val.index, columns=X_val.columns) \"\"\""
   ]
  },
  {
   "attachments": {},
   "cell_type": "markdown",
   "metadata": {},
   "source": [
    "**Training the model**  \n"
   ]
  },
  {
   "cell_type": "code",
   "execution_count": 242,
   "metadata": {},
   "outputs": [
    {
     "name": "stderr",
     "output_type": "stream",
     "text": [
      " inner loop:  11%|█▏        | 8/70 [00:00<00:01, 36.70it/s]\n",
      " inner loop:  11%|█▏        | 8/70 [00:00<00:01, 52.98it/s]\n",
      " inner loop:  11%|█▏        | 8/70 [00:00<00:01, 56.74it/s]\n",
      " inner loop:  11%|█▏        | 8/70 [00:00<00:01, 52.98it/s]\n",
      " inner loop:  11%|█▏        | 8/70 [00:00<00:01, 52.63it/s]\n",
      " inner loop:  11%|█▏        | 8/70 [00:00<00:01, 54.79it/s]\n",
      " inner loop:  11%|█▏        | 8/70 [00:00<00:01, 54.80it/s]\n",
      " inner loop:  11%|█▏        | 8/70 [00:00<00:01, 53.33it/s]\n",
      " inner loop:  11%|█▏        | 8/70 [00:00<00:01, 56.74it/s]\n",
      " inner loop:  11%|█▏        | 8/70 [00:00<00:01, 51.28it/s]\n",
      " inner loop:  11%|█▏        | 8/70 [00:00<00:01, 49.08it/s]\n",
      " inner loop:  11%|█▏        | 8/70 [00:00<00:01, 49.08it/s]\n",
      " inner loop:  11%|█▏        | 8/70 [00:00<00:01, 51.61it/s]\n",
      " inner loop:  11%|█▏        | 8/70 [00:00<00:01, 56.74it/s]\n",
      " inner loop:  11%|█▏        | 8/70 [00:00<00:01, 37.23it/s]\n",
      " inner loop:  11%|█▏        | 8/70 [00:00<00:01, 51.62it/s]\n",
      " inner loop:  11%|█▏        | 8/70 [00:00<00:01, 54.42it/s]\n",
      " inner loop:  11%|█▏        | 8/70 [00:00<00:01, 54.79it/s]\n",
      " inner loop:  11%|█▏        | 8/70 [00:00<00:01, 55.17it/s]\n",
      " inner loop:  11%|█▏        | 8/70 [00:00<00:01, 56.34it/s]\n",
      " inner loop:  11%|█▏        | 8/70 [00:00<00:01, 52.29it/s]\n",
      " inner loop:  11%|█▏        | 8/70 [00:00<00:01, 57.56it/s]\n",
      " inner loop:  11%|█▏        | 8/70 [00:00<00:01, 47.90it/s]\n",
      " inner loop:  11%|█▏        | 8/70 [00:00<00:01, 56.34it/s]\n",
      " inner loop:  11%|█▏        | 8/70 [00:00<00:01, 49.69it/s]\n",
      " inner loop:  11%|█▏        | 8/70 [00:00<00:01, 51.62it/s]\n",
      " inner loop:  11%|█▏        | 8/70 [00:00<00:01, 52.98it/s]\n",
      " inner loop:  11%|█▏        | 8/70 [00:00<00:01, 35.56it/s]\n",
      " inner loop:  11%|█▏        | 8/70 [00:00<00:01, 54.80it/s]\n",
      " inner loop:  11%|█▏        | 8/70 [00:00<00:01, 50.96it/s]\n",
      " inner loop:  11%|█▏        | 8/70 [00:00<00:01, 55.94it/s]\n",
      " inner loop:  11%|█▏        | 8/70 [00:00<00:01, 59.70it/s]\n",
      " inner loop:  11%|█▏        | 8/70 [00:00<00:01, 58.82it/s]\n",
      " inner loop:  11%|█▏        | 8/70 [00:00<00:01, 50.00it/s]\n",
      " inner loop:  11%|█▏        | 8/70 [00:00<00:01, 49.38it/s]\n",
      " inner loop:  11%|█▏        | 8/70 [00:00<00:01, 50.31it/s]\n",
      " inner loop:  11%|█▏        | 8/70 [00:00<00:01, 58.82it/s]\n",
      " inner loop:  11%|█▏        | 8/70 [00:00<00:01, 59.26it/s]\n",
      " inner loop:  11%|█▏        | 8/70 [00:00<00:01, 57.55it/s]\n",
      " inner loop:  11%|█▏        | 8/70 [00:00<00:01, 57.55it/s]\n",
      " inner loop:  11%|█▏        | 8/70 [00:00<00:01, 54.05it/s]\n",
      " inner loop:  11%|█▏        | 8/70 [00:00<00:01, 36.49it/s]\n",
      " inner loop:  11%|█▏        | 8/70 [00:00<00:01, 57.56it/s]\n",
      " inner loop:  11%|█▏        | 8/70 [00:00<00:01, 61.07it/s]\n",
      " inner loop:  11%|█▏        | 8/70 [00:00<00:01, 54.79it/s]\n",
      " inner loop:  11%|█▏        | 8/70 [00:00<00:01, 59.70it/s]\n",
      " inner loop:  11%|█▏        | 8/70 [00:00<00:01, 55.17it/s]\n",
      " inner loop:  11%|█▏        | 8/70 [00:00<00:01, 55.17it/s]\n",
      " inner loop:  11%|█▏        | 8/70 [00:00<00:01, 53.69it/s]\n",
      " inner loop:  11%|█▏        | 8/70 [00:00<00:01, 55.56it/s]\n",
      " inner loop:  11%|█▏        | 8/70 [00:00<00:01, 54.80it/s]\n",
      " inner loop:  11%|█▏        | 8/70 [00:00<00:01, 54.42it/s]\n",
      " inner loop:  11%|█▏        | 8/70 [00:00<00:01, 57.97it/s]\n",
      " inner loop:  11%|█▏        | 8/70 [00:00<00:01, 52.98it/s]\n",
      " inner loop:  11%|█▏        | 8/70 [00:00<00:01, 40.82it/s]\n",
      " inner loop:  11%|█▏        | 8/70 [00:00<00:01, 53.69it/s]\n",
      " inner loop:  11%|█▏        | 8/70 [00:00<00:01, 55.17it/s]\n",
      " inner loop:  11%|█▏        | 8/70 [00:00<00:01, 53.33it/s]\n",
      " inner loop:  11%|█▏        | 8/70 [00:00<00:01, 53.33it/s]\n",
      " inner loop:  11%|█▏        | 8/70 [00:00<00:01, 60.15it/s]\n",
      " inner loop:  11%|█▏        | 8/70 [00:00<00:01, 56.74it/s]\n",
      " inner loop:  11%|█▏        | 8/70 [00:00<00:01, 50.63it/s]\n",
      " inner loop:  11%|█▏        | 8/70 [00:00<00:01, 57.97it/s]\n",
      " inner loop:  11%|█▏        | 8/70 [00:00<00:01, 55.74it/s]\n",
      " inner loop:  11%|█▏        | 8/70 [00:00<00:01, 48.49it/s]\n",
      " inner loop:  11%|█▏        | 8/70 [00:00<00:01, 57.55it/s]\n",
      " inner loop:  11%|█▏        | 8/70 [00:00<00:01, 55.56it/s]\n",
      " inner loop:  11%|█▏        | 8/70 [00:00<00:01, 58.39it/s]\n",
      " inner loop:  11%|█▏        | 8/70 [00:00<00:01, 55.17it/s]\n",
      " inner loop:  11%|█▏        | 8/70 [00:00<00:01, 39.60it/s]\n",
      " inner loop:  11%|█▏        | 8/70 [00:00<00:01, 55.94it/s]\n",
      " inner loop:  11%|█▏        | 8/70 [00:00<00:01, 49.69it/s]\n",
      " inner loop:  11%|█▏        | 8/70 [00:00<00:01, 58.39it/s]\n",
      " inner loop:  11%|█▏        | 8/70 [00:00<00:01, 57.14it/s]\n",
      " inner loop:  11%|█▏        | 8/70 [00:00<00:01, 51.61it/s]\n",
      " inner loop:  11%|█▏        | 8/70 [00:00<00:01, 55.94it/s]\n",
      " inner loop:  11%|█▏        | 8/70 [00:00<00:01, 51.28it/s]\n",
      " inner loop:  11%|█▏        | 8/70 [00:00<00:01, 60.15it/s]\n",
      " inner loop:  11%|█▏        | 8/70 [00:00<00:01, 51.95it/s]\n",
      " inner loop:  11%|█▏        | 8/70 [00:00<00:01, 56.34it/s]\n",
      " inner loop:  11%|█▏        | 8/70 [00:00<00:01, 51.28it/s]\n",
      " inner loop:  11%|█▏        | 8/70 [00:00<00:01, 54.79it/s]\n",
      " inner loop:  11%|█▏        | 8/70 [00:00<00:01, 59.70it/s]\n",
      " inner loop:  11%|█▏        | 8/70 [00:00<00:01, 56.34it/s]\n",
      " inner loop:  11%|█▏        | 8/70 [00:00<00:01, 43.48it/s]\n",
      " inner loop:  11%|█▏        | 8/70 [00:00<00:01, 52.63it/s]\n",
      " inner loop:  11%|█▏        | 8/70 [00:00<00:01, 49.69it/s]\n",
      " inner loop:  11%|█▏        | 8/70 [00:00<00:01, 60.61it/s]\n",
      " inner loop:  11%|█▏        | 8/70 [00:00<00:01, 55.56it/s]\n",
      " inner loop:  11%|█▏        | 8/70 [00:00<00:01, 54.05it/s]\n",
      " inner loop:  11%|█▏        | 8/70 [00:00<00:01, 54.05it/s]\n",
      " inner loop:  11%|█▏        | 8/70 [00:00<00:01, 60.15it/s]\n",
      " inner loop:  11%|█▏        | 8/70 [00:00<00:01, 49.69it/s]\n",
      " inner loop:  11%|█▏        | 8/70 [00:00<00:01, 50.63it/s]\n",
      " inner loop:  11%|█▏        | 8/70 [00:00<00:01, 51.29it/s]\n",
      " inner loop:  11%|█▏        | 8/70 [00:00<00:01, 57.97it/s]\n",
      " inner loop:  11%|█▏        | 8/70 [00:00<00:01, 54.05it/s]\n",
      " inner loop:  11%|█▏        | 8/70 [00:00<00:00, 63.49it/s]\n",
      " inner loop:  11%|█▏        | 8/70 [00:00<00:01, 41.45it/s]\n",
      " inner loop:  11%|█▏        | 8/70 [00:00<00:01, 56.34it/s]\n",
      " inner loop:  11%|█▏        | 8/70 [00:00<00:01, 54.79it/s]\n",
      " inner loop:  11%|█▏        | 8/70 [00:00<00:01, 59.26it/s]\n",
      " inner loop:  11%|█▏        | 8/70 [00:00<00:01, 53.69it/s]\n",
      " inner loop:  11%|█▏        | 8/70 [00:00<00:01, 55.17it/s]\n",
      " inner loop:  11%|█▏        | 8/70 [00:00<00:01, 56.34it/s]\n",
      " inner loop:  11%|█▏        | 8/70 [00:00<00:01, 55.94it/s]\n",
      " inner loop:  11%|█▏        | 8/70 [00:00<00:01, 55.56it/s]\n",
      " inner loop:  11%|█▏        | 8/70 [00:00<00:01, 59.26it/s]\n",
      " inner loop:  11%|█▏        | 8/70 [00:00<00:01, 54.42it/s]\n",
      " inner loop:  11%|█▏        | 8/70 [00:00<00:01, 59.70it/s]\n",
      " inner loop:  11%|█▏        | 8/70 [00:00<00:01, 40.61it/s]\n",
      " inner loop:  11%|█▏        | 8/70 [00:00<00:01, 60.15it/s]\n",
      " inner loop:  11%|█▏        | 8/70 [00:00<00:01, 57.14it/s]\n",
      " inner loop:  11%|█▏        | 8/70 [00:00<00:01, 55.95it/s]\n",
      " inner loop:  11%|█▏        | 8/70 [00:00<00:01, 57.97it/s]\n",
      " inner loop:  11%|█▏        | 8/70 [00:00<00:01, 52.29it/s]\n",
      " inner loop:  11%|█▏        | 8/70 [00:00<00:01, 54.42it/s]\n",
      " inner loop:  11%|█▏        | 8/70 [00:00<00:01, 56.74it/s]\n",
      " inner loop:  11%|█▏        | 8/70 [00:00<00:01, 55.17it/s]\n",
      " inner loop:  11%|█▏        | 8/70 [00:00<00:01, 52.98it/s]\n",
      " inner loop:  11%|█▏        | 8/70 [00:00<00:01, 56.34it/s]\n",
      " inner loop:  11%|█▏        | 8/70 [00:00<00:01, 59.70it/s]\n",
      " inner loop:  11%|█▏        | 8/70 [00:00<00:01, 57.56it/s]\n",
      " inner loop:  11%|█▏        | 8/70 [00:00<00:01, 55.56it/s]\n",
      " inner loop:  11%|█▏        | 8/70 [00:00<00:01, 37.91it/s]\n",
      " inner loop:  11%|█▏        | 8/70 [00:00<00:01, 54.80it/s]\n",
      " inner loop:  11%|█▏        | 8/70 [00:00<00:01, 56.74it/s]\n",
      " inner loop:  11%|█▏        | 8/70 [00:00<00:01, 53.33it/s]\n",
      " inner loop:  11%|█▏        | 8/70 [00:00<00:01, 55.17it/s]\n",
      " inner loop:  11%|█▏        | 8/70 [00:00<00:01, 58.82it/s]\n",
      " inner loop:  11%|█▏        | 8/70 [00:00<00:01, 55.17it/s]\n",
      " inner loop:  11%|█▏        | 8/70 [00:00<00:01, 57.14it/s]\n",
      " inner loop:  11%|█▏        | 8/70 [00:00<00:01, 54.05it/s]\n",
      " inner loop:  11%|█▏        | 8/70 [00:00<00:01, 58.40it/s]\n",
      " inner loop:  11%|█▏        | 8/70 [00:00<00:00, 62.99it/s]\n",
      " inner loop:  11%|█▏        | 8/70 [00:00<00:01, 55.94it/s]\n",
      " inner loop:  11%|█▏        | 8/70 [00:00<00:01, 58.40it/s]\n",
      " inner loop:  11%|█▏        | 8/70 [00:00<00:01, 42.33it/s]\n",
      " inner loop:  11%|█▏        | 8/70 [00:00<00:01, 57.97it/s]\n",
      " inner loop:  11%|█▏        | 8/70 [00:00<00:01, 50.00it/s]\n",
      " inner loop:  11%|█▏        | 8/70 [00:00<00:01, 59.26it/s]\n",
      " inner loop:  11%|█▏        | 8/70 [00:00<00:01, 55.94it/s]\n",
      " inner loop:  11%|█▏        | 8/70 [00:00<00:01, 51.28it/s]\n",
      " inner loop:  11%|█▏        | 8/70 [00:00<00:01, 59.26it/s]\n",
      " inner loop:  11%|█▏        | 8/70 [00:00<00:01, 54.79it/s]\n",
      " inner loop:  11%|█▏        | 8/70 [00:00<00:01, 54.06it/s]\n",
      " inner loop:  11%|█▏        | 8/70 [00:00<00:01, 60.61it/s]\n",
      " inner loop:  11%|█▏        | 8/70 [00:00<00:01, 57.14it/s]\n",
      " inner loop:  11%|█▏        | 8/70 [00:00<00:01, 58.40it/s]\n",
      " inner loop:  11%|█▏        | 8/70 [00:00<00:01, 59.70it/s]\n",
      " inner loop:  11%|█▏        | 8/70 [00:00<00:01, 44.94it/s]\n",
      " inner loop:  11%|█▏        | 8/70 [00:00<00:01, 56.34it/s]\n",
      " inner loop:  11%|█▏        | 8/70 [00:00<00:01, 54.79it/s]\n",
      " inner loop:  11%|█▏        | 8/70 [00:00<00:01, 51.28it/s]\n",
      " inner loop:  11%|█▏        | 8/70 [00:00<00:01, 55.94it/s]\n",
      " inner loop:  11%|█▏        | 8/70 [00:00<00:01, 56.74it/s]\n",
      " inner loop:  11%|█▏        | 8/70 [00:00<00:01, 50.96it/s]\n",
      " inner loop:  11%|█▏        | 8/70 [00:00<00:01, 45.45it/s]\n",
      " inner loop:  11%|█▏        | 8/70 [00:00<00:01, 55.17it/s]\n",
      " inner loop:  11%|█▏        | 8/70 [00:00<00:01, 49.08it/s]\n",
      " inner loop:  11%|█▏        | 8/70 [00:00<00:01, 50.31it/s]\n",
      " inner loop:  11%|█▏        | 8/70 [00:00<00:01, 50.00it/s]\n",
      " inner loop:  11%|█▏        | 8/70 [00:00<00:01, 47.62it/s]\n",
      " inner loop:  11%|█▏        | 8/70 [00:00<00:01, 37.04it/s]\n",
      " inner loop:  11%|█▏        | 8/70 [00:00<00:01, 37.38it/s]\n",
      " inner loop:  11%|█▏        | 8/70 [00:00<00:01, 49.08it/s]\n",
      " inner loop:  11%|█▏        | 8/70 [00:00<00:01, 50.32it/s]\n",
      " inner loop:  11%|█▏        | 8/70 [00:00<00:01, 50.63it/s]\n",
      " inner loop:  11%|█▏        | 8/70 [00:00<00:01, 48.78it/s]\n",
      " inner loop:  11%|█▏        | 8/70 [00:00<00:01, 36.18it/s]\n",
      " inner loop:  11%|█▏        | 8/70 [00:00<00:01, 45.98it/s]\n",
      " inner loop:  11%|█▏        | 8/70 [00:00<00:01, 50.00it/s]\n",
      " inner loop:  11%|█▏        | 8/70 [00:00<00:01, 49.38it/s]\n",
      " inner loop:  11%|█▏        | 8/70 [00:00<00:01, 52.98it/s]\n",
      " inner loop:  11%|█▏        | 8/70 [00:00<00:01, 47.34it/s]\n",
      " inner loop:  11%|█▏        | 8/70 [00:00<00:01, 45.45it/s]\n",
      " inner loop:  11%|█▏        | 8/70 [00:00<00:01, 48.19it/s]\n",
      " inner loop:  11%|█▏        | 8/70 [00:00<00:01, 47.90it/s]\n",
      " inner loop:  11%|█▏        | 8/70 [00:00<00:01, 48.78it/s]\n",
      " inner loop:  11%|█▏        | 8/70 [00:00<00:01, 51.95it/s]\n",
      " inner loop:  11%|█▏        | 8/70 [00:00<00:01, 34.04it/s]\n",
      " inner loop:  11%|█▏        | 8/70 [00:00<00:01, 47.06it/s]\n",
      " inner loop:  11%|█▏        | 8/70 [00:00<00:01, 49.08it/s]\n",
      " inner loop:  11%|█▏        | 8/70 [00:00<00:01, 47.90it/s]\n",
      " inner loop:  11%|█▏        | 8/70 [00:00<00:01, 54.05it/s]\n",
      " inner loop:  11%|█▏        | 8/70 [00:00<00:01, 50.63it/s]\n",
      " inner loop:  11%|█▏        | 8/70 [00:00<00:01, 48.19it/s]\n",
      " inner loop:  11%|█▏        | 8/70 [00:00<00:01, 50.63it/s]\n",
      " inner loop:  11%|█▏        | 8/70 [00:00<00:01, 53.33it/s]\n",
      " inner loop:  11%|█▏        | 8/70 [00:00<00:01, 52.29it/s]\n",
      " inner loop:  11%|█▏        | 8/70 [00:00<00:01, 35.09it/s]\n",
      " inner loop:  11%|█▏        | 8/70 [00:00<00:01, 45.71it/s]\n",
      " inner loop:  11%|█▏        | 8/70 [00:00<00:01, 44.69it/s]\n",
      " inner loop:  11%|█▏        | 8/70 [00:00<00:01, 52.63it/s]\n",
      " inner loop:  11%|█▏        | 8/70 [00:00<00:01, 50.63it/s]\n",
      " inner loop:  11%|█▏        | 8/70 [00:00<00:01, 55.55it/s]\n",
      " inner loop:  11%|█▏        | 8/70 [00:00<00:01, 52.63it/s]\n",
      " inner loop:  11%|█▏        | 8/70 [00:00<00:01, 46.78it/s]\n",
      " inner loop:  11%|█▏        | 8/70 [00:00<00:01, 46.51it/s]\n",
      " inner loop:  11%|█▏        | 8/70 [00:00<00:01, 48.78it/s]\n",
      " outer: 100%|██████████| 200/200 [00:31<00:00,  6.26it/s]\n"
     ]
    }
   ],
   "source": [
    "class_weights = compute_class_weight(class_weight = \"balanced\", classes= np.unique(y_train), y= y_train)\n",
    "clf = SGDClassifier(max_iter=1000, tol=1e-3, class_weight= dict(zip(np.unique(y_train), class_weights)))\n",
    "\n",
    "\n",
    "classes = np.unique(y_train)\n",
    "accuracy =[]\n",
    "ROUNDS = 200\n",
    "batch_size = 10000\n",
    "for _ in tqdm(range(ROUNDS), desc=\" outer\", position=0, total=ROUNDS):\n",
    "    #X_train, y_train = shuffle(X_train, y_train)\n",
    "    batcherator = batch(X_train, y_train, batch_size)\n",
    "    \n",
    "    for index, (X, target) in tqdm(enumerate(batcherator), desc=\" inner loop\",position=1, leave=True, total=70):\n",
    "\n",
    "        #scaler = StandardScaler()\n",
    "        #scaler.fit(X) \n",
    "        #X = scaler.transform(X)\n",
    "        #test = scaler.transform(X_val) \n",
    "        clf.partial_fit(X, target, classes)\n",
    "        y_predicted = clf.predict(X_test)\n",
    "        accuracy.append(accuracy_score(y_test, y_predicted))"
   ]
  },
  {
   "attachments": {},
   "cell_type": "markdown",
   "metadata": {},
   "source": [
    "**Evaluating Model**\n"
   ]
  },
  {
   "cell_type": "code",
   "execution_count": 243,
   "metadata": {},
   "outputs": [
    {
     "name": "stdout",
     "output_type": "stream",
     "text": [
      "[[7072    0]\n",
      " [   0 8086]]\n"
     ]
    },
    {
     "data": {
      "image/png": "[encoded data removed]",
      "text/plain": [
       "<Figure size 480x480 with 2 Axes>"
      ]
     },
     "metadata": {},
     "output_type": "display_data"
    }
   ],
   "source": [
    "from sklearn.metrics import confusion_matrix\n",
    "\n",
    "conf_mat = confusion_matrix(y_true=y_test, y_pred=y_predicted)\n",
    "\n",
    "print(conf_mat)\n",
    "# Plot matrix\n",
    "plt.matshow(conf_mat)\n",
    "plt.colorbar()\n",
    "plt.ylabel(\"True label\")\n",
    "plt.xlabel(\"predicted label\")\n",
    "plt.show()"
   ]
  },
  {
   "attachments": {},
   "cell_type": "markdown",
   "metadata": {},
   "source": [
    "**Checking over the test set**"
   ]
  },
  {
   "cell_type": "code",
   "execution_count": 246,
   "metadata": {},
   "outputs": [
    {
     "name": "stdout",
     "output_type": "stream",
     "text": [
      "The accuracy of the model was 0.47\n"
     ]
    }
   ],
   "source": [
    "y_predicted = clf.predict(X_val)\n",
    "accuracy = accuracy_score(y_val, y_predicted)\n",
    "print(f\"The accuracy of the model was {np.round(accuracy,2)}\")"
   ]
  },
  {
   "cell_type": "code",
   "execution_count": 247,
   "metadata": {},
   "outputs": [
    {
     "data": {
      "text/plain": [
       "0"
      ]
     },
     "execution_count": 247,
     "metadata": {},
     "output_type": "execute_result"
    }
   ],
   "source": [
    "np.count_nonzero(y_predicted)"
   ]
  },
  {
   "cell_type": "code",
   "execution_count": 248,
   "metadata": {},
   "outputs": [],
   "source": [
    "unique, counts = np.unique(y_predicted, return_counts=True)\n"
   ]
  },
  {
   "cell_type": "code",
   "execution_count": 249,
   "metadata": {},
   "outputs": [
    {
     "name": "stdout",
     "output_type": "stream",
     "text": [
      "[0.]\n",
      "[15158]\n"
     ]
    }
   ],
   "source": [
    "print(unique)\n",
    "print(counts)"
   ]
  },
  {
   "cell_type": "code",
   "execution_count": 219,
   "metadata": {},
   "outputs": [
    {
     "data": {
      "text/html": [
       "<div>\n",
       "<style scoped>\n",
       "    .dataframe tbody tr th:only-of-type {\n",
       "        vertical-align: middle;\n",
       "    }\n",
       "\n",
       "    .dataframe tbody tr th {\n",
       "        vertical-align: top;\n",
       "    }\n",
       "\n",
       "    .dataframe thead th {\n",
       "        text-align: right;\n",
       "    }\n",
       "</style>\n",
       "<table border=\"1\" class=\"dataframe\">\n",
       "  <thead>\n",
       "    <tr style=\"text-align: right;\">\n",
       "      <th></th>\n",
       "      <th>Unnamed: 0</th>\n",
       "      <th>band_0</th>\n",
       "      <th>band_1</th>\n",
       "      <th>band_2</th>\n",
       "      <th>band_3</th>\n",
       "      <th>band_4</th>\n",
       "      <th>band_5</th>\n",
       "      <th>band_6</th>\n",
       "      <th>band_7</th>\n",
       "      <th>band_8</th>\n",
       "      <th>...</th>\n",
       "      <th>band_59</th>\n",
       "      <th>band_60</th>\n",
       "      <th>band_61</th>\n",
       "      <th>band_62</th>\n",
       "      <th>band_63</th>\n",
       "      <th>band_64</th>\n",
       "      <th>band_65</th>\n",
       "      <th>lat</th>\n",
       "      <th>lon</th>\n",
       "      <th>label</th>\n",
       "    </tr>\n",
       "  </thead>\n",
       "  <tbody>\n",
       "    <tr>\n",
       "      <th>304290</th>\n",
       "      <td>-0.146121</td>\n",
       "      <td>0.0</td>\n",
       "      <td>0.0</td>\n",
       "      <td>0.0</td>\n",
       "      <td>-0.199614</td>\n",
       "      <td>-0.172480</td>\n",
       "      <td>-0.171667</td>\n",
       "      <td>-0.196963</td>\n",
       "      <td>-0.199796</td>\n",
       "      <td>-0.211136</td>\n",
       "      <td>...</td>\n",
       "      <td>0.249879</td>\n",
       "      <td>0.547020</td>\n",
       "      <td>-0.009171</td>\n",
       "      <td>-0.138507</td>\n",
       "      <td>-0.232175</td>\n",
       "      <td>0.202288</td>\n",
       "      <td>0.034472</td>\n",
       "      <td>0.794264</td>\n",
       "      <td>0.471694</td>\n",
       "      <td>0.939830</td>\n",
       "    </tr>\n",
       "    <tr>\n",
       "      <th>163729</th>\n",
       "      <td>-0.677945</td>\n",
       "      <td>0.0</td>\n",
       "      <td>0.0</td>\n",
       "      <td>0.0</td>\n",
       "      <td>-0.278093</td>\n",
       "      <td>-0.311427</td>\n",
       "      <td>-0.285135</td>\n",
       "      <td>-0.066120</td>\n",
       "      <td>-0.229157</td>\n",
       "      <td>-0.266033</td>\n",
       "      <td>...</td>\n",
       "      <td>0.344149</td>\n",
       "      <td>-0.105782</td>\n",
       "      <td>0.056444</td>\n",
       "      <td>1.178066</td>\n",
       "      <td>-0.094814</td>\n",
       "      <td>-0.187215</td>\n",
       "      <td>0.092080</td>\n",
       "      <td>-0.763120</td>\n",
       "      <td>0.429262</td>\n",
       "      <td>0.939830</td>\n",
       "    </tr>\n",
       "    <tr>\n",
       "      <th>229137</th>\n",
       "      <td>-0.430469</td>\n",
       "      <td>0.0</td>\n",
       "      <td>0.0</td>\n",
       "      <td>0.0</td>\n",
       "      <td>4.106005</td>\n",
       "      <td>4.110533</td>\n",
       "      <td>4.104008</td>\n",
       "      <td>4.086445</td>\n",
       "      <td>4.135874</td>\n",
       "      <td>4.091279</td>\n",
       "      <td>...</td>\n",
       "      <td>1.852465</td>\n",
       "      <td>2.039685</td>\n",
       "      <td>1.992063</td>\n",
       "      <td>0.467657</td>\n",
       "      <td>0.348966</td>\n",
       "      <td>0.638676</td>\n",
       "      <td>-0.500002</td>\n",
       "      <td>1.200496</td>\n",
       "      <td>0.938975</td>\n",
       "      <td>0.939830</td>\n",
       "    </tr>\n",
       "    <tr>\n",
       "      <th>307209</th>\n",
       "      <td>-0.135077</td>\n",
       "      <td>0.0</td>\n",
       "      <td>0.0</td>\n",
       "      <td>0.0</td>\n",
       "      <td>-0.233503</td>\n",
       "      <td>-0.216091</td>\n",
       "      <td>-0.178114</td>\n",
       "      <td>-0.205571</td>\n",
       "      <td>-0.234051</td>\n",
       "      <td>-0.233467</td>\n",
       "      <td>...</td>\n",
       "      <td>-0.060219</td>\n",
       "      <td>0.096548</td>\n",
       "      <td>-0.021473</td>\n",
       "      <td>-0.478267</td>\n",
       "      <td>-0.619602</td>\n",
       "      <td>-0.800321</td>\n",
       "      <td>-0.160755</td>\n",
       "      <td>1.056328</td>\n",
       "      <td>0.563418</td>\n",
       "      <td>-1.064022</td>\n",
       "    </tr>\n",
       "    <tr>\n",
       "      <th>211188</th>\n",
       "      <td>-0.498380</td>\n",
       "      <td>0.0</td>\n",
       "      <td>0.0</td>\n",
       "      <td>0.0</td>\n",
       "      <td>3.161587</td>\n",
       "      <td>3.096322</td>\n",
       "      <td>2.870045</td>\n",
       "      <td>2.814163</td>\n",
       "      <td>2.940221</td>\n",
       "      <td>3.170130</td>\n",
       "      <td>...</td>\n",
       "      <td>0.527727</td>\n",
       "      <td>0.890600</td>\n",
       "      <td>0.138461</td>\n",
       "      <td>0.015930</td>\n",
       "      <td>-0.450543</td>\n",
       "      <td>-0.183608</td>\n",
       "      <td>-0.717631</td>\n",
       "      <td>1.017763</td>\n",
       "      <td>0.939947</td>\n",
       "      <td>0.939830</td>\n",
       "    </tr>\n",
       "    <tr>\n",
       "      <th>...</th>\n",
       "      <td>...</td>\n",
       "      <td>...</td>\n",
       "      <td>...</td>\n",
       "      <td>...</td>\n",
       "      <td>...</td>\n",
       "      <td>...</td>\n",
       "      <td>...</td>\n",
       "      <td>...</td>\n",
       "      <td>...</td>\n",
       "      <td>...</td>\n",
       "      <td>...</td>\n",
       "      <td>...</td>\n",
       "      <td>...</td>\n",
       "      <td>...</td>\n",
       "      <td>...</td>\n",
       "      <td>...</td>\n",
       "      <td>...</td>\n",
       "      <td>...</td>\n",
       "      <td>...</td>\n",
       "      <td>...</td>\n",
       "      <td>...</td>\n",
       "    </tr>\n",
       "    <tr>\n",
       "      <th>282676</th>\n",
       "      <td>-0.227899</td>\n",
       "      <td>0.0</td>\n",
       "      <td>0.0</td>\n",
       "      <td>0.0</td>\n",
       "      <td>-0.286119</td>\n",
       "      <td>-0.267816</td>\n",
       "      <td>-0.299318</td>\n",
       "      <td>-0.336415</td>\n",
       "      <td>-0.335184</td>\n",
       "      <td>-0.277199</td>\n",
       "      <td>...</td>\n",
       "      <td>-0.472029</td>\n",
       "      <td>-0.289025</td>\n",
       "      <td>-0.173206</td>\n",
       "      <td>-1.265894</td>\n",
       "      <td>-1.658611</td>\n",
       "      <td>-0.208854</td>\n",
       "      <td>-1.095283</td>\n",
       "      <td>-0.462930</td>\n",
       "      <td>0.062684</td>\n",
       "      <td>-1.064022</td>\n",
       "    </tr>\n",
       "    <tr>\n",
       "      <th>97717</th>\n",
       "      <td>-0.927707</td>\n",
       "      <td>0.0</td>\n",
       "      <td>0.0</td>\n",
       "      <td>0.0</td>\n",
       "      <td>-0.278093</td>\n",
       "      <td>-0.315484</td>\n",
       "      <td>-0.283845</td>\n",
       "      <td>-0.317477</td>\n",
       "      <td>-0.297667</td>\n",
       "      <td>-0.244633</td>\n",
       "      <td>...</td>\n",
       "      <td>-1.027725</td>\n",
       "      <td>-0.334836</td>\n",
       "      <td>0.220479</td>\n",
       "      <td>-0.292943</td>\n",
       "      <td>0.348966</td>\n",
       "      <td>0.379007</td>\n",
       "      <td>-0.743235</td>\n",
       "      <td>-0.797387</td>\n",
       "      <td>0.685037</td>\n",
       "      <td>-1.064022</td>\n",
       "    </tr>\n",
       "    <tr>\n",
       "      <th>201911</th>\n",
       "      <td>-0.533480</td>\n",
       "      <td>0.0</td>\n",
       "      <td>0.0</td>\n",
       "      <td>0.0</td>\n",
       "      <td>-0.315548</td>\n",
       "      <td>-0.253617</td>\n",
       "      <td>-0.348316</td>\n",
       "      <td>-0.310591</td>\n",
       "      <td>-0.251994</td>\n",
       "      <td>-0.288364</td>\n",
       "      <td>...</td>\n",
       "      <td>-0.042853</td>\n",
       "      <td>0.604284</td>\n",
       "      <td>0.630568</td>\n",
       "      <td>0.371134</td>\n",
       "      <td>0.264436</td>\n",
       "      <td>0.660315</td>\n",
       "      <td>0.783374</td>\n",
       "      <td>-1.302691</td>\n",
       "      <td>0.060093</td>\n",
       "      <td>0.939830</td>\n",
       "    </tr>\n",
       "    <tr>\n",
       "      <th>823643</th>\n",
       "      <td>1.818894</td>\n",
       "      <td>0.0</td>\n",
       "      <td>0.0</td>\n",
       "      <td>0.0</td>\n",
       "      <td>-0.250447</td>\n",
       "      <td>-0.327655</td>\n",
       "      <td>-0.290292</td>\n",
       "      <td>-0.214180</td>\n",
       "      <td>-0.141074</td>\n",
       "      <td>-0.255798</td>\n",
       "      <td>...</td>\n",
       "      <td>-0.082546</td>\n",
       "      <td>-0.143958</td>\n",
       "      <td>-0.382352</td>\n",
       "      <td>0.421326</td>\n",
       "      <td>1.278791</td>\n",
       "      <td>-1.193431</td>\n",
       "      <td>-0.580013</td>\n",
       "      <td>0.237665</td>\n",
       "      <td>-1.867415</td>\n",
       "      <td>-1.064022</td>\n",
       "    </tr>\n",
       "    <tr>\n",
       "      <th>8432</th>\n",
       "      <td>-1.265524</td>\n",
       "      <td>0.0</td>\n",
       "      <td>0.0</td>\n",
       "      <td>0.0</td>\n",
       "      <td>-0.311089</td>\n",
       "      <td>-0.273901</td>\n",
       "      <td>-0.210349</td>\n",
       "      <td>-0.253777</td>\n",
       "      <td>-0.291142</td>\n",
       "      <td>-0.293947</td>\n",
       "      <td>...</td>\n",
       "      <td>-0.400086</td>\n",
       "      <td>-0.334836</td>\n",
       "      <td>-0.275728</td>\n",
       "      <td>-0.235030</td>\n",
       "      <td>-0.454065</td>\n",
       "      <td>-0.421638</td>\n",
       "      <td>-0.317577</td>\n",
       "      <td>0.015050</td>\n",
       "      <td>1.370636</td>\n",
       "      <td>-1.064022</td>\n",
       "    </tr>\n",
       "  </tbody>\n",
       "</table>\n",
       "<p>15158 rows × 70 columns</p>\n",
       "</div>"
      ],
      "text/plain": [
       "        Unnamed: 0  band_0  band_1  band_2    band_3    band_4    band_5  \\\n",
       "304290   -0.146121     0.0     0.0     0.0 -0.199614 -0.172480 -0.171667   \n",
       "163729   -0.677945     0.0     0.0     0.0 -0.278093 -0.311427 -0.285135   \n",
       "229137   -0.430469     0.0     0.0     0.0  4.106005  4.110533  4.104008   \n",
       "307209   -0.135077     0.0     0.0     0.0 -0.233503 -0.216091 -0.178114   \n",
       "211188   -0.498380     0.0     0.0     0.0  3.161587  3.096322  2.870045   \n",
       "...            ...     ...     ...     ...       ...       ...       ...   \n",
       "282676   -0.227899     0.0     0.0     0.0 -0.286119 -0.267816 -0.299318   \n",
       "97717    -0.927707     0.0     0.0     0.0 -0.278093 -0.315484 -0.283845   \n",
       "201911   -0.533480     0.0     0.0     0.0 -0.315548 -0.253617 -0.348316   \n",
       "823643    1.818894     0.0     0.0     0.0 -0.250447 -0.327655 -0.290292   \n",
       "8432     -1.265524     0.0     0.0     0.0 -0.311089 -0.273901 -0.210349   \n",
       "\n",
       "          band_6    band_7    band_8  ...   band_59   band_60   band_61  \\\n",
       "304290 -0.196963 -0.199796 -0.211136  ...  0.249879  0.547020 -0.009171   \n",
       "163729 -0.066120 -0.229157 -0.266033  ...  0.344149 -0.105782  0.056444   \n",
       "229137  4.086445  4.135874  4.091279  ...  1.852465  2.039685  1.992063   \n",
       "307209 -0.205571 -0.234051 -0.233467  ... -0.060219  0.096548 -0.021473   \n",
       "211188  2.814163  2.940221  3.170130  ...  0.527727  0.890600  0.138461   \n",
       "...          ...       ...       ...  ...       ...       ...       ...   \n",
       "282676 -0.336415 -0.335184 -0.277199  ... -0.472029 -0.289025 -0.173206   \n",
       "97717  -0.317477 -0.297667 -0.244633  ... -1.027725 -0.334836  0.220479   \n",
       "201911 -0.310591 -0.251994 -0.288364  ... -0.042853  0.604284  0.630568   \n",
       "823643 -0.214180 -0.141074 -0.255798  ... -0.082546 -0.143958 -0.382352   \n",
       "8432   -0.253777 -0.291142 -0.293947  ... -0.400086 -0.334836 -0.275728   \n",
       "\n",
       "         band_62   band_63   band_64   band_65       lat       lon     label  \n",
       "304290 -0.138507 -0.232175  0.202288  0.034472  0.794264  0.471694  0.939830  \n",
       "163729  1.178066 -0.094814 -0.187215  0.092080 -0.763120  0.429262  0.939830  \n",
       "229137  0.467657  0.348966  0.638676 -0.500002  1.200496  0.938975  0.939830  \n",
       "307209 -0.478267 -0.619602 -0.800321 -0.160755  1.056328  0.563418 -1.064022  \n",
       "211188  0.015930 -0.450543 -0.183608 -0.717631  1.017763  0.939947  0.939830  \n",
       "...          ...       ...       ...       ...       ...       ...       ...  \n",
       "282676 -1.265894 -1.658611 -0.208854 -1.095283 -0.462930  0.062684 -1.064022  \n",
       "97717  -0.292943  0.348966  0.379007 -0.743235 -0.797387  0.685037 -1.064022  \n",
       "201911  0.371134  0.264436  0.660315  0.783374 -1.302691  0.060093  0.939830  \n",
       "823643  0.421326  1.278791 -1.193431 -0.580013  0.237665 -1.867415 -1.064022  \n",
       "8432   -0.235030 -0.454065 -0.421638 -0.317577  0.015050  1.370636 -1.064022  \n",
       "\n",
       "[15158 rows x 70 columns]"
      ]
     },
     "execution_count": 219,
     "metadata": {},
     "output_type": "execute_result"
    }
   ],
   "source": [
    "X_test"
   ]
  },
  {
   "cell_type": "code",
   "execution_count": 224,
   "metadata": {},
   "outputs": [
    {
     "data": {
      "text/plain": [
       "1.0    8086\n",
       "0.0    7072\n",
       "Name: label, dtype: int64"
      ]
     },
     "execution_count": 224,
     "metadata": {},
     "output_type": "execute_result"
    }
   ],
   "source": [
    "y_test.value_counts()\n"
   ]
  },
  {
   "attachments": {},
   "cell_type": "markdown",
   "metadata": {},
   "source": [
    "**Plotting the predicted seaweed and comparing with naturdirektoratet**"
   ]
  },
  {
   "cell_type": "code",
   "execution_count": 222,
   "metadata": {},
   "outputs": [],
   "source": [
    "X = X_test.copy()\n",
    "X[\"label\"] = y_test\n",
    "X[\"y_predicted\"] = y_predicted\n",
    "X = gpd.GeoDataFrame(X, geometry=gpd.points_from_xy(X.lon, X.lat))\n",
    "\n",
    "df_no_seaweed = X[X[\"y_predicted\"] == False].copy()\n",
    "df_seaweed = X[X[\"y_predicted\"] == True].copy()\n",
    "df_true_seaweed = X[X[\"label\"] == True].copy()"
   ]
  },
  {
   "cell_type": "code",
   "execution_count": 223,
   "metadata": {},
   "outputs": [
    {
     "data": {
      "text/plain": [
       "<matplotlib.legend.Legend at 0x1ad80235b20>"
      ]
     },
     "execution_count": 223,
     "metadata": {},
     "output_type": "execute_result"
    },
    {
     "data": {
      "image/png": "[encoded data removed]",
      "text/plain": [
       "<Figure size 640x480 with 1 Axes>"
      ]
     },
     "metadata": {},
     "output_type": "display_data"
    }
   ],
   "source": [
    "fig, ax = plt.subplots()\n",
    "#df_no_seaweed.plot(ax = ax, color = \"blue\", label = \"no seaweed\")\n",
    "df_true_seaweed.plot(ax = ax, color = \"green\", label = \"True seaweed\", markersize = 2)\n",
    "df_seaweed.plot(ax = ax, color = \"red\", label = \"Seaweed\", markersize = 1)\n",
    "\n",
    "ax.set_title(\"Labelling Prisma data\")\n",
    "ax.set_xlabel(\"lon\")\n",
    "ax.set_ylabel(\"lat\")\n",
    "ax.legend()"
   ]
  },
  {
   "cell_type": "code",
   "execution_count": null,
   "metadata": {},
   "outputs": [],
   "source": []
  }
 ],
 "metadata": {
  "kernelspec": {
   "display_name": "Python 3",
   "language": "python",
   "name": "python3"
  },
  "language_info": {
   "codemirror_mode": {
    "name": "ipython",
    "version": 3
   },
   "file_extension": ".py",
   "mimetype": "text/x-python",
   "name": "python",
   "nbconvert_exporter": "python",
   "pygments_lexer": "ipython3",
   "version": "3.9.13"
  },
  "orig_nbformat": 4,
  "vscode": {
   "interpreter": {
    "hash": "26de051ba29f2982a8de78e945f0abaf191376122a1563185a90213a26c5da77"
   }
  }
 },
 "nbformat": 4,
 "nbformat_minor": 2
}
