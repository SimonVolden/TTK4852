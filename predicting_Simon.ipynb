{
 "cells": [
  {
   "cell_type": "markdown",
   "metadata": {},
   "source": [
    "## Predicting"
   ]
  },
  {
   "attachments": {},
   "cell_type": "markdown",
   "metadata": {},
   "source": [
    "**Importing librairies**\n"
   ]
  },
  {
   "cell_type": "code",
   "execution_count": 127,
   "metadata": {},
   "outputs": [],
   "source": [
    "from sklearn.linear_model import SGDClassifier\n",
    "from sklearn.preprocessing import StandardScaler\n",
    "import pandas as pd\n",
    "from sklearn.model_selection import train_test_split\n",
    "from sklearn.metrics import accuracy_score\n",
    "import numpy as np\n",
    "import matplotlib.pyplot as plt\n",
    "from sklearn.utils.class_weight import compute_class_weight\n",
    "\n",
    "import warnings\n",
    "warnings.filterwarnings('ignore')\n",
    "from sklearn.utils import shuffle\n",
    "import geopandas as gpd\n",
    "from tqdm import tqdm"
   ]
  },
  {
   "attachments": {},
   "cell_type": "markdown",
   "metadata": {},
   "source": [
    "**Denne nettsiden snakker litt om hvordan jobbe med ubalanserte datasett**"
   ]
  },
  {
   "attachments": {},
   "cell_type": "markdown",
   "metadata": {},
   "source": [
    "https://medium.com/digital-catapult/dealing-with-imbalanced-data-8b21e6deb6cd"
   ]
  },
  {
   "attachments": {},
   "cell_type": "markdown",
   "metadata": {},
   "source": [
    "**Importing data**"
   ]
  },
  {
   "cell_type": "code",
   "execution_count": 128,
   "metadata": {},
   "outputs": [],
   "source": [
    "Filename = \"data\\_tarefelt1.csv\"\n",
    "data = pd.read_csv(Filename)\n"
   ]
  },
  {
   "cell_type": "code",
   "execution_count": 129,
   "metadata": {},
   "outputs": [],
   "source": [
    "#Removes 90% of data labeled 0\n",
    "data = data.drop(data[data['label'] == 0].sample(frac=.95).index)"
   ]
  },
  {
   "cell_type": "code",
   "execution_count": 130,
   "metadata": {},
   "outputs": [],
   "source": [
    "data_x = data.drop(columns = \"label\")\n",
    "data_x = data.drop(columns = \"geometry\")\n",
    "data_y = data.label"
   ]
  },
  {
   "attachments": {},
   "cell_type": "markdown",
   "metadata": {},
   "source": [
    "**Splitting Data**"
   ]
  },
  {
   "cell_type": "code",
   "execution_count": 131,
   "metadata": {},
   "outputs": [],
   "source": [
    "X_train, X_test ,y_train, y_test = train_test_split( data_x, data_y, test_size=0.30, random_state=42)\n",
    "X_test, X_val ,y_test, y_val = train_test_split( X_test, y_test, test_size=0.5, random_state=42)"
   ]
  },
  {
   "attachments": {},
   "cell_type": "markdown",
   "metadata": {},
   "source": [
    "**Definerer en batch generator**"
   ]
  },
  {
   "cell_type": "code",
   "execution_count": 132,
   "metadata": {},
   "outputs": [],
   "source": [
    "def batch(iterable_X, iterable_y, n=1):\n",
    "    '''\n",
    "    n: batchsize\n",
    "    iterable_X: X frame to be iterated over\n",
    "    iterable_y: y frame to be iterated over\n",
    "    '''\n",
    "    l = len(iterable_X)\n",
    "    for ndx in range(0, l, n):\n",
    "        yield iterable_X[ndx:min(ndx + n, l)], iterable_y[ndx:min(ndx + n, l)]\n"
   ]
  },
  {
   "cell_type": "code",
   "execution_count": 156,
   "metadata": {},
   "outputs": [],
   "source": [
    "scaler = StandardScaler()\n",
    "scaler.fit(X_train) \n",
    "scaled_X_train = scaler.transform(X_train)\n",
    "X_train = pd.DataFrame(scaled_X_train, index= X_train.index, columns=X_train.columns)\n",
    "scaled_X_test = scaler.transform(X_test)\n",
    "X_test  = pd.DataFrame(scaled_X_test, index= X_test.index, columns=X_test.columns)"
   ]
  },
  {
   "attachments": {},
   "cell_type": "markdown",
   "metadata": {},
   "source": [
    "**Training the model**  \n"
   ]
  },
  {
   "cell_type": "code",
   "execution_count": 155,
   "metadata": {},
   "outputs": [
    {
     "name": "stderr",
     "output_type": "stream",
     "text": [
      " inner loop:  11%|█▏        | 8/70 [00:00<00:03, 19.23it/s]\n",
      " inner loop:  11%|█▏        | 8/70 [00:00<00:03, 20.30it/s]\n",
      " outer: 100%|██████████| 2/2 [00:00<00:00,  2.43it/s]\n"
     ]
    }
   ],
   "source": [
    "class_weights = compute_class_weight(class_weight = \"balanced\", classes= np.unique(y_train), y= y_train)\n",
    "clf = SGDClassifier(max_iter=1000, tol=1e-3, class_weight= dict(zip(np.unique(y_train), class_weights)))\n",
    "\n",
    "\n",
    "classes = np.unique(y_train)\n",
    "accuracy =[]\n",
    "ROUNDS = 2\n",
    "batch_size = 10000\n",
    "for _ in tqdm(range(ROUNDS), desc=\" outer\", position=0, total=ROUNDS):\n",
    "    #X_train, y_train = shuffle(X_train, y_train)\n",
    "    batcherator = batch(X_train, y_train, batch_size)\n",
    "    \n",
    "    for index, (X, target) in tqdm(enumerate(batcherator), desc=\" inner loop\",position=1, leave=True, total=70):\n",
    "\n",
    "        #scaler = StandardScaler()\n",
    "        #scaler.fit(X) \n",
    "        #X = scaler.transform(X)\n",
    "        #test = scaler.transform(X_val) \n",
    "        clf.partial_fit(X, target, classes)\n",
    "        y_predicted = clf.predict(X_test)\n",
    "        accuracy.append(accuracy_score(y_val, y_predicted))"
   ]
  },
  {
   "attachments": {},
   "cell_type": "markdown",
   "metadata": {},
   "source": [
    "**Evaluating Model**\n"
   ]
  },
  {
   "cell_type": "code",
   "execution_count": 151,
   "metadata": {},
   "outputs": [
    {
     "name": "stdout",
     "output_type": "stream",
     "text": [
      "[[3285 3787]\n",
      " [3780 4306]]\n"
     ]
    },
    {
     "data": {
      "image/png": "[encoded data removed]",
      "text/plain": [
       "<Figure size 480x480 with 2 Axes>"
      ]
     },
     "metadata": {},
     "output_type": "display_data"
    }
   ],
   "source": [
    "from sklearn.metrics import confusion_matrix\n",
    "\n",
    "conf_mat = confusion_matrix(y_true=y_test, y_pred=y_predicted)\n",
    "\n",
    "print(conf_mat)\n",
    "# Plot matrix\n",
    "plt.matshow(conf_mat)\n",
    "plt.colorbar()\n",
    "plt.ylabel(\"True label\")\n",
    "plt.xlabel(\"predicted label\")\n",
    "plt.show()"
   ]
  },
  {
   "attachments": {},
   "cell_type": "markdown",
   "metadata": {},
   "source": [
    "**Checking over the test set**"
   ]
  },
  {
   "cell_type": "code",
   "execution_count": 153,
   "metadata": {},
   "outputs": [
    {
     "name": "stdout",
     "output_type": "stream",
     "text": [
      "The accuracy of the model was 0.47\n"
     ]
    }
   ],
   "source": [
    "y_predicted = clf.predict(X_test)\n",
    "accuracy = accuracy_score(y_test, y_predicted)\n",
    "print(f\"The accuracy of the model was {np.round(accuracy,2)}\")"
   ]
  },
  {
   "cell_type": "code",
   "execution_count": 154,
   "metadata": {},
   "outputs": [
    {
     "data": {
      "text/plain": [
       "0"
      ]
     },
     "execution_count": 154,
     "metadata": {},
     "output_type": "execute_result"
    }
   ],
   "source": [
    "np.count_nonzero(y_predicted)"
   ]
  },
  {
   "cell_type": "code",
   "execution_count": 139,
   "metadata": {},
   "outputs": [],
   "source": [
    "unique, counts = np.unique(y_predicted, return_counts=True)\n"
   ]
  },
  {
   "cell_type": "code",
   "execution_count": 140,
   "metadata": {},
   "outputs": [
    {
     "name": "stdout",
     "output_type": "stream",
     "text": [
      "[0.]\n",
      "[15158]\n"
     ]
    }
   ],
   "source": [
    "print(unique)\n",
    "print(counts)"
   ]
  },
  {
   "cell_type": "code",
   "execution_count": 141,
   "metadata": {},
   "outputs": [
    {
     "data": {
      "text/html": [
       "<div>\n",
       "<style scoped>\n",
       "    .dataframe tbody tr th:only-of-type {\n",
       "        vertical-align: middle;\n",
       "    }\n",
       "\n",
       "    .dataframe tbody tr th {\n",
       "        vertical-align: top;\n",
       "    }\n",
       "\n",
       "    .dataframe thead th {\n",
       "        text-align: right;\n",
       "    }\n",
       "</style>\n",
       "<table border=\"1\" class=\"dataframe\">\n",
       "  <thead>\n",
       "    <tr style=\"text-align: right;\">\n",
       "      <th></th>\n",
       "      <th>Unnamed: 0</th>\n",
       "      <th>band_0</th>\n",
       "      <th>band_1</th>\n",
       "      <th>band_2</th>\n",
       "      <th>band_3</th>\n",
       "      <th>band_4</th>\n",
       "      <th>band_5</th>\n",
       "      <th>band_6</th>\n",
       "      <th>band_7</th>\n",
       "      <th>band_8</th>\n",
       "      <th>...</th>\n",
       "      <th>band_59</th>\n",
       "      <th>band_60</th>\n",
       "      <th>band_61</th>\n",
       "      <th>band_62</th>\n",
       "      <th>band_63</th>\n",
       "      <th>band_64</th>\n",
       "      <th>band_65</th>\n",
       "      <th>lat</th>\n",
       "      <th>lon</th>\n",
       "      <th>label</th>\n",
       "    </tr>\n",
       "  </thead>\n",
       "  <tbody>\n",
       "    <tr>\n",
       "      <th>304290</th>\n",
       "      <td>304290</td>\n",
       "      <td>0</td>\n",
       "      <td>0</td>\n",
       "      <td>0</td>\n",
       "      <td>464</td>\n",
       "      <td>434</td>\n",
       "      <td>350</td>\n",
       "      <td>279</td>\n",
       "      <td>306</td>\n",
       "      <td>464</td>\n",
       "      <td>...</td>\n",
       "      <td>5934</td>\n",
       "      <td>6007</td>\n",
       "      <td>5674</td>\n",
       "      <td>5373</td>\n",
       "      <td>5837</td>\n",
       "      <td>6538</td>\n",
       "      <td>6855</td>\n",
       "      <td>62.011312</td>\n",
       "      <td>4.914506</td>\n",
       "      <td>1.0</td>\n",
       "    </tr>\n",
       "    <tr>\n",
       "      <th>163729</th>\n",
       "      <td>163729</td>\n",
       "      <td>0</td>\n",
       "      <td>0</td>\n",
       "      <td>0</td>\n",
       "      <td>376</td>\n",
       "      <td>297</td>\n",
       "      <td>262</td>\n",
       "      <td>355</td>\n",
       "      <td>288</td>\n",
       "      <td>405</td>\n",
       "      <td>...</td>\n",
       "      <td>5972</td>\n",
       "      <td>5836</td>\n",
       "      <td>5690</td>\n",
       "      <td>5714</td>\n",
       "      <td>5876</td>\n",
       "      <td>6430</td>\n",
       "      <td>6873</td>\n",
       "      <td>61.887682</td>\n",
       "      <td>4.908185</td>\n",
       "      <td>1.0</td>\n",
       "    </tr>\n",
       "    <tr>\n",
       "      <th>229137</th>\n",
       "      <td>229137</td>\n",
       "      <td>0</td>\n",
       "      <td>0</td>\n",
       "      <td>0</td>\n",
       "      <td>5292</td>\n",
       "      <td>4657</td>\n",
       "      <td>3666</td>\n",
       "      <td>2767</td>\n",
       "      <td>2964</td>\n",
       "      <td>5088</td>\n",
       "      <td>...</td>\n",
       "      <td>6580</td>\n",
       "      <td>6398</td>\n",
       "      <td>6162</td>\n",
       "      <td>5530</td>\n",
       "      <td>6002</td>\n",
       "      <td>6659</td>\n",
       "      <td>6688</td>\n",
       "      <td>62.043559</td>\n",
       "      <td>4.984119</td>\n",
       "      <td>1.0</td>\n",
       "    </tr>\n",
       "    <tr>\n",
       "      <th>307209</th>\n",
       "      <td>307209</td>\n",
       "      <td>0</td>\n",
       "      <td>0</td>\n",
       "      <td>0</td>\n",
       "      <td>426</td>\n",
       "      <td>391</td>\n",
       "      <td>345</td>\n",
       "      <td>274</td>\n",
       "      <td>285</td>\n",
       "      <td>440</td>\n",
       "      <td>...</td>\n",
       "      <td>5809</td>\n",
       "      <td>5889</td>\n",
       "      <td>5671</td>\n",
       "      <td>5285</td>\n",
       "      <td>5727</td>\n",
       "      <td>6260</td>\n",
       "      <td>6794</td>\n",
       "      <td>62.032115</td>\n",
       "      <td>4.928171</td>\n",
       "      <td>0.0</td>\n",
       "    </tr>\n",
       "    <tr>\n",
       "      <th>211188</th>\n",
       "      <td>211188</td>\n",
       "      <td>0</td>\n",
       "      <td>0</td>\n",
       "      <td>0</td>\n",
       "      <td>4233</td>\n",
       "      <td>3657</td>\n",
       "      <td>2709</td>\n",
       "      <td>2028</td>\n",
       "      <td>2231</td>\n",
       "      <td>4098</td>\n",
       "      <td>...</td>\n",
       "      <td>6046</td>\n",
       "      <td>6097</td>\n",
       "      <td>5710</td>\n",
       "      <td>5413</td>\n",
       "      <td>5775</td>\n",
       "      <td>6431</td>\n",
       "      <td>6620</td>\n",
       "      <td>62.029054</td>\n",
       "      <td>4.984264</td>\n",
       "      <td>1.0</td>\n",
       "    </tr>\n",
       "    <tr>\n",
       "      <th>...</th>\n",
       "      <td>...</td>\n",
       "      <td>...</td>\n",
       "      <td>...</td>\n",
       "      <td>...</td>\n",
       "      <td>...</td>\n",
       "      <td>...</td>\n",
       "      <td>...</td>\n",
       "      <td>...</td>\n",
       "      <td>...</td>\n",
       "      <td>...</td>\n",
       "      <td>...</td>\n",
       "      <td>...</td>\n",
       "      <td>...</td>\n",
       "      <td>...</td>\n",
       "      <td>...</td>\n",
       "      <td>...</td>\n",
       "      <td>...</td>\n",
       "      <td>...</td>\n",
       "      <td>...</td>\n",
       "      <td>...</td>\n",
       "      <td>...</td>\n",
       "    </tr>\n",
       "    <tr>\n",
       "      <th>282676</th>\n",
       "      <td>282676</td>\n",
       "      <td>0</td>\n",
       "      <td>0</td>\n",
       "      <td>0</td>\n",
       "      <td>367</td>\n",
       "      <td>340</td>\n",
       "      <td>251</td>\n",
       "      <td>198</td>\n",
       "      <td>223</td>\n",
       "      <td>393</td>\n",
       "      <td>...</td>\n",
       "      <td>5643</td>\n",
       "      <td>5788</td>\n",
       "      <td>5634</td>\n",
       "      <td>5081</td>\n",
       "      <td>5432</td>\n",
       "      <td>6424</td>\n",
       "      <td>6502</td>\n",
       "      <td>61.911512</td>\n",
       "      <td>4.853574</td>\n",
       "      <td>0.0</td>\n",
       "    </tr>\n",
       "    <tr>\n",
       "      <th>97717</th>\n",
       "      <td>97717</td>\n",
       "      <td>0</td>\n",
       "      <td>0</td>\n",
       "      <td>0</td>\n",
       "      <td>376</td>\n",
       "      <td>293</td>\n",
       "      <td>263</td>\n",
       "      <td>209</td>\n",
       "      <td>246</td>\n",
       "      <td>428</td>\n",
       "      <td>...</td>\n",
       "      <td>5419</td>\n",
       "      <td>5776</td>\n",
       "      <td>5730</td>\n",
       "      <td>5333</td>\n",
       "      <td>6002</td>\n",
       "      <td>6587</td>\n",
       "      <td>6612</td>\n",
       "      <td>61.884962</td>\n",
       "      <td>4.946289</td>\n",
       "      <td>0.0</td>\n",
       "    </tr>\n",
       "    <tr>\n",
       "      <th>201911</th>\n",
       "      <td>201911</td>\n",
       "      <td>0</td>\n",
       "      <td>0</td>\n",
       "      <td>0</td>\n",
       "      <td>334</td>\n",
       "      <td>354</td>\n",
       "      <td>213</td>\n",
       "      <td>213</td>\n",
       "      <td>274</td>\n",
       "      <td>381</td>\n",
       "      <td>...</td>\n",
       "      <td>5816</td>\n",
       "      <td>6022</td>\n",
       "      <td>5830</td>\n",
       "      <td>5505</td>\n",
       "      <td>5978</td>\n",
       "      <td>6665</td>\n",
       "      <td>7089</td>\n",
       "      <td>61.844850</td>\n",
       "      <td>4.853188</td>\n",
       "      <td>1.0</td>\n",
       "    </tr>\n",
       "    <tr>\n",
       "      <th>823643</th>\n",
       "      <td>823643</td>\n",
       "      <td>0</td>\n",
       "      <td>0</td>\n",
       "      <td>0</td>\n",
       "      <td>407</td>\n",
       "      <td>281</td>\n",
       "      <td>258</td>\n",
       "      <td>269</td>\n",
       "      <td>342</td>\n",
       "      <td>416</td>\n",
       "      <td>...</td>\n",
       "      <td>5800</td>\n",
       "      <td>5826</td>\n",
       "      <td>5583</td>\n",
       "      <td>5518</td>\n",
       "      <td>6266</td>\n",
       "      <td>6151</td>\n",
       "      <td>6663</td>\n",
       "      <td>61.967127</td>\n",
       "      <td>4.566037</td>\n",
       "      <td>0.0</td>\n",
       "    </tr>\n",
       "    <tr>\n",
       "      <th>8432</th>\n",
       "      <td>8432</td>\n",
       "      <td>0</td>\n",
       "      <td>0</td>\n",
       "      <td>0</td>\n",
       "      <td>339</td>\n",
       "      <td>334</td>\n",
       "      <td>320</td>\n",
       "      <td>246</td>\n",
       "      <td>250</td>\n",
       "      <td>375</td>\n",
       "      <td>...</td>\n",
       "      <td>5672</td>\n",
       "      <td>5776</td>\n",
       "      <td>5609</td>\n",
       "      <td>5348</td>\n",
       "      <td>5774</td>\n",
       "      <td>6365</td>\n",
       "      <td>6745</td>\n",
       "      <td>61.949456</td>\n",
       "      <td>5.048426</td>\n",
       "      <td>0.0</td>\n",
       "    </tr>\n",
       "  </tbody>\n",
       "</table>\n",
       "<p>15158 rows × 70 columns</p>\n",
       "</div>"
      ],
      "text/plain": [
       "        Unnamed: 0  band_0  band_1  band_2  band_3  band_4  band_5  band_6  \\\n",
       "304290      304290       0       0       0     464     434     350     279   \n",
       "163729      163729       0       0       0     376     297     262     355   \n",
       "229137      229137       0       0       0    5292    4657    3666    2767   \n",
       "307209      307209       0       0       0     426     391     345     274   \n",
       "211188      211188       0       0       0    4233    3657    2709    2028   \n",
       "...            ...     ...     ...     ...     ...     ...     ...     ...   \n",
       "282676      282676       0       0       0     367     340     251     198   \n",
       "97717        97717       0       0       0     376     293     263     209   \n",
       "201911      201911       0       0       0     334     354     213     213   \n",
       "823643      823643       0       0       0     407     281     258     269   \n",
       "8432          8432       0       0       0     339     334     320     246   \n",
       "\n",
       "        band_7  band_8  ...  band_59  band_60  band_61  band_62  band_63  \\\n",
       "304290     306     464  ...     5934     6007     5674     5373     5837   \n",
       "163729     288     405  ...     5972     5836     5690     5714     5876   \n",
       "229137    2964    5088  ...     6580     6398     6162     5530     6002   \n",
       "307209     285     440  ...     5809     5889     5671     5285     5727   \n",
       "211188    2231    4098  ...     6046     6097     5710     5413     5775   \n",
       "...        ...     ...  ...      ...      ...      ...      ...      ...   \n",
       "282676     223     393  ...     5643     5788     5634     5081     5432   \n",
       "97717      246     428  ...     5419     5776     5730     5333     6002   \n",
       "201911     274     381  ...     5816     6022     5830     5505     5978   \n",
       "823643     342     416  ...     5800     5826     5583     5518     6266   \n",
       "8432       250     375  ...     5672     5776     5609     5348     5774   \n",
       "\n",
       "        band_64  band_65        lat       lon  label  \n",
       "304290     6538     6855  62.011312  4.914506    1.0  \n",
       "163729     6430     6873  61.887682  4.908185    1.0  \n",
       "229137     6659     6688  62.043559  4.984119    1.0  \n",
       "307209     6260     6794  62.032115  4.928171    0.0  \n",
       "211188     6431     6620  62.029054  4.984264    1.0  \n",
       "...         ...      ...        ...       ...    ...  \n",
       "282676     6424     6502  61.911512  4.853574    0.0  \n",
       "97717      6587     6612  61.884962  4.946289    0.0  \n",
       "201911     6665     7089  61.844850  4.853188    1.0  \n",
       "823643     6151     6663  61.967127  4.566037    0.0  \n",
       "8432       6365     6745  61.949456  5.048426    0.0  \n",
       "\n",
       "[15158 rows x 70 columns]"
      ]
     },
     "execution_count": 141,
     "metadata": {},
     "output_type": "execute_result"
    }
   ],
   "source": [
    "X_test"
   ]
  },
  {
   "cell_type": "code",
   "execution_count": 60,
   "metadata": {},
   "outputs": [
    {
     "data": {
      "text/plain": [
       "0.0    141984\n",
       "1.0      8016\n",
       "Name: label, dtype: int64"
      ]
     },
     "execution_count": 60,
     "metadata": {},
     "output_type": "execute_result"
    }
   ],
   "source": [
    "y_test.value_counts()\n"
   ]
  },
  {
   "cell_type": "code",
   "execution_count": 61,
   "metadata": {},
   "outputs": [
    {
     "data": {
      "text/plain": [
       "0.05645706558485463"
      ]
     },
     "execution_count": 61,
     "metadata": {},
     "output_type": "execute_result"
    }
   ],
   "source": [
    "8016/141984"
   ]
  },
  {
   "attachments": {},
   "cell_type": "markdown",
   "metadata": {},
   "source": [
    "**Plotting the predicted seaweed and comparing with naturdirektoratet**"
   ]
  },
  {
   "cell_type": "code",
   "execution_count": 62,
   "metadata": {},
   "outputs": [],
   "source": [
    "X = X_test.copy()\n",
    "X[\"label\"] = y_test\n",
    "X[\"y_predicted\"] = y_predicted\n",
    "X = gpd.GeoDataFrame(X, geometry=gpd.points_from_xy(X.lon, X.lat))\n",
    "\n",
    "df_no_seaweed = X[X[\"y_predicted\"] == False].copy()\n",
    "df_seaweed = X[X[\"y_predicted\"] == True].copy()\n",
    "df_true_seaweed = X[X[\"label\"] == True].copy()"
   ]
  },
  {
   "cell_type": "code",
   "execution_count": 63,
   "metadata": {},
   "outputs": [
    {
     "data": {
      "text/plain": [
       "<matplotlib.legend.Legend at 0x1ad8652ab50>"
      ]
     },
     "execution_count": 63,
     "metadata": {},
     "output_type": "execute_result"
    },
    {
     "data": {
      "image/png": "[encoded data removed]",
      "text/plain": [
       "<Figure size 640x480 with 1 Axes>"
      ]
     },
     "metadata": {},
     "output_type": "display_data"
    }
   ],
   "source": [
    "fig, ax = plt.subplots()\n",
    "#df_no_seaweed.plot(ax = ax, color = \"blue\", label = \"no seaweed\")\n",
    "df_true_seaweed.plot(ax = ax, color = \"green\", label = \"True seaweed\", markersize = 2)\n",
    "df_seaweed.plot(ax = ax, color = \"red\", label = \"Seaweed\", markersize = 1)\n",
    "\n",
    "ax.set_title(\"Labelling Prisma data\")\n",
    "ax.set_xlabel(\"lon\")\n",
    "ax.set_ylabel(\"lat\")\n",
    "ax.legend()"
   ]
  },
  {
   "cell_type": "code",
   "execution_count": null,
   "metadata": {},
   "outputs": [],
   "source": []
  }
 ],
 "metadata": {
  "kernelspec": {
   "display_name": "Python 3",
   "language": "python",
   "name": "python3"
  },
  "language_info": {
   "codemirror_mode": {
    "name": "ipython",
    "version": 3
   },
   "file_extension": ".py",
   "mimetype": "text/x-python",
   "name": "python",
   "nbconvert_exporter": "python",
   "pygments_lexer": "ipython3",
   "version": "3.9.13"
  },
  "orig_nbformat": 4,
  "vscode": {
   "interpreter": {
    "hash": "26de051ba29f2982a8de78e945f0abaf191376122a1563185a90213a26c5da77"
   }
  }
 },
 "nbformat": 4,
 "nbformat_minor": 2
}
