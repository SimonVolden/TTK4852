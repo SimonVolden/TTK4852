{
 "cells": [
  {
   "cell_type": "markdown",
   "metadata": {},
   "source": [
    "## Predicting"
   ]
  },
  {
   "attachments": {},
   "cell_type": "markdown",
   "metadata": {},
   "source": [
    "**Importing librairies**\n"
   ]
  },
  {
   "cell_type": "code",
   "execution_count": 644,
   "metadata": {},
   "outputs": [],
   "source": [
    "from sklearn.linear_model import SGDClassifier\n",
    "from sklearn.preprocessing import StandardScaler\n",
    "import pandas as pd\n",
    "from sklearn.model_selection import train_test_split\n",
    "from sklearn.metrics import accuracy_score\n",
    "import numpy as np\n",
    "import matplotlib.pyplot as plt\n",
    "from sklearn.utils.class_weight import compute_class_weight\n",
    "\n",
    "import warnings\n",
    "warnings.filterwarnings('ignore')\n",
    "from sklearn.utils import shuffle\n",
    "import geopandas as gpd\n",
    "from tqdm import tqdm"
   ]
  },
  {
   "attachments": {},
   "cell_type": "markdown",
   "metadata": {},
   "source": [
    "**Denne nettsiden snakker litt om hvordan jobbe med ubalanserte datasett**"
   ]
  },
  {
   "attachments": {},
   "cell_type": "markdown",
   "metadata": {},
   "source": [
    "https://medium.com/digital-catapult/dealing-with-imbalanced-data-8b21e6deb6cd"
   ]
  },
  {
   "attachments": {},
   "cell_type": "markdown",
   "metadata": {},
   "source": [
    "**Importing data**"
   ]
  },
  {
   "cell_type": "code",
   "execution_count": 645,
   "metadata": {},
   "outputs": [],
   "source": [
    "Filename = \"data\\_tarefelt1.csv\"\n",
    "data = pd.read_csv(Filename)\n"
   ]
  },
  {
   "cell_type": "code",
   "execution_count": 646,
   "metadata": {},
   "outputs": [],
   "source": [
    "Filename = \"data\\_tarefelt2.csv\"\n",
    "data2 = pd.read_csv(Filename)"
   ]
  },
  {
   "cell_type": "code",
   "execution_count": 647,
   "metadata": {},
   "outputs": [
    {
     "data": {
      "text/plain": [
       "Index(['Unnamed: 0', 'band_0', 'band_1', 'band_2', 'band_3', 'band_4',\n",
       "       'band_5', 'band_6', 'band_7', 'band_8', 'band_9', 'band_10', 'band_11',\n",
       "       'band_12', 'band_13', 'band_14', 'band_15', 'band_16', 'band_17',\n",
       "       'band_18', 'band_19', 'band_20', 'band_21', 'band_22', 'band_23',\n",
       "       'band_24', 'band_25', 'band_26', 'band_27', 'band_28', 'band_29',\n",
       "       'band_30', 'band_31', 'band_32', 'band_33', 'band_34', 'band_35',\n",
       "       'band_36', 'band_37', 'band_38', 'band_39', 'band_40', 'band_41',\n",
       "       'band_42', 'band_43', 'band_44', 'band_45', 'band_46', 'band_47',\n",
       "       'band_48', 'band_49', 'band_50', 'band_51', 'band_52', 'band_53',\n",
       "       'band_54', 'band_55', 'band_56', 'band_57', 'band_58', 'band_59',\n",
       "       'band_60', 'band_61', 'band_62', 'band_63', 'band_64', 'band_65', 'lat',\n",
       "       'lon', 'geometry', 'label'],\n",
       "      dtype='object')"
      ]
     },
     "execution_count": 647,
     "metadata": {},
     "output_type": "execute_result"
    }
   ],
   "source": [
    "data2.columns"
   ]
  },
  {
   "cell_type": "code",
   "execution_count": 648,
   "metadata": {},
   "outputs": [],
   "source": [
    "#Removes 90% of data labeled 0\n",
    "data = data.drop(data[data['label'] == 0].sample(frac=.90).index)"
   ]
  },
  {
   "cell_type": "code",
   "execution_count": 649,
   "metadata": {},
   "outputs": [],
   "source": [
    "data_x = data.drop([\"Unnamed: 0\"], axis=1)\n",
    "data_x = data_x.drop([\"label\"], axis=1)\n",
    "data_x = data_x.drop(columns = \"geometry\")\n",
    "data_y = data.label"
   ]
  },
  {
   "attachments": {},
   "cell_type": "markdown",
   "metadata": {},
   "source": [
    "**Scale dataset**"
   ]
  },
  {
   "cell_type": "code",
   "execution_count": 650,
   "metadata": {},
   "outputs": [
    {
     "data": {
      "text/plain": [
       "' scaler = StandardScaler()\\nscaler.fit(data_x) \\nscaled_data_x = scaler.transform(data_x)\\n\\nprint(scaled_data_x.shape)\\ndata_x = pd.DataFrame(scaled_data_x, index= data_x.index, columns=data_x.columns)\\ndata_x.lat\\n '"
      ]
     },
     "execution_count": 650,
     "metadata": {},
     "output_type": "execute_result"
    }
   ],
   "source": [
    "\"\"\" scaler = StandardScaler()\n",
    "scaler.fit(data_x) \n",
    "scaled_data_x = scaler.transform(data_x)\n",
    "\n",
    "print(scaled_data_x.shape)\n",
    "data_x = pd.DataFrame(scaled_data_x, index= data_x.index, columns=data_x.columns)\n",
    "data_x.lat\n",
    " \"\"\""
   ]
  },
  {
   "cell_type": "code",
   "execution_count": 651,
   "metadata": {},
   "outputs": [],
   "source": [
    "scalable_columns = list(data_x.columns)\n",
    "scalable_columns.remove(\"lat\")\n",
    "scalable_columns.remove(\"lon\")\n",
    "\n",
    "temp = data_x.drop([\"lat\"], axis=1)\n",
    "temp = temp.drop([\"lon\"], axis=1)\n",
    "\n",
    "scaler = StandardScaler()\n",
    "scaler.fit(temp) \n",
    "scaled_data_x = scaler.transform(temp)\n",
    "\n",
    "scaled_data_x_df = pd.DataFrame(scaled_data_x, index= data_x.index, columns=scalable_columns)\n",
    "#scaled_data_x_df[\"lon\"] = data_x.lon\n",
    "#scaled_data_x_df[\"lat\"] = data_x.lat\n",
    "\n",
    "#data_x = scaled_data_x_df"
   ]
  },
  {
   "attachments": {},
   "cell_type": "markdown",
   "metadata": {},
   "source": [
    "**Splitting Data**"
   ]
  },
  {
   "cell_type": "code",
   "execution_count": 652,
   "metadata": {},
   "outputs": [],
   "source": [
    "X_train, X_test ,y_train, y_test = train_test_split( scaled_data_x_df, data_y, test_size=0.30, random_state=42)\n",
    "X_test, X_val ,y_test, y_val = train_test_split( X_test, y_test, test_size=0.5, random_state=42)"
   ]
  },
  {
   "attachments": {},
   "cell_type": "markdown",
   "metadata": {},
   "source": [
    "**Definerer en batch generator**"
   ]
  },
  {
   "cell_type": "code",
   "execution_count": 653,
   "metadata": {},
   "outputs": [],
   "source": [
    "def batch(iterable_X, iterable_y, n=1):\n",
    "    '''\n",
    "    n: batchsize\n",
    "    iterable_X: X frame to be iterated over\n",
    "    iterable_y: y frame to be iterated over\n",
    "    '''\n",
    "    l = len(iterable_X)\n",
    "    for ndx in range(0, l, n):\n",
    "        yield iterable_X[ndx:min(ndx + n, l)], iterable_y[ndx:min(ndx + n, l)]\n"
   ]
  },
  {
   "cell_type": "code",
   "execution_count": 654,
   "metadata": {},
   "outputs": [
    {
     "data": {
      "text/plain": [
       "' scaler = StandardScaler()\\nscaler.fit(X_train) \\nscaled_X_train = scaler.transform(X_train)\\nX_train = pd.DataFrame(scaled_X_train, index= X_train.index, columns=X_train.columns)\\nscaled_X_test = scaler.transform(X_test)\\nX_test  = pd.DataFrame(scaled_X_test, index= X_test.index, columns=X_test.columns)\\nscaled_X_val = scaler.transform(X_val)\\nX_val  = pd.DataFrame(scaled_X_val, index= X_val.index, columns=X_val.columns) '"
      ]
     },
     "execution_count": 654,
     "metadata": {},
     "output_type": "execute_result"
    }
   ],
   "source": [
    "\"\"\" scaler = StandardScaler()\n",
    "scaler.fit(X_train) \n",
    "scaled_X_train = scaler.transform(X_train)\n",
    "X_train = pd.DataFrame(scaled_X_train, index= X_train.index, columns=X_train.columns)\n",
    "scaled_X_test = scaler.transform(X_test)\n",
    "X_test  = pd.DataFrame(scaled_X_test, index= X_test.index, columns=X_test.columns)\n",
    "scaled_X_val = scaler.transform(X_val)\n",
    "X_val  = pd.DataFrame(scaled_X_val, index= X_val.index, columns=X_val.columns) \"\"\""
   ]
  },
  {
   "attachments": {},
   "cell_type": "markdown",
   "metadata": {},
   "source": [
    "**Training the model**  \n"
   ]
  },
  {
   "cell_type": "code",
   "execution_count": 655,
   "metadata": {},
   "outputs": [
    {
     "name": "stderr",
     "output_type": "stream",
     "text": [
      "100%|██████████| 100/100 [00:24<00:00,  4.05it/s]\n"
     ]
    }
   ],
   "source": [
    "class_weights = compute_class_weight(class_weight = \"balanced\", classes= np.unique(y_train), y= y_train)\n",
    "clf = SGDClassifier(max_iter=1000, tol=1e-3, class_weight= dict(zip(np.unique(y_train), class_weights)))\n",
    "\n",
    "\n",
    "classes = np.unique(y_train)\n",
    "accuracy =[]\n",
    "ROUNDS = 100\n",
    "batch_size = 10000\n",
    "for _ in tqdm(range(ROUNDS), total=ROUNDS):\n",
    "    #X_train, y_train = shuffle(X_train, y_train)\n",
    "    batcherator = batch(X_train, y_train, batch_size)\n",
    "    \n",
    "    for index, (X, target) in enumerate(batcherator):\n",
    "\n",
    "        #scaler = StandardScaler()\n",
    "        #scaler.fit(X) \n",
    "        #X = scaler.transform(X)\n",
    "        #test = scaler.transform(X_val) \n",
    "        clf.partial_fit(X, target, classes)\n",
    "        y_predicted = clf.predict(X_test)\n",
    "        accuracy.append(accuracy_score(y_test, y_predicted))"
   ]
  },
  {
   "attachments": {},
   "cell_type": "markdown",
   "metadata": {},
   "source": [
    "**Evaluating Model**\n"
   ]
  },
  {
   "cell_type": "code",
   "execution_count": 656,
   "metadata": {},
   "outputs": [
    {
     "name": "stdout",
     "output_type": "stream",
     "text": [
      "[[10123  4138]\n",
      " [ 3761  4233]]\n"
     ]
    },
    {
     "data": {
      "image/png": "[encoded data removed]",
      "text/plain": [
       "<Figure size 480x480 with 2 Axes>"
      ]
     },
     "metadata": {},
     "output_type": "display_data"
    }
   ],
   "source": [
    "from sklearn.metrics import confusion_matrix\n",
    "\n",
    "conf_mat = confusion_matrix(y_true=y_test, y_pred=y_predicted)\n",
    "\n",
    "print(conf_mat)\n",
    "# Plot matrix\n",
    "plt.matshow(conf_mat)\n",
    "plt.colorbar()\n",
    "plt.ylabel(\"True label\")\n",
    "plt.xlabel(\"predicted label\")\n",
    "plt.show()"
   ]
  },
  {
   "attachments": {},
   "cell_type": "markdown",
   "metadata": {},
   "source": [
    "**Checking over the test set**"
   ]
  },
  {
   "cell_type": "code",
   "execution_count": 657,
   "metadata": {},
   "outputs": [
    {
     "name": "stdout",
     "output_type": "stream",
     "text": [
      "The accuracy of the model was 0.64\n"
     ]
    }
   ],
   "source": [
    "y_predicted = clf.predict(X_val)\n",
    "accuracy = accuracy_score(y_val, y_predicted)\n",
    "print(f\"The accuracy of the model was {np.round(accuracy,2)}\")"
   ]
  },
  {
   "cell_type": "code",
   "execution_count": 658,
   "metadata": {},
   "outputs": [
    {
     "data": {
      "text/html": [
       "<div>\n",
       "<style scoped>\n",
       "    .dataframe tbody tr th:only-of-type {\n",
       "        vertical-align: middle;\n",
       "    }\n",
       "\n",
       "    .dataframe tbody tr th {\n",
       "        vertical-align: top;\n",
       "    }\n",
       "\n",
       "    .dataframe thead th {\n",
       "        text-align: right;\n",
       "    }\n",
       "</style>\n",
       "<table border=\"1\" class=\"dataframe\">\n",
       "  <thead>\n",
       "    <tr style=\"text-align: right;\">\n",
       "      <th></th>\n",
       "      <th>band_0</th>\n",
       "      <th>band_1</th>\n",
       "      <th>band_2</th>\n",
       "      <th>band_3</th>\n",
       "      <th>band_4</th>\n",
       "      <th>band_5</th>\n",
       "      <th>band_6</th>\n",
       "      <th>band_7</th>\n",
       "      <th>band_8</th>\n",
       "      <th>band_9</th>\n",
       "      <th>...</th>\n",
       "      <th>band_56</th>\n",
       "      <th>band_57</th>\n",
       "      <th>band_58</th>\n",
       "      <th>band_59</th>\n",
       "      <th>band_60</th>\n",
       "      <th>band_61</th>\n",
       "      <th>band_62</th>\n",
       "      <th>band_63</th>\n",
       "      <th>band_64</th>\n",
       "      <th>band_65</th>\n",
       "    </tr>\n",
       "  </thead>\n",
       "  <tbody>\n",
       "    <tr>\n",
       "      <th>413764</th>\n",
       "      <td>0.0</td>\n",
       "      <td>0.0</td>\n",
       "      <td>0.0</td>\n",
       "      <td>-0.249069</td>\n",
       "      <td>-0.247272</td>\n",
       "      <td>-0.297030</td>\n",
       "      <td>-0.269519</td>\n",
       "      <td>-0.272741</td>\n",
       "      <td>-0.267572</td>\n",
       "      <td>-0.284768</td>\n",
       "      <td>...</td>\n",
       "      <td>0.129039</td>\n",
       "      <td>-0.375849</td>\n",
       "      <td>-0.380197</td>\n",
       "      <td>0.191670</td>\n",
       "      <td>0.647086</td>\n",
       "      <td>-0.404870</td>\n",
       "      <td>0.394920</td>\n",
       "      <td>0.740450</td>\n",
       "      <td>0.423596</td>\n",
       "      <td>0.006575</td>\n",
       "    </tr>\n",
       "    <tr>\n",
       "      <th>431369</th>\n",
       "      <td>0.0</td>\n",
       "      <td>0.0</td>\n",
       "      <td>0.0</td>\n",
       "      <td>-0.240382</td>\n",
       "      <td>-0.229504</td>\n",
       "      <td>-0.211925</td>\n",
       "      <td>-0.247747</td>\n",
       "      <td>-0.267971</td>\n",
       "      <td>-0.270296</td>\n",
       "      <td>-0.249439</td>\n",
       "      <td>...</td>\n",
       "      <td>-0.193747</td>\n",
       "      <td>-0.176217</td>\n",
       "      <td>-0.089512</td>\n",
       "      <td>-0.116455</td>\n",
       "      <td>0.132675</td>\n",
       "      <td>-0.290611</td>\n",
       "      <td>-0.212487</td>\n",
       "      <td>-0.560000</td>\n",
       "      <td>-0.479437</td>\n",
       "      <td>-0.210210</td>\n",
       "    </tr>\n",
       "    <tr>\n",
       "      <th>843107</th>\n",
       "      <td>0.0</td>\n",
       "      <td>0.0</td>\n",
       "      <td>0.0</td>\n",
       "      <td>4.743153</td>\n",
       "      <td>4.829354</td>\n",
       "      <td>4.970735</td>\n",
       "      <td>5.108064</td>\n",
       "      <td>5.138266</td>\n",
       "      <td>4.847427</td>\n",
       "      <td>4.781513</td>\n",
       "      <td>...</td>\n",
       "      <td>1.158614</td>\n",
       "      <td>1.087168</td>\n",
       "      <td>0.905865</td>\n",
       "      <td>0.773954</td>\n",
       "      <td>0.525252</td>\n",
       "      <td>0.114822</td>\n",
       "      <td>-0.252257</td>\n",
       "      <td>-0.479560</td>\n",
       "      <td>-0.949838</td>\n",
       "      <td>0.415371</td>\n",
       "    </tr>\n",
       "    <tr>\n",
       "      <th>167643</th>\n",
       "      <td>0.0</td>\n",
       "      <td>0.0</td>\n",
       "      <td>0.0</td>\n",
       "      <td>-0.325511</td>\n",
       "      <td>-0.277872</td>\n",
       "      <td>-0.218182</td>\n",
       "      <td>-0.289616</td>\n",
       "      <td>-0.299772</td>\n",
       "      <td>-0.271204</td>\n",
       "      <td>-0.263739</td>\n",
       "      <td>...</td>\n",
       "      <td>-0.090789</td>\n",
       "      <td>0.556718</td>\n",
       "      <td>0.239344</td>\n",
       "      <td>-0.220781</td>\n",
       "      <td>0.095447</td>\n",
       "      <td>-0.356955</td>\n",
       "      <td>0.091217</td>\n",
       "      <td>-0.127634</td>\n",
       "      <td>-0.445101</td>\n",
       "      <td>0.319366</td>\n",
       "    </tr>\n",
       "    <tr>\n",
       "      <th>205780</th>\n",
       "      <td>0.0</td>\n",
       "      <td>0.0</td>\n",
       "      <td>0.0</td>\n",
       "      <td>-0.208242</td>\n",
       "      <td>-0.244311</td>\n",
       "      <td>-0.245716</td>\n",
       "      <td>-0.227650</td>\n",
       "      <td>-0.234579</td>\n",
       "      <td>-0.257586</td>\n",
       "      <td>-0.220840</td>\n",
       "      <td>...</td>\n",
       "      <td>0.351650</td>\n",
       "      <td>0.539606</td>\n",
       "      <td>0.459560</td>\n",
       "      <td>0.934082</td>\n",
       "      <td>-0.165143</td>\n",
       "      <td>0.147994</td>\n",
       "      <td>1.490422</td>\n",
       "      <td>0.830945</td>\n",
       "      <td>-0.053672</td>\n",
       "      <td>0.446341</td>\n",
       "    </tr>\n",
       "    <tr>\n",
       "      <th>...</th>\n",
       "      <td>...</td>\n",
       "      <td>...</td>\n",
       "      <td>...</td>\n",
       "      <td>...</td>\n",
       "      <td>...</td>\n",
       "      <td>...</td>\n",
       "      <td>...</td>\n",
       "      <td>...</td>\n",
       "      <td>...</td>\n",
       "      <td>...</td>\n",
       "      <td>...</td>\n",
       "      <td>...</td>\n",
       "      <td>...</td>\n",
       "      <td>...</td>\n",
       "      <td>...</td>\n",
       "      <td>...</td>\n",
       "      <td>...</td>\n",
       "      <td>...</td>\n",
       "      <td>...</td>\n",
       "      <td>...</td>\n",
       "      <td>...</td>\n",
       "    </tr>\n",
       "    <tr>\n",
       "      <th>311029</th>\n",
       "      <td>0.0</td>\n",
       "      <td>0.0</td>\n",
       "      <td>0.0</td>\n",
       "      <td>3.576535</td>\n",
       "      <td>3.542183</td>\n",
       "      <td>3.421319</td>\n",
       "      <td>3.322794</td>\n",
       "      <td>3.166580</td>\n",
       "      <td>3.361226</td>\n",
       "      <td>3.449964</td>\n",
       "      <td>...</td>\n",
       "      <td>0.735654</td>\n",
       "      <td>0.365641</td>\n",
       "      <td>0.318622</td>\n",
       "      <td>0.494943</td>\n",
       "      <td>0.230819</td>\n",
       "      <td>0.387568</td>\n",
       "      <td>-0.219718</td>\n",
       "      <td>-1.200170</td>\n",
       "      <td>-0.383296</td>\n",
       "      <td>-1.191940</td>\n",
       "    </tr>\n",
       "    <tr>\n",
       "      <th>772438</th>\n",
       "      <td>0.0</td>\n",
       "      <td>0.0</td>\n",
       "      <td>0.0</td>\n",
       "      <td>-0.211716</td>\n",
       "      <td>-0.229504</td>\n",
       "      <td>-0.218182</td>\n",
       "      <td>-0.205879</td>\n",
       "      <td>-0.215498</td>\n",
       "      <td>-0.233981</td>\n",
       "      <td>-0.198970</td>\n",
       "      <td>...</td>\n",
       "      <td>0.176344</td>\n",
       "      <td>-0.064993</td>\n",
       "      <td>-0.115938</td>\n",
       "      <td>0.140720</td>\n",
       "      <td>-0.439270</td>\n",
       "      <td>0.103765</td>\n",
       "      <td>-0.122099</td>\n",
       "      <td>-0.151095</td>\n",
       "      <td>-0.201316</td>\n",
       "      <td>0.362723</td>\n",
       "    </tr>\n",
       "    <tr>\n",
       "      <th>753411</th>\n",
       "      <td>0.0</td>\n",
       "      <td>0.0</td>\n",
       "      <td>0.0</td>\n",
       "      <td>-0.176970</td>\n",
       "      <td>-0.225556</td>\n",
       "      <td>-0.206918</td>\n",
       "      <td>-0.303014</td>\n",
       "      <td>-0.240939</td>\n",
       "      <td>-0.227626</td>\n",
       "      <td>-0.233457</td>\n",
       "      <td>...</td>\n",
       "      <td>-0.213225</td>\n",
       "      <td>-0.070697</td>\n",
       "      <td>-0.115938</td>\n",
       "      <td>-0.094620</td>\n",
       "      <td>-0.205754</td>\n",
       "      <td>-1.230480</td>\n",
       "      <td>-0.617425</td>\n",
       "      <td>0.468964</td>\n",
       "      <td>-0.125777</td>\n",
       "      <td>-1.436598</td>\n",
       "    </tr>\n",
       "    <tr>\n",
       "      <th>675104</th>\n",
       "      <td>0.0</td>\n",
       "      <td>0.0</td>\n",
       "      <td>0.0</td>\n",
       "      <td>4.957713</td>\n",
       "      <td>4.870812</td>\n",
       "      <td>4.715419</td>\n",
       "      <td>4.536979</td>\n",
       "      <td>4.599233</td>\n",
       "      <td>4.830177</td>\n",
       "      <td>4.885817</td>\n",
       "      <td>...</td>\n",
       "      <td>2.505411</td>\n",
       "      <td>2.139514</td>\n",
       "      <td>1.898305</td>\n",
       "      <td>1.649807</td>\n",
       "      <td>2.325692</td>\n",
       "      <td>1.191064</td>\n",
       "      <td>0.423845</td>\n",
       "      <td>0.197479</td>\n",
       "      <td>-0.019336</td>\n",
       "      <td>0.585703</td>\n",
       "    </tr>\n",
       "    <tr>\n",
       "      <th>112258</th>\n",
       "      <td>0.0</td>\n",
       "      <td>0.0</td>\n",
       "      <td>0.0</td>\n",
       "      <td>-0.275129</td>\n",
       "      <td>-0.269975</td>\n",
       "      <td>-0.246968</td>\n",
       "      <td>-0.287941</td>\n",
       "      <td>-0.310903</td>\n",
       "      <td>-0.278467</td>\n",
       "      <td>-0.286450</td>\n",
       "      <td>...</td>\n",
       "      <td>-0.561055</td>\n",
       "      <td>-0.307404</td>\n",
       "      <td>-0.494709</td>\n",
       "      <td>-0.480383</td>\n",
       "      <td>-0.293746</td>\n",
       "      <td>-0.253754</td>\n",
       "      <td>-0.584885</td>\n",
       "      <td>-0.838189</td>\n",
       "      <td>-0.798760</td>\n",
       "      <td>0.347239</td>\n",
       "    </tr>\n",
       "  </tbody>\n",
       "</table>\n",
       "<p>22255 rows × 66 columns</p>\n",
       "</div>"
      ],
      "text/plain": [
       "        band_0  band_1  band_2    band_3    band_4    band_5    band_6  \\\n",
       "413764     0.0     0.0     0.0 -0.249069 -0.247272 -0.297030 -0.269519   \n",
       "431369     0.0     0.0     0.0 -0.240382 -0.229504 -0.211925 -0.247747   \n",
       "843107     0.0     0.0     0.0  4.743153  4.829354  4.970735  5.108064   \n",
       "167643     0.0     0.0     0.0 -0.325511 -0.277872 -0.218182 -0.289616   \n",
       "205780     0.0     0.0     0.0 -0.208242 -0.244311 -0.245716 -0.227650   \n",
       "...        ...     ...     ...       ...       ...       ...       ...   \n",
       "311029     0.0     0.0     0.0  3.576535  3.542183  3.421319  3.322794   \n",
       "772438     0.0     0.0     0.0 -0.211716 -0.229504 -0.218182 -0.205879   \n",
       "753411     0.0     0.0     0.0 -0.176970 -0.225556 -0.206918 -0.303014   \n",
       "675104     0.0     0.0     0.0  4.957713  4.870812  4.715419  4.536979   \n",
       "112258     0.0     0.0     0.0 -0.275129 -0.269975 -0.246968 -0.287941   \n",
       "\n",
       "          band_7    band_8    band_9  ...   band_56   band_57   band_58  \\\n",
       "413764 -0.272741 -0.267572 -0.284768  ...  0.129039 -0.375849 -0.380197   \n",
       "431369 -0.267971 -0.270296 -0.249439  ... -0.193747 -0.176217 -0.089512   \n",
       "843107  5.138266  4.847427  4.781513  ...  1.158614  1.087168  0.905865   \n",
       "167643 -0.299772 -0.271204 -0.263739  ... -0.090789  0.556718  0.239344   \n",
       "205780 -0.234579 -0.257586 -0.220840  ...  0.351650  0.539606  0.459560   \n",
       "...          ...       ...       ...  ...       ...       ...       ...   \n",
       "311029  3.166580  3.361226  3.449964  ...  0.735654  0.365641  0.318622   \n",
       "772438 -0.215498 -0.233981 -0.198970  ...  0.176344 -0.064993 -0.115938   \n",
       "753411 -0.240939 -0.227626 -0.233457  ... -0.213225 -0.070697 -0.115938   \n",
       "675104  4.599233  4.830177  4.885817  ...  2.505411  2.139514  1.898305   \n",
       "112258 -0.310903 -0.278467 -0.286450  ... -0.561055 -0.307404 -0.494709   \n",
       "\n",
       "         band_59   band_60   band_61   band_62   band_63   band_64   band_65  \n",
       "413764  0.191670  0.647086 -0.404870  0.394920  0.740450  0.423596  0.006575  \n",
       "431369 -0.116455  0.132675 -0.290611 -0.212487 -0.560000 -0.479437 -0.210210  \n",
       "843107  0.773954  0.525252  0.114822 -0.252257 -0.479560 -0.949838  0.415371  \n",
       "167643 -0.220781  0.095447 -0.356955  0.091217 -0.127634 -0.445101  0.319366  \n",
       "205780  0.934082 -0.165143  0.147994  1.490422  0.830945 -0.053672  0.446341  \n",
       "...          ...       ...       ...       ...       ...       ...       ...  \n",
       "311029  0.494943  0.230819  0.387568 -0.219718 -1.200170 -0.383296 -1.191940  \n",
       "772438  0.140720 -0.439270  0.103765 -0.122099 -0.151095 -0.201316  0.362723  \n",
       "753411 -0.094620 -0.205754 -1.230480 -0.617425  0.468964 -0.125777 -1.436598  \n",
       "675104  1.649807  2.325692  1.191064  0.423845  0.197479 -0.019336  0.585703  \n",
       "112258 -0.480383 -0.293746 -0.253754 -0.584885 -0.838189 -0.798760  0.347239  \n",
       "\n",
       "[22255 rows x 66 columns]"
      ]
     },
     "execution_count": 658,
     "metadata": {},
     "output_type": "execute_result"
    }
   ],
   "source": [
    "y_predicted == y_val\n",
    "X_val"
   ]
  },
  {
   "cell_type": "code",
   "execution_count": 659,
   "metadata": {},
   "outputs": [
    {
     "name": "stdout",
     "output_type": "stream",
     "text": [
      "[0. 1.]\n",
      "[13775  8480]\n"
     ]
    }
   ],
   "source": [
    "unique, counts = np.unique(y_predicted, return_counts=True)\n",
    "print(unique)\n",
    "print(counts)"
   ]
  },
  {
   "cell_type": "code",
   "execution_count": 660,
   "metadata": {},
   "outputs": [
    {
     "data": {
      "text/plain": [
       "0.0    14261\n",
       "1.0     7994\n",
       "Name: label, dtype: int64"
      ]
     },
     "execution_count": 660,
     "metadata": {},
     "output_type": "execute_result"
    }
   ],
   "source": [
    "y_test.value_counts()\n"
   ]
  },
  {
   "attachments": {},
   "cell_type": "markdown",
   "metadata": {},
   "source": [
    "**Plotting the predicted seaweed and comparing with naturdirektoratet**"
   ]
  },
  {
   "cell_type": "code",
   "execution_count": 665,
   "metadata": {},
   "outputs": [],
   "source": [
    "y_predicted = clf.predict(scaled_data_x_df)\n",
    "X = data_x.copy()\n",
    "X[\"label\"] = y_train\n",
    "X[\"y_predicted\"] = y_predicted\n",
    "X = gpd.GeoDataFrame(X, geometry=gpd.points_from_xy(X.lon, X.lat))\n",
    "\n",
    "\n",
    "\n",
    "df_no_seaweed = X[X[\"y_predicted\"] == False]\n",
    "df_seaweed = X[X[\"y_predicted\"] == 1]\n",
    "df_true_seaweed = X[X[\"label\"] == True]\n",
    "df_correct_prediction = X[X[\"label\"] == X[\"y_predicted\"]]\n",
    "df_correct_prediction = df_correct_prediction[df_correct_prediction[\"y_predicted\"] == 0]"
   ]
  },
  {
   "cell_type": "code",
   "execution_count": 666,
   "metadata": {},
   "outputs": [
    {
     "data": {
      "text/html": [
       "<div>\n",
       "<style scoped>\n",
       "    .dataframe tbody tr th:only-of-type {\n",
       "        vertical-align: middle;\n",
       "    }\n",
       "\n",
       "    .dataframe tbody tr th {\n",
       "        vertical-align: top;\n",
       "    }\n",
       "\n",
       "    .dataframe thead th {\n",
       "        text-align: right;\n",
       "    }\n",
       "</style>\n",
       "<table border=\"1\" class=\"dataframe\">\n",
       "  <thead>\n",
       "    <tr style=\"text-align: right;\">\n",
       "      <th></th>\n",
       "      <th>label</th>\n",
       "      <th>y_predicted</th>\n",
       "    </tr>\n",
       "  </thead>\n",
       "  <tbody>\n",
       "    <tr>\n",
       "      <th>84</th>\n",
       "      <td>0.0</td>\n",
       "      <td>0.0</td>\n",
       "    </tr>\n",
       "    <tr>\n",
       "      <th>96</th>\n",
       "      <td>0.0</td>\n",
       "      <td>0.0</td>\n",
       "    </tr>\n",
       "    <tr>\n",
       "      <th>104</th>\n",
       "      <td>0.0</td>\n",
       "      <td>0.0</td>\n",
       "    </tr>\n",
       "    <tr>\n",
       "      <th>107</th>\n",
       "      <td>0.0</td>\n",
       "      <td>0.0</td>\n",
       "    </tr>\n",
       "    <tr>\n",
       "      <th>128</th>\n",
       "      <td>0.0</td>\n",
       "      <td>0.0</td>\n",
       "    </tr>\n",
       "    <tr>\n",
       "      <th>...</th>\n",
       "      <td>...</td>\n",
       "      <td>...</td>\n",
       "    </tr>\n",
       "    <tr>\n",
       "      <th>999862</th>\n",
       "      <td>0.0</td>\n",
       "      <td>0.0</td>\n",
       "    </tr>\n",
       "    <tr>\n",
       "      <th>999915</th>\n",
       "      <td>0.0</td>\n",
       "      <td>0.0</td>\n",
       "    </tr>\n",
       "    <tr>\n",
       "      <th>999954</th>\n",
       "      <td>0.0</td>\n",
       "      <td>0.0</td>\n",
       "    </tr>\n",
       "    <tr>\n",
       "      <th>999970</th>\n",
       "      <td>0.0</td>\n",
       "      <td>0.0</td>\n",
       "    </tr>\n",
       "    <tr>\n",
       "      <th>999984</th>\n",
       "      <td>0.0</td>\n",
       "      <td>0.0</td>\n",
       "    </tr>\n",
       "  </tbody>\n",
       "</table>\n",
       "<p>46759 rows × 2 columns</p>\n",
       "</div>"
      ],
      "text/plain": [
       "        label  y_predicted\n",
       "84        0.0          0.0\n",
       "96        0.0          0.0\n",
       "104       0.0          0.0\n",
       "107       0.0          0.0\n",
       "128       0.0          0.0\n",
       "...       ...          ...\n",
       "999862    0.0          0.0\n",
       "999915    0.0          0.0\n",
       "999954    0.0          0.0\n",
       "999970    0.0          0.0\n",
       "999984    0.0          0.0\n",
       "\n",
       "[46759 rows x 2 columns]"
      ]
     },
     "execution_count": 666,
     "metadata": {},
     "output_type": "execute_result"
    }
   ],
   "source": [
    "df_correct_prediction[[\"label\", \"y_predicted\"]]"
   ]
  },
  {
   "cell_type": "code",
   "execution_count": 667,
   "metadata": {},
   "outputs": [
    {
     "data": {
      "text/plain": [
       "<matplotlib.legend.Legend at 0x1adf5608790>"
      ]
     },
     "execution_count": 667,
     "metadata": {},
     "output_type": "execute_result"
    },
    {
     "data": {
      "image/png": "[encoded data removed]",
      "text/plain": [
       "<Figure size 640x480 with 1 Axes>"
      ]
     },
     "metadata": {},
     "output_type": "display_data"
    }
   ],
   "source": [
    "fig, ax = plt.subplots()\n",
    "#df_no_seaweed.plot(ax = ax, color = \"blue\", label = \"no seaweed\")\n",
    "df_true_seaweed.plot(ax = ax, color = \"green\", label = \"True seaweed\", markersize = 3)\n",
    "df_seaweed.plot(ax = ax, color = \"red\", label = \"Seaweed\", markersize = 1)\n",
    "#df_correct_prediction.plot(ax = ax, color = \"red\", label = \"Correct prediction\", markersize = 1)\n",
    "\n",
    "ax.set_title(\"Labelling Prisma data\")\n",
    "ax.set_xlabel(\"lon\")\n",
    "ax.set_ylabel(\"lat\")\n",
    "ax.legend()"
   ]
  },
  {
   "cell_type": "code",
   "execution_count": null,
   "metadata": {},
   "outputs": [],
   "source": []
  }
 ],
 "metadata": {
  "kernelspec": {
   "display_name": "Python 3",
   "language": "python",
   "name": "python3"
  },
  "language_info": {
   "codemirror_mode": {
    "name": "ipython",
    "version": 3
   },
   "file_extension": ".py",
   "mimetype": "text/x-python",
   "name": "python",
   "nbconvert_exporter": "python",
   "pygments_lexer": "ipython3",
   "version": "3.9.13"
  },
  "orig_nbformat": 4,
  "vscode": {
   "interpreter": {
    "hash": "26de051ba29f2982a8de78e945f0abaf191376122a1563185a90213a26c5da77"
   }
  }
 },
 "nbformat": 4,
 "nbformat_minor": 2
}
