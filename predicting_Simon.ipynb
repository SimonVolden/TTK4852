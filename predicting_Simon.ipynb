{
 "cells": [
  {
   "cell_type": "markdown",
   "metadata": {},
   "source": [
    "## Predicting"
   ]
  },
  {
   "attachments": {},
   "cell_type": "markdown",
   "metadata": {},
   "source": [
    "**Importing librairies**\n"
   ]
  },
  {
   "cell_type": "code",
   "execution_count": 127,
   "metadata": {},
   "outputs": [],
   "source": [
    "from sklearn.linear_model import SGDClassifier\n",
    "from sklearn.preprocessing import StandardScaler\n",
    "import pandas as pd\n",
    "from sklearn.model_selection import train_test_split\n",
    "from sklearn.metrics import accuracy_score\n",
    "import numpy as np\n",
    "import matplotlib.pyplot as plt\n",
    "from sklearn.utils.class_weight import compute_class_weight\n",
    "\n",
    "import warnings\n",
    "warnings.filterwarnings('ignore')\n",
    "from sklearn.utils import shuffle\n",
    "import geopandas as gpd\n",
    "from tqdm import tqdm"
   ]
  },
  {
   "attachments": {},
   "cell_type": "markdown",
   "metadata": {},
   "source": [
    "**Denne nettsiden snakker litt om hvordan jobbe med ubalanserte datasett**"
   ]
  },
  {
   "attachments": {},
   "cell_type": "markdown",
   "metadata": {},
   "source": [
    "https://medium.com/digital-catapult/dealing-with-imbalanced-data-8b21e6deb6cd"
   ]
  },
  {
   "attachments": {},
   "cell_type": "markdown",
   "metadata": {},
   "source": [
    "**Importing data**"
   ]
  },
  {
   "cell_type": "code",
   "execution_count": 567,
   "metadata": {},
   "outputs": [],
   "source": [
    "Filename = \"data\\_tarefelt1.csv\"\n",
    "data = pd.read_csv(Filename)\n"
   ]
  },
  {
   "cell_type": "code",
   "execution_count": 556,
   "metadata": {},
   "outputs": [],
   "source": [
    "Filename = \"data\\_tarefelt2.csv\"\n",
    "data2 = pd.read_csv(Filename)"
   ]
  },
  {
   "cell_type": "code",
   "execution_count": 557,
   "metadata": {},
   "outputs": [
    {
     "data": {
      "text/plain": [
       "Index(['Unnamed: 0', 'band_0', 'band_1', 'band_2', 'band_3', 'band_4',\n",
       "       'band_5', 'band_6', 'band_7', 'band_8', 'band_9', 'band_10', 'band_11',\n",
       "       'band_12', 'band_13', 'band_14', 'band_15', 'band_16', 'band_17',\n",
       "       'band_18', 'band_19', 'band_20', 'band_21', 'band_22', 'band_23',\n",
       "       'band_24', 'band_25', 'band_26', 'band_27', 'band_28', 'band_29',\n",
       "       'band_30', 'band_31', 'band_32', 'band_33', 'band_34', 'band_35',\n",
       "       'band_36', 'band_37', 'band_38', 'band_39', 'band_40', 'band_41',\n",
       "       'band_42', 'band_43', 'band_44', 'band_45', 'band_46', 'band_47',\n",
       "       'band_48', 'band_49', 'band_50', 'band_51', 'band_52', 'band_53',\n",
       "       'band_54', 'band_55', 'band_56', 'band_57', 'band_58', 'band_59',\n",
       "       'band_60', 'band_61', 'band_62', 'band_63', 'band_64', 'band_65', 'lat',\n",
       "       'lon', 'geometry', 'label'],\n",
       "      dtype='object')"
      ]
     },
     "execution_count": 557,
     "metadata": {},
     "output_type": "execute_result"
    }
   ],
   "source": [
    "data2.columns"
   ]
  },
  {
   "cell_type": "code",
   "execution_count": 568,
   "metadata": {},
   "outputs": [],
   "source": [
    "#Removes 90% of data labeled 0\n",
    "data = data.drop(data[data['label'] == 0].sample(frac=.95).index)"
   ]
  },
  {
   "cell_type": "code",
   "execution_count": 575,
   "metadata": {},
   "outputs": [],
   "source": [
    "data_x = data.drop([\"Unnamed: 0\"], axis=1)\n",
    "data_x = data_x.drop([\"label\"], axis=1)\n",
    "data_x = data_x.drop(columns = \"geometry\")\n",
    "data_y = data.label"
   ]
  },
  {
   "attachments": {},
   "cell_type": "markdown",
   "metadata": {},
   "source": [
    "**Scale dataset**"
   ]
  },
  {
   "cell_type": "code",
   "execution_count": 576,
   "metadata": {},
   "outputs": [
    {
     "data": {
      "text/plain": [
       "' scaler = StandardScaler()\\nscaler.fit(data_x) \\nscaled_data_x = scaler.transform(data_x)\\n\\nprint(scaled_data_x.shape)\\ndata_x = pd.DataFrame(scaled_data_x, index= data_x.index, columns=data_x.columns)\\ndata_x.lat\\n '"
      ]
     },
     "execution_count": 576,
     "metadata": {},
     "output_type": "execute_result"
    }
   ],
   "source": [
    "\"\"\" scaler = StandardScaler()\n",
    "scaler.fit(data_x) \n",
    "scaled_data_x = scaler.transform(data_x)\n",
    "\n",
    "print(scaled_data_x.shape)\n",
    "data_x = pd.DataFrame(scaled_data_x, index= data_x.index, columns=data_x.columns)\n",
    "data_x.lat\n",
    " \"\"\""
   ]
  },
  {
   "cell_type": "code",
   "execution_count": 585,
   "metadata": {},
   "outputs": [],
   "source": [
    "scalable_columns = list(data_x.columns)\n",
    "scalable_columns.remove(\"lat\")\n",
    "scalable_columns.remove(\"lon\")\n",
    "\n",
    "temp = data_x.drop([\"lat\"], axis=1)\n",
    "temp = temp.drop([\"lon\"], axis=1)\n",
    "\n",
    "scaler = StandardScaler()\n",
    "scaler.fit(temp) \n",
    "scaled_data_x = scaler.transform(temp)\n",
    "\n",
    "scaled_data_x_df = pd.DataFrame(scaled_data_x, index= data_x.index, columns=scalable_columns)\n",
    "scaled_data_x_df[\"lon\"] = data_x.lon\n",
    "scaled_data_x_df[\"lat\"] = data_x.lat\n",
    "\n",
    "data_x = scaled_data_x_df"
   ]
  },
  {
   "attachments": {},
   "cell_type": "markdown",
   "metadata": {},
   "source": [
    "**Splitting Data**"
   ]
  },
  {
   "cell_type": "code",
   "execution_count": 586,
   "metadata": {},
   "outputs": [],
   "source": [
    "X_train, X_test ,y_train, y_test = train_test_split( data_x, data_y, test_size=0.30, random_state=42)\n",
    "X_test, X_val ,y_test, y_val = train_test_split( X_test, y_test, test_size=0.5, random_state=42)"
   ]
  },
  {
   "attachments": {},
   "cell_type": "markdown",
   "metadata": {},
   "source": [
    "**Definerer en batch generator**"
   ]
  },
  {
   "cell_type": "code",
   "execution_count": 587,
   "metadata": {},
   "outputs": [],
   "source": [
    "def batch(iterable_X, iterable_y, n=1):\n",
    "    '''\n",
    "    n: batchsize\n",
    "    iterable_X: X frame to be iterated over\n",
    "    iterable_y: y frame to be iterated over\n",
    "    '''\n",
    "    l = len(iterable_X)\n",
    "    for ndx in range(0, l, n):\n",
    "        yield iterable_X[ndx:min(ndx + n, l)], iterable_y[ndx:min(ndx + n, l)]\n"
   ]
  },
  {
   "cell_type": "code",
   "execution_count": 588,
   "metadata": {},
   "outputs": [
    {
     "data": {
      "text/plain": [
       "' scaler = StandardScaler()\\nscaler.fit(X_train) \\nscaled_X_train = scaler.transform(X_train)\\nX_train = pd.DataFrame(scaled_X_train, index= X_train.index, columns=X_train.columns)\\nscaled_X_test = scaler.transform(X_test)\\nX_test  = pd.DataFrame(scaled_X_test, index= X_test.index, columns=X_test.columns)\\nscaled_X_val = scaler.transform(X_val)\\nX_val  = pd.DataFrame(scaled_X_val, index= X_val.index, columns=X_val.columns) '"
      ]
     },
     "execution_count": 588,
     "metadata": {},
     "output_type": "execute_result"
    }
   ],
   "source": [
    "\"\"\" scaler = StandardScaler()\n",
    "scaler.fit(X_train) \n",
    "scaled_X_train = scaler.transform(X_train)\n",
    "X_train = pd.DataFrame(scaled_X_train, index= X_train.index, columns=X_train.columns)\n",
    "scaled_X_test = scaler.transform(X_test)\n",
    "X_test  = pd.DataFrame(scaled_X_test, index= X_test.index, columns=X_test.columns)\n",
    "scaled_X_val = scaler.transform(X_val)\n",
    "X_val  = pd.DataFrame(scaled_X_val, index= X_val.index, columns=X_val.columns) \"\"\""
   ]
  },
  {
   "attachments": {},
   "cell_type": "markdown",
   "metadata": {},
   "source": [
    "**Training the model**  \n"
   ]
  },
  {
   "cell_type": "code",
   "execution_count": 607,
   "metadata": {},
   "outputs": [
    {
     "name": "stderr",
     "output_type": "stream",
     "text": [
      "100%|██████████| 2000/2000 [05:02<00:00,  6.62it/s]\n"
     ]
    }
   ],
   "source": [
    "class_weights = compute_class_weight(class_weight = \"balanced\", classes= np.unique(y_train), y= y_train)\n",
    "clf = SGDClassifier(max_iter=1000, tol=1e-3, class_weight= dict(zip(np.unique(y_train), class_weights)))\n",
    "\n",
    "\n",
    "classes = np.unique(y_train)\n",
    "accuracy =[]\n",
    "ROUNDS = 2000\n",
    "batch_size = 10000\n",
    "for _ in tqdm(range(ROUNDS), total=ROUNDS):\n",
    "    #X_train, y_train = shuffle(X_train, y_train)\n",
    "    batcherator = batch(X_train, y_train, batch_size)\n",
    "    \n",
    "    for index, (X, target) in enumerate(batcherator):\n",
    "\n",
    "        #scaler = StandardScaler()\n",
    "        #scaler.fit(X) \n",
    "        #X = scaler.transform(X)\n",
    "        #test = scaler.transform(X_val) \n",
    "        clf.partial_fit(X, target, classes)\n",
    "        y_predicted = clf.predict(X_test)\n",
    "        accuracy.append(accuracy_score(y_test, y_predicted))"
   ]
  },
  {
   "attachments": {},
   "cell_type": "markdown",
   "metadata": {},
   "source": [
    "**Evaluating Model**\n"
   ]
  },
  {
   "cell_type": "code",
   "execution_count": 608,
   "metadata": {},
   "outputs": [
    {
     "name": "stdout",
     "output_type": "stream",
     "text": [
      "[[5340 1724]\n",
      " [1022 7072]]\n"
     ]
    },
    {
     "data": {
      "image/png": "[encoded data removed]",
      "text/plain": [
       "<Figure size 480x480 with 2 Axes>"
      ]
     },
     "metadata": {},
     "output_type": "display_data"
    }
   ],
   "source": [
    "from sklearn.metrics import confusion_matrix\n",
    "\n",
    "conf_mat = confusion_matrix(y_true=y_test, y_pred=y_predicted)\n",
    "\n",
    "print(conf_mat)\n",
    "# Plot matrix\n",
    "plt.matshow(conf_mat)\n",
    "plt.colorbar()\n",
    "plt.ylabel(\"True label\")\n",
    "plt.xlabel(\"predicted label\")\n",
    "plt.show()"
   ]
  },
  {
   "attachments": {},
   "cell_type": "markdown",
   "metadata": {},
   "source": [
    "**Checking over the test set**"
   ]
  },
  {
   "cell_type": "code",
   "execution_count": 609,
   "metadata": {},
   "outputs": [
    {
     "name": "stdout",
     "output_type": "stream",
     "text": [
      "The accuracy of the model was 0.81\n"
     ]
    }
   ],
   "source": [
    "y_predicted = clf.predict(X_val)\n",
    "accuracy = accuracy_score(y_val, y_predicted)\n",
    "print(f\"The accuracy of the model was {np.round(accuracy,2)}\")"
   ]
  },
  {
   "cell_type": "code",
   "execution_count": 610,
   "metadata": {},
   "outputs": [
    {
     "data": {
      "text/html": [
       "<div>\n",
       "<style scoped>\n",
       "    .dataframe tbody tr th:only-of-type {\n",
       "        vertical-align: middle;\n",
       "    }\n",
       "\n",
       "    .dataframe tbody tr th {\n",
       "        vertical-align: top;\n",
       "    }\n",
       "\n",
       "    .dataframe thead th {\n",
       "        text-align: right;\n",
       "    }\n",
       "</style>\n",
       "<table border=\"1\" class=\"dataframe\">\n",
       "  <thead>\n",
       "    <tr style=\"text-align: right;\">\n",
       "      <th></th>\n",
       "      <th>band_0</th>\n",
       "      <th>band_1</th>\n",
       "      <th>band_2</th>\n",
       "      <th>band_3</th>\n",
       "      <th>band_4</th>\n",
       "      <th>band_5</th>\n",
       "      <th>band_6</th>\n",
       "      <th>band_7</th>\n",
       "      <th>band_8</th>\n",
       "      <th>band_9</th>\n",
       "      <th>...</th>\n",
       "      <th>band_58</th>\n",
       "      <th>band_59</th>\n",
       "      <th>band_60</th>\n",
       "      <th>band_61</th>\n",
       "      <th>band_62</th>\n",
       "      <th>band_63</th>\n",
       "      <th>band_64</th>\n",
       "      <th>band_65</th>\n",
       "      <th>lon</th>\n",
       "      <th>lat</th>\n",
       "    </tr>\n",
       "  </thead>\n",
       "  <tbody>\n",
       "    <tr>\n",
       "      <th>127057</th>\n",
       "      <td>0.0</td>\n",
       "      <td>0.0</td>\n",
       "      <td>0.0</td>\n",
       "      <td>-0.386013</td>\n",
       "      <td>-0.357872</td>\n",
       "      <td>-0.354419</td>\n",
       "      <td>-0.409512</td>\n",
       "      <td>-0.427390</td>\n",
       "      <td>-0.415655</td>\n",
       "      <td>-0.394437</td>\n",
       "      <td>...</td>\n",
       "      <td>-1.315540</td>\n",
       "      <td>-0.741625</td>\n",
       "      <td>-1.311076</td>\n",
       "      <td>-0.897652</td>\n",
       "      <td>-1.761371</td>\n",
       "      <td>-1.498594</td>\n",
       "      <td>-0.494374</td>\n",
       "      <td>-1.330873</td>\n",
       "      <td>5.054610</td>\n",
       "      <td>62.054936</td>\n",
       "    </tr>\n",
       "    <tr>\n",
       "      <th>924992</th>\n",
       "      <td>0.0</td>\n",
       "      <td>0.0</td>\n",
       "      <td>0.0</td>\n",
       "      <td>-0.301704</td>\n",
       "      <td>-0.267042</td>\n",
       "      <td>-0.294122</td>\n",
       "      <td>-0.243286</td>\n",
       "      <td>-0.242300</td>\n",
       "      <td>-0.241587</td>\n",
       "      <td>-0.250967</td>\n",
       "      <td>...</td>\n",
       "      <td>-0.059860</td>\n",
       "      <td>0.112475</td>\n",
       "      <td>0.368921</td>\n",
       "      <td>0.225058</td>\n",
       "      <td>0.242460</td>\n",
       "      <td>1.431173</td>\n",
       "      <td>1.631339</td>\n",
       "      <td>0.756258</td>\n",
       "      <td>4.445301</td>\n",
       "      <td>61.887454</td>\n",
       "    </tr>\n",
       "    <tr>\n",
       "      <th>276732</th>\n",
       "      <td>0.0</td>\n",
       "      <td>0.0</td>\n",
       "      <td>0.0</td>\n",
       "      <td>-0.247570</td>\n",
       "      <td>-0.282181</td>\n",
       "      <td>-0.176095</td>\n",
       "      <td>-0.256996</td>\n",
       "      <td>-0.219570</td>\n",
       "      <td>-0.259179</td>\n",
       "      <td>-0.252685</td>\n",
       "      <td>...</td>\n",
       "      <td>-0.056774</td>\n",
       "      <td>0.560877</td>\n",
       "      <td>0.974005</td>\n",
       "      <td>0.255923</td>\n",
       "      <td>0.432414</td>\n",
       "      <td>1.083284</td>\n",
       "      <td>-0.250440</td>\n",
       "      <td>-0.139560</td>\n",
       "      <td>4.846259</td>\n",
       "      <td>61.896789</td>\n",
       "    </tr>\n",
       "    <tr>\n",
       "      <th>619097</th>\n",
       "      <td>0.0</td>\n",
       "      <td>0.0</td>\n",
       "      <td>0.0</td>\n",
       "      <td>-0.353177</td>\n",
       "      <td>-0.355853</td>\n",
       "      <td>-0.290274</td>\n",
       "      <td>-0.334111</td>\n",
       "      <td>-0.375435</td>\n",
       "      <td>-0.376768</td>\n",
       "      <td>-0.378973</td>\n",
       "      <td>...</td>\n",
       "      <td>-1.611720</td>\n",
       "      <td>-0.981247</td>\n",
       "      <td>-1.079720</td>\n",
       "      <td>-1.649983</td>\n",
       "      <td>-1.567692</td>\n",
       "      <td>-1.911285</td>\n",
       "      <td>-2.184489</td>\n",
       "      <td>-0.789650</td>\n",
       "      <td>4.779899</td>\n",
       "      <td>62.087761</td>\n",
       "    </tr>\n",
       "    <tr>\n",
       "      <th>253157</th>\n",
       "      <td>0.0</td>\n",
       "      <td>0.0</td>\n",
       "      <td>0.0</td>\n",
       "      <td>4.152435</td>\n",
       "      <td>4.177547</td>\n",
       "      <td>4.107516</td>\n",
       "      <td>4.169397</td>\n",
       "      <td>4.178743</td>\n",
       "      <td>4.136964</td>\n",
       "      <td>4.096080</td>\n",
       "      <td>...</td>\n",
       "      <td>1.078583</td>\n",
       "      <td>0.850322</td>\n",
       "      <td>1.365530</td>\n",
       "      <td>0.032152</td>\n",
       "      <td>-0.319954</td>\n",
       "      <td>-0.407179</td>\n",
       "      <td>-0.950879</td>\n",
       "      <td>-0.649678</td>\n",
       "      <td>4.967311</td>\n",
       "      <td>62.040585</td>\n",
       "    </tr>\n",
       "    <tr>\n",
       "      <th>...</th>\n",
       "      <td>...</td>\n",
       "      <td>...</td>\n",
       "      <td>...</td>\n",
       "      <td>...</td>\n",
       "      <td>...</td>\n",
       "      <td>...</td>\n",
       "      <td>...</td>\n",
       "      <td>...</td>\n",
       "      <td>...</td>\n",
       "      <td>...</td>\n",
       "      <td>...</td>\n",
       "      <td>...</td>\n",
       "      <td>...</td>\n",
       "      <td>...</td>\n",
       "      <td>...</td>\n",
       "      <td>...</td>\n",
       "      <td>...</td>\n",
       "      <td>...</td>\n",
       "      <td>...</td>\n",
       "      <td>...</td>\n",
       "      <td>...</td>\n",
       "    </tr>\n",
       "    <tr>\n",
       "      <th>85920</th>\n",
       "      <td>0.0</td>\n",
       "      <td>0.0</td>\n",
       "      <td>0.0</td>\n",
       "      <td>-0.272418</td>\n",
       "      <td>-0.328605</td>\n",
       "      <td>-0.348004</td>\n",
       "      <td>-0.274132</td>\n",
       "      <td>-0.299126</td>\n",
       "      <td>-0.291586</td>\n",
       "      <td>-0.294781</td>\n",
       "      <td>...</td>\n",
       "      <td>0.119083</td>\n",
       "      <td>0.342607</td>\n",
       "      <td>0.062820</td>\n",
       "      <td>0.371666</td>\n",
       "      <td>0.451037</td>\n",
       "      <td>1.137855</td>\n",
       "      <td>1.387404</td>\n",
       "      <td>0.821578</td>\n",
       "      <td>4.914477</td>\n",
       "      <td>61.832439</td>\n",
       "    </tr>\n",
       "    <tr>\n",
       "      <th>519008</th>\n",
       "      <td>0.0</td>\n",
       "      <td>0.0</td>\n",
       "      <td>0.0</td>\n",
       "      <td>-0.457896</td>\n",
       "      <td>-0.429526</td>\n",
       "      <td>-0.414715</td>\n",
       "      <td>-0.445499</td>\n",
       "      <td>-0.484215</td>\n",
       "      <td>-0.473987</td>\n",
       "      <td>-0.459728</td>\n",
       "      <td>...</td>\n",
       "      <td>-1.799918</td>\n",
       "      <td>-1.185282</td>\n",
       "      <td>-1.353788</td>\n",
       "      <td>-1.387632</td>\n",
       "      <td>-2.442972</td>\n",
       "      <td>-2.187549</td>\n",
       "      <td>-1.389961</td>\n",
       "      <td>-0.839418</td>\n",
       "      <td>4.851003</td>\n",
       "      <td>62.101594</td>\n",
       "    </tr>\n",
       "    <tr>\n",
       "      <th>543248</th>\n",
       "      <td>0.0</td>\n",
       "      <td>0.0</td>\n",
       "      <td>0.0</td>\n",
       "      <td>-0.206747</td>\n",
       "      <td>-0.240803</td>\n",
       "      <td>-0.204319</td>\n",
       "      <td>-0.238145</td>\n",
       "      <td>-0.200087</td>\n",
       "      <td>-0.236958</td>\n",
       "      <td>-0.231208</td>\n",
       "      <td>...</td>\n",
       "      <td>-0.220291</td>\n",
       "      <td>0.053162</td>\n",
       "      <td>0.119769</td>\n",
       "      <td>-0.199334</td>\n",
       "      <td>-0.487560</td>\n",
       "      <td>-0.601587</td>\n",
       "      <td>-0.731338</td>\n",
       "      <td>-0.204880</td>\n",
       "      <td>4.792658</td>\n",
       "      <td>62.042834</td>\n",
       "    </tr>\n",
       "    <tr>\n",
       "      <th>544293</th>\n",
       "      <td>0.0</td>\n",
       "      <td>0.0</td>\n",
       "      <td>0.0</td>\n",
       "      <td>-0.218283</td>\n",
       "      <td>-0.215572</td>\n",
       "      <td>-0.254352</td>\n",
       "      <td>-0.241573</td>\n",
       "      <td>-0.229311</td>\n",
       "      <td>-0.239736</td>\n",
       "      <td>-0.247531</td>\n",
       "      <td>...</td>\n",
       "      <td>-0.115393</td>\n",
       "      <td>0.095867</td>\n",
       "      <td>-0.182773</td>\n",
       "      <td>0.043727</td>\n",
       "      <td>-0.245462</td>\n",
       "      <td>0.012334</td>\n",
       "      <td>0.781054</td>\n",
       "      <td>0.062621</td>\n",
       "      <td>4.783618</td>\n",
       "      <td>62.031513</td>\n",
       "    </tr>\n",
       "    <tr>\n",
       "      <th>203975</th>\n",
       "      <td>0.0</td>\n",
       "      <td>0.0</td>\n",
       "      <td>0.0</td>\n",
       "      <td>-0.262656</td>\n",
       "      <td>-0.248876</td>\n",
       "      <td>-0.305668</td>\n",
       "      <td>-0.262137</td>\n",
       "      <td>-0.214699</td>\n",
       "      <td>-0.252698</td>\n",
       "      <td>-0.250108</td>\n",
       "      <td>...</td>\n",
       "      <td>0.628142</td>\n",
       "      <td>0.264315</td>\n",
       "      <td>0.272820</td>\n",
       "      <td>-0.176186</td>\n",
       "      <td>0.048781</td>\n",
       "      <td>0.933215</td>\n",
       "      <td>1.220135</td>\n",
       "      <td>0.336344</td>\n",
       "      <td>4.840018</td>\n",
       "      <td>61.828799</td>\n",
       "    </tr>\n",
       "  </tbody>\n",
       "</table>\n",
       "<p>15158 rows × 68 columns</p>\n",
       "</div>"
      ],
      "text/plain": [
       "        band_0  band_1  band_2    band_3    band_4    band_5    band_6  \\\n",
       "127057     0.0     0.0     0.0 -0.386013 -0.357872 -0.354419 -0.409512   \n",
       "924992     0.0     0.0     0.0 -0.301704 -0.267042 -0.294122 -0.243286   \n",
       "276732     0.0     0.0     0.0 -0.247570 -0.282181 -0.176095 -0.256996   \n",
       "619097     0.0     0.0     0.0 -0.353177 -0.355853 -0.290274 -0.334111   \n",
       "253157     0.0     0.0     0.0  4.152435  4.177547  4.107516  4.169397   \n",
       "...        ...     ...     ...       ...       ...       ...       ...   \n",
       "85920      0.0     0.0     0.0 -0.272418 -0.328605 -0.348004 -0.274132   \n",
       "519008     0.0     0.0     0.0 -0.457896 -0.429526 -0.414715 -0.445499   \n",
       "543248     0.0     0.0     0.0 -0.206747 -0.240803 -0.204319 -0.238145   \n",
       "544293     0.0     0.0     0.0 -0.218283 -0.215572 -0.254352 -0.241573   \n",
       "203975     0.0     0.0     0.0 -0.262656 -0.248876 -0.305668 -0.262137   \n",
       "\n",
       "          band_7    band_8    band_9  ...   band_58   band_59   band_60  \\\n",
       "127057 -0.427390 -0.415655 -0.394437  ... -1.315540 -0.741625 -1.311076   \n",
       "924992 -0.242300 -0.241587 -0.250967  ... -0.059860  0.112475  0.368921   \n",
       "276732 -0.219570 -0.259179 -0.252685  ... -0.056774  0.560877  0.974005   \n",
       "619097 -0.375435 -0.376768 -0.378973  ... -1.611720 -0.981247 -1.079720   \n",
       "253157  4.178743  4.136964  4.096080  ...  1.078583  0.850322  1.365530   \n",
       "...          ...       ...       ...  ...       ...       ...       ...   \n",
       "85920  -0.299126 -0.291586 -0.294781  ...  0.119083  0.342607  0.062820   \n",
       "519008 -0.484215 -0.473987 -0.459728  ... -1.799918 -1.185282 -1.353788   \n",
       "543248 -0.200087 -0.236958 -0.231208  ... -0.220291  0.053162  0.119769   \n",
       "544293 -0.229311 -0.239736 -0.247531  ... -0.115393  0.095867 -0.182773   \n",
       "203975 -0.214699 -0.252698 -0.250108  ...  0.628142  0.264315  0.272820   \n",
       "\n",
       "         band_61   band_62   band_63   band_64   band_65       lon        lat  \n",
       "127057 -0.897652 -1.761371 -1.498594 -0.494374 -1.330873  5.054610  62.054936  \n",
       "924992  0.225058  0.242460  1.431173  1.631339  0.756258  4.445301  61.887454  \n",
       "276732  0.255923  0.432414  1.083284 -0.250440 -0.139560  4.846259  61.896789  \n",
       "619097 -1.649983 -1.567692 -1.911285 -2.184489 -0.789650  4.779899  62.087761  \n",
       "253157  0.032152 -0.319954 -0.407179 -0.950879 -0.649678  4.967311  62.040585  \n",
       "...          ...       ...       ...       ...       ...       ...        ...  \n",
       "85920   0.371666  0.451037  1.137855  1.387404  0.821578  4.914477  61.832439  \n",
       "519008 -1.387632 -2.442972 -2.187549 -1.389961 -0.839418  4.851003  62.101594  \n",
       "543248 -0.199334 -0.487560 -0.601587 -0.731338 -0.204880  4.792658  62.042834  \n",
       "544293  0.043727 -0.245462  0.012334  0.781054  0.062621  4.783618  62.031513  \n",
       "203975 -0.176186  0.048781  0.933215  1.220135  0.336344  4.840018  61.828799  \n",
       "\n",
       "[15158 rows x 68 columns]"
      ]
     },
     "execution_count": 610,
     "metadata": {},
     "output_type": "execute_result"
    }
   ],
   "source": [
    "y_predicted == y_val\n",
    "X_val"
   ]
  },
  {
   "cell_type": "code",
   "execution_count": 611,
   "metadata": {},
   "outputs": [
    {
     "name": "stdout",
     "output_type": "stream",
     "text": [
      "[0. 1.]\n",
      "[6314 8844]\n"
     ]
    }
   ],
   "source": [
    "unique, counts = np.unique(y_predicted, return_counts=True)\n",
    "print(unique)\n",
    "print(counts)"
   ]
  },
  {
   "cell_type": "code",
   "execution_count": 612,
   "metadata": {},
   "outputs": [
    {
     "data": {
      "text/plain": [
       "1.0    8094\n",
       "0.0    7064\n",
       "Name: label, dtype: int64"
      ]
     },
     "execution_count": 612,
     "metadata": {},
     "output_type": "execute_result"
    }
   ],
   "source": [
    "y_test.value_counts()\n"
   ]
  },
  {
   "attachments": {},
   "cell_type": "markdown",
   "metadata": {},
   "source": [
    "**Plotting the predicted seaweed and comparing with naturdirektoratet**"
   ]
  },
  {
   "cell_type": "code",
   "execution_count": 613,
   "metadata": {},
   "outputs": [],
   "source": [
    "X = X_val.copy()\n",
    "X[\"label\"] = y_val\n",
    "X[\"y_predicted\"] = y_predicted\n",
    "X = gpd.GeoDataFrame(X, geometry=gpd.points_from_xy(X.lon, X.lat))\n",
    "\n",
    "\n",
    "\n",
    "df_no_seaweed = X[X[\"y_predicted\"] == False]\n",
    "df_seaweed = X[X[\"y_predicted\"] == 1]\n",
    "df_true_seaweed = X[X[\"label\"] == True]\n",
    "df_correct_prediction = X[X[\"label\"] == X[\"y_predicted\"]]\n",
    "df_correct_prediction = df_correct_prediction[df_correct_prediction[\"y_predicted\"] == 0]"
   ]
  },
  {
   "cell_type": "code",
   "execution_count": 614,
   "metadata": {},
   "outputs": [
    {
     "data": {
      "text/html": [
       "<div>\n",
       "<style scoped>\n",
       "    .dataframe tbody tr th:only-of-type {\n",
       "        vertical-align: middle;\n",
       "    }\n",
       "\n",
       "    .dataframe tbody tr th {\n",
       "        vertical-align: top;\n",
       "    }\n",
       "\n",
       "    .dataframe thead th {\n",
       "        text-align: right;\n",
       "    }\n",
       "</style>\n",
       "<table border=\"1\" class=\"dataframe\">\n",
       "  <thead>\n",
       "    <tr style=\"text-align: right;\">\n",
       "      <th></th>\n",
       "      <th>label</th>\n",
       "      <th>y_predicted</th>\n",
       "    </tr>\n",
       "  </thead>\n",
       "  <tbody>\n",
       "    <tr>\n",
       "      <th>924992</th>\n",
       "      <td>0.0</td>\n",
       "      <td>0.0</td>\n",
       "    </tr>\n",
       "    <tr>\n",
       "      <th>619097</th>\n",
       "      <td>0.0</td>\n",
       "      <td>0.0</td>\n",
       "    </tr>\n",
       "    <tr>\n",
       "      <th>675048</th>\n",
       "      <td>0.0</td>\n",
       "      <td>0.0</td>\n",
       "    </tr>\n",
       "    <tr>\n",
       "      <th>551950</th>\n",
       "      <td>0.0</td>\n",
       "      <td>0.0</td>\n",
       "    </tr>\n",
       "    <tr>\n",
       "      <th>594321</th>\n",
       "      <td>0.0</td>\n",
       "      <td>0.0</td>\n",
       "    </tr>\n",
       "    <tr>\n",
       "      <th>...</th>\n",
       "      <td>...</td>\n",
       "      <td>...</td>\n",
       "    </tr>\n",
       "    <tr>\n",
       "      <th>428771</th>\n",
       "      <td>0.0</td>\n",
       "      <td>0.0</td>\n",
       "    </tr>\n",
       "    <tr>\n",
       "      <th>839582</th>\n",
       "      <td>0.0</td>\n",
       "      <td>0.0</td>\n",
       "    </tr>\n",
       "    <tr>\n",
       "      <th>519008</th>\n",
       "      <td>0.0</td>\n",
       "      <td>0.0</td>\n",
       "    </tr>\n",
       "    <tr>\n",
       "      <th>543248</th>\n",
       "      <td>0.0</td>\n",
       "      <td>0.0</td>\n",
       "    </tr>\n",
       "    <tr>\n",
       "      <th>544293</th>\n",
       "      <td>0.0</td>\n",
       "      <td>0.0</td>\n",
       "    </tr>\n",
       "  </tbody>\n",
       "</table>\n",
       "<p>5273 rows × 2 columns</p>\n",
       "</div>"
      ],
      "text/plain": [
       "        label  y_predicted\n",
       "924992    0.0          0.0\n",
       "619097    0.0          0.0\n",
       "675048    0.0          0.0\n",
       "551950    0.0          0.0\n",
       "594321    0.0          0.0\n",
       "...       ...          ...\n",
       "428771    0.0          0.0\n",
       "839582    0.0          0.0\n",
       "519008    0.0          0.0\n",
       "543248    0.0          0.0\n",
       "544293    0.0          0.0\n",
       "\n",
       "[5273 rows x 2 columns]"
      ]
     },
     "execution_count": 614,
     "metadata": {},
     "output_type": "execute_result"
    }
   ],
   "source": [
    "df_correct_prediction[[\"label\", \"y_predicted\"]]"
   ]
  },
  {
   "cell_type": "code",
   "execution_count": 615,
   "metadata": {},
   "outputs": [
    {
     "data": {
      "text/plain": [
       "<matplotlib.legend.Legend at 0x1ad9ead5700>"
      ]
     },
     "execution_count": 615,
     "metadata": {},
     "output_type": "execute_result"
    },
    {
     "data": {
      "image/png": "[encoded data removed]",
      "text/plain": [
       "<Figure size 640x480 with 1 Axes>"
      ]
     },
     "metadata": {},
     "output_type": "display_data"
    }
   ],
   "source": [
    "fig, ax = plt.subplots()\n",
    "#df_no_seaweed.plot(ax = ax, color = \"blue\", label = \"no seaweed\")\n",
    "df_true_seaweed.plot(ax = ax, color = \"green\", label = \"True seaweed\", markersize = 3)\n",
    "df_seaweed.plot(ax = ax, color = \"red\", label = \"Seaweed\", markersize = 1)\n",
    "#df_correct_prediction.plot(ax = ax, color = \"red\", label = \"Correct prediction\", markersize = 1)\n",
    "\n",
    "ax.set_title(\"Labelling Prisma data\")\n",
    "ax.set_xlabel(\"lon\")\n",
    "ax.set_ylabel(\"lat\")\n",
    "ax.legend()"
   ]
  }
 ],
 "metadata": {
  "kernelspec": {
   "display_name": "Python 3",
   "language": "python",
   "name": "python3"
  },
  "language_info": {
   "codemirror_mode": {
    "name": "ipython",
    "version": 3
   },
   "file_extension": ".py",
   "mimetype": "text/x-python",
   "name": "python",
   "nbconvert_exporter": "python",
   "pygments_lexer": "ipython3",
   "version": "3.9.13"
  },
  "orig_nbformat": 4,
  "vscode": {
   "interpreter": {
    "hash": "26de051ba29f2982a8de78e945f0abaf191376122a1563185a90213a26c5da77"
   }
  }
 },
 "nbformat": 4,
 "nbformat_minor": 2
}
