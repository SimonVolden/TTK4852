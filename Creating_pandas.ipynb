{
 "cells": [
  {
   "attachments": {},
   "cell_type": "markdown",
   "metadata": {},
   "source": [
    "### Creating a new pandas with the new corrected coordinates"
   ]
  },
  {
   "attachments": {},
   "cell_type": "markdown",
   "metadata": {},
   "source": [
    "**Importing libraries**"
   ]
  },
  {
   "cell_type": "code",
   "execution_count": 1,
   "metadata": {},
   "outputs": [],
   "source": [
    "import pandas as pd\n",
    "import geopandas as gpd\n",
    "import numpy as np\n",
    "import rasterio as rio\n",
    "from shapely.geometry import Point\n",
    "import warnings\n",
    "warnings.filterwarnings('ignore')"
   ]
  },
  {
   "attachments": {},
   "cell_type": "markdown",
   "metadata": {},
   "source": [
    "**Funksjoner**"
   ]
  },
  {
   "cell_type": "code",
   "execution_count": 2,
   "metadata": {},
   "outputs": [],
   "source": [
    "def read_tif_npy(band_name):\n",
    "    npy = \"../data_for_malan/HyperSpectral4_\" + band_name + \".npy\"\n",
    "    tif = \"../data_for_malan/HyperSpectral4_\" + band_name + \".tif\"\n",
    "    coord = np.load(npy)\n",
    "    coord = coord.reshape(1000000, 2)\n",
    "    data = None\n",
    "    with rio.open(tif, 'r') as f:\n",
    "        data = f.read(1).reshape(1000000)\n",
    "    return data, coord\n",
    "\n",
    "\n",
    "#brukes til å definere hvilke lat og lon som er i samme 30x30 coordinat grid\n",
    "def cartesian(lat, lon): \n",
    "    R = 6378137.0 \n",
    "    X = R * np.cos(lon) * np.sin(lat)\n",
    "    Y = R * np.sin(lon) * np.sin(lat)\n",
    "    return X , Y\n",
    "\n",
    "\n",
    "def labelling(dataframes, lat_min, lat_max, lon_min, lon_max):\n",
    "    '''\n",
    "    Input: \n",
    "\n",
    "    Output: \n",
    "\n",
    "    '''\n",
    "    global df_prisma\n",
    "    if len(dataframes):\n",
    "        dlat = lat_max-lat_min\n",
    "        dlon = lon_max-lon_min\n",
    "\n",
    "        if dlat >dlat_min and dlon >dlon_min:\n",
    "            dataframes_upper_left = []\n",
    "            dataframes_upper_right = []\n",
    "            dataframes_lower_left = []\n",
    "            dataframes_lower_right = []\n",
    "\n",
    "            lat_middle = lat_min + dlat/2\n",
    "            lon_middle = lon_min + dlon/2\n",
    "\n",
    "\n",
    "            for dataframe in dataframes: \n",
    "                if not dataframe.empty: \n",
    "\n",
    "                    dataframes_upper_left.append(dataframe.loc[(dataframe[\"lat\"]>lat_middle) &(dataframe[\"lon\"]<lon_middle)])\n",
    "                    dataframes_upper_right.append(dataframe.loc[(dataframe[\"lat\"]>lat_middle) &(dataframe[\"lon\"]>lon_middle)])\n",
    "                    dataframes_lower_right.append(dataframe.loc[(dataframe[\"lat\"]<=lat_middle) &(dataframe[\"lon\"]>=lon_middle)])\n",
    "                    dataframes_lower_left.append(dataframe.loc[(dataframe[\"lat\"]<=lat_middle) &(dataframe[\"lon\"]<=lon_middle)])\n",
    "            \n",
    "            labelling(dataframes_upper_left, lat_middle, lat_max, lon_min, lon_middle)\n",
    "            labelling(dataframes_upper_right, lat_middle, lat_max, lon_middle, lon_max)\n",
    "            labelling(dataframes_lower_right, lat_min, lat_middle, lon_middle, lon_max)\n",
    "            labelling(dataframes_lower_left, lat_min, lat_middle, lon_min, lon_middle)\n",
    "        else: \n",
    "            #print(f\"Now we have arrived at the bottom, and lat is {lat_min} and lon is {lon_min}\")\n",
    "            lat = lat_min + dlat/2\n",
    "            lon = lon_min + dlon/2\n",
    "            row = {\"lat\": [lat], \"lon\": [lon]}\n",
    "            for dataframe in dataframes:\n",
    "                if not dataframe.empty: \n",
    "                    new = dataframe.drop(columns = [\"lat\", \"lon\"])\n",
    "                    row[new.columns[0]] =[ new[new.columns[0]].mean()]\n",
    "            row = pd.DataFrame.from_dict(row, orient = \"columns\")\n",
    "            df_prisma = pd.concat([df_prisma, row], ignore_index=True)\n",
    "        "
   ]
  },
  {
   "attachments": {},
   "cell_type": "markdown",
   "metadata": {},
   "source": [
    "**Finner min og max lat og lon av prisma dataen**\n",
    "\n"
   ]
  },
  {
   "cell_type": "code",
   "execution_count": 3,
   "metadata": {},
   "outputs": [],
   "source": [
    "#Runtime 10 s\n",
    "\n",
    "\n",
    "lat_min = 1000\n",
    "lat_max = 0\n",
    "lon_min = 1000 \n",
    "lon_max = 0 \n",
    "\n",
    "dataframes = []\n",
    "for i in range(66):\n",
    "    try: \n",
    "        filename = \"band_\" + str(400 + i*10)\n",
    "        band, coord = read_tif_npy(filename)\n",
    "\n",
    "\n",
    "        data = pd.DataFrame()\n",
    "        data[filename] = band\n",
    "        data[\"lat\"] = coord[:,0]\n",
    "        data[\"lon\"] = coord[:,1]\n",
    "\n",
    "        dataframes.append(data)\n",
    "        lat_min_current = min(coord[:,0])\n",
    "        lat_max_current = max(coord[:,0])\n",
    "\n",
    "        lon_min_current = min(coord[:,1])\n",
    "        lon_max_current = max(coord[:,1])\n",
    "\n",
    "        lat_min = min(lat_min, lat_min_current)\n",
    "        lon_min = min(lon_min, lon_min_current)\n",
    "        lat_max = max(lat_max, lat_max_current)\n",
    "        lon_max = max(lon_max, lon_max_current)\n",
    "        \n",
    "\n",
    "    except: \n",
    "        None\n"
   ]
  },
  {
   "attachments": {},
   "cell_type": "markdown",
   "metadata": {},
   "source": [
    "**FInner dlat og dlon for 30 meter**\n"
   ]
  },
  {
   "cell_type": "code",
   "execution_count": 4,
   "metadata": {},
   "outputs": [
    {
     "name": "stdout",
     "output_type": "stream",
     "text": [
      "4.747474747474748e-06\n",
      "4.747474747474748e-06\n"
     ]
    }
   ],
   "source": [
    "#finding dlat and dlon numerically\n",
    "dlat_list = np.linspace(0.00001,0, 100)\n",
    "dlon_list = np.linspace(0.00001,0, 100)\n",
    "\n",
    "x_min, y_min = cartesian(lat_min, lon_min)\n",
    "\n",
    "dx = 100\n",
    "dy = 100\n",
    "for dlat, dlon in zip(dlat_list, dlon_list):\n",
    "    x_new, y_new = cartesian(lat_min + dlat, lon_min + dlon)\n",
    "    dx = abs(x_new - x_min)\n",
    "    dy = abs(y_new - y_min)\n",
    "    if  dx <30 and dy <30: \n",
    "        print(dlat)\n",
    "        print(dlon)\n",
    "        break"
   ]
  },
  {
   "attachments": {},
   "cell_type": "markdown",
   "metadata": {},
   "source": [
    "**Finner valid filnavn**\n",
    "\n"
   ]
  },
  {
   "cell_type": "code",
   "execution_count": 5,
   "metadata": {},
   "outputs": [],
   "source": [
    "#Runtime 2 s\n",
    "list_valid_filenames = []\n",
    "for i in range(66):\n",
    "    try: \n",
    "        filename = \"band_\" + str(400 + i*10)\n",
    "        band, coord = read_tif_npy(filename)\n",
    "        list_valid_filenames.append(filename)\n",
    "    except: \n",
    "        None"
   ]
  },
  {
   "attachments": {},
   "cell_type": "markdown",
   "metadata": {},
   "source": [
    "**Creating new dataframe**"
   ]
  },
  {
   "cell_type": "code",
   "execution_count": 6,
   "metadata": {},
   "outputs": [],
   "source": [
    "global dlat_min\n",
    "global dlon_min\n",
    "\n",
    "dlat_min = 0.03\n",
    "dlon_min = 0.03\n",
    "\n",
    "global df_prisma\n",
    "df_prisma = pd.DataFrame(columns=list_valid_filenames)\n",
    "\n",
    "labelling(dataframes, lat_min, lat_max, lon_min, lon_max)\n"
   ]
  },
  {
   "attachments": {},
   "cell_type": "markdown",
   "metadata": {},
   "source": [
    "**Adding rows for lat and lons which are going to be interpolated**"
   ]
  },
  {
   "cell_type": "code",
   "execution_count": 7,
   "metadata": {},
   "outputs": [],
   "source": [
    "df_new = pd.DataFrame(columns = [\"lat\", \"lon\"])\n",
    "\n",
    "lon,lat = np.meshgrid( np.arange(lon_min,lon_max,dlon_min), np.arange(lat_min,lat_max,dlat_min))\n",
    "lon = lon.flatten()\n",
    "lat = lat.flatten()\n",
    "\n",
    "\n",
    "df_new[\"lat\"] = lat \n",
    "df_new[\"lon\"] = lon "
   ]
  },
  {
   "cell_type": "code",
   "execution_count": 8,
   "metadata": {},
   "outputs": [
    {
     "data": {
      "text/plain": [
       "Index(['lat', 'lon'], dtype='object')"
      ]
     },
     "execution_count": 8,
     "metadata": {},
     "output_type": "execute_result"
    }
   ],
   "source": [
    "df_new.columns"
   ]
  },
  {
   "attachments": {},
   "cell_type": "markdown",
   "metadata": {},
   "source": [
    "**Interpolating the bandwidth**\n",
    "\n",
    "\n"
   ]
  },
  {
   "cell_type": "code",
   "execution_count": 9,
   "metadata": {},
   "outputs": [
    {
     "ename": "ValueError",
     "evalue": "Length of values (300) does not match length of index (508)",
     "output_type": "error",
     "traceback": [
      "\u001b[1;31m---------------------------------------------------------------------------\u001b[0m",
      "\u001b[1;31mValueError\u001b[0m                                Traceback (most recent call last)",
      "\u001b[1;32mc:\\Users\\malan\\OneDrive\\Dokumenter\\8. Semester\\EIT\\Projekt TARE\\TTK4852\\Creating_pandas.ipynb Cell 18\u001b[0m in \u001b[0;36m1\n\u001b[0;32m     <a href='vscode-notebook-cell:/c%3A/Users/malan/OneDrive/Dokumenter/8.%20Semester/EIT/Projekt%20TARE/TTK4852/Creating_pandas.ipynb#X24sZmlsZQ%3D%3D?line=12'>13</a>\u001b[0m     grid \u001b[39m=\u001b[39m griddata(points, data[band], (lat, lon), method\u001b[39m=\u001b[39m\u001b[39m'\u001b[39m\u001b[39mnearest\u001b[39m\u001b[39m'\u001b[39m)\n\u001b[0;32m     <a href='vscode-notebook-cell:/c%3A/Users/malan/OneDrive/Dokumenter/8.%20Semester/EIT/Projekt%20TARE/TTK4852/Creating_pandas.ipynb#X24sZmlsZQ%3D%3D?line=13'>14</a>\u001b[0m     dataframe[band] \u001b[39m=\u001b[39m grid\u001b[39m.\u001b[39mflatten()\n\u001b[1;32m---> <a href='vscode-notebook-cell:/c%3A/Users/malan/OneDrive/Dokumenter/8.%20Semester/EIT/Projekt%20TARE/TTK4852/Creating_pandas.ipynb#X24sZmlsZQ%3D%3D?line=16'>17</a>\u001b[0m interpolating(\u001b[39m'\u001b[39;49m\u001b[39mband_430\u001b[39;49m\u001b[39m'\u001b[39;49m, df_all)\n",
      "\u001b[1;32mc:\\Users\\malan\\OneDrive\\Dokumenter\\8. Semester\\EIT\\Projekt TARE\\TTK4852\\Creating_pandas.ipynb Cell 18\u001b[0m in \u001b[0;36m1\n\u001b[0;32m     <a href='vscode-notebook-cell:/c%3A/Users/malan/OneDrive/Dokumenter/8.%20Semester/EIT/Projekt%20TARE/TTK4852/Creating_pandas.ipynb#X24sZmlsZQ%3D%3D?line=11'>12</a>\u001b[0m points \u001b[39m=\u001b[39m np\u001b[39m.\u001b[39marray([data\u001b[39m.\u001b[39mlat, data\u001b[39m.\u001b[39mlon])\u001b[39m.\u001b[39mT\n\u001b[0;32m     <a href='vscode-notebook-cell:/c%3A/Users/malan/OneDrive/Dokumenter/8.%20Semester/EIT/Projekt%20TARE/TTK4852/Creating_pandas.ipynb#X24sZmlsZQ%3D%3D?line=12'>13</a>\u001b[0m grid \u001b[39m=\u001b[39m griddata(points, data[band], (lat, lon), method\u001b[39m=\u001b[39m\u001b[39m'\u001b[39m\u001b[39mnearest\u001b[39m\u001b[39m'\u001b[39m)\n\u001b[1;32m---> <a href='vscode-notebook-cell:/c%3A/Users/malan/OneDrive/Dokumenter/8.%20Semester/EIT/Projekt%20TARE/TTK4852/Creating_pandas.ipynb#X24sZmlsZQ%3D%3D?line=13'>14</a>\u001b[0m dataframe[band] \u001b[39m=\u001b[39m grid\u001b[39m.\u001b[39mflatten()\n",
      "File \u001b[1;32m~\\AppData\\Roaming\\Python\\Python310\\site-packages\\pandas\\core\\frame.py:3655\u001b[0m, in \u001b[0;36mDataFrame.__setitem__\u001b[1;34m(self, key, value)\u001b[0m\n\u001b[0;32m   3652\u001b[0m     \u001b[39mself\u001b[39m\u001b[39m.\u001b[39m_setitem_array([key], value)\n\u001b[0;32m   3653\u001b[0m \u001b[39melse\u001b[39;00m:\n\u001b[0;32m   3654\u001b[0m     \u001b[39m# set column\u001b[39;00m\n\u001b[1;32m-> 3655\u001b[0m     \u001b[39mself\u001b[39;49m\u001b[39m.\u001b[39;49m_set_item(key, value)\n",
      "File \u001b[1;32m~\\AppData\\Roaming\\Python\\Python310\\site-packages\\pandas\\core\\frame.py:3832\u001b[0m, in \u001b[0;36mDataFrame._set_item\u001b[1;34m(self, key, value)\u001b[0m\n\u001b[0;32m   3822\u001b[0m \u001b[39mdef\u001b[39;00m \u001b[39m_set_item\u001b[39m(\u001b[39mself\u001b[39m, key, value) \u001b[39m-\u001b[39m\u001b[39m>\u001b[39m \u001b[39mNone\u001b[39;00m:\n\u001b[0;32m   3823\u001b[0m \u001b[39m    \u001b[39m\u001b[39m\"\"\"\u001b[39;00m\n\u001b[0;32m   3824\u001b[0m \u001b[39m    Add series to DataFrame in specified column.\u001b[39;00m\n\u001b[0;32m   3825\u001b[0m \n\u001b[1;32m   (...)\u001b[0m\n\u001b[0;32m   3830\u001b[0m \u001b[39m    ensure homogeneity.\u001b[39;00m\n\u001b[0;32m   3831\u001b[0m \u001b[39m    \"\"\"\u001b[39;00m\n\u001b[1;32m-> 3832\u001b[0m     value \u001b[39m=\u001b[39m \u001b[39mself\u001b[39;49m\u001b[39m.\u001b[39;49m_sanitize_column(value)\n\u001b[0;32m   3834\u001b[0m     \u001b[39mif\u001b[39;00m (\n\u001b[0;32m   3835\u001b[0m         key \u001b[39min\u001b[39;00m \u001b[39mself\u001b[39m\u001b[39m.\u001b[39mcolumns\n\u001b[0;32m   3836\u001b[0m         \u001b[39mand\u001b[39;00m value\u001b[39m.\u001b[39mndim \u001b[39m==\u001b[39m \u001b[39m1\u001b[39m\n\u001b[0;32m   3837\u001b[0m         \u001b[39mand\u001b[39;00m \u001b[39mnot\u001b[39;00m is_extension_array_dtype(value)\n\u001b[0;32m   3838\u001b[0m     ):\n\u001b[0;32m   3839\u001b[0m         \u001b[39m# broadcast across multiple columns if necessary\u001b[39;00m\n\u001b[0;32m   3840\u001b[0m         \u001b[39mif\u001b[39;00m \u001b[39mnot\u001b[39;00m \u001b[39mself\u001b[39m\u001b[39m.\u001b[39mcolumns\u001b[39m.\u001b[39mis_unique \u001b[39mor\u001b[39;00m \u001b[39misinstance\u001b[39m(\u001b[39mself\u001b[39m\u001b[39m.\u001b[39mcolumns, MultiIndex):\n",
      "File \u001b[1;32m~\\AppData\\Roaming\\Python\\Python310\\site-packages\\pandas\\core\\frame.py:4535\u001b[0m, in \u001b[0;36mDataFrame._sanitize_column\u001b[1;34m(self, value)\u001b[0m\n\u001b[0;32m   4532\u001b[0m     \u001b[39mreturn\u001b[39;00m _reindex_for_setitem(value, \u001b[39mself\u001b[39m\u001b[39m.\u001b[39mindex)\n\u001b[0;32m   4534\u001b[0m \u001b[39mif\u001b[39;00m is_list_like(value):\n\u001b[1;32m-> 4535\u001b[0m     com\u001b[39m.\u001b[39;49mrequire_length_match(value, \u001b[39mself\u001b[39;49m\u001b[39m.\u001b[39;49mindex)\n\u001b[0;32m   4536\u001b[0m \u001b[39mreturn\u001b[39;00m sanitize_array(value, \u001b[39mself\u001b[39m\u001b[39m.\u001b[39mindex, copy\u001b[39m=\u001b[39m\u001b[39mTrue\u001b[39;00m, allow_2d\u001b[39m=\u001b[39m\u001b[39mTrue\u001b[39;00m)\n",
      "File \u001b[1;32m~\\AppData\\Roaming\\Python\\Python310\\site-packages\\pandas\\core\\common.py:557\u001b[0m, in \u001b[0;36mrequire_length_match\u001b[1;34m(data, index)\u001b[0m\n\u001b[0;32m    553\u001b[0m \u001b[39m\u001b[39m\u001b[39m\"\"\"\u001b[39;00m\n\u001b[0;32m    554\u001b[0m \u001b[39mCheck the length of data matches the length of the index.\u001b[39;00m\n\u001b[0;32m    555\u001b[0m \u001b[39m\"\"\"\u001b[39;00m\n\u001b[0;32m    556\u001b[0m \u001b[39mif\u001b[39;00m \u001b[39mlen\u001b[39m(data) \u001b[39m!=\u001b[39m \u001b[39mlen\u001b[39m(index):\n\u001b[1;32m--> 557\u001b[0m     \u001b[39mraise\u001b[39;00m \u001b[39mValueError\u001b[39;00m(\n\u001b[0;32m    558\u001b[0m         \u001b[39m\"\u001b[39m\u001b[39mLength of values \u001b[39m\u001b[39m\"\u001b[39m\n\u001b[0;32m    559\u001b[0m         \u001b[39mf\u001b[39m\u001b[39m\"\u001b[39m\u001b[39m(\u001b[39m\u001b[39m{\u001b[39;00m\u001b[39mlen\u001b[39m(data)\u001b[39m}\u001b[39;00m\u001b[39m) \u001b[39m\u001b[39m\"\u001b[39m\n\u001b[0;32m    560\u001b[0m         \u001b[39m\"\u001b[39m\u001b[39mdoes not match length of index \u001b[39m\u001b[39m\"\u001b[39m\n\u001b[0;32m    561\u001b[0m         \u001b[39mf\u001b[39m\u001b[39m\"\u001b[39m\u001b[39m(\u001b[39m\u001b[39m{\u001b[39;00m\u001b[39mlen\u001b[39m(index)\u001b[39m}\u001b[39;00m\u001b[39m)\u001b[39m\u001b[39m\"\u001b[39m\n\u001b[0;32m    562\u001b[0m     )\n",
      "\u001b[1;31mValueError\u001b[0m: Length of values (300) does not match length of index (508)"
     ]
    }
   ],
   "source": [
    "df_all = df_prisma.copy()\n",
    "df_all = df_all.merge(df_new, how = \"outer\", on = [\"lat\", \"lon\"])\n",
    "\n",
    "grid_x, grid_y = np.mgrid[lat_min:lat_max:dlat_min,lon_min:lon_max:dlon_min]\n",
    "\n",
    "from scipy.interpolate import griddata\n",
    "def interpolating(band, dataframe):\n",
    "    data = dataframe[[band, \"lat\", \"lon\"]].copy()\n",
    "    data = dataframe.dropna()\n",
    "    points = np.array([data.lat, data.lon]).T\n",
    "    grid = griddata(points, data[band], (lat, lon), method='nearest')\n",
    "    dataframe[band] = grid.flatten()\n",
    "\n",
    "\n",
    "interpolating('band_430', df_all)\n"
   ]
  },
  {
   "attachments": {},
   "cell_type": "markdown",
   "metadata": {},
   "source": [
    "**Exporting data**"
   ]
  },
  {
   "cell_type": "code",
   "execution_count": 132,
   "metadata": {},
   "outputs": [],
   "source": [
    "df_prisma.to_pickle(\"..\\data\\df_prisma.pkl\")"
   ]
  },
  {
   "attachments": {},
   "cell_type": "markdown",
   "metadata": {},
   "source": [
    "**Plot of the new data**"
   ]
  },
  {
   "cell_type": "code",
   "execution_count": 133,
   "metadata": {},
   "outputs": [
    {
     "data": {
      "text/plain": [
       "<AxesSubplot:>"
      ]
     },
     "execution_count": 133,
     "metadata": {},
     "output_type": "execute_result"
    },
    {
     "data": {
      "image/png": "[encoded data removed]",
      "text/plain": [
       "<Figure size 640x480 with 1 Axes>"
      ]
     },
     "metadata": {},
     "output_type": "display_data"
    }
   ],
   "source": [
    "geo_prisma = gpd.GeoDataFrame(df_prisma, geometry = gpd.points_from_xy(df_prisma.lat, df_prisma.lon))\n",
    "geo_prisma.plot()"
   ]
  },
  {
   "attachments": {},
   "cell_type": "markdown",
   "metadata": {},
   "source": [
    "**Plot of Runtime**"
   ]
  },
  {
   "cell_type": "code",
   "execution_count": 138,
   "metadata": {},
   "outputs": [],
   "source": [
    "d_list = [0.03,0.02,0.01,0.009, 0.008, 0.004]\n",
    "dtime = [19, 41,  2*60 + 8, 2*60 + 9, 2* 60 + 12,9 * 60 +54 ]"
   ]
  },
  {
   "cell_type": "code",
   "execution_count": 139,
   "metadata": {},
   "outputs": [
    {
     "data": {
      "image/png": "[encoded data removed]",
      "text/plain": [
       "<Figure size 640x480 with 1 Axes>"
      ]
     },
     "metadata": {},
     "output_type": "display_data"
    }
   ],
   "source": [
    "import matplotlib.pyplot as plt \n",
    "plt.title(\"Runtime as a function of dlat and dlon\")\n",
    "plt.plot(d_list, dtime)\n",
    "plt.grid()"
   ]
  },
  {
   "attachments": {},
   "cell_type": "markdown",
   "metadata": {},
   "source": [
    "**Kommentar**\n",
    "Eksponensiell vekst i kjøretid\n"
   ]
  }
 ],
 "metadata": {
  "kernelspec": {
   "display_name": "Python 3",
   "language": "python",
   "name": "python3"
  },
  "language_info": {
   "codemirror_mode": {
    "name": "ipython",
    "version": 3
   },
   "file_extension": ".py",
   "mimetype": "text/x-python",
   "name": "python",
   "nbconvert_exporter": "python",
   "pygments_lexer": "ipython3",
   "version": "3.10.6"
  },
  "orig_nbformat": 4
 },
 "nbformat": 4,
 "nbformat_minor": 2
}
