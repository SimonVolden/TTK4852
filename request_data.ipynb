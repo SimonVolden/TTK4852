{
 "cells": [
  {
   "cell_type": "code",
   "execution_count": 5,
   "metadata": {},
   "outputs": [],
   "source": [
    "from oauthlib.oauth2 import BackendApplicationClient\n",
    "from requests_oauthlib import OAuth2Session\n",
    "from PIL import Image\n",
    "import io\n",
    "import numpy as np\n",
    "import matplotlib.pyplot as plt"
   ]
  },
  {
   "cell_type": "code",
   "execution_count": 24,
   "metadata": {},
   "outputs": [
    {
     "name": "stdout",
     "output_type": "stream",
     "text": [
      "b'{\"sub\":\"b3d04095-4472-4352-9580-e97cb48baabc\",\"aud\":\"7eddac63-2564-4765-a4c7-037c0b2d9091\",\"jti\":\"dc6a8151-5fb5-4558-8005-bc6df5ad4abf\",\"exp\":1679481067,\"name\":\"Simon Volden\",\"email\":\"simonvolden@gmail.com\",\"given_name\":\"Simon\",\"family_name\":\"Volden\",\"sid\":\"f27b23f0-e9d4-405c-aa34-02e0030718c6\",\"did\":1,\"aid\":\"df8d1dad-4797-4175-9446-701a168acc98\",\"d\":{\"1\":{\"ra\":{\"rag\":1},\"t\":11000}},\"active\":true}'\n"
     ]
    }
   ],
   "source": [
    "# Your client credentials\n",
    "client_id = '7eddac63-2564-4765-a4c7-037c0b2d9091'\n",
    "client_secret = '1Vz&Emp{c;ny(7t-O9Z4HoT*#w-Pwc8k{Ml4>Y;{'\n",
    "\n",
    "\n",
    "# Create a session\n",
    "client = BackendApplicationClient(client_id=client_id)\n",
    "oauth = OAuth2Session(client=client)\n",
    "\n",
    "# Get token for the session\n",
    "token = oauth.fetch_token(token_url='https://services.sentinel-hub.com/oauth/token',\n",
    "                          client_secret=client_secret)\n",
    "\n",
    "# All requests using this session will have an access token automatically added\n",
    "resp = oauth.get(\"https://services.sentinel-hub.com/oauth/tokeninfo\")\n",
    "print(resp.content)\n",
    "\n",
    "def sentinelhub_compliance_hook(response):\n",
    "    response.raise_for_status()\n",
    "    return response\n",
    "\n",
    "oauth.register_compliance_hook(\"access_token_response\", sentinelhub_compliance_hook)"
   ]
  },
  {
   "cell_type": "code",
   "execution_count": 25,
   "metadata": {},
   "outputs": [],
   "source": [
    "bbox = [62.6010, 5.9, 62.4351, 6.2665]\n",
    "start_date = \"2023-01-10\"\n",
    "end_date = \"2023-03-20\"\n",
    "collection_id = \"sentinel-2-l2a\""
   ]
  },
  {
   "cell_type": "code",
   "execution_count": 26,
   "metadata": {},
   "outputs": [],
   "source": [
    "evalscript = \"\"\"//VERSION=3\n",
    "\n",
    "function setup() {\n",
    "    return {\n",
    "        input: [\"B04\", \"B08\", \"SCL\",\"dataMask\"],\n",
    "        output: [\n",
    "\t\t\t{ id: \"default\", bands: 4 },\n",
    "\t\t\t{ id: \"index\", bands: 1, sampleType: \"FLOAT32\" },\n",
    "            { id: \"eobrowserStats\", bands: 2, sampleType: 'FLOAT32' },\n",
    "            { id: \"dataMask\", bands: 1 }\n",
    "\t\t]\n",
    "      };\n",
    "}\n",
    "\n",
    "function evaluatePixel(samples) {\n",
    "    let val = index(samples.B08, samples.B04);\n",
    "    let imgVals = null;\n",
    "    // The library for tiffs works well only if there is only one channel returned.\n",
    "    // So we encode the \"no data\" as NaN here and ignore NaNs on frontend.\n",
    "    const indexVal = samples.dataMask === 1 ? val : NaN;\n",
    "  \n",
    "    if (val<-0.5) imgVals = [0.05,0.05,0.05,samples.dataMask];\n",
    "    else if (val<-0.2) imgVals = [0.75,0.75,0.75,samples.dataMask];\n",
    "    else if (val<-0.1) imgVals = [0.86,0.86,0.86,samples.dataMask];\n",
    "    else if (val<0) imgVals = [0.92,0.92,0.92,samples.dataMask];\n",
    "    else if (val<0.025) imgVals = [1,0.98,0.8,samples.dataMask];\n",
    "    else if (val<0.05) imgVals = [0.93,0.91,0.71,samples.dataMask];\n",
    "    else if (val<0.075) imgVals = [0.87,0.85,0.61,samples.dataMask];\n",
    "    else if (val<0.1) imgVals = [0.8,0.78,0.51,samples.dataMask];\n",
    "    else if (val<0.125) imgVals = [0.74,0.72,0.42,samples.dataMask];\n",
    "    else if (val<0.15) imgVals = [0.69,0.76,0.38,samples.dataMask];\n",
    "    else if (val<0.175) imgVals = [0.64,0.8,0.35,samples.dataMask];\n",
    "    else if (val<0.2) imgVals = [0.57,0.75,0.32,samples.dataMask];\n",
    "    else if (val<0.25) imgVals = [0.5,0.7,0.28,samples.dataMask];\n",
    "    else if (val<0.3) imgVals = [0.44,0.64,0.25,samples.dataMask];\n",
    "    else if (val<0.35) imgVals = [0.38,0.59,0.21,samples.dataMask];\n",
    "    else if (val<0.4) imgVals = [0.31,0.54,0.18,samples.dataMask];\n",
    "    else if (val<0.45) imgVals = [0.25,0.49,0.14,samples.dataMask];\n",
    "    else if (val<0.5) imgVals = [0.19,0.43,0.11,samples.dataMask];\n",
    "    else if (val<0.55) imgVals = [0.13,0.38,0.07,samples.dataMask];\n",
    "    else if (val<0.6) imgVals = [0.06,0.33,0.04,samples.dataMask];\n",
    "    else imgVals = [0,0.27,0,samples.dataMask];    \n",
    "  \t\n",
    "  \treturn {\n",
    "      default: imgVals,\n",
    "      index: [indexVal],\n",
    "      eobrowserStats:[val,isCloud(samples.SCL)?1:0],\n",
    "      dataMask: [samples.dataMask]\n",
    "    };\n",
    "}\n",
    "\n",
    "function isCloud (scl) {\n",
    "  if (scl == 3) { // SC_CLOUD_SHADOW\n",
    "    return false;\n",
    "  } else if (scl == 9) { // SC_CLOUD_HIGH_PROBA\n",
    "    return true; \n",
    "  } else if (scl == 8) { // SC_CLOUD_MEDIUM_PROBA\n",
    "    return true;\n",
    "  } else if (scl == 7) { // SC_CLOUD_LOW_PROBA\n",
    "    return false;\n",
    "  } else if (scl == 10) { // SC_THIN_CIRRUS\n",
    "    return true;\n",
    "  } else if (scl == 11) { // SC_SNOW_ICE\n",
    "    return false;\n",
    "  } else if (scl == 1) { // SC_SATURATED_DEFECTIVE\n",
    "    return false;\n",
    "  } else if (scl == 2) { // SC_DARK_FEATURE_SHADOW\n",
    "     return false;\n",
    "  }\n",
    "  return false;\n",
    "}\"\"\""
   ]
  },
  {
   "cell_type": "code",
   "execution_count": 27,
   "metadata": {},
   "outputs": [],
   "source": [
    "json_request = {\n",
    "  \"input\": {\n",
    "    \"bounds\": {\n",
    "      \"bbox\": bbox,\n",
    "      'properties': {\n",
    "                'crs': 'http://www.opengis.net/def/crs/OGC/1.3/CRS84'\n",
    "                }\n",
    "    },\n",
    "    \"data\": [\n",
    "      {\n",
    "        \"dataFilter\": {\n",
    "          \"timeRange\": {\n",
    "            \"from\": start_date,\n",
    "            \"to\": end_date\n",
    "          },\n",
    "          \"maxCloudCoverage\": \"100\"\n",
    "        },\n",
    "        \"type\": \"sentinel-2-l2a\"\n",
    "      }\n",
    "    ]\n",
    "  },\n",
    "  \"output\": {\n",
    "    \"width\": 1024,\n",
    "    \"height\": 1026.707,\n",
    "    \"responses\": [\n",
    "      {\n",
    "        \"identifier\": \"default\",\n",
    "        \"format\": {\n",
    "          \"type\": \"image/jpeg\"\n",
    "        }\n",
    "      }\n",
    "    ]\n",
    "  },\n",
    "\"evalscript\": evalscript\n",
    "}"
   ]
  },
  {
   "cell_type": "code",
   "execution_count": 28,
   "metadata": {},
   "outputs": [],
   "source": [
    "# Set the request url and headers\n",
    "url_request = 'https://services.sentinel-hub.com/api/v1/process'\n",
    "headers_request = {\n",
    "    \"Authorization\" : \"Bearer %s\" %token['access_token']\n",
    "}\n",
    "\n",
    "#Send the request\n",
    "response = oauth.request(\n",
    "    \"POST\", url_request, headers=headers_request, json = json_request\n",
    ")\n"
   ]
  },
  {
   "cell_type": "code",
   "execution_count": 32,
   "metadata": {},
   "outputs": [
    {
     "data": {
      "text/plain": [
       "<bound method Response.json of <Response [400]>>"
      ]
     },
     "execution_count": 32,
     "metadata": {},
     "output_type": "execute_result"
    }
   ],
   "source": [
    "response.json"
   ]
  },
  {
   "cell_type": "code",
   "execution_count": 29,
   "metadata": {},
   "outputs": [],
   "source": [
    "json_search = {\n",
    "    'bbox': bbox,\n",
    "    'datetime': f'{start_date}T00:00:00Z/{end_date}T23:59:59Z',\n",
    "    'collections': [\"sentinel-2-l2a\"],\n",
    "    'limit': 1\n",
    "}"
   ]
  },
  {
   "cell_type": "code",
   "execution_count": 30,
   "metadata": {},
   "outputs": [],
   "source": [
    "# set the url and headers\n",
    "url_search = 'https://services.sentinel-hub.com/api/v1/catalog/search'\n",
    "headers_search = {\n",
    "  'Content-Type': 'application/json'\n",
    "}\n",
    "\n",
    "# send the request\n",
    "response_search = oauth.request(\n",
    "    \"POST\", url_search, headers=headers_search, json = json_search\n",
    ")"
   ]
  },
  {
   "cell_type": "code",
   "execution_count": 31,
   "metadata": {},
   "outputs": [
    {
     "data": {
      "text/plain": [
       "{'type': 'FeatureCollection',\n",
       " 'features': [],\n",
       " 'links': [{'href': 'https://services.sentinel-hub.com/api/v1/catalog/search',\n",
       "   'rel': 'self',\n",
       "   'type': 'application/json'}],\n",
       " 'context': {'limit': 1, 'returned': 0}}"
      ]
     },
     "execution_count": 31,
     "metadata": {},
     "output_type": "execute_result"
    }
   ],
   "source": [
    "response_search.json()"
   ]
  },
  {
   "cell_type": "code",
   "execution_count": 14,
   "metadata": {},
   "outputs": [
    {
     "ename": "UnidentifiedImageError",
     "evalue": "cannot identify image file <_io.BytesIO object at 0x000001F892422180>",
     "output_type": "error",
     "traceback": [
      "\u001b[1;31m---------------------------------------------------------------------------\u001b[0m",
      "\u001b[1;31mUnidentifiedImageError\u001b[0m                    Traceback (most recent call last)",
      "\u001b[1;32m~\\AppData\\Local\\Temp\\ipykernel_12724\\3173694190.py\u001b[0m in \u001b[0;36m<module>\u001b[1;34m\u001b[0m\n\u001b[0;32m      1\u001b[0m \u001b[1;31m# read the image as numpy array\u001b[0m\u001b[1;33m\u001b[0m\u001b[1;33m\u001b[0m\u001b[0m\n\u001b[1;32m----> 2\u001b[1;33m \u001b[0mimage_arr\u001b[0m \u001b[1;33m=\u001b[0m \u001b[0mnp\u001b[0m\u001b[1;33m.\u001b[0m\u001b[0marray\u001b[0m\u001b[1;33m(\u001b[0m\u001b[0mImage\u001b[0m\u001b[1;33m.\u001b[0m\u001b[0mopen\u001b[0m\u001b[1;33m(\u001b[0m\u001b[0mio\u001b[0m\u001b[1;33m.\u001b[0m\u001b[0mBytesIO\u001b[0m\u001b[1;33m(\u001b[0m\u001b[0mresponse\u001b[0m\u001b[1;33m.\u001b[0m\u001b[0mcontent\u001b[0m\u001b[1;33m)\u001b[0m\u001b[1;33m)\u001b[0m\u001b[1;33m)\u001b[0m\u001b[1;33m\u001b[0m\u001b[1;33m\u001b[0m\u001b[0m\n\u001b[0m\u001b[0;32m      3\u001b[0m \u001b[1;33m\u001b[0m\u001b[0m\n\u001b[0;32m      4\u001b[0m \u001b[1;31m# plot the image for visualization\u001b[0m\u001b[1;33m\u001b[0m\u001b[1;33m\u001b[0m\u001b[0m\n\u001b[0;32m      5\u001b[0m \u001b[0mplt\u001b[0m\u001b[1;33m.\u001b[0m\u001b[0mfigure\u001b[0m\u001b[1;33m(\u001b[0m\u001b[0mfigsize\u001b[0m\u001b[1;33m=\u001b[0m\u001b[1;33m(\u001b[0m\u001b[1;36m16\u001b[0m\u001b[1;33m,\u001b[0m\u001b[1;36m16\u001b[0m\u001b[1;33m)\u001b[0m\u001b[1;33m)\u001b[0m\u001b[1;33m\u001b[0m\u001b[1;33m\u001b[0m\u001b[0m\n",
      "\u001b[1;32mc:\\Users\\simon\\anaconda3\\lib\\site-packages\\PIL\\Image.py\u001b[0m in \u001b[0;36mopen\u001b[1;34m(fp, mode, formats)\u001b[0m\n\u001b[0;32m   3145\u001b[0m     \u001b[1;32mfor\u001b[0m \u001b[0mmessage\u001b[0m \u001b[1;32min\u001b[0m \u001b[0maccept_warnings\u001b[0m\u001b[1;33m:\u001b[0m\u001b[1;33m\u001b[0m\u001b[1;33m\u001b[0m\u001b[0m\n\u001b[0;32m   3146\u001b[0m         \u001b[0mwarnings\u001b[0m\u001b[1;33m.\u001b[0m\u001b[0mwarn\u001b[0m\u001b[1;33m(\u001b[0m\u001b[0mmessage\u001b[0m\u001b[1;33m)\u001b[0m\u001b[1;33m\u001b[0m\u001b[1;33m\u001b[0m\u001b[0m\n\u001b[1;32m-> 3147\u001b[1;33m     raise UnidentifiedImageError(\n\u001b[0m\u001b[0;32m   3148\u001b[0m         \u001b[1;34m\"cannot identify image file %r\"\u001b[0m \u001b[1;33m%\u001b[0m \u001b[1;33m(\u001b[0m\u001b[0mfilename\u001b[0m \u001b[1;32mif\u001b[0m \u001b[0mfilename\u001b[0m \u001b[1;32melse\u001b[0m \u001b[0mfp\u001b[0m\u001b[1;33m)\u001b[0m\u001b[1;33m\u001b[0m\u001b[1;33m\u001b[0m\u001b[0m\n\u001b[0;32m   3149\u001b[0m     )\n",
      "\u001b[1;31mUnidentifiedImageError\u001b[0m: cannot identify image file <_io.BytesIO object at 0x000001F892422180>"
     ]
    }
   ],
   "source": [
    "# read the image as numpy array\n",
    "image_arr = np.array(Image.open(io.BytesIO(response.content)))\n",
    "\n",
    "# plot the image for visualization\n",
    "plt.figure(figsize=(16,16))\n",
    "plt.axis('off')\n",
    "plt.tight_layout()\n",
    "plt.imshow(image_arr)"
   ]
  },
  {
   "cell_type": "code",
   "execution_count": null,
   "metadata": {},
   "outputs": [],
   "source": []
  }
 ],
 "metadata": {
  "kernelspec": {
   "display_name": "base",
   "language": "python",
   "name": "python3"
  },
  "language_info": {
   "codemirror_mode": {
    "name": "ipython",
    "version": 3
   },
   "file_extension": ".py",
   "mimetype": "text/x-python",
   "name": "python",
   "nbconvert_exporter": "python",
   "pygments_lexer": "ipython3",
   "version": "3.9.13"
  },
  "orig_nbformat": 4
 },
 "nbformat": 4,
 "nbformat_minor": 2
}
