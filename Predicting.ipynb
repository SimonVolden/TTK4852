{
 "cells": [
  {
   "cell_type": "markdown",
   "metadata": {},
   "source": [
    "## Predicting"
   ]
  },
  {
   "attachments": {},
   "cell_type": "markdown",
   "metadata": {},
   "source": [
    "**Importing librairies**\n"
   ]
  },
  {
   "cell_type": "code",
   "execution_count": 1,
   "metadata": {},
   "outputs": [],
   "source": [
    "from sklearn.linear_model import SGDClassifier\n",
    "from sklearn.preprocessing import StandardScaler\n",
    "from sklearn.pipeline import make_pipeline\n",
    "import pandas as pd\n",
    "from sklearn.model_selection import train_test_split\n",
    "from sklearn.metrics import accuracy_score\n",
    "import numpy as np\n",
    "import matplotlib.pyplot as plt"
   ]
  },
  {
   "attachments": {},
   "cell_type": "markdown",
   "metadata": {},
   "source": [
    "**Importing data**"
   ]
  },
  {
   "cell_type": "code",
   "execution_count": 37,
   "metadata": {},
   "outputs": [],
   "source": [
    "Filename = \"..\\data\\_tarefelt1.csv\"\n",
    "data = pd.read_csv(Filename)\n",
    "data_x = data.drop(columns = \"label\")\n",
    "data_x = data.drop(columns = \"geometry\")\n",
    "data_y = data.label"
   ]
  },
  {
   "attachments": {},
   "cell_type": "markdown",
   "metadata": {},
   "source": [
    "**Treating the pandas dataframe**"
   ]
  },
  {
   "cell_type": "code",
   "execution_count": null,
   "metadata": {},
   "outputs": [],
   "source": []
  },
  {
   "attachments": {},
   "cell_type": "markdown",
   "metadata": {},
   "source": [
    "**Feature extracting**"
   ]
  },
  {
   "cell_type": "code",
   "execution_count": 38,
   "metadata": {},
   "outputs": [],
   "source": [
    "X_train, X_test, y_train, y_test = train_test_split( data_x, data_y, test_size=0.15, random_state=42)"
   ]
  },
  {
   "attachments": {},
   "cell_type": "markdown",
   "metadata": {},
   "source": [
    "**Training the model**  \n"
   ]
  },
  {
   "cell_type": "code",
   "execution_count": 39,
   "metadata": {},
   "outputs": [],
   "source": [
    "def batch(iterable_X, iterable_y, n=1):\n",
    "    l = len(iterable_X)\n",
    "    for ndx in range(0, l, n):\n",
    "        yield iterable_X[ndx:min(ndx + n, l)], iterable_y[ndx:min(ndx + n, l)]\n"
   ]
  },
  {
   "cell_type": "code",
   "execution_count": 40,
   "metadata": {},
   "outputs": [
    {
     "ename": "AttributeError",
     "evalue": "'numpy.ndarray' object has no attribute 'replace'",
     "output_type": "error",
     "traceback": [
      "\u001b[1;31m---------------------------------------------------------------------------\u001b[0m",
      "\u001b[1;31mAttributeError\u001b[0m                            Traceback (most recent call last)",
      "\u001b[1;32mc:\\Users\\malan\\OneDrive\\Dokumenter\\8. Semester\\EIT\\Git\\TTK4852\\Predicting.ipynb Cell 12\u001b[0m in \u001b[0;36m1\n\u001b[0;32m     <a href='vscode-notebook-cell:/c%3A/Users/malan/OneDrive/Dokumenter/8.%20Semester/EIT/Git/TTK4852/Predicting.ipynb#X12sZmlsZQ%3D%3D?line=9'>10</a>\u001b[0m X_train \u001b[39m=\u001b[39m scaler\u001b[39m.\u001b[39mtransform(X_train)\n\u001b[0;32m     <a href='vscode-notebook-cell:/c%3A/Users/malan/OneDrive/Dokumenter/8.%20Semester/EIT/Git/TTK4852/Predicting.ipynb#X12sZmlsZQ%3D%3D?line=10'>11</a>\u001b[0m X_test \u001b[39m=\u001b[39m scaler\u001b[39m.\u001b[39mtransform(X_test) \n\u001b[1;32m---> <a href='vscode-notebook-cell:/c%3A/Users/malan/OneDrive/Dokumenter/8.%20Semester/EIT/Git/TTK4852/Predicting.ipynb#X12sZmlsZQ%3D%3D?line=12'>13</a>\u001b[0m X_train\u001b[39m.\u001b[39;49mreplace(np\u001b[39m.\u001b[39mnan,\u001b[39m-\u001b[39m\u001b[39m999999\u001b[39m, inplace \u001b[39m=\u001b[39m \u001b[39mTrue\u001b[39;00m) \n\u001b[0;32m     <a href='vscode-notebook-cell:/c%3A/Users/malan/OneDrive/Dokumenter/8.%20Semester/EIT/Git/TTK4852/Predicting.ipynb#X12sZmlsZQ%3D%3D?line=13'>14</a>\u001b[0m X_train\u001b[39m.\u001b[39mreplace([np\u001b[39m.\u001b[39minf, \u001b[39m-\u001b[39mnp\u001b[39m.\u001b[39minf], \u001b[39m-\u001b[39m\u001b[39m999999\u001b[39m, inplace\u001b[39m=\u001b[39m\u001b[39mTrue\u001b[39;00m)\n\u001b[0;32m     <a href='vscode-notebook-cell:/c%3A/Users/malan/OneDrive/Dokumenter/8.%20Semester/EIT/Git/TTK4852/Predicting.ipynb#X12sZmlsZQ%3D%3D?line=15'>16</a>\u001b[0m X_test\u001b[39m.\u001b[39mreplace(np\u001b[39m.\u001b[39mnan,\u001b[39m-\u001b[39m\u001b[39m999999\u001b[39m, inplace \u001b[39m=\u001b[39m \u001b[39mTrue\u001b[39;00m) \n",
      "\u001b[1;31mAttributeError\u001b[0m: 'numpy.ndarray' object has no attribute 'replace'"
     ]
    }
   ],
   "source": [
    "clf = SGDClassifier(max_iter=1000, tol=1e-3)\n",
    "classes = np.unique(y_train)\n",
    "accuracy =[]\n",
    "ROUNDS = 6\n",
    "for _ in range(ROUNDS):\n",
    "    batcherator = batch(X_train, y_train, 10)\n",
    "    for index, (X_train, target) in enumerate(batcherator):\n",
    "        scaler = StandardScaler()\n",
    "        scaler.fit(X_train) \n",
    "        X_train = scaler.transform(X_train)\n",
    "        X_test = scaler.transform(X_test) \n",
    "\n",
    "        \n",
    "        my_array[my_array == 8] = 20 replace(X_train,np.nan,-999999, inplace = True) \n",
    "        X_train.replace([np.inf, -np.inf], -999999, inplace=True)\n",
    "\n",
    "        X_test.replace(np.nan,-999999, inplace = True) \n",
    "        X_test.replace([np.inf, -np.inf], -999999, inplace=True)\n",
    "\n",
    "        clf.partial_fit(X_train, target, classes)\n",
    "        y_predicted = clf.predict(X_test)\n",
    "        accuracy.append(accuracy_score(y_test, y_predicted))"
   ]
  },
  {
   "attachments": {},
   "cell_type": "markdown",
   "metadata": {},
   "source": [
    "**Evaluating Model**\n"
   ]
  },
  {
   "cell_type": "code",
   "execution_count": null,
   "metadata": {},
   "outputs": [],
   "source": [
    "\n",
    "\n",
    "plt.plot(accuracy)\n",
    "plt.title(\"Accuracy for each mini-batch\")\n",
    "plt.ylabel(\"accuracy_score\")\n",
    "plt.xlabel(\"mini-batch count\")"
   ]
  },
  {
   "cell_type": "code",
   "execution_count": null,
   "metadata": {},
   "outputs": [],
   "source": [
    "accuracy = accuracy_score(y_test, y_predicted)\n",
    "print(f\"The accuracy of the model was {np.round(accuracy,2)}\")"
   ]
  }
 ],
 "metadata": {
  "kernelspec": {
   "display_name": "Python 3",
   "language": "python",
   "name": "python3"
  },
  "language_info": {
   "codemirror_mode": {
    "name": "ipython",
    "version": 3
   },
   "file_extension": ".py",
   "mimetype": "text/x-python",
   "name": "python",
   "nbconvert_exporter": "python",
   "pygments_lexer": "ipython3",
   "version": "3.10.6"
  },
  "orig_nbformat": 4,
  "vscode": {
   "interpreter": {
    "hash": "26de051ba29f2982a8de78e945f0abaf191376122a1563185a90213a26c5da77"
   }
  }
 },
 "nbformat": 4,
 "nbformat_minor": 2
}
